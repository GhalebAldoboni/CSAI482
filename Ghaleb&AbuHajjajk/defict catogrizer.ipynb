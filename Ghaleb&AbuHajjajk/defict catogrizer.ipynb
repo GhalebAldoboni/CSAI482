{
 "cells": [
  {
   "cell_type": "code",
   "execution_count": 6,
   "id": "85bb00a4",
   "metadata": {},
   "outputs": [
    {
     "name": "stdout",
     "output_type": "stream",
     "text": [
      "Available GPUs: [0, 1]\n",
      "Starting parallel processing...\n",
      "Processing chunk with GPU 1\n"
     ]
    },
    {
     "name": "stderr",
     "output_type": "stream",
     "text": [
      "\r",
      "Processing on GPU 1:   0%|                                                                                                                      | 0/955 [00:00<?, ?it/s]"
     ]
    },
    {
     "name": "stdout",
     "output_type": "stream",
     "text": [
      "Classifying: Delamination Surface Delamination\n",
      "Processing chunk with GPU 0\n"
     ]
    },
    {
     "name": "stderr",
     "output_type": "stream",
     "text": [
      "\r",
      "Processing on GPU 0:   0%|                                                                                                                      | 0/957 [00:00<?, ?it/s]"
     ]
    },
    {
     "name": "stdout",
     "output_type": "stream",
     "text": [
      "Classifying: Dimensions out of Tolerance Lug hole position OOT_Admin\n",
      "Top label: Resin buildup with confidence score: 0.20944052934646606\n"
     ]
    },
    {
     "name": "stderr",
     "output_type": "stream",
     "text": [
      "\r",
      "Processing on GPU 1:   0%|                                                                                                              | 1/955 [00:00<09:37,  1.65it/s]"
     ]
    },
    {
     "name": "stdout",
     "output_type": "stream",
     "text": [
      "Classifying: Delamination Surface Delamination\n",
      "Top label: Separation noodle joint with confidence score: 0.1819714903831482\n"
     ]
    },
    {
     "name": "stderr",
     "output_type": "stream",
     "text": [
      "\r",
      "Processing on GPU 0:   0%|                                                                                                              | 1/957 [00:00<10:37,  1.50it/s]"
     ]
    },
    {
     "name": "stdout",
     "output_type": "stream",
     "text": [
      "Classifying: foil-/ foreign-inclusion detected FOD located by X ray\n",
      "Top label: Resin buildup with confidence score: 0.20944052934646606\n"
     ]
    },
    {
     "name": "stderr",
     "output_type": "stream",
     "text": [
      "\r",
      "Processing on GPU 1:   0%|▏                                                                                                             | 2/955 [00:00<06:01,  2.64it/s]"
     ]
    },
    {
     "name": "stdout",
     "output_type": "stream",
     "text": [
      "Classifying: Material Expired Material Expired\n",
      "Top label: Foreign Object Damage with confidence score: 0.8164151310920715\n"
     ]
    },
    {
     "name": "stderr",
     "output_type": "stream",
     "text": [
      "\r",
      "Processing on GPU 0:   0%|▏                                                                                                             | 2/957 [00:00<06:27,  2.47it/s]"
     ]
    },
    {
     "name": "stdout",
     "output_type": "stream",
     "text": [
      "Classifying: Delamination Composite Manufacturing Delamination above size limit\n",
      "Top label: Core deformation with confidence score: 0.15185348689556122\n"
     ]
    },
    {
     "name": "stderr",
     "output_type": "stream",
     "text": [
      "\r",
      "Processing on GPU 1:   0%|▎                                                                                                             | 3/955 [00:01<04:55,  3.22it/s]"
     ]
    },
    {
     "name": "stdout",
     "output_type": "stream",
     "text": [
      "Classifying: Bag Leak Vacuum leak\n",
      "Top label: Resin buildup with confidence score: 0.19766445457935333\n"
     ]
    },
    {
     "name": "stderr",
     "output_type": "stream",
     "text": [
      "\r",
      "Processing on GPU 0:   0%|▎                                                                                                             | 3/957 [00:01<05:06,  3.11it/s]"
     ]
    },
    {
     "name": "stdout",
     "output_type": "stream",
     "text": [
      "Classifying: foil-/ foreign-inclusion detected FOD Found Above acceptable size limit.\n",
      "Top label: Foreign Object Damage with confidence score: 0.20811727643013\n"
     ]
    },
    {
     "name": "stderr",
     "output_type": "stream",
     "text": [
      "\r",
      "Processing on GPU 1:   0%|▍                                                                                                             | 4/955 [00:01<04:28,  3.55it/s]"
     ]
    },
    {
     "name": "stdout",
     "output_type": "stream",
     "text": [
      "Classifying: Ply Wrinkle Wrinkle\n",
      "Top label: Foreign Object Damage with confidence score: 0.7770367860794067\n"
     ]
    },
    {
     "name": "stderr",
     "output_type": "stream",
     "text": [
      "\r",
      "Processing on GPU 0:   0%|▍                                                                                                             | 4/957 [00:01<04:24,  3.60it/s]"
     ]
    },
    {
     "name": "stdout",
     "output_type": "stream",
     "text": [
      "Classifying: Surface defects  Depression and counter bore damage\n",
      "Top label: Foreign Object Damage with confidence score: 0.24570398032665253\n"
     ]
    },
    {
     "name": "stderr",
     "output_type": "stream",
     "text": [
      "\r",
      "Processing on GPU 1:   1%|▌                                                                                                             | 5/955 [00:01<04:09,  3.81it/s]"
     ]
    },
    {
     "name": "stdout",
     "output_type": "stream",
     "text": [
      "Classifying: Imprint on Surface Dent Surface Defects\n",
      "Top label: Core displacement with confidence score: 0.2063644677400589\n"
     ]
    },
    {
     "name": "stderr",
     "output_type": "stream",
     "text": [
      "\r",
      "Processing on GPU 0:   1%|▌                                                                                                             | 5/957 [00:01<04:03,  3.91it/s]"
     ]
    },
    {
     "name": "stdout",
     "output_type": "stream",
     "text": [
      "Classifying: Surface defects  Depression and counter bore damage\n",
      "Top label: Splice gap with confidence score: 0.1755487024784088\n"
     ]
    },
    {
     "name": "stderr",
     "output_type": "stream",
     "text": [
      "\r",
      "Processing on GPU 1:   1%|▋                                                                                                             | 6/955 [00:01<03:56,  4.01it/s]"
     ]
    },
    {
     "name": "stdout",
     "output_type": "stream",
     "text": [
      "Classifying: Bag Leak Vacuum leak during cycle\n",
      "Top label: Core displacement with confidence score: 0.2063644677400589\n"
     ]
    },
    {
     "name": "stderr",
     "output_type": "stream",
     "text": [
      "\r",
      "Processing on GPU 0:   1%|▋                                                                                                             | 6/957 [00:01<03:55,  4.04it/s]"
     ]
    },
    {
     "name": "stdout",
     "output_type": "stream",
     "text": [
      "Classifying: nan LAI-Customer Change FACC to AIRBUS-ADMIN\n",
      "Top label: Splice gap with confidence score: 0.16813203692436218\n"
     ]
    },
    {
     "name": "stderr",
     "output_type": "stream",
     "text": [
      "\r",
      "Processing on GPU 1:   1%|▊                                                                                                             | 7/955 [00:01<03:48,  4.15it/s]"
     ]
    },
    {
     "name": "stdout",
     "output_type": "stream",
     "text": [
      "Classifying: Material Expired Material expired before curing\n",
      "Top label: Core displacement with confidence score: 0.32864493131637573\n"
     ]
    },
    {
     "name": "stderr",
     "output_type": "stream",
     "text": [
      "\r",
      "Processing on GPU 0:   1%|▊                                                                                                             | 7/957 [00:01<03:46,  4.19it/s]"
     ]
    },
    {
     "name": "stdout",
     "output_type": "stream",
     "text": [
      "Classifying: foil-/ foreign-inclusion detected FOD above size limit\n",
      "Top label: Splice gap with confidence score: 0.14933939278125763\n"
     ]
    },
    {
     "name": "stderr",
     "output_type": "stream",
     "text": [
      "\r",
      "Processing on GPU 1:   1%|▉                                                                                                             | 8/955 [00:02<03:41,  4.27it/s]"
     ]
    },
    {
     "name": "stdout",
     "output_type": "stream",
     "text": [
      "Classifying: Ply Wrinkle Wrinkle\n",
      "Top label: Foreign Object Damage with confidence score: 0.7292726635932922\n"
     ]
    },
    {
     "name": "stderr",
     "output_type": "stream",
     "text": [
      "\r",
      "Processing on GPU 0:   1%|▉                                                                                                             | 8/957 [00:02<03:42,  4.27it/s]"
     ]
    },
    {
     "name": "stdout",
     "output_type": "stream",
     "text": [
      "Classifying: Honeycomb geometry UNIDENTIFIED DEFECT\n",
      "Top label: Foreign Object Damage with confidence score: 0.24570398032665253\n"
     ]
    },
    {
     "name": "stderr",
     "output_type": "stream",
     "text": [
      "\r",
      "Processing on GPU 1:   1%|█                                                                                                             | 9/955 [00:02<03:38,  4.32it/s]"
     ]
    },
    {
     "name": "stdout",
     "output_type": "stream",
     "text": [
      "Classifying: Cracks  Deviation from framework\n",
      "Top label: Foreign Object Damage with confidence score: 0.22803573310375214\n"
     ]
    },
    {
     "name": "stderr",
     "output_type": "stream",
     "text": [
      "\r",
      "Processing on GPU 0:   1%|█                                                                                                             | 9/957 [00:02<03:39,  4.33it/s]"
     ]
    },
    {
     "name": "stdout",
     "output_type": "stream",
     "text": [
      "Classifying: foil-/ foreign-inclusion detected FOD above size limit\n",
      "Top label: Core displacement with confidence score: 0.3784388601779938\n"
     ]
    },
    {
     "name": "stderr",
     "output_type": "stream",
     "text": [
      "\r",
      "Processing on GPU 1:   1%|█▏                                                                                                           | 10/955 [00:02<03:37,  4.35it/s]"
     ]
    },
    {
     "name": "stdout",
     "output_type": "stream",
     "text": [
      "Classifying: Porosity porosity\n"
     ]
    },
    {
     "name": "stderr",
     "output_type": "stream",
     "text": [
      "You seem to be using the pipelines sequentially on GPU. In order to maximize efficiency please use a dataset\n"
     ]
    },
    {
     "name": "stdout",
     "output_type": "stream",
     "text": [
      "Top label: Foreign Object Damage with confidence score: 0.7292726635932922\n"
     ]
    },
    {
     "name": "stderr",
     "output_type": "stream",
     "text": [
      "\r",
      "Processing on GPU 0:   1%|█▏                                                                                                           | 10/957 [00:02<03:36,  4.38it/s]"
     ]
    },
    {
     "name": "stdout",
     "output_type": "stream",
     "text": [
      "Classifying: Delamination Composite Manufacturing Delamination\n"
     ]
    },
    {
     "name": "stderr",
     "output_type": "stream",
     "text": [
      "You seem to be using the pipelines sequentially on GPU. In order to maximize efficiency please use a dataset\n"
     ]
    },
    {
     "name": "stdout",
     "output_type": "stream",
     "text": [
      "Top label: Core deformation with confidence score: 0.22224535048007965\n"
     ]
    },
    {
     "name": "stderr",
     "output_type": "stream",
     "text": [
      "\r",
      "Processing on GPU 1:   1%|█▎                                                                                                           | 11/955 [00:02<03:36,  4.36it/s]"
     ]
    },
    {
     "name": "stdout",
     "output_type": "stream",
     "text": [
      "Classifying: Delamination Delamination\n",
      "Top label: Resin buildup with confidence score: 0.21785829961299896\n"
     ]
    },
    {
     "name": "stderr",
     "output_type": "stream",
     "text": [
      "\r",
      "Processing on GPU 0:   1%|█▎                                                                                                           | 11/957 [00:02<03:35,  4.40it/s]"
     ]
    },
    {
     "name": "stdout",
     "output_type": "stream",
     "text": [
      "Classifying: Disbonding within part Disbonding within part\n",
      "Top label: Resin buildup with confidence score: 0.28864264488220215\n"
     ]
    },
    {
     "name": "stderr",
     "output_type": "stream",
     "text": [
      "\r",
      "Processing on GPU 1:   1%|█▎                                                                                                           | 12/955 [00:03<03:34,  4.40it/s]"
     ]
    },
    {
     "name": "stdout",
     "output_type": "stream",
     "text": [
      "Classifying: Delamination Synskin Delamination\n",
      "Top label: Core split with confidence score: 0.18174977600574493\n"
     ]
    },
    {
     "name": "stderr",
     "output_type": "stream",
     "text": [
      "\r",
      "Processing on GPU 0:   1%|█▎                                                                                                           | 12/957 [00:03<03:34,  4.40it/s]"
     ]
    },
    {
     "name": "stdout",
     "output_type": "stream",
     "text": [
      "Classifying: Delamination Composite Manufacturing Delamination on upper skin\n",
      "Top label: Separation noodle joint with confidence score: 0.43258166313171387\n"
     ]
    },
    {
     "name": "stderr",
     "output_type": "stream",
     "text": [
      "\r",
      "Processing on GPU 1:   1%|█▍                                                                                                           | 13/955 [00:03<03:32,  4.42it/s]"
     ]
    },
    {
     "name": "stdout",
     "output_type": "stream",
     "text": [
      "Classifying: Splice Defect Splice defect\n",
      "Top label: Resin buildup with confidence score: 0.19696800410747528\n"
     ]
    },
    {
     "name": "stderr",
     "output_type": "stream",
     "text": [
      "\r",
      "Processing on GPU 0:   1%|█▍                                                                                                           | 13/957 [00:03<03:33,  4.41it/s]"
     ]
    },
    {
     "name": "stdout",
     "output_type": "stream",
     "text": [
      "Classifying: Disbonding within part Disbond above size limit.\n",
      "Top label: Splice gap with confidence score: 0.49574118852615356\n"
     ]
    },
    {
     "name": "stderr",
     "output_type": "stream",
     "text": [
      "\r",
      "Processing on GPU 1:   1%|█▌                                                                                                           | 14/955 [00:03<03:31,  4.45it/s]"
     ]
    },
    {
     "name": "stdout",
     "output_type": "stream",
     "text": [
      "Classifying: Porosity VOLUMETRIC POROSITY BEYOND ACC. LIMIT\n",
      "Top label: Core displacement with confidence score: 0.19520142674446106\n"
     ]
    },
    {
     "name": "stderr",
     "output_type": "stream",
     "text": [
      "\r",
      "Processing on GPU 0:   1%|█▌                                                                                                           | 14/957 [00:03<03:31,  4.45it/s]"
     ]
    },
    {
     "name": "stdout",
     "output_type": "stream",
     "text": [
      "Classifying: Delamination Composite Manufacturing Delamination above size limit\n",
      "Top label: Core displacement with confidence score: 0.20531266927719116\n"
     ]
    },
    {
     "name": "stderr",
     "output_type": "stream",
     "text": [
      "\r",
      "Processing on GPU 1:   2%|█▋                                                                                                           | 15/955 [00:03<03:31,  4.45it/s]"
     ]
    },
    {
     "name": "stdout",
     "output_type": "stream",
     "text": [
      "Classifying: Bag Leak ILSS leak\n",
      "Top label: Resin buildup with confidence score: 0.19766445457935333\n"
     ]
    },
    {
     "name": "stderr",
     "output_type": "stream",
     "text": [
      "\r",
      "Processing on GPU 0:   2%|█▋                                                                                                           | 15/957 [00:03<03:30,  4.47it/s]"
     ]
    },
    {
     "name": "stdout",
     "output_type": "stream",
     "text": [
      "Classifying: Disbonding within part DISBOND\n",
      "Top label: Foreign Object Damage with confidence score: 0.4873703718185425\n"
     ]
    },
    {
     "name": "stderr",
     "output_type": "stream",
     "text": [
      "\r",
      "Processing on GPU 1:   2%|█▊                                                                                                           | 16/955 [00:03<03:33,  4.41it/s]"
     ]
    },
    {
     "name": "stdout",
     "output_type": "stream",
     "text": [
      "Classifying: Porosity porosity\n",
      "Top label: Core displacement with confidence score: 0.20056602358818054\n"
     ]
    },
    {
     "name": "stderr",
     "output_type": "stream",
     "text": [
      "\r",
      "Processing on GPU 0:   2%|█▊                                                                                                           | 16/957 [00:04<03:29,  4.49it/s]"
     ]
    },
    {
     "name": "stdout",
     "output_type": "stream",
     "text": [
      "Classifying: Delamination Composite Manufacturing Delamination on the core CHF insert\n",
      "Top label: Core deformation with confidence score: 0.22224535048007965\n"
     ]
    },
    {
     "name": "stderr",
     "output_type": "stream",
     "text": [
      "\r",
      "Processing on GPU 1:   2%|█▉                                                                                                           | 17/955 [00:04<03:32,  4.42it/s]"
     ]
    },
    {
     "name": "stdout",
     "output_type": "stream",
     "text": [
      "Classifying: Demoulding Damage (Core Crush) impact damage\n",
      "Top label: Core deformation with confidence score: 0.6853840351104736\n"
     ]
    },
    {
     "name": "stderr",
     "output_type": "stream",
     "text": [
      "\r",
      "Processing on GPU 0:   2%|█▉                                                                                                           | 17/957 [00:04<03:29,  4.48it/s]"
     ]
    },
    {
     "name": "stdout",
     "output_type": "stream",
     "text": [
      "Classifying: Core fill incorrect (Sandwich) Potting inadequate\n",
      "Top label: Core deformation with confidence score: 0.5284091234207153\n"
     ]
    },
    {
     "name": "stderr",
     "output_type": "stream",
     "text": [
      "\r",
      "Processing on GPU 1:   2%|██                                                                                                           | 18/955 [00:04<03:30,  4.46it/s]"
     ]
    },
    {
     "name": "stdout",
     "output_type": "stream",
     "text": [
      "Classifying: Dimensional Deviation EOC OTT\n",
      "Top label: Core deformation with confidence score: 0.37986916303634644\n"
     ]
    },
    {
     "name": "stderr",
     "output_type": "stream",
     "text": [
      "\r",
      "Processing on GPU 0:   2%|██                                                                                                           | 18/957 [00:04<03:30,  4.46it/s]"
     ]
    },
    {
     "name": "stdout",
     "output_type": "stream",
     "text": [
      "Classifying: Disbonding within part Disbond from toolside\n",
      "Top label: Foreign Object Damage with confidence score: 0.6047659516334534\n"
     ]
    },
    {
     "name": "stderr",
     "output_type": "stream",
     "text": [
      "\r",
      "Processing on GPU 1:   2%|██▏                                                                                                          | 19/955 [00:04<03:29,  4.47it/s]"
     ]
    },
    {
     "name": "stdout",
     "output_type": "stream",
     "text": [
      "Classifying: Dimensional Deviation Thickness issue OOT\n",
      "Top label: Core displacement with confidence score: 0.19714780151844025\n"
     ]
    },
    {
     "name": "stderr",
     "output_type": "stream",
     "text": [
      "\r",
      "Processing on GPU 0:   2%|██▏                                                                                                          | 19/957 [00:04<03:29,  4.48it/s]"
     ]
    },
    {
     "name": "stdout",
     "output_type": "stream",
     "text": [
      "Classifying: Disbonding within part DISBOND\n",
      "Top label: Foreign Object Damage with confidence score: 0.694970965385437\n"
     ]
    },
    {
     "name": "stderr",
     "output_type": "stream",
     "text": [
      "\r",
      "Processing on GPU 1:   2%|██▎                                                                                                          | 20/955 [00:04<03:27,  4.50it/s]"
     ]
    },
    {
     "name": "stdout",
     "output_type": "stream",
     "text": [
      "Classifying: Porosity porosity\n",
      "Top label: Core displacement with confidence score: 0.20056602358818054\n"
     ]
    },
    {
     "name": "stderr",
     "output_type": "stream",
     "text": [
      "\r",
      "Processing on GPU 0:   2%|██▎                                                                                                          | 20/957 [00:04<03:31,  4.44it/s]"
     ]
    },
    {
     "name": "stdout",
     "output_type": "stream",
     "text": [
      "Classifying: Delamination Composite Manufacturing Delamination above size limit\n",
      "Top label: Core deformation with confidence score: 0.22224535048007965\n"
     ]
    },
    {
     "name": "stderr",
     "output_type": "stream",
     "text": [
      "\r",
      "Processing on GPU 1:   2%|██▍                                                                                                          | 21/955 [00:05<03:27,  4.50it/s]"
     ]
    },
    {
     "name": "stdout",
     "output_type": "stream",
     "text": [
      "Classifying: Porosity porosity\n",
      "Top label: Resin buildup with confidence score: 0.19766445457935333\n"
     ]
    },
    {
     "name": "stderr",
     "output_type": "stream",
     "text": [
      "\r",
      "Processing on GPU 0:   2%|██▍                                                                                                          | 21/957 [00:05<03:29,  4.46it/s]"
     ]
    },
    {
     "name": "stdout",
     "output_type": "stream",
     "text": [
      "Classifying: Honeycomb geometry UNIDENTIFIED DEFECT\n",
      "Top label: Core deformation with confidence score: 0.22224535048007965\n"
     ]
    },
    {
     "name": "stderr",
     "output_type": "stream",
     "text": [
      "\r",
      "Processing on GPU 1:   2%|██▌                                                                                                          | 22/955 [00:05<03:26,  4.51it/s]"
     ]
    },
    {
     "name": "stdout",
     "output_type": "stream",
     "text": [
      "Classifying: Splice Defect Core Splice Defect\n",
      "Top label: Foreign Object Damage with confidence score: 0.22803573310375214\n"
     ]
    },
    {
     "name": "stderr",
     "output_type": "stream",
     "text": [
      "\r",
      "Processing on GPU 0:   2%|██▌                                                                                                          | 22/957 [00:05<03:30,  4.45it/s]"
     ]
    },
    {
     "name": "stdout",
     "output_type": "stream",
     "text": [
      "Classifying: Core fill incorrect (Sandwich) Potting inadequate\n",
      "Top label: Core split with confidence score: 0.45720699429512024\n"
     ]
    },
    {
     "name": "stderr",
     "output_type": "stream",
     "text": [
      "\r",
      "Processing on GPU 1:   2%|██▋                                                                                                          | 23/955 [00:05<03:27,  4.49it/s]"
     ]
    },
    {
     "name": "stdout",
     "output_type": "stream",
     "text": [
      "Classifying: Delamination NDT Initial Failure\n",
      "Top label: Core deformation with confidence score: 0.37986916303634644\n"
     ]
    },
    {
     "name": "stderr",
     "output_type": "stream",
     "text": [
      "\r",
      "Processing on GPU 0:   2%|██▌                                                                                                          | 23/957 [00:05<03:28,  4.48it/s]"
     ]
    },
    {
     "name": "stdout",
     "output_type": "stream",
     "text": [
      "Classifying: Honeycomb geometry Core Sag\n",
      "Top label: Separation noodle joint with confidence score: 0.23277020454406738\n"
     ]
    },
    {
     "name": "stderr",
     "output_type": "stream",
     "text": [
      "\r",
      "Processing on GPU 1:   3%|██▋                                                                                                          | 24/955 [00:05<03:27,  4.49it/s]"
     ]
    },
    {
     "name": "stdout",
     "output_type": "stream",
     "text": [
      "Classifying: Surface defects Core over sanded\n",
      "Top label: Core deformation with confidence score: 0.5280296802520752\n"
     ]
    },
    {
     "name": "stderr",
     "output_type": "stream",
     "text": [
      "\r",
      "Processing on GPU 0:   3%|██▋                                                                                                          | 24/957 [00:05<03:29,  4.46it/s]"
     ]
    },
    {
     "name": "stdout",
     "output_type": "stream",
     "text": [
      "Classifying: foil-/ foreign-inclusion detected found indication of F.O.D\n",
      "Top label: Core deformation with confidence score: 0.580962061882019\n"
     ]
    },
    {
     "name": "stderr",
     "output_type": "stream",
     "text": [
      "\r",
      "Processing on GPU 1:   3%|██▊                                                                                                          | 25/955 [00:05<03:25,  4.52it/s]"
     ]
    },
    {
     "name": "stdout",
     "output_type": "stream",
     "text": [
      "Classifying: Multiple delamination NDT Second Failure\n",
      "Top label: Foreign Object Damage with confidence score: 0.8133258819580078\n"
     ]
    },
    {
     "name": "stderr",
     "output_type": "stream",
     "text": [
      "\r",
      "Processing on GPU 0:   3%|██▊                                                                                                          | 25/957 [00:06<03:30,  4.42it/s]"
     ]
    },
    {
     "name": "stdout",
     "output_type": "stream",
     "text": [
      "Classifying: foil-/ foreign-inclusion detected X-Ray FOD found above acceptable limit\n",
      "Top label: Foreign Object Damage with confidence score: 0.21682029962539673\n"
     ]
    },
    {
     "name": "stderr",
     "output_type": "stream",
     "text": [
      "\r",
      "Processing on GPU 1:   3%|██▉                                                                                                          | 26/955 [00:06<03:25,  4.51it/s]"
     ]
    },
    {
     "name": "stdout",
     "output_type": "stream",
     "text": [
      "Classifying: Disbond Disbond\n",
      "Top label: Foreign Object Damage with confidence score: 0.8521271347999573\n"
     ]
    },
    {
     "name": "stderr",
     "output_type": "stream",
     "text": [
      "\r",
      "Processing on GPU 0:   3%|██▉                                                                                                          | 26/957 [00:06<03:29,  4.45it/s]"
     ]
    },
    {
     "name": "stdout",
     "output_type": "stream",
     "text": [
      "Classifying: Traceability not recorded Freeze in/out not captured on SAP-Admin\n",
      "Top label: Core split with confidence score: 0.2206205129623413\n"
     ]
    },
    {
     "name": "stderr",
     "output_type": "stream",
     "text": [
      "\r",
      "Processing on GPU 1:   3%|███                                                                                                          | 27/955 [00:06<03:25,  4.52it/s]"
     ]
    },
    {
     "name": "stdout",
     "output_type": "stream",
     "text": [
      "Classifying: Dents Over Splice Lines Depresioon over core slpice line\n",
      "Top label: Splice gap with confidence score: 0.2333582639694214\n"
     ]
    },
    {
     "name": "stderr",
     "output_type": "stream",
     "text": [
      "\r",
      "Processing on GPU 0:   3%|███                                                                                                          | 27/957 [00:06<03:30,  4.42it/s]"
     ]
    },
    {
     "name": "stdout",
     "output_type": "stream",
     "text": [
      "Classifying: Expired Material Expired RT life\n",
      "Top label: Core displacement with confidence score: 0.3904455900192261\n"
     ]
    },
    {
     "name": "stderr",
     "output_type": "stream",
     "text": [
      "\r",
      "Processing on GPU 1:   3%|███▏                                                                                                         | 28/955 [00:06<03:24,  4.53it/s]"
     ]
    },
    {
     "name": "stdout",
     "output_type": "stream",
     "text": [
      "Classifying: Core Step Core Step\n",
      "Top label: Core split with confidence score: 0.1745176613330841\n"
     ]
    },
    {
     "name": "stderr",
     "output_type": "stream",
     "text": [
      "\r",
      "Processing on GPU 0:   3%|███▏                                                                                                         | 28/957 [00:06<03:28,  4.45it/s]"
     ]
    },
    {
     "name": "stdout",
     "output_type": "stream",
     "text": [
      "Classifying: Traceability not recorded Freeze in/out not captured on SAP-Admin\n",
      "Top label: Core split with confidence score: 0.5320346355438232\n"
     ]
    },
    {
     "name": "stderr",
     "output_type": "stream",
     "text": [
      "\r",
      "Processing on GPU 1:   3%|███▎                                                                                                         | 29/955 [00:06<03:24,  4.52it/s]"
     ]
    },
    {
     "name": "stdout",
     "output_type": "stream",
     "text": [
      "Classifying: Disbond  Disbond\n",
      "Top label: Splice gap with confidence score: 0.2333582639694214\n"
     ]
    },
    {
     "name": "stderr",
     "output_type": "stream",
     "text": [
      "\r",
      "Processing on GPU 0:   3%|███▎                                                                                                         | 29/957 [00:06<03:28,  4.44it/s]"
     ]
    },
    {
     "name": "stdout",
     "output_type": "stream",
     "text": [
      "Classifying: Dimensions out of Tolerance Flange width OOT_Admin\n",
      "Top label: Core displacement with confidence score: 0.19647462666034698\n"
     ]
    },
    {
     "name": "stderr",
     "output_type": "stream",
     "text": [
      "\r",
      "Processing on GPU 1:   3%|███▍                                                                                                         | 30/955 [00:07<03:24,  4.52it/s]"
     ]
    },
    {
     "name": "stdout",
     "output_type": "stream",
     "text": [
      "Classifying: Missing Omitted holes from CNC\n",
      "Top label: Separation noodle joint with confidence score: 0.21754397451877594\n"
     ]
    },
    {
     "name": "stderr",
     "output_type": "stream",
     "text": [
      "\r",
      "Processing on GPU 0:   3%|███▍                                                                                                         | 30/957 [00:07<03:27,  4.47it/s]"
     ]
    },
    {
     "name": "stdout",
     "output_type": "stream",
     "text": [
      "Classifying: Core fill incorrect (Sandwich) Potting inadequate\n",
      "Top label: Core deformation with confidence score: 0.3066060543060303\n"
     ]
    },
    {
     "name": "stderr",
     "output_type": "stream",
     "text": [
      "\r",
      "Processing on GPU 1:   3%|███▌                                                                                                         | 31/955 [00:07<03:24,  4.52it/s]"
     ]
    },
    {
     "name": "stdout",
     "output_type": "stream",
     "text": [
      "Classifying: Dimensional Deviation Thickness OTT\n",
      "Top label: Core deformation with confidence score: 0.37986916303634644\n"
     ]
    },
    {
     "name": "stderr",
     "output_type": "stream",
     "text": [
      "\r",
      "Processing on GPU 0:   3%|███▌                                                                                                         | 31/957 [00:07<03:26,  4.49it/s]"
     ]
    },
    {
     "name": "stdout",
     "output_type": "stream",
     "text": [
      "Classifying: Traceability not recorded Freeze in/out not captured on SAP-Admin\n",
      "Top label: Foreign Object Damage with confidence score: 0.23480090498924255\n"
     ]
    },
    {
     "name": "stderr",
     "output_type": "stream",
     "text": [
      "\r",
      "Processing on GPU 1:   3%|███▋                                                                                                         | 32/955 [00:07<03:24,  4.51it/s]"
     ]
    },
    {
     "name": "stdout",
     "output_type": "stream",
     "text": [
      "Classifying: Porosity porosity\n",
      "Top label: Splice gap with confidence score: 0.2333582639694214\n"
     ]
    },
    {
     "name": "stderr",
     "output_type": "stream",
     "text": [
      "\r",
      "Processing on GPU 0:   3%|███▋                                                                                                         | 32/957 [00:07<03:25,  4.51it/s]"
     ]
    },
    {
     "name": "stdout",
     "output_type": "stream",
     "text": [
      "Classifying: Surface defects ADMIN -suspect FOD\n",
      "Top label: Core deformation with confidence score: 0.22224535048007965\n"
     ]
    },
    {
     "name": "stderr",
     "output_type": "stream",
     "text": [
      "\r",
      "Processing on GPU 1:   3%|███▊                                                                                                         | 33/955 [00:07<03:24,  4.51it/s]"
     ]
    },
    {
     "name": "stdout",
     "output_type": "stream",
     "text": [
      "Classifying: Dimensional Deviation EOC OTT\n",
      "Top label: Foreign Object Damage with confidence score: 0.8287071585655212\n"
     ]
    },
    {
     "name": "stderr",
     "output_type": "stream",
     "text": [
      "\r",
      "Processing on GPU 0:   3%|███▊                                                                                                         | 33/957 [00:07<03:25,  4.49it/s]"
     ]
    },
    {
     "name": "stdout",
     "output_type": "stream",
     "text": [
      "Classifying: FOD FOD found on bag-side of the part\n",
      "Top label: Foreign Object Damage with confidence score: 0.6047659516334534\n"
     ]
    },
    {
     "name": "stderr",
     "output_type": "stream",
     "text": [
      "\r",
      "Processing on GPU 1:   4%|███▉                                                                                                         | 34/955 [00:07<03:24,  4.50it/s]"
     ]
    },
    {
     "name": "stdout",
     "output_type": "stream",
     "text": [
      "Classifying: Ply Wrinkle Wrinkle\n",
      "Top label: Foreign Object Damage with confidence score: 0.9087293744087219\n"
     ]
    },
    {
     "name": "stderr",
     "output_type": "stream",
     "text": [
      "\r",
      "Processing on GPU 0:   4%|███▊                                                                                                         | 34/957 [00:08<03:24,  4.50it/s]"
     ]
    },
    {
     "name": "stdout",
     "output_type": "stream",
     "text": [
      "Classifying: Traceability not recorded Freeze in/out not captured on SAP-Admin\n",
      "Top label: Foreign Object Damage with confidence score: 0.24570398032665253\n"
     ]
    },
    {
     "name": "stderr",
     "output_type": "stream",
     "text": [
      "\r",
      "Processing on GPU 1:   4%|███▉                                                                                                         | 35/955 [00:08<03:23,  4.52it/s]"
     ]
    },
    {
     "name": "stdout",
     "output_type": "stream",
     "text": [
      "Classifying: Imprint on Surface Dent shallow lines found\n",
      "Top label: Splice gap with confidence score: 0.2333582639694214\n"
     ]
    },
    {
     "name": "stderr",
     "output_type": "stream",
     "text": [
      "\r",
      "Processing on GPU 0:   4%|███▉                                                                                                         | 35/957 [00:08<03:25,  4.48it/s]"
     ]
    },
    {
     "name": "stdout",
     "output_type": "stream",
     "text": [
      "Classifying: Honeycomb geometry Higher attenuation\n",
      "Top label: Core displacement with confidence score: 0.17168563604354858\n"
     ]
    },
    {
     "name": "stderr",
     "output_type": "stream",
     "text": [
      "\r",
      "Processing on GPU 1:   4%|████                                                                                                         | 36/955 [00:08<03:22,  4.54it/s]"
     ]
    },
    {
     "name": "stdout",
     "output_type": "stream",
     "text": [
      "Classifying: Disbond  Disbond\n",
      "Top label: Resin buildup with confidence score: 0.22129572927951813\n"
     ]
    },
    {
     "name": "stderr",
     "output_type": "stream",
     "text": [
      "\r",
      "Processing on GPU 0:   4%|████                                                                                                         | 36/957 [00:08<03:27,  4.44it/s]"
     ]
    },
    {
     "name": "stdout",
     "output_type": "stream",
     "text": [
      "Classifying: Honeycomb geometry UNIDENTIFIED DEFECT\n",
      "Top label: Core displacement with confidence score: 0.19647462666034698\n"
     ]
    },
    {
     "name": "stderr",
     "output_type": "stream",
     "text": [
      "\r",
      "Processing on GPU 1:   4%|████▏                                                                                                        | 37/955 [00:08<03:21,  4.56it/s]"
     ]
    },
    {
     "name": "stdout",
     "output_type": "stream",
     "text": [
      "Classifying: Rejectable Ultrasonic Inspection Indicat Unidentified defect\n",
      "Top label: Foreign Object Damage with confidence score: 0.22803573310375214\n"
     ]
    },
    {
     "name": "stderr",
     "output_type": "stream",
     "text": [
      "\r",
      "Processing on GPU 0:   4%|████▏                                                                                                        | 37/957 [00:08<03:27,  4.44it/s]"
     ]
    },
    {
     "name": "stdout",
     "output_type": "stream",
     "text": [
      "Classifying: Material Missing or Incorrect positioned missing adhesive\n",
      "Top label: Core deformation with confidence score: 0.16078706085681915\n"
     ]
    },
    {
     "name": "stderr",
     "output_type": "stream",
     "text": [
      "\r",
      "Processing on GPU 1:   4%|████▎                                                                                                        | 38/955 [00:08<03:21,  4.54it/s]"
     ]
    },
    {
     "name": "stdout",
     "output_type": "stream",
     "text": [
      "Classifying: Resin Starvation See LT\n",
      "Top label: Core displacement with confidence score: 0.15821601450443268\n"
     ]
    },
    {
     "name": "stderr",
     "output_type": "stream",
     "text": [
      "\r",
      "Processing on GPU 0:   4%|████▎                                                                                                        | 38/957 [00:08<03:27,  4.43it/s]"
     ]
    },
    {
     "name": "stdout",
     "output_type": "stream",
     "text": [
      "Classifying: Surface defects counter bore damage\n",
      "Top label: Core displacement with confidence score: 0.1675357073545456\n"
     ]
    },
    {
     "name": "stderr",
     "output_type": "stream",
     "text": [
      "\r",
      "Processing on GPU 1:   4%|████▍                                                                                                        | 39/955 [00:09<03:20,  4.56it/s]"
     ]
    },
    {
     "name": "stdout",
     "output_type": "stream",
     "text": [
      "Classifying: Porosity volumetric porosity above acceptable lim\n",
      "Top label: Core displacement with confidence score: 0.16584165394306183\n"
     ]
    },
    {
     "name": "stderr",
     "output_type": "stream",
     "text": [
      "\r",
      "Processing on GPU 0:   4%|████▍                                                                                                        | 39/957 [00:09<03:26,  4.44it/s]"
     ]
    },
    {
     "name": "stdout",
     "output_type": "stream",
     "text": [
      "Classifying: Material Qualification ADMIN-new core\n",
      "Top label: Core displacement with confidence score: 0.16099300980567932\n"
     ]
    },
    {
     "name": "stderr",
     "output_type": "stream",
     "text": [
      "\r",
      "Processing on GPU 1:   4%|████▌                                                                                                        | 40/955 [00:09<03:21,  4.54it/s]"
     ]
    },
    {
     "name": "stdout",
     "output_type": "stream",
     "text": [
      "Classifying: Delamination NDT Initial Failure\n",
      "Top label: Core displacement with confidence score: 0.5857280492782593\n"
     ]
    },
    {
     "name": "stderr",
     "output_type": "stream",
     "text": [
      "\r",
      "Processing on GPU 0:   4%|████▌                                                                                                        | 40/957 [00:09<03:25,  4.47it/s]"
     ]
    },
    {
     "name": "stdout",
     "output_type": "stream",
     "text": [
      "Classifying: Disbonding within part Disbond above size limit.\n",
      "Top label: Separation noodle joint with confidence score: 0.23277020454406738\n"
     ]
    },
    {
     "name": "stderr",
     "output_type": "stream",
     "text": [
      "\r",
      "Processing on GPU 1:   4%|████▋                                                                                                        | 41/955 [00:09<03:22,  4.52it/s]"
     ]
    },
    {
     "name": "stdout",
     "output_type": "stream",
     "text": [
      "Classifying: Porosity Volumetric Porosity above limits\n",
      "Top label: Core displacement with confidence score: 0.19520142674446106\n"
     ]
    },
    {
     "name": "stderr",
     "output_type": "stream",
     "text": [
      "\r",
      "Processing on GPU 0:   4%|████▋                                                                                                        | 41/957 [00:09<03:23,  4.49it/s]"
     ]
    },
    {
     "name": "stdout",
     "output_type": "stream",
     "text": [
      "Classifying: foil-/ foreign-inclusion detected  suspected FOD detected by X ray inspect\n",
      "Top label: Core displacement with confidence score: 0.18238063156604767\n"
     ]
    },
    {
     "name": "stderr",
     "output_type": "stream",
     "text": [
      "\r",
      "Processing on GPU 1:   4%|████▊                                                                                                        | 42/955 [00:09<03:22,  4.52it/s]"
     ]
    },
    {
     "name": "stdout",
     "output_type": "stream",
     "text": [
      "Classifying: Material Expired Material Expired due to clocking issue\n",
      "Top label: Foreign Object Damage with confidence score: 0.8959780335426331\n"
     ]
    },
    {
     "name": "stderr",
     "output_type": "stream",
     "text": [
      "\r",
      "Processing on GPU 0:   4%|████▊                                                                                                        | 42/957 [00:09<03:23,  4.49it/s]"
     ]
    },
    {
     "name": "stdout",
     "output_type": "stream",
     "text": [
      "Classifying: Honeycomb geometry UT Signal Saturation in the Honey Comb.\n",
      "Top label: Core split with confidence score: 0.1744670867919922\n"
     ]
    },
    {
     "name": "stderr",
     "output_type": "stream",
     "text": [
      "\r",
      "Processing on GPU 1:   5%|████▉                                                                                                        | 43/955 [00:09<03:21,  4.52it/s]"
     ]
    },
    {
     "name": "stdout",
     "output_type": "stream",
     "text": [
      "Classifying: Core Damage, Torn Nodal Joints torn nadal joints\n",
      "Top label: Resin buildup with confidence score: 0.2066579908132553\n"
     ]
    },
    {
     "name": "stderr",
     "output_type": "stream",
     "text": [
      "\r",
      "Processing on GPU 0:   4%|████▉                                                                                                        | 43/957 [00:10<03:23,  4.49it/s]"
     ]
    },
    {
     "name": "stdout",
     "output_type": "stream",
     "text": [
      "Classifying: Surface defects Multiple defects\n",
      "Top label: Core deformation with confidence score: 0.6946016550064087\n"
     ]
    },
    {
     "name": "stderr",
     "output_type": "stream",
     "text": [
      "\r",
      "Processing on GPU 1:   5%|█████                                                                                                        | 44/955 [00:10<03:22,  4.50it/s]"
     ]
    },
    {
     "name": "stdout",
     "output_type": "stream",
     "text": [
      "Classifying: Delamination NDT Initial Failure\n",
      "Top label: Splice gap with confidence score: 0.15662220120429993\n"
     ]
    },
    {
     "name": "stderr",
     "output_type": "stream",
     "text": [
      "\r",
      "Processing on GPU 0:   5%|█████                                                                                                        | 44/957 [00:10<03:20,  4.55it/s]"
     ]
    },
    {
     "name": "stdout",
     "output_type": "stream",
     "text": [
      "Classifying: Surface defects Multiple defects\n",
      "Top label: Separation noodle joint with confidence score: 0.23277020454406738\n"
     ]
    },
    {
     "name": "stderr",
     "output_type": "stream",
     "text": [
      "\r",
      "Processing on GPU 1:   5%|█████▏                                                                                                       | 45/955 [00:10<03:27,  4.39it/s]"
     ]
    },
    {
     "name": "stdout",
     "output_type": "stream",
     "text": [
      "Classifying: Delamination NDT Second Failure\n",
      "Top label: Splice gap with confidence score: 0.15662220120429993\n"
     ]
    },
    {
     "name": "stderr",
     "output_type": "stream",
     "text": [
      "\r",
      "Processing on GPU 0:   5%|█████▏                                                                                                       | 45/957 [00:10<03:17,  4.63it/s]"
     ]
    },
    {
     "name": "stdout",
     "output_type": "stream",
     "text": [
      "Classifying: foil-/ foreign-inclusion detected Susbected FOD found from tool side\n",
      "Top label: Foreign Object Damage with confidence score: 0.20595213770866394\n"
     ]
    },
    {
     "name": "stderr",
     "output_type": "stream",
     "text": [
      "\r",
      "Processing on GPU 1:   5%|█████▎                                                                                                       | 46/955 [00:10<03:29,  4.34it/s]"
     ]
    },
    {
     "name": "stdout",
     "output_type": "stream",
     "text": [
      "Classifying: Delamination NDT Second Failure\n",
      "Top label: Foreign Object Damage with confidence score: 0.8392975330352783\n"
     ]
    },
    {
     "name": "stderr",
     "output_type": "stream",
     "text": [
      "\r",
      "Processing on GPU 0:   5%|█████▏                                                                                                       | 46/957 [00:10<03:18,  4.59it/s]"
     ]
    },
    {
     "name": "stdout",
     "output_type": "stream",
     "text": [
      "Classifying: Delamination Composite Manufacturing  Delamination on upper skin\n",
      "Top label: Foreign Object Damage with confidence score: 0.20595213770866394\n"
     ]
    },
    {
     "name": "stderr",
     "output_type": "stream",
     "text": [
      "\r",
      "Processing on GPU 1:   5%|█████▎                                                                                                       | 47/955 [00:10<03:26,  4.39it/s]"
     ]
    },
    {
     "name": "stdout",
     "output_type": "stream",
     "text": [
      "Classifying: Porosity NDT Second Failure\n",
      "Top label: Core split with confidence score: 0.17265202105045319\n"
     ]
    },
    {
     "name": "stderr",
     "output_type": "stream",
     "text": [
      "\r",
      "Processing on GPU 0:   5%|█████▎                                                                                                       | 47/957 [00:10<03:19,  4.56it/s]"
     ]
    },
    {
     "name": "stdout",
     "output_type": "stream",
     "text": [
      "Classifying: Surface defects Leak test fail\n",
      "Top label: Separation noodle joint with confidence score: 0.2786901593208313\n"
     ]
    },
    {
     "name": "stderr",
     "output_type": "stream",
     "text": [
      "\r",
      "Processing on GPU 1:   5%|█████▍                                                                                                       | 48/955 [00:11<03:26,  4.40it/s]"
     ]
    },
    {
     "name": "stdout",
     "output_type": "stream",
     "text": [
      "Classifying: Delamination betw UpperSkin & above Core NDT Second Failure\n",
      "Top label: Foreign Object Damage with confidence score: 0.20323045551776886\n"
     ]
    },
    {
     "name": "stderr",
     "output_type": "stream",
     "text": [
      "\r",
      "Processing on GPU 0:   5%|█████▍                                                                                                       | 48/957 [00:11<03:20,  4.53it/s]"
     ]
    },
    {
     "name": "stdout",
     "output_type": "stream",
     "text": [
      "Classifying: foil-/ foreign-inclusion detected FOD Located above size limit.\n",
      "Top label: Core deformation with confidence score: 0.3506743609905243\n"
     ]
    },
    {
     "name": "stderr",
     "output_type": "stream",
     "text": [
      "\r",
      "Processing on GPU 1:   5%|█████▌                                                                                                       | 49/955 [00:11<03:23,  4.44it/s]"
     ]
    },
    {
     "name": "stdout",
     "output_type": "stream",
     "text": [
      "Classifying: Functional Defect General Autoclacle cure cycle not per procedure\n",
      "Top label: Foreign Object Damage with confidence score: 0.7425157427787781\n"
     ]
    },
    {
     "name": "stderr",
     "output_type": "stream",
     "text": [
      "\r",
      "Processing on GPU 0:   5%|█████▌                                                                                                       | 49/957 [00:11<03:19,  4.55it/s]"
     ]
    },
    {
     "name": "stdout",
     "output_type": "stream",
     "text": [
      "Classifying: foil-/ foreign-inclusion detected TC pin on trimmed edge-Admin\n",
      "Top label: Core split with confidence score: 0.19671250879764557\n"
     ]
    },
    {
     "name": "stderr",
     "output_type": "stream",
     "text": [
      "\r",
      "Processing on GPU 1:   5%|█████▋                                                                                                       | 50/955 [00:11<03:28,  4.33it/s]"
     ]
    },
    {
     "name": "stdout",
     "output_type": "stream",
     "text": [
      "Classifying: Delamination Delamination\n",
      "Top label: Foreign Object Damage with confidence score: 0.34456396102905273\n"
     ]
    },
    {
     "name": "stderr",
     "output_type": "stream",
     "text": [
      "\r",
      "Processing on GPU 0:   5%|█████▋                                                                                                       | 50/957 [00:11<03:18,  4.56it/s]"
     ]
    },
    {
     "name": "stdout",
     "output_type": "stream",
     "text": [
      "Classifying: Curing Temperature/Measurement Thermocouple Failure\n",
      "Top label: Resin buildup with confidence score: 0.28864264488220215\n"
     ]
    },
    {
     "name": "stderr",
     "output_type": "stream",
     "text": [
      "\r",
      "Processing on GPU 1:   5%|█████▊                                                                                                       | 51/955 [00:11<03:26,  4.38it/s]"
     ]
    },
    {
     "name": "stdout",
     "output_type": "stream",
     "text": [
      "Classifying: Porosity porosity\n",
      "Top label: Core displacement with confidence score: 0.20213672518730164\n"
     ]
    },
    {
     "name": "stderr",
     "output_type": "stream",
     "text": [
      "\r",
      "Processing on GPU 0:   5%|█████▊                                                                                                       | 51/957 [00:11<03:19,  4.55it/s]"
     ]
    },
    {
     "name": "stdout",
     "output_type": "stream",
     "text": [
      "Classifying: Delamination Composite Manufacturing nan\n",
      "Top label: Core deformation with confidence score: 0.22224535048007965\n"
     ]
    },
    {
     "name": "stderr",
     "output_type": "stream",
     "text": [
      "\r",
      "Processing on GPU 1:   5%|█████▉                                                                                                       | 52/955 [00:12<03:23,  4.44it/s]"
     ]
    },
    {
     "name": "stdout",
     "output_type": "stream",
     "text": [
      "Classifying: Material Expired Material expired before curing\n",
      "Top label: Resin buildup with confidence score: 0.4230847954750061\n"
     ]
    },
    {
     "name": "stderr",
     "output_type": "stream",
     "text": [
      "\r",
      "Processing on GPU 0:   5%|█████▉                                                                                                       | 52/957 [00:12<03:19,  4.53it/s]"
     ]
    },
    {
     "name": "stdout",
     "output_type": "stream",
     "text": [
      "Classifying: Delamination Composite Manufacturing  Delamination on upper skin\n",
      "Top label: Splice gap with confidence score: 0.14933939278125763\n"
     ]
    },
    {
     "name": "stderr",
     "output_type": "stream",
     "text": [
      "\r",
      "Processing on GPU 1:   6%|██████                                                                                                       | 53/955 [00:12<03:22,  4.45it/s]"
     ]
    },
    {
     "name": "stdout",
     "output_type": "stream",
     "text": [
      "Classifying: Delamination Delamination\n",
      "Top label: Core split with confidence score: 0.17265202105045319\n"
     ]
    },
    {
     "name": "stderr",
     "output_type": "stream",
     "text": [
      "\r",
      "Processing on GPU 0:   6%|██████                                                                                                       | 53/957 [00:12<03:21,  4.49it/s]"
     ]
    },
    {
     "name": "stdout",
     "output_type": "stream",
     "text": [
      "Classifying: foil-/ foreign-inclusion detected FOD found above size limits\n",
      "Top label: Resin buildup with confidence score: 0.28864264488220215\n"
     ]
    },
    {
     "name": "stderr",
     "output_type": "stream",
     "text": [
      "\r",
      "Processing on GPU 1:   6%|██████▏                                                                                                      | 54/955 [00:12<03:21,  4.47it/s]"
     ]
    },
    {
     "name": "stdout",
     "output_type": "stream",
     "text": [
      "Classifying: Demoulding Damage Impact Damage\n",
      "Top label: Foreign Object Damage with confidence score: 0.7315593957901001\n"
     ]
    },
    {
     "name": "stderr",
     "output_type": "stream",
     "text": [
      "\r",
      "Processing on GPU 0:   6%|██████▏                                                                                                      | 54/957 [00:12<03:19,  4.53it/s]"
     ]
    },
    {
     "name": "stdout",
     "output_type": "stream",
     "text": [
      "Classifying: Ply orientation Incorrect Ply orientation-ADMIN\n",
      "Top label: Foreign Object Damage with confidence score: 0.21587666869163513\n"
     ]
    },
    {
     "name": "stderr",
     "output_type": "stream",
     "text": [
      "\r",
      "Processing on GPU 1:   6%|██████▎                                                                                                      | 55/955 [00:12<03:23,  4.42it/s]"
     ]
    },
    {
     "name": "stdout",
     "output_type": "stream",
     "text": [
      "Classifying: Dimensional Deviation EOC OTT\n",
      "Top label: Core displacement with confidence score: 0.1904626190662384\n"
     ]
    },
    {
     "name": "stderr",
     "output_type": "stream",
     "text": [
      "\r",
      "Processing on GPU 0:   6%|██████▎                                                                                                      | 55/957 [00:12<03:18,  4.54it/s]"
     ]
    },
    {
     "name": "stdout",
     "output_type": "stream",
     "text": [
      "Classifying: Material Missing or Incorrect positioned Ply laid up on wrong sequence\n",
      "Top label: Foreign Object Damage with confidence score: 0.6047659516334534\n"
     ]
    },
    {
     "name": "stderr",
     "output_type": "stream",
     "text": [
      "\r",
      "Processing on GPU 1:   6%|██████▍                                                                                                      | 56/955 [00:12<03:21,  4.45it/s]"
     ]
    },
    {
     "name": "stdout",
     "output_type": "stream",
     "text": [
      "Classifying: Inclusion (Foreign Material) n reference to 200025162\n",
      "Top label: Core displacement with confidence score: 0.1990910768508911\n"
     ]
    },
    {
     "name": "stderr",
     "output_type": "stream",
     "text": [
      "\r",
      "Processing on GPU 0:   6%|██████▍                                                                                                      | 56/957 [00:12<03:18,  4.54it/s]"
     ]
    },
    {
     "name": "stdout",
     "output_type": "stream",
     "text": [
      "Classifying: Traceability not recorded Honeycomb core from new Supplier-ADMIN\n",
      "Top label: Foreign Object Damage with confidence score: 0.25771138072013855\n"
     ]
    },
    {
     "name": "stderr",
     "output_type": "stream",
     "text": [
      "\r",
      "Processing on GPU 1:   6%|██████▌                                                                                                      | 57/955 [00:13<03:22,  4.45it/s]"
     ]
    },
    {
     "name": "stdout",
     "output_type": "stream",
     "text": [
      "Classifying: Disbond Disbond\n",
      "Top label: Core split with confidence score: 0.3702402412891388\n"
     ]
    },
    {
     "name": "stderr",
     "output_type": "stream",
     "text": [
      "\r",
      "Processing on GPU 0:   6%|██████▍                                                                                                      | 57/957 [00:13<03:16,  4.57it/s]"
     ]
    },
    {
     "name": "stdout",
     "output_type": "stream",
     "text": [
      "Classifying: Dimensions out of Tolerance Flange width OOT\n",
      "Top label: Core split with confidence score: 0.2206205129623413\n"
     ]
    },
    {
     "name": "stderr",
     "output_type": "stream",
     "text": [
      "\r",
      "Processing on GPU 1:   6%|██████▌                                                                                                      | 58/955 [00:13<03:22,  4.44it/s]"
     ]
    },
    {
     "name": "stdout",
     "output_type": "stream",
     "text": [
      "Classifying: Core Damage, Torn Nodal Joints core Edge damageTop label: Separation noodle joint with confidence score: 0.23318776488304138\n",
      "\n"
     ]
    },
    {
     "name": "stderr",
     "output_type": "stream",
     "text": [
      "\r",
      "Processing on GPU 0:   6%|██████▌                                                                                                      | 58/957 [00:13<03:16,  4.57it/s]"
     ]
    },
    {
     "name": "stdout",
     "output_type": "stream",
     "text": [
      "Classifying: Mechanical Trimming / Contour milling tool dig noted in upper skin leading edg\n",
      "Top label: Core deformation with confidence score: 0.6506678462028503\n"
     ]
    },
    {
     "name": "stderr",
     "output_type": "stream",
     "text": [
      "\r",
      "Processing on GPU 1:   6%|██████▋                                                                                                      | 59/955 [00:13<03:21,  4.44it/s]"
     ]
    },
    {
     "name": "stdout",
     "output_type": "stream",
     "text": [
      "Top label: Splice gap with confidence score: 0.21384991705417633Classifying: Imprint on Surface Dent Dents Over Splice Lines\n",
      "\n"
     ]
    },
    {
     "name": "stderr",
     "output_type": "stream",
     "text": [
      "\r",
      "Processing on GPU 0:   6%|██████▋                                                                                                      | 59/957 [00:13<03:17,  4.55it/s]"
     ]
    },
    {
     "name": "stdout",
     "output_type": "stream",
     "text": [
      "Classifying: Freezing movement of material ADMIN-Freezing movement of material\n",
      "Top label: Splice gap with confidence score: 0.4500284492969513\n",
      "Top label: Core split with confidence score: 0.19475190341472626"
     ]
    },
    {
     "name": "stderr",
     "output_type": "stream",
     "text": [
      "\r",
      "Processing on GPU 1:   6%|██████▊                                                                                                      | 60/955 [00:13<03:21,  4.45it/s]"
     ]
    },
    {
     "name": "stdout",
     "output_type": "stream",
     "text": [
      "\n",
      "Classifying: Core Step Core Step"
     ]
    },
    {
     "name": "stderr",
     "output_type": "stream",
     "text": [
      "\r",
      "Processing on GPU 0:   6%|██████▊                                                                                                      | 60/957 [00:13<03:17,  4.53it/s]"
     ]
    },
    {
     "name": "stdout",
     "output_type": "stream",
     "text": [
      "\n",
      "Classifying: Impact impact damage during assembly process\n",
      "Top label: Core deformation with confidence score: 0.16715864837169647Top label: Core split with confidence score: 0.5320346355438232\n",
      "\n"
     ]
    },
    {
     "name": "stderr",
     "output_type": "stream",
     "text": [
      "Processing on GPU 1:   6%|██████▉                                                                                                      | 61/955 [00:14<03:20,  4.46it/s]"
     ]
    },
    {
     "name": "stdout",
     "output_type": "stream",
     "text": [
      "Classifying: Honeycomb geometry core sagClassifying: Imprint on Surface Dent Surface Depression\n",
      "\n",
      "Top label: Splice gap with confidence score: 0.1898801177740097Top label: Core displacement with confidence score: 0.3283674120903015\n"
     ]
    },
    {
     "name": "stderr",
     "output_type": "stream",
     "text": [
      "\r",
      "Processing on GPU 1:   6%|███████                                                                                                      | 62/955 [00:14<03:20,  4.46it/s]"
     ]
    },
    {
     "name": "stdout",
     "output_type": "stream",
     "text": [
      "\n",
      "Classifying: Disbond  Disbond\n"
     ]
    },
    {
     "name": "stderr",
     "output_type": "stream",
     "text": [
      "\r",
      "Processing on GPU 0:   6%|███████                                                                                                      | 62/957 [00:14<03:18,  4.50it/s]"
     ]
    },
    {
     "name": "stdout",
     "output_type": "stream",
     "text": [
      "Classifying: Material Missing or Incorrect positioned MISSING ADHESIVE\n",
      "Top label: Core displacement with confidence score: 0.19647462666034698Top label: Foreign Object Damage with confidence score: 0.2751343846321106\n",
      "\n"
     ]
    },
    {
     "name": "stderr",
     "output_type": "stream",
     "text": [
      "Processing on GPU 0:   7%|███████▏                                                                                                     | 63/957 [00:14<03:19,  4.49it/s]"
     ]
    },
    {
     "name": "stdout",
     "output_type": "stream",
     "text": [
      "Classifying: Porosity Volumetric porosity above size limitClassifying: Delamination Composite Manufacturing Delamination/Disbond above size limit.\n",
      "\n",
      "Top label: Core displacement with confidence score: 0.18859563767910004Top label: Core deformation with confidence score: 0.16868790984153748\n"
     ]
    },
    {
     "name": "stderr",
     "output_type": "stream",
     "text": [
      "\r",
      "Processing on GPU 1:   7%|███████▎                                                                                                     | 64/955 [00:14<03:19,  4.46it/s]"
     ]
    },
    {
     "name": "stdout",
     "output_type": "stream",
     "text": [
      "\n",
      "Classifying: Potting inadaquate Potting inadaquate"
     ]
    },
    {
     "name": "stderr",
     "output_type": "stream",
     "text": [
      "\r",
      "Processing on GPU 0:   7%|███████▎                                                                                                     | 64/957 [00:14<03:19,  4.48it/s]"
     ]
    },
    {
     "name": "stdout",
     "output_type": "stream",
     "text": [
      "\n",
      "Classifying: Delamination Composite Manufacturing Delamination above size limit\n",
      "Top label: Core split with confidence score: 0.20676620304584503\n"
     ]
    },
    {
     "name": "stderr",
     "output_type": "stream",
     "text": [
      "\r",
      "Processing on GPU 1:   7%|███████▍                                                                                                     | 65/955 [00:14<03:17,  4.50it/s]"
     ]
    },
    {
     "name": "stdout",
     "output_type": "stream",
     "text": [
      "Classifying: Material Expired Material Expired\n",
      "Top label: Resin buildup with confidence score: 0.19766445457935333\n"
     ]
    },
    {
     "name": "stderr",
     "output_type": "stream",
     "text": [
      "\r",
      "Processing on GPU 0:   7%|███████▍                                                                                                     | 65/957 [00:14<03:22,  4.40it/s]"
     ]
    },
    {
     "name": "stdout",
     "output_type": "stream",
     "text": [
      "Classifying: Disbonding within part DISBOND ABOVE SIZE LIMIT\n",
      "Top label: Core deformation with confidence score: 0.15185348689556122\n"
     ]
    },
    {
     "name": "stderr",
     "output_type": "stream",
     "text": [
      "\r",
      "Processing on GPU 1:   7%|███████▌                                                                                                     | 66/955 [00:15<03:16,  4.52it/s]"
     ]
    },
    {
     "name": "stdout",
     "output_type": "stream",
     "text": [
      "Classifying: Waviness surface waviness\n",
      "Top label: Splice gap with confidence score: 0.2500344216823578\n"
     ]
    },
    {
     "name": "stderr",
     "output_type": "stream",
     "text": [
      "\r",
      "Processing on GPU 0:   7%|███████▌                                                                                                     | 66/957 [00:15<03:20,  4.44it/s]"
     ]
    },
    {
     "name": "stdout",
     "output_type": "stream",
     "text": [
      "Classifying: Honeycomb geometry core sag\n",
      "Top label: Core displacement with confidence score: 0.16056327521800995\n"
     ]
    },
    {
     "name": "stderr",
     "output_type": "stream",
     "text": [
      "\r",
      "Processing on GPU 1:   7%|███████▋                                                                                                     | 67/955 [00:15<03:16,  4.51it/s]"
     ]
    },
    {
     "name": "stdout",
     "output_type": "stream",
     "text": [
      "Classifying: Splice Defect Core Splice Defect (Material Missing)\n",
      "Top label: Core displacement with confidence score: 0.3283674120903015\n"
     ]
    },
    {
     "name": "stderr",
     "output_type": "stream",
     "text": [
      "\r",
      "Processing on GPU 0:   7%|███████▋                                                                                                     | 67/957 [00:15<03:20,  4.44it/s]"
     ]
    },
    {
     "name": "stdout",
     "output_type": "stream",
     "text": [
      "Classifying: Crushed core  CORE DEFECTS\n",
      "Top label: Core split with confidence score: 0.6572718024253845\n"
     ]
    },
    {
     "name": "stderr",
     "output_type": "stream",
     "text": [
      "\r",
      "Processing on GPU 1:   7%|███████▊                                                                                                     | 68/955 [00:15<03:16,  4.51it/s]"
     ]
    },
    {
     "name": "stdout",
     "output_type": "stream",
     "text": [
      "Classifying: Imprint on Surface Dent Depression on chamfer area\n",
      "Top label: Core deformation with confidence score: 0.376569539308548\n"
     ]
    },
    {
     "name": "stderr",
     "output_type": "stream",
     "text": [
      "\r",
      "Processing on GPU 0:   7%|███████▋                                                                                                     | 68/957 [00:15<03:20,  4.44it/s]"
     ]
    },
    {
     "name": "stdout",
     "output_type": "stream",
     "text": [
      "Classifying: Delamination Composite Manufacturing Delamination\n",
      "Top label: Splice gap with confidence score: 0.2961883842945099\n"
     ]
    },
    {
     "name": "stderr",
     "output_type": "stream",
     "text": [
      "\r",
      "Processing on GPU 1:   7%|███████▉                                                                                                     | 69/955 [00:15<03:17,  4.50it/s]"
     ]
    },
    {
     "name": "stdout",
     "output_type": "stream",
     "text": [
      "Classifying: Imprint on Surface Dent WRINKLE\n",
      "Top label: Resin buildup with confidence score: 0.21785829961299896\n"
     ]
    },
    {
     "name": "stderr",
     "output_type": "stream",
     "text": [
      "\r",
      "Processing on GPU 0:   7%|███████▊                                                                                                     | 69/957 [00:15<03:18,  4.47it/s]"
     ]
    },
    {
     "name": "stdout",
     "output_type": "stream",
     "text": [
      "Classifying: Delamination Composite Manufacturing DELAMINATION/FOD\n",
      "Top label: Foreign Object Damage with confidence score: 0.17831063270568848\n"
     ]
    },
    {
     "name": "stderr",
     "output_type": "stream",
     "text": [
      "\r",
      "Processing on GPU 1:   7%|███████▉                                                                                                     | 70/955 [00:16<03:15,  4.53it/s]"
     ]
    },
    {
     "name": "stdout",
     "output_type": "stream",
     "text": [
      "Classifying: Core Step Surface defect\n",
      "Top label: Foreign Object Damage with confidence score: 0.6577006578445435\n"
     ]
    },
    {
     "name": "stderr",
     "output_type": "stream",
     "text": [
      "\r",
      "Processing on GPU 0:   7%|███████▉                                                                                                     | 70/957 [00:16<03:20,  4.43it/s]"
     ]
    },
    {
     "name": "stdout",
     "output_type": "stream",
     "text": [
      "Classifying: Delamination Composite Manufacturing NDT First reject\n",
      "Top label: Core deformation with confidence score: 0.6180459260940552\n"
     ]
    },
    {
     "name": "stderr",
     "output_type": "stream",
     "text": [
      "\r",
      "Processing on GPU 1:   7%|████████                                                                                                     | 71/955 [00:16<03:15,  4.52it/s]"
     ]
    },
    {
     "name": "stdout",
     "output_type": "stream",
     "text": [
      "Classifying: Bag Leak Vacuum leak during cycle\n",
      "Top label: Resin buildup with confidence score: 0.25070130825042725\n"
     ]
    },
    {
     "name": "stderr",
     "output_type": "stream",
     "text": [
      "\r",
      "Processing on GPU 0:   7%|████████                                                                                                     | 71/957 [00:16<03:19,  4.45it/s]"
     ]
    },
    {
     "name": "stdout",
     "output_type": "stream",
     "text": [
      "Classifying: Ply position additional fiber located in repair area\n",
      "Top label: Splice gap with confidence score: 0.16813203692436218\n"
     ]
    },
    {
     "name": "stderr",
     "output_type": "stream",
     "text": [
      "\r",
      "Processing on GPU 1:   8%|████████▏                                                                                                    | 72/955 [00:16<03:17,  4.47it/s]"
     ]
    },
    {
     "name": "stdout",
     "output_type": "stream",
     "text": [
      "Classifying: Delamination  Initial Failure\n",
      "Top label: Core displacement with confidence score: 0.16471773386001587\n"
     ]
    },
    {
     "name": "stderr",
     "output_type": "stream",
     "text": [
      "\r",
      "Processing on GPU 0:   8%|████████▏                                                                                                    | 72/957 [00:16<03:17,  4.48it/s]"
     ]
    },
    {
     "name": "stdout",
     "output_type": "stream",
     "text": [
      "Classifying: Delamination Composite Manufacturing Delamination\n",
      "Top label: Core displacement with confidence score: 0.1726844310760498\n"
     ]
    },
    {
     "name": "stderr",
     "output_type": "stream",
     "text": [
      "\r",
      "Processing on GPU 1:   8%|████████▎                                                                                                    | 73/955 [00:16<03:17,  4.47it/s]"
     ]
    },
    {
     "name": "stdout",
     "output_type": "stream",
     "text": [
      "Classifying: Mislocated (Or Extra Hole) see long text\n",
      "Top label: Resin buildup with confidence score: 0.21785829961299896\n"
     ]
    },
    {
     "name": "stderr",
     "output_type": "stream",
     "text": [
      "\r",
      "Processing on GPU 0:   8%|████████▎                                                                                                    | 73/957 [00:16<03:16,  4.49it/s]"
     ]
    },
    {
     "name": "stdout",
     "output_type": "stream",
     "text": [
      "Classifying: Material Missing or Incorrect positioned Adhesive missing (not fully covered)\n",
      "Top label: Foreign Object Damage with confidence score: 0.2903117537498474\n"
     ]
    },
    {
     "name": "stderr",
     "output_type": "stream",
     "text": [
      "\r",
      "Processing on GPU 1:   8%|████████▍                                                                                                    | 74/955 [00:16<03:14,  4.53it/s]"
     ]
    },
    {
     "name": "stdout",
     "output_type": "stream",
     "text": [
      "Classifying: Over Sanded over trimming of core during repair\n",
      "Top label: Resin buildup with confidence score: 0.20048177242279053\n"
     ]
    },
    {
     "name": "stderr",
     "output_type": "stream",
     "text": [
      "\r",
      "Processing on GPU 0:   8%|████████▍                                                                                                    | 74/957 [00:16<03:20,  4.40it/s]"
     ]
    },
    {
     "name": "stdout",
     "output_type": "stream",
     "text": [
      "Classifying: Delamination Composite Manufacturing Delamination above size limit.\n",
      "Top label: Core deformation with confidence score: 0.3787858784198761\n"
     ]
    },
    {
     "name": "stderr",
     "output_type": "stream",
     "text": [
      "\r",
      "Processing on GPU 1:   8%|████████▌                                                                                                    | 75/955 [00:17<03:14,  4.52it/s]"
     ]
    },
    {
     "name": "stdout",
     "output_type": "stream",
     "text": [
      "Classifying: Test/Certification Not Performed X-ray inspection incomplete\n",
      "Top label: Resin buildup with confidence score: 0.20536752045154572\n"
     ]
    },
    {
     "name": "stderr",
     "output_type": "stream",
     "text": [
      "\r",
      "Processing on GPU 0:   8%|████████▌                                                                                                    | 75/957 [00:17<03:19,  4.42it/s]"
     ]
    },
    {
     "name": "stdout",
     "output_type": "stream",
     "text": [
      "Classifying: Impact Edge delamination due to impact\n",
      "Top label: Splice gap with confidence score: 0.2974094748497009\n"
     ]
    },
    {
     "name": "stderr",
     "output_type": "stream",
     "text": [
      "\r",
      "Processing on GPU 1:   8%|████████▋                                                                                                    | 76/955 [00:17<03:11,  4.58it/s]"
     ]
    },
    {
     "name": "stdout",
     "output_type": "stream",
     "text": [
      "Classifying: Imprint on Surface Dent Suface Depression\n",
      "Top label: Foreign Object Damage with confidence score: 0.22204746305942535\n"
     ]
    },
    {
     "name": "stderr",
     "output_type": "stream",
     "text": [
      "\r",
      "Processing on GPU 0:   8%|████████▋                                                                                                    | 76/957 [00:17<03:22,  4.35it/s]"
     ]
    },
    {
     "name": "stdout",
     "output_type": "stream",
     "text": [
      "Classifying: Delamination Composite Manufacturing NDT Initial failure\n",
      "Top label: Separation noodle joint with confidence score: 0.18841220438480377\n"
     ]
    },
    {
     "name": "stderr",
     "output_type": "stream",
     "text": [
      "\r",
      "Processing on GPU 1:   8%|████████▊                                                                                                    | 77/955 [00:17<03:11,  4.58it/s]"
     ]
    },
    {
     "name": "stdout",
     "output_type": "stream",
     "text": [
      "Classifying: Rejectable Ultrasonic Inspection Indicat NDT Initial Failure\n",
      "Top label: Resin buildup with confidence score: 0.2230015993118286\n"
     ]
    },
    {
     "name": "stderr",
     "output_type": "stream",
     "text": [
      "\r",
      "Processing on GPU 0:   8%|████████▊                                                                                                    | 77/957 [00:17<03:20,  4.40it/s]"
     ]
    },
    {
     "name": "stdout",
     "output_type": "stream",
     "text": [
      "Classifying: Delamination Composite Manufacturing NDT Initial failure\n",
      "Top label: Separation noodle joint with confidence score: 0.1780286580324173\n"
     ]
    },
    {
     "name": "stderr",
     "output_type": "stream",
     "text": [
      "\r",
      "Processing on GPU 1:   8%|████████▉                                                                                                    | 78/955 [00:17<03:13,  4.53it/s]"
     ]
    },
    {
     "name": "stdout",
     "output_type": "stream",
     "text": [
      "Classifying: Core / Shaft Damaged Core surface damage\n",
      "Top label: Resin buildup with confidence score: 0.2230015993118286\n"
     ]
    },
    {
     "name": "stderr",
     "output_type": "stream",
     "text": [
      "\r",
      "Processing on GPU 0:   8%|████████▉                                                                                                    | 78/957 [00:17<03:17,  4.45it/s]"
     ]
    },
    {
     "name": "stdout",
     "output_type": "stream",
     "text": [
      "Classifying: Delamination Composite Manufacturing Delamination above size limit.\n",
      "Top label: Core deformation with confidence score: 0.760267436504364\n"
     ]
    },
    {
     "name": "stderr",
     "output_type": "stream",
     "text": [
      "\r",
      "Processing on GPU 1:   8%|█████████                                                                                                    | 79/955 [00:18<03:12,  4.54it/s]"
     ]
    },
    {
     "name": "stdout",
     "output_type": "stream",
     "text": [
      "Classifying: Ply Wrinkle see long text\n",
      "Top label: Resin buildup with confidence score: 0.20536752045154572\n"
     ]
    },
    {
     "name": "stderr",
     "output_type": "stream",
     "text": [
      "\r",
      "Processing on GPU 0:   8%|████████▉                                                                                                    | 79/957 [00:18<03:17,  4.45it/s]"
     ]
    },
    {
     "name": "stdout",
     "output_type": "stream",
     "text": [
      "Classifying: Curing Vacuum Vacuum Leak noticed\n",
      "Top label: Foreign Object Damage with confidence score: 0.22678668797016144\n"
     ]
    },
    {
     "name": "stderr",
     "output_type": "stream",
     "text": [
      "\r",
      "Processing on GPU 1:   8%|█████████▏                                                                                                   | 80/955 [00:18<03:13,  4.53it/s]"
     ]
    },
    {
     "name": "stdout",
     "output_type": "stream",
     "text": [
      "Classifying: Disbond Disbond\n",
      "Top label: Foreign Object Damage with confidence score: 0.17838868498802185\n"
     ]
    },
    {
     "name": "stderr",
     "output_type": "stream",
     "text": [
      "\r",
      "Processing on GPU 0:   8%|█████████                                                                                                    | 80/957 [00:18<03:16,  4.47it/s]"
     ]
    },
    {
     "name": "stdout",
     "output_type": "stream",
     "text": [
      "Classifying: Honeycomb geometry Unidentified ultasonic indication\n",
      "Top label: Core split with confidence score: 0.2206205129623413\n"
     ]
    },
    {
     "name": "stderr",
     "output_type": "stream",
     "text": [
      "\r",
      "Processing on GPU 1:   8%|█████████▏                                                                                                   | 81/955 [00:18<03:12,  4.53it/s]"
     ]
    },
    {
     "name": "stdout",
     "output_type": "stream",
     "text": [
      "Classifying: Defects Found On NDT And DT Inspection core crack\n",
      "Top label: Foreign Object Damage with confidence score: 0.24691399931907654\n"
     ]
    },
    {
     "name": "stderr",
     "output_type": "stream",
     "text": [
      "\r",
      "Processing on GPU 0:   8%|█████████▏                                                                                                   | 81/957 [00:18<03:17,  4.44it/s]"
     ]
    },
    {
     "name": "stdout",
     "output_type": "stream",
     "text": [
      "Classifying: Delamination Composite Manufacturing DELAMINATION\n",
      "Top label: Core deformation with confidence score: 0.5509670376777649\n"
     ]
    },
    {
     "name": "stderr",
     "output_type": "stream",
     "text": [
      "\r",
      "Processing on GPU 1:   9%|█████████▎                                                                                                   | 82/955 [00:18<03:12,  4.53it/s]"
     ]
    },
    {
     "name": "stdout",
     "output_type": "stream",
     "text": [
      "Classifying: Test/Certification Not Performed X-ray inspection incomplete\n",
      "Top label: Resin buildup with confidence score: 0.22509831190109253\n"
     ]
    },
    {
     "name": "stderr",
     "output_type": "stream",
     "text": [
      "\r",
      "Processing on GPU 0:   9%|█████████▎                                                                                                   | 82/957 [00:18<03:15,  4.47it/s]"
     ]
    },
    {
     "name": "stdout",
     "output_type": "stream",
     "text": [
      "Classifying: Delamination Composite Manufacturing NDT Initial failure\n",
      "Top label: Splice gap with confidence score: 0.2974094748497009\n"
     ]
    },
    {
     "name": "stderr",
     "output_type": "stream",
     "text": [
      "\r",
      "Processing on GPU 1:   9%|█████████▍                                                                                                   | 83/955 [00:18<03:13,  4.50it/s]"
     ]
    },
    {
     "name": "stdout",
     "output_type": "stream",
     "text": [
      "Classifying: Delamination  Delamination\n",
      "Top label: Resin buildup with confidence score: 0.2230015993118286\n"
     ]
    },
    {
     "name": "stderr",
     "output_type": "stream",
     "text": [
      "\r",
      "Processing on GPU 0:   9%|█████████▍                                                                                                   | 83/957 [00:18<03:14,  4.50it/s]"
     ]
    },
    {
     "name": "stdout",
     "output_type": "stream",
     "text": [
      "Classifying: Missing/not Readable/Broken Stamp/Seal Missing traveler\n",
      "Top label: Foreign Object Damage with confidence score: 0.2776047885417938\n"
     ]
    },
    {
     "name": "stderr",
     "output_type": "stream",
     "text": [
      "\r",
      "Processing on GPU 1:   9%|█████████▌                                                                                                   | 84/955 [00:19<03:13,  4.51it/s]"
     ]
    },
    {
     "name": "stdout",
     "output_type": "stream",
     "text": [
      "Classifying: Core Step Core Step\n",
      "Top label: Foreign Object Damage with confidence score: 0.49827221035957336\n"
     ]
    },
    {
     "name": "stderr",
     "output_type": "stream",
     "text": [
      "\r",
      "Processing on GPU 0:   9%|█████████▌                                                                                                   | 84/957 [00:19<03:16,  4.45it/s]"
     ]
    },
    {
     "name": "stdout",
     "output_type": "stream",
     "text": [
      "Classifying: Delamination Composite Manufacturing  Edge delamination\n",
      "Top label: Core split with confidence score: 0.5320346355438232\n"
     ]
    },
    {
     "name": "stderr",
     "output_type": "stream",
     "text": [
      "\r",
      "Processing on GPU 1:   9%|█████████▋                                                                                                   | 85/955 [00:19<03:14,  4.48it/s]"
     ]
    },
    {
     "name": "stdout",
     "output_type": "stream",
     "text": [
      "Classifying: Imprint on Surface Dent Chamfer Dent\n",
      "Top label: Resin buildup with confidence score: 0.20229122042655945\n"
     ]
    },
    {
     "name": "stderr",
     "output_type": "stream",
     "text": [
      "\r",
      "Processing on GPU 0:   9%|█████████▋                                                                                                   | 85/957 [00:19<03:14,  4.49it/s]"
     ]
    },
    {
     "name": "stdout",
     "output_type": "stream",
     "text": [
      "Classifying: Impact Edge delamination\n",
      "Top label: Foreign Object Damage with confidence score: 0.2025069296360016\n"
     ]
    },
    {
     "name": "stderr",
     "output_type": "stream",
     "text": [
      "\r",
      "Processing on GPU 1:   9%|█████████▊                                                                                                   | 86/955 [00:19<03:13,  4.49it/s]"
     ]
    },
    {
     "name": "stdout",
     "output_type": "stream",
     "text": [
      "Classifying: Delamination NDT Initial Failure\n",
      "Top label: Foreign Object Damage with confidence score: 0.3495956361293793\n"
     ]
    },
    {
     "name": "stderr",
     "output_type": "stream",
     "text": [
      "\r",
      "Processing on GPU 0:   9%|█████████▊                                                                                                   | 86/957 [00:19<03:15,  4.45it/s]"
     ]
    },
    {
     "name": "stdout",
     "output_type": "stream",
     "text": [
      "Classifying: Traceability not recorded ADMIN- traceability not recorded\n",
      "Top label: Separation noodle joint with confidence score: 0.23277020454406738\n"
     ]
    },
    {
     "name": "stderr",
     "output_type": "stream",
     "text": [
      "\r",
      "Processing on GPU 1:   9%|█████████▉                                                                                                   | 87/955 [00:19<03:12,  4.50it/s]"
     ]
    },
    {
     "name": "stdout",
     "output_type": "stream",
     "text": [
      "Classifying: Splice Defect Splice Defect\n",
      "Top label: Core split with confidence score: 0.25791749358177185\n"
     ]
    },
    {
     "name": "stderr",
     "output_type": "stream",
     "text": [
      "\r",
      "Processing on GPU 0:   9%|█████████▉                                                                                                   | 87/957 [00:19<03:14,  4.47it/s]"
     ]
    },
    {
     "name": "stdout",
     "output_type": "stream",
     "text": [
      "Classifying: foil-/ foreign-inclusion detected TC Pin found\n",
      "Top label: Splice gap with confidence score: 0.8461517691612244\n"
     ]
    },
    {
     "name": "stderr",
     "output_type": "stream",
     "text": [
      "\r",
      "Processing on GPU 1:   9%|██████████                                                                                                   | 88/955 [00:20<03:12,  4.50it/s]"
     ]
    },
    {
     "name": "stdout",
     "output_type": "stream",
     "text": [
      "Classifying: Porosity volumetric porosity above acceptable lim\n",
      "Top label: Foreign Object Damage with confidence score: 0.35736751556396484\n"
     ]
    },
    {
     "name": "stderr",
     "output_type": "stream",
     "text": [
      "\r",
      "Processing on GPU 0:   9%|██████████                                                                                                   | 88/957 [00:20<03:14,  4.46it/s]"
     ]
    },
    {
     "name": "stdout",
     "output_type": "stream",
     "text": [
      "Classifying: Layer Porosity Delamination\n",
      "Top label: Core displacement with confidence score: 0.16099300980567932\n"
     ]
    },
    {
     "name": "stderr",
     "output_type": "stream",
     "text": [
      "\r",
      "Processing on GPU 1:   9%|██████████▏                                                                                                  | 89/955 [00:20<03:11,  4.51it/s]"
     ]
    },
    {
     "name": "stdout",
     "output_type": "stream",
     "text": [
      "Classifying: Lay-Up Error DEPRESSION\n",
      "Top label: Resin buildup with confidence score: 0.3259042799472809\n"
     ]
    },
    {
     "name": "stderr",
     "output_type": "stream",
     "text": [
      "\r",
      "Processing on GPU 0:   9%|██████████▏                                                                                                  | 89/957 [00:20<03:12,  4.51it/s]"
     ]
    },
    {
     "name": "stdout",
     "output_type": "stream",
     "text": [
      "Classifying: Curing Vacuum Vacuum Leak\n",
      "Top label: Core displacement with confidence score: 0.1968981921672821\n"
     ]
    },
    {
     "name": "stderr",
     "output_type": "stream",
     "text": [
      "\r",
      "Processing on GPU 1:   9%|██████████▎                                                                                                  | 90/955 [00:20<03:13,  4.48it/s]"
     ]
    },
    {
     "name": "stdout",
     "output_type": "stream",
     "text": [
      "Classifying: Bag Leak Vacuum leak\n",
      "Top label: Core displacement with confidence score: 0.18658626079559326\n"
     ]
    },
    {
     "name": "stderr",
     "output_type": "stream",
     "text": [
      "\r",
      "Processing on GPU 0:   9%|██████████▎                                                                                                  | 90/957 [00:20<03:11,  4.52it/s]"
     ]
    },
    {
     "name": "stdout",
     "output_type": "stream",
     "text": [
      "Classifying: Disbonding within part UUI-Unidentified Ultrasonic Indication\n",
      "Top label: Foreign Object Damage with confidence score: 0.20811727643013\n"
     ]
    },
    {
     "name": "stderr",
     "output_type": "stream",
     "text": [
      "\r",
      "Processing on GPU 1:  10%|██████████▍                                                                                                  | 91/955 [00:20<03:12,  4.48it/s]"
     ]
    },
    {
     "name": "stdout",
     "output_type": "stream",
     "text": [
      "Classifying: Material Expired Material Expired\n",
      "Top label: Splice gap with confidence score: 0.23321634531021118\n"
     ]
    },
    {
     "name": "stderr",
     "output_type": "stream",
     "text": [
      "\r",
      "Processing on GPU 0:  10%|██████████▎                                                                                                  | 91/957 [00:20<03:11,  4.53it/s]"
     ]
    },
    {
     "name": "stdout",
     "output_type": "stream",
     "text": [
      "Classifying: foil-/ foreign-inclusion detected TC pin (FOD)\n",
      "Top label: Core deformation with confidence score: 0.15185348689556122\n"
     ]
    },
    {
     "name": "stderr",
     "output_type": "stream",
     "text": [
      "\r",
      "Processing on GPU 1:  10%|██████████▌                                                                                                  | 92/955 [00:20<03:13,  4.46it/s]"
     ]
    },
    {
     "name": "stdout",
     "output_type": "stream",
     "text": [
      "Classifying: Delamination NDT Initial Failure\n",
      "Top label: Foreign Object Damage with confidence score: 0.5576709508895874\n"
     ]
    },
    {
     "name": "stderr",
     "output_type": "stream",
     "text": [
      "\r",
      "Processing on GPU 0:  10%|██████████▍                                                                                                  | 92/957 [00:20<03:10,  4.54it/s]"
     ]
    },
    {
     "name": "stdout",
     "output_type": "stream",
     "text": [
      "Classifying: Delamination Composite Manufacturing Delamination on CHF flange\n",
      "Top label: Separation noodle joint with confidence score: 0.23277020454406738\n"
     ]
    },
    {
     "name": "stderr",
     "output_type": "stream",
     "text": [
      "\r",
      "Processing on GPU 1:  10%|██████████▌                                                                                                  | 93/955 [00:21<03:14,  4.42it/s]"
     ]
    },
    {
     "name": "stdout",
     "output_type": "stream",
     "text": [
      "Classifying: Delamination NDT Initial Failure\n",
      "Top label: Core deformation with confidence score: 0.15552674233913422\n"
     ]
    },
    {
     "name": "stderr",
     "output_type": "stream",
     "text": [
      "\r",
      "Processing on GPU 0:  10%|██████████▌                                                                                                  | 93/957 [00:21<03:09,  4.55it/s]"
     ]
    },
    {
     "name": "stdout",
     "output_type": "stream",
     "text": [
      "Classifying: Delamination Composite Manufacturing Delamination\n",
      "Top label: Separation noodle joint with confidence score: 0.23277020454406738\n"
     ]
    },
    {
     "name": "stderr",
     "output_type": "stream",
     "text": [
      "\r",
      "Processing on GPU 1:  10%|██████████▋                                                                                                  | 94/955 [00:21<03:13,  4.45it/s]"
     ]
    },
    {
     "name": "stdout",
     "output_type": "stream",
     "text": [
      "Classifying: Delamination NDT Second Failure\n",
      "Top label: Resin buildup with confidence score: 0.21785829961299896\n"
     ]
    },
    {
     "name": "stderr",
     "output_type": "stream",
     "text": [
      "\r",
      "Processing on GPU 0:  10%|██████████▋                                                                                                  | 94/957 [00:21<03:10,  4.54it/s]"
     ]
    },
    {
     "name": "stdout",
     "output_type": "stream",
     "text": [
      "Classifying: Delamination Composite Manufacturing Delamination on CHF flange\n",
      "Top label: Foreign Object Damage with confidence score: 0.20595213770866394\n"
     ]
    },
    {
     "name": "stderr",
     "output_type": "stream",
     "text": [
      "\r",
      "Processing on GPU 1:  10%|██████████▊                                                                                                  | 95/955 [00:21<03:13,  4.44it/s]"
     ]
    },
    {
     "name": "stdout",
     "output_type": "stream",
     "text": [
      "Classifying: Test/Certification Not Performed X-ray inspection incomplete\n",
      "Top label: Core deformation with confidence score: 0.15552674233913422\n"
     ]
    },
    {
     "name": "stderr",
     "output_type": "stream",
     "text": [
      "\r",
      "Processing on GPU 0:  10%|██████████▊                                                                                                  | 95/957 [00:21<03:10,  4.54it/s]"
     ]
    },
    {
     "name": "stdout",
     "output_type": "stream",
     "text": [
      "Classifying: Delamination Composite Manufacturing Delamination on CHF flange\n",
      "Top label: Splice gap with confidence score: 0.2974094748497009\n"
     ]
    },
    {
     "name": "stderr",
     "output_type": "stream",
     "text": [
      "\r",
      "Processing on GPU 1:  10%|██████████▉                                                                                                  | 96/955 [00:21<03:12,  4.47it/s]"
     ]
    },
    {
     "name": "stdout",
     "output_type": "stream",
     "text": [
      "Classifying: Test/Certification Not Performed X-ray inspection incomplete\n",
      "Top label: Core deformation with confidence score: 0.15552674233913422\n"
     ]
    },
    {
     "name": "stderr",
     "output_type": "stream",
     "text": [
      "\r",
      "Processing on GPU 0:  10%|██████████▉                                                                                                  | 96/957 [00:21<03:09,  4.53it/s]"
     ]
    },
    {
     "name": "stdout",
     "output_type": "stream",
     "text": [
      "Classifying: Delamination Composite Manufacturing Delamination on CHF flange\n",
      "Top label: Splice gap with confidence score: 0.2974094748497009\n"
     ]
    },
    {
     "name": "stderr",
     "output_type": "stream",
     "text": [
      "\r",
      "Processing on GPU 1:  10%|███████████                                                                                                  | 97/955 [00:22<03:11,  4.47it/s]"
     ]
    },
    {
     "name": "stdout",
     "output_type": "stream",
     "text": [
      "Classifying: Foreign Object Damage FOD\n",
      "Top label: Core deformation with confidence score: 0.15552674233913422\n"
     ]
    },
    {
     "name": "stderr",
     "output_type": "stream",
     "text": [
      "\r",
      "Processing on GPU 0:  10%|███████████                                                                                                  | 97/957 [00:22<03:10,  4.52it/s]"
     ]
    },
    {
     "name": "stdout",
     "output_type": "stream",
     "text": [
      "Classifying: Delamination Composite Manufacturing Delamination on CHF flange\n",
      "Top label: Foreign Object Damage with confidence score: 0.9434307217597961\n"
     ]
    },
    {
     "name": "stderr",
     "output_type": "stream",
     "text": [
      "\r",
      "Processing on GPU 1:  10%|███████████▏                                                                                                 | 98/955 [00:22<03:11,  4.48it/s]"
     ]
    },
    {
     "name": "stdout",
     "output_type": "stream",
     "text": [
      "Classifying: Lay-Up Error Blocked vaccum port\n",
      "Top label: Core deformation with confidence score: 0.15552674233913422\n"
     ]
    },
    {
     "name": "stderr",
     "output_type": "stream",
     "text": [
      "\r",
      "Processing on GPU 0:  10%|███████████▏                                                                                                 | 98/957 [00:22<03:10,  4.52it/s]"
     ]
    },
    {
     "name": "stdout",
     "output_type": "stream",
     "text": [
      "Classifying: Traceability not recorded Freeze in/out not captured on SAP\n",
      "Top label: Foreign Object Damage with confidence score: 0.37261027097702026\n"
     ]
    },
    {
     "name": "stderr",
     "output_type": "stream",
     "text": [
      "\r",
      "Processing on GPU 1:  10%|███████████▎                                                                                                 | 99/955 [00:22<03:10,  4.49it/s]"
     ]
    },
    {
     "name": "stdout",
     "output_type": "stream",
     "text": [
      "Classifying: Material Separation NDT Initial Failure\n",
      "Top label: Splice gap with confidence score: 0.2301783710718155\n"
     ]
    },
    {
     "name": "stderr",
     "output_type": "stream",
     "text": [
      "\r",
      "Processing on GPU 0:  10%|███████████▎                                                                                                 | 99/957 [00:22<03:09,  4.52it/s]"
     ]
    },
    {
     "name": "stdout",
     "output_type": "stream",
     "text": [
      "Classifying: Delamination Composite Manufacturing Delamination on CHF flange\n",
      "Top label: Separation noodle joint with confidence score: 0.2791632115840912\n"
     ]
    },
    {
     "name": "stderr",
     "output_type": "stream",
     "text": [
      "\r",
      "Processing on GPU 1:  10%|███████████▎                                                                                                | 100/955 [00:22<03:11,  4.48it/s]"
     ]
    },
    {
     "name": "stdout",
     "output_type": "stream",
     "text": [
      "Classifying: Delamination NDT Second Failure\n",
      "Top label: Core deformation with confidence score: 0.15552674233913422\n"
     ]
    },
    {
     "name": "stderr",
     "output_type": "stream",
     "text": [
      "\r",
      "Processing on GPU 0:  10%|███████████▎                                                                                                | 100/957 [00:22<03:09,  4.51it/s]"
     ]
    },
    {
     "name": "stdout",
     "output_type": "stream",
     "text": [
      "Classifying: Traceability not recorded Freeze in/out not captured on SAP-Admin\n",
      "Top label: Foreign Object Damage with confidence score: 0.20595213770866394\n"
     ]
    },
    {
     "name": "stderr",
     "output_type": "stream",
     "text": [
      "\r",
      "Processing on GPU 1:  11%|███████████▍                                                                                                | 101/955 [00:22<03:10,  4.47it/s]"
     ]
    },
    {
     "name": "stdout",
     "output_type": "stream",
     "text": [
      "Classifying: Imprint on Surface Dent Depression on Chamfer\n",
      "Top label: Splice gap with confidence score: 0.2333582639694214\n"
     ]
    },
    {
     "name": "stderr",
     "output_type": "stream",
     "text": [
      "\r",
      "Processing on GPU 0:  11%|███████████▍                                                                                                | 101/957 [00:22<03:09,  4.51it/s]"
     ]
    },
    {
     "name": "stdout",
     "output_type": "stream",
     "text": [
      "Classifying: Delamination Composite Manufacturing Delamination on CHF flange\n",
      "Top label: Separation noodle joint with confidence score: 0.1767207384109497\n"
     ]
    },
    {
     "name": "stderr",
     "output_type": "stream",
     "text": [
      "\r",
      "Processing on GPU 1:  11%|███████████▌                                                                                                | 102/955 [00:23<03:10,  4.48it/s]"
     ]
    },
    {
     "name": "stdout",
     "output_type": "stream",
     "text": [
      "Classifying: Hole in Bag Vacuum leak during cycle\n",
      "Top label: Core deformation with confidence score: 0.15552674233913422\n"
     ]
    },
    {
     "name": "stderr",
     "output_type": "stream",
     "text": [
      "\r",
      "Processing on GPU 0:  11%|███████████▌                                                                                                | 102/957 [00:23<03:08,  4.54it/s]"
     ]
    },
    {
     "name": "stdout",
     "output_type": "stream",
     "text": [
      "Classifying: Mis-alignment Lug hole misaligned\n",
      "Top label: Foreign Object Damage with confidence score: 0.25287073850631714\n"
     ]
    },
    {
     "name": "stderr",
     "output_type": "stream",
     "text": [
      "\r",
      "Processing on GPU 1:  11%|███████████▋                                                                                                | 103/955 [00:23<03:10,  4.46it/s]"
     ]
    },
    {
     "name": "stdout",
     "output_type": "stream",
     "text": [
      "Classifying: Material Expired Material Expired\n",
      "Top label: Core split with confidence score: 0.18635182082653046\n"
     ]
    },
    {
     "name": "stderr",
     "output_type": "stream",
     "text": [
      "\r",
      "Processing on GPU 0:  11%|███████████▌                                                                                                | 103/957 [00:23<03:08,  4.53it/s]"
     ]
    },
    {
     "name": "stdout",
     "output_type": "stream",
     "text": [
      "Classifying: Delamination Composite Manufacturing Delamination on CHF flange\n",
      "Top label: Core deformation with confidence score: 0.15185348689556122\n"
     ]
    },
    {
     "name": "stderr",
     "output_type": "stream",
     "text": [
      "\r",
      "Processing on GPU 1:  11%|███████████▊                                                                                                | 104/955 [00:23<03:11,  4.45it/s]"
     ]
    },
    {
     "name": "stdout",
     "output_type": "stream",
     "text": [
      "Classifying: Material Expired Material expired before curing\n",
      "Top label: Core deformation with confidence score: 0.15552674233913422\n"
     ]
    },
    {
     "name": "stderr",
     "output_type": "stream",
     "text": [
      "\r",
      "Processing on GPU 0:  11%|███████████▋                                                                                                | 104/957 [00:23<03:07,  4.54it/s]"
     ]
    },
    {
     "name": "stdout",
     "output_type": "stream",
     "text": [
      "Classifying: Delamination Composite Manufacturing Delamination on CHF flange\n",
      "Top label: Splice gap with confidence score: 0.14933939278125763\n"
     ]
    },
    {
     "name": "stderr",
     "output_type": "stream",
     "text": [
      "\r",
      "Processing on GPU 1:  11%|███████████▊                                                                                                | 105/955 [00:23<03:10,  4.47it/s]"
     ]
    },
    {
     "name": "stdout",
     "output_type": "stream",
     "text": [
      "Classifying: Dents Over Splice Lines Depressions along splice lines\n",
      "Top label: Core deformation with confidence score: 0.15552674233913422\n"
     ]
    },
    {
     "name": "stderr",
     "output_type": "stream",
     "text": [
      "\r",
      "Processing on GPU 0:  11%|███████████▊                                                                                                | 105/957 [00:23<03:08,  4.53it/s]"
     ]
    },
    {
     "name": "stdout",
     "output_type": "stream",
     "text": [
      "Classifying: Mis-alignment Lug hole misaligned\n",
      "Top label: Splice gap with confidence score: 0.4744691550731659\n"
     ]
    },
    {
     "name": "stderr",
     "output_type": "stream",
     "text": [
      "\r",
      "Processing on GPU 1:  11%|███████████▉                                                                                                | 106/955 [00:24<03:09,  4.47it/s]"
     ]
    },
    {
     "name": "stdout",
     "output_type": "stream",
     "text": [
      "Classifying: Core Step Core Step\n",
      "Top label: Core split with confidence score: 0.18635182082653046\n"
     ]
    },
    {
     "name": "stderr",
     "output_type": "stream",
     "text": [
      "\r",
      "Processing on GPU 0:  11%|███████████▉                                                                                                | 106/957 [00:24<03:09,  4.49it/s]"
     ]
    },
    {
     "name": "stdout",
     "output_type": "stream",
     "text": [
      "Classifying: Delamination Composite Manufacturing Delamination on CHF flange\n",
      "Top label: Core split with confidence score: 0.5320346355438232\n"
     ]
    },
    {
     "name": "stderr",
     "output_type": "stream",
     "text": [
      "\r",
      "Processing on GPU 1:  11%|████████████                                                                                                | 107/955 [00:24<03:09,  4.48it/s]"
     ]
    },
    {
     "name": "stdout",
     "output_type": "stream",
     "text": [
      "Classifying: Imprint on Surface Dent Depression\n",
      "Top label: Core deformation with confidence score: 0.15552674233913422\n"
     ]
    },
    {
     "name": "stderr",
     "output_type": "stream",
     "text": [
      "\r",
      "Processing on GPU 0:  11%|████████████                                                                                                | 107/957 [00:24<03:09,  4.49it/s]"
     ]
    },
    {
     "name": "stdout",
     "output_type": "stream",
     "text": [
      "Classifying: Delamination Composite Manufacturing Delamination on CHF flange\n",
      "Top label: Core deformation with confidence score: 0.15729643404483795\n"
     ]
    },
    {
     "name": "stderr",
     "output_type": "stream",
     "text": [
      "\r",
      "Processing on GPU 1:  11%|████████████▏                                                                                               | 108/955 [00:24<03:08,  4.49it/s]"
     ]
    },
    {
     "name": "stdout",
     "output_type": "stream",
     "text": [
      "Classifying: Trim Defect g2- Flaking during machining\n",
      "Top label: Core deformation with confidence score: 0.15552674233913422\n"
     ]
    },
    {
     "name": "stderr",
     "output_type": "stream",
     "text": [
      "\r",
      "Processing on GPU 0:  11%|████████████▏                                                                                               | 108/957 [00:24<03:08,  4.51it/s]"
     ]
    },
    {
     "name": "stdout",
     "output_type": "stream",
     "text": [
      "Classifying: Delamination Composite Manufacturing Delamination on CHF flange\n",
      "Top label: Splice gap with confidence score: 0.15652863681316376\n"
     ]
    },
    {
     "name": "stderr",
     "output_type": "stream",
     "text": [
      "\r",
      "Processing on GPU 1:  11%|████████████▎                                                                                               | 109/955 [00:24<03:10,  4.44it/s]"
     ]
    },
    {
     "name": "stdout",
     "output_type": "stream",
     "text": [
      "Classifying: Imprint on Surface Dent Depression on chamfer area\n",
      "Top label: Core deformation with confidence score: 0.15552674233913422\n"
     ]
    },
    {
     "name": "stderr",
     "output_type": "stream",
     "text": [
      "\r",
      "Processing on GPU 0:  11%|████████████▎                                                                                               | 109/957 [00:24<03:07,  4.52it/s]"
     ]
    },
    {
     "name": "stdout",
     "output_type": "stream",
     "text": [
      "Classifying: Delamination Composite Manufacturing Delamination on CHF flange\n",
      "Top label: Splice gap with confidence score: 0.2961883842945099\n"
     ]
    },
    {
     "name": "stderr",
     "output_type": "stream",
     "text": [
      "\r",
      "Processing on GPU 1:  12%|████████████▍                                                                                               | 110/955 [00:24<03:09,  4.46it/s]"
     ]
    },
    {
     "name": "stdout",
     "output_type": "stream",
     "text": [
      "Classifying: Splice Defect on Bridge betw Core & Core Flute in laminate\n",
      "Top label: Core deformation with confidence score: 0.15552674233913422\n"
     ]
    },
    {
     "name": "stderr",
     "output_type": "stream",
     "text": [
      "\r",
      "Processing on GPU 0:  11%|████████████▍                                                                                               | 110/957 [00:24<03:07,  4.52it/s]"
     ]
    },
    {
     "name": "stdout",
     "output_type": "stream",
     "text": [
      "Classifying: Traceability not recorded Freeze in/out not recorded on SAP\n",
      "Top label: Splice gap with confidence score: 0.4838182330131531\n"
     ]
    },
    {
     "name": "stderr",
     "output_type": "stream",
     "text": [
      "\r",
      "Processing on GPU 1:  12%|████████████▌                                                                                               | 111/955 [00:25<03:08,  4.49it/s]"
     ]
    },
    {
     "name": "stdout",
     "output_type": "stream",
     "text": [
      "Classifying: Core Step Surface defect\n",
      "Top label: Splice gap with confidence score: 0.21892641484737396\n"
     ]
    },
    {
     "name": "stderr",
     "output_type": "stream",
     "text": [
      "\r",
      "Processing on GPU 0:  12%|████████████▌                                                                                               | 111/957 [00:25<03:08,  4.48it/s]"
     ]
    },
    {
     "name": "stdout",
     "output_type": "stream",
     "text": [
      "Classifying: Delamination Composite Manufacturing NDT Initial failure\n",
      "Top label: Core deformation with confidence score: 0.6180459260940552\n"
     ]
    },
    {
     "name": "stderr",
     "output_type": "stream",
     "text": [
      "\r",
      "Processing on GPU 1:  12%|████████████▋                                                                                               | 112/955 [00:25<03:07,  4.49it/s]"
     ]
    },
    {
     "name": "stdout",
     "output_type": "stream",
     "text": [
      "Classifying: Missing Omitted holes from CNC\n",
      "Top label: Resin buildup with confidence score: 0.2230015993118286\n"
     ]
    },
    {
     "name": "stderr",
     "output_type": "stream",
     "text": [
      "\r",
      "Processing on GPU 0:  12%|████████████▋                                                                                               | 112/957 [00:25<03:08,  4.48it/s]"
     ]
    },
    {
     "name": "stdout",
     "output_type": "stream",
     "text": [
      "Classifying: Delamination Composite Manufacturing NDT Initial failure\n",
      "Top label: Core deformation with confidence score: 0.3066060543060303\n"
     ]
    },
    {
     "name": "stderr",
     "output_type": "stream",
     "text": [
      "\r",
      "Processing on GPU 1:  12%|████████████▊                                                                                               | 113/955 [00:25<03:07,  4.50it/s]"
     ]
    },
    {
     "name": "stdout",
     "output_type": "stream",
     "text": [
      "Classifying: Demoulding Damage Damage\n",
      "Top label: Resin buildup with confidence score: 0.2230015993118286\n"
     ]
    },
    {
     "name": "stderr",
     "output_type": "stream",
     "text": [
      "\r",
      "Processing on GPU 0:  12%|████████████▊                                                                                               | 113/957 [00:25<03:08,  4.48it/s]"
     ]
    },
    {
     "name": "stdout",
     "output_type": "stream",
     "text": [
      "Classifying: Delamination Composite Manufacturing NDT Initial failure\n",
      "Top label: Core displacement with confidence score: 0.21007467806339264\n"
     ]
    },
    {
     "name": "stderr",
     "output_type": "stream",
     "text": [
      "\r",
      "Processing on GPU 1:  12%|████████████▉                                                                                               | 114/955 [00:25<03:07,  4.50it/s]"
     ]
    },
    {
     "name": "stdout",
     "output_type": "stream",
     "text": [
      "Classifying: Delamination synskin delamination\n",
      "Top label: Resin buildup with confidence score: 0.2230015993118286\n"
     ]
    },
    {
     "name": "stderr",
     "output_type": "stream",
     "text": [
      "\r",
      "Processing on GPU 0:  12%|████████████▊                                                                                               | 114/957 [00:25<03:08,  4.48it/s]"
     ]
    },
    {
     "name": "stdout",
     "output_type": "stream",
     "text": [
      "Classifying: Traceability not recorded ADMIN- traceability not recorded\n",
      "Top label: Resin buildup with confidence score: 0.3661534786224365\n"
     ]
    },
    {
     "name": "stderr",
     "output_type": "stream",
     "text": [
      "\r",
      "Processing on GPU 1:  12%|█████████████                                                                                               | 115/955 [00:26<03:06,  4.51it/s]"
     ]
    },
    {
     "name": "stdout",
     "output_type": "stream",
     "text": [
      "Classifying: Splice Defect on Bridge betw Core & Core initial failure\n",
      "Top label: Core split with confidence score: 0.25791749358177185\n"
     ]
    },
    {
     "name": "stderr",
     "output_type": "stream",
     "text": [
      "\r",
      "Processing on GPU 0:  12%|████████████▉                                                                                               | 115/957 [00:26<03:07,  4.49it/s]"
     ]
    },
    {
     "name": "stdout",
     "output_type": "stream",
     "text": [
      "Classifying: Delamination Composite Manufacturing Delamination on CHF flange\n",
      "Top label: Splice gap with confidence score: 0.5290347933769226\n"
     ]
    },
    {
     "name": "stderr",
     "output_type": "stream",
     "text": [
      "\r",
      "Processing on GPU 1:  12%|█████████████                                                                                               | 116/955 [00:26<03:06,  4.51it/s]"
     ]
    },
    {
     "name": "stdout",
     "output_type": "stream",
     "text": [
      "Classifying: Core Crush core dents\n",
      "Top label: Core deformation with confidence score: 0.15552674233913422\n"
     ]
    },
    {
     "name": "stderr",
     "output_type": "stream",
     "text": [
      "\r",
      "Processing on GPU 0:  12%|█████████████                                                                                               | 116/957 [00:26<03:07,  4.50it/s]"
     ]
    },
    {
     "name": "stdout",
     "output_type": "stream",
     "text": [
      "Classifying: Delamination Composite Manufacturing Delamination on CHF flange\n",
      "Top label: Core crash with confidence score: 0.32666274905204773\n"
     ]
    },
    {
     "name": "stderr",
     "output_type": "stream",
     "text": [
      "\r",
      "Processing on GPU 1:  12%|█████████████▏                                                                                              | 117/955 [00:26<03:05,  4.51it/s]"
     ]
    },
    {
     "name": "stdout",
     "output_type": "stream",
     "text": [
      "Classifying: Delamination Synskin defect\n",
      "Top label: Core deformation with confidence score: 0.15552674233913422\n"
     ]
    },
    {
     "name": "stderr",
     "output_type": "stream",
     "text": [
      "\r",
      "Processing on GPU 0:  12%|█████████████▏                                                                                              | 117/957 [00:26<03:07,  4.48it/s]"
     ]
    },
    {
     "name": "stdout",
     "output_type": "stream",
     "text": [
      "Classifying: Delamination Composite Manufacturing Delamination on CHF\n",
      "Top label: Separation noodle joint with confidence score: 0.28030675649642944\n"
     ]
    },
    {
     "name": "stderr",
     "output_type": "stream",
     "text": [
      "\r",
      "Processing on GPU 1:  12%|█████████████▎                                                                                              | 118/955 [00:26<03:06,  4.49it/s]"
     ]
    },
    {
     "name": "stdout",
     "output_type": "stream",
     "text": [
      "Classifying: Material Expired Material Expired\n",
      "Top label: Core deformation with confidence score: 0.1785498559474945\n"
     ]
    },
    {
     "name": "stderr",
     "output_type": "stream",
     "text": [
      "\r",
      "Processing on GPU 0:  12%|█████████████▎                                                                                              | 118/957 [00:26<03:07,  4.47it/s]"
     ]
    },
    {
     "name": "stdout",
     "output_type": "stream",
     "text": [
      "Classifying: Delamination Composite Manufacturing Delamination on CHF flange\n",
      "Top label: Core deformation with confidence score: 0.15185348689556122\n"
     ]
    },
    {
     "name": "stderr",
     "output_type": "stream",
     "text": [
      "\r",
      "Processing on GPU 1:  12%|█████████████▍                                                                                              | 119/955 [00:26<03:04,  4.54it/s]"
     ]
    },
    {
     "name": "stdout",
     "output_type": "stream",
     "text": [
      "Classifying: Ply Wrinkle Wrinkle\n",
      "Top label: Core deformation with confidence score: 0.15552674233913422\n"
     ]
    },
    {
     "name": "stderr",
     "output_type": "stream",
     "text": [
      "\r",
      "Processing on GPU 0:  12%|█████████████▍                                                                                              | 119/957 [00:26<03:09,  4.42it/s]"
     ]
    },
    {
     "name": "stdout",
     "output_type": "stream",
     "text": [
      "Classifying: Delamination Composite Manufacturing Delamination on CHF\n",
      "Top label: Foreign Object Damage with confidence score: 0.24570398032665253\n"
     ]
    },
    {
     "name": "stderr",
     "output_type": "stream",
     "text": [
      "\r",
      "Processing on GPU 1:  13%|█████████████▌                                                                                              | 120/955 [00:27<03:04,  4.54it/s]"
     ]
    },
    {
     "name": "stdout",
     "output_type": "stream",
     "text": [
      "Classifying: Core Step Core Step\n",
      "Top label: Core deformation with confidence score: 0.1785498559474945\n"
     ]
    },
    {
     "name": "stderr",
     "output_type": "stream",
     "text": [
      "\r",
      "Processing on GPU 0:  13%|█████████████▌                                                                                              | 120/957 [00:27<03:08,  4.45it/s]"
     ]
    },
    {
     "name": "stdout",
     "output_type": "stream",
     "text": [
      "Classifying: Traceability not recorded ADMIN- traceability not recorded\n",
      "Top label: Core split with confidence score: 0.5320346355438232\n"
     ]
    },
    {
     "name": "stderr",
     "output_type": "stream",
     "text": [
      "\r",
      "Processing on GPU 1:  13%|█████████████▋                                                                                              | 121/955 [00:27<03:04,  4.52it/s]"
     ]
    },
    {
     "name": "stdout",
     "output_type": "stream",
     "text": [
      "Classifying: Core Step Core Steps\n",
      "Top label: Core split with confidence score: 0.25791749358177185\n"
     ]
    },
    {
     "name": "stderr",
     "output_type": "stream",
     "text": [
      "\r",
      "Processing on GPU 0:  13%|█████████████▋                                                                                              | 121/957 [00:27<03:07,  4.46it/s]"
     ]
    },
    {
     "name": "stdout",
     "output_type": "stream",
     "text": [
      "Classifying: Traceability not recorded ADMIN- traceability not recorded\n",
      "Top label: Core split with confidence score: 0.6820549368858337\n"
     ]
    },
    {
     "name": "stderr",
     "output_type": "stream",
     "text": [
      "\r",
      "Processing on GPU 1:  13%|█████████████▊                                                                                              | 122/955 [00:27<03:04,  4.52it/s]"
     ]
    },
    {
     "name": "stdout",
     "output_type": "stream",
     "text": [
      "Classifying: Imprint on Surface Dent Depression on Chamfer\n",
      "Top label: Core split with confidence score: 0.25791749358177185\n"
     ]
    },
    {
     "name": "stderr",
     "output_type": "stream",
     "text": [
      "\r",
      "Processing on GPU 0:  13%|█████████████▊                                                                                              | 122/957 [00:27<03:07,  4.46it/s]"
     ]
    },
    {
     "name": "stdout",
     "output_type": "stream",
     "text": [
      "Classifying: Traceability not recorded Freeze in/out not captured on SAP\n",
      "Top label: Separation noodle joint with confidence score: 0.1767207384109497\n"
     ]
    },
    {
     "name": "stderr",
     "output_type": "stream",
     "text": [
      "\r",
      "Processing on GPU 1:  13%|█████████████▉                                                                                              | 123/955 [00:27<03:03,  4.52it/s]"
     ]
    },
    {
     "name": "stdout",
     "output_type": "stream",
     "text": [
      "Classifying: Porosity Delamination\n",
      "Top label: Splice gap with confidence score: 0.2301783710718155\n"
     ]
    },
    {
     "name": "stderr",
     "output_type": "stream",
     "text": [
      "\r",
      "Processing on GPU 0:  13%|█████████████▉                                                                                              | 123/957 [00:27<03:05,  4.49it/s]"
     ]
    },
    {
     "name": "stdout",
     "output_type": "stream",
     "text": [
      "Classifying: Traceability not recorded Freeze in/out not captured on SAP\n",
      "Top label: Separation noodle joint with confidence score: 0.285478413105011\n"
     ]
    },
    {
     "name": "stderr",
     "output_type": "stream",
     "text": [
      "\r",
      "Processing on GPU 1:  13%|██████████████                                                                                              | 124/955 [00:28<03:04,  4.50it/s]"
     ]
    },
    {
     "name": "stdout",
     "output_type": "stream",
     "text": [
      "Classifying: Shelf Life Expired Shelf life expired before curing\n",
      "Top label: Splice gap with confidence score: 0.2301783710718155\n"
     ]
    },
    {
     "name": "stderr",
     "output_type": "stream",
     "text": [
      "\r",
      "Processing on GPU 0:  13%|█████████████▉                                                                                              | 124/957 [00:28<03:06,  4.47it/s]"
     ]
    },
    {
     "name": "stdout",
     "output_type": "stream",
     "text": [
      "Classifying: Traceability not recorded Freeze in/out not captured on SAP\n",
      "Top label: Separation noodle joint with confidence score: 0.15353600680828094\n"
     ]
    },
    {
     "name": "stderr",
     "output_type": "stream",
     "text": [
      "\r",
      "Processing on GPU 1:  13%|██████████████▏                                                                                             | 125/955 [00:28<03:05,  4.47it/s]"
     ]
    },
    {
     "name": "stdout",
     "output_type": "stream",
     "text": [
      "Classifying: Wrinkle shim gap from 200027755\n",
      "Top label: Splice gap with confidence score: 0.2301783710718155\n"
     ]
    },
    {
     "name": "stderr",
     "output_type": "stream",
     "text": [
      "\r",
      "Processing on GPU 0:  13%|██████████████                                                                                              | 125/957 [00:28<03:04,  4.51it/s]"
     ]
    },
    {
     "name": "stdout",
     "output_type": "stream",
     "text": [
      "Classifying: foil-/ foreign-inclusion detected TC pin (FOD)\n",
      "Top label: Splice gap with confidence score: 0.19657331705093384\n"
     ]
    },
    {
     "name": "stderr",
     "output_type": "stream",
     "text": [
      "\r",
      "Processing on GPU 1:  13%|██████████████▏                                                                                             | 126/955 [00:28<03:04,  4.49it/s]"
     ]
    },
    {
     "name": "stdout",
     "output_type": "stream",
     "text": [
      "Classifying: Imprint on Surface Dent Surface Depressions\n",
      "Top label: Foreign Object Damage with confidence score: 0.5576709508895874\n"
     ]
    },
    {
     "name": "stderr",
     "output_type": "stream",
     "text": [
      "\r",
      "Processing on GPU 0:  13%|██████████████▏                                                                                             | 126/957 [00:28<03:05,  4.48it/s]"
     ]
    },
    {
     "name": "stdout",
     "output_type": "stream",
     "text": [
      "Classifying: Delamination Composite Manufacturing DELAMINATION ABOVE SIZE LIMIT.\n",
      "Top label: Separation noodle joint with confidence score: 0.15572044253349304\n"
     ]
    },
    {
     "name": "stderr",
     "output_type": "stream",
     "text": [
      "\r",
      "Processing on GPU 1:  13%|██████████████▎                                                                                             | 127/955 [00:28<03:03,  4.52it/s]"
     ]
    },
    {
     "name": "stdout",
     "output_type": "stream",
     "text": [
      "Classifying: Delamination Synskin Delamination\n",
      "Top label: Resin buildup with confidence score: 0.20451240241527557\n"
     ]
    },
    {
     "name": "stderr",
     "output_type": "stream",
     "text": [
      "\r",
      "Processing on GPU 0:  13%|██████████████▎                                                                                             | 127/957 [00:28<03:06,  4.45it/s]"
     ]
    },
    {
     "name": "stdout",
     "output_type": "stream",
     "text": [
      "Classifying: Traceability not recorded Traceability not recorded-ADMIN\n",
      "Top label: Separation noodle joint with confidence score: 0.43258166313171387\n"
     ]
    },
    {
     "name": "stderr",
     "output_type": "stream",
     "text": [
      "\r",
      "Processing on GPU 1:  13%|██████████████▍                                                                                             | 128/955 [00:28<03:03,  4.51it/s]"
     ]
    },
    {
     "name": "stdout",
     "output_type": "stream",
     "text": [
      "Classifying: Temperature Deviation Thermocouple over shoot\n",
      "Top label: Splice gap with confidence score: 0.2064054012298584\n"
     ]
    },
    {
     "name": "stderr",
     "output_type": "stream",
     "text": [
      "\r",
      "Processing on GPU 0:  13%|██████████████▍                                                                                             | 128/957 [00:28<03:06,  4.44it/s]"
     ]
    },
    {
     "name": "stdout",
     "output_type": "stream",
     "text": [
      "Classifying: Traceability not recorded Traceability not recorded-ADMIN\n",
      "Top label: Splice gap with confidence score: 0.21130983531475067\n"
     ]
    },
    {
     "name": "stderr",
     "output_type": "stream",
     "text": [
      "\r",
      "Processing on GPU 1:  14%|██████████████▌                                                                                             | 129/955 [00:29<03:03,  4.51it/s]"
     ]
    },
    {
     "name": "stdout",
     "output_type": "stream",
     "text": [
      "Classifying: Core Step Surface defect\n",
      "Top label: Splice gap with confidence score: 0.2064054012298584\n"
     ]
    },
    {
     "name": "stderr",
     "output_type": "stream",
     "text": [
      "\r",
      "Processing on GPU 0:  13%|██████████████▌                                                                                             | 129/957 [00:29<03:06,  4.44it/s]"
     ]
    },
    {
     "name": "stdout",
     "output_type": "stream",
     "text": [
      "Classifying: Traceability not recorded Traceability not recorded-ADMIN\n",
      "Top label: Core deformation with confidence score: 0.6180459260940552\n"
     ]
    },
    {
     "name": "stderr",
     "output_type": "stream",
     "text": [
      "\r",
      "Processing on GPU 1:  14%|██████████████▋                                                                                             | 130/955 [00:29<03:02,  4.52it/s]"
     ]
    },
    {
     "name": "stdout",
     "output_type": "stream",
     "text": [
      "Classifying: Core Crush Core dent,\n",
      "Top label: Splice gap with confidence score: 0.2064054012298584\n"
     ]
    },
    {
     "name": "stderr",
     "output_type": "stream",
     "text": [
      "\r",
      "Processing on GPU 0:  14%|██████████████▋                                                                                             | 130/957 [00:29<03:05,  4.46it/s]"
     ]
    },
    {
     "name": "stdout",
     "output_type": "stream",
     "text": [
      "Classifying: Delamination Composite Manufacturing DELAMINATION ABOVE SIZE LIMIT.\n",
      "Top label: Core crash with confidence score: 0.3309307098388672\n"
     ]
    },
    {
     "name": "stderr",
     "output_type": "stream",
     "text": [
      "\r",
      "Processing on GPU 1:  14%|██████████████▊                                                                                             | 131/955 [00:29<03:01,  4.53it/s]"
     ]
    },
    {
     "name": "stdout",
     "output_type": "stream",
     "text": [
      "Classifying: Demoulding Damage (Core Crush) Damage\n",
      "Top label: Resin buildup with confidence score: 0.20451240241527557\n"
     ]
    },
    {
     "name": "stderr",
     "output_type": "stream",
     "text": [
      "\r",
      "Processing on GPU 0:  14%|██████████████▊                                                                                             | 131/957 [00:29<03:05,  4.46it/s]"
     ]
    },
    {
     "name": "stdout",
     "output_type": "stream",
     "text": [
      "Classifying: Delamination Composite Manufacturing nan\n",
      "Top label: Core deformation with confidence score: 0.5140454173088074\n"
     ]
    },
    {
     "name": "stderr",
     "output_type": "stream",
     "text": [
      "\r",
      "Processing on GPU 1:  14%|██████████████▉                                                                                             | 132/955 [00:29<03:01,  4.53it/s]"
     ]
    },
    {
     "name": "stdout",
     "output_type": "stream",
     "text": [
      "Classifying: Disbond Disbonding within part\n",
      "Top label: Resin buildup with confidence score: 0.4230847954750061\n"
     ]
    },
    {
     "name": "stderr",
     "output_type": "stream",
     "text": [
      "\r",
      "Processing on GPU 0:  14%|██████████████▉                                                                                             | 132/957 [00:29<03:04,  4.46it/s]"
     ]
    },
    {
     "name": "stdout",
     "output_type": "stream",
     "text": [
      "Classifying: Delamination Composite Manufacturing DELAMINATION ABOVE SIZE LIMIT.\n",
      "Top label: Core displacement with confidence score: 0.228065624833107\n"
     ]
    },
    {
     "name": "stderr",
     "output_type": "stream",
     "text": [
      "\r",
      "Processing on GPU 1:  14%|███████████████                                                                                             | 133/955 [00:30<03:02,  4.51it/s]"
     ]
    },
    {
     "name": "stdout",
     "output_type": "stream",
     "text": [
      "Classifying: Core Step Sureface Defect\n",
      "Top label: Resin buildup with confidence score: 0.20451240241527557\n"
     ]
    },
    {
     "name": "stderr",
     "output_type": "stream",
     "text": [
      "\r",
      "Processing on GPU 0:  14%|███████████████                                                                                             | 133/957 [00:30<03:03,  4.48it/s]"
     ]
    },
    {
     "name": "stdout",
     "output_type": "stream",
     "text": [
      "Classifying: Traceability not recorded ADMIN- traceability not recorded\n",
      "Top label: Core deformation with confidence score: 0.5645403265953064\n"
     ]
    },
    {
     "name": "stderr",
     "output_type": "stream",
     "text": [
      "\r",
      "Processing on GPU 1:  14%|███████████████▏                                                                                            | 134/955 [00:30<03:02,  4.50it/s]"
     ]
    },
    {
     "name": "stdout",
     "output_type": "stream",
     "text": [
      "Classifying: Imprint on Surface Dent Depressions on Chamfer\n",
      "Top label: Core split with confidence score: 0.25791749358177185\n"
     ]
    },
    {
     "name": "stderr",
     "output_type": "stream",
     "text": [
      "\r",
      "Processing on GPU 0:  14%|███████████████                                                                                             | 134/957 [00:30<03:01,  4.53it/s]"
     ]
    },
    {
     "name": "stdout",
     "output_type": "stream",
     "text": [
      "Classifying: Honeycomb geometry Honeycomb geometry issue due to CHF repr\n",
      "Top label: Resin buildup with confidence score: 0.15988323092460632\n"
     ]
    },
    {
     "name": "stderr",
     "output_type": "stream",
     "text": [
      "\r",
      "Processing on GPU 1:  14%|███████████████▎                                                                                            | 135/955 [00:30<03:05,  4.41it/s]"
     ]
    },
    {
     "name": "stdout",
     "output_type": "stream",
     "text": [
      "Classifying: Dents Over Splice Lines Depression along splice line\n",
      "Top label: Resin buildup with confidence score: 0.49552932381629944\n"
     ]
    },
    {
     "name": "stderr",
     "output_type": "stream",
     "text": [
      "\r",
      "Processing on GPU 0:  14%|███████████████▏                                                                                            | 135/957 [00:30<03:01,  4.52it/s]"
     ]
    },
    {
     "name": "stdout",
     "output_type": "stream",
     "text": [
      "Classifying: Honeycomb geometry Honeycomb geometry issue due to CHF repr\n",
      "Top label: Splice gap with confidence score: 0.5056720972061157\n"
     ]
    },
    {
     "name": "stderr",
     "output_type": "stream",
     "text": [
      "\r",
      "Processing on GPU 1:  14%|███████████████▍                                                                                            | 136/955 [00:30<03:04,  4.44it/s]"
     ]
    },
    {
     "name": "stdout",
     "output_type": "stream",
     "text": [
      "Classifying: Core Step Core Step\n",
      "Top label: Resin buildup with confidence score: 0.49552932381629944\n"
     ]
    },
    {
     "name": "stderr",
     "output_type": "stream",
     "text": [
      "\r",
      "Processing on GPU 0:  14%|███████████████▎                                                                                            | 136/957 [00:30<03:01,  4.52it/s]"
     ]
    },
    {
     "name": "stdout",
     "output_type": "stream",
     "text": [
      "Classifying: foil-/ foreign-inclusion detected TC pin found\n",
      "Top label: Core split with confidence score: 0.5320346355438232\n"
     ]
    },
    {
     "name": "stderr",
     "output_type": "stream",
     "text": [
      "\r",
      "Processing on GPU 1:  14%|███████████████▍                                                                                            | 137/955 [00:30<03:03,  4.46it/s]"
     ]
    },
    {
     "name": "stdout",
     "output_type": "stream",
     "text": [
      "Classifying: Material Expired Material expired before curing\n",
      "Top label: Foreign Object Damage with confidence score: 0.40348419547080994\n"
     ]
    },
    {
     "name": "stderr",
     "output_type": "stream",
     "text": [
      "\r",
      "Processing on GPU 0:  14%|███████████████▍                                                                                            | 137/957 [00:30<03:01,  4.52it/s]"
     ]
    },
    {
     "name": "stdout",
     "output_type": "stream",
     "text": [
      "Classifying: Sample Test / Specimen Drum peel test failed\n",
      "Top label: Splice gap with confidence score: 0.14933939278125763\n"
     ]
    },
    {
     "name": "stderr",
     "output_type": "stream",
     "text": [
      "\r",
      "Processing on GPU 1:  14%|███████████████▌                                                                                            | 138/955 [00:31<03:03,  4.44it/s]"
     ]
    },
    {
     "name": "stdout",
     "output_type": "stream",
     "text": [
      "Classifying: Delamination NDT Initial Failure\n",
      "Top label: Core deformation with confidence score: 0.2336331456899643\n"
     ]
    },
    {
     "name": "stderr",
     "output_type": "stream",
     "text": [
      "\r",
      "Processing on GPU 0:  14%|███████████████▌                                                                                            | 138/957 [00:31<03:01,  4.52it/s]"
     ]
    },
    {
     "name": "stdout",
     "output_type": "stream",
     "text": [
      "Classifying: Sample Test / Specimen Drum peel test failed\n",
      "Top label: Separation noodle joint with confidence score: 0.23277020454406738\n"
     ]
    },
    {
     "name": "stderr",
     "output_type": "stream",
     "text": [
      "\r",
      "Processing on GPU 1:  15%|███████████████▋                                                                                            | 139/955 [00:31<03:02,  4.46it/s]"
     ]
    },
    {
     "name": "stdout",
     "output_type": "stream",
     "text": [
      "Classifying: Porosity NDT Initial Failure\n",
      "Top label: Core deformation with confidence score: 0.2336331456899643\n"
     ]
    },
    {
     "name": "stderr",
     "output_type": "stream",
     "text": [
      "\r",
      "Processing on GPU 0:  15%|███████████████▋                                                                                            | 139/957 [00:31<03:01,  4.52it/s]"
     ]
    },
    {
     "name": "stdout",
     "output_type": "stream",
     "text": [
      "Classifying: Sample Test / Specimen Drum peel test failed\n",
      "Top label: Separation noodle joint with confidence score: 0.3033478558063507\n"
     ]
    },
    {
     "name": "stderr",
     "output_type": "stream",
     "text": [
      "\r",
      "Processing on GPU 1:  15%|███████████████▊                                                                                            | 140/955 [00:31<03:02,  4.47it/s]"
     ]
    },
    {
     "name": "stdout",
     "output_type": "stream",
     "text": [
      "Classifying: Delamination NDT Initial Failure\n",
      "Top label: Core deformation with confidence score: 0.2336331456899643\n"
     ]
    },
    {
     "name": "stderr",
     "output_type": "stream",
     "text": [
      "\r",
      "Processing on GPU 0:  15%|███████████████▊                                                                                            | 140/957 [00:31<03:00,  4.52it/s]"
     ]
    },
    {
     "name": "stdout",
     "output_type": "stream",
     "text": [
      "Classifying: Sample Test / Specimen Drum peel test failed\n",
      "Top label: Separation noodle joint with confidence score: 0.23277020454406738\n"
     ]
    },
    {
     "name": "stderr",
     "output_type": "stream",
     "text": [
      "\r",
      "Processing on GPU 1:  15%|███████████████▉                                                                                            | 141/955 [00:31<03:01,  4.48it/s]"
     ]
    },
    {
     "name": "stdout",
     "output_type": "stream",
     "text": [
      "Classifying: Delamination NDT Initial Failure\n",
      "Top label: Core deformation with confidence score: 0.2336331456899643\n"
     ]
    },
    {
     "name": "stderr",
     "output_type": "stream",
     "text": [
      "\r",
      "Processing on GPU 0:  15%|███████████████▉                                                                                            | 141/957 [00:31<03:01,  4.51it/s]"
     ]
    },
    {
     "name": "stdout",
     "output_type": "stream",
     "text": [
      "Classifying: Sample Test / Specimen Drum peel test failed\n",
      "Top label: Separation noodle joint with confidence score: 0.23277020454406738\n"
     ]
    },
    {
     "name": "stderr",
     "output_type": "stream",
     "text": [
      "\r",
      "Processing on GPU 1:  15%|████████████████                                                                                            | 142/955 [00:32<03:02,  4.46it/s]"
     ]
    },
    {
     "name": "stdout",
     "output_type": "stream",
     "text": [
      "Classifying: Delamination NDT Second Failure\n",
      "Top label: Core deformation with confidence score: 0.2336331456899643\n"
     ]
    },
    {
     "name": "stderr",
     "output_type": "stream",
     "text": [
      "\r",
      "Processing on GPU 0:  15%|████████████████                                                                                            | 142/957 [00:32<02:59,  4.54it/s]"
     ]
    },
    {
     "name": "stdout",
     "output_type": "stream",
     "text": [
      "Classifying: Honeycomb geometry Honeycomb geometry issue due to CHF repr\n",
      "Top label: Foreign Object Damage with confidence score: 0.20595213770866394\n"
     ]
    },
    {
     "name": "stderr",
     "output_type": "stream",
     "text": [
      "\r",
      "Processing on GPU 1:  15%|████████████████▏                                                                                           | 143/955 [00:32<03:01,  4.47it/s]"
     ]
    },
    {
     "name": "stdout",
     "output_type": "stream",
     "text": [
      "Classifying: Material Not Per Drawing Material not used as per WKI\n",
      "Top label: Resin buildup with confidence score: 0.49552932381629944\n"
     ]
    },
    {
     "name": "stderr",
     "output_type": "stream",
     "text": [
      "\r",
      "Processing on GPU 0:  15%|████████████████▏                                                                                           | 143/957 [00:32<02:59,  4.53it/s]"
     ]
    },
    {
     "name": "stdout",
     "output_type": "stream",
     "text": [
      "Classifying: Sample Test / Specimen Drum peel test failed\n",
      "Top label: Foreign Object Damage with confidence score: 0.15827840566635132\n"
     ]
    },
    {
     "name": "stderr",
     "output_type": "stream",
     "text": [
      "\r",
      "Processing on GPU 1:  15%|████████████████▎                                                                                           | 144/955 [00:32<03:02,  4.44it/s]"
     ]
    },
    {
     "name": "stdout",
     "output_type": "stream",
     "text": [
      "Classifying: Core Crush Core Depression\n",
      "Top label: Core deformation with confidence score: 0.2336331456899643\n"
     ]
    },
    {
     "name": "stderr",
     "output_type": "stream",
     "text": [
      "\r",
      "Processing on GPU 0:  15%|████████████████▎                                                                                           | 144/957 [00:32<02:58,  4.55it/s]"
     ]
    },
    {
     "name": "stdout",
     "output_type": "stream",
     "text": [
      "Classifying: Sample Test / Specimen Drum peel test failed\n",
      "Top label: Core crash with confidence score: 0.4133613705635071\n"
     ]
    },
    {
     "name": "stderr",
     "output_type": "stream",
     "text": [
      "\r",
      "Processing on GPU 1:  15%|████████████████▍                                                                                           | 145/955 [00:32<03:02,  4.44it/s]"
     ]
    },
    {
     "name": "stdout",
     "output_type": "stream",
     "text": [
      "Classifying: Core Step Core Step\n",
      "Top label: Core deformation with confidence score: 0.2336331456899643\n"
     ]
    },
    {
     "name": "stderr",
     "output_type": "stream",
     "text": [
      "\r",
      "Processing on GPU 0:  15%|████████████████▎                                                                                           | 145/957 [00:32<02:59,  4.52it/s]"
     ]
    },
    {
     "name": "stdout",
     "output_type": "stream",
     "text": [
      "Classifying: Sample Test / Specimen Drum peel test failed due to no adhesive\n",
      "Top label: Core split with confidence score: 0.5320346355438232\n"
     ]
    },
    {
     "name": "stderr",
     "output_type": "stream",
     "text": [
      "\r",
      "Processing on GPU 1:  15%|████████████████▌                                                                                           | 146/955 [00:32<03:01,  4.46it/s]"
     ]
    },
    {
     "name": "stdout",
     "output_type": "stream",
     "text": [
      "Classifying: Ply Wrinkle Wrinkle\n",
      "Top label: Core displacement with confidence score: 0.21970197558403015\n"
     ]
    },
    {
     "name": "stderr",
     "output_type": "stream",
     "text": [
      "\r",
      "Processing on GPU 0:  15%|████████████████▍                                                                                           | 146/957 [00:32<02:59,  4.52it/s]"
     ]
    },
    {
     "name": "stdout",
     "output_type": "stream",
     "text": [
      "Classifying: Sample Test / Specimen Drum peel test failed\n",
      "Top label: Foreign Object Damage with confidence score: 0.24570398032665253\n"
     ]
    },
    {
     "name": "stderr",
     "output_type": "stream",
     "text": [
      "\r",
      "Processing on GPU 1:  15%|████████████████▌                                                                                           | 147/955 [00:33<03:00,  4.48it/s]"
     ]
    },
    {
     "name": "stdout",
     "output_type": "stream",
     "text": [
      "Classifying: Imprint on Surface Dent Depression on Chamfer\n",
      "Top label: Core deformation with confidence score: 0.2336331456899643\n"
     ]
    },
    {
     "name": "stderr",
     "output_type": "stream",
     "text": [
      "\r",
      "Processing on GPU 0:  15%|████████████████▌                                                                                           | 147/957 [00:33<02:59,  4.51it/s]"
     ]
    },
    {
     "name": "stdout",
     "output_type": "stream",
     "text": [
      "Classifying: Special processes qualification ADMIN- Trial charter\n",
      "Top label: Separation noodle joint with confidence score: 0.1767207384109497\n"
     ]
    },
    {
     "name": "stderr",
     "output_type": "stream",
     "text": [
      "\r",
      "Processing on GPU 1:  15%|████████████████▋                                                                                           | 148/955 [00:33<03:00,  4.47it/s]"
     ]
    },
    {
     "name": "stdout",
     "output_type": "stream",
     "text": [
      "Classifying: Porosity Porosity & unidentified defect\n",
      "Top label: Core split with confidence score: 0.20369134843349457\n"
     ]
    },
    {
     "name": "stderr",
     "output_type": "stream",
     "text": [
      "\r",
      "Processing on GPU 0:  15%|████████████████▋                                                                                           | 148/957 [00:33<02:58,  4.53it/s]"
     ]
    },
    {
     "name": "stdout",
     "output_type": "stream",
     "text": [
      "Classifying: Process Qualification Trial Charter ISS-0008540-Rev 2\n",
      "Top label: Foreign Object Damage with confidence score: 0.26888078451156616\n"
     ]
    },
    {
     "name": "stderr",
     "output_type": "stream",
     "text": [
      "\r",
      "Processing on GPU 1:  16%|████████████████▊                                                                                           | 149/955 [00:33<02:59,  4.49it/s]"
     ]
    },
    {
     "name": "stdout",
     "output_type": "stream",
     "text": [
      "Classifying: Porosity porosity\n",
      "Top label: Core split with confidence score: 0.24487383663654327\n"
     ]
    },
    {
     "name": "stderr",
     "output_type": "stream",
     "text": [
      "\r",
      "Processing on GPU 0:  16%|████████████████▊                                                                                           | 149/957 [00:33<03:00,  4.48it/s]"
     ]
    },
    {
     "name": "stdout",
     "output_type": "stream",
     "text": [
      "Classifying: Surface defects Surface defect due to peelply fold\n",
      "Top label: Core deformation with confidence score: 0.22224535048007965\n"
     ]
    },
    {
     "name": "stderr",
     "output_type": "stream",
     "text": [
      "\r",
      "Processing on GPU 1:  16%|████████████████▉                                                                                           | 150/955 [00:33<02:58,  4.51it/s]"
     ]
    },
    {
     "name": "stdout",
     "output_type": "stream",
     "text": [
      "Classifying: Dents Over Splice Lines dent over splice lines\n",
      "Top label: Splice gap with confidence score: 0.2053602933883667\n"
     ]
    },
    {
     "name": "stderr",
     "output_type": "stream",
     "text": [
      "\r",
      "Processing on GPU 0:  16%|████████████████▉                                                                                           | 150/957 [00:33<02:59,  4.48it/s]"
     ]
    },
    {
     "name": "stdout",
     "output_type": "stream",
     "text": [
      "Classifying: Sealant Sealant crack around bush\n",
      "Top label: Splice gap with confidence score: 0.4128040075302124\n"
     ]
    },
    {
     "name": "stderr",
     "output_type": "stream",
     "text": [
      "\r",
      "Processing on GPU 1:  16%|█████████████████                                                                                           | 151/955 [00:34<02:57,  4.52it/s]"
     ]
    },
    {
     "name": "stdout",
     "output_type": "stream",
     "text": [
      "Classifying: Imprint on Surface Dent Surface defect\n",
      "Top label: Resin buildup with confidence score: 0.21039949357509613\n"
     ]
    },
    {
     "name": "stderr",
     "output_type": "stream",
     "text": [
      "\r",
      "Processing on GPU 0:  16%|█████████████████                                                                                           | 151/957 [00:34<02:59,  4.48it/s]"
     ]
    },
    {
     "name": "stdout",
     "output_type": "stream",
     "text": [
      "Classifying: Special processes qualification ADMIN- Trial charter\n",
      "Top label: Splice gap with confidence score: 0.2084568440914154\n"
     ]
    },
    {
     "name": "stderr",
     "output_type": "stream",
     "text": [
      "\r",
      "Processing on GPU 1:  16%|█████████████████▏                                                                                          | 152/955 [00:34<02:58,  4.51it/s]"
     ]
    },
    {
     "name": "stdout",
     "output_type": "stream",
     "text": [
      "Classifying: Core Damage, Torn Nodal Joints CORE SPLICE DEFFECT\n",
      "Top label: Core split with confidence score: 0.20369134843349457\n"
     ]
    },
    {
     "name": "stderr",
     "output_type": "stream",
     "text": [
      "\r",
      "Processing on GPU 0:  16%|█████████████████▏                                                                                          | 152/957 [00:34<02:59,  4.48it/s]"
     ]
    },
    {
     "name": "stdout",
     "output_type": "stream",
     "text": [
      "Classifying: Fitting displacement Stabilized core don't fit on Front Spar\n",
      "Top label: Core deformation with confidence score: 0.3746359050273895\n"
     ]
    },
    {
     "name": "stderr",
     "output_type": "stream",
     "text": [
      "\r",
      "Processing on GPU 1:  16%|█████████████████▎                                                                                          | 153/955 [00:34<02:55,  4.57it/s]"
     ]
    },
    {
     "name": "stdout",
     "output_type": "stream",
     "text": [
      "Classifying: Porosity porosity\n",
      "Top label: Core displacement with confidence score: 0.45089051127433777\n"
     ]
    },
    {
     "name": "stderr",
     "output_type": "stream",
     "text": [
      "\r",
      "Processing on GPU 0:  16%|█████████████████▎                                                                                          | 153/957 [00:34<03:04,  4.36it/s]"
     ]
    },
    {
     "name": "stdout",
     "output_type": "stream",
     "text": [
      "Classifying: Fitting displacement Bush came out from fitting assy\n",
      "Top label: Core deformation with confidence score: 0.22224535048007965\n"
     ]
    },
    {
     "name": "stderr",
     "output_type": "stream",
     "text": [
      "\r",
      "Processing on GPU 1:  16%|█████████████████▍                                                                                          | 154/955 [00:34<02:56,  4.55it/s]"
     ]
    },
    {
     "name": "stdout",
     "output_type": "stream",
     "text": [
      "Classifying: Core Step Core Step\n",
      "Top label: Foreign Object Damage with confidence score: 0.3679938316345215\n"
     ]
    },
    {
     "name": "stderr",
     "output_type": "stream",
     "text": [
      "\r",
      "Processing on GPU 0:  16%|█████████████████▍                                                                                          | 154/957 [00:34<03:02,  4.41it/s]"
     ]
    },
    {
     "name": "stdout",
     "output_type": "stream",
     "text": [
      "Classifying: Delamination Composite Manufacturing Delamination above size limit.\n",
      "Top label: Core split with confidence score: 0.5320346355438232\n"
     ]
    },
    {
     "name": "stderr",
     "output_type": "stream",
     "text": [
      "\r",
      "Processing on GPU 1:  16%|█████████████████▌                                                                                          | 155/955 [00:34<02:56,  4.54it/s]"
     ]
    },
    {
     "name": "stdout",
     "output_type": "stream",
     "text": [
      "Classifying: Delamination NDT Initial Failure\n",
      "Top label: Resin buildup with confidence score: 0.20536752045154572\n"
     ]
    },
    {
     "name": "stderr",
     "output_type": "stream",
     "text": [
      "\r",
      "Processing on GPU 0:  16%|█████████████████▍                                                                                          | 155/957 [00:34<03:00,  4.44it/s]"
     ]
    },
    {
     "name": "stdout",
     "output_type": "stream",
     "text": [
      "Classifying: Delamination Composite Manufacturing NDT INITIAL DEFECT.\n",
      "Top label: Separation noodle joint with confidence score: 0.23277020454406738\n"
     ]
    },
    {
     "name": "stderr",
     "output_type": "stream",
     "text": [
      "\r",
      "Processing on GPU 1:  16%|█████████████████▋                                                                                          | 156/955 [00:35<02:55,  4.55it/s]"
     ]
    },
    {
     "name": "stdout",
     "output_type": "stream",
     "text": [
      "Classifying: Delamination Synskin Delamination\n",
      "Top label: Resin buildup with confidence score: 0.32861563563346863\n"
     ]
    },
    {
     "name": "stderr",
     "output_type": "stream",
     "text": [
      "\r",
      "Processing on GPU 0:  16%|█████████████████▌                                                                                          | 156/957 [00:35<03:00,  4.44it/s]"
     ]
    },
    {
     "name": "stdout",
     "output_type": "stream",
     "text": [
      "Classifying: Delamination Composite Manufacturing NDT FIRST REJECT\n",
      "Top label: Separation noodle joint with confidence score: 0.43258166313171387\n"
     ]
    },
    {
     "name": "stderr",
     "output_type": "stream",
     "text": [
      "\r",
      "Processing on GPU 1:  16%|█████████████████▊                                                                                          | 157/955 [00:35<02:55,  4.54it/s]"
     ]
    },
    {
     "name": "stdout",
     "output_type": "stream",
     "text": [
      "Classifying: Disbond Disbond\n",
      "Top label: Resin buildup with confidence score: 0.377132773399353\n"
     ]
    },
    {
     "name": "stderr",
     "output_type": "stream",
     "text": [
      "\r",
      "Processing on GPU 0:  16%|█████████████████▋                                                                                          | 157/957 [00:35<02:58,  4.48it/s]"
     ]
    },
    {
     "name": "stdout",
     "output_type": "stream",
     "text": [
      "Classifying: Force handle Insert thread damaged( hardware)\n",
      "Top label: Core split with confidence score: 0.2206205129623413\n"
     ]
    },
    {
     "name": "stderr",
     "output_type": "stream",
     "text": [
      "\r",
      "Processing on GPU 1:  17%|█████████████████▊                                                                                          | 158/955 [00:35<02:57,  4.49it/s]"
     ]
    },
    {
     "name": "stdout",
     "output_type": "stream",
     "text": [
      "Classifying: Disbond Disbonding within part\n",
      "Top label: Foreign Object Damage with confidence score: 0.27326658368110657\n"
     ]
    },
    {
     "name": "stderr",
     "output_type": "stream",
     "text": [
      "\r",
      "Processing on GPU 0:  17%|█████████████████▊                                                                                          | 158/957 [00:35<02:57,  4.51it/s]"
     ]
    },
    {
     "name": "stdout",
     "output_type": "stream",
     "text": [
      "Classifying: Material Characteristics Part using Mat. #211943 w/ orange B film\n",
      "Top label: Core displacement with confidence score: 0.228065624833107\n"
     ]
    },
    {
     "name": "stderr",
     "output_type": "stream",
     "text": [
      "\r",
      "Processing on GPU 1:  17%|█████████████████▉                                                                                          | 159/955 [00:35<02:57,  4.47it/s]"
     ]
    },
    {
     "name": "stdout",
     "output_type": "stream",
     "text": [
      "Classifying: Imprint on Surface Dent Surface defect\n",
      "Top label: Core split with confidence score: 0.19387392699718475\n"
     ]
    },
    {
     "name": "stderr",
     "output_type": "stream",
     "text": [
      "\r",
      "Processing on GPU 0:  17%|█████████████████▉                                                                                          | 159/957 [00:35<02:56,  4.51it/s]"
     ]
    },
    {
     "name": "stdout",
     "output_type": "stream",
     "text": [
      "Classifying: Delamination Composite Manufacturing NDT INITIAL FAILURE.\n",
      "Top label: Splice gap with confidence score: 0.2084568440914154\n"
     ]
    },
    {
     "name": "stderr",
     "output_type": "stream",
     "text": [
      "\r",
      "Processing on GPU 1:  17%|██████████████████                                                                                          | 160/955 [00:36<02:55,  4.52it/s]"
     ]
    },
    {
     "name": "stdout",
     "output_type": "stream",
     "text": [
      "Classifying: Cracks Deviation from framework\n",
      "Top label: Resin buildup with confidence score: 0.283809095621109\n"
     ]
    },
    {
     "name": "stderr",
     "output_type": "stream",
     "text": [
      "\r",
      "Processing on GPU 0:  17%|██████████████████                                                                                          | 160/957 [00:36<02:59,  4.44it/s]"
     ]
    },
    {
     "name": "stdout",
     "output_type": "stream",
     "text": [
      "Classifying: Delamination Composite Manufacturing NDT FIRST REJECT\n",
      "Top label: Core displacement with confidence score: 0.3804669678211212\n"
     ]
    },
    {
     "name": "stderr",
     "output_type": "stream",
     "text": [
      "\r",
      "Processing on GPU 1:  17%|██████████████████▏                                                                                         | 161/955 [00:36<02:54,  4.55it/s]"
     ]
    },
    {
     "name": "stdout",
     "output_type": "stream",
     "text": [
      "Classifying: Profile After Forming Out Of Tolerance Test Part\n",
      "Top label: Resin buildup with confidence score: 0.377132773399353\n"
     ]
    },
    {
     "name": "stderr",
     "output_type": "stream",
     "text": [
      "\r",
      "Processing on GPU 0:  17%|██████████████████▏                                                                                         | 161/957 [00:36<02:59,  4.42it/s]"
     ]
    },
    {
     "name": "stdout",
     "output_type": "stream",
     "text": [
      "Classifying: Delamination Composite Manufacturing Delamination\n",
      "Top label: Splice gap with confidence score: 0.1955990195274353\n"
     ]
    },
    {
     "name": "stderr",
     "output_type": "stream",
     "text": [
      "\r",
      "Processing on GPU 1:  17%|██████████████████▎                                                                                         | 162/955 [00:36<02:54,  4.54it/s]"
     ]
    },
    {
     "name": "stdout",
     "output_type": "stream",
     "text": [
      "Classifying: Material Not Per Drawing Synskin replaced with FM300 material\n",
      "Top label: Resin buildup with confidence score: 0.21785829961299896\n"
     ]
    },
    {
     "name": "stderr",
     "output_type": "stream",
     "text": [
      "\r",
      "Processing on GPU 0:  17%|██████████████████▎                                                                                         | 162/957 [00:36<02:58,  4.45it/s]"
     ]
    },
    {
     "name": "stdout",
     "output_type": "stream",
     "text": [
      "Classifying: Disbonding within part Disbond\n",
      "Top label: Foreign Object Damage with confidence score: 0.3557770550251007\n"
     ]
    },
    {
     "name": "stderr",
     "output_type": "stream",
     "text": [
      "\r",
      "Processing on GPU 1:  17%|██████████████████▍                                                                                         | 163/955 [00:36<02:54,  4.53it/s]"
     ]
    },
    {
     "name": "stdout",
     "output_type": "stream",
     "text": [
      "Classifying: Porosity VOLUMETRIC POROSITY BEYOND ACC. LIMIT\n",
      "Top label: Core displacement with confidence score: 0.21432512998580933\n"
     ]
    },
    {
     "name": "stderr",
     "output_type": "stream",
     "text": [
      "\r",
      "Processing on GPU 0:  17%|██████████████████▍                                                                                         | 163/957 [00:36<02:57,  4.48it/s]"
     ]
    },
    {
     "name": "stdout",
     "output_type": "stream",
     "text": [
      "Classifying: Core fill incorrect (Sandwich) Insufficient potting\n",
      "Top label: Core displacement with confidence score: 0.20531266927719116\n"
     ]
    },
    {
     "name": "stderr",
     "output_type": "stream",
     "text": [
      "\r",
      "Processing on GPU 1:  17%|██████████████████▌                                                                                         | 164/955 [00:36<02:54,  4.52it/s]"
     ]
    },
    {
     "name": "stdout",
     "output_type": "stream",
     "text": [
      "Classifying: Chips / F.O.D. Damage FOD\n",
      "Top label: Core deformation with confidence score: 0.38329800963401794\n"
     ]
    },
    {
     "name": "stderr",
     "output_type": "stream",
     "text": [
      "\r",
      "Processing on GPU 0:  17%|██████████████████▌                                                                                         | 164/957 [00:36<02:57,  4.46it/s]"
     ]
    },
    {
     "name": "stdout",
     "output_type": "stream",
     "text": [
      "Classifying: Delamination Composite Manufacturing Delamination\n",
      "Top label: Foreign Object Damage with confidence score: 0.8262008428573608\n"
     ]
    },
    {
     "name": "stderr",
     "output_type": "stream",
     "text": [
      "\r",
      "Processing on GPU 1:  17%|██████████████████▋                                                                                         | 165/955 [00:37<02:54,  4.53it/s]"
     ]
    },
    {
     "name": "stdout",
     "output_type": "stream",
     "text": [
      "Classifying: Imprint on Surface Dent Surface defect\n",
      "Top label: Resin buildup with confidence score: 0.21785829961299896\n"
     ]
    },
    {
     "name": "stderr",
     "output_type": "stream",
     "text": [
      "\r",
      "Processing on GPU 0:  17%|██████████████████▌                                                                                         | 165/957 [00:37<02:57,  4.47it/s]"
     ]
    },
    {
     "name": "stdout",
     "output_type": "stream",
     "text": [
      "Classifying: foil-/ foreign-inclusion detected Thermocouple piece noticed in the part\n",
      "Top label: Splice gap with confidence score: 0.2084568440914154\n"
     ]
    },
    {
     "name": "stderr",
     "output_type": "stream",
     "text": [
      "\r",
      "Processing on GPU 1:  17%|██████████████████▊                                                                                         | 166/955 [00:37<02:53,  4.54it/s]"
     ]
    },
    {
     "name": "stdout",
     "output_type": "stream",
     "text": [
      "Classifying: Material Expired Shelf life expired before curing\n",
      "Top label: Foreign Object Damage with confidence score: 0.5973737239837646\n"
     ]
    },
    {
     "name": "stderr",
     "output_type": "stream",
     "text": [
      "\r",
      "Processing on GPU 0:  17%|██████████████████▋                                                                                         | 166/957 [00:37<02:57,  4.45it/s]"
     ]
    },
    {
     "name": "stdout",
     "output_type": "stream",
     "text": [
      "Classifying: Ply position Ply bridging on core transition area\n",
      "Top label: Core displacement with confidence score: 0.15359078347682953\n"
     ]
    },
    {
     "name": "stderr",
     "output_type": "stream",
     "text": [
      "\r",
      "Processing on GPU 1:  17%|██████████████████▉                                                                                         | 167/955 [00:37<02:54,  4.53it/s]"
     ]
    },
    {
     "name": "stdout",
     "output_type": "stream",
     "text": [
      "Classifying: Delamination Synskin Delamination\n",
      "Top label: Core deformation with confidence score: 0.41480621695518494\n"
     ]
    },
    {
     "name": "stderr",
     "output_type": "stream",
     "text": [
      "\r",
      "Processing on GPU 0:  17%|██████████████████▊                                                                                         | 167/957 [00:37<02:56,  4.48it/s]"
     ]
    },
    {
     "name": "stdout",
     "output_type": "stream",
     "text": [
      "Classifying: Qualification Part failed during CMM inspection-admin\n",
      "Top label: Separation noodle joint with confidence score: 0.43258166313171387\n"
     ]
    },
    {
     "name": "stderr",
     "output_type": "stream",
     "text": [
      "\r",
      "Processing on GPU 1:  18%|██████████████████▉                                                                                         | 168/955 [00:37<02:53,  4.53it/s]"
     ]
    },
    {
     "name": "stdout",
     "output_type": "stream",
     "text": [
      "Classifying: Imprint on Surface Dent Surface Depression\n",
      "Top label: Core split with confidence score: 0.24770507216453552\n"
     ]
    },
    {
     "name": "stderr",
     "output_type": "stream",
     "text": [
      "\r",
      "Processing on GPU 0:  18%|██████████████████▉                                                                                         | 168/957 [00:37<02:57,  4.44it/s]"
     ]
    },
    {
     "name": "stdout",
     "output_type": "stream",
     "text": [
      "Classifying: Expired Material Shelf-Life Expiry\n",
      "Top label: Splice gap with confidence score: 0.1898801177740097\n"
     ]
    },
    {
     "name": "stderr",
     "output_type": "stream",
     "text": [
      "\r",
      "Processing on GPU 1:  18%|███████████████████                                                                                         | 169/955 [00:38<02:52,  4.54it/s]"
     ]
    },
    {
     "name": "stdout",
     "output_type": "stream",
     "text": [
      "Classifying: Splice Defect on Bridge betw Core & Core initial failure\n",
      "Top label: Core split with confidence score: 0.16557097434997559\n"
     ]
    },
    {
     "name": "stderr",
     "output_type": "stream",
     "text": [
      "\r",
      "Processing on GPU 0:  18%|███████████████████                                                                                         | 169/957 [00:38<02:56,  4.46it/s]"
     ]
    },
    {
     "name": "stdout",
     "output_type": "stream",
     "text": [
      "Classifying: Expired Material Mat expired before cure\n",
      "Top label: Splice gap with confidence score: 0.5290347933769226\n"
     ]
    },
    {
     "name": "stderr",
     "output_type": "stream",
     "text": [
      "\r",
      "Processing on GPU 1:  18%|███████████████████▏                                                                                        | 170/955 [00:38<02:52,  4.54it/s]"
     ]
    },
    {
     "name": "stdout",
     "output_type": "stream",
     "text": [
      "Classifying: Material Expired Shelf life expired before curing\n",
      "Top label: Foreign Object Damage with confidence score: 0.1929110288619995\n"
     ]
    },
    {
     "name": "stderr",
     "output_type": "stream",
     "text": [
      "\r",
      "Processing on GPU 0:  18%|███████████████████▏                                                                                        | 170/957 [00:38<02:55,  4.47it/s]"
     ]
    },
    {
     "name": "stdout",
     "output_type": "stream",
     "text": [
      "Classifying: Delamination Delamination above size limit\n",
      "Top label: Core displacement with confidence score: 0.15359078347682953\n"
     ]
    },
    {
     "name": "stderr",
     "output_type": "stream",
     "text": [
      "\r",
      "Processing on GPU 1:  18%|███████████████████▎                                                                                        | 171/955 [00:38<02:52,  4.53it/s]"
     ]
    },
    {
     "name": "stdout",
     "output_type": "stream",
     "text": [
      "Classifying: Delamination Synskin Delamination\n",
      "Top label: Resin buildup with confidence score: 0.2586263120174408\n"
     ]
    },
    {
     "name": "stderr",
     "output_type": "stream",
     "text": [
      "\r",
      "Processing on GPU 0:  18%|███████████████████▎                                                                                        | 171/957 [00:38<02:55,  4.48it/s]"
     ]
    },
    {
     "name": "stdout",
     "output_type": "stream",
     "text": [
      "Classifying: Surface defects Resin Starvation\n",
      "Top label: Separation noodle joint with confidence score: 0.43258166313171387\n"
     ]
    },
    {
     "name": "stderr",
     "output_type": "stream",
     "text": [
      "\r",
      "Processing on GPU 1:  18%|███████████████████▍                                                                                        | 172/955 [00:38<02:52,  4.53it/s]"
     ]
    },
    {
     "name": "stdout",
     "output_type": "stream",
     "text": [
      "Classifying: Porosity VOLUMETRIC POROSITY BEYOND ACC. LIMIT\n",
      "Top label: Resin buildup with confidence score: 0.16007496416568756\n"
     ]
    },
    {
     "name": "stderr",
     "output_type": "stream",
     "text": [
      "\r",
      "Processing on GPU 0:  18%|███████████████████▍                                                                                        | 172/957 [00:38<02:54,  4.50it/s]"
     ]
    },
    {
     "name": "stdout",
     "output_type": "stream",
     "text": [
      "Classifying: Delamination Composite Manufacturing NDT Initial Failure\n",
      "Top label: Core displacement with confidence score: 0.20531266927719116\n"
     ]
    },
    {
     "name": "stderr",
     "output_type": "stream",
     "text": [
      "\r",
      "Processing on GPU 1:  18%|███████████████████▌                                                                                        | 173/955 [00:38<02:53,  4.51it/s]"
     ]
    },
    {
     "name": "stdout",
     "output_type": "stream",
     "text": [
      "Classifying: Porosity Volumetric Porosity\n",
      "Top label: Resin buildup with confidence score: 0.3112137019634247\n"
     ]
    },
    {
     "name": "stderr",
     "output_type": "stream",
     "text": [
      "\r",
      "Processing on GPU 0:  18%|███████████████████▌                                                                                        | 173/957 [00:39<02:55,  4.48it/s]"
     ]
    },
    {
     "name": "stdout",
     "output_type": "stream",
     "text": [
      "Classifying: Disbonding within part NDT Second Failure\n",
      "Top label: Core displacement with confidence score: 0.1835264265537262\n"
     ]
    },
    {
     "name": "stderr",
     "output_type": "stream",
     "text": [
      "\r",
      "Processing on GPU 1:  18%|███████████████████▋                                                                                        | 174/955 [00:39<02:51,  4.54it/s]"
     ]
    },
    {
     "name": "stdout",
     "output_type": "stream",
     "text": [
      "Classifying: Gap Out Of Tolerance CORE SPLICE DEFFECT\n",
      "Top label: Splice gap with confidence score: 0.23374302685260773\n"
     ]
    },
    {
     "name": "stderr",
     "output_type": "stream",
     "text": [
      "\r",
      "Processing on GPU 0:  18%|███████████████████▋                                                                                        | 174/957 [00:39<02:55,  4.46it/s]"
     ]
    },
    {
     "name": "stdout",
     "output_type": "stream",
     "text": [
      "Classifying: Surface defects edge delamination\n",
      "Top label: Core displacement with confidence score: 0.303641140460968\n"
     ]
    },
    {
     "name": "stderr",
     "output_type": "stream",
     "text": [
      "\r",
      "Processing on GPU 1:  18%|███████████████████▊                                                                                        | 175/955 [00:39<02:51,  4.54it/s]"
     ]
    },
    {
     "name": "stdout",
     "output_type": "stream",
     "text": [
      "Classifying: Ply Wrinkle WRINKLE\n",
      "Top label: Resin buildup with confidence score: 0.2323264628648758\n"
     ]
    },
    {
     "name": "stderr",
     "output_type": "stream",
     "text": [
      "\r",
      "Processing on GPU 0:  18%|███████████████████▋                                                                                        | 175/957 [00:39<02:55,  4.45it/s]"
     ]
    },
    {
     "name": "stdout",
     "output_type": "stream",
     "text": [
      "Classifying: foil-/ foreign-inclusion detected Foil-/ foreign-inclusion detected\n",
      "Top label: Foreign Object Damage with confidence score: 0.23176859319210052\n"
     ]
    },
    {
     "name": "stderr",
     "output_type": "stream",
     "text": [
      "\r",
      "Processing on GPU 1:  18%|███████████████████▉                                                                                        | 176/955 [00:39<02:51,  4.55it/s]"
     ]
    },
    {
     "name": "stdout",
     "output_type": "stream",
     "text": [
      "Classifying: Delamination Delamination\n",
      "Top label: Foreign Object Damage with confidence score: 0.34468087553977966\n"
     ]
    },
    {
     "name": "stderr",
     "output_type": "stream",
     "text": [
      "\r",
      "Processing on GPU 0:  18%|███████████████████▊                                                                                        | 176/957 [00:39<02:55,  4.44it/s]"
     ]
    },
    {
     "name": "stdout",
     "output_type": "stream",
     "text": [
      "Classifying: foil-/ foreign-inclusion detected FOD between plies and core\n",
      "Top label: Resin buildup with confidence score: 0.28864264488220215\n"
     ]
    },
    {
     "name": "stderr",
     "output_type": "stream",
     "text": [
      "\r",
      "Processing on GPU 1:  19%|████████████████████                                                                                        | 177/955 [00:39<02:51,  4.54it/s]"
     ]
    },
    {
     "name": "stdout",
     "output_type": "stream",
     "text": [
      "Classifying: Core Crush core dent\n",
      "Top label: Foreign Object Damage with confidence score: 0.5623524785041809\n"
     ]
    },
    {
     "name": "stderr",
     "output_type": "stream",
     "text": [
      "\r",
      "Processing on GPU 0:  18%|███████████████████▉                                                                                        | 177/957 [00:39<02:55,  4.43it/s]"
     ]
    },
    {
     "name": "stdout",
     "output_type": "stream",
     "text": [
      "Classifying: Deviating part thickness Deviating part thickness (GAP OOT)\n",
      "Top label: Core crash with confidence score: 0.3262537121772766\n"
     ]
    },
    {
     "name": "stderr",
     "output_type": "stream",
     "text": [
      "\r",
      "Processing on GPU 1:  19%|████████████████████▏                                                                                       | 178/955 [00:40<02:51,  4.53it/s]"
     ]
    },
    {
     "name": "stdout",
     "output_type": "stream",
     "text": [
      "Classifying: Imprint on Surface Dent Surface defect\n",
      "Top label: Splice gap with confidence score: 0.23833832144737244\n"
     ]
    },
    {
     "name": "stderr",
     "output_type": "stream",
     "text": [
      "\r",
      "Processing on GPU 0:  19%|████████████████████                                                                                        | 178/957 [00:40<02:55,  4.45it/s]"
     ]
    },
    {
     "name": "stdout",
     "output_type": "stream",
     "text": [
      "Classifying: foil-/ foreign-inclusion detected TC_pin (FOD)\n",
      "Top label: Splice gap with confidence score: 0.2084568440914154\n"
     ]
    },
    {
     "name": "stderr",
     "output_type": "stream",
     "text": [
      "\r",
      "Processing on GPU 1:  19%|████████████████████▏                                                                                       | 179/955 [00:40<02:52,  4.50it/s]"
     ]
    },
    {
     "name": "stdout",
     "output_type": "stream",
     "text": [
      "Classifying: Core Step Core Step\n",
      "Top label: Foreign Object Damage with confidence score: 0.5543655157089233\n"
     ]
    },
    {
     "name": "stderr",
     "output_type": "stream",
     "text": [
      "\r",
      "Processing on GPU 0:  19%|████████████████████▏                                                                                       | 179/957 [00:40<02:53,  4.47it/s]"
     ]
    },
    {
     "name": "stdout",
     "output_type": "stream",
     "text": [
      "Classifying: Delamination Composite Manufacturing Delamination Composite Manufacturing\n",
      "Top label: Core split with confidence score: 0.5320346355438232\n"
     ]
    },
    {
     "name": "stderr",
     "output_type": "stream",
     "text": [
      "\r",
      "Processing on GPU 1:  19%|████████████████████▎                                                                                       | 180/955 [00:40<02:52,  4.49it/s]"
     ]
    },
    {
     "name": "stdout",
     "output_type": "stream",
     "text": [
      "Classifying: Disbond Disbond & Delamination\n",
      "Top label: Resin buildup with confidence score: 0.4829311668872833\n"
     ]
    },
    {
     "name": "stderr",
     "output_type": "stream",
     "text": [
      "\r",
      "Processing on GPU 0:  19%|████████████████████▎                                                                                       | 180/957 [00:40<02:52,  4.50it/s]"
     ]
    },
    {
     "name": "stdout",
     "output_type": "stream",
     "text": [
      "Classifying: Curing Vacuum Vacuum leak due to hole on the bag\n",
      "Top label: Separation noodle joint with confidence score: 0.18383851647377014\n"
     ]
    },
    {
     "name": "stderr",
     "output_type": "stream",
     "text": [
      "\r",
      "Processing on GPU 1:  19%|████████████████████▍                                                                                       | 181/955 [00:40<02:52,  4.48it/s]"
     ]
    },
    {
     "name": "stdout",
     "output_type": "stream",
     "text": [
      "Classifying: Splice Defect Core Splice Defect\n",
      "Top label: Foreign Object Damage with confidence score: 0.1931825876235962\n"
     ]
    },
    {
     "name": "stderr",
     "output_type": "stream",
     "text": [
      "\r",
      "Processing on GPU 0:  19%|████████████████████▍                                                                                       | 181/957 [00:40<02:52,  4.50it/s]"
     ]
    },
    {
     "name": "stdout",
     "output_type": "stream",
     "text": [
      "Classifying: Honeycomb geometry NDT FIRST  FAILURE\n",
      "Top label: Core split with confidence score: 0.45720699429512024\n"
     ]
    },
    {
     "name": "stderr",
     "output_type": "stream",
     "text": [
      "\r",
      "Processing on GPU 1:  19%|████████████████████▌                                                                                       | 182/955 [00:40<02:51,  4.50it/s]"
     ]
    },
    {
     "name": "stdout",
     "output_type": "stream",
     "text": [
      "Classifying: Material Not Per Drawing Material not used as per WKI\n",
      "Top label: Foreign Object Damage with confidence score: 0.31037279963493347\n"
     ]
    },
    {
     "name": "stderr",
     "output_type": "stream",
     "text": [
      "\r",
      "Processing on GPU 0:  19%|████████████████████▌                                                                                       | 182/957 [00:41<02:52,  4.50it/s]"
     ]
    },
    {
     "name": "stdout",
     "output_type": "stream",
     "text": [
      "Classifying: foil-/ foreign-inclusion detected FOD/Delamination\n",
      "Top label: Foreign Object Damage with confidence score: 0.15827840566635132\n"
     ]
    },
    {
     "name": "stderr",
     "output_type": "stream",
     "text": [
      "\r",
      "Processing on GPU 1:  19%|████████████████████▋                                                                                       | 183/955 [00:41<02:53,  4.45it/s]"
     ]
    },
    {
     "name": "stdout",
     "output_type": "stream",
     "text": [
      "Classifying: Material Expired Shelf life expired before curing\n",
      "Top label: Foreign Object Damage with confidence score: 0.7846184372901917\n"
     ]
    },
    {
     "name": "stderr",
     "output_type": "stream",
     "text": [
      "\r",
      "Processing on GPU 0:  19%|████████████████████▋                                                                                       | 183/957 [00:41<02:52,  4.49it/s]"
     ]
    },
    {
     "name": "stdout",
     "output_type": "stream",
     "text": [
      "Classifying: foil-/ foreign-inclusion detected Thermocouple piece\n",
      "Top label: Core displacement with confidence score: 0.15359078347682953\n"
     ]
    },
    {
     "name": "stderr",
     "output_type": "stream",
     "text": [
      "\r",
      "Processing on GPU 1:  19%|████████████████████▊                                                                                       | 184/955 [00:41<02:52,  4.47it/s]"
     ]
    },
    {
     "name": "stdout",
     "output_type": "stream",
     "text": [
      "Classifying: Disbond Disbond\n",
      "Top label: Foreign Object Damage with confidence score: 0.5677412748336792\n"
     ]
    },
    {
     "name": "stderr",
     "output_type": "stream",
     "text": [
      "\r",
      "Processing on GPU 0:  19%|████████████████████▊                                                                                       | 184/957 [00:41<02:52,  4.48it/s]"
     ]
    },
    {
     "name": "stdout",
     "output_type": "stream",
     "text": [
      "Classifying: Ply position Staggered layup of Plies wasnot performd\n",
      "Top label: Core split with confidence score: 0.2206205129623413\n"
     ]
    },
    {
     "name": "stderr",
     "output_type": "stream",
     "text": [
      "\r",
      "Processing on GPU 1:  19%|████████████████████▉                                                                                       | 185/955 [00:41<02:52,  4.47it/s]"
     ]
    },
    {
     "name": "stdout",
     "output_type": "stream",
     "text": [
      "Classifying: Dents Over Splice Lines Depression along splice line\n",
      "Top label: Core displacement with confidence score: 0.18098638951778412\n"
     ]
    },
    {
     "name": "stderr",
     "output_type": "stream",
     "text": [
      "\r",
      "Processing on GPU 0:  19%|████████████████████▉                                                                                       | 185/957 [00:41<02:52,  4.48it/s]"
     ]
    },
    {
     "name": "stdout",
     "output_type": "stream",
     "text": [
      "Classifying: Delamination Composite Manufacturing NDT Initial Failure\n",
      "Top label: Splice gap with confidence score: 0.5056720972061157\n"
     ]
    },
    {
     "name": "stderr",
     "output_type": "stream",
     "text": [
      "\r",
      "Processing on GPU 1:  19%|█████████████████████                                                                                       | 186/955 [00:41<02:51,  4.48it/s]"
     ]
    },
    {
     "name": "stdout",
     "output_type": "stream",
     "text": [
      "Classifying: Core Step Core Step\n",
      "Top label: Resin buildup with confidence score: 0.3112137019634247\n"
     ]
    },
    {
     "name": "stderr",
     "output_type": "stream",
     "text": [
      "\r",
      "Processing on GPU 0:  19%|████████████████████▉                                                                                       | 186/957 [00:41<02:51,  4.49it/s]"
     ]
    },
    {
     "name": "stdout",
     "output_type": "stream",
     "text": [
      "Classifying: Delamination Composite Manufacturing Delamination above size limit\n",
      "Top label: Core split with confidence score: 0.5320346355438232\n"
     ]
    },
    {
     "name": "stderr",
     "output_type": "stream",
     "text": [
      "\r",
      "Processing on GPU 1:  20%|█████████████████████▏                                                                                      | 187/955 [00:42<02:51,  4.49it/s]"
     ]
    },
    {
     "name": "stdout",
     "output_type": "stream",
     "text": [
      "Classifying: Imprint on Surface Dent Surface defect\n",
      "Top label: Resin buildup with confidence score: 0.19766445457935333\n"
     ]
    },
    {
     "name": "stderr",
     "output_type": "stream",
     "text": [
      "\r",
      "Processing on GPU 0:  20%|█████████████████████                                                                                       | 187/957 [00:42<02:51,  4.50it/s]"
     ]
    },
    {
     "name": "stdout",
     "output_type": "stream",
     "text": [
      "Classifying: Volume Porosity Volume Porosity\n",
      "Top label: Splice gap with confidence score: 0.2084568440914154\n"
     ]
    },
    {
     "name": "stderr",
     "output_type": "stream",
     "text": [
      "\r",
      "Processing on GPU 1:  20%|█████████████████████▎                                                                                      | 188/955 [00:42<02:50,  4.49it/s]"
     ]
    },
    {
     "name": "stdout",
     "output_type": "stream",
     "text": [
      "Classifying: Imprint on Surface Dent Surface defect\n",
      "Top label: Resin buildup with confidence score: 0.196485236287117\n"
     ]
    },
    {
     "name": "stderr",
     "output_type": "stream",
     "text": [
      "\r",
      "Processing on GPU 0:  20%|█████████████████████▏                                                                                      | 188/957 [00:42<02:51,  4.47it/s]"
     ]
    },
    {
     "name": "stdout",
     "output_type": "stream",
     "text": [
      "Classifying: Surface defects  Gap observed between bracket and surfac\n",
      "Top label: Splice gap with confidence score: 0.2084568440914154\n"
     ]
    },
    {
     "name": "stderr",
     "output_type": "stream",
     "text": [
      "\r",
      "Processing on GPU 1:  20%|█████████████████████▎                                                                                      | 189/955 [00:42<02:48,  4.55it/s]"
     ]
    },
    {
     "name": "stdout",
     "output_type": "stream",
     "text": [
      "Classifying: Delamination Synskin Delamination\n",
      "Top label: Separation noodle joint with confidence score: 0.2810388207435608\n"
     ]
    },
    {
     "name": "stderr",
     "output_type": "stream",
     "text": [
      "\r",
      "Processing on GPU 0:  20%|█████████████████████▎                                                                                      | 189/957 [00:42<02:54,  4.41it/s]"
     ]
    },
    {
     "name": "stdout",
     "output_type": "stream",
     "text": [
      "Classifying: Surface defects depression near bracket bonding surface\n",
      "Top label: Separation noodle joint with confidence score: 0.43258166313171387\n"
     ]
    },
    {
     "name": "stderr",
     "output_type": "stream",
     "text": [
      "\r",
      "Processing on GPU 1:  20%|█████████████████████▍                                                                                      | 190/955 [00:42<02:47,  4.56it/s]"
     ]
    },
    {
     "name": "stdout",
     "output_type": "stream",
     "text": [
      "Classifying: Core Sag Core Sag\n",
      "Top label: Splice gap with confidence score: 0.1852281242609024\n"
     ]
    },
    {
     "name": "stderr",
     "output_type": "stream",
     "text": [
      "\r",
      "Processing on GPU 0:  20%|█████████████████████▍                                                                                      | 190/957 [00:42<02:53,  4.42it/s]"
     ]
    },
    {
     "name": "stdout",
     "output_type": "stream",
     "text": [
      "Classifying: Surface defects wrong placement of plies\n",
      "Top label: Core split with confidence score: 0.8344196081161499\n"
     ]
    },
    {
     "name": "stderr",
     "output_type": "stream",
     "text": [
      "\r",
      "Processing on GPU 1:  20%|█████████████████████▌                                                                                      | 191/955 [00:42<02:48,  4.54it/s]"
     ]
    },
    {
     "name": "stdout",
     "output_type": "stream",
     "text": [
      "Classifying: Dents Over Splice Lines Depression along splice line\n",
      "Top label: Core displacement with confidence score: 0.1961040198802948\n"
     ]
    },
    {
     "name": "stderr",
     "output_type": "stream",
     "text": [
      "\r",
      "Processing on GPU 0:  20%|█████████████████████▌                                                                                      | 191/957 [00:43<02:53,  4.42it/s]"
     ]
    },
    {
     "name": "stdout",
     "output_type": "stream",
     "text": [
      "Classifying: Surface defects Surface defect on tool side\n",
      "Top label: Splice gap with confidence score: 0.5056720972061157\n"
     ]
    },
    {
     "name": "stderr",
     "output_type": "stream",
     "text": [
      "\r",
      "Processing on GPU 1:  20%|█████████████████████▋                                                                                      | 192/955 [00:43<02:48,  4.54it/s]"
     ]
    },
    {
     "name": "stdout",
     "output_type": "stream",
     "text": [
      "Classifying: Imprint on Surface Dent depression lines found\n",
      "Top label: Splice gap with confidence score: 0.17030969262123108\n"
     ]
    },
    {
     "name": "stderr",
     "output_type": "stream",
     "text": [
      "\r",
      "Processing on GPU 0:  20%|█████████████████████▋                                                                                      | 192/957 [00:43<02:52,  4.44it/s]"
     ]
    },
    {
     "name": "stdout",
     "output_type": "stream",
     "text": [
      "Classifying: Volume Porosity Volume Porosity\n",
      "Top label: Core displacement with confidence score: 0.16577497124671936\n"
     ]
    },
    {
     "name": "stderr",
     "output_type": "stream",
     "text": [
      "\r",
      "Processing on GPU 1:  20%|█████████████████████▊                                                                                      | 193/955 [00:43<02:47,  4.56it/s]"
     ]
    },
    {
     "name": "stdout",
     "output_type": "stream",
     "text": [
      "Classifying: Dents Over Splice Lines Depressions along splice lines\n",
      "Top label: Resin buildup with confidence score: 0.196485236287117\n"
     ]
    },
    {
     "name": "stderr",
     "output_type": "stream",
     "text": [
      "\r",
      "Processing on GPU 0:  20%|█████████████████████▊                                                                                      | 193/957 [00:43<02:54,  4.38it/s]"
     ]
    },
    {
     "name": "stdout",
     "output_type": "stream",
     "text": [
      "Classifying: Material Qualification Post production test to be perform.\n",
      "Top label: Splice gap with confidence score: 0.4744691550731659\n"
     ]
    },
    {
     "name": "stderr",
     "output_type": "stream",
     "text": [
      "\r",
      "Processing on GPU 1:  20%|█████████████████████▉                                                                                      | 194/955 [00:43<02:47,  4.54it/s]"
     ]
    },
    {
     "name": "stdout",
     "output_type": "stream",
     "text": [
      "Classifying: Splice Defect Core Splice Defect\n",
      "Top label: Resin buildup with confidence score: 0.1712886393070221\n"
     ]
    },
    {
     "name": "stderr",
     "output_type": "stream",
     "text": [
      "\r",
      "Processing on GPU 0:  20%|█████████████████████▉                                                                                      | 194/957 [00:43<02:52,  4.43it/s]"
     ]
    },
    {
     "name": "stdout",
     "output_type": "stream",
     "text": [
      "Classifying: Surface defects Gap between bracket and surface.\n",
      "Top label: Core split with confidence score: 0.45720699429512024\n"
     ]
    },
    {
     "name": "stderr",
     "output_type": "stream",
     "text": [
      "\r",
      "Processing on GPU 1:  20%|██████████████████████                                                                                      | 195/955 [00:43<02:47,  4.53it/s]"
     ]
    },
    {
     "name": "stdout",
     "output_type": "stream",
     "text": [
      "Classifying: Porosity VOLUMETRIC POROSITY BEYOND ACC. LIMIT\n",
      "Top label: Splice gap with confidence score: 0.2781496047973633\n"
     ]
    },
    {
     "name": "stderr",
     "output_type": "stream",
     "text": [
      "\r",
      "Processing on GPU 0:  20%|██████████████████████                                                                                      | 195/957 [00:43<02:51,  4.45it/s]"
     ]
    },
    {
     "name": "stdout",
     "output_type": "stream",
     "text": [
      "Classifying: Alternative raw material Alternative resin\n",
      "Top label: Core displacement with confidence score: 0.20531266927719116\n"
     ]
    },
    {
     "name": "stderr",
     "output_type": "stream",
     "text": [
      "\r",
      "Processing on GPU 1:  21%|██████████████████████▏                                                                                     | 196/955 [00:44<02:45,  4.58it/s]"
     ]
    },
    {
     "name": "stdout",
     "output_type": "stream",
     "text": [
      "Classifying: Delamination synskin delamination\n",
      "Top label: Resin buildup with confidence score: 0.601176381111145\n"
     ]
    },
    {
     "name": "stderr",
     "output_type": "stream",
     "text": [
      "\r",
      "Processing on GPU 0:  20%|██████████████████████                                                                                      | 196/957 [00:44<02:54,  4.37it/s]"
     ]
    },
    {
     "name": "stdout",
     "output_type": "stream",
     "text": [
      "Classifying: Delamination Composite Manufacturing Delamination Composite Manufacturing\n",
      "Top label: Resin buildup with confidence score: 0.3661534786224365\n"
     ]
    },
    {
     "name": "stderr",
     "output_type": "stream",
     "text": [
      "\r",
      "Processing on GPU 1:  21%|██████████████████████▎                                                                                     | 197/955 [00:44<02:45,  4.59it/s]"
     ]
    },
    {
     "name": "stdout",
     "output_type": "stream",
     "text": [
      "Classifying: Lay-Up Error UNIDENTIFIED DEFECT\n",
      "Top label: Resin buildup with confidence score: 0.4829311668872833\n"
     ]
    },
    {
     "name": "stderr",
     "output_type": "stream",
     "text": [
      "\r",
      "Processing on GPU 0:  21%|██████████████████████▏                                                                                     | 197/957 [00:44<02:52,  4.41it/s]"
     ]
    },
    {
     "name": "stdout",
     "output_type": "stream",
     "text": [
      "Classifying: foil-/ foreign-inclusion detected Suspected FOD, refer NDT report attached\n",
      "Top label: Foreign Object Damage with confidence score: 0.2150598019361496\n"
     ]
    },
    {
     "name": "stderr",
     "output_type": "stream",
     "text": [
      "\r",
      "Processing on GPU 1:  21%|██████████████████████▍                                                                                     | 198/955 [00:44<02:45,  4.56it/s]"
     ]
    },
    {
     "name": "stdout",
     "output_type": "stream",
     "text": [
      "Classifying: Delamination Delamination\n",
      "Top label: Foreign Object Damage with confidence score: 0.7564695477485657\n",
      "Top label: Resin buildup with confidence score: 0.28864264488220215"
     ]
    },
    {
     "name": "stderr",
     "output_type": "stream",
     "text": [
      "\r",
      "Processing on GPU 0:  21%|██████████████████████▎                                                                                     | 198/957 [00:44<02:52,  4.40it/s]"
     ]
    },
    {
     "name": "stdout",
     "output_type": "stream",
     "text": [
      "\n",
      "Classifying: Traceability not recorded no SAP transaction for Mat freezing\n"
     ]
    },
    {
     "name": "stderr",
     "output_type": "stream",
     "text": [
      "\r",
      "Processing on GPU 1:  21%|██████████████████████▌                                                                                     | 199/955 [00:44<02:45,  4.56it/s]"
     ]
    },
    {
     "name": "stdout",
     "output_type": "stream",
     "text": [
      "Classifying: Delamination Deviation from framework\n",
      "Top label: Separation noodle joint with confidence score: 0.17194144427776337\n"
     ]
    },
    {
     "name": "stderr",
     "output_type": "stream",
     "text": [
      "\r",
      "Processing on GPU 0:  21%|██████████████████████▍                                                                                     | 199/957 [00:44<02:51,  4.42it/s]"
     ]
    },
    {
     "name": "stdout",
     "output_type": "stream",
     "text": [
      "Top label: Core displacement with confidence score: 0.2848447263240814Classifying: Delamination Composite Manufacturing NDT Initial Failure - Lower Skin\n",
      "\n"
     ]
    },
    {
     "name": "stderr",
     "output_type": "stream",
     "text": [
      "\r",
      "Processing on GPU 1:  21%|██████████████████████▌                                                                                     | 200/955 [00:44<02:46,  4.53it/s]"
     ]
    },
    {
     "name": "stdout",
     "output_type": "stream",
     "text": [
      "Classifying: Edge Flaking Edge Flaking\n",
      "Top label: Resin buildup with confidence score: 0.2619345784187317\n",
      "Top label: Foreign Object Damage with confidence score: 0.2773103713989258"
     ]
    },
    {
     "name": "stderr",
     "output_type": "stream",
     "text": [
      "\r",
      "Processing on GPU 0:  21%|██████████████████████▌                                                                                     | 200/957 [00:45<02:51,  4.40it/s]"
     ]
    },
    {
     "name": "stdout",
     "output_type": "stream",
     "text": [
      "\n",
      "Classifying: Delamination Composite Manufacturing NDT Initial Failure - Upper Skin"
     ]
    },
    {
     "name": "stderr",
     "output_type": "stream",
     "text": [
      "\r",
      "Processing on GPU 1:  21%|██████████████████████▋                                                                                     | 201/955 [00:45<02:47,  4.50it/s]"
     ]
    },
    {
     "name": "stdout",
     "output_type": "stream",
     "text": [
      "\n",
      "Classifying: Delamination Delamination\n",
      "Top label: Resin buildup with confidence score: 0.28864264488220215\n"
     ]
    },
    {
     "name": "stderr",
     "output_type": "stream",
     "text": [
      "\r",
      "Processing on GPU 1:  21%|██████████████████████▊                                                                                     | 202/955 [00:45<02:46,  4.51it/s]"
     ]
    },
    {
     "name": "stdout",
     "output_type": "stream",
     "text": [
      "Classifying: Material Not Per Drawing Material not used as per WKI\n",
      "Top label: Resin buildup with confidence score: 0.23061145842075348\n"
     ]
    },
    {
     "name": "stderr",
     "output_type": "stream",
     "text": [
      "\r",
      "Processing on GPU 0:  21%|██████████████████████▋                                                                                     | 201/957 [00:45<02:51,  4.41it/s]"
     ]
    },
    {
     "name": "stdout",
     "output_type": "stream",
     "text": [
      "Classifying: Delamination Composite Manufacturing NDT Initial Failure\n",
      "Top label: Foreign Object Damage with confidence score: 0.15827840566635132\n"
     ]
    },
    {
     "name": "stderr",
     "output_type": "stream",
     "text": [
      "\r",
      "Processing on GPU 1:  21%|██████████████████████▉                                                                                     | 203/955 [00:45<02:45,  4.54it/s]"
     ]
    },
    {
     "name": "stdout",
     "output_type": "stream",
     "text": [
      "Classifying: Repair Failure Dent over repaired area\n",
      "Top label: Resin buildup with confidence score: 0.3112137019634247\n"
     ]
    },
    {
     "name": "stderr",
     "output_type": "stream",
     "text": [
      "\r",
      "Processing on GPU 0:  21%|██████████████████████▊                                                                                     | 202/957 [00:45<02:52,  4.37it/s]"
     ]
    },
    {
     "name": "stdout",
     "output_type": "stream",
     "text": [
      "Classifying: Honeycomb geometry Core seperation of nodle joint\n",
      "Top label: Foreign Object Damage with confidence score: 0.16577766835689545\n"
     ]
    },
    {
     "name": "stderr",
     "output_type": "stream",
     "text": [
      "\r",
      "Processing on GPU 1:  21%|███████████████████████                                                                                     | 204/955 [00:45<02:44,  4.58it/s]"
     ]
    },
    {
     "name": "stdout",
     "output_type": "stream",
     "text": [
      "Classifying: Rejectable Ultrasonic Inspection Indicat unidentified & wrinkle\n",
      "Top label: Separation noodle joint with confidence score: 0.38348984718322754\n"
     ]
    },
    {
     "name": "stderr",
     "output_type": "stream",
     "text": [
      "\r",
      "Processing on GPU 0:  21%|██████████████████████▉                                                                                     | 203/957 [00:45<02:51,  4.39it/s]"
     ]
    },
    {
     "name": "stdout",
     "output_type": "stream",
     "text": [
      "Classifying: Delamination Composite Manufacturing Delamination\n",
      "Top label: Splice gap with confidence score: 0.16260629892349243\n"
     ]
    },
    {
     "name": "stderr",
     "output_type": "stream",
     "text": [
      "\r",
      "Processing on GPU 1:  21%|███████████████████████▏                                                                                    | 205/955 [00:46<02:45,  4.53it/s]"
     ]
    },
    {
     "name": "stdout",
     "output_type": "stream",
     "text": [
      "Classifying: Material Not Per Drawing nan\n",
      "Top label: Resin buildup with confidence score: 0.21785829961299896\n"
     ]
    },
    {
     "name": "stderr",
     "output_type": "stream",
     "text": [
      "\r",
      "Processing on GPU 0:  21%|███████████████████████                                                                                     | 204/957 [00:45<02:50,  4.42it/s]"
     ]
    },
    {
     "name": "stdout",
     "output_type": "stream",
     "text": [
      "Classifying: Delamination Composite Manufacturing NDT second failure\n",
      "Top label: Foreign Object Damage with confidence score: 0.21722938120365143\n"
     ]
    },
    {
     "name": "stderr",
     "output_type": "stream",
     "text": [
      "\r",
      "Processing on GPU 1:  22%|███████████████████████▎                                                                                    | 206/955 [00:46<02:45,  4.54it/s]"
     ]
    },
    {
     "name": "stdout",
     "output_type": "stream",
     "text": [
      "Classifying: Cure Cycle Overrun, Underrun cycle was interrumpted\n",
      "Top label: Resin buildup with confidence score: 0.17650486528873444\n"
     ]
    },
    {
     "name": "stderr",
     "output_type": "stream",
     "text": [
      "\r",
      "Processing on GPU 0:  21%|███████████████████████▏                                                                                    | 205/957 [00:46<02:49,  4.45it/s]"
     ]
    },
    {
     "name": "stdout",
     "output_type": "stream",
     "text": [
      "Classifying: Layer Porosity Layer Porosity\n",
      "Top label: Core split with confidence score: 0.4135090410709381\n"
     ]
    },
    {
     "name": "stderr",
     "output_type": "stream",
     "text": [
      "\r",
      "Processing on GPU 1:  22%|███████████████████████▍                                                                                    | 207/955 [00:46<02:44,  4.53it/s]"
     ]
    },
    {
     "name": "stdout",
     "output_type": "stream",
     "text": [
      "Classifying: Splice Defect splice defect\n",
      "Top label: Resin buildup with confidence score: 0.304674357175827\n"
     ]
    },
    {
     "name": "stderr",
     "output_type": "stream",
     "text": [
      "\r",
      "Processing on GPU 0:  22%|███████████████████████▏                                                                                    | 206/957 [00:46<02:48,  4.46it/s]"
     ]
    },
    {
     "name": "stdout",
     "output_type": "stream",
     "text": [
      "Classifying: Honeycomb geometry NDT INITIAL FAILURE\n",
      "Top label: Splice gap with confidence score: 0.5860098600387573\n"
     ]
    },
    {
     "name": "stderr",
     "output_type": "stream",
     "text": [
      "\r",
      "Processing on GPU 1:  22%|███████████████████████▌                                                                                    | 208/955 [00:46<02:44,  4.53it/s]"
     ]
    },
    {
     "name": "stdout",
     "output_type": "stream",
     "text": [
      "Classifying: Wrinkle wrinkles\n",
      "Top label: Foreign Object Damage with confidence score: 0.23591424524784088\n"
     ]
    },
    {
     "name": "stderr",
     "output_type": "stream",
     "text": [
      "\r",
      "Processing on GPU 0:  22%|███████████████████████▎                                                                                    | 207/957 [00:46<02:47,  4.48it/s]"
     ]
    },
    {
     "name": "stdout",
     "output_type": "stream",
     "text": [
      "Classifying: Delamination Composite Manufacturing NDT Initial Failure\n",
      "Top label: Resin buildup with confidence score: 0.6468818187713623\n"
     ]
    },
    {
     "name": "stderr",
     "output_type": "stream",
     "text": [
      "\r",
      "Processing on GPU 1:  22%|███████████████████████▋                                                                                    | 209/955 [00:46<02:44,  4.52it/s]"
     ]
    },
    {
     "name": "stdout",
     "output_type": "stream",
     "text": [
      "Classifying: Gap Between Parts Gap between part and bracket assy observ\n",
      "Top label: Resin buildup with confidence score: 0.3112137019634247\n"
     ]
    },
    {
     "name": "stderr",
     "output_type": "stream",
     "text": [
      "\r",
      "Processing on GPU 0:  22%|███████████████████████▍                                                                                    | 208/957 [00:46<02:46,  4.49it/s]"
     ]
    },
    {
     "name": "stdout",
     "output_type": "stream",
     "text": [
      "Classifying: Layer Porosity Layer Porosity\n",
      "Top label: Splice gap with confidence score: 0.21645426750183105\n"
     ]
    },
    {
     "name": "stderr",
     "output_type": "stream",
     "text": [
      "\r",
      "Processing on GPU 1:  22%|███████████████████████▋                                                                                    | 210/955 [00:47<02:44,  4.52it/s]"
     ]
    },
    {
     "name": "stdout",
     "output_type": "stream",
     "text": [
      "Classifying: Material Expired Shelf life expired before curing\n",
      "Top label: Resin buildup with confidence score: 0.304674357175827\n"
     ]
    },
    {
     "name": "stderr",
     "output_type": "stream",
     "text": [
      "\r",
      "Processing on GPU 0:  22%|███████████████████████▌                                                                                    | 209/957 [00:47<02:47,  4.46it/s]"
     ]
    },
    {
     "name": "stdout",
     "output_type": "stream",
     "text": [
      "Classifying: Material Missing or Incorrect positioned TC Strand found in the part\n",
      "Top label: Core displacement with confidence score: 0.15359078347682953\n"
     ]
    },
    {
     "name": "stderr",
     "output_type": "stream",
     "text": [
      "\r",
      "Processing on GPU 1:  22%|███████████████████████▊                                                                                    | 211/955 [00:47<02:44,  4.53it/s]"
     ]
    },
    {
     "name": "stdout",
     "output_type": "stream",
     "text": [
      "Classifying: Imprint on Surface Dent Surface Depression\n",
      "Top label: Core displacement with confidence score: 0.24930740892887115\n"
     ]
    },
    {
     "name": "stderr",
     "output_type": "stream",
     "text": [
      "\r",
      "Processing on GPU 0:  22%|███████████████████████▋                                                                                    | 210/957 [00:47<02:48,  4.45it/s]"
     ]
    },
    {
     "name": "stdout",
     "output_type": "stream",
     "text": [
      "Classifying: foil-/ foreign-inclusion detected FOD/Delamination\n",
      "Top label: Splice gap with confidence score: 0.1898801177740097\n"
     ]
    },
    {
     "name": "stderr",
     "output_type": "stream",
     "text": [
      "\r",
      "Processing on GPU 1:  22%|███████████████████████▉                                                                                    | 212/955 [00:47<02:43,  4.55it/s]"
     ]
    },
    {
     "name": "stdout",
     "output_type": "stream",
     "text": [
      "Classifying: Delamination Delamination Composite Manufacturing\n",
      "Top label: Foreign Object Damage with confidence score: 0.7846184372901917\n"
     ]
    },
    {
     "name": "stderr",
     "output_type": "stream",
     "text": [
      "\r",
      "Processing on GPU 0:  22%|███████████████████████▊                                                                                    | 211/957 [00:47<02:48,  4.42it/s]"
     ]
    },
    {
     "name": "stdout",
     "output_type": "stream",
     "text": [
      "Classifying: Material Missing or Incorrect positioned TC Strand found in the part\n",
      "Top label: Resin buildup with confidence score: 0.48175740242004395\n"
     ]
    },
    {
     "name": "stderr",
     "output_type": "stream",
     "text": [
      "\r",
      "Processing on GPU 1:  22%|████████████████████████                                                                                    | 213/955 [00:47<02:43,  4.54it/s]"
     ]
    },
    {
     "name": "stdout",
     "output_type": "stream",
     "text": [
      "Classifying: Core Step Core Step\n",
      "Top label: Core displacement with confidence score: 0.24930740892887115\n"
     ]
    },
    {
     "name": "stderr",
     "output_type": "stream",
     "text": [
      "\r",
      "Processing on GPU 0:  22%|███████████████████████▉                                                                                    | 212/957 [00:47<02:46,  4.46it/s]"
     ]
    },
    {
     "name": "stdout",
     "output_type": "stream",
     "text": [
      "Classifying: foil-/ foreign-inclusion detected FOD Found in C-Scan\n",
      "Top label: Core split with confidence score: 0.5320346355438232\n"
     ]
    },
    {
     "name": "stderr",
     "output_type": "stream",
     "text": [
      "\r",
      "Processing on GPU 1:  22%|████████████████████████▏                                                                                   | 214/955 [00:47<02:44,  4.52it/s]"
     ]
    },
    {
     "name": "stdout",
     "output_type": "stream",
     "text": [
      "Classifying: Material Expired Shelf life expired before curing\n",
      "Top label: Foreign Object Damage with confidence score: 0.791462242603302\n"
     ]
    },
    {
     "name": "stderr",
     "output_type": "stream",
     "text": [
      "\r",
      "Processing on GPU 0:  22%|████████████████████████                                                                                    | 213/957 [00:48<02:46,  4.47it/s]"
     ]
    },
    {
     "name": "stdout",
     "output_type": "stream",
     "text": [
      "Classifying: Volume Porosity Volumetric Porosity above size limit.\n",
      "Top label: Core displacement with confidence score: 0.15359078347682953\n"
     ]
    },
    {
     "name": "stderr",
     "output_type": "stream",
     "text": [
      "\r",
      "Processing on GPU 1:  23%|████████████████████████▎                                                                                   | 215/955 [00:48<02:44,  4.50it/s]"
     ]
    },
    {
     "name": "stdout",
     "output_type": "stream",
     "text": [
      "Classifying: Traveler no traveler assigned to Flatwise panel\n",
      "Top label: Core split with confidence score: 0.16457608342170715\n"
     ]
    },
    {
     "name": "stderr",
     "output_type": "stream",
     "text": [
      "\r",
      "Processing on GPU 0:  22%|████████████████████████▏                                                                                   | 214/957 [00:48<02:45,  4.50it/s]"
     ]
    },
    {
     "name": "stdout",
     "output_type": "stream",
     "text": [
      "Classifying: Fiber breakout Fiber break out located.\n",
      "Top label: Core split with confidence score: 0.1888742744922638\n"
     ]
    },
    {
     "name": "stderr",
     "output_type": "stream",
     "text": [
      "\r",
      "Processing on GPU 1:  23%|████████████████████████▍                                                                                   | 216/955 [00:48<02:43,  4.51it/s]"
     ]
    },
    {
     "name": "stdout",
     "output_type": "stream",
     "text": [
      "Classifying: Gaps, Overlaps In Layup Overlap Oversize\n",
      "Top label: Foreign Object Damage with confidence score: 0.1928887516260147\n"
     ]
    },
    {
     "name": "stderr",
     "output_type": "stream",
     "text": [
      "\r",
      "Processing on GPU 0:  22%|████████████████████████▎                                                                                   | 215/957 [00:48<02:45,  4.48it/s]"
     ]
    },
    {
     "name": "stdout",
     "output_type": "stream",
     "text": [
      "Classifying: Core fill incorrect (Sandwich) Core fill incorrect (Sandwich)\n",
      "Top label: Splice gap with confidence score: 0.2813437283039093\n"
     ]
    },
    {
     "name": "stderr",
     "output_type": "stream",
     "text": [
      "\r",
      "Processing on GPU 1:  23%|████████████████████████▌                                                                                   | 217/955 [00:48<02:43,  4.51it/s]"
     ]
    },
    {
     "name": "stdout",
     "output_type": "stream",
     "text": [
      "Classifying: Shelf Life Expired shelf life expired\n",
      "Top label: Core deformation with confidence score: 0.33305829763412476\n"
     ]
    },
    {
     "name": "stderr",
     "output_type": "stream",
     "text": [
      "\r",
      "Processing on GPU 0:  23%|████████████████████████▍                                                                                   | 216/957 [00:48<02:45,  4.48it/s]"
     ]
    },
    {
     "name": "stdout",
     "output_type": "stream",
     "text": [
      "Classifying: Surface defects Shim gap observed due to surface undulat\n",
      "Top label: Splice gap with confidence score: 0.16036316752433777\n"
     ]
    },
    {
     "name": "stderr",
     "output_type": "stream",
     "text": [
      "\r",
      "Processing on GPU 1:  23%|████████████████████████▋                                                                                   | 218/955 [00:48<02:42,  4.53it/s]"
     ]
    },
    {
     "name": "stdout",
     "output_type": "stream",
     "text": [
      "Classifying: Ply Wrinkle WRINKLE\n",
      "Top label: Splice gap with confidence score: 0.4059794247150421\n"
     ]
    },
    {
     "name": "stderr",
     "output_type": "stream",
     "text": [
      "\r",
      "Processing on GPU 0:  23%|████████████████████████▍                                                                                   | 217/957 [00:48<02:46,  4.45it/s]"
     ]
    },
    {
     "name": "stdout",
     "output_type": "stream",
     "text": [
      "Classifying: Dimensions out of Tolerance Dimensions out of Tolerance\n",
      "Top label: Foreign Object Damage with confidence score: 0.23176859319210052\n"
     ]
    },
    {
     "name": "stderr",
     "output_type": "stream",
     "text": [
      "\r",
      "Processing on GPU 1:  23%|████████████████████████▊                                                                                   | 219/955 [00:49<02:42,  4.52it/s]"
     ]
    },
    {
     "name": "stdout",
     "output_type": "stream",
     "text": [
      "Classifying: Other Procedural / Paper Discrepancies Refer Q3:200025876\n",
      "Top label: Core split with confidence score: 0.3663203716278076\n"
     ]
    },
    {
     "name": "stderr",
     "output_type": "stream",
     "text": [
      "\r",
      "Processing on GPU 0:  23%|████████████████████████▌                                                                                   | 218/957 [00:49<02:45,  4.47it/s]"
     ]
    },
    {
     "name": "stdout",
     "output_type": "stream",
     "text": [
      "Classifying: Surface defects Gap OOT Between Spoiler and Bracket\n",
      "Top label: Core split with confidence score: 0.20695795118808746\n"
     ]
    },
    {
     "name": "stderr",
     "output_type": "stream",
     "text": [
      "\r",
      "Processing on GPU 1:  23%|████████████████████████▉                                                                                   | 220/955 [00:49<02:43,  4.50it/s]"
     ]
    },
    {
     "name": "stdout",
     "output_type": "stream",
     "text": [
      "Classifying: Other Procedural / Paper Discrepancies refer Q3:200024840,200024680\n",
      "Top label: Splice gap with confidence score: 0.21043068170547485\n"
     ]
    },
    {
     "name": "stderr",
     "output_type": "stream",
     "text": [
      "\r",
      "Processing on GPU 0:  23%|████████████████████████▋                                                                                   | 219/957 [00:49<02:44,  4.48it/s]"
     ]
    },
    {
     "name": "stdout",
     "output_type": "stream",
     "text": [
      "Classifying: Mechanical Trimming / Contour milling Tool dig mark noted after machinig .\n",
      "Top label: Core split with confidence score: 0.20774634182453156\n"
     ]
    },
    {
     "name": "stderr",
     "output_type": "stream",
     "text": [
      "\r",
      "Processing on GPU 1:  23%|████████████████████████▉                                                                                   | 221/955 [00:49<02:43,  4.50it/s]"
     ]
    },
    {
     "name": "stdout",
     "output_type": "stream",
     "text": [
      "Classifying: Delamination NDT Initial Failure\n",
      "Top label: Splice gap with confidence score: 0.18444626033306122\n"
     ]
    },
    {
     "name": "stderr",
     "output_type": "stream",
     "text": [
      "\r",
      "Processing on GPU 0:  23%|████████████████████████▊                                                                                   | 220/957 [00:49<02:44,  4.47it/s]"
     ]
    },
    {
     "name": "stdout",
     "output_type": "stream",
     "text": [
      "Classifying: Honeycomb geometry cells nodal separation\n",
      "Top label: Separation noodle joint with confidence score: 0.23277020454406738\n"
     ]
    },
    {
     "name": "stderr",
     "output_type": "stream",
     "text": [
      "\r",
      "Processing on GPU 1:  23%|█████████████████████████                                                                                   | 222/955 [00:49<02:42,  4.51it/s]"
     ]
    },
    {
     "name": "stdout",
     "output_type": "stream",
     "text": [
      "Classifying: Surface Appearance not acceptable Surface appearance not acceptable\n",
      "Top label: Separation noodle joint with confidence score: 0.4306722581386566\n"
     ]
    },
    {
     "name": "stderr",
     "output_type": "stream",
     "text": [
      "\r",
      "Processing on GPU 0:  23%|████████████████████████▉                                                                                   | 221/957 [00:49<02:43,  4.49it/s]"
     ]
    },
    {
     "name": "stdout",
     "output_type": "stream",
     "text": [
      "Classifying: Honeycomb geometry Core cell tear-out\n",
      "Top label: Core split with confidence score: 0.15785008668899536\n"
     ]
    },
    {
     "name": "stderr",
     "output_type": "stream",
     "text": [
      "\r",
      "Processing on GPU 1:  23%|█████████████████████████▏                                                                                  | 223/955 [00:49<02:42,  4.51it/s]"
     ]
    },
    {
     "name": "stdout",
     "output_type": "stream",
     "text": [
      "Classifying: Ply Wrinkle Surface wrinkle\n",
      "Top label: Core deformation with confidence score: 0.46048152446746826\n"
     ]
    },
    {
     "name": "stderr",
     "output_type": "stream",
     "text": [
      "\r",
      "Processing on GPU 0:  23%|█████████████████████████                                                                                   | 222/957 [00:50<02:44,  4.47it/s]"
     ]
    },
    {
     "name": "stdout",
     "output_type": "stream",
     "text": [
      "Classifying: Material Missing or Incorrect positioned Scattered adhesive splice\n",
      "Top label: Separation noodle joint with confidence score: 0.20169226825237274\n"
     ]
    },
    {
     "name": "stderr",
     "output_type": "stream",
     "text": [
      "\r",
      "Processing on GPU 1:  23%|█████████████████████████▎                                                                                  | 224/955 [00:50<02:42,  4.51it/s]"
     ]
    },
    {
     "name": "stdout",
     "output_type": "stream",
     "text": [
      "Classifying: Porosity Volumetric Porosity\n",
      "Top label: Splice gap with confidence score: 0.6599157452583313\n"
     ]
    },
    {
     "name": "stderr",
     "output_type": "stream",
     "text": [
      "\r",
      "Processing on GPU 0:  23%|█████████████████████████▏                                                                                  | 223/957 [00:50<02:41,  4.55it/s]"
     ]
    },
    {
     "name": "stdout",
     "output_type": "stream",
     "text": [
      "Classifying: Honeycomb geometry core cells distorted\n",
      "Top label: Core displacement with confidence score: 0.1835264265537262\n"
     ]
    },
    {
     "name": "stderr",
     "output_type": "stream",
     "text": [
      "\r",
      "Processing on GPU 1:  24%|█████████████████████████▍                                                                                  | 225/955 [00:50<02:46,  4.39it/s]"
     ]
    },
    {
     "name": "stdout",
     "output_type": "stream",
     "text": [
      "Classifying: Core Crush Core dent,\n",
      "Top label: Core deformation with confidence score: 0.5284508466720581\n"
     ]
    },
    {
     "name": "stderr",
     "output_type": "stream",
     "text": [
      "\r",
      "Processing on GPU 0:  23%|█████████████████████████▎                                                                                  | 224/957 [00:50<02:40,  4.56it/s]"
     ]
    },
    {
     "name": "stdout",
     "output_type": "stream",
     "text": [
      "Classifying: Honeycomb geometry cells nodal separation\n",
      "Top label: Core crash with confidence score: 0.3309307098388672\n"
     ]
    },
    {
     "name": "stderr",
     "output_type": "stream",
     "text": [
      "\r",
      "Processing on GPU 1:  24%|█████████████████████████▌                                                                                  | 226/955 [00:50<02:45,  4.42it/s]"
     ]
    },
    {
     "name": "stdout",
     "output_type": "stream",
     "text": [
      "Classifying: Bag Leak Vacuum leak during cycle\n",
      "Top label: Separation noodle joint with confidence score: 0.4306722581386566\n"
     ]
    },
    {
     "name": "stderr",
     "output_type": "stream",
     "text": [
      "\r",
      "Processing on GPU 0:  24%|█████████████████████████▍                                                                                  | 225/957 [00:50<02:41,  4.53it/s]"
     ]
    },
    {
     "name": "stdout",
     "output_type": "stream",
     "text": [
      "Classifying: Honeycomb geometry cells nodal separation\n",
      "Top label: Splice gap with confidence score: 0.16813203692436218\n"
     ]
    },
    {
     "name": "stderr",
     "output_type": "stream",
     "text": [
      "\r",
      "Processing on GPU 1:  24%|█████████████████████████▋                                                                                  | 227/955 [00:50<02:43,  4.46it/s]"
     ]
    },
    {
     "name": "stdout",
     "output_type": "stream",
     "text": [
      "Classifying: Material Expired Shelf life expired before curing\n",
      "Top label: Separation noodle joint with confidence score: 0.4306722581386566\n"
     ]
    },
    {
     "name": "stderr",
     "output_type": "stream",
     "text": [
      "\r",
      "Processing on GPU 0:  24%|█████████████████████████▌                                                                                  | 226/957 [00:50<02:41,  4.53it/s]"
     ]
    },
    {
     "name": "stdout",
     "output_type": "stream",
     "text": [
      "Classifying: Honeycomb geometry Honeycomb geometry\n",
      "Top label: Core displacement with confidence score: 0.15359078347682953\n"
     ]
    },
    {
     "name": "stderr",
     "output_type": "stream",
     "text": [
      "\r",
      "Processing on GPU 1:  24%|█████████████████████████▊                                                                                  | 228/955 [00:51<02:43,  4.45it/s]"
     ]
    },
    {
     "name": "stdout",
     "output_type": "stream",
     "text": [
      "Classifying: Gaps, Overlaps In Layup Overlap Oversize\n",
      "Top label: Resin buildup with confidence score: 0.2549569606781006\n"
     ]
    },
    {
     "name": "stderr",
     "output_type": "stream",
     "text": [
      "\r",
      "Processing on GPU 0:  24%|█████████████████████████▌                                                                                  | 227/957 [00:51<02:40,  4.55it/s]"
     ]
    },
    {
     "name": "stdout",
     "output_type": "stream",
     "text": [
      "Classifying: Material Missing or Incorrect positioned gap observed bettwem splice line and cor\n",
      "Top label: Splice gap with confidence score: 0.2813437283039093\n"
     ]
    },
    {
     "name": "stderr",
     "output_type": "stream",
     "text": [
      "\r",
      "Processing on GPU 1:  24%|█████████████████████████▉                                                                                  | 229/955 [00:51<02:43,  4.45it/s]"
     ]
    },
    {
     "name": "stdout",
     "output_type": "stream",
     "text": [
      "Classifying: Shelf Life Expired Shelf life expired before cure\n",
      "Top label: Splice gap with confidence score: 0.44430363178253174\n"
     ]
    },
    {
     "name": "stderr",
     "output_type": "stream",
     "text": [
      "\r",
      "Processing on GPU 0:  24%|█████████████████████████▋                                                                                  | 228/957 [00:51<02:40,  4.54it/s]"
     ]
    },
    {
     "name": "stdout",
     "output_type": "stream",
     "text": [
      "Classifying: Fitting displacement EDGA holes not matching locating holes\n",
      "Top label: Splice gap with confidence score: 0.1399684101343155\n"
     ]
    },
    {
     "name": "stderr",
     "output_type": "stream",
     "text": [
      "\r",
      "Processing on GPU 1:  24%|██████████████████████████                                                                                  | 230/955 [00:51<02:42,  4.46it/s]"
     ]
    },
    {
     "name": "stdout",
     "output_type": "stream",
     "text": [
      "Classifying: Chips / F.O.D. Damage FOD in the part\n",
      "Top label: Foreign Object Damage with confidence score: 0.21043309569358826\n"
     ]
    },
    {
     "name": "stderr",
     "output_type": "stream",
     "text": [
      "\r",
      "Processing on GPU 0:  24%|█████████████████████████▊                                                                                  | 229/957 [00:51<02:40,  4.53it/s]"
     ]
    },
    {
     "name": "stdout",
     "output_type": "stream",
     "text": [
      "Classifying: Alternative raw material Trial ISS-0007566-Change in Peel ply\n",
      "Top label: Foreign Object Damage with confidence score: 0.8658550977706909\n"
     ]
    },
    {
     "name": "stderr",
     "output_type": "stream",
     "text": [
      "\r",
      "Processing on GPU 1:  24%|██████████████████████████                                                                                  | 231/955 [00:51<02:41,  4.48it/s]"
     ]
    },
    {
     "name": "stdout",
     "output_type": "stream",
     "text": [
      "Classifying: Disbond Disbond\n",
      "Top label: Foreign Object Damage with confidence score: 0.2080441266298294\n"
     ]
    },
    {
     "name": "stderr",
     "output_type": "stream",
     "text": [
      "\r",
      "Processing on GPU 0:  24%|█████████████████████████▉                                                                                  | 230/957 [00:51<02:40,  4.52it/s]"
     ]
    },
    {
     "name": "stdout",
     "output_type": "stream",
     "text": [
      "Classifying: Process Qualification Trial charter (ISS-0007407)\n",
      "Top label: Core split with confidence score: 0.2206205129623413\n"
     ]
    },
    {
     "name": "stderr",
     "output_type": "stream",
     "text": [
      "\r",
      "Processing on GPU 1:  24%|██████████████████████████▏                                                                                 | 232/955 [00:52<02:40,  4.50it/s]"
     ]
    },
    {
     "name": "stdout",
     "output_type": "stream",
     "text": [
      "Classifying: Ply Wrinkle WRINKLE\n",
      "Top label: Core split with confidence score: 0.24778081476688385\n"
     ]
    },
    {
     "name": "stderr",
     "output_type": "stream",
     "text": [
      "\r",
      "Processing on GPU 0:  24%|██████████████████████████                                                                                  | 231/957 [00:51<02:41,  4.50it/s]"
     ]
    },
    {
     "name": "stdout",
     "output_type": "stream",
     "text": [
      "Classifying: Material Missing or Incorrect positioned Potting not as per laser projection\n",
      "Top label: Foreign Object Damage with confidence score: 0.23176859319210052\n"
     ]
    },
    {
     "name": "stderr",
     "output_type": "stream",
     "text": [
      "\r",
      "Processing on GPU 1:  24%|██████████████████████████▎                                                                                 | 233/955 [00:52<02:40,  4.51it/s]"
     ]
    },
    {
     "name": "stdout",
     "output_type": "stream",
     "text": [
      "Classifying: Imprint on Surface Dent Surface defects\n",
      "Top label: Core displacement with confidence score: 0.188478484749794\n"
     ]
    },
    {
     "name": "stderr",
     "output_type": "stream",
     "text": [
      "\r",
      "Processing on GPU 0:  24%|██████████████████████████▏                                                                                 | 232/957 [00:52<02:38,  4.57it/s]"
     ]
    },
    {
     "name": "stdout",
     "output_type": "stream",
     "text": [
      "Classifying: Core fill incorrect (Sandwich) Core fill incorrect (Sandwich)\n",
      "Top label: Splice gap with confidence score: 0.17318715155124664\n",
      "Top label: Core deformation with confidence score: 0.33305829763412476"
     ]
    },
    {
     "name": "stderr",
     "output_type": "stream",
     "text": [
      "\r",
      "Processing on GPU 1:  25%|██████████████████████████▍                                                                                 | 234/955 [00:52<02:42,  4.43it/s]"
     ]
    },
    {
     "name": "stdout",
     "output_type": "stream",
     "text": [
      "\n",
      "Classifying: Drill hole out of spec Dimension out of tolerance\n"
     ]
    },
    {
     "name": "stderr",
     "output_type": "stream",
     "text": [
      "\r",
      "Processing on GPU 0:  24%|██████████████████████████▎                                                                                 | 233/957 [00:52<02:38,  4.56it/s]"
     ]
    },
    {
     "name": "stdout",
     "output_type": "stream",
     "text": [
      "Classifying: Delamination Composite Manufacturing Delamination Composite Manufacturing\n",
      "Top label: Splice gap with confidence score: 0.30912792682647705\n"
     ]
    },
    {
     "name": "stderr",
     "output_type": "stream",
     "text": [
      "\r",
      "Processing on GPU 1:  25%|██████████████████████████▌                                                                                 | 235/955 [00:52<02:40,  4.48it/s]"
     ]
    },
    {
     "name": "stdout",
     "output_type": "stream",
     "text": [
      "Classifying: Chips / F.O.D. Damage FOD in the part\n",
      "Top label: Resin buildup with confidence score: 0.4829311668872833\n"
     ]
    },
    {
     "name": "stderr",
     "output_type": "stream",
     "text": [
      "\r",
      "Processing on GPU 0:  24%|██████████████████████████▍                                                                                 | 234/957 [00:52<02:41,  4.48it/s]"
     ]
    },
    {
     "name": "stdout",
     "output_type": "stream",
     "text": [
      "Classifying: Delamination Composite Manufacturing Delamination\n",
      "Top label: Foreign Object Damage with confidence score: 0.8658550977706909\n"
     ]
    },
    {
     "name": "stderr",
     "output_type": "stream",
     "text": [
      "\r",
      "Processing on GPU 1:  25%|██████████████████████████▋                                                                                 | 236/955 [00:52<02:38,  4.53it/s]"
     ]
    },
    {
     "name": "stdout",
     "output_type": "stream",
     "text": [
      "Classifying: Porosity NDT Initial Failure\n",
      "Top label: Resin buildup with confidence score: 0.21785829961299896\n"
     ]
    },
    {
     "name": "stderr",
     "output_type": "stream",
     "text": [
      "\r",
      "Processing on GPU 0:  25%|██████████████████████████▌                                                                                 | 235/957 [00:52<02:41,  4.48it/s]"
     ]
    },
    {
     "name": "stdout",
     "output_type": "stream",
     "text": [
      "Classifying: Honeycomb geometry Honeycomb geometry---Core Sag\n",
      "Top label: Separation noodle joint with confidence score: 0.3033478558063507\n"
     ]
    },
    {
     "name": "stderr",
     "output_type": "stream",
     "text": [
      "\r",
      "Processing on GPU 1:  25%|██████████████████████████▊                                                                                 | 237/955 [00:53<02:38,  4.52it/s]"
     ]
    },
    {
     "name": "stdout",
     "output_type": "stream",
     "text": [
      "Classifying: Traceability Not Maintained no SAP transaction for Mat freezing\n",
      "Top label: Core deformation with confidence score: 0.5137321949005127\n"
     ]
    },
    {
     "name": "stderr",
     "output_type": "stream",
     "text": [
      "\r",
      "Processing on GPU 0:  25%|██████████████████████████▋                                                                                 | 236/957 [00:53<02:40,  4.50it/s]"
     ]
    },
    {
     "name": "stdout",
     "output_type": "stream",
     "text": [
      "Classifying: Impact impact damage during assembly process\n",
      "Top label: Resin buildup with confidence score: 0.21428370475769043\n"
     ]
    },
    {
     "name": "stderr",
     "output_type": "stream",
     "text": [
      "\r",
      "Processing on GPU 1:  25%|██████████████████████████▉                                                                                 | 238/955 [00:53<02:39,  4.49it/s]"
     ]
    },
    {
     "name": "stdout",
     "output_type": "stream",
     "text": [
      "Classifying: Inclusion (Foreign Material) FOD.\n",
      "Top label: Core deformation with confidence score: 0.16715864837169647\n"
     ]
    },
    {
     "name": "stderr",
     "output_type": "stream",
     "text": [
      "\r",
      "Processing on GPU 0:  25%|██████████████████████████▋                                                                                 | 237/957 [00:53<02:40,  4.48it/s]"
     ]
    },
    {
     "name": "stdout",
     "output_type": "stream",
     "text": [
      "Classifying: Core fill incorrect (Sandwich) Core fill incorrect (Sandwich)\n",
      "Top label: Foreign Object Damage with confidence score: 0.6228139996528625\n"
     ]
    },
    {
     "name": "stderr",
     "output_type": "stream",
     "text": [
      "\r",
      "Processing on GPU 1:  25%|███████████████████████████                                                                                 | 239/955 [00:53<02:38,  4.51it/s]"
     ]
    },
    {
     "name": "stdout",
     "output_type": "stream",
     "text": [
      "Classifying: Core Damage, Torn Nodal Joints Nodal joint seperation\n",
      "Top label: Core deformation with confidence score: 0.33305829763412476\n"
     ]
    },
    {
     "name": "stderr",
     "output_type": "stream",
     "text": [
      "\r",
      "Processing on GPU 0:  25%|██████████████████████████▊                                                                                 | 238/957 [00:53<02:40,  4.49it/s]"
     ]
    },
    {
     "name": "stdout",
     "output_type": "stream",
     "text": [
      "Classifying: Completeness Configuration change\n",
      "Top label: Core deformation with confidence score: 0.3675958812236786\n"
     ]
    },
    {
     "name": "stderr",
     "output_type": "stream",
     "text": [
      "\r",
      "Processing on GPU 1:  25%|███████████████████████████▏                                                                                | 240/955 [00:53<02:38,  4.51it/s]"
     ]
    },
    {
     "name": "stdout",
     "output_type": "stream",
     "text": [
      "Classifying: Splice Defect on Bridge betw Core & Core Fute in laminate\n",
      "Top label: Core deformation with confidence score: 0.38782820105552673\n"
     ]
    },
    {
     "name": "stderr",
     "output_type": "stream",
     "text": [
      "\r",
      "Processing on GPU 0:  25%|██████████████████████████▉                                                                                 | 239/957 [00:53<02:40,  4.48it/s]"
     ]
    },
    {
     "name": "stdout",
     "output_type": "stream",
     "text": [
      "Classifying: foil-/ foreign-inclusion detected TC Strand\n",
      "Top label: Splice gap with confidence score: 0.4477577805519104\n"
     ]
    },
    {
     "name": "stderr",
     "output_type": "stream",
     "text": [
      "\r",
      "Processing on GPU 1:  25%|███████████████████████████▎                                                                                | 241/955 [00:54<02:38,  4.51it/s]"
     ]
    },
    {
     "name": "stdout",
     "output_type": "stream",
     "text": [
      "Classifying: Core Step Surface defect\n",
      "Top label: Foreign Object Damage with confidence score: 0.28147605061531067\n"
     ]
    },
    {
     "name": "stderr",
     "output_type": "stream",
     "text": [
      "\r",
      "Processing on GPU 0:  25%|███████████████████████████                                                                                 | 240/957 [00:53<02:39,  4.51it/s]"
     ]
    },
    {
     "name": "stdout",
     "output_type": "stream",
     "text": [
      "Classifying: foil-/ foreign-inclusion detected TC Strand\n",
      "Top label: Core deformation with confidence score: 0.6180459260940552\n"
     ]
    },
    {
     "name": "stderr",
     "output_type": "stream",
     "text": [
      "\r",
      "Processing on GPU 1:  25%|███████████████████████████▎                                                                                | 242/955 [00:54<02:39,  4.47it/s]"
     ]
    },
    {
     "name": "stdout",
     "output_type": "stream",
     "text": [
      "Classifying: Disbond Disbond located in 6 area\n",
      "Top label: Foreign Object Damage with confidence score: 0.28147605061531067\n"
     ]
    },
    {
     "name": "stderr",
     "output_type": "stream",
     "text": [
      "\r",
      "Processing on GPU 0:  25%|███████████████████████████▏                                                                                | 241/957 [00:54<02:37,  4.53it/s]"
     ]
    },
    {
     "name": "stdout",
     "output_type": "stream",
     "text": [
      "Classifying: Material Missing or Incorrect positioned TC Strand found in the part\n",
      "Top label: Core split with confidence score: 0.19565699994564056\n"
     ]
    },
    {
     "name": "stderr",
     "output_type": "stream",
     "text": [
      "\r",
      "Processing on GPU 1:  25%|███████████████████████████▍                                                                                | 243/955 [00:54<02:39,  4.45it/s]"
     ]
    },
    {
     "name": "stdout",
     "output_type": "stream",
     "text": [
      "Classifying: Chips / F.O.D. Damage FOD\n",
      "Top label: Core displacement with confidence score: 0.24930740892887115\n"
     ]
    },
    {
     "name": "stderr",
     "output_type": "stream",
     "text": [
      "\r",
      "Processing on GPU 0:  25%|███████████████████████████▎                                                                                | 242/957 [00:54<02:37,  4.53it/s]"
     ]
    },
    {
     "name": "stdout",
     "output_type": "stream",
     "text": [
      "Classifying: Hole incorrectly positioned Hole incorrectly positioned\n",
      "Top label: Foreign Object Damage with confidence score: 0.37230613827705383\n",
      "Top label: Foreign Object Damage with confidence score: 0.8262008428573608\n"
     ]
    },
    {
     "name": "stderr",
     "output_type": "stream",
     "text": [
      "Processing on GPU 1:  26%|███████████████████████████▌                                                                                | 244/955 [00:54<02:40,  4.43it/s]"
     ]
    },
    {
     "name": "stdout",
     "output_type": "stream",
     "text": [
      "Classifying: Core fill incorrect (Sandwich) Core fill incorrect (Sandwich)Classifying: Porosity nan\n",
      "\n",
      "Top label: Core deformation with confidence score: 0.33305829763412476Top label: Separation noodle joint with confidence score: 0.3819141089916229\n",
      "\n"
     ]
    },
    {
     "name": "stderr",
     "output_type": "stream",
     "text": [
      "Processing on GPU 1:  26%|███████████████████████████▋                                                                                | 245/955 [00:54<02:39,  4.46it/s]"
     ]
    },
    {
     "name": "stdout",
     "output_type": "stream",
     "text": [
      "Classifying: Adhesive Migration Potting mterial obsrved in betwen pliesClassifying: Delamination NDT Initial Failure\n",
      "\n",
      "Top label: Resin buildup with confidence score: 0.23074699938297272Top label: Separation noodle joint with confidence score: 0.23277020454406738\n"
     ]
    },
    {
     "name": "stderr",
     "output_type": "stream",
     "text": [
      "\r",
      "Processing on GPU 0:  26%|███████████████████████████▋                                                                                | 245/957 [00:55<02:37,  4.52it/s]"
     ]
    },
    {
     "name": "stdout",
     "output_type": "stream",
     "text": [
      "\n",
      "Classifying: Core fill incorrect (Sandwich) Core fill incorrect (Sandwich)"
     ]
    },
    {
     "name": "stderr",
     "output_type": "stream",
     "text": [
      "\r",
      "Processing on GPU 1:  26%|███████████████████████████▊                                                                                | 246/955 [00:55<02:38,  4.46it/s]"
     ]
    },
    {
     "name": "stdout",
     "output_type": "stream",
     "text": [
      "\n",
      "Classifying: Wrinkle see long text\n",
      "Top label: Core deformation with confidence score: 0.33305829763412476\n",
      "Top label: Splice gap with confidence score: 0.296188086271286"
     ]
    },
    {
     "name": "stderr",
     "output_type": "stream",
     "text": [
      "\r",
      "Processing on GPU 0:  26%|███████████████████████████▊                                                                                | 246/957 [00:55<02:38,  4.50it/s]"
     ]
    },
    {
     "name": "stdout",
     "output_type": "stream",
     "text": [
      "\n"
     ]
    },
    {
     "name": "stderr",
     "output_type": "stream",
     "text": [
      "\r",
      "Processing on GPU 1:  26%|███████████████████████████▉                                                                                | 247/955 [00:55<02:38,  4.46it/s]"
     ]
    },
    {
     "name": "stdout",
     "output_type": "stream",
     "text": [
      "Classifying: Fiber breakout Fibre breakout\n",
      "Classifying: Core Crush Surface Depressions\n",
      "Top label: Core displacement with confidence score: 0.16931882500648499Top label: Core crash with confidence score: 0.40681004524230957\n"
     ]
    },
    {
     "name": "stderr",
     "output_type": "stream",
     "text": [
      "\r",
      "Processing on GPU 0:  26%|███████████████████████████▊                                                                                | 247/957 [00:55<02:38,  4.48it/s]"
     ]
    },
    {
     "name": "stdout",
     "output_type": "stream",
     "text": [
      "\n",
      "Classifying: Surface defects Surface defects"
     ]
    },
    {
     "name": "stderr",
     "output_type": "stream",
     "text": [
      "\r",
      "Processing on GPU 1:  26%|████████████████████████████                                                                                | 248/955 [00:55<02:38,  4.46it/s]"
     ]
    },
    {
     "name": "stdout",
     "output_type": "stream",
     "text": [
      "\n",
      "Classifying: Gaps, Overlaps In Layup Overlap Oversize\n",
      "Top label: Separation noodle joint with confidence score: 0.1504822075366974\n"
     ]
    },
    {
     "name": "stderr",
     "output_type": "stream",
     "text": [
      "\r",
      "Processing on GPU 0:  26%|███████████████████████████▉                                                                                | 248/957 [00:55<02:38,  4.48it/s]"
     ]
    },
    {
     "name": "stdout",
     "output_type": "stream",
     "text": [
      "Top label: Splice gap with confidence score: 0.2813437283039093Classifying: foil-/ foreign-inclusion detected FOD (Hairs found on part bagside)\n",
      "\n"
     ]
    },
    {
     "name": "stderr",
     "output_type": "stream",
     "text": [
      "\r",
      "Processing on GPU 1:  26%|████████████████████████████▏                                                                               | 249/955 [00:55<02:39,  4.44it/s]"
     ]
    },
    {
     "name": "stdout",
     "output_type": "stream",
     "text": [
      "Classifying: Delamination NDT Initial Failure\n",
      "Top label: Foreign Object Damage with confidence score: 0.7243863940238953\n"
     ]
    },
    {
     "name": "stderr",
     "output_type": "stream",
     "text": [
      "\r",
      "Processing on GPU 0:  26%|████████████████████████████                                                                                | 249/957 [00:55<02:38,  4.48it/s]"
     ]
    },
    {
     "name": "stdout",
     "output_type": "stream",
     "text": [
      "Top label: Separation noodle joint with confidence score: 0.23277020454406738Classifying: Layer Porosity Layer porosity  located from tool side\n",
      "\n"
     ]
    },
    {
     "name": "stderr",
     "output_type": "stream",
     "text": [
      "\r",
      "Processing on GPU 1:  26%|████████████████████████████▎                                                                               | 250/955 [00:56<02:38,  4.44it/s]"
     ]
    },
    {
     "name": "stdout",
     "output_type": "stream",
     "text": [
      "Classifying: Core Damage, Torn Nodal Joints torn nodal joints\n",
      "Top label: Foreign Object Damage with confidence score: 0.19111602008342743\n",
      "Top label: Core deformation with confidence score: 0.6960847973823547"
     ]
    },
    {
     "name": "stderr",
     "output_type": "stream",
     "text": [
      "\r",
      "Processing on GPU 0:  26%|████████████████████████████▏                                                                               | 250/957 [00:56<02:38,  4.45it/s]"
     ]
    },
    {
     "name": "stdout",
     "output_type": "stream",
     "text": [
      "\n",
      "Classifying: Mechanical Trimming / Contour milling chamfering not done at the Bagside TE"
     ]
    },
    {
     "name": "stderr",
     "output_type": "stream",
     "text": [
      "\r",
      "Processing on GPU 1:  26%|████████████████████████████▍                                                                               | 251/955 [00:56<02:38,  4.45it/s]"
     ]
    },
    {
     "name": "stdout",
     "output_type": "stream",
     "text": [
      "\n",
      "Classifying: Imprint on Surface Dent Surface Depressions ,\n",
      "Top label: Separation noodle joint with confidence score: 0.1495453268289566\n"
     ]
    },
    {
     "name": "stderr",
     "output_type": "stream",
     "text": [
      "\r",
      "Processing on GPU 1:  26%|████████████████████████████▍                                                                               | 252/955 [00:56<02:37,  4.46it/s]"
     ]
    },
    {
     "name": "stdout",
     "output_type": "stream",
     "text": [
      "Top label: Splice gap with confidence score: 0.3116086721420288Classifying: Disbond disbond\n",
      "\n"
     ]
    },
    {
     "name": "stderr",
     "output_type": "stream",
     "text": [
      "\r",
      "Processing on GPU 0:  26%|████████████████████████████▎                                                                               | 251/957 [00:56<02:39,  4.44it/s]"
     ]
    },
    {
     "name": "stdout",
     "output_type": "stream",
     "text": [
      "Classifying: Delamination Composite Manufacturing Delamination Composite Manufacturing\n",
      "Top label: Separation noodle joint with confidence score: 0.234422504901886\n",
      "Top label: Resin buildup with confidence score: 0.4829311668872833"
     ]
    },
    {
     "name": "stderr",
     "output_type": "stream",
     "text": [
      "\r",
      "Processing on GPU 1:  26%|████████████████████████████▌                                                                               | 253/955 [00:56<02:36,  4.48it/s]"
     ]
    },
    {
     "name": "stdout",
     "output_type": "stream",
     "text": [
      "Classifying: Delamination DELAMINATION\n",
      "\n"
     ]
    },
    {
     "name": "stderr",
     "output_type": "stream",
     "text": [
      "\r",
      "Processing on GPU 0:  26%|████████████████████████████▍                                                                               | 252/957 [00:56<02:38,  4.45it/s]"
     ]
    },
    {
     "name": "stdout",
     "output_type": "stream",
     "text": [
      "Classifying: Delamination Composite Manufacturing Delamination Composite Manufacturing\n",
      "Top label: Foreign Object Damage with confidence score: 0.3161163330078125\n",
      "Top label: Resin buildup with confidence score: 0.4829311668872833"
     ]
    },
    {
     "name": "stderr",
     "output_type": "stream",
     "text": [
      "\r",
      "Processing on GPU 1:  27%|████████████████████████████▋                                                                               | 254/955 [00:56<02:37,  4.46it/s]"
     ]
    },
    {
     "name": "stdout",
     "output_type": "stream",
     "text": [
      "\n",
      "Classifying: Ply Wrinkle WRINKLE"
     ]
    },
    {
     "name": "stderr",
     "output_type": "stream",
     "text": [
      "\r",
      "Processing on GPU 0:  26%|████████████████████████████▌                                                                               | 253/957 [00:56<02:37,  4.46it/s]"
     ]
    },
    {
     "name": "stdout",
     "output_type": "stream",
     "text": [
      "\n",
      "Classifying: Surface defects Depression on the core\n",
      "Top label: Core crash with confidence score: 0.3054625391960144Top label: Foreign Object Damage with confidence score: 0.23176859319210052\n",
      "\n"
     ]
    },
    {
     "name": "stderr",
     "output_type": "stream",
     "text": [
      "\r",
      "Processing on GPU 0:  27%|████████████████████████████▋                                                                               | 254/957 [00:57<02:37,  4.47it/s]"
     ]
    },
    {
     "name": "stdout",
     "output_type": "stream",
     "text": [
      "Classifying: Delamination Composite Manufacturing  Delamination located from upper side"
     ]
    },
    {
     "name": "stderr",
     "output_type": "stream",
     "text": [
      "\r",
      "Processing on GPU 1:  27%|████████████████████████████▊                                                                               | 255/955 [00:57<02:36,  4.46it/s]"
     ]
    },
    {
     "name": "stdout",
     "output_type": "stream",
     "text": [
      "Classifying: Core Crush Core dent,\n",
      "\n",
      "Top label: Core split with confidence score: 0.17238512635231018\n",
      "Top label: Core crash with confidence score: 0.3309307098388672\n"
     ]
    },
    {
     "name": "stderr",
     "output_type": "stream",
     "text": [
      "\r",
      "Processing on GPU 0:  27%|████████████████████████████▊                                                                               | 255/957 [00:57<02:37,  4.47it/s]"
     ]
    },
    {
     "name": "stdout",
     "output_type": "stream",
     "text": [
      "Classifying: Protrusion / Intrusion Protrusion / Intrusion"
     ]
    },
    {
     "name": "stderr",
     "output_type": "stream",
     "text": [
      "\r",
      "Processing on GPU 1:  27%|████████████████████████████▉                                                                               | 256/955 [00:57<02:36,  4.46it/s]"
     ]
    },
    {
     "name": "stdout",
     "output_type": "stream",
     "text": [
      "\n",
      "Classifying: Splice Defect on Bridge betw Core & Core Flute in laminate\n",
      "Top label: Core split with confidence score: 0.28096479177474976\n"
     ]
    },
    {
     "name": "stderr",
     "output_type": "stream",
     "text": [
      "\r",
      "Processing on GPU 0:  27%|████████████████████████████▉                                                                               | 256/957 [00:57<02:36,  4.49it/s]"
     ]
    },
    {
     "name": "stdout",
     "output_type": "stream",
     "text": [
      "Classifying: Delamination Composite Manufacturing NDT Initial Failure\n",
      "Top label: Splice gap with confidence score: 0.4838182330131531\n"
     ]
    },
    {
     "name": "stderr",
     "output_type": "stream",
     "text": [
      "\r",
      "Processing on GPU 1:  27%|█████████████████████████████                                                                               | 257/955 [00:57<02:36,  4.45it/s]"
     ]
    },
    {
     "name": "stdout",
     "output_type": "stream",
     "text": [
      "Classifying: Ply Wrinkle WRINKLE\n",
      "Top label: Foreign Object Damage with confidence score: 0.23176859319210052Top label: Resin buildup with confidence score: 0.3112137019634247\n",
      "\n"
     ]
    },
    {
     "name": "stderr",
     "output_type": "stream",
     "text": [
      "Processing on GPU 0:  27%|█████████████████████████████                                                                               | 257/957 [00:57<02:36,  4.47it/s]"
     ]
    },
    {
     "name": "stdout",
     "output_type": "stream",
     "text": [
      "Classifying: Waviness DEPRESSIONClassifying: Honeycomb geometry NDT Initial Failure\n",
      "\n",
      "Top label: Core displacement with confidence score: 0.242305725812912Top label: Foreign Object Damage with confidence score: 0.216615229845047\n",
      "\n"
     ]
    },
    {
     "name": "stderr",
     "output_type": "stream",
     "text": [
      "Processing on GPU 1:  27%|█████████████████████████████▎                                                                              | 259/955 [00:58<02:35,  4.48it/s]"
     ]
    },
    {
     "name": "stdout",
     "output_type": "stream",
     "text": [
      "Classifying: Disbond NDT Initial FailureClassifying: Sample Test / Specimen DMA result not available\n",
      "\n",
      "Top label: Core deformation with confidence score: 0.19701813161373138\n",
      "Top label: Foreign Object Damage with confidence score: 0.4590109586715698"
     ]
    },
    {
     "name": "stderr",
     "output_type": "stream",
     "text": [
      "\r",
      "Processing on GPU 1:  27%|█████████████████████████████▍                                                                              | 260/955 [00:58<02:35,  4.48it/s]"
     ]
    },
    {
     "name": "stdout",
     "output_type": "stream",
     "text": [
      "\n",
      "Classifying: Dents Over Splice Lines core deprresion\n"
     ]
    },
    {
     "name": "stderr",
     "output_type": "stream",
     "text": [
      "\r",
      "Processing on GPU 0:  27%|█████████████████████████████▏                                                                              | 259/957 [00:58<02:36,  4.47it/s]"
     ]
    },
    {
     "name": "stdout",
     "output_type": "stream",
     "text": [
      "Classifying: Delamination Composite Manufacturing NDT Initial Failure\n",
      "Top label: Core deformation with confidence score: 0.42636752128601074\n"
     ]
    },
    {
     "name": "stderr",
     "output_type": "stream",
     "text": [
      "\r",
      "Processing on GPU 1:  27%|█████████████████████████████▌                                                                              | 261/955 [00:58<02:33,  4.52it/s]"
     ]
    },
    {
     "name": "stdout",
     "output_type": "stream",
     "text": [
      "Classifying: Delamination NDT Initial Failure\n",
      "Top label: Resin buildup with confidence score: 0.3112137019634247\n"
     ]
    },
    {
     "name": "stderr",
     "output_type": "stream",
     "text": [
      "\r",
      "Processing on GPU 0:  27%|█████████████████████████████▎                                                                              | 260/957 [00:58<02:39,  4.38it/s]"
     ]
    },
    {
     "name": "stdout",
     "output_type": "stream",
     "text": [
      "Classifying: Delamination Composite Manufacturing Delamination above size limit\n",
      "Top label: Separation noodle joint with confidence score: 0.23277020454406738\n"
     ]
    },
    {
     "name": "stderr",
     "output_type": "stream",
     "text": [
      "\r",
      "Processing on GPU 1:  27%|█████████████████████████████▋                                                                              | 262/955 [00:58<02:32,  4.54it/s]"
     ]
    },
    {
     "name": "stdout",
     "output_type": "stream",
     "text": [
      "Classifying: Delamination nan\n",
      "Top label: Resin buildup with confidence score: 0.19766445457935333\n"
     ]
    },
    {
     "name": "stderr",
     "output_type": "stream",
     "text": [
      "\r",
      "Processing on GPU 0:  27%|█████████████████████████████▍                                                                              | 261/957 [00:58<02:37,  4.42it/s]"
     ]
    },
    {
     "name": "stdout",
     "output_type": "stream",
     "text": [
      "Classifying: Honeycomb geometry UUI-Unidentify Indication\n",
      "Top label: Separation noodle joint with confidence score: 0.30506935715675354\n"
     ]
    },
    {
     "name": "stderr",
     "output_type": "stream",
     "text": [
      "\r",
      "Processing on GPU 1:  28%|█████████████████████████████▋                                                                              | 263/955 [00:58<02:32,  4.53it/s]"
     ]
    },
    {
     "name": "stdout",
     "output_type": "stream",
     "text": [
      "Classifying: Delamination NDT Initial Failure\n",
      "Top label: Separation noodle joint with confidence score: 0.17283837497234344\n"
     ]
    },
    {
     "name": "stderr",
     "output_type": "stream",
     "text": [
      "\r",
      "Processing on GPU 0:  27%|█████████████████████████████▌                                                                              | 262/957 [00:58<02:36,  4.45it/s]"
     ]
    },
    {
     "name": "stdout",
     "output_type": "stream",
     "text": [
      "Classifying: foil-/ foreign-inclusion detected TC Strand\n",
      "Top label: Separation noodle joint with confidence score: 0.23277020454406738\n"
     ]
    },
    {
     "name": "stderr",
     "output_type": "stream",
     "text": [
      "\r",
      "Processing on GPU 1:  28%|█████████████████████████████▊                                                                              | 264/955 [00:59<02:32,  4.52it/s]"
     ]
    },
    {
     "name": "stdout",
     "output_type": "stream",
     "text": [
      "Classifying: Disbond disbond\n",
      "Top label: Foreign Object Damage with confidence score: 0.28147605061531067\n"
     ]
    },
    {
     "name": "stderr",
     "output_type": "stream",
     "text": [
      "\r",
      "Processing on GPU 0:  27%|█████████████████████████████▋                                                                              | 263/957 [00:59<02:35,  4.46it/s]"
     ]
    },
    {
     "name": "stdout",
     "output_type": "stream",
     "text": [
      "Classifying: Layer Porosity Layer Porosity\n",
      "Top label: Separation noodle joint with confidence score: 0.234422504901886\n"
     ]
    },
    {
     "name": "stderr",
     "output_type": "stream",
     "text": [
      "\r",
      "Processing on GPU 1:  28%|█████████████████████████████▉                                                                              | 265/955 [00:59<02:31,  4.55it/s]"
     ]
    },
    {
     "name": "stdout",
     "output_type": "stream",
     "text": [
      "Classifying: Delamination Delamination Composite Manufacturing\n",
      "Top label: Resin buildup with confidence score: 0.304674357175827\n"
     ]
    },
    {
     "name": "stderr",
     "output_type": "stream",
     "text": [
      "\r",
      "Processing on GPU 0:  28%|█████████████████████████████▊                                                                              | 264/957 [00:59<02:38,  4.38it/s]"
     ]
    },
    {
     "name": "stdout",
     "output_type": "stream",
     "text": [
      "Classifying: Diameter Enlarging Teflon hole diameter\n",
      "Top label: Resin buildup with confidence score: 0.48175740242004395\n"
     ]
    },
    {
     "name": "stderr",
     "output_type": "stream",
     "text": [
      "\r",
      "Processing on GPU 1:  28%|██████████████████████████████                                                                              | 266/955 [00:59<02:31,  4.55it/s]"
     ]
    },
    {
     "name": "stdout",
     "output_type": "stream",
     "text": [
      "Classifying: Porosity volumetric porosity above accept limit\n",
      "Top label: Resin buildup with confidence score: 0.19762568175792694\n"
     ]
    },
    {
     "name": "stderr",
     "output_type": "stream",
     "text": [
      "\r",
      "Processing on GPU 0:  28%|█████████████████████████████▉                                                                              | 265/957 [00:59<02:37,  4.40it/s]"
     ]
    },
    {
     "name": "stdout",
     "output_type": "stream",
     "text": [
      "Classifying: Shape Edge assembly trimmed by 2 mm\n",
      "Top label: Core displacement with confidence score: 0.1743021011352539\n"
     ]
    },
    {
     "name": "stderr",
     "output_type": "stream",
     "text": [
      "\r",
      "Processing on GPU 1:  28%|██████████████████████████████▏                                                                             | 267/955 [00:59<02:31,  4.56it/s]"
     ]
    },
    {
     "name": "stdout",
     "output_type": "stream",
     "text": [
      "Classifying: Crack, Sandwich Area Core crack\n",
      "Top label: Splice gap with confidence score: 0.24908876419067383\n"
     ]
    },
    {
     "name": "stderr",
     "output_type": "stream",
     "text": [
      "\r",
      "Processing on GPU 0:  28%|██████████████████████████████                                                                              | 266/957 [00:59<02:35,  4.44it/s]"
     ]
    },
    {
     "name": "stdout",
     "output_type": "stream",
     "text": [
      "Classifying: Honeycomb geometry core template re-manufactured\n",
      "Top label: Core deformation with confidence score: 0.48759809136390686\n"
     ]
    },
    {
     "name": "stderr",
     "output_type": "stream",
     "text": [
      "\r",
      "Processing on GPU 1:  28%|██████████████████████████████▎                                                                             | 268/955 [01:00<02:30,  4.56it/s]"
     ]
    },
    {
     "name": "stdout",
     "output_type": "stream",
     "text": [
      "Classifying: Gaps, Overlaps In Layup overlap oversize\n",
      "Top label: Core displacement with confidence score: 0.41603586077690125\n"
     ]
    },
    {
     "name": "stderr",
     "output_type": "stream",
     "text": [
      "\r",
      "Processing on GPU 0:  28%|██████████████████████████████▏                                                                             | 267/957 [01:00<02:37,  4.38it/s]"
     ]
    },
    {
     "name": "stdout",
     "output_type": "stream",
     "text": [
      "Classifying: Expired Material Material Expired before curing\n",
      "Top label: Splice gap with confidence score: 0.29560336470603943\n"
     ]
    },
    {
     "name": "stderr",
     "output_type": "stream",
     "text": [
      "\r",
      "Processing on GPU 1:  28%|██████████████████████████████▍                                                                             | 269/955 [01:00<02:31,  4.54it/s]"
     ]
    },
    {
     "name": "stdout",
     "output_type": "stream",
     "text": [
      "Classifying: Disbond Disbond\n",
      "Top label: Core deformation with confidence score: 0.15246404707431793\n"
     ]
    },
    {
     "name": "stderr",
     "output_type": "stream",
     "text": [
      "\r",
      "Processing on GPU 0:  28%|██████████████████████████████▏                                                                             | 268/957 [01:00<02:34,  4.47it/s]"
     ]
    },
    {
     "name": "stdout",
     "output_type": "stream",
     "text": [
      "Classifying: Mechanical Trimming / Contour milling chamfering not done\n",
      "Top label: Core split with confidence score: 0.2206205129623413\n"
     ]
    },
    {
     "name": "stderr",
     "output_type": "stream",
     "text": [
      "\r",
      "Processing on GPU 1:  28%|██████████████████████████████▌                                                                             | 270/955 [01:00<02:34,  4.43it/s]"
     ]
    },
    {
     "name": "stdout",
     "output_type": "stream",
     "text": [
      "Classifying: Impact Damage Impact damage\n",
      "Top label: Splice gap with confidence score: 0.2642711102962494\n"
     ]
    },
    {
     "name": "stderr",
     "output_type": "stream",
     "text": [
      "\r",
      "Processing on GPU 0:  28%|██████████████████████████████▎                                                                             | 269/957 [01:00<02:32,  4.52it/s]"
     ]
    },
    {
     "name": "stdout",
     "output_type": "stream",
     "text": [
      "Classifying: foil-/ foreign-inclusion detected TC Strand\n",
      "Top label: Foreign Object Damage with confidence score: 0.2352115958929062\n"
     ]
    },
    {
     "name": "stderr",
     "output_type": "stream",
     "text": [
      "\r",
      "Processing on GPU 1:  28%|██████████████████████████████▋                                                                             | 271/955 [01:00<02:34,  4.44it/s]"
     ]
    },
    {
     "name": "stdout",
     "output_type": "stream",
     "text": [
      "Classifying: Ply Wrinkle WRINKLE\n",
      "Top label: Foreign Object Damage with confidence score: 0.28147605061531067\n"
     ]
    },
    {
     "name": "stderr",
     "output_type": "stream",
     "text": [
      "\r",
      "Processing on GPU 0:  28%|██████████████████████████████▍                                                                             | 270/957 [01:00<02:31,  4.53it/s]"
     ]
    },
    {
     "name": "stdout",
     "output_type": "stream",
     "text": [
      "Classifying: Material Missing or Incorrect positioned TC Strand\n",
      "Top label: Foreign Object Damage with confidence score: 0.23176859319210052\n"
     ]
    },
    {
     "name": "stderr",
     "output_type": "stream",
     "text": [
      "\r",
      "Processing on GPU 1:  28%|██████████████████████████████▊                                                                             | 272/955 [01:00<02:35,  4.40it/s]"
     ]
    },
    {
     "name": "stdout",
     "output_type": "stream",
     "text": [
      "Classifying: Disbond disbond\n",
      "Top label: Core displacement with confidence score: 0.25095024704933167\n"
     ]
    },
    {
     "name": "stderr",
     "output_type": "stream",
     "text": [
      "\r",
      "Processing on GPU 0:  28%|██████████████████████████████▌                                                                             | 271/957 [01:00<02:29,  4.57it/s]"
     ]
    },
    {
     "name": "stdout",
     "output_type": "stream",
     "text": [
      "Classifying: Delamination Composite Manufacturing Delamination Composite Manufacturing\n",
      "Top label: Separation noodle joint with confidence score: 0.234422504901886\n",
      "Top label: Resin buildup with confidence score: 0.4829311668872833"
     ]
    },
    {
     "name": "stderr",
     "output_type": "stream",
     "text": [
      "\r",
      "Processing on GPU 1:  29%|██████████████████████████████▊                                                                             | 273/955 [01:01<02:35,  4.40it/s]"
     ]
    },
    {
     "name": "stdout",
     "output_type": "stream",
     "text": [
      "Classifying: Imprint on Surface Dent Surface Depression\n",
      "\n"
     ]
    },
    {
     "name": "stderr",
     "output_type": "stream",
     "text": [
      "\r",
      "Processing on GPU 0:  28%|██████████████████████████████▋                                                                             | 272/957 [01:01<02:29,  4.58it/s]"
     ]
    },
    {
     "name": "stdout",
     "output_type": "stream",
     "text": [
      "Classifying: Honeycomb geometry UUI-Unidentify Indication\n",
      "Top label: Splice gap with confidence score: 0.1898801177740097Top label: Separation noodle joint with confidence score: 0.17283837497234344\n",
      "\n"
     ]
    },
    {
     "name": "stderr",
     "output_type": "stream",
     "text": [
      "\r",
      "Processing on GPU 1:  29%|██████████████████████████████▉                                                                             | 274/955 [01:01<02:35,  4.37it/s]"
     ]
    },
    {
     "name": "stdout",
     "output_type": "stream",
     "text": [
      "Classifying: Core Damage, Torn Nodal Joints torn nodal joints"
     ]
    },
    {
     "name": "stderr",
     "output_type": "stream",
     "text": [
      "\r",
      "Processing on GPU 0:  29%|██████████████████████████████▊                                                                             | 273/957 [01:01<02:30,  4.53it/s]"
     ]
    },
    {
     "name": "stdout",
     "output_type": "stream",
     "text": [
      "\n",
      "Classifying: Honeycomb geometry Core Sag\n",
      "Top label: Core deformation with confidence score: 0.6960847973823547\n"
     ]
    },
    {
     "name": "stderr",
     "output_type": "stream",
     "text": [
      "\r",
      "Processing on GPU 1:  29%|███████████████████████████████                                                                             | 275/955 [01:01<02:34,  4.40it/s]"
     ]
    },
    {
     "name": "stdout",
     "output_type": "stream",
     "text": [
      "Top label: Core deformation with confidence score: 0.5280296802520752Classifying: Disbond nan\n",
      "\n"
     ]
    },
    {
     "name": "stderr",
     "output_type": "stream",
     "text": [
      "\r",
      "Processing on GPU 0:  29%|██████████████████████████████▉                                                                             | 274/957 [01:01<02:31,  4.49it/s]"
     ]
    },
    {
     "name": "stdout",
     "output_type": "stream",
     "text": [
      "Classifying: Surface defects Depression from tool side after repair\n",
      "Top label: Separation noodle joint with confidence score: 0.42728883028030396\n"
     ]
    },
    {
     "name": "stderr",
     "output_type": "stream",
     "text": [
      "\r",
      "Processing on GPU 1:  29%|███████████████████████████████▏                                                                            | 276/955 [01:01<02:32,  4.47it/s]"
     ]
    },
    {
     "name": "stdout",
     "output_type": "stream",
     "text": [
      "Classifying: Bag Leak Vacuum leak during cycle.\n",
      "Top label: Core displacement with confidence score: 0.18752244114875793\n"
     ]
    },
    {
     "name": "stderr",
     "output_type": "stream",
     "text": [
      "\r",
      "Processing on GPU 0:  29%|███████████████████████████████                                                                             | 275/957 [01:01<02:33,  4.45it/s]"
     ]
    },
    {
     "name": "stdout",
     "output_type": "stream",
     "text": [
      "Classifying: Sample Test / Specimen DMA result not available\n",
      "Top label: Splice gap with confidence score: 0.1738288253545761\n"
     ]
    },
    {
     "name": "stderr",
     "output_type": "stream",
     "text": [
      "\r",
      "Processing on GPU 1:  29%|███████████████████████████████▎                                                                            | 277/955 [01:02<02:31,  4.48it/s]"
     ]
    },
    {
     "name": "stdout",
     "output_type": "stream",
     "text": [
      "Classifying: Imprint on Surface Dent Surface Depressions\n",
      "Top label: Foreign Object Damage with confidence score: 0.4590109586715698\n"
     ]
    },
    {
     "name": "stderr",
     "output_type": "stream",
     "text": [
      "\r",
      "Processing on GPU 0:  29%|███████████████████████████████▏                                                                            | 276/957 [01:02<02:34,  4.42it/s]"
     ]
    },
    {
     "name": "stdout",
     "output_type": "stream",
     "text": [
      "Classifying: Delamination Composite Manufacturing NDT Initial Failure\n",
      "Top label: Separation noodle joint with confidence score: 0.15572044253349304\n"
     ]
    },
    {
     "name": "stderr",
     "output_type": "stream",
     "text": [
      "\r",
      "Processing on GPU 1:  29%|███████████████████████████████▍                                                                            | 278/955 [01:02<02:30,  4.49it/s]"
     ]
    },
    {
     "name": "stdout",
     "output_type": "stream",
     "text": [
      "Classifying: Cure Cycle Overrun, Underrun dwell too long\n",
      "Top label: Resin buildup with confidence score: 0.3112137019634247\n"
     ]
    },
    {
     "name": "stderr",
     "output_type": "stream",
     "text": [
      "\r",
      "Processing on GPU 0:  29%|███████████████████████████████▎                                                                            | 277/957 [01:02<02:32,  4.47it/s]"
     ]
    },
    {
     "name": "stdout",
     "output_type": "stream",
     "text": [
      "Classifying: Layer Porosity Layer porosity  located from tool side\n",
      "Top label: Core split with confidence score: 0.2285088300704956\n"
     ]
    },
    {
     "name": "stderr",
     "output_type": "stream",
     "text": [
      "\r",
      "Processing on GPU 1:  29%|███████████████████████████████▌                                                                            | 279/955 [01:02<02:29,  4.53it/s]"
     ]
    },
    {
     "name": "stdout",
     "output_type": "stream",
     "text": [
      "Classifying: Dents Over Splice Lines Dent over Splice Lines\n",
      "Top label: Foreign Object Damage with confidence score: 0.19111602008342743\n"
     ]
    },
    {
     "name": "stderr",
     "output_type": "stream",
     "text": [
      "\r",
      "Processing on GPU 0:  29%|███████████████████████████████▎                                                                            | 278/957 [01:02<02:31,  4.47it/s]"
     ]
    },
    {
     "name": "stdout",
     "output_type": "stream",
     "text": [
      "Classifying: foil-/ foreign-inclusion detected FOD above limit\n",
      "Top label: Splice gap with confidence score: 0.4931044578552246\n",
      "Top label: Foreign Object Damage with confidence score: 0.7214051485061646"
     ]
    },
    {
     "name": "stderr",
     "output_type": "stream",
     "text": [
      "\r",
      "Processing on GPU 1:  29%|███████████████████████████████▋                                                                            | 280/955 [01:02<02:32,  4.43it/s]"
     ]
    },
    {
     "name": "stdout",
     "output_type": "stream",
     "text": [
      "Classifying: Core Step nan\n",
      "\n"
     ]
    },
    {
     "name": "stderr",
     "output_type": "stream",
     "text": [
      "\r",
      "Processing on GPU 0:  29%|███████████████████████████████▍                                                                            | 279/957 [01:02<02:29,  4.53it/s]"
     ]
    },
    {
     "name": "stdout",
     "output_type": "stream",
     "text": [
      "Classifying: Curing Vacuum No trace of vacuum leak could be found\n",
      "Top label: Core split with confidence score: 0.39255577325820923\n",
      "Top label: Splice gap with confidence score: 0.17398197948932648\n"
     ]
    },
    {
     "name": "stderr",
     "output_type": "stream",
     "text": [
      "\r",
      "Processing on GPU 1:  29%|███████████████████████████████▊                                                                            | 281/955 [01:02<02:33,  4.40it/s]"
     ]
    },
    {
     "name": "stdout",
     "output_type": "stream",
     "text": [
      "Classifying: Gaps, Overlaps In Layup nan"
     ]
    },
    {
     "name": "stderr",
     "output_type": "stream",
     "text": [
      "\r",
      "Processing on GPU 0:  29%|███████████████████████████████▌                                                                            | 280/957 [01:02<02:30,  4.50it/s]"
     ]
    },
    {
     "name": "stdout",
     "output_type": "stream",
     "text": [
      "\n",
      "Classifying: Core fill incorrect (Sandwich) Core fill incorrect (Sandwich)\n",
      "Top label: Separation noodle joint with confidence score: 0.35300973057746887Top label: Core deformation with confidence score: 0.33305829763412476\n",
      "\n"
     ]
    },
    {
     "name": "stderr",
     "output_type": "stream",
     "text": [
      "Processing on GPU 0:  29%|███████████████████████████████▋                                                                            | 281/957 [01:03<02:30,  4.49it/s]"
     ]
    },
    {
     "name": "stdout",
     "output_type": "stream",
     "text": [
      "Classifying: foil-/ foreign-inclusion detected TC StrandClassifying: Delamination Delamination\n",
      "\n",
      "Top label: Foreign Object Damage with confidence score: 0.28147605061531067Top label: Resin buildup with confidence score: 0.28864264488220215\n",
      "\n"
     ]
    },
    {
     "name": "stderr",
     "output_type": "stream",
     "text": [
      "Processing on GPU 0:  29%|███████████████████████████████▊                                                                            | 282/957 [01:03<02:30,  4.48it/s]"
     ]
    },
    {
     "name": "stdout",
     "output_type": "stream",
     "text": [
      "Classifying: Cracks Core DefectClassifying: Composite ply Ply removed for investigation\n",
      "\n",
      "Top label: Core deformation with confidence score: 0.5421086549758911Top label: Foreign Object Damage with confidence score: 0.16727560758590698\n",
      "\n"
     ]
    },
    {
     "name": "stderr",
     "output_type": "stream",
     "text": [
      "Processing on GPU 0:  30%|███████████████████████████████▉                                                                            | 283/957 [01:03<02:30,  4.47it/s]"
     ]
    },
    {
     "name": "stdout",
     "output_type": "stream",
     "text": [
      "Classifying: Chips / F.O.D. Damage F.O.DClassifying: Material Missing or Incorrect positioned TC Strand\n",
      "\n",
      "Top label: Foreign Object Damage with confidence score: 0.8074832558631897Top label: Core displacement with confidence score: 0.25095024704933167\n",
      "\n"
     ]
    },
    {
     "name": "stderr",
     "output_type": "stream",
     "text": [
      "Processing on GPU 1:  30%|████████████████████████████████▏                                                                           | 285/955 [01:03<02:30,  4.45it/s]"
     ]
    },
    {
     "name": "stdout",
     "output_type": "stream",
     "text": [
      "Classifying: Surface defects Surface DefectClassifying: Delamination NDT Initial Failure\n",
      "\n",
      "Top label: Core displacement with confidence score: 0.1773044914007187\n"
     ]
    },
    {
     "name": "stderr",
     "output_type": "stream",
     "text": [
      "\r",
      "Processing on GPU 0:  30%|████████████████████████████████▏                                                                           | 285/957 [01:04<02:30,  4.48it/s]"
     ]
    },
    {
     "name": "stdout",
     "output_type": "stream",
     "text": [
      "Top label: Separation noodle joint with confidence score: 0.23277020454406738Classifying: foil-/ foreign-inclusion detected TC Strand\n",
      "\n"
     ]
    },
    {
     "name": "stderr",
     "output_type": "stream",
     "text": [
      "\r",
      "Processing on GPU 1:  30%|████████████████████████████████▎                                                                           | 286/955 [01:04<02:30,  4.43it/s]"
     ]
    },
    {
     "name": "stdout",
     "output_type": "stream",
     "text": [
      "Classifying: Autoclave Cure Not Per Procedure Cycle not per procedure\n",
      "Top label: Foreign Object Damage with confidence score: 0.28147605061531067\n"
     ]
    },
    {
     "name": "stderr",
     "output_type": "stream",
     "text": [
      "\r",
      "Processing on GPU 0:  30%|████████████████████████████████▎                                                                           | 286/957 [01:04<02:28,  4.51it/s]"
     ]
    },
    {
     "name": "stdout",
     "output_type": "stream",
     "text": [
      "Classifying: Core fill incorrect (Sandwich) Core fill incorrect (Sandwich)\n",
      "Top label: Core split with confidence score: 0.2065369337797165\n"
     ]
    },
    {
     "name": "stderr",
     "output_type": "stream",
     "text": [
      "\r",
      "Processing on GPU 1:  30%|████████████████████████████████▍                                                                           | 287/955 [01:04<02:31,  4.39it/s]"
     ]
    },
    {
     "name": "stdout",
     "output_type": "stream",
     "text": [
      "Classifying: Control Unit Failure PLC failure during cooldown\n",
      "Top label: Core deformation with confidence score: 0.33305829763412476\n"
     ]
    },
    {
     "name": "stderr",
     "output_type": "stream",
     "text": [
      "\r",
      "Processing on GPU 0:  30%|████████████████████████████████▍                                                                           | 287/957 [01:04<02:27,  4.53it/s]"
     ]
    },
    {
     "name": "stdout",
     "output_type": "stream",
     "text": [
      "Classifying: Traceability not recorded Freezing transaction not recorded on SAP\n",
      "Top label: Core displacement with confidence score: 0.2103961706161499\n"
     ]
    },
    {
     "name": "stderr",
     "output_type": "stream",
     "text": [
      "\r",
      "Processing on GPU 1:  30%|████████████████████████████████▌                                                                           | 288/955 [01:04<02:33,  4.35it/s]"
     ]
    },
    {
     "name": "stdout",
     "output_type": "stream",
     "text": [
      "Classifying: Delamination NDT Initial Failure\n",
      "Top label: Splice gap with confidence score: 0.21313144266605377\n"
     ]
    },
    {
     "name": "stderr",
     "output_type": "stream",
     "text": [
      "\r",
      "Processing on GPU 0:  30%|████████████████████████████████▌                                                                           | 288/957 [01:04<02:28,  4.51it/s]"
     ]
    },
    {
     "name": "stdout",
     "output_type": "stream",
     "text": [
      "Classifying: Material Missing or Incorrect positioned TC Strand\n",
      "Top label: Separation noodle joint with confidence score: 0.23277020454406738\n"
     ]
    },
    {
     "name": "stderr",
     "output_type": "stream",
     "text": [
      "\r",
      "Processing on GPU 1:  30%|████████████████████████████████▋                                                                           | 289/955 [01:04<02:30,  4.42it/s]"
     ]
    },
    {
     "name": "stdout",
     "output_type": "stream",
     "text": [
      "Classifying: Porosity NDT Initial Failure\n",
      "Top label: Core displacement with confidence score: 0.25095024704933167\n"
     ]
    },
    {
     "name": "stderr",
     "output_type": "stream",
     "text": [
      "\r",
      "Processing on GPU 0:  30%|████████████████████████████████▌                                                                           | 289/957 [01:04<02:29,  4.47it/s]"
     ]
    },
    {
     "name": "stdout",
     "output_type": "stream",
     "text": [
      "Classifying: Honeycomb geometry Supplier's core repair\n",
      "Top label: Separation noodle joint with confidence score: 0.3033478558063507\n"
     ]
    },
    {
     "name": "stderr",
     "output_type": "stream",
     "text": [
      "\r",
      "Processing on GPU 1:  30%|████████████████████████████████▊                                                                           | 290/955 [01:04<02:28,  4.48it/s]"
     ]
    },
    {
     "name": "stdout",
     "output_type": "stream",
     "text": [
      "Classifying: Bag Leak Vacuum leak during cycle\n",
      "Top label: Core deformation with confidence score: 0.49449920654296875Top label: Splice gap with confidence score: 0.16813203692436218\n",
      "\n"
     ]
    },
    {
     "name": "stderr",
     "output_type": "stream",
     "text": [
      "Processing on GPU 0:  30%|████████████████████████████████▋                                                                           | 290/957 [01:05<02:31,  4.41it/s]"
     ]
    },
    {
     "name": "stdout",
     "output_type": "stream",
     "text": [
      "Classifying: Disbond Disbonding within part\n",
      "Classifying: Material Missing or Incorrect positioned TC Strand\n",
      "Top label: Core displacement with confidence score: 0.228065624833107\n"
     ]
    },
    {
     "name": "stderr",
     "output_type": "stream",
     "text": [
      "\r",
      "Processing on GPU 1:  31%|█████████████████████████████████                                                                           | 292/955 [01:05<02:26,  4.52it/s]"
     ]
    },
    {
     "name": "stdout",
     "output_type": "stream",
     "text": [
      "Classifying: Core Damage, Torn Nodal Joints Surface Depression/DentTop label: Core displacement with confidence score: 0.25095024704933167\n",
      "\n"
     ]
    },
    {
     "name": "stderr",
     "output_type": "stream",
     "text": [
      "\r",
      "Processing on GPU 0:  30%|████████████████████████████████▊                                                                           | 291/957 [01:05<02:30,  4.42it/s]"
     ]
    },
    {
     "name": "stdout",
     "output_type": "stream",
     "text": [
      "Classifying: Disbonding within part Disbond Above Limit\n",
      "Top label: Core deformation with confidence score: 0.7332841157913208\n"
     ]
    },
    {
     "name": "stderr",
     "output_type": "stream",
     "text": [
      "\r",
      "Processing on GPU 1:  31%|█████████████████████████████████▏                                                                          | 293/955 [01:05<02:23,  4.60it/s]"
     ]
    },
    {
     "name": "stdout",
     "output_type": "stream",
     "text": [
      "Classifying: Gaps, Overlaps In Layup Overlaps Oversize\n",
      "Top label: Core displacement with confidence score: 0.22182521224021912\n"
     ]
    },
    {
     "name": "stderr",
     "output_type": "stream",
     "text": [
      "\r",
      "Processing on GPU 0:  31%|████████████████████████████████▉                                                                           | 292/957 [01:05<02:35,  4.29it/s]"
     ]
    },
    {
     "name": "stdout",
     "output_type": "stream",
     "text": [
      "Classifying: Material Missing or Incorrect positioned TC Strand\n",
      "Top label: Splice gap with confidence score: 0.24938717484474182\n"
     ]
    },
    {
     "name": "stderr",
     "output_type": "stream",
     "text": [
      "\r",
      "Processing on GPU 1:  31%|█████████████████████████████████▏                                                                          | 294/955 [01:05<02:23,  4.62it/s]"
     ]
    },
    {
     "name": "stdout",
     "output_type": "stream",
     "text": [
      "Classifying: Disbond Disbond\n",
      "Top label: Core displacement with confidence score: 0.25095024704933167\n"
     ]
    },
    {
     "name": "stderr",
     "output_type": "stream",
     "text": [
      "\r",
      "Processing on GPU 0:  31%|█████████████████████████████████                                                                           | 293/957 [01:05<02:34,  4.30it/s]"
     ]
    },
    {
     "name": "stdout",
     "output_type": "stream",
     "text": [
      "Classifying: Honeycomb geometry Honeycomb geometry\n",
      "Top label: Core split with confidence score: 0.2206205129623413\n"
     ]
    },
    {
     "name": "stderr",
     "output_type": "stream",
     "text": [
      "\r",
      "Processing on GPU 1:  31%|█████████████████████████████████▎                                                                          | 295/955 [01:06<02:23,  4.61it/s]"
     ]
    },
    {
     "name": "stdout",
     "output_type": "stream",
     "text": [
      "Classifying: Core Damage, Torn Nodal Joints Core Defect\n",
      "Top label: Resin buildup with confidence score: 0.2549569606781006\n"
     ]
    },
    {
     "name": "stderr",
     "output_type": "stream",
     "text": [
      "\r",
      "Processing on GPU 0:  31%|█████████████████████████████████▏                                                                          | 294/957 [01:06<02:31,  4.37it/s]"
     ]
    },
    {
     "name": "stdout",
     "output_type": "stream",
     "text": [
      "Classifying: Material Missing or Incorrect positioned TC Strand\n",
      "Top label: Core deformation with confidence score: 0.6340965628623962\n"
     ]
    },
    {
     "name": "stderr",
     "output_type": "stream",
     "text": [
      "\r",
      "Processing on GPU 1:  31%|█████████████████████████████████▍                                                                          | 296/955 [01:06<02:23,  4.59it/s]"
     ]
    },
    {
     "name": "stdout",
     "output_type": "stream",
     "text": [
      "Classifying: Unapplicated Modification FM 300 M used\n",
      "Top label: Core displacement with confidence score: 0.25095024704933167\n"
     ]
    },
    {
     "name": "stderr",
     "output_type": "stream",
     "text": [
      "\r",
      "Processing on GPU 0:  31%|█████████████████████████████████▎                                                                          | 295/957 [01:06<02:31,  4.38it/s]"
     ]
    },
    {
     "name": "stdout",
     "output_type": "stream",
     "text": [
      "Classifying: Honeycomb geometry Honeycomb geometry\n",
      "Top label: Foreign Object Damage with confidence score: 0.2089349925518036\n"
     ]
    },
    {
     "name": "stderr",
     "output_type": "stream",
     "text": [
      "\r",
      "Processing on GPU 1:  31%|█████████████████████████████████▌                                                                          | 297/955 [01:06<02:23,  4.58it/s]"
     ]
    },
    {
     "name": "stdout",
     "output_type": "stream",
     "text": [
      "Classifying: Unapplicated Modification FM 300 M used\n",
      "Top label: Resin buildup with confidence score: 0.2549569606781006\n"
     ]
    },
    {
     "name": "stderr",
     "output_type": "stream",
     "text": [
      "\r",
      "Processing on GPU 0:  31%|█████████████████████████████████▍                                                                          | 296/957 [01:06<02:30,  4.40it/s]"
     ]
    },
    {
     "name": "stdout",
     "output_type": "stream",
     "text": [
      "Classifying: Honeycomb geometry Core Sag\n",
      "Top label: Foreign Object Damage with confidence score: 0.2089349925518036\n"
     ]
    },
    {
     "name": "stderr",
     "output_type": "stream",
     "text": [
      "\r",
      "Processing on GPU 1:  31%|█████████████████████████████████▋                                                                          | 298/955 [01:06<02:23,  4.58it/s]"
     ]
    },
    {
     "name": "stdout",
     "output_type": "stream",
     "text": [
      "Classifying: Disbond g2-disbond\n",
      "Top label: Core deformation with confidence score: 0.5280296802520752\n"
     ]
    },
    {
     "name": "stderr",
     "output_type": "stream",
     "text": [
      "\r",
      "Processing on GPU 0:  31%|█████████████████████████████████▌                                                                          | 297/957 [01:06<02:30,  4.39it/s]"
     ]
    },
    {
     "name": "stdout",
     "output_type": "stream",
     "text": [
      "Classifying: Surface defects Investigation shall be done on depressio\n",
      "Top label: Core split with confidence score: 0.19318124651908875\n"
     ]
    },
    {
     "name": "stderr",
     "output_type": "stream",
     "text": [
      "\r",
      "Processing on GPU 1:  31%|█████████████████████████████████▊                                                                          | 299/955 [01:06<02:23,  4.56it/s]"
     ]
    },
    {
     "name": "stdout",
     "output_type": "stream",
     "text": [
      "Classifying: Gap Out Of Tolerance Splice deffect\n",
      "Top label: Foreign Object Damage with confidence score: 0.18033656477928162\n"
     ]
    },
    {
     "name": "stderr",
     "output_type": "stream",
     "text": [
      "\r",
      "Processing on GPU 0:  31%|█████████████████████████████████▋                                                                          | 298/957 [01:06<02:29,  4.41it/s]"
     ]
    },
    {
     "name": "stdout",
     "output_type": "stream",
     "text": [
      "Classifying: Honeycomb geometry Un-identified defect\n",
      "Top label: Splice gap with confidence score: 0.8890495896339417\n"
     ]
    },
    {
     "name": "stderr",
     "output_type": "stream",
     "text": [
      "\r",
      "Processing on GPU 1:  31%|█████████████████████████████████▉                                                                          | 300/955 [01:07<02:23,  4.57it/s]"
     ]
    },
    {
     "name": "stdout",
     "output_type": "stream",
     "text": [
      "Classifying: Porosity Porosity\n",
      "Top label: Foreign Object Damage with confidence score: 0.18426698446273804\n"
     ]
    },
    {
     "name": "stderr",
     "output_type": "stream",
     "text": [
      "\r",
      "Processing on GPU 0:  31%|█████████████████████████████████▋                                                                          | 299/957 [01:07<02:28,  4.44it/s]"
     ]
    },
    {
     "name": "stdout",
     "output_type": "stream",
     "text": [
      "Classifying: Curing Vacuum Cycle abort due to Vacuum leak\n",
      "Top label: Foreign Object Damage with confidence score: 0.25687840580940247\n"
     ]
    },
    {
     "name": "stderr",
     "output_type": "stream",
     "text": [
      "\r",
      "Processing on GPU 1:  32%|██████████████████████████████████                                                                          | 301/955 [01:07<02:21,  4.62it/s]"
     ]
    },
    {
     "name": "stdout",
     "output_type": "stream",
     "text": [
      "Classifying: Wrinkle wrinlke observed on wet lamination\n",
      "Top label: Splice gap with confidence score: 0.2011578530073166\n"
     ]
    },
    {
     "name": "stderr",
     "output_type": "stream",
     "text": [
      "\r",
      "Processing on GPU 0:  31%|█████████████████████████████████▊                                                                          | 300/957 [01:07<02:30,  4.36it/s]"
     ]
    },
    {
     "name": "stdout",
     "output_type": "stream",
     "text": [
      "Classifying: Honeycomb geometry Core defect\n",
      "Top label: Separation noodle joint with confidence score: 0.20093725621700287\n"
     ]
    },
    {
     "name": "stderr",
     "output_type": "stream",
     "text": [
      "\r",
      "Processing on GPU 1:  32%|██████████████████████████████████▏                                                                         | 302/955 [01:07<02:21,  4.61it/s]"
     ]
    },
    {
     "name": "stdout",
     "output_type": "stream",
     "text": [
      "Classifying: Vacuum Port Failure Vaccum Leak\n",
      "Top label: Core deformation with confidence score: 0.7428478598594666\n"
     ]
    },
    {
     "name": "stderr",
     "output_type": "stream",
     "text": [
      "\r",
      "Processing on GPU 0:  31%|█████████████████████████████████▉                                                                          | 301/957 [01:07<02:30,  4.37it/s]"
     ]
    },
    {
     "name": "stdout",
     "output_type": "stream",
     "text": [
      "Classifying: Curing Vacuum Vacuum Leak\n",
      "Top label: Foreign Object Damage with confidence score: 0.26441052556037903\n"
     ]
    },
    {
     "name": "stderr",
     "output_type": "stream",
     "text": [
      "\r",
      "Processing on GPU 1:  32%|██████████████████████████████████▎                                                                         | 303/955 [01:07<02:21,  4.60it/s]"
     ]
    },
    {
     "name": "stdout",
     "output_type": "stream",
     "text": [
      "Classifying: Porosity NDT Initial Failure\n",
      "Top label: Core displacement with confidence score: 0.18658626079559326\n"
     ]
    },
    {
     "name": "stderr",
     "output_type": "stream",
     "text": [
      "\r",
      "Processing on GPU 0:  32%|██████████████████████████████████                                                                          | 302/957 [01:07<02:27,  4.43it/s]"
     ]
    },
    {
     "name": "stdout",
     "output_type": "stream",
     "text": [
      "Classifying: Wrinkles Wrinkles\n",
      "Top label: Separation noodle joint with confidence score: 0.3033478558063507\n"
     ]
    },
    {
     "name": "stderr",
     "output_type": "stream",
     "text": [
      "\r",
      "Processing on GPU 1:  32%|██████████████████████████████████▍                                                                         | 304/955 [01:08<02:22,  4.57it/s]"
     ]
    },
    {
     "name": "stdout",
     "output_type": "stream",
     "text": [
      "Classifying: Delamination NDT Initial Failure\n",
      "Top label: Resin buildup with confidence score: 0.1902356743812561\n"
     ]
    },
    {
     "name": "stderr",
     "output_type": "stream",
     "text": [
      "\r",
      "Processing on GPU 0:  32%|██████████████████████████████████▏                                                                         | 303/957 [01:08<02:27,  4.44it/s]"
     ]
    },
    {
     "name": "stdout",
     "output_type": "stream",
     "text": [
      "Classifying: Honeycomb geometry NDT Initial Failure Core defect\n",
      "Top label: Separation noodle joint with confidence score: 0.23277020454406738\n"
     ]
    },
    {
     "name": "stderr",
     "output_type": "stream",
     "text": [
      "\r",
      "Processing on GPU 1:  32%|██████████████████████████████████▍                                                                         | 305/955 [01:08<02:21,  4.58it/s]"
     ]
    },
    {
     "name": "stdout",
     "output_type": "stream",
     "text": [
      "Classifying: Core Damage, Torn Nodal Joints Core crack\n",
      "Top label: Core deformation with confidence score: 0.8405531048774719\n"
     ]
    },
    {
     "name": "stderr",
     "output_type": "stream",
     "text": [
      "\r",
      "Processing on GPU 0:  32%|██████████████████████████████████▎                                                                         | 304/957 [01:08<02:27,  4.43it/s]"
     ]
    },
    {
     "name": "stdout",
     "output_type": "stream",
     "text": [
      "Classifying: Honeycomb geometry 2 cells of core was damage\n",
      "Top label: Core deformation with confidence score: 0.5574743747711182\n"
     ]
    },
    {
     "name": "stderr",
     "output_type": "stream",
     "text": [
      "\r",
      "Processing on GPU 1:  32%|██████████████████████████████████▌                                                                         | 306/955 [01:08<02:22,  4.55it/s]"
     ]
    },
    {
     "name": "stdout",
     "output_type": "stream",
     "text": [
      "Classifying: Porosity volumetric porosity above accept limit\n",
      "Top label: Core deformation with confidence score: 0.4645727574825287\n"
     ]
    },
    {
     "name": "stderr",
     "output_type": "stream",
     "text": [
      "\r",
      "Processing on GPU 0:  32%|██████████████████████████████████▍                                                                         | 305/957 [01:08<02:25,  4.47it/s]"
     ]
    },
    {
     "name": "stdout",
     "output_type": "stream",
     "text": [
      "Classifying: Honeycomb geometry NDT Initial Failure\n",
      "Top label: Core displacement with confidence score: 0.1743021011352539\n"
     ]
    },
    {
     "name": "stderr",
     "output_type": "stream",
     "text": [
      "\r",
      "Processing on GPU 1:  32%|██████████████████████████████████▋                                                                         | 307/955 [01:08<02:22,  4.56it/s]"
     ]
    },
    {
     "name": "stdout",
     "output_type": "stream",
     "text": [
      "Classifying: Porosity Porosity\n",
      "Top label: Foreign Object Damage with confidence score: 0.216615229845047\n"
     ]
    },
    {
     "name": "stderr",
     "output_type": "stream",
     "text": [
      "\r",
      "Processing on GPU 0:  32%|██████████████████████████████████▌                                                                         | 306/957 [01:08<02:25,  4.47it/s]"
     ]
    },
    {
     "name": "stdout",
     "output_type": "stream",
     "text": [
      "Classifying: Wrinkles Wrinkles on lowerskin\n",
      "Top label: Foreign Object Damage with confidence score: 0.25687840580940247\n"
     ]
    },
    {
     "name": "stderr",
     "output_type": "stream",
     "text": [
      "\r",
      "Processing on GPU 1:  32%|██████████████████████████████████▊                                                                         | 308/955 [01:08<02:22,  4.54it/s]"
     ]
    },
    {
     "name": "stdout",
     "output_type": "stream",
     "text": [
      "Classifying: Splice Defect surface defect\n",
      "Top label: Separation noodle joint with confidence score: 0.2281724512577057\n"
     ]
    },
    {
     "name": "stderr",
     "output_type": "stream",
     "text": [
      "\r",
      "Processing on GPU 0:  32%|██████████████████████████████████▋                                                                         | 307/957 [01:09<02:26,  4.42it/s]"
     ]
    },
    {
     "name": "stdout",
     "output_type": "stream",
     "text": [
      "Classifying: Honeycomb geometry NDT Second Failure\n",
      "Top label: Splice gap with confidence score: 0.7397124767303467\n"
     ]
    },
    {
     "name": "stderr",
     "output_type": "stream",
     "text": [
      "\r",
      "Processing on GPU 1:  32%|██████████████████████████████████▉                                                                         | 309/955 [01:09<02:21,  4.55it/s]"
     ]
    },
    {
     "name": "stdout",
     "output_type": "stream",
     "text": [
      "Classifying: Porosity VOLUMETRIC POROSITY BEYOND ACC. LIMIT\n",
      "Top label: Foreign Object Damage with confidence score: 0.21749457716941833\n"
     ]
    },
    {
     "name": "stderr",
     "output_type": "stream",
     "text": [
      "\r",
      "Processing on GPU 0:  32%|██████████████████████████████████▊                                                                         | 308/957 [01:09<02:26,  4.43it/s]"
     ]
    },
    {
     "name": "stdout",
     "output_type": "stream",
     "text": [
      "Classifying: Mechanical Trimming / Contour milling chamfering out of tolerance\n",
      "Top label: Core displacement with confidence score: 0.20531266927719116\n"
     ]
    },
    {
     "name": "stderr",
     "output_type": "stream",
     "text": [
      "\r",
      "Processing on GPU 1:  32%|███████████████████████████████████                                                                         | 310/955 [01:09<02:20,  4.59it/s]"
     ]
    },
    {
     "name": "stdout",
     "output_type": "stream",
     "text": [
      "Classifying: Imprint on Surface Dent core dent\n",
      "Top label: Splice gap with confidence score: 0.2795543968677521\n"
     ]
    },
    {
     "name": "stderr",
     "output_type": "stream",
     "text": [
      "\r",
      "Processing on GPU 0:  32%|██████████████████████████████████▊                                                                         | 309/957 [01:09<02:27,  4.38it/s]"
     ]
    },
    {
     "name": "stdout",
     "output_type": "stream",
     "text": [
      "Classifying: foil-/ foreign-inclusion detected NDT Initial Failure\n",
      "Top label: Core deformation with confidence score: 0.6221156716346741\n"
     ]
    },
    {
     "name": "stderr",
     "output_type": "stream",
     "text": [
      "\r",
      "Processing on GPU 1:  33%|███████████████████████████████████▏                                                                        | 311/955 [01:09<02:21,  4.55it/s]"
     ]
    },
    {
     "name": "stdout",
     "output_type": "stream",
     "text": [
      "Classifying: Autoclave Cure Not Per Procedure Cycle not per procedure\n",
      "Top label: Foreign Object Damage with confidence score: 0.3177533447742462\n"
     ]
    },
    {
     "name": "stderr",
     "output_type": "stream",
     "text": [
      "\r",
      "Processing on GPU 0:  32%|██████████████████████████████████▉                                                                         | 310/957 [01:09<02:25,  4.45it/s]"
     ]
    },
    {
     "name": "stdout",
     "output_type": "stream",
     "text": [
      "Classifying: Honeycomb geometry Honeycomb geometry\n",
      "Top label: Core split with confidence score: 0.2065369337797165\n"
     ]
    },
    {
     "name": "stderr",
     "output_type": "stream",
     "text": [
      "\r",
      "Processing on GPU 1:  33%|███████████████████████████████████▎                                                                        | 312/955 [01:09<02:21,  4.53it/s]"
     ]
    },
    {
     "name": "stdout",
     "output_type": "stream",
     "text": [
      "Classifying: Dwell Too Long Dwell too long\n",
      "Top label: Resin buildup with confidence score: 0.2549569606781006\n"
     ]
    },
    {
     "name": "stderr",
     "output_type": "stream",
     "text": [
      "\r",
      "Processing on GPU 0:  32%|███████████████████████████████████                                                                         | 311/957 [01:09<02:25,  4.44it/s]"
     ]
    },
    {
     "name": "stdout",
     "output_type": "stream",
     "text": [
      "Classifying: Flute in laminate Missing splice line intermittently\n",
      "Top label: Core deformation with confidence score: 0.17797939479351044\n"
     ]
    },
    {
     "name": "stderr",
     "output_type": "stream",
     "text": [
      "\r",
      "Processing on GPU 1:  33%|███████████████████████████████████▍                                                                        | 313/955 [01:10<02:20,  4.55it/s]"
     ]
    },
    {
     "name": "stdout",
     "output_type": "stream",
     "text": [
      "Classifying: Delamination nan\n",
      "Top label: Splice gap with confidence score: 0.5448232889175415\n"
     ]
    },
    {
     "name": "stderr",
     "output_type": "stream",
     "text": [
      "\r",
      "Processing on GPU 0:  33%|███████████████████████████████████▏                                                                        | 312/957 [01:10<02:25,  4.44it/s]"
     ]
    },
    {
     "name": "stdout",
     "output_type": "stream",
     "text": [
      "Classifying: Core fill incorrect (Sandwich) Potting inadequate\n",
      "Top label: Separation noodle joint with confidence score: 0.30506935715675354\n"
     ]
    },
    {
     "name": "stderr",
     "output_type": "stream",
     "text": [
      "\r",
      "Processing on GPU 1:  33%|███████████████████████████████████▌                                                                        | 314/955 [01:10<02:22,  4.50it/s]"
     ]
    },
    {
     "name": "stdout",
     "output_type": "stream",
     "text": [
      "Classifying: Shelf Life Expired Shelf life expired before cure\n",
      "Top label: Core deformation with confidence score: 0.37986916303634644\n"
     ]
    },
    {
     "name": "stderr",
     "output_type": "stream",
     "text": [
      "\r",
      "Processing on GPU 0:  33%|███████████████████████████████████▎                                                                        | 313/957 [01:10<02:23,  4.47it/s]"
     ]
    },
    {
     "name": "stdout",
     "output_type": "stream",
     "text": [
      "Classifying: Completeness For Traceability Purposes\n",
      "Top label: Splice gap with confidence score: 0.1399684101343155\n"
     ]
    },
    {
     "name": "stderr",
     "output_type": "stream",
     "text": [
      "\r",
      "Processing on GPU 1:  33%|███████████████████████████████████▌                                                                        | 315/955 [01:10<02:21,  4.52it/s]"
     ]
    },
    {
     "name": "stdout",
     "output_type": "stream",
     "text": [
      "Classifying: Gaps, Overlaps In Layup overlap oversize\n",
      "Top label: Core split with confidence score: 0.18106773495674133\n"
     ]
    },
    {
     "name": "stderr",
     "output_type": "stream",
     "text": [
      "\r",
      "Processing on GPU 0:  33%|███████████████████████████████████▍                                                                        | 314/957 [01:10<02:23,  4.49it/s]"
     ]
    },
    {
     "name": "stdout",
     "output_type": "stream",
     "text": [
      "Classifying: Core fill incorrect (Sandwich) Core fill incorrect (Sandwich)\n",
      "Top label: Splice gap with confidence score: 0.29560336470603943\n"
     ]
    },
    {
     "name": "stderr",
     "output_type": "stream",
     "text": [
      "\r",
      "Processing on GPU 1:  33%|███████████████████████████████████▋                                                                        | 316/955 [01:10<02:21,  4.50it/s]"
     ]
    },
    {
     "name": "stdout",
     "output_type": "stream",
     "text": [
      "Classifying: Gaps, Overlaps In Layup Delamination on the contour\n",
      "Top label: Core deformation with confidence score: 0.33305829763412476\n"
     ]
    },
    {
     "name": "stderr",
     "output_type": "stream",
     "text": [
      "\r",
      "Processing on GPU 0:  33%|███████████████████████████████████▌                                                                        | 315/957 [01:10<02:22,  4.49it/s]"
     ]
    },
    {
     "name": "stdout",
     "output_type": "stream",
     "text": [
      "Classifying: Material Missing or Incorrect positioned TC Strand\n",
      "Top label: Splice gap with confidence score: 0.19292552769184113\n"
     ]
    },
    {
     "name": "stderr",
     "output_type": "stream",
     "text": [
      "\r",
      "Processing on GPU 1:  33%|███████████████████████████████████▊                                                                        | 317/955 [01:10<02:22,  4.49it/s]"
     ]
    },
    {
     "name": "stdout",
     "output_type": "stream",
     "text": [
      "Classifying: Imprint on Surface Dent Surface Depressions\n",
      "Top label: Core displacement with confidence score: 0.25095024704933167\n"
     ]
    },
    {
     "name": "stderr",
     "output_type": "stream",
     "text": [
      "\r",
      "Processing on GPU 0:  33%|███████████████████████████████████▋                                                                        | 316/957 [01:11<02:24,  4.45it/s]"
     ]
    },
    {
     "name": "stdout",
     "output_type": "stream",
     "text": [
      "Classifying: Completeness For Traceability Purposes\n",
      "Top label: Separation noodle joint with confidence score: 0.15572044253349304\n"
     ]
    },
    {
     "name": "stderr",
     "output_type": "stream",
     "text": [
      "\r",
      "Processing on GPU 1:  33%|███████████████████████████████████▉                                                                        | 318/955 [01:11<02:21,  4.51it/s]"
     ]
    },
    {
     "name": "stdout",
     "output_type": "stream",
     "text": [
      "Classifying: Unapplicated Modification FM 300 M used\n",
      "Top label: Core split with confidence score: 0.18106773495674133\n"
     ]
    },
    {
     "name": "stderr",
     "output_type": "stream",
     "text": [
      "\r",
      "Processing on GPU 0:  33%|███████████████████████████████████▊                                                                        | 317/957 [01:11<02:23,  4.45it/s]"
     ]
    },
    {
     "name": "stdout",
     "output_type": "stream",
     "text": [
      "Classifying: Material Missing or Incorrect positioned TC Strand\n",
      "Top label: Foreign Object Damage with confidence score: 0.2089349925518036\n"
     ]
    },
    {
     "name": "stderr",
     "output_type": "stream",
     "text": [
      "\r",
      "Processing on GPU 1:  33%|████████████████████████████████████                                                                        | 319/955 [01:11<02:19,  4.57it/s]"
     ]
    },
    {
     "name": "stdout",
     "output_type": "stream",
     "text": [
      "Classifying: Porosity VOLUMETRIC POROSITY BEYOND ACC. LIMIT\n",
      "Top label: Core displacement with confidence score: 0.25095024704933167\n"
     ]
    },
    {
     "name": "stderr",
     "output_type": "stream",
     "text": [
      "\r",
      "Processing on GPU 0:  33%|███████████████████████████████████▉                                                                        | 318/957 [01:11<02:24,  4.43it/s]"
     ]
    },
    {
     "name": "stdout",
     "output_type": "stream",
     "text": [
      "Classifying: Curing Vacuum vacuum leak due to Torr bag damage\n",
      "Top label: Core displacement with confidence score: 0.20531266927719116\n"
     ]
    },
    {
     "name": "stderr",
     "output_type": "stream",
     "text": [
      "\r",
      "Processing on GPU 1:  34%|████████████████████████████████████▏                                                                       | 320/955 [01:11<02:21,  4.49it/s]"
     ]
    },
    {
     "name": "stdout",
     "output_type": "stream",
     "text": [
      "Classifying: Bag Leak Vacuum leak during cycle\n",
      "Top label: Foreign Object Damage with confidence score: 0.17658817768096924\n"
     ]
    },
    {
     "name": "stderr",
     "output_type": "stream",
     "text": [
      "\r",
      "Processing on GPU 0:  33%|████████████████████████████████████                                                                        | 319/957 [01:11<02:22,  4.49it/s]"
     ]
    },
    {
     "name": "stdout",
     "output_type": "stream",
     "text": [
      "Classifying: Completeness   For Traceability Purposes\n",
      "Top label: Splice gap with confidence score: 0.16813203692436218\n"
     ]
    },
    {
     "name": "stderr",
     "output_type": "stream",
     "text": [
      "\r",
      "Processing on GPU 1:  34%|████████████████████████████████████▎                                                                       | 321/955 [01:11<02:21,  4.48it/s]"
     ]
    },
    {
     "name": "stdout",
     "output_type": "stream",
     "text": [
      "Classifying: Gaps, Overlaps In Layup Overlap Oversize\n",
      "Top label: Core split with confidence score: 0.19189223647117615\n"
     ]
    },
    {
     "name": "stderr",
     "output_type": "stream",
     "text": [
      "\r",
      "Processing on GPU 0:  33%|████████████████████████████████████                                                                        | 320/957 [01:11<02:22,  4.47it/s]"
     ]
    },
    {
     "name": "stdout",
     "output_type": "stream",
     "text": [
      "Classifying: Completeness   For Traceability Purposes\n",
      "Top label: Splice gap with confidence score: 0.2813437283039093\n"
     ]
    },
    {
     "name": "stderr",
     "output_type": "stream",
     "text": [
      "\r",
      "Processing on GPU 1:  34%|████████████████████████████████████▍                                                                       | 322/955 [01:12<02:20,  4.50it/s]"
     ]
    },
    {
     "name": "stdout",
     "output_type": "stream",
     "text": [
      "Classifying: Disbond Disbond\n",
      "Top label: Core split with confidence score: 0.19189223647117615\n"
     ]
    },
    {
     "name": "stderr",
     "output_type": "stream",
     "text": [
      "\r",
      "Processing on GPU 0:  34%|████████████████████████████████████▏                                                                       | 321/957 [01:12<02:23,  4.43it/s]"
     ]
    },
    {
     "name": "stdout",
     "output_type": "stream",
     "text": [
      "Top label: Core split with confidence score: 0.2206205129623413Classifying: Completeness   For Traceability Purposes\n",
      "\n"
     ]
    },
    {
     "name": "stderr",
     "output_type": "stream",
     "text": [
      "\r",
      "Processing on GPU 1:  34%|████████████████████████████████████▌                                                                       | 323/955 [01:12<02:17,  4.59it/s]"
     ]
    },
    {
     "name": "stdout",
     "output_type": "stream",
     "text": [
      "Classifying: Autoclave Cure Not Per Procedure Cycle not per procedure\n",
      "Top label: Core split with confidence score: 0.19189223647117615\n"
     ]
    },
    {
     "name": "stderr",
     "output_type": "stream",
     "text": [
      "\r",
      "Processing on GPU 0:  34%|████████████████████████████████████▎                                                                       | 322/957 [01:12<02:24,  4.40it/s]"
     ]
    },
    {
     "name": "stdout",
     "output_type": "stream",
     "text": [
      "Top label: Core split with confidence score: 0.2065369337797165Classifying: Completeness   For Traceability Purposes\n",
      "\n"
     ]
    },
    {
     "name": "stderr",
     "output_type": "stream",
     "text": [
      "\r",
      "Processing on GPU 1:  34%|████████████████████████████████████▋                                                                       | 324/955 [01:12<02:18,  4.54it/s]"
     ]
    },
    {
     "name": "stdout",
     "output_type": "stream",
     "text": [
      "Classifying: Disbond Disbond\n",
      "Top label: Core split with confidence score: 0.19189223647117615\n"
     ]
    },
    {
     "name": "stderr",
     "output_type": "stream",
     "text": [
      "\r",
      "Processing on GPU 0:  34%|████████████████████████████████████▍                                                                       | 323/957 [01:12<02:22,  4.43it/s]"
     ]
    },
    {
     "name": "stdout",
     "output_type": "stream",
     "text": [
      "Classifying: Completeness   For Traceability Purposes\n",
      "Top label: Core split with confidence score: 0.2206205129623413\n"
     ]
    },
    {
     "name": "stderr",
     "output_type": "stream",
     "text": [
      "\r",
      "Processing on GPU 1:  34%|████████████████████████████████████▊                                                                       | 325/955 [01:12<02:20,  4.48it/s]"
     ]
    },
    {
     "name": "stdout",
     "output_type": "stream",
     "text": [
      "Classifying: Dents Over Splice Lines Dent over splice line\n",
      "Top label: Core split with confidence score: 0.19189223647117615\n"
     ]
    },
    {
     "name": "stderr",
     "output_type": "stream",
     "text": [
      "\r",
      "Processing on GPU 0:  34%|████████████████████████████████████▌                                                                       | 324/957 [01:12<02:22,  4.46it/s]"
     ]
    },
    {
     "name": "stdout",
     "output_type": "stream",
     "text": [
      "Classifying: Completeness   For Traceability Purposes\n",
      "Top label: Splice gap with confidence score: 0.3017521798610687\n"
     ]
    },
    {
     "name": "stderr",
     "output_type": "stream",
     "text": [
      "\r",
      "Processing on GPU 1:  34%|████████████████████████████████████▊                                                                       | 326/955 [01:12<02:19,  4.50it/s]"
     ]
    },
    {
     "name": "stdout",
     "output_type": "stream",
     "text": [
      "Classifying: Over Sanded Material Missing or Incorrect positioned\n",
      "Top label: Core split with confidence score: 0.19189223647117615\n"
     ]
    },
    {
     "name": "stderr",
     "output_type": "stream",
     "text": [
      "\r",
      "Processing on GPU 0:  34%|████████████████████████████████████▋                                                                       | 325/957 [01:13<02:22,  4.44it/s]"
     ]
    },
    {
     "name": "stdout",
     "output_type": "stream",
     "text": [
      "Classifying: Core fill incorrect (Sandwich) Core fill incorrect (Sandwich)\n",
      "Top label: Foreign Object Damage with confidence score: 0.1685580015182495\n"
     ]
    },
    {
     "name": "stderr",
     "output_type": "stream",
     "text": [
      "\r",
      "Processing on GPU 1:  34%|████████████████████████████████████▉                                                                       | 327/955 [01:13<02:19,  4.51it/s]"
     ]
    },
    {
     "name": "stdout",
     "output_type": "stream",
     "text": [
      "Classifying: Shelf Life Expired Shelf life expired before curing\n",
      "Top label: Core deformation with confidence score: 0.33305829763412476\n"
     ]
    },
    {
     "name": "stderr",
     "output_type": "stream",
     "text": [
      "\r",
      "Processing on GPU 0:  34%|████████████████████████████████████▊                                                                       | 326/957 [01:13<02:21,  4.45it/s]"
     ]
    },
    {
     "name": "stdout",
     "output_type": "stream",
     "text": [
      "Classifying: Surface defects Depression on splice lineTop label: Separation noodle joint with confidence score: 0.15353600680828094\n",
      "\n"
     ]
    },
    {
     "name": "stderr",
     "output_type": "stream",
     "text": [
      "\r",
      "Processing on GPU 1:  34%|█████████████████████████████████████                                                                       | 328/955 [01:13<02:18,  4.52it/s]"
     ]
    },
    {
     "name": "stdout",
     "output_type": "stream",
     "text": [
      "Classifying: Core Crush Core dent,\n",
      "Top label: Splice gap with confidence score: 0.37667930126190186\n"
     ]
    },
    {
     "name": "stderr",
     "output_type": "stream",
     "text": [
      "\r",
      "Processing on GPU 0:  34%|████████████████████████████████████▉                                                                       | 327/957 [01:13<02:20,  4.48it/s]"
     ]
    },
    {
     "name": "stdout",
     "output_type": "stream",
     "text": [
      "Classifying: Expired Material Material Expired before cure\n",
      "Top label: Core crash with confidence score: 0.3309307098388672\n"
     ]
    },
    {
     "name": "stderr",
     "output_type": "stream",
     "text": [
      "\r",
      "Processing on GPU 1:  34%|█████████████████████████████████████▏                                                                      | 329/955 [01:13<02:18,  4.50it/s]"
     ]
    },
    {
     "name": "stdout",
     "output_type": "stream",
     "text": [
      "Classifying: Shelf Life Expired Shelf life expired before curing\n",
      "Top label: Splice gap with confidence score: 0.1510591208934784\n"
     ]
    },
    {
     "name": "stderr",
     "output_type": "stream",
     "text": [
      "\r",
      "Processing on GPU 0:  34%|█████████████████████████████████████                                                                       | 328/957 [01:13<02:19,  4.49it/s]"
     ]
    },
    {
     "name": "stdout",
     "output_type": "stream",
     "text": [
      "Classifying: Expired Material Material Expired before cureTop label: Separation noodle joint with confidence score: 0.15353600680828094\n",
      "\n"
     ]
    },
    {
     "name": "stderr",
     "output_type": "stream",
     "text": [
      "\r",
      "Processing on GPU 1:  35%|█████████████████████████████████████▎                                                                      | 330/955 [01:13<02:18,  4.52it/s]"
     ]
    },
    {
     "name": "stdout",
     "output_type": "stream",
     "text": [
      "Classifying: Core Damage, Torn Nodal Joints Core crack\n",
      "Top label: Splice gap with confidence score: 0.1510591208934784Top label: Core deformation with confidence score: 0.5574743747711182\n"
     ]
    },
    {
     "name": "stderr",
     "output_type": "stream",
     "text": [
      "\r",
      "Processing on GPU 0:  34%|█████████████████████████████████████▏                                                                      | 329/957 [01:13<02:20,  4.47it/s]"
     ]
    },
    {
     "name": "stdout",
     "output_type": "stream",
     "text": [
      "\n"
     ]
    },
    {
     "name": "stderr",
     "output_type": "stream",
     "text": [
      "\r",
      "Processing on GPU 1:  35%|█████████████████████████████████████▍                                                                      | 331/955 [01:14<02:18,  4.51it/s]"
     ]
    },
    {
     "name": "stdout",
     "output_type": "stream",
     "text": [
      "Classifying: Alternative raw material Alternative Grit strip usedClassifying: Delamination Delamination\n",
      "\n",
      "Top label: Resin buildup with confidence score: 0.31590619683265686Top label: Resin buildup with confidence score: 0.28864264488220215\n",
      "\n"
     ]
    },
    {
     "name": "stderr",
     "output_type": "stream",
     "text": [
      "\r",
      "Processing on GPU 1:  35%|█████████████████████████████████████▌                                                                      | 332/955 [01:14<02:18,  4.51it/s]"
     ]
    },
    {
     "name": "stdout",
     "output_type": "stream",
     "text": [
      "Classifying: Disbond Disbond"
     ]
    },
    {
     "name": "stderr",
     "output_type": "stream",
     "text": [
      "\r",
      "Processing on GPU 0:  34%|█████████████████████████████████████▏                                                                      | 330/957 [01:14<02:20,  4.47it/s]"
     ]
    },
    {
     "name": "stdout",
     "output_type": "stream",
     "text": [
      "Classifying: Alternative raw material Alternative Grit strip used\n",
      "\n",
      "Top label: Core split with confidence score: 0.2206205129623413\n",
      "Top label: Resin buildup with confidence score: 0.31590619683265686\n"
     ]
    },
    {
     "name": "stderr",
     "output_type": "stream",
     "text": [
      "Processing on GPU 0:  35%|█████████████████████████████████████▎                                                                      | 331/957 [01:14<02:20,  4.47it/s]"
     ]
    },
    {
     "name": "stdout",
     "output_type": "stream",
     "text": [
      "Classifying: Disbond nanClassifying: Surface defects see long text\n",
      "\n",
      "Top label: Separation noodle joint with confidence score: 0.42728883028030396Top label: Splice gap with confidence score: 0.21179227530956268\n",
      "\n"
     ]
    },
    {
     "name": "stderr",
     "output_type": "stream",
     "text": [
      "Processing on GPU 0:  35%|█████████████████████████████████████▍                                                                      | 332/957 [01:14<02:19,  4.48it/s]"
     ]
    },
    {
     "name": "stdout",
     "output_type": "stream",
     "text": [
      "Classifying: Unapplicated Modification FM 300 M usedClassifying: Honeycomb geometry Unindentify Ultrasonic Indication\n",
      "\n",
      "Top label: Foreign Object Damage with confidence score: 0.2089349925518036\n"
     ]
    },
    {
     "name": "stderr",
     "output_type": "stream",
     "text": [
      "\r",
      "Processing on GPU 1:  35%|█████████████████████████████████████▉                                                                      | 335/955 [01:14<02:17,  4.50it/s]"
     ]
    },
    {
     "name": "stdout",
     "output_type": "stream",
     "text": [
      "Top label: Core displacement with confidence score: 0.17091450095176697Classifying: Imprint on Surface Dent Core Dent\n",
      "\n"
     ]
    },
    {
     "name": "stderr",
     "output_type": "stream",
     "text": [
      "\r",
      "Processing on GPU 0:  35%|█████████████████████████████████████▌                                                                      | 333/957 [01:14<02:19,  4.47it/s]"
     ]
    },
    {
     "name": "stdout",
     "output_type": "stream",
     "text": [
      "Classifying: Delamination Composite Manufacturing Delamination\n",
      "Top label: Core deformation with confidence score: 0.4703635573387146\n"
     ]
    },
    {
     "name": "stderr",
     "output_type": "stream",
     "text": [
      "\r",
      "Processing on GPU 1:  35%|█████████████████████████████████████▉                                                                      | 336/955 [01:15<02:17,  4.49it/s]"
     ]
    },
    {
     "name": "stdout",
     "output_type": "stream",
     "text": [
      "Top label: Resin buildup with confidence score: 0.21785829961299896Classifying: Disbond Disbond\n",
      "\n"
     ]
    },
    {
     "name": "stderr",
     "output_type": "stream",
     "text": [
      "\r",
      "Processing on GPU 0:  35%|█████████████████████████████████████▋                                                                      | 334/957 [01:15<02:19,  4.47it/s]"
     ]
    },
    {
     "name": "stdout",
     "output_type": "stream",
     "text": [
      "Classifying: Surface defects hump noticed above flat surface and fitc\n",
      "Top label: Core split with confidence score: 0.2206205129623413\n"
     ]
    },
    {
     "name": "stderr",
     "output_type": "stream",
     "text": [
      "\r",
      "Processing on GPU 1:  35%|██████████████████████████████████████                                                                      | 337/955 [01:15<02:17,  4.50it/s]"
     ]
    },
    {
     "name": "stdout",
     "output_type": "stream",
     "text": [
      "Classifying: Splice Defect Splice defectTop label: Core deformation with confidence score: 0.1861950308084488\n",
      "\n"
     ]
    },
    {
     "name": "stderr",
     "output_type": "stream",
     "text": [
      "\r",
      "Processing on GPU 0:  35%|█████████████████████████████████████▊                                                                      | 335/957 [01:15<02:18,  4.48it/s]"
     ]
    },
    {
     "name": "stdout",
     "output_type": "stream",
     "text": [
      "Classifying: Volume Porosity Volumetric porosity\n",
      "Top label: Splice gap with confidence score: 0.49574118852615356Top label: Resin buildup with confidence score: 0.17078925669193268\n",
      "\n"
     ]
    },
    {
     "name": "stderr",
     "output_type": "stream",
     "text": [
      "Processing on GPU 0:  35%|█████████████████████████████████████▉                                                                      | 336/957 [01:15<02:18,  4.49it/s]"
     ]
    },
    {
     "name": "stdout",
     "output_type": "stream",
     "text": [
      "Classifying: Splice Defect Core Splice DefectClassifying: Surface defects hump noticed above flat surface and fitc\n",
      "\n",
      "Top label: Core split with confidence score: 0.45720699429512024\n",
      "Top label: Core deformation with confidence score: 0.1861950308084488"
     ]
    },
    {
     "name": "stderr",
     "output_type": "stream",
     "text": [
      "\r",
      "Processing on GPU 1:  35%|██████████████████████████████████████▎                                                                     | 339/955 [01:15<02:17,  4.49it/s]"
     ]
    },
    {
     "name": "stdout",
     "output_type": "stream",
     "text": [
      "\n",
      "Classifying: Gaps, Overlaps In Layup  overlap undersize"
     ]
    },
    {
     "name": "stderr",
     "output_type": "stream",
     "text": [
      "\r",
      "Processing on GPU 0:  35%|██████████████████████████████████████                                                                      | 337/957 [01:15<02:17,  4.49it/s]"
     ]
    },
    {
     "name": "stdout",
     "output_type": "stream",
     "text": [
      "\n",
      "Classifying: Core fill incorrect (Sandwich) nan\n",
      "Top label: Splice gap with confidence score: 0.22785688936710358Top label: Core deformation with confidence score: 0.32699280977249146\n",
      "\n"
     ]
    },
    {
     "name": "stderr",
     "output_type": "stream",
     "text": [
      "Processing on GPU 1:  36%|██████████████████████████████████████▍                                                                     | 340/955 [01:16<02:17,  4.48it/s]"
     ]
    },
    {
     "name": "stdout",
     "output_type": "stream",
     "text": [
      "Classifying: Delamination Composite Manufacturing NDT Initial FailureClassifying: Imprint on Surface Dent nan\n",
      "\n",
      "Top label: Resin buildup with confidence score: 0.3112137019634247\n"
     ]
    },
    {
     "name": "stderr",
     "output_type": "stream",
     "text": [
      "\r",
      "Processing on GPU 0:  35%|██████████████████████████████████████▎                                                                     | 339/957 [01:16<02:17,  4.50it/s]"
     ]
    },
    {
     "name": "stdout",
     "output_type": "stream",
     "text": [
      "Classifying: Surface defects Surface waviness\n",
      "Top label: Foreign Object Damage with confidence score: 0.21016375720500946\n"
     ]
    },
    {
     "name": "stderr",
     "output_type": "stream",
     "text": [
      "\r",
      "Processing on GPU 1:  36%|██████████████████████████████████████▌                                                                     | 341/955 [01:16<02:17,  4.45it/s]"
     ]
    },
    {
     "name": "stdout",
     "output_type": "stream",
     "text": [
      "Classifying: Disbond Disbond\n",
      "Top label: Separation noodle joint with confidence score: 0.1674334704875946\n"
     ]
    },
    {
     "name": "stderr",
     "output_type": "stream",
     "text": [
      "\r",
      "Processing on GPU 0:  36%|██████████████████████████████████████▎                                                                     | 340/957 [01:16<02:16,  4.51it/s]"
     ]
    },
    {
     "name": "stdout",
     "output_type": "stream",
     "text": [
      "Classifying: Wrinkles Wrinkles\n",
      "Top label: Core split with confidence score: 0.2206205129623413\n"
     ]
    },
    {
     "name": "stderr",
     "output_type": "stream",
     "text": [
      "\r",
      "Processing on GPU 1:  36%|██████████████████████████████████████▋                                                                     | 342/955 [01:16<02:18,  4.43it/s]"
     ]
    },
    {
     "name": "stdout",
     "output_type": "stream",
     "text": [
      "Classifying: Dents Over Splice Lines Dent over splice line\n",
      "Top label: Resin buildup with confidence score: 0.1902356743812561\n"
     ]
    },
    {
     "name": "stderr",
     "output_type": "stream",
     "text": [
      "\r",
      "Processing on GPU 0:  36%|██████████████████████████████████████▍                                                                     | 341/957 [01:16<02:14,  4.58it/s]"
     ]
    },
    {
     "name": "stdout",
     "output_type": "stream",
     "text": [
      "Classifying: Expired Material Mat expired before curing\n",
      "Top label: Splice gap with confidence score: 0.3017521798610687\n"
     ]
    },
    {
     "name": "stderr",
     "output_type": "stream",
     "text": [
      "\r",
      "Processing on GPU 1:  36%|██████████████████████████████████████▊                                                                     | 343/955 [01:16<02:19,  4.40it/s]"
     ]
    },
    {
     "name": "stdout",
     "output_type": "stream",
     "text": [
      "Classifying: Imprint on Surface Dent Core Dent\n",
      "Top label: Foreign Object Damage with confidence score: 0.1697043776512146\n"
     ]
    },
    {
     "name": "stderr",
     "output_type": "stream",
     "text": [
      "\r",
      "Processing on GPU 0:  36%|██████████████████████████████████████▌                                                                     | 342/957 [01:16<02:14,  4.57it/s]"
     ]
    },
    {
     "name": "stdout",
     "output_type": "stream",
     "text": [
      "Classifying: Delamination Composite Manufacturing NDT Initial Failure\n",
      "Top label: Core deformation with confidence score: 0.4703635573387146\n"
     ]
    },
    {
     "name": "stderr",
     "output_type": "stream",
     "text": [
      "\r",
      "Processing on GPU 1:  36%|██████████████████████████████████████▉                                                                     | 344/955 [01:16<02:17,  4.43it/s]"
     ]
    },
    {
     "name": "stdout",
     "output_type": "stream",
     "text": [
      "Classifying: Imprint on Surface Dent Core Dent\n",
      "Top label: Resin buildup with confidence score: 0.3112137019634247\n"
     ]
    },
    {
     "name": "stderr",
     "output_type": "stream",
     "text": [
      "\r",
      "Processing on GPU 0:  36%|██████████████████████████████████████▋                                                                     | 343/957 [01:17<02:14,  4.57it/s]"
     ]
    },
    {
     "name": "stdout",
     "output_type": "stream",
     "text": [
      "Classifying: Surface defects Dent over splice line from Tooside\n",
      "Top label: Core deformation with confidence score: 0.4703635573387146\n"
     ]
    },
    {
     "name": "stderr",
     "output_type": "stream",
     "text": [
      "\r",
      "Processing on GPU 1:  36%|███████████████████████████████████████                                                                     | 345/955 [01:17<02:17,  4.44it/s]"
     ]
    },
    {
     "name": "stdout",
     "output_type": "stream",
     "text": [
      "Classifying: Disbond Disbond\n",
      "Top label: Splice gap with confidence score: 0.43531957268714905\n"
     ]
    },
    {
     "name": "stderr",
     "output_type": "stream",
     "text": [
      "\r",
      "Processing on GPU 0:  36%|██████████████████████████████████████▊                                                                     | 344/957 [01:17<02:14,  4.55it/s]"
     ]
    },
    {
     "name": "stdout",
     "output_type": "stream",
     "text": [
      "Classifying: foil-/ foreign-inclusion detected F.O.D\n",
      "Top label: Core split with confidence score: 0.2206205129623413\n"
     ]
    },
    {
     "name": "stderr",
     "output_type": "stream",
     "text": [
      "\r",
      "Processing on GPU 1:  36%|███████████████████████████████████████▏                                                                    | 346/955 [01:17<02:17,  4.44it/s]"
     ]
    },
    {
     "name": "stdout",
     "output_type": "stream",
     "text": [
      "Classifying: Shelf Life Expired Shelf life expired before cure\n",
      "Top label: Foreign Object Damage with confidence score: 0.5900176167488098\n"
     ]
    },
    {
     "name": "stderr",
     "output_type": "stream",
     "text": [
      "\r",
      "Processing on GPU 0:  36%|██████████████████████████████████████▉                                                                     | 345/957 [01:17<02:14,  4.54it/s]"
     ]
    },
    {
     "name": "stdout",
     "output_type": "stream",
     "text": [
      "Classifying: Core fill incorrect (Sandwich) Potting missing\n",
      "Top label: Splice gap with confidence score: 0.1399684101343155\n"
     ]
    },
    {
     "name": "stderr",
     "output_type": "stream",
     "text": [
      "\r",
      "Processing on GPU 1:  36%|███████████████████████████████████████▏                                                                    | 347/955 [01:17<02:17,  4.44it/s]"
     ]
    },
    {
     "name": "stdout",
     "output_type": "stream",
     "text": [
      "Classifying: Material Not Per Drawing Synskin replaced by FM300 material\n",
      "Top label: Core deformation with confidence score: 0.4431297481060028\n"
     ]
    },
    {
     "name": "stderr",
     "output_type": "stream",
     "text": [
      "\r",
      "Processing on GPU 0:  36%|███████████████████████████████████████                                                                     | 346/957 [01:17<02:14,  4.55it/s]"
     ]
    },
    {
     "name": "stdout",
     "output_type": "stream",
     "text": [
      "Classifying: Curing Vacuum vacuum leak due to hole in bag\n",
      "Top label: Foreign Object Damage with confidence score: 0.34400084614753723\n"
     ]
    },
    {
     "name": "stderr",
     "output_type": "stream",
     "text": [
      "\r",
      "Processing on GPU 1:  36%|███████████████████████████████████████▎                                                                    | 348/955 [01:17<02:16,  4.44it/s]"
     ]
    },
    {
     "name": "stdout",
     "output_type": "stream",
     "text": [
      "Classifying: Core Damage, Torn Nodal Joints Core crack\n",
      "Top label: Foreign Object Damage with confidence score: 0.19470417499542236\n"
     ]
    },
    {
     "name": "stderr",
     "output_type": "stream",
     "text": [
      "\r",
      "Processing on GPU 0:  36%|███████████████████████████████████████▏                                                                    | 347/957 [01:17<02:14,  4.54it/s]"
     ]
    },
    {
     "name": "stdout",
     "output_type": "stream",
     "text": [
      "Classifying: Identification Wrong Test Piece build in CCA\n",
      "Top label: Core deformation with confidence score: 0.5574743747711182\n"
     ]
    },
    {
     "name": "stderr",
     "output_type": "stream",
     "text": [
      "\r",
      "Processing on GPU 1:  37%|███████████████████████████████████████▍                                                                    | 349/955 [01:18<02:15,  4.48it/s]"
     ]
    },
    {
     "name": "stdout",
     "output_type": "stream",
     "text": [
      "Classifying: Porosity Porosity\n",
      "Top label: Core deformation with confidence score: 0.2064216434955597\n"
     ]
    },
    {
     "name": "stderr",
     "output_type": "stream",
     "text": [
      "\r",
      "Processing on GPU 0:  36%|███████████████████████████████████████▎                                                                    | 348/957 [01:18<02:14,  4.52it/s]"
     ]
    },
    {
     "name": "stdout",
     "output_type": "stream",
     "text": [
      "Classifying: Identification Wrong Test Piece build in CCA\n",
      "Top label: Foreign Object Damage with confidence score: 0.25687840580940247\n"
     ]
    },
    {
     "name": "stderr",
     "output_type": "stream",
     "text": [
      "\r",
      "Processing on GPU 1:  37%|███████████████████████████████████████▌                                                                    | 350/955 [01:18<02:15,  4.47it/s]"
     ]
    },
    {
     "name": "stdout",
     "output_type": "stream",
     "text": [
      "Classifying: Splice Defect Surface defect\n",
      "Top label: Core deformation with confidence score: 0.2064216434955597\n"
     ]
    },
    {
     "name": "stderr",
     "output_type": "stream",
     "text": [
      "\r",
      "Processing on GPU 0:  36%|███████████████████████████████████████▍                                                                    | 349/957 [01:18<02:15,  4.50it/s]"
     ]
    },
    {
     "name": "stdout",
     "output_type": "stream",
     "text": [
      "Classifying: Surface defects surface defects\n",
      "Top label: Splice gap with confidence score: 0.6456287503242493\n"
     ]
    },
    {
     "name": "stderr",
     "output_type": "stream",
     "text": [
      "\r",
      "Processing on GPU 1:  37%|███████████████████████████████████████▋                                                                    | 351/955 [01:18<02:14,  4.48it/s]"
     ]
    },
    {
     "name": "stdout",
     "output_type": "stream",
     "text": [
      "Classifying: Gaps, Overlaps In Layup Overlaps Oversize\n",
      "Top label: Resin buildup with confidence score: 0.15662966668605804\n"
     ]
    },
    {
     "name": "stderr",
     "output_type": "stream",
     "text": [
      "\r",
      "Processing on GPU 0:  37%|███████████████████████████████████████▍                                                                    | 350/957 [01:18<02:15,  4.50it/s]"
     ]
    },
    {
     "name": "stdout",
     "output_type": "stream",
     "text": [
      "Classifying: Core fill incorrect (Sandwich) Potting Inadiquate\n",
      "Top label: Splice gap with confidence score: 0.24938717484474182\n"
     ]
    },
    {
     "name": "stderr",
     "output_type": "stream",
     "text": [
      "\r",
      "Processing on GPU 1:  37%|███████████████████████████████████████▊                                                                    | 352/955 [01:18<02:13,  4.52it/s]"
     ]
    },
    {
     "name": "stdout",
     "output_type": "stream",
     "text": [
      "Classifying: Splice Defect Core Splice Defect\n",
      "Top label: Core deformation with confidence score: 0.3804894983768463\n"
     ]
    },
    {
     "name": "stderr",
     "output_type": "stream",
     "text": [
      "\r",
      "Processing on GPU 0:  37%|███████████████████████████████████████▌                                                                    | 351/957 [01:18<02:15,  4.46it/s]"
     ]
    },
    {
     "name": "stdout",
     "output_type": "stream",
     "text": [
      "Classifying: Surface defects shims stuck on bag side\n",
      "Top label: Core split with confidence score: 0.45720699429512024\n"
     ]
    },
    {
     "name": "stderr",
     "output_type": "stream",
     "text": [
      "\r",
      "Processing on GPU 1:  37%|███████████████████████████████████████▉                                                                    | 353/955 [01:18<02:12,  4.53it/s]"
     ]
    },
    {
     "name": "stdout",
     "output_type": "stream",
     "text": [
      "Classifying: Disbond Disbond\n",
      "Top label: Foreign Object Damage with confidence score: 0.17166142165660858\n"
     ]
    },
    {
     "name": "stderr",
     "output_type": "stream",
     "text": [
      "\r",
      "Processing on GPU 0:  37%|███████████████████████████████████████▋                                                                    | 352/957 [01:19<02:15,  4.47it/s]"
     ]
    },
    {
     "name": "stdout",
     "output_type": "stream",
     "text": [
      "Classifying: Surface defects hump noticed above flat surface and fitc\n",
      "Top label: Core split with confidence score: 0.2206205129623413\n"
     ]
    },
    {
     "name": "stderr",
     "output_type": "stream",
     "text": [
      "\r",
      "Processing on GPU 1:  37%|████████████████████████████████████████                                                                    | 354/955 [01:19<02:12,  4.53it/s]"
     ]
    },
    {
     "name": "stdout",
     "output_type": "stream",
     "text": [
      "Classifying: Core Damage, Torn Nodal Joints Core crack\n",
      "Top label: Core deformation with confidence score: 0.1861950308084488\n"
     ]
    },
    {
     "name": "stderr",
     "output_type": "stream",
     "text": [
      "\r",
      "Processing on GPU 0:  37%|███████████████████████████████████████▊                                                                    | 353/957 [01:19<02:14,  4.50it/s]"
     ]
    },
    {
     "name": "stdout",
     "output_type": "stream",
     "text": [
      "Classifying: Expired Material Material Expired before cure\n",
      "Top label: Core deformation with confidence score: 0.5574743747711182\n"
     ]
    },
    {
     "name": "stderr",
     "output_type": "stream",
     "text": [
      "\r",
      "Processing on GPU 1:  37%|████████████████████████████████████████▏                                                                   | 355/955 [01:19<02:13,  4.51it/s]"
     ]
    },
    {
     "name": "stdout",
     "output_type": "stream",
     "text": [
      "Classifying: Autoclave Cure Not Per Procedure Cycle not per procedure\n",
      "Top label: Splice gap with confidence score: 0.1510591208934784\n"
     ]
    },
    {
     "name": "stderr",
     "output_type": "stream",
     "text": [
      "\r",
      "Processing on GPU 0:  37%|███████████████████████████████████████▉                                                                    | 354/957 [01:19<02:13,  4.51it/s]"
     ]
    },
    {
     "name": "stdout",
     "output_type": "stream",
     "text": [
      "Classifying: Honeycomb geometry Unindentify Ultrasonic Indication\n",
      "Top label: Core split with confidence score: 0.2065369337797165\n"
     ]
    },
    {
     "name": "stderr",
     "output_type": "stream",
     "text": [
      "\r",
      "Processing on GPU 1:  37%|████████████████████████████████████████▎                                                                   | 356/955 [01:19<02:12,  4.51it/s]"
     ]
    },
    {
     "name": "stdout",
     "output_type": "stream",
     "text": [
      "Classifying: Dwell Too Long Dwell too long\n",
      "Top label: Core displacement with confidence score: 0.17091450095176697\n"
     ]
    },
    {
     "name": "stderr",
     "output_type": "stream",
     "text": [
      "\r",
      "Processing on GPU 0:  37%|████████████████████████████████████████                                                                    | 355/957 [01:19<02:13,  4.51it/s]"
     ]
    },
    {
     "name": "stdout",
     "output_type": "stream",
     "text": [
      "Classifying: Delamination Composite Manufacturing Delamination Composite Manufacturing\n",
      "Top label: Core deformation with confidence score: 0.17797939479351044\n"
     ]
    },
    {
     "name": "stderr",
     "output_type": "stream",
     "text": [
      "\r",
      "Processing on GPU 1:  37%|████████████████████████████████████████▎                                                                   | 357/955 [01:19<02:12,  4.51it/s]"
     ]
    },
    {
     "name": "stdout",
     "output_type": "stream",
     "text": [
      "Classifying: Core Crush Core crush\n",
      "Top label: Resin buildup with confidence score: 0.4829311668872833\n"
     ]
    },
    {
     "name": "stderr",
     "output_type": "stream",
     "text": [
      "\r",
      "Processing on GPU 0:  37%|████████████████████████████████████████▏                                                                   | 356/957 [01:19<02:13,  4.49it/s]"
     ]
    },
    {
     "name": "stdout",
     "output_type": "stream",
     "text": [
      "Classifying: Material Missing or Incorrect positioned TC Strand\n",
      "Top label: Core crash with confidence score: 0.3817749321460724\n"
     ]
    },
    {
     "name": "stderr",
     "output_type": "stream",
     "text": [
      "\r",
      "Processing on GPU 1:  37%|████████████████████████████████████████▍                                                                   | 358/955 [01:20<02:12,  4.52it/s]"
     ]
    },
    {
     "name": "stdout",
     "output_type": "stream",
     "text": [
      "Classifying: Disbond Disbonding within part\n",
      "Top label: Core displacement with confidence score: 0.25095024704933167\n"
     ]
    },
    {
     "name": "stderr",
     "output_type": "stream",
     "text": [
      "\r",
      "Processing on GPU 0:  37%|████████████████████████████████████████▎                                                                   | 357/957 [01:20<02:13,  4.49it/s]"
     ]
    },
    {
     "name": "stdout",
     "output_type": "stream",
     "text": [
      "Classifying: Honeycomb geometry Unidentified defect\n",
      "Top label: Core displacement with confidence score: 0.228065624833107\n"
     ]
    },
    {
     "name": "stderr",
     "output_type": "stream",
     "text": [
      "\r",
      "Processing on GPU 1:  38%|████████████████████████████████████████▌                                                                   | 359/955 [01:20<02:12,  4.50it/s]"
     ]
    },
    {
     "name": "stdout",
     "output_type": "stream",
     "text": [
      "Classifying: Wrinkle Wrinkle\n",
      "Top label: Foreign Object Damage with confidence score: 0.2807817757129669\n"
     ]
    },
    {
     "name": "stderr",
     "output_type": "stream",
     "text": [
      "\r",
      "Processing on GPU 0:  37%|████████████████████████████████████████▍                                                                   | 358/957 [01:20<02:12,  4.53it/s]"
     ]
    },
    {
     "name": "stdout",
     "output_type": "stream",
     "text": [
      "Classifying: Disbonding within part Disbonding within part\n",
      "Top label: Core split with confidence score: 0.19982367753982544\n"
     ]
    },
    {
     "name": "stderr",
     "output_type": "stream",
     "text": [
      "\r",
      "Processing on GPU 1:  38%|████████████████████████████████████████▋                                                                   | 360/955 [01:20<02:12,  4.49it/s]"
     ]
    },
    {
     "name": "stdout",
     "output_type": "stream",
     "text": [
      "Classifying: Unapplicated Modification FM 300 M used\n",
      "Top label: Core split with confidence score: 0.18174977600574493\n"
     ]
    },
    {
     "name": "stderr",
     "output_type": "stream",
     "text": [
      "\r",
      "Processing on GPU 0:  38%|████████████████████████████████████████▌                                                                   | 359/957 [01:20<02:12,  4.53it/s]"
     ]
    },
    {
     "name": "stdout",
     "output_type": "stream",
     "text": [
      "Classifying: Expired Material Mat expired before final bagging\n",
      "Top label: Foreign Object Damage with confidence score: 0.2089349925518036\n"
     ]
    },
    {
     "name": "stderr",
     "output_type": "stream",
     "text": [
      "\r",
      "Processing on GPU 1:  38%|████████████████████████████████████████▊                                                                   | 361/955 [01:20<02:11,  4.50it/s]"
     ]
    },
    {
     "name": "stdout",
     "output_type": "stream",
     "text": [
      "Classifying: Unapplicated Modification FM 300 M used\n",
      "Top label: Foreign Object Damage with confidence score: 0.26208776235580444\n"
     ]
    },
    {
     "name": "stderr",
     "output_type": "stream",
     "text": [
      "\r",
      "Processing on GPU 0:  38%|████████████████████████████████████████▋                                                                   | 360/957 [01:20<02:11,  4.53it/s]"
     ]
    },
    {
     "name": "stdout",
     "output_type": "stream",
     "text": [
      "Classifying: Disbonding within part Disbond\n",
      "Top label: Foreign Object Damage with confidence score: 0.2089349925518036\n"
     ]
    },
    {
     "name": "stderr",
     "output_type": "stream",
     "text": [
      "\r",
      "Processing on GPU 1:  38%|████████████████████████████████████████▉                                                                   | 362/955 [01:20<02:12,  4.49it/s]"
     ]
    },
    {
     "name": "stdout",
     "output_type": "stream",
     "text": [
      "Classifying: Unapplicated Modification FM 300 M used\n",
      "Top label: Core displacement with confidence score: 0.21432512998580933\n"
     ]
    },
    {
     "name": "stderr",
     "output_type": "stream",
     "text": [
      "\r",
      "Processing on GPU 0:  38%|████████████████████████████████████████▋                                                                   | 361/957 [01:21<02:11,  4.53it/s]"
     ]
    },
    {
     "name": "stdout",
     "output_type": "stream",
     "text": [
      "Classifying: Surface defects hump noticed above flat surface and fitc\n",
      "Top label: Foreign Object Damage with confidence score: 0.2089349925518036\n"
     ]
    },
    {
     "name": "stderr",
     "output_type": "stream",
     "text": [
      "\r",
      "Processing on GPU 1:  38%|█████████████████████████████████████████                                                                   | 363/955 [01:21<02:12,  4.46it/s]"
     ]
    },
    {
     "name": "stdout",
     "output_type": "stream",
     "text": [
      "Classifying: Porosity nan\n",
      "Top label: Core deformation with confidence score: 0.1861950308084488\n"
     ]
    },
    {
     "name": "stderr",
     "output_type": "stream",
     "text": [
      "\r",
      "Processing on GPU 0:  38%|████████████████████████████████████████▊                                                                   | 362/957 [01:21<02:10,  4.56it/s]"
     ]
    },
    {
     "name": "stdout",
     "output_type": "stream",
     "text": [
      "Classifying: Core fill incorrect (Sandwich) see long text\n",
      "Top label: Separation noodle joint with confidence score: 0.3819141089916229\n"
     ]
    },
    {
     "name": "stderr",
     "output_type": "stream",
     "text": [
      "\r",
      "Processing on GPU 1:  38%|█████████████████████████████████████████▏                                                                  | 364/955 [01:21<02:12,  4.46it/s]"
     ]
    },
    {
     "name": "stdout",
     "output_type": "stream",
     "text": [
      "Classifying: Porosity volumetric porosity above accept limit\n",
      "Top label: Core deformation with confidence score: 0.3928042948246002\n"
     ]
    },
    {
     "name": "stderr",
     "output_type": "stream",
     "text": [
      "\r",
      "Processing on GPU 0:  38%|████████████████████████████████████████▉                                                                   | 363/957 [01:21<02:10,  4.56it/s]"
     ]
    },
    {
     "name": "stdout",
     "output_type": "stream",
     "text": [
      "Classifying: Expired material date Material Expired due to clockin delay\n",
      "Top label: Core displacement with confidence score: 0.1743021011352539\n"
     ]
    },
    {
     "name": "stderr",
     "output_type": "stream",
     "text": [
      "\r",
      "Processing on GPU 1:  38%|█████████████████████████████████████████▎                                                                  | 365/955 [01:21<02:12,  4.45it/s]"
     ]
    },
    {
     "name": "stdout",
     "output_type": "stream",
     "text": [
      "Classifying: Temperature Overshoot Temperature overshoot\n",
      "Top label: Splice gap with confidence score: 0.15923172235488892\n"
     ]
    },
    {
     "name": "stderr",
     "output_type": "stream",
     "text": [
      "\r",
      "Processing on GPU 0:  38%|█████████████████████████████████████████                                                                   | 364/957 [01:21<02:11,  4.52it/s]"
     ]
    },
    {
     "name": "stdout",
     "output_type": "stream",
     "text": [
      "Classifying: Disbonding within part Disbond\n",
      "Top label: Splice gap with confidence score: 0.2655428946018219\n"
     ]
    },
    {
     "name": "stderr",
     "output_type": "stream",
     "text": [
      "\r",
      "Processing on GPU 1:  38%|█████████████████████████████████████████▍                                                                  | 366/955 [01:21<02:11,  4.49it/s]"
     ]
    },
    {
     "name": "stdout",
     "output_type": "stream",
     "text": [
      "Classifying: Imprint on Surface Dent nan\n",
      "Top label: Core displacement with confidence score: 0.21432512998580933\n"
     ]
    },
    {
     "name": "stderr",
     "output_type": "stream",
     "text": [
      "\r",
      "Processing on GPU 0:  38%|█████████████████████████████████████████▏                                                                  | 365/957 [01:21<02:09,  4.57it/s]"
     ]
    },
    {
     "name": "stdout",
     "output_type": "stream",
     "text": [
      "Classifying: Core fill incorrect (Sandwich) unidentified defect.\n",
      "Top label: Foreign Object Damage with confidence score: 0.21016375720500946\n"
     ]
    },
    {
     "name": "stderr",
     "output_type": "stream",
     "text": [
      "\r",
      "Processing on GPU 1:  38%|█████████████████████████████████████████▌                                                                  | 367/955 [01:22<02:12,  4.44it/s]"
     ]
    },
    {
     "name": "stdout",
     "output_type": "stream",
     "text": [
      "Classifying: Autoclave Cure Not Per Procedure nan\n",
      "Top label: Core deformation with confidence score: 0.5478744506835938\n"
     ]
    },
    {
     "name": "stderr",
     "output_type": "stream",
     "text": [
      "\r",
      "Processing on GPU 0:  38%|█████████████████████████████████████████▎                                                                  | 366/957 [01:22<02:10,  4.53it/s]"
     ]
    },
    {
     "name": "stdout",
     "output_type": "stream",
     "text": [
      "Classifying: Disbonding within part Disbond\n",
      "Top label: Core split with confidence score: 0.1581183224916458\n"
     ]
    },
    {
     "name": "stderr",
     "output_type": "stream",
     "text": [
      "\r",
      "Processing on GPU 1:  39%|█████████████████████████████████████████▌                                                                  | 368/955 [01:22<02:11,  4.46it/s]"
     ]
    },
    {
     "name": "stdout",
     "output_type": "stream",
     "text": [
      "Classifying: Disbond Disbond\n",
      "Top label: Core displacement with confidence score: 0.21432512998580933\n"
     ]
    },
    {
     "name": "stderr",
     "output_type": "stream",
     "text": [
      "\r",
      "Processing on GPU 0:  38%|█████████████████████████████████████████▍                                                                  | 367/957 [01:22<02:08,  4.58it/s]"
     ]
    },
    {
     "name": "stdout",
     "output_type": "stream",
     "text": [
      "Classifying: Disbonding within part Disbond and Core Defects\n",
      "Top label: Core split with confidence score: 0.2206205129623413\n"
     ]
    },
    {
     "name": "stderr",
     "output_type": "stream",
     "text": [
      "\r",
      "Processing on GPU 1:  39%|█████████████████████████████████████████▋                                                                  | 369/955 [01:22<02:13,  4.40it/s]"
     ]
    },
    {
     "name": "stdout",
     "output_type": "stream",
     "text": [
      "Classifying: Unapplicated Modification FM 300 M used\n",
      "Top label: Core displacement with confidence score: 0.34509292244911194\n"
     ]
    },
    {
     "name": "stderr",
     "output_type": "stream",
     "text": [
      "\r",
      "Processing on GPU 0:  38%|█████████████████████████████████████████▌                                                                  | 368/957 [01:22<02:08,  4.57it/s]"
     ]
    },
    {
     "name": "stdout",
     "output_type": "stream",
     "text": [
      "Classifying: Material Missing or Incorrect positioned TC Strand\n",
      "Top label: Foreign Object Damage with confidence score: 0.2089349925518036\n"
     ]
    },
    {
     "name": "stderr",
     "output_type": "stream",
     "text": [
      "\r",
      "Processing on GPU 1:  39%|█████████████████████████████████████████▊                                                                  | 370/955 [01:22<02:12,  4.43it/s]"
     ]
    },
    {
     "name": "stdout",
     "output_type": "stream",
     "text": [
      "Classifying: Lay-Up Error  See LT\n",
      "Top label: Core displacement with confidence score: 0.25095024704933167\n"
     ]
    },
    {
     "name": "stderr",
     "output_type": "stream",
     "text": [
      "\r",
      "Processing on GPU 0:  39%|█████████████████████████████████████████▋                                                                  | 369/957 [01:22<02:08,  4.56it/s]"
     ]
    },
    {
     "name": "stdout",
     "output_type": "stream",
     "text": [
      "Classifying: Material Missing or Incorrect positioned TC Strand\n",
      "Top label: Separation noodle joint with confidence score: 0.16475149989128113\n"
     ]
    },
    {
     "name": "stderr",
     "output_type": "stream",
     "text": [
      "\r",
      "Processing on GPU 1:  39%|█████████████████████████████████████████▉                                                                  | 371/955 [01:22<02:11,  4.43it/s]"
     ]
    },
    {
     "name": "stdout",
     "output_type": "stream",
     "text": [
      "Classifying: Delamination NDT Initial Failure\n",
      "Top label: Core displacement with confidence score: 0.25095024704933167\n"
     ]
    },
    {
     "name": "stderr",
     "output_type": "stream",
     "text": [
      "\r",
      "Processing on GPU 0:  39%|█████████████████████████████████████████▊                                                                  | 370/957 [01:23<02:08,  4.57it/s]"
     ]
    },
    {
     "name": "stdout",
     "output_type": "stream",
     "text": [
      "Classifying: Material Missing or Incorrect positioned TC Strand\n",
      "Top label: Separation noodle joint with confidence score: 0.23277020454406738\n"
     ]
    },
    {
     "name": "stderr",
     "output_type": "stream",
     "text": [
      "\r",
      "Processing on GPU 1:  39%|██████████████████████████████████████████                                                                  | 372/955 [01:23<02:10,  4.46it/s]"
     ]
    },
    {
     "name": "stdout",
     "output_type": "stream",
     "text": [
      "Classifying: Delamination Delamination located above acceptable\n",
      "Top label: Core displacement with confidence score: 0.25095024704933167\n"
     ]
    },
    {
     "name": "stderr",
     "output_type": "stream",
     "text": [
      "\r",
      "Processing on GPU 0:  39%|█████████████████████████████████████████▊                                                                  | 371/957 [01:23<02:08,  4.56it/s]"
     ]
    },
    {
     "name": "stdout",
     "output_type": "stream",
     "text": [
      "Classifying: Material Missing or Incorrect positioned TC Strand\n",
      "Top label: Resin buildup with confidence score: 0.29430559277534485\n"
     ]
    },
    {
     "name": "stderr",
     "output_type": "stream",
     "text": [
      "\r",
      "Processing on GPU 1:  39%|██████████████████████████████████████████▏                                                                 | 373/955 [01:23<02:10,  4.46it/s]"
     ]
    },
    {
     "name": "stdout",
     "output_type": "stream",
     "text": [
      "Classifying: Delamination NDT Second Failure\n",
      "Top label: Core displacement with confidence score: 0.25095024704933167\n"
     ]
    },
    {
     "name": "stderr",
     "output_type": "stream",
     "text": [
      "\r",
      "Processing on GPU 0:  39%|█████████████████████████████████████████▉                                                                  | 372/957 [01:23<02:08,  4.57it/s]"
     ]
    },
    {
     "name": "stdout",
     "output_type": "stream",
     "text": [
      "Classifying: Material Missing or Incorrect positioned TC Strand\n",
      "Top label: Foreign Object Damage with confidence score: 0.20595213770866394\n"
     ]
    },
    {
     "name": "stderr",
     "output_type": "stream",
     "text": [
      "\r",
      "Processing on GPU 1:  39%|██████████████████████████████████████████▎                                                                 | 374/955 [01:23<02:10,  4.46it/s]"
     ]
    },
    {
     "name": "stdout",
     "output_type": "stream",
     "text": [
      "Classifying: Unapplicated Modification FM 300 M used\n",
      "Top label: Core displacement with confidence score: 0.25095024704933167\n"
     ]
    },
    {
     "name": "stderr",
     "output_type": "stream",
     "text": [
      "\r",
      "Processing on GPU 0:  39%|██████████████████████████████████████████                                                                  | 373/957 [01:23<02:08,  4.55it/s]"
     ]
    },
    {
     "name": "stdout",
     "output_type": "stream",
     "text": [
      "Classifying: Material Missing or Incorrect positioned TC Strand\n",
      "Top label: Foreign Object Damage with confidence score: 0.2089349925518036\n"
     ]
    },
    {
     "name": "stderr",
     "output_type": "stream",
     "text": [
      "\r",
      "Processing on GPU 1:  39%|██████████████████████████████████████████▍                                                                 | 375/955 [01:23<02:09,  4.48it/s]"
     ]
    },
    {
     "name": "stdout",
     "output_type": "stream",
     "text": [
      "Classifying: Lay-Up Error part under investigation\n",
      "Top label: Core displacement with confidence score: 0.25095024704933167\n"
     ]
    },
    {
     "name": "stderr",
     "output_type": "stream",
     "text": [
      "\r",
      "Processing on GPU 0:  39%|██████████████████████████████████████████▏                                                                 | 374/957 [01:23<02:08,  4.54it/s]"
     ]
    },
    {
     "name": "stdout",
     "output_type": "stream",
     "text": [
      "Classifying: Delamination Composite Manufacturing Delamination above size limit\n",
      "Top label: Core displacement with confidence score: 0.17248719930648804\n"
     ]
    },
    {
     "name": "stderr",
     "output_type": "stream",
     "text": [
      "\r",
      "Processing on GPU 1:  39%|██████████████████████████████████████████▌                                                                 | 376/955 [01:24<02:09,  4.47it/s]"
     ]
    },
    {
     "name": "stdout",
     "output_type": "stream",
     "text": [
      "Classifying: Lay-Up Error part under investigation\n",
      "Top label: Resin buildup with confidence score: 0.19766445457935333\n"
     ]
    },
    {
     "name": "stderr",
     "output_type": "stream",
     "text": [
      "\r",
      "Processing on GPU 0:  39%|██████████████████████████████████████████▎                                                                 | 375/957 [01:24<02:07,  4.55it/s]"
     ]
    },
    {
     "name": "stdout",
     "output_type": "stream",
     "text": [
      "Classifying: Expired Material Expired Material\n",
      "Top label: Core displacement with confidence score: 0.17248719930648804\n"
     ]
    },
    {
     "name": "stderr",
     "output_type": "stream",
     "text": [
      "\r",
      "Processing on GPU 1:  39%|██████████████████████████████████████████▋                                                                 | 377/955 [01:24<02:08,  4.50it/s]"
     ]
    },
    {
     "name": "stdout",
     "output_type": "stream",
     "text": [
      "Classifying: Lay-Up Error part under investigation\n",
      "Top label: Splice gap with confidence score: 0.17805516719818115\n"
     ]
    },
    {
     "name": "stderr",
     "output_type": "stream",
     "text": [
      "\r",
      "Processing on GPU 0:  39%|██████████████████████████████████████████▍                                                                 | 376/957 [01:24<02:07,  4.54it/s]"
     ]
    },
    {
     "name": "stdout",
     "output_type": "stream",
     "text": [
      "Classifying: Disbonding within part Disbonding within part\n",
      "Top label: Core displacement with confidence score: 0.17248719930648804\n"
     ]
    },
    {
     "name": "stderr",
     "output_type": "stream",
     "text": [
      "\r",
      "Processing on GPU 1:  40%|██████████████████████████████████████████▋                                                                 | 378/955 [01:24<02:08,  4.50it/s]"
     ]
    },
    {
     "name": "stdout",
     "output_type": "stream",
     "text": [
      "Classifying: Lay-Up Error part under investigation\n",
      "Top label: Core split with confidence score: 0.18174977600574493\n"
     ]
    },
    {
     "name": "stderr",
     "output_type": "stream",
     "text": [
      "\r",
      "Processing on GPU 0:  39%|██████████████████████████████████████████▌                                                                 | 377/957 [01:24<02:08,  4.52it/s]"
     ]
    },
    {
     "name": "stdout",
     "output_type": "stream",
     "text": [
      "Classifying: Volume Porosity Volume Porosity\n",
      "Top label: Core displacement with confidence score: 0.17248719930648804\n"
     ]
    },
    {
     "name": "stderr",
     "output_type": "stream",
     "text": [
      "\r",
      "Processing on GPU 1:  40%|██████████████████████████████████████████▊                                                                 | 379/955 [01:24<02:09,  4.46it/s]"
     ]
    },
    {
     "name": "stdout",
     "output_type": "stream",
     "text": [
      "Classifying: Lay-Up Error part under investigation\n",
      "Top label: Resin buildup with confidence score: 0.196485236287117\n"
     ]
    },
    {
     "name": "stderr",
     "output_type": "stream",
     "text": [
      "\r",
      "Processing on GPU 0:  39%|██████████████████████████████████████████▋                                                                 | 378/957 [01:24<02:07,  4.55it/s]"
     ]
    },
    {
     "name": "stdout",
     "output_type": "stream",
     "text": [
      "Classifying: Honeycomb geometry Core defect\n",
      "Top label: Core displacement with confidence score: 0.17248719930648804\n"
     ]
    },
    {
     "name": "stderr",
     "output_type": "stream",
     "text": [
      "\r",
      "Processing on GPU 1:  40%|██████████████████████████████████████████▉                                                                 | 380/955 [01:24<02:08,  4.46it/s]"
     ]
    },
    {
     "name": "stdout",
     "output_type": "stream",
     "text": [
      "Classifying: Lay-Up Error part under investigation\n",
      "Top label: Core deformation with confidence score: 0.7428478598594666\n"
     ]
    },
    {
     "name": "stderr",
     "output_type": "stream",
     "text": [
      "\r",
      "Processing on GPU 0:  40%|██████████████████████████████████████████▊                                                                 | 379/957 [01:25<02:07,  4.55it/s]"
     ]
    },
    {
     "name": "stdout",
     "output_type": "stream",
     "text": [
      "Classifying: Lack of resin Resin starvation\n",
      "Top label: Core displacement with confidence score: 0.17248719930648804\n"
     ]
    },
    {
     "name": "stderr",
     "output_type": "stream",
     "text": [
      "\r",
      "Processing on GPU 1:  40%|███████████████████████████████████████████                                                                 | 381/955 [01:25<02:08,  4.47it/s]"
     ]
    },
    {
     "name": "stdout",
     "output_type": "stream",
     "text": [
      "Classifying: Lay-Up Error part under investigation\n",
      "Top label: Core split with confidence score: 0.15370839834213257\n"
     ]
    },
    {
     "name": "stderr",
     "output_type": "stream",
     "text": [
      "\r",
      "Processing on GPU 0:  40%|██████████████████████████████████████████▉                                                                 | 380/957 [01:25<02:06,  4.54it/s]"
     ]
    },
    {
     "name": "stdout",
     "output_type": "stream",
     "text": [
      "Classifying: Delamination Composite Manufacturing Multi layer delamination\n",
      "Top label: Core displacement with confidence score: 0.17248719930648804\n"
     ]
    },
    {
     "name": "stderr",
     "output_type": "stream",
     "text": [
      "\r",
      "Processing on GPU 1:  40%|███████████████████████████████████████████▏                                                                | 382/955 [01:25<02:08,  4.47it/s]"
     ]
    },
    {
     "name": "stdout",
     "output_type": "stream",
     "text": [
      "Classifying: Lay-Up Error part under investigation\n",
      "Top label: Resin buildup with confidence score: 0.22034315764904022\n"
     ]
    },
    {
     "name": "stderr",
     "output_type": "stream",
     "text": [
      "\r",
      "Processing on GPU 0:  40%|██████████████████████████████████████████▉                                                                 | 381/957 [01:25<02:06,  4.56it/s]"
     ]
    },
    {
     "name": "stdout",
     "output_type": "stream",
     "text": [
      "Classifying: Core fill incorrect (Sandwich) scotch weld filled in the exposed core\n",
      "Top label: Core displacement with confidence score: 0.17248719930648804\n"
     ]
    },
    {
     "name": "stderr",
     "output_type": "stream",
     "text": [
      "\r",
      "Processing on GPU 1:  40%|███████████████████████████████████████████▎                                                                | 383/955 [01:25<02:06,  4.51it/s]"
     ]
    },
    {
     "name": "stdout",
     "output_type": "stream",
     "text": [
      "Classifying: Lay-Up Error part under investigation\n",
      "Top label: Core deformation with confidence score: 0.4128182530403137\n"
     ]
    },
    {
     "name": "stderr",
     "output_type": "stream",
     "text": [
      "\r",
      "Processing on GPU 0:  40%|███████████████████████████████████████████                                                                 | 382/957 [01:25<02:06,  4.53it/s]"
     ]
    },
    {
     "name": "stdout",
     "output_type": "stream",
     "text": [
      "Classifying: Wrinkles Wrinkles\n",
      "Top label: Core displacement with confidence score: 0.17248719930648804\n"
     ]
    },
    {
     "name": "stderr",
     "output_type": "stream",
     "text": [
      "\r",
      "Processing on GPU 1:  40%|███████████████████████████████████████████▍                                                                | 384/955 [01:25<02:06,  4.52it/s]"
     ]
    },
    {
     "name": "stdout",
     "output_type": "stream",
     "text": [
      "Classifying: Lay-Up Error part under investigation\n",
      "Top label: Resin buildup with confidence score: 0.1902356743812561\n"
     ]
    },
    {
     "name": "stderr",
     "output_type": "stream",
     "text": [
      "\r",
      "Processing on GPU 0:  40%|███████████████████████████████████████████▏                                                                | 383/957 [01:25<02:06,  4.53it/s]"
     ]
    },
    {
     "name": "stdout",
     "output_type": "stream",
     "text": [
      "Classifying: Honeycomb geometry Core defect\n",
      "Top label: Core displacement with confidence score: 0.17248719930648804\n"
     ]
    },
    {
     "name": "stderr",
     "output_type": "stream",
     "text": [
      "\r",
      "Processing on GPU 1:  40%|███████████████████████████████████████████▌                                                                | 385/955 [01:26<02:07,  4.48it/s]"
     ]
    },
    {
     "name": "stdout",
     "output_type": "stream",
     "text": [
      "Classifying: Lay-Up Error part under investigation\n",
      "Top label: Core deformation with confidence score: 0.7428478598594666\n"
     ]
    },
    {
     "name": "stderr",
     "output_type": "stream",
     "text": [
      "\r",
      "Processing on GPU 0:  40%|███████████████████████████████████████████▎                                                                | 384/957 [01:26<02:05,  4.56it/s]"
     ]
    },
    {
     "name": "stdout",
     "output_type": "stream",
     "text": [
      "Classifying: Surface defects Core crush\n",
      "Top label: Core displacement with confidence score: 0.17248719930648804\n"
     ]
    },
    {
     "name": "stderr",
     "output_type": "stream",
     "text": [
      "\r",
      "Processing on GPU 1:  40%|███████████████████████████████████████████▋                                                                | 386/955 [01:26<02:06,  4.48it/s]"
     ]
    },
    {
     "name": "stdout",
     "output_type": "stream",
     "text": [
      "Classifying: Lay-Up Error part under investigation\n",
      "Top label: Core deformation with confidence score: 0.39644086360931396\n"
     ]
    },
    {
     "name": "stderr",
     "output_type": "stream",
     "text": [
      "\r",
      "Processing on GPU 0:  40%|███████████████████████████████████████████▍                                                                | 385/957 [01:26<02:05,  4.54it/s]"
     ]
    },
    {
     "name": "stdout",
     "output_type": "stream",
     "text": [
      "Classifying: Curing Vacuum Vacuum Leak\n",
      "Top label: Core displacement with confidence score: 0.17248719930648804\n"
     ]
    },
    {
     "name": "stderr",
     "output_type": "stream",
     "text": [
      "\r",
      "Processing on GPU 1:  41%|███████████████████████████████████████████▊                                                                | 387/955 [01:26<02:06,  4.48it/s]"
     ]
    },
    {
     "name": "stdout",
     "output_type": "stream",
     "text": [
      "Classifying: Lay-Up Error part under investigation\n",
      "Top label: Core displacement with confidence score: 0.18658626079559326\n"
     ]
    },
    {
     "name": "stderr",
     "output_type": "stream",
     "text": [
      "\r",
      "Processing on GPU 0:  40%|███████████████████████████████████████████▌                                                                | 386/957 [01:26<02:05,  4.55it/s]"
     ]
    },
    {
     "name": "stdout",
     "output_type": "stream",
     "text": [
      "Classifying: Surface defects Depression + surface defects\n",
      "Top label: Core displacement with confidence score: 0.17248719930648804\n"
     ]
    },
    {
     "name": "stderr",
     "output_type": "stream",
     "text": [
      "\r",
      "Processing on GPU 1:  41%|███████████████████████████████████████████▉                                                                | 388/955 [01:26<02:05,  4.51it/s]"
     ]
    },
    {
     "name": "stdout",
     "output_type": "stream",
     "text": [
      "Classifying: Lay-Up Error part under investigation\n",
      "Top label: Core crash with confidence score: 0.19349505007266998\n"
     ]
    },
    {
     "name": "stderr",
     "output_type": "stream",
     "text": [
      "\r",
      "Processing on GPU 0:  40%|███████████████████████████████████████████▋                                                                | 387/957 [01:26<02:05,  4.53it/s]"
     ]
    },
    {
     "name": "stdout",
     "output_type": "stream",
     "text": [
      "Classifying: Core fill incorrect (Sandwich) Core defect\n",
      "Top label: Core displacement with confidence score: 0.17248719930648804\n"
     ]
    },
    {
     "name": "stderr",
     "output_type": "stream",
     "text": [
      "\r",
      "Processing on GPU 1:  41%|███████████████████████████████████████████▉                                                                | 389/955 [01:26<02:05,  4.52it/s]"
     ]
    },
    {
     "name": "stdout",
     "output_type": "stream",
     "text": [
      "Classifying: Lay-Up Error part under investigation\n",
      "Top label: Core deformation with confidence score: 0.7592495679855347\n"
     ]
    },
    {
     "name": "stderr",
     "output_type": "stream",
     "text": [
      "\r",
      "Processing on GPU 0:  41%|███████████████████████████████████████████▊                                                                | 388/957 [01:26<02:05,  4.53it/s]"
     ]
    },
    {
     "name": "stdout",
     "output_type": "stream",
     "text": [
      "Classifying: Wrinkles wrinkle on bag side\n",
      "Top label: Core displacement with confidence score: 0.17248719930648804\n"
     ]
    },
    {
     "name": "stderr",
     "output_type": "stream",
     "text": [
      "\r",
      "Processing on GPU 1:  41%|████████████████████████████████████████████                                                                | 390/955 [01:27<02:06,  4.48it/s]"
     ]
    },
    {
     "name": "stdout",
     "output_type": "stream",
     "text": [
      "Classifying: Lay-Up Error part under investigation\n",
      "Top label: Core deformation with confidence score: 0.207689106464386\n"
     ]
    },
    {
     "name": "stderr",
     "output_type": "stream",
     "text": [
      "\r",
      "Processing on GPU 0:  41%|███████████████████████████████████████████▉                                                                | 389/957 [01:27<02:05,  4.54it/s]"
     ]
    },
    {
     "name": "stdout",
     "output_type": "stream",
     "text": [
      "Classifying: Core fill incorrect (Sandwich) Core defect\n",
      "Top label: Core displacement with confidence score: 0.17248719930648804\n"
     ]
    },
    {
     "name": "stderr",
     "output_type": "stream",
     "text": [
      "\r",
      "Processing on GPU 1:  41%|████████████████████████████████████████████▏                                                               | 391/955 [01:27<02:05,  4.49it/s]"
     ]
    },
    {
     "name": "stdout",
     "output_type": "stream",
     "text": [
      "Classifying: Lay-Up Error part under investigation\n",
      "Top label: Core deformation with confidence score: 0.7592495679855347\n"
     ]
    },
    {
     "name": "stderr",
     "output_type": "stream",
     "text": [
      "\r",
      "Processing on GPU 0:  41%|████████████████████████████████████████████                                                                | 390/957 [01:27<02:04,  4.54it/s]"
     ]
    },
    {
     "name": "stdout",
     "output_type": "stream",
     "text": [
      "Classifying: Curing Vacuum vacuum leak\n",
      "Top label: Core displacement with confidence score: 0.17248719930648804\n"
     ]
    },
    {
     "name": "stderr",
     "output_type": "stream",
     "text": [
      "\r",
      "Processing on GPU 1:  41%|████████████████████████████████████████████▎                                                               | 392/955 [01:27<02:06,  4.44it/s]"
     ]
    },
    {
     "name": "stdout",
     "output_type": "stream",
     "text": [
      "Classifying: Lay-Up Error part under investigation\n",
      "Top label: Splice gap with confidence score: 0.1877499371767044\n"
     ]
    },
    {
     "name": "stderr",
     "output_type": "stream",
     "text": [
      "\r",
      "Processing on GPU 0:  41%|████████████████████████████████████████████▏                                                               | 391/957 [01:27<02:04,  4.56it/s]"
     ]
    },
    {
     "name": "stdout",
     "output_type": "stream",
     "text": [
      "Classifying: Disbonding within part Disbonding within part\n",
      "Top label: Core displacement with confidence score: 0.17248719930648804\n"
     ]
    },
    {
     "name": "stderr",
     "output_type": "stream",
     "text": [
      "\r",
      "Processing on GPU 1:  41%|████████████████████████████████████████████▍                                                               | 393/955 [01:27<02:06,  4.45it/s]"
     ]
    },
    {
     "name": "stdout",
     "output_type": "stream",
     "text": [
      "Classifying: Lay-Up Error part under investigation\n",
      "Top label: Core split with confidence score: 0.18174977600574493\n"
     ]
    },
    {
     "name": "stderr",
     "output_type": "stream",
     "text": [
      "\r",
      "Processing on GPU 0:  41%|████████████████████████████████████████████▏                                                               | 392/957 [01:27<02:02,  4.59it/s]"
     ]
    },
    {
     "name": "stdout",
     "output_type": "stream",
     "text": [
      "Classifying: Honeycomb geometry Core defect\n",
      "Top label: Core displacement with confidence score: 0.17248719930648804\n"
     ]
    },
    {
     "name": "stderr",
     "output_type": "stream",
     "text": [
      "\r",
      "Processing on GPU 1:  41%|████████████████████████████████████████████▌                                                               | 394/955 [01:28<02:07,  4.40it/s]"
     ]
    },
    {
     "name": "stdout",
     "output_type": "stream",
     "text": [
      "Classifying: Bag Leak Vacuum leak during cycle.\n",
      "Top label: Core deformation with confidence score: 0.7428478598594666\n"
     ]
    },
    {
     "name": "stderr",
     "output_type": "stream",
     "text": [
      "\r",
      "Processing on GPU 0:  41%|████████████████████████████████████████████▎                                                               | 393/957 [01:28<02:03,  4.56it/s]"
     ]
    },
    {
     "name": "stdout",
     "output_type": "stream",
     "text": [
      "Classifying: Disbonding within part Disbonding within part\n",
      "Top label: Splice gap with confidence score: 0.1738288253545761\n"
     ]
    },
    {
     "name": "stderr",
     "output_type": "stream",
     "text": [
      "\r",
      "Processing on GPU 1:  41%|████████████████████████████████████████████▋                                                               | 395/955 [01:28<02:06,  4.42it/s]"
     ]
    },
    {
     "name": "stdout",
     "output_type": "stream",
     "text": [
      "Classifying: Shelf Life Expired Shelf life expired before cure\n",
      "Top label: Core split with confidence score: 0.18174977600574493\n"
     ]
    },
    {
     "name": "stderr",
     "output_type": "stream",
     "text": [
      "\r",
      "Processing on GPU 0:  41%|████████████████████████████████████████████▍                                                               | 394/957 [01:28<02:03,  4.57it/s]"
     ]
    },
    {
     "name": "stdout",
     "output_type": "stream",
     "text": [
      "Classifying: Surface defects Depression from toolside\n",
      "Top label: Splice gap with confidence score: 0.1399684101343155\n"
     ]
    },
    {
     "name": "stderr",
     "output_type": "stream",
     "text": [
      "\r",
      "Processing on GPU 1:  41%|████████████████████████████████████████████▊                                                               | 396/955 [01:28<02:05,  4.45it/s]"
     ]
    },
    {
     "name": "stdout",
     "output_type": "stream",
     "text": [
      "Classifying: Lay-Up Error  See LT\n",
      "Top label: Core displacement with confidence score: 0.17336711287498474\n"
     ]
    },
    {
     "name": "stderr",
     "output_type": "stream",
     "text": [
      "\r",
      "Processing on GPU 0:  41%|████████████████████████████████████████████▌                                                               | 395/957 [01:28<02:03,  4.55it/s]"
     ]
    },
    {
     "name": "stdout",
     "output_type": "stream",
     "text": [
      "Classifying: Honeycomb geometry complete nodal separation\n",
      "Top label: Separation noodle joint with confidence score: 0.16475149989128113\n"
     ]
    },
    {
     "name": "stderr",
     "output_type": "stream",
     "text": [
      "\r",
      "Processing on GPU 1:  42%|████████████████████████████████████████████▉                                                               | 397/955 [01:28<02:04,  4.47it/s]"
     ]
    },
    {
     "name": "stdout",
     "output_type": "stream",
     "text": [
      "Classifying: Lay-Up Error  See LT\n",
      "Top label: Separation noodle joint with confidence score: 0.4696081280708313\n"
     ]
    },
    {
     "name": "stderr",
     "output_type": "stream",
     "text": [
      "\r",
      "Processing on GPU 0:  41%|████████████████████████████████████████████▋                                                               | 396/957 [01:28<02:03,  4.52it/s]"
     ]
    },
    {
     "name": "stdout",
     "output_type": "stream",
     "text": [
      "Classifying: Honeycomb geometry Core defect\n",
      "Top label: Separation noodle joint with confidence score: 0.16475149989128113\n"
     ]
    },
    {
     "name": "stderr",
     "output_type": "stream",
     "text": [
      "\r",
      "Processing on GPU 1:  42%|█████████████████████████████████████████████                                                               | 398/955 [01:28<02:04,  4.48it/s]"
     ]
    },
    {
     "name": "stdout",
     "output_type": "stream",
     "text": [
      "Classifying: Inclusion (Foreign Material) in reference to 200025162\n",
      "Top label: Core deformation with confidence score: 0.7428478598594666\n"
     ]
    },
    {
     "name": "stderr",
     "output_type": "stream",
     "text": [
      "\r",
      "Processing on GPU 0:  41%|████████████████████████████████████████████▊                                                               | 397/957 [01:28<02:03,  4.54it/s]"
     ]
    },
    {
     "name": "stdout",
     "output_type": "stream",
     "text": [
      "Classifying: Not sufficient flatness Uneven Surface\n",
      "Top label: Foreign Object Damage with confidence score: 0.3392021358013153\n"
     ]
    },
    {
     "name": "stderr",
     "output_type": "stream",
     "text": [
      "\r",
      "Processing on GPU 1:  42%|█████████████████████████████████████████████                                                               | 399/955 [01:29<02:03,  4.49it/s]"
     ]
    },
    {
     "name": "stdout",
     "output_type": "stream",
     "text": [
      "Classifying: Shelf Life Expired Shelf life expired before cure\n",
      "Top label: Core displacement with confidence score: 0.2186627835035324\n"
     ]
    },
    {
     "name": "stderr",
     "output_type": "stream",
     "text": [
      "\r",
      "Processing on GPU 0:  42%|████████████████████████████████████████████▉                                                               | 398/957 [01:29<02:03,  4.54it/s]"
     ]
    },
    {
     "name": "stdout",
     "output_type": "stream",
     "text": [
      "Classifying: Core fill incorrect (Sandwich) NDT Initial Failure\n",
      "Top label: Splice gap with confidence score: 0.1399684101343155\n"
     ]
    },
    {
     "name": "stderr",
     "output_type": "stream",
     "text": [
      "\r",
      "Processing on GPU 1:  42%|█████████████████████████████████████████████▏                                                              | 400/955 [01:29<02:04,  4.47it/s]"
     ]
    },
    {
     "name": "stdout",
     "output_type": "stream",
     "text": [
      "Classifying: Shelf Life Expired Shelf life expired before cure\n",
      "Top label: Core deformation with confidence score: 0.39977455139160156\n"
     ]
    },
    {
     "name": "stderr",
     "output_type": "stream",
     "text": [
      "\r",
      "Processing on GPU 0:  42%|█████████████████████████████████████████████                                                               | 399/957 [01:29<02:02,  4.54it/s]"
     ]
    },
    {
     "name": "stdout",
     "output_type": "stream",
     "text": [
      "Classifying: Honeycomb geometry CORE CRACK FOUND ABOVE SIZE LIMIT\n",
      "Top label: Splice gap with confidence score: 0.1399684101343155\n"
     ]
    },
    {
     "name": "stderr",
     "output_type": "stream",
     "text": [
      "\r",
      "Processing on GPU 1:  42%|█████████████████████████████████████████████▎                                                              | 401/955 [01:29<02:04,  4.46it/s]"
     ]
    },
    {
     "name": "stdout",
     "output_type": "stream",
     "text": [
      "Classifying: Porosity Volumetric Porosity\n",
      "Top label: Core deformation with confidence score: 0.4280107617378235\n"
     ]
    },
    {
     "name": "stderr",
     "output_type": "stream",
     "text": [
      "\r",
      "Processing on GPU 0:  42%|█████████████████████████████████████████████▏                                                              | 400/957 [01:29<02:02,  4.55it/s]"
     ]
    },
    {
     "name": "stdout",
     "output_type": "stream",
     "text": [
      "Classifying: Curing  Thermocouple Erratic Thermocouple failure\n",
      "Top label: Core displacement with confidence score: 0.1835264265537262\n"
     ]
    },
    {
     "name": "stderr",
     "output_type": "stream",
     "text": [
      "\r",
      "Processing on GPU 1:  42%|█████████████████████████████████████████████▍                                                              | 402/955 [01:29<02:03,  4.49it/s]"
     ]
    },
    {
     "name": "stdout",
     "output_type": "stream",
     "text": [
      "Classifying: Wrinkle Wrinkles\n",
      "Top label: Core split with confidence score: 0.18788626790046692\n"
     ]
    },
    {
     "name": "stderr",
     "output_type": "stream",
     "text": [
      "\r",
      "Processing on GPU 0:  42%|█████████████████████████████████████████████▎                                                              | 401/957 [01:29<02:02,  4.54it/s]"
     ]
    },
    {
     "name": "stdout",
     "output_type": "stream",
     "text": [
      "Classifying: Expired Material Mat. work life expired before final bag\n",
      "Top label: Resin buildup with confidence score: 0.2258836030960083\n"
     ]
    },
    {
     "name": "stderr",
     "output_type": "stream",
     "text": [
      "\r",
      "Processing on GPU 1:  42%|█████████████████████████████████████████████▌                                                              | 403/955 [01:30<02:03,  4.48it/s]"
     ]
    },
    {
     "name": "stdout",
     "output_type": "stream",
     "text": [
      "Classifying: Core Step Core Step\n",
      "Top label: Splice gap with confidence score: 0.16105759143829346\n"
     ]
    },
    {
     "name": "stderr",
     "output_type": "stream",
     "text": [
      "\r",
      "Processing on GPU 0:  42%|█████████████████████████████████████████████▎                                                              | 402/957 [01:30<02:02,  4.53it/s]"
     ]
    },
    {
     "name": "stdout",
     "output_type": "stream",
     "text": [
      "Classifying: Surface defects Discoloration on tool side\n",
      "Top label: Core split with confidence score: 0.5320346355438232\n"
     ]
    },
    {
     "name": "stderr",
     "output_type": "stream",
     "text": [
      "\r",
      "Processing on GPU 1:  42%|█████████████████████████████████████████████▋                                                              | 404/955 [01:30<02:02,  4.48it/s]"
     ]
    },
    {
     "name": "stdout",
     "output_type": "stream",
     "text": [
      "Top label: Splice gap with confidence score: 0.17603491246700287Classifying: Porosity VOLUMETRIC POROSITY BEYOND ACC. LIMIT\n",
      "\n"
     ]
    },
    {
     "name": "stderr",
     "output_type": "stream",
     "text": [
      "\r",
      "Processing on GPU 0:  42%|█████████████████████████████████████████████▍                                                              | 403/957 [01:30<02:02,  4.53it/s]"
     ]
    },
    {
     "name": "stdout",
     "output_type": "stream",
     "text": [
      "Classifying: Core fill incorrect (Sandwich) NDT Initial Failure\n",
      "Top label: Core displacement with confidence score: 0.20531266927719116Top label: Core deformation with confidence score: 0.39977455139160156\n",
      "\n"
     ]
    },
    {
     "name": "stderr",
     "output_type": "stream",
     "text": [
      "Processing on GPU 0:  42%|█████████████████████████████████████████████▌                                                              | 404/957 [01:30<02:02,  4.52it/s]"
     ]
    },
    {
     "name": "stdout",
     "output_type": "stream",
     "text": [
      "Classifying: Disbond DisbondClassifying: Core fill incorrect (Sandwich) NDT Initial Failure\n",
      "\n",
      "Top label: Core deformation with confidence score: 0.39977455139160156Top label: Core split with confidence score: 0.2206205129623413\n",
      "\n"
     ]
    },
    {
     "name": "stderr",
     "output_type": "stream",
     "text": [
      "Processing on GPU 1:  43%|█████████████████████████████████████████████▉                                                              | 406/955 [01:30<02:02,  4.47it/s]"
     ]
    },
    {
     "name": "stdout",
     "output_type": "stream",
     "text": [
      "Classifying: Delamination DelaminationClassifying: Core fill incorrect (Sandwich) NDT Initial Failure\n",
      "\n",
      "Top label: Resin buildup with confidence score: 0.28864264488220215\n",
      "Top label: Core deformation with confidence score: 0.39977455139160156"
     ]
    },
    {
     "name": "stderr",
     "output_type": "stream",
     "text": [
      "\r",
      "Processing on GPU 1:  43%|██████████████████████████████████████████████                                                              | 407/955 [01:30<02:02,  4.47it/s]"
     ]
    },
    {
     "name": "stdout",
     "output_type": "stream",
     "text": [
      "\n"
     ]
    },
    {
     "name": "stderr",
     "output_type": "stream",
     "text": [
      "\r",
      "Processing on GPU 0:  42%|█████████████████████████████████████████████▊                                                              | 406/957 [01:30<02:02,  4.49it/s]"
     ]
    },
    {
     "name": "stdout",
     "output_type": "stream",
     "text": [
      "Classifying: Wrinkle WrinklesClassifying: Core fill incorrect (Sandwich) NDT Initial Failure\n",
      "\n",
      "Top label: Resin buildup with confidence score: 0.2258836030960083Top label: Core deformation with confidence score: 0.39977455139160156\n",
      "\n"
     ]
    },
    {
     "name": "stderr",
     "output_type": "stream",
     "text": [
      "\r",
      "Processing on GPU 1:  43%|██████████████████████████████████████████████▏                                                             | 408/955 [01:31<02:02,  4.46it/s]"
     ]
    },
    {
     "name": "stdout",
     "output_type": "stream",
     "text": [
      "Classifying: Disbond Delamination changed to disbond"
     ]
    },
    {
     "name": "stderr",
     "output_type": "stream",
     "text": [
      "\r",
      "Processing on GPU 0:  43%|█████████████████████████████████████████████▉                                                              | 407/957 [01:31<02:02,  4.48it/s]"
     ]
    },
    {
     "name": "stdout",
     "output_type": "stream",
     "text": [
      "\n",
      "Classifying: Honeycomb geometry core template re-manufactured\n",
      "Top label: Foreign Object Damage with confidence score: 0.21995028853416443\n",
      "Top label: Core displacement with confidence score: 0.41603586077690125"
     ]
    },
    {
     "name": "stderr",
     "output_type": "stream",
     "text": [
      "\r",
      "Processing on GPU 1:  43%|██████████████████████████████████████████████▎                                                             | 409/955 [01:31<02:01,  4.48it/s]"
     ]
    },
    {
     "name": "stdout",
     "output_type": "stream",
     "text": [
      "\n",
      "Classifying: Porosity Layer porosity"
     ]
    },
    {
     "name": "stderr",
     "output_type": "stream",
     "text": [
      "\r",
      "Processing on GPU 0:  43%|██████████████████████████████████████████████                                                              | 408/957 [01:31<02:02,  4.47it/s]"
     ]
    },
    {
     "name": "stdout",
     "output_type": "stream",
     "text": [
      "Classifying: Expired Material Mat. work life expired before final bag\n",
      "\n",
      "Top label: Core deformation with confidence score: 0.18004466593265533Top label: Splice gap with confidence score: 0.16105759143829346\n"
     ]
    },
    {
     "name": "stderr",
     "output_type": "stream",
     "text": [
      "\r",
      "Processing on GPU 1:  43%|██████████████████████████████████████████████▎                                                             | 410/955 [01:31<02:02,  4.46it/s]"
     ]
    },
    {
     "name": "stdout",
     "output_type": "stream",
     "text": [
      "\n",
      "Classifying: Wrinkle Wrinkle"
     ]
    },
    {
     "name": "stderr",
     "output_type": "stream",
     "text": [
      "\r",
      "Processing on GPU 0:  43%|██████████████████████████████████████████████▏                                                             | 409/957 [01:31<02:02,  4.47it/s]"
     ]
    },
    {
     "name": "stdout",
     "output_type": "stream",
     "text": [
      "\n",
      "Classifying: Composite ply laser sequence not per drawing\n",
      "Top label: Core split with confidence score: 0.19982367753982544\n",
      "Top label: Resin buildup with confidence score: 0.16224871575832367"
     ]
    },
    {
     "name": "stderr",
     "output_type": "stream",
     "text": [
      "\r",
      "Processing on GPU 1:  43%|██████████████████████████████████████████████▍                                                             | 411/955 [01:31<02:01,  4.46it/s]"
     ]
    },
    {
     "name": "stdout",
     "output_type": "stream",
     "text": [
      "\n",
      "Classifying: Disbond Disbond"
     ]
    },
    {
     "name": "stderr",
     "output_type": "stream",
     "text": [
      "\r",
      "Processing on GPU 0:  43%|██████████████████████████████████████████████▎                                                             | 410/957 [01:31<02:02,  4.46it/s]"
     ]
    },
    {
     "name": "stdout",
     "output_type": "stream",
     "text": [
      "\n",
      "Classifying: Honeycomb geometry Core defect\n",
      "Top label: Core split with confidence score: 0.2206205129623413\n"
     ]
    },
    {
     "name": "stderr",
     "output_type": "stream",
     "text": [
      "\r",
      "Processing on GPU 1:  43%|██████████████████████████████████████████████▌                                                             | 412/955 [01:32<02:01,  4.48it/s]"
     ]
    },
    {
     "name": "stdout",
     "output_type": "stream",
     "text": [
      "Classifying: Foreign Object Damage Foreign Objects in Part\n",
      "Top label: Core deformation with confidence score: 0.7428478598594666\n"
     ]
    },
    {
     "name": "stderr",
     "output_type": "stream",
     "text": [
      "\r",
      "Processing on GPU 0:  43%|██████████████████████████████████████████████▍                                                             | 411/957 [01:32<02:02,  4.45it/s]"
     ]
    },
    {
     "name": "stdout",
     "output_type": "stream",
     "text": [
      "Classifying: Impact impact damage\n",
      "Top label: Foreign Object Damage with confidence score: 0.846275806427002\n",
      "Top label: Foreign Object Damage with confidence score: 0.1884203851222992"
     ]
    },
    {
     "name": "stderr",
     "output_type": "stream",
     "text": [
      "\r",
      "Processing on GPU 1:  43%|██████████████████████████████████████████████▋                                                             | 413/955 [01:32<02:01,  4.46it/s]"
     ]
    },
    {
     "name": "stdout",
     "output_type": "stream",
     "text": [
      "\n",
      "Classifying: Delamination Delamination on the contour"
     ]
    },
    {
     "name": "stderr",
     "output_type": "stream",
     "text": [
      "\r",
      "Processing on GPU 0:  43%|██████████████████████████████████████████████▍                                                             | 412/957 [01:32<02:02,  4.47it/s]"
     ]
    },
    {
     "name": "stdout",
     "output_type": "stream",
     "text": [
      "\n",
      "Classifying: Process Qualification Core chamfer angle reduction\n",
      "Top label: Resin buildup with confidence score: 0.284986674785614\n"
     ]
    },
    {
     "name": "stderr",
     "output_type": "stream",
     "text": [
      "\r",
      "Processing on GPU 1:  43%|██████████████████████████████████████████████▊                                                             | 414/955 [01:32<02:00,  4.49it/s]"
     ]
    },
    {
     "name": "stdout",
     "output_type": "stream",
     "text": [
      "Classifying: Inclusion (Foreign Material) nan\n",
      "Top label: Core deformation with confidence score: 0.5511087775230408\n"
     ]
    },
    {
     "name": "stderr",
     "output_type": "stream",
     "text": [
      "\r",
      "Processing on GPU 0:  43%|██████████████████████████████████████████████▌                                                             | 413/957 [01:32<02:03,  4.42it/s]"
     ]
    },
    {
     "name": "stdout",
     "output_type": "stream",
     "text": [
      "Classifying: Material Missing or Incorrect positioned SPLICE LINE DEFECT ABOVE THE LIMIT\n",
      "Top label: Foreign Object Damage with confidence score: 0.1935613602399826\n"
     ]
    },
    {
     "name": "stderr",
     "output_type": "stream",
     "text": [
      "\r",
      "Processing on GPU 1:  43%|██████████████████████████████████████████████▉                                                             | 415/955 [01:32<02:00,  4.49it/s]"
     ]
    },
    {
     "name": "stdout",
     "output_type": "stream",
     "text": [
      "Classifying: Disbond Disbond\n",
      "Top label: Splice gap with confidence score: 0.8342993855476379\n"
     ]
    },
    {
     "name": "stderr",
     "output_type": "stream",
     "text": [
      "\r",
      "Processing on GPU 0:  43%|██████████████████████████████████████████████▋                                                             | 414/957 [01:32<02:01,  4.46it/s]"
     ]
    },
    {
     "name": "stdout",
     "output_type": "stream",
     "text": [
      "Classifying: Volume Porosity Volume Porosity above the limit\n",
      "Top label: Core split with confidence score: 0.2206205129623413\n"
     ]
    },
    {
     "name": "stderr",
     "output_type": "stream",
     "text": [
      "\r",
      "Processing on GPU 1:  44%|███████████████████████████████████████████████                                                             | 416/955 [01:33<01:59,  4.52it/s]"
     ]
    },
    {
     "name": "stdout",
     "output_type": "stream",
     "text": [
      "Classifying: Core Damage, Torn Nodal Joints torn nodal joints, SPLICE DEFECT\n",
      "Top label: Resin buildup with confidence score: 0.18289771676063538\n"
     ]
    },
    {
     "name": "stderr",
     "output_type": "stream",
     "text": [
      "\r",
      "Processing on GPU 0:  43%|██████████████████████████████████████████████▊                                                             | 415/957 [01:32<02:02,  4.42it/s]"
     ]
    },
    {
     "name": "stdout",
     "output_type": "stream",
     "text": [
      "Classifying: Disbonding within part Disbonding above size limit\n",
      "Top label: Core deformation with confidence score: 0.33051976561546326\n"
     ]
    },
    {
     "name": "stderr",
     "output_type": "stream",
     "text": [
      "\r",
      "Processing on GPU 1:  44%|███████████████████████████████████████████████▏                                                            | 417/955 [01:33<01:59,  4.52it/s]"
     ]
    },
    {
     "name": "stdout",
     "output_type": "stream",
     "text": [
      "Classifying: Disbond Disbond\n",
      "Top label: Core displacement with confidence score: 0.16984769701957703\n"
     ]
    },
    {
     "name": "stderr",
     "output_type": "stream",
     "text": [
      "\r",
      "Processing on GPU 0:  43%|██████████████████████████████████████████████▉                                                             | 416/957 [01:33<02:01,  4.44it/s]"
     ]
    },
    {
     "name": "stdout",
     "output_type": "stream",
     "text": [
      "Classifying: Incorrect content ply not per drawing\n",
      "Top label: Core split with confidence score: 0.2206205129623413\n"
     ]
    },
    {
     "name": "stderr",
     "output_type": "stream",
     "text": [
      "\r",
      "Processing on GPU 1:  44%|███████████████████████████████████████████████▎                                                            | 418/955 [01:33<01:58,  4.52it/s]"
     ]
    },
    {
     "name": "stdout",
     "output_type": "stream",
     "text": [
      "Classifying: Shelf Life Expired Shelf life expired before curing\n",
      "Top label: Separation noodle joint with confidence score: 0.1772034466266632\n"
     ]
    },
    {
     "name": "stderr",
     "output_type": "stream",
     "text": [
      "\r",
      "Processing on GPU 0:  44%|███████████████████████████████████████████████                                                             | 417/957 [01:33<02:00,  4.47it/s]"
     ]
    },
    {
     "name": "stdout",
     "output_type": "stream",
     "text": [
      "Classifying: Surface defects Depression in tool side\n",
      "Top label: Separation noodle joint with confidence score: 0.15353600680828094\n"
     ]
    },
    {
     "name": "stderr",
     "output_type": "stream",
     "text": [
      "\r",
      "Processing on GPU 1:  44%|███████████████████████████████████████████████▍                                                            | 419/955 [01:33<01:58,  4.51it/s]"
     ]
    },
    {
     "name": "stdout",
     "output_type": "stream",
     "text": [
      "Classifying: Bag Leak Vacuum leak during cool down\n",
      "Top label: Core displacement with confidence score: 0.19845972955226898\n"
     ]
    },
    {
     "name": "stderr",
     "output_type": "stream",
     "text": [
      "\r",
      "Processing on GPU 0:  44%|███████████████████████████████████████████████▏                                                            | 418/957 [01:33<02:00,  4.48it/s]"
     ]
    },
    {
     "name": "stdout",
     "output_type": "stream",
     "text": [
      "Classifying: Process Qualification lay-up in closed tool_ISS-0006020\n",
      "Top label: Foreign Object Damage with confidence score: 0.16062194108963013\n"
     ]
    },
    {
     "name": "stderr",
     "output_type": "stream",
     "text": [
      "\r",
      "Processing on GPU 1:  44%|███████████████████████████████████████████████▍                                                            | 420/955 [01:33<01:58,  4.51it/s]"
     ]
    },
    {
     "name": "stdout",
     "output_type": "stream",
     "text": [
      "Classifying: Foreign Object Damage Foreign Objects in Part\n",
      "Top label: Separation noodle joint with confidence score: 0.15509633719921112\n"
     ]
    },
    {
     "name": "stderr",
     "output_type": "stream",
     "text": [
      "\r",
      "Processing on GPU 0:  44%|███████████████████████████████████████████████▎                                                            | 419/957 [01:33<02:00,  4.46it/s]"
     ]
    },
    {
     "name": "stdout",
     "output_type": "stream",
     "text": [
      "Classifying: Wrinkles Wrinkles\n",
      "Top label: Foreign Object Damage with confidence score: 0.846275806427002\n"
     ]
    },
    {
     "name": "stderr",
     "output_type": "stream",
     "text": [
      "\r",
      "Processing on GPU 1:  44%|███████████████████████████████████████████████▌                                                            | 421/955 [01:34<01:57,  4.55it/s]"
     ]
    },
    {
     "name": "stdout",
     "output_type": "stream",
     "text": [
      "Classifying: Autoclave Cure Not Per Procedure cycle not per procedure\n",
      "Top label: Resin buildup with confidence score: 0.1902356743812561\n"
     ]
    },
    {
     "name": "stderr",
     "output_type": "stream",
     "text": [
      "\r",
      "Processing on GPU 0:  44%|███████████████████████████████████████████████▍                                                            | 420/957 [01:34<02:01,  4.41it/s]"
     ]
    },
    {
     "name": "stdout",
     "output_type": "stream",
     "text": [
      "Classifying: Ply position Wrong Ply Positioning\n",
      "Top label: Core split with confidence score: 0.20665380358695984\n"
     ]
    },
    {
     "name": "stderr",
     "output_type": "stream",
     "text": [
      "\r",
      "Processing on GPU 1:  44%|███████████████████████████████████████████████▋                                                            | 422/955 [01:34<01:55,  4.60it/s]"
     ]
    },
    {
     "name": "stdout",
     "output_type": "stream",
     "text": [
      "Classifying: Dwell Too Long Dwell too long\n",
      "Top label: Core displacement with confidence score: 0.246932715177536\n"
     ]
    },
    {
     "name": "stderr",
     "output_type": "stream",
     "text": [
      "\r",
      "Processing on GPU 0:  44%|███████████████████████████████████████████████▌                                                            | 421/957 [01:34<02:02,  4.37it/s]"
     ]
    },
    {
     "name": "stdout",
     "output_type": "stream",
     "text": [
      "Classifying: Incorrect content ply not per drawing\n",
      "Top label: Core deformation with confidence score: 0.17797939479351044\n"
     ]
    },
    {
     "name": "stderr",
     "output_type": "stream",
     "text": [
      "\r",
      "Processing on GPU 1:  44%|███████████████████████████████████████████████▊                                                            | 423/955 [01:34<01:56,  4.59it/s]"
     ]
    },
    {
     "name": "stdout",
     "output_type": "stream",
     "text": [
      "Classifying: Shelf Life Expired Shelf life expired before curing\n",
      "Top label: Separation noodle joint with confidence score: 0.1772034466266632\n"
     ]
    },
    {
     "name": "stderr",
     "output_type": "stream",
     "text": [
      "\r",
      "Processing on GPU 0:  44%|███████████████████████████████████████████████▌                                                            | 422/957 [01:34<02:01,  4.41it/s]"
     ]
    },
    {
     "name": "stdout",
     "output_type": "stream",
     "text": [
      "Classifying: Surface defects Depression in tool side\n",
      "Top label: Separation noodle joint with confidence score: 0.15353600680828094\n"
     ]
    },
    {
     "name": "stderr",
     "output_type": "stream",
     "text": [
      "\r",
      "Processing on GPU 1:  44%|███████████████████████████████████████████████▉                                                            | 424/955 [01:34<01:56,  4.56it/s]"
     ]
    },
    {
     "name": "stdout",
     "output_type": "stream",
     "text": [
      "Classifying: Delamination NDT Initial Failure\n",
      "Top label: Core displacement with confidence score: 0.19845972955226898\n"
     ]
    },
    {
     "name": "stderr",
     "output_type": "stream",
     "text": [
      "\r",
      "Processing on GPU 0:  44%|███████████████████████████████████████████████▋                                                            | 423/957 [01:34<02:00,  4.45it/s]"
     ]
    },
    {
     "name": "stdout",
     "output_type": "stream",
     "text": [
      "Classifying: Honeycomb geometry CORE SAG\n",
      "Top label: Separation noodle joint with confidence score: 0.23277020454406738\n"
     ]
    },
    {
     "name": "stderr",
     "output_type": "stream",
     "text": [
      "\r",
      "Processing on GPU 1:  45%|████████████████████████████████████████████████                                                            | 425/955 [01:34<01:56,  4.56it/s]"
     ]
    },
    {
     "name": "stdout",
     "output_type": "stream",
     "text": [
      "Classifying: Mislocated (Or Extra Hole) see long text\n",
      "Top label: Core deformation with confidence score: 0.4482910931110382\n"
     ]
    },
    {
     "name": "stderr",
     "output_type": "stream",
     "text": [
      "\r",
      "Processing on GPU 0:  44%|███████████████████████████████████████████████▊                                                            | 424/957 [01:35<01:59,  4.45it/s]"
     ]
    },
    {
     "name": "stdout",
     "output_type": "stream",
     "text": [
      "Classifying: Qualification Loft failure\n",
      "Top label: Foreign Object Damage with confidence score: 0.2903117537498474\n"
     ]
    },
    {
     "name": "stderr",
     "output_type": "stream",
     "text": [
      "\r",
      "Processing on GPU 1:  45%|████████████████████████████████████████████████▏                                                           | 426/955 [01:35<01:56,  4.54it/s]"
     ]
    },
    {
     "name": "stdout",
     "output_type": "stream",
     "text": [
      "Classifying: Over Sanded over trimming of core during repair\n",
      "Top label: Core displacement with confidence score: 0.225460484623909\n"
     ]
    },
    {
     "name": "stderr",
     "output_type": "stream",
     "text": [
      "\r",
      "Processing on GPU 0:  44%|███████████████████████████████████████████████▉                                                            | 425/957 [01:35<01:58,  4.48it/s]"
     ]
    },
    {
     "name": "stdout",
     "output_type": "stream",
     "text": [
      "Classifying: Honeycomb geometry Core Sag\n",
      "Top label: Core deformation with confidence score: 0.3787858784198761\n"
     ]
    },
    {
     "name": "stderr",
     "output_type": "stream",
     "text": [
      "\r",
      "Processing on GPU 1:  45%|████████████████████████████████████████████████▎                                                           | 427/955 [01:35<01:56,  4.52it/s]"
     ]
    },
    {
     "name": "stdout",
     "output_type": "stream",
     "text": [
      "Classifying: Lay-Up Error core depression\n",
      "Top label: Core deformation with confidence score: 0.5280296802520752\n"
     ]
    },
    {
     "name": "stderr",
     "output_type": "stream",
     "text": [
      "\r",
      "Processing on GPU 0:  45%|████████████████████████████████████████████████                                                            | 426/957 [01:35<01:59,  4.45it/s]"
     ]
    },
    {
     "name": "stdout",
     "output_type": "stream",
     "text": [
      "Classifying: Wrinkles Wrinkles\n",
      "Top label: Core crash with confidence score: 0.3344818949699402\n"
     ]
    },
    {
     "name": "stderr",
     "output_type": "stream",
     "text": [
      "\r",
      "Processing on GPU 1:  45%|████████████████████████████████████████████████▍                                                           | 428/955 [01:35<01:55,  4.56it/s]"
     ]
    },
    {
     "name": "stdout",
     "output_type": "stream",
     "text": [
      "Classifying: Delamination re raise concession with new part number\n",
      "Top label: Resin buildup with confidence score: 0.1902356743812561\n"
     ]
    },
    {
     "name": "stderr",
     "output_type": "stream",
     "text": [
      "\r",
      "Processing on GPU 0:  45%|████████████████████████████████████████████████▏                                                           | 427/957 [01:35<01:58,  4.46it/s]"
     ]
    },
    {
     "name": "stdout",
     "output_type": "stream",
     "text": [
      "Classifying: Curing Vacuum Vacuum leak\n",
      "Top label: Foreign Object Damage with confidence score: 0.268562912940979\n"
     ]
    },
    {
     "name": "stderr",
     "output_type": "stream",
     "text": [
      "\r",
      "Processing on GPU 1:  45%|████████████████████████████████████████████████▌                                                           | 429/955 [01:35<01:56,  4.52it/s]"
     ]
    },
    {
     "name": "stdout",
     "output_type": "stream",
     "text": [
      "Classifying: Porosity NDT Second Failure\n",
      "Top label: Core displacement with confidence score: 0.1715996265411377\n"
     ]
    },
    {
     "name": "stderr",
     "output_type": "stream",
     "text": [
      "\r",
      "Processing on GPU 0:  45%|████████████████████████████████████████████████▎                                                           | 428/957 [01:35<01:58,  4.48it/s]"
     ]
    },
    {
     "name": "stdout",
     "output_type": "stream",
     "text": [
      "Classifying: Disbonding within part Disbond on toolside\n",
      "Top label: Separation noodle joint with confidence score: 0.2786901593208313\n"
     ]
    },
    {
     "name": "stderr",
     "output_type": "stream",
     "text": [
      "\r",
      "Processing on GPU 1:  45%|████████████████████████████████████████████████▋                                                           | 430/955 [01:36<01:56,  4.52it/s]"
     ]
    },
    {
     "name": "stdout",
     "output_type": "stream",
     "text": [
      "Classifying: Dents Over Splice Lines core deprresion\n",
      "Top label: Separation noodle joint with confidence score: 0.1753552407026291\n"
     ]
    },
    {
     "name": "stderr",
     "output_type": "stream",
     "text": [
      "\r",
      "Processing on GPU 0:  45%|████████████████████████████████████████████████▍                                                           | 429/957 [01:36<01:57,  4.49it/s]"
     ]
    },
    {
     "name": "stdout",
     "output_type": "stream",
     "text": [
      "Classifying: Material Missing or Incorrect positioned SPLICE LINE DEFET\n",
      "Top label: Core deformation with confidence score: 0.42636752128601074\n"
     ]
    },
    {
     "name": "stderr",
     "output_type": "stream",
     "text": [
      "\r",
      "Processing on GPU 1:  45%|████████████████████████████████████████████████▋                                                           | 431/955 [01:36<01:55,  4.54it/s]"
     ]
    },
    {
     "name": "stdout",
     "output_type": "stream",
     "text": [
      "Classifying: Rejectable Ultrasonic Inspection Indicat second failure\n",
      "Top label: Splice gap with confidence score: 0.5966928601264954\n"
     ]
    },
    {
     "name": "stderr",
     "output_type": "stream",
     "text": [
      "\r",
      "Processing on GPU 0:  45%|████████████████████████████████████████████████▌                                                           | 430/957 [01:36<01:58,  4.44it/s]"
     ]
    },
    {
     "name": "stdout",
     "output_type": "stream",
     "text": [
      "Classifying: Volume Porosity volumetric porosity above limit\n",
      "Top label: Foreign Object Damage with confidence score: 0.20362183451652527\n"
     ]
    },
    {
     "name": "stderr",
     "output_type": "stream",
     "text": [
      "\r",
      "Processing on GPU 1:  45%|████████████████████████████████████████████████▊                                                           | 432/955 [01:36<01:54,  4.55it/s]"
     ]
    },
    {
     "name": "stdout",
     "output_type": "stream",
     "text": [
      "Classifying: Rejectable Ultrasonic Inspection Indicat Initial failure\n",
      "Top label: Core displacement with confidence score: 0.16303002834320068\n"
     ]
    },
    {
     "name": "stderr",
     "output_type": "stream",
     "text": [
      "\r",
      "Processing on GPU 0:  45%|████████████████████████████████████████████████▋                                                           | 431/957 [01:36<01:58,  4.46it/s]"
     ]
    },
    {
     "name": "stdout",
     "output_type": "stream",
     "text": [
      "Classifying: Curing Vacuum No trace of vacuum leak could be found\n",
      "Top label: Foreign Object Damage with confidence score: 0.18866783380508423\n"
     ]
    },
    {
     "name": "stderr",
     "output_type": "stream",
     "text": [
      "\r",
      "Processing on GPU 1:  45%|████████████████████████████████████████████████▉                                                           | 433/955 [01:36<01:54,  4.56it/s]"
     ]
    },
    {
     "name": "stdout",
     "output_type": "stream",
     "text": [
      "Classifying: Disbond NDT Initial Failure\n",
      "Top label: Splice gap with confidence score: 0.17398197948932648\n"
     ]
    },
    {
     "name": "stderr",
     "output_type": "stream",
     "text": [
      "\r",
      "Processing on GPU 0:  45%|████████████████████████████████████████████████▊                                                           | 432/957 [01:36<01:57,  4.46it/s]"
     ]
    },
    {
     "name": "stdout",
     "output_type": "stream",
     "text": [
      "Classifying: Honeycomb geometry core sagging\n",
      "Top label: Core deformation with confidence score: 0.19701813161373138\n"
     ]
    },
    {
     "name": "stderr",
     "output_type": "stream",
     "text": [
      "\r",
      "Processing on GPU 1:  45%|█████████████████████████████████████████████████                                                           | 434/955 [01:36<01:54,  4.56it/s]"
     ]
    },
    {
     "name": "stdout",
     "output_type": "stream",
     "text": [
      "Classifying: Lay-Up Error see long text\n",
      "Top label: Core deformation with confidence score: 0.5423392653465271\n"
     ]
    },
    {
     "name": "stderr",
     "output_type": "stream",
     "text": [
      "\r",
      "Processing on GPU 0:  45%|████████████████████████████████████████████████▊                                                           | 433/957 [01:37<01:57,  4.47it/s]"
     ]
    },
    {
     "name": "stdout",
     "output_type": "stream",
     "text": [
      "Classifying: Identification Missing Identification\n",
      "Top label: Splice gap with confidence score: 0.1964993178844452\n"
     ]
    },
    {
     "name": "stderr",
     "output_type": "stream",
     "text": [
      "\r",
      "Processing on GPU 1:  46%|█████████████████████████████████████████████████▏                                                          | 435/955 [01:37<01:54,  4.55it/s]"
     ]
    },
    {
     "name": "stdout",
     "output_type": "stream",
     "text": [
      "Classifying: Rejectable Ultrasonic Inspection Indicat NDT Initial Failure\n",
      "Top label: Splice gap with confidence score: 0.47893378138542175\n"
     ]
    },
    {
     "name": "stderr",
     "output_type": "stream",
     "text": [
      "\r",
      "Processing on GPU 0:  45%|████████████████████████████████████████████████▉                                                           | 434/957 [01:37<01:55,  4.51it/s]"
     ]
    },
    {
     "name": "stdout",
     "output_type": "stream",
     "text": [
      "Classifying: foil-/ foreign-inclusion detected Suspected FOD.\n",
      "Top label: Separation noodle joint with confidence score: 0.1780286580324173\n"
     ]
    },
    {
     "name": "stderr",
     "output_type": "stream",
     "text": [
      "\r",
      "Processing on GPU 1:  46%|█████████████████████████████████████████████████▎                                                          | 436/955 [01:37<01:53,  4.55it/s]"
     ]
    },
    {
     "name": "stdout",
     "output_type": "stream",
     "text": [
      "Classifying: Core / Shaft Damaged Core surface damage\n",
      "Top label: Foreign Object Damage with confidence score: 0.5901984572410583\n"
     ]
    },
    {
     "name": "stderr",
     "output_type": "stream",
     "text": [
      "\r",
      "Processing on GPU 0:  45%|█████████████████████████████████████████████████                                                           | 435/957 [01:37<01:57,  4.45it/s]"
     ]
    },
    {
     "name": "stdout",
     "output_type": "stream",
     "text": [
      "Classifying: Honeycomb geometry Unidentify Ultrasonic Defect - UUI\n",
      "Top label: Core deformation with confidence score: 0.760267436504364\n"
     ]
    },
    {
     "name": "stderr",
     "output_type": "stream",
     "text": [
      "\r",
      "Processing on GPU 1:  46%|█████████████████████████████████████████████████▍                                                          | 437/955 [01:37<01:53,  4.57it/s]"
     ]
    },
    {
     "name": "stdout",
     "output_type": "stream",
     "text": [
      "Classifying: Ply Wrinkle see long text\n",
      "Top label: Core displacement with confidence score: 0.1531917303800583\n"
     ]
    },
    {
     "name": "stderr",
     "output_type": "stream",
     "text": [
      "\r",
      "Processing on GPU 0:  46%|█████████████████████████████████████████████████▏                                                          | 436/957 [01:37<01:57,  4.44it/s]"
     ]
    },
    {
     "name": "stdout",
     "output_type": "stream",
     "text": [
      "Classifying: Curing Time Long Dwell\n",
      "Top label: Foreign Object Damage with confidence score: 0.22678668797016144\n"
     ]
    },
    {
     "name": "stderr",
     "output_type": "stream",
     "text": [
      "\r",
      "Processing on GPU 1:  46%|█████████████████████████████████████████████████▌                                                          | 438/955 [01:37<01:53,  4.56it/s]"
     ]
    },
    {
     "name": "stdout",
     "output_type": "stream",
     "text": [
      "Classifying: Core Damage, Torn Nodal Joints Core Defect\n",
      "Top label: Resin buildup with confidence score: 0.3475882411003113\n"
     ]
    },
    {
     "name": "stderr",
     "output_type": "stream",
     "text": [
      "\r",
      "Processing on GPU 0:  46%|█████████████████████████████████████████████████▎                                                          | 437/957 [01:37<01:56,  4.46it/s]"
     ]
    },
    {
     "name": "stdout",
     "output_type": "stream",
     "text": [
      "Classifying: Surface defects surface defect\n",
      "Top label: Core deformation with confidence score: 0.6340965628623962\n"
     ]
    },
    {
     "name": "stderr",
     "output_type": "stream",
     "text": [
      "\r",
      "Processing on GPU 1:  46%|█████████████████████████████████████████████████▋                                                          | 439/955 [01:38<01:53,  4.56it/s]"
     ]
    },
    {
     "name": "stdout",
     "output_type": "stream",
     "text": [
      "Classifying: Disbond Disbond found on Assembly\n",
      "Top label: Separation noodle joint with confidence score: 0.1427227258682251\n"
     ]
    },
    {
     "name": "stderr",
     "output_type": "stream",
     "text": [
      "\r",
      "Processing on GPU 0:  46%|█████████████████████████████████████████████████▍                                                          | 438/957 [01:38<01:57,  4.43it/s]"
     ]
    },
    {
     "name": "stdout",
     "output_type": "stream",
     "text": [
      "Classifying: Incorrect content Modification not accepted\n",
      "Top label: Separation noodle joint with confidence score: 0.1918776035308838\n"
     ]
    },
    {
     "name": "stderr",
     "output_type": "stream",
     "text": [
      "\r",
      "Processing on GPU 1:  46%|█████████████████████████████████████████████████▊                                                          | 440/955 [01:38<01:53,  4.55it/s]"
     ]
    },
    {
     "name": "stdout",
     "output_type": "stream",
     "text": [
      "Classifying: Core Step core step during layup\n",
      "Top label: Core split with confidence score: 0.15544283390045166\n"
     ]
    },
    {
     "name": "stderr",
     "output_type": "stream",
     "text": [
      "\r",
      "Processing on GPU 0:  46%|█████████████████████████████████████████████████▌                                                          | 439/957 [01:38<01:56,  4.43it/s]"
     ]
    },
    {
     "name": "stdout",
     "output_type": "stream",
     "text": [
      "Classifying: Incorrect content Modification not accepted\n",
      "Top label: Core deformation with confidence score: 0.6788076162338257\n"
     ]
    },
    {
     "name": "stderr",
     "output_type": "stream",
     "text": [
      "\r",
      "Processing on GPU 1:  46%|█████████████████████████████████████████████████▊                                                          | 441/955 [01:38<01:52,  4.56it/s]"
     ]
    },
    {
     "name": "stdout",
     "output_type": "stream",
     "text": [
      "Classifying: Shelf Life Expired Shelf life expired before curing\n",
      "Top label: Core split with confidence score: 0.15544283390045166\n"
     ]
    },
    {
     "name": "stderr",
     "output_type": "stream",
     "text": [
      "\r",
      "Processing on GPU 0:  46%|█████████████████████████████████████████████████▋                                                          | 440/957 [01:38<01:57,  4.41it/s]"
     ]
    },
    {
     "name": "stdout",
     "output_type": "stream",
     "text": [
      "Classifying: Surface defects Peel ply strucked\n",
      "Top label: Separation noodle joint with confidence score: 0.15353600680828094\n"
     ]
    },
    {
     "name": "stderr",
     "output_type": "stream",
     "text": [
      "\r",
      "Processing on GPU 1:  46%|█████████████████████████████████████████████████▉                                                          | 442/955 [01:38<01:52,  4.57it/s]"
     ]
    },
    {
     "name": "stdout",
     "output_type": "stream",
     "text": [
      "Classifying: Core Damage, Torn Nodal Joints Core crack\n",
      "Top label: Separation noodle joint with confidence score: 0.1820230931043625\n"
     ]
    },
    {
     "name": "stderr",
     "output_type": "stream",
     "text": [
      "\r",
      "Processing on GPU 0:  46%|█████████████████████████████████████████████████▊                                                          | 441/957 [01:38<01:55,  4.46it/s]"
     ]
    },
    {
     "name": "stdout",
     "output_type": "stream",
     "text": [
      "Classifying: Surface defects surface defect\n",
      "Top label: Core deformation with confidence score: 0.5574743747711182\n"
     ]
    },
    {
     "name": "stderr",
     "output_type": "stream",
     "text": [
      "\r",
      "Processing on GPU 1:  46%|██████████████████████████████████████████████████                                                          | 443/955 [01:38<01:53,  4.53it/s]"
     ]
    },
    {
     "name": "stdout",
     "output_type": "stream",
     "text": [
      "Classifying: Delamination NDT Initial Failure\n",
      "Top label: Separation noodle joint with confidence score: 0.1427227258682251\n"
     ]
    },
    {
     "name": "stderr",
     "output_type": "stream",
     "text": [
      "\r",
      "Processing on GPU 0:  46%|█████████████████████████████████████████████████▉                                                          | 442/957 [01:39<01:54,  4.48it/s]"
     ]
    },
    {
     "name": "stdout",
     "output_type": "stream",
     "text": [
      "Classifying: Process Qualification replace vacuum port location_ISS-0005824\n",
      "Top label: Separation noodle joint with confidence score: 0.23277020454406738\n"
     ]
    },
    {
     "name": "stderr",
     "output_type": "stream",
     "text": [
      "\r",
      "Processing on GPU 1:  46%|██████████████████████████████████████████████████▏                                                         | 444/955 [01:39<01:53,  4.51it/s]"
     ]
    },
    {
     "name": "stdout",
     "output_type": "stream",
     "text": [
      "Classifying: Shelf Life Expired Shelf life expired before curing\n",
      "Top label: Splice gap with confidence score: 0.21468695998191833\n"
     ]
    },
    {
     "name": "stderr",
     "output_type": "stream",
     "text": [
      "\r",
      "Processing on GPU 0:  46%|█████████████████████████████████████████████████▉                                                          | 443/957 [01:39<01:54,  4.47it/s]"
     ]
    },
    {
     "name": "stdout",
     "output_type": "stream",
     "text": [
      "Classifying: Core fill incorrect (Sandwich) NDT Initial Failure\n",
      "Top label: Separation noodle joint with confidence score: 0.15353600680828094\n"
     ]
    },
    {
     "name": "stderr",
     "output_type": "stream",
     "text": [
      "\r",
      "Processing on GPU 1:  47%|██████████████████████████████████████████████████▎                                                         | 445/955 [01:39<01:52,  4.54it/s]"
     ]
    },
    {
     "name": "stdout",
     "output_type": "stream",
     "text": [
      "Classifying: Porosity Volumetric Porosity\n",
      "Top label: Core deformation with confidence score: 0.39977455139160156\n"
     ]
    },
    {
     "name": "stderr",
     "output_type": "stream",
     "text": [
      "\r",
      "Processing on GPU 0:  46%|██████████████████████████████████████████████████                                                          | 444/957 [01:39<01:55,  4.45it/s]"
     ]
    },
    {
     "name": "stdout",
     "output_type": "stream",
     "text": [
      "Classifying: Process Qualification Cure cycle not asper procedure(FAI Part)\n",
      "Top label: Core displacement with confidence score: 0.1835264265537262\n"
     ]
    },
    {
     "name": "stderr",
     "output_type": "stream",
     "text": [
      "\r",
      "Processing on GPU 1:  47%|██████████████████████████████████████████████████▍                                                         | 446/955 [01:39<01:52,  4.53it/s]"
     ]
    },
    {
     "name": "stdout",
     "output_type": "stream",
     "text": [
      "Classifying: Autoclave Cure Not Per Procedure Cycle not per procedure\n",
      "Top label: Core split with confidence score: 0.17242716252803802\n"
     ]
    },
    {
     "name": "stderr",
     "output_type": "stream",
     "text": [
      "\r",
      "Processing on GPU 0:  46%|██████████████████████████████████████████████████▏                                                         | 445/957 [01:39<01:54,  4.47it/s]"
     ]
    },
    {
     "name": "stdout",
     "output_type": "stream",
     "text": [
      "Classifying: Honeycomb geometry Honeycomb geometry\n",
      "Top label: Core split with confidence score: 0.2065369337797165\n"
     ]
    },
    {
     "name": "stderr",
     "output_type": "stream",
     "text": [
      "\r",
      "Processing on GPU 1:  47%|██████████████████████████████████████████████████▌                                                         | 447/955 [01:39<01:52,  4.53it/s]"
     ]
    },
    {
     "name": "stdout",
     "output_type": "stream",
     "text": [
      "Classifying: Core Damage, Torn Nodal Joints Core Step\n",
      "Top label: Resin buildup with confidence score: 0.2549569606781006\n"
     ]
    },
    {
     "name": "stderr",
     "output_type": "stream",
     "text": [
      "\r",
      "Processing on GPU 0:  47%|██████████████████████████████████████████████████▎                                                         | 446/957 [01:39<01:54,  4.46it/s]"
     ]
    },
    {
     "name": "stdout",
     "output_type": "stream",
     "text": [
      "Classifying: Expired Material Material Expire before cure\n",
      "Top label: Core deformation with confidence score: 0.6227449178695679\n"
     ]
    },
    {
     "name": "stderr",
     "output_type": "stream",
     "text": [
      "\r",
      "Processing on GPU 1:  47%|██████████████████████████████████████████████████▋                                                         | 448/955 [01:40<01:50,  4.57it/s]"
     ]
    },
    {
     "name": "stdout",
     "output_type": "stream",
     "text": [
      "Classifying: Unapplicated Modification FM 300 M used\n",
      "Top label: Resin buildup with confidence score: 0.18307960033416748\n"
     ]
    },
    {
     "name": "stderr",
     "output_type": "stream",
     "text": [
      "\r",
      "Processing on GPU 0:  47%|██████████████████████████████████████████████████▍                                                         | 447/957 [01:40<01:55,  4.42it/s]"
     ]
    },
    {
     "name": "stdout",
     "output_type": "stream",
     "text": [
      "Classifying: Honeycomb geometry Honeycomb geometry\n",
      "Top label: Foreign Object Damage with confidence score: 0.2089349925518036\n"
     ]
    },
    {
     "name": "stderr",
     "output_type": "stream",
     "text": [
      "\r",
      "Processing on GPU 1:  47%|██████████████████████████████████████████████████▊                                                         | 449/955 [01:40<01:50,  4.56it/s]"
     ]
    },
    {
     "name": "stdout",
     "output_type": "stream",
     "text": [
      "Classifying: Core Damage, Torn Nodal Joints core crack\n",
      "Top label: Resin buildup with confidence score: 0.2549569606781006\n"
     ]
    },
    {
     "name": "stderr",
     "output_type": "stream",
     "text": [
      "\r",
      "Processing on GPU 0:  47%|██████████████████████████████████████████████████▌                                                         | 448/957 [01:40<01:54,  4.45it/s]"
     ]
    },
    {
     "name": "stdout",
     "output_type": "stream",
     "text": [
      "Classifying: Volume Porosity Volume Porosity\n",
      "Top label: Core deformation with confidence score: 0.5299031138420105\n"
     ]
    },
    {
     "name": "stderr",
     "output_type": "stream",
     "text": [
      "\r",
      "Processing on GPU 1:  47%|██████████████████████████████████████████████████▉                                                         | 450/955 [01:40<01:51,  4.51it/s]"
     ]
    },
    {
     "name": "stdout",
     "output_type": "stream",
     "text": [
      "Classifying: Core Damage, Torn Nodal Joints Core crack\n",
      "Top label: Resin buildup with confidence score: 0.196485236287117\n"
     ]
    },
    {
     "name": "stderr",
     "output_type": "stream",
     "text": [
      "\r",
      "Processing on GPU 0:  47%|██████████████████████████████████████████████████▋                                                         | 449/957 [01:40<01:53,  4.48it/s]"
     ]
    },
    {
     "name": "stdout",
     "output_type": "stream",
     "text": [
      "Classifying: Honeycomb geometry Nodal joint seperation\n",
      "Top label: Core deformation with confidence score: 0.5574743747711182\n"
     ]
    },
    {
     "name": "stderr",
     "output_type": "stream",
     "text": [
      "\r",
      "Processing on GPU 1:  47%|███████████████████████████████████████████████████                                                         | 451/955 [01:40<01:52,  4.50it/s]"
     ]
    },
    {
     "name": "stdout",
     "output_type": "stream",
     "text": [
      "Classifying: Splice Defect Core splice defect\n",
      "Top label: Separation noodle joint with confidence score: 0.9363470077514648\n"
     ]
    },
    {
     "name": "stderr",
     "output_type": "stream",
     "text": [
      "\r",
      "Processing on GPU 0:  47%|██████████████████████████████████████████████████▊                                                         | 450/957 [01:40<01:52,  4.50it/s]"
     ]
    },
    {
     "name": "stdout",
     "output_type": "stream",
     "text": [
      "Classifying: Curing Vacuum vacuum leak due to hole in bag\n",
      "Top label: Core deformation with confidence score: 0.493534117937088\n"
     ]
    },
    {
     "name": "stderr",
     "output_type": "stream",
     "text": [
      "\r",
      "Processing on GPU 1:  47%|███████████████████████████████████████████████████                                                         | 452/955 [01:40<01:51,  4.51it/s]"
     ]
    },
    {
     "name": "stdout",
     "output_type": "stream",
     "text": [
      "Classifying: Porosity Volumetric Porosity\n",
      "Top label: Foreign Object Damage with confidence score: 0.19470417499542236\n"
     ]
    },
    {
     "name": "stderr",
     "output_type": "stream",
     "text": [
      "\r",
      "Processing on GPU 0:  47%|██████████████████████████████████████████████████▉                                                         | 451/957 [01:41<01:52,  4.49it/s]"
     ]
    },
    {
     "name": "stdout",
     "output_type": "stream",
     "text": [
      "Classifying: Flute in laminate Dent Over Splice Line\n",
      "Top label: Core displacement with confidence score: 0.1835264265537262\n"
     ]
    },
    {
     "name": "stderr",
     "output_type": "stream",
     "text": [
      "\r",
      "Processing on GPU 1:  47%|███████████████████████████████████████████████████▏                                                        | 453/955 [01:41<01:51,  4.52it/s]"
     ]
    },
    {
     "name": "stdout",
     "output_type": "stream",
     "text": [
      "Classifying: Dwell Too Long Long Dwell\n",
      "Top label: Splice gap with confidence score: 0.423492431640625\n"
     ]
    },
    {
     "name": "stderr",
     "output_type": "stream",
     "text": [
      "\r",
      "Processing on GPU 0:  47%|███████████████████████████████████████████████████                                                         | 452/957 [01:41<01:52,  4.50it/s]"
     ]
    },
    {
     "name": "stdout",
     "output_type": "stream",
     "text": [
      "Classifying: Composite ply NDT Initial Failure\n",
      "Top label: Resin buildup with confidence score: 0.26652583479881287\n"
     ]
    },
    {
     "name": "stderr",
     "output_type": "stream",
     "text": [
      "\r",
      "Processing on GPU 1:  48%|███████████████████████████████████████████████████▎                                                        | 454/955 [01:41<01:50,  4.51it/s]"
     ]
    },
    {
     "name": "stdout",
     "output_type": "stream",
     "text": [
      "Classifying: Chips / F.O.D. Damage Foreign Objects in Part\n",
      "Top label: Foreign Object Damage with confidence score: 0.18692098557949066\n"
     ]
    },
    {
     "name": "stderr",
     "output_type": "stream",
     "text": [
      "\r",
      "Processing on GPU 0:  47%|███████████████████████████████████████████████████                                                         | 453/957 [01:41<01:51,  4.51it/s]"
     ]
    },
    {
     "name": "stdout",
     "output_type": "stream",
     "text": [
      "Classifying: Curing Vacuum vaccum leak, refer Q6-624261\n",
      "Top label: Foreign Object Damage with confidence score: 0.9073659777641296\n"
     ]
    },
    {
     "name": "stderr",
     "output_type": "stream",
     "text": [
      "\r",
      "Processing on GPU 1:  48%|███████████████████████████████████████████████████▍                                                        | 455/955 [01:41<01:50,  4.52it/s]"
     ]
    },
    {
     "name": "stdout",
     "output_type": "stream",
     "text": [
      "Classifying: Disbond Disbond\n",
      "Top label: Foreign Object Damage with confidence score: 0.17231547832489014\n"
     ]
    },
    {
     "name": "stderr",
     "output_type": "stream",
     "text": [
      "\r",
      "Processing on GPU 0:  47%|███████████████████████████████████████████████████▏                                                        | 454/957 [01:41<01:51,  4.51it/s]"
     ]
    },
    {
     "name": "stdout",
     "output_type": "stream",
     "text": [
      "Classifying: Surface defects DENT OVER SPLICE\n",
      "Top label: Core split with confidence score: 0.2206205129623413\n"
     ]
    },
    {
     "name": "stderr",
     "output_type": "stream",
     "text": [
      "\r",
      "Processing on GPU 1:  48%|███████████████████████████████████████████████████▌                                                        | 456/955 [01:41<01:50,  4.52it/s]"
     ]
    },
    {
     "name": "stdout",
     "output_type": "stream",
     "text": [
      "Classifying: Dents Over Splice Lines Dent over splice line\n",
      "Top label: Splice gap with confidence score: 0.6742838025093079\n"
     ]
    },
    {
     "name": "stderr",
     "output_type": "stream",
     "text": [
      "\r",
      "Processing on GPU 0:  48%|███████████████████████████████████████████████████▎                                                        | 455/957 [01:41<01:50,  4.54it/s]"
     ]
    },
    {
     "name": "stdout",
     "output_type": "stream",
     "text": [
      "Classifying: Thickness deviation/ size Thickness issue\n",
      "Top label: Splice gap with confidence score: 0.3017521798610687\n"
     ]
    },
    {
     "name": "stderr",
     "output_type": "stream",
     "text": [
      "\r",
      "Processing on GPU 1:  48%|███████████████████████████████████████████████████▋                                                        | 457/955 [01:42<01:50,  4.50it/s]"
     ]
    },
    {
     "name": "stdout",
     "output_type": "stream",
     "text": [
      "Classifying: Autoclave Cure Not Per Procedure Cycle not per procedure\n",
      "Top label: Core displacement with confidence score: 0.19622907042503357\n"
     ]
    },
    {
     "name": "stderr",
     "output_type": "stream",
     "text": [
      "\r",
      "Processing on GPU 0:  48%|███████████████████████████████████████████████████▍                                                        | 456/957 [01:42<01:50,  4.52it/s]"
     ]
    },
    {
     "name": "stdout",
     "output_type": "stream",
     "text": [
      "Classifying: Material Missing or Incorrect positioned Core Shifted\n",
      "Top label: Core split with confidence score: 0.2065369337797165\n"
     ]
    },
    {
     "name": "stderr",
     "output_type": "stream",
     "text": [
      "\r",
      "Processing on GPU 1:  48%|███████████████████████████████████████████████████▊                                                        | 458/955 [01:42<01:50,  4.51it/s]"
     ]
    },
    {
     "name": "stdout",
     "output_type": "stream",
     "text": [
      "Classifying: Disbond Debond observed during repair\n",
      "Top label: Core deformation with confidence score: 0.3606474995613098\n"
     ]
    },
    {
     "name": "stderr",
     "output_type": "stream",
     "text": [
      "\r",
      "Processing on GPU 0:  48%|███████████████████████████████████████████████████▌                                                        | 457/957 [01:42<01:50,  4.52it/s]"
     ]
    },
    {
     "name": "stdout",
     "output_type": "stream",
     "text": [
      "Classifying: Curing Vacuum vacuum leak due to hose failure\n",
      "Top label: Separation noodle joint with confidence score: 0.31658172607421875\n"
     ]
    },
    {
     "name": "stderr",
     "output_type": "stream",
     "text": [
      "\r",
      "Processing on GPU 1:  48%|███████████████████████████████████████████████████▉                                                        | 459/955 [01:42<01:50,  4.51it/s]"
     ]
    },
    {
     "name": "stdout",
     "output_type": "stream",
     "text": [
      "Classifying: Porosity porosity located above acceptable limit\n",
      "Top label: Foreign Object Damage with confidence score: 0.1991385966539383\n"
     ]
    },
    {
     "name": "stderr",
     "output_type": "stream",
     "text": [
      "\r",
      "Processing on GPU 0:  48%|███████████████████████████████████████████████████▋                                                        | 458/957 [01:42<01:50,  4.51it/s]"
     ]
    },
    {
     "name": "stdout",
     "output_type": "stream",
     "text": [
      "Classifying: Shape geometry deviating  FAI part, ply don't match laser projctn\n",
      "Top label: Core displacement with confidence score: 0.23696231842041016\n"
     ]
    },
    {
     "name": "stderr",
     "output_type": "stream",
     "text": [
      "\r",
      "Processing on GPU 1:  48%|████████████████████████████████████████████████████                                                        | 460/955 [01:42<01:49,  4.52it/s]"
     ]
    },
    {
     "name": "stdout",
     "output_type": "stream",
     "text": [
      "Classifying: Chips / F.O.D. Damage FOD\n",
      "Top label: Foreign Object Damage with confidence score: 0.38300782442092896\n"
     ]
    },
    {
     "name": "stderr",
     "output_type": "stream",
     "text": [
      "\r",
      "Processing on GPU 0:  48%|███████████████████████████████████████████████████▊                                                        | 459/957 [01:42<01:50,  4.53it/s]"
     ]
    },
    {
     "name": "stdout",
     "output_type": "stream",
     "text": [
      "Classifying: Honeycomb geometry Core sag\n",
      "Top label: Foreign Object Damage with confidence score: 0.8262008428573608\n"
     ]
    },
    {
     "name": "stderr",
     "output_type": "stream",
     "text": [
      "\r",
      "Processing on GPU 1:  48%|████████████████████████████████████████████████████▏                                                       | 461/955 [01:42<01:49,  4.50it/s]"
     ]
    },
    {
     "name": "stdout",
     "output_type": "stream",
     "text": [
      "Classifying: Autoclave Cure Not Per Procedure Cycle not per procedure\n",
      "Top label: Core deformation with confidence score: 0.3504996597766876\n"
     ]
    },
    {
     "name": "stderr",
     "output_type": "stream",
     "text": [
      "\r",
      "Processing on GPU 0:  48%|███████████████████████████████████████████████████▉                                                        | 460/957 [01:43<01:50,  4.50it/s]"
     ]
    },
    {
     "name": "stdout",
     "output_type": "stream",
     "text": [
      "Classifying: Material Missing or Incorrect positioned TC Strand in the part\n",
      "Top label: Core split with confidence score: 0.2065369337797165\n"
     ]
    },
    {
     "name": "stderr",
     "output_type": "stream",
     "text": [
      "\r",
      "Processing on GPU 1:  48%|████████████████████████████████████████████████████▏                                                       | 462/955 [01:43<01:49,  4.50it/s]"
     ]
    },
    {
     "name": "stdout",
     "output_type": "stream",
     "text": [
      "Classifying: Dwell Too Long Dwell too long\n",
      "Top label: Core displacement with confidence score: 0.2541758418083191\n"
     ]
    },
    {
     "name": "stderr",
     "output_type": "stream",
     "text": [
      "\r",
      "Processing on GPU 0:  48%|████████████████████████████████████████████████████                                                        | 461/957 [01:43<01:50,  4.51it/s]"
     ]
    },
    {
     "name": "stdout",
     "output_type": "stream",
     "text": [
      "Classifying: Surface defects Depression\n",
      "Top label: Core deformation with confidence score: 0.17797939479351044\n"
     ]
    },
    {
     "name": "stderr",
     "output_type": "stream",
     "text": [
      "\r",
      "Processing on GPU 1:  48%|████████████████████████████████████████████████████▎                                                       | 463/955 [01:43<01:49,  4.51it/s]"
     ]
    },
    {
     "name": "stdout",
     "output_type": "stream",
     "text": [
      "Classifying: Geometric Dimensioning Defects G3-Trim line out of tolerance\n",
      "Top label: Core crash with confidence score: 0.1724521368741989\n"
     ]
    },
    {
     "name": "stderr",
     "output_type": "stream",
     "text": [
      "\r",
      "Processing on GPU 0:  48%|████████████████████████████████████████████████████▏                                                       | 462/957 [01:43<01:49,  4.53it/s]"
     ]
    },
    {
     "name": "stdout",
     "output_type": "stream",
     "text": [
      "Classifying: Honeycomb geometry torn nodal joints above acceptable limit\n",
      "Top label: Splice gap with confidence score: 0.26394689083099365\n"
     ]
    },
    {
     "name": "stderr",
     "output_type": "stream",
     "text": [
      "\r",
      "Processing on GPU 1:  49%|████████████████████████████████████████████████████▍                                                       | 464/955 [01:43<01:50,  4.46it/s]"
     ]
    },
    {
     "name": "stdout",
     "output_type": "stream",
     "text": [
      "Classifying: Operation Not Per Drawing Reinforcing piles are not per drawing\n",
      "Top label: Separation noodle joint with confidence score: 0.463647723197937\n"
     ]
    },
    {
     "name": "stderr",
     "output_type": "stream",
     "text": [
      "\r",
      "Processing on GPU 0:  48%|████████████████████████████████████████████████████▎                                                       | 463/957 [01:43<01:48,  4.53it/s]"
     ]
    },
    {
     "name": "stdout",
     "output_type": "stream",
     "text": [
      "Classifying: Process Qualification core slip improvement REF: ISS-0005495\n",
      "Top label: Resin buildup with confidence score: 0.7473604083061218\n"
     ]
    },
    {
     "name": "stderr",
     "output_type": "stream",
     "text": [
      "\r",
      "Processing on GPU 1:  49%|████████████████████████████████████████████████████▌                                                       | 465/955 [01:43<01:49,  4.46it/s]"
     ]
    },
    {
     "name": "stdout",
     "output_type": "stream",
     "text": [
      "Classifying: Delamination Delamination\n",
      "Top label: Core deformation with confidence score: 0.42670121788978577\n"
     ]
    },
    {
     "name": "stderr",
     "output_type": "stream",
     "text": [
      "\r",
      "Processing on GPU 0:  48%|████████████████████████████████████████████████████▎                                                       | 464/957 [01:43<01:48,  4.55it/s]"
     ]
    },
    {
     "name": "stdout",
     "output_type": "stream",
     "text": [
      "Classifying: Honeycomb geometry Core sag\n",
      "Top label: Resin buildup with confidence score: 0.28864264488220215\n"
     ]
    },
    {
     "name": "stderr",
     "output_type": "stream",
     "text": [
      "\r",
      "Processing on GPU 1:  49%|████████████████████████████████████████████████████▋                                                       | 466/955 [01:44<01:50,  4.43it/s]"
     ]
    },
    {
     "name": "stdout",
     "output_type": "stream",
     "text": [
      "Classifying: Chips / F.O.D. Damage FOD\n",
      "Top label: Core deformation with confidence score: 0.3504996597766876\n"
     ]
    },
    {
     "name": "stderr",
     "output_type": "stream",
     "text": [
      "\r",
      "Processing on GPU 0:  49%|████████████████████████████████████████████████████▍                                                       | 465/957 [01:44<01:48,  4.53it/s]"
     ]
    },
    {
     "name": "stdout",
     "output_type": "stream",
     "text": [
      "Classifying: Impact Delamination Composite Manufacturing\n",
      "Top label: Foreign Object Damage with confidence score: 0.8262008428573608\n"
     ]
    },
    {
     "name": "stderr",
     "output_type": "stream",
     "text": [
      "\r",
      "Processing on GPU 1:  49%|████████████████████████████████████████████████████▊                                                       | 467/955 [01:44<01:50,  4.43it/s]"
     ]
    },
    {
     "name": "stdout",
     "output_type": "stream",
     "text": [
      "Classifying: Shelf Life Expired Shelf life expired before curing\n",
      "Top label: Foreign Object Damage with confidence score: 0.2331397533416748\n"
     ]
    },
    {
     "name": "stderr",
     "output_type": "stream",
     "text": [
      "\r",
      "Processing on GPU 0:  49%|████████████████████████████████████████████████████▌                                                       | 466/957 [01:44<01:48,  4.53it/s]"
     ]
    },
    {
     "name": "stdout",
     "output_type": "stream",
     "text": [
      "Classifying: Honeycomb geometry Core sag\n",
      "Top label: Separation noodle joint with confidence score: 0.15353600680828094\n"
     ]
    },
    {
     "name": "stderr",
     "output_type": "stream",
     "text": [
      "\r",
      "Processing on GPU 1:  49%|████████████████████████████████████████████████████▉                                                       | 468/955 [01:44<01:49,  4.45it/s]"
     ]
    },
    {
     "name": "stdout",
     "output_type": "stream",
     "text": [
      "Classifying: Porosity VOLUMETRIC POROSITY BEYOND ACC. LIMIT\n",
      "Top label: Core deformation with confidence score: 0.3504996597766876\n"
     ]
    },
    {
     "name": "stderr",
     "output_type": "stream",
     "text": [
      "\r",
      "Processing on GPU 0:  49%|████████████████████████████████████████████████████▋                                                       | 467/957 [01:44<01:48,  4.52it/s]"
     ]
    },
    {
     "name": "stdout",
     "output_type": "stream",
     "text": [
      "Classifying: Wrinkles Wrinkles\n",
      "Top label: Core displacement with confidence score: 0.20531266927719116\n"
     ]
    },
    {
     "name": "stderr",
     "output_type": "stream",
     "text": [
      "\r",
      "Processing on GPU 1:  49%|█████████████████████████████████████████████████████                                                       | 469/955 [01:44<01:48,  4.47it/s]"
     ]
    },
    {
     "name": "stdout",
     "output_type": "stream",
     "text": [
      "Classifying: Gaps, Overlaps In Layup over lap 30mm\n",
      "Top label: Resin buildup with confidence score: 0.1902356743812561\n"
     ]
    },
    {
     "name": "stderr",
     "output_type": "stream",
     "text": [
      "\r",
      "Processing on GPU 0:  49%|████████████████████████████████████████████████████▊                                                       | 468/957 [01:44<01:48,  4.52it/s]"
     ]
    },
    {
     "name": "stdout",
     "output_type": "stream",
     "text": [
      "Classifying: Honeycomb geometry Honeycomb geometry\n",
      "Top label: Separation noodle joint with confidence score: 0.2107916623353958\n"
     ]
    },
    {
     "name": "stderr",
     "output_type": "stream",
     "text": [
      "\r",
      "Processing on GPU 1:  49%|█████████████████████████████████████████████████████▏                                                      | 470/955 [01:44<01:48,  4.48it/s]"
     ]
    },
    {
     "name": "stdout",
     "output_type": "stream",
     "text": [
      "Classifying: Core Crush Core dent,\n",
      "Top label: Resin buildup with confidence score: 0.2549569606781006\n"
     ]
    },
    {
     "name": "stderr",
     "output_type": "stream",
     "text": [
      "\r",
      "Processing on GPU 0:  49%|████████████████████████████████████████████████████▉                                                       | 469/957 [01:45<01:48,  4.51it/s]"
     ]
    },
    {
     "name": "stdout",
     "output_type": "stream",
     "text": [
      "Classifying: Impact QG3-Impact damage\n",
      "Top label: Core crash with confidence score: 0.3309307098388672\n"
     ]
    },
    {
     "name": "stderr",
     "output_type": "stream",
     "text": [
      "\r",
      "Processing on GPU 1:  49%|█████████████████████████████████████████████████████▎                                                      | 471/955 [01:45<01:48,  4.48it/s]"
     ]
    },
    {
     "name": "stdout",
     "output_type": "stream",
     "text": [
      "Classifying: Core Crush Core dent,\n",
      "Top label: Foreign Object Damage with confidence score: 0.20238082110881805\n"
     ]
    },
    {
     "name": "stderr",
     "output_type": "stream",
     "text": [
      "\r",
      "Processing on GPU 0:  49%|█████████████████████████████████████████████████████                                                       | 470/957 [01:45<01:47,  4.51it/s]"
     ]
    },
    {
     "name": "stdout",
     "output_type": "stream",
     "text": [
      "Classifying: Wrinkles Shim Gap observed due to wrinkles\n",
      "Top label: Core crash with confidence score: 0.3309307098388672\n"
     ]
    },
    {
     "name": "stderr",
     "output_type": "stream",
     "text": [
      "\r",
      "Processing on GPU 1:  49%|█████████████████████████████████████████████████████▍                                                      | 472/955 [01:45<01:48,  4.46it/s]"
     ]
    },
    {
     "name": "stdout",
     "output_type": "stream",
     "text": [
      "Classifying: Porosity Volumeric porosity\n",
      "Top label: Splice gap with confidence score: 0.4907032549381256\n"
     ]
    },
    {
     "name": "stderr",
     "output_type": "stream",
     "text": [
      "\r",
      "Processing on GPU 0:  49%|█████████████████████████████████████████████████████▏                                                      | 471/957 [01:45<01:46,  4.55it/s]"
     ]
    },
    {
     "name": "stdout",
     "output_type": "stream",
     "text": [
      "Classifying: Adhesive Migration Unidentified defect\n",
      "Top label: Core displacement with confidence score: 0.18263058364391327\n"
     ]
    },
    {
     "name": "stderr",
     "output_type": "stream",
     "text": [
      "\r",
      "Processing on GPU 1:  50%|█████████████████████████████████████████████████████▍                                                      | 473/955 [01:45<01:48,  4.46it/s]"
     ]
    },
    {
     "name": "stdout",
     "output_type": "stream",
     "text": [
      "Classifying: Wrinkle Wrinkle\n",
      "Top label: Foreign Object Damage with confidence score: 0.2768397927284241\n"
     ]
    },
    {
     "name": "stderr",
     "output_type": "stream",
     "text": [
      "\r",
      "Processing on GPU 0:  49%|█████████████████████████████████████████████████████▎                                                      | 472/957 [01:45<01:46,  4.54it/s]"
     ]
    },
    {
     "name": "stdout",
     "output_type": "stream",
     "text": [
      "Classifying: Delamination Composite Manufacturing Delamination\n",
      "Top label: Core split with confidence score: 0.19982367753982544\n"
     ]
    },
    {
     "name": "stderr",
     "output_type": "stream",
     "text": [
      "\r",
      "Processing on GPU 1:  50%|█████████████████████████████████████████████████████▌                                                      | 474/955 [01:45<01:47,  4.47it/s]"
     ]
    },
    {
     "name": "stdout",
     "output_type": "stream",
     "text": [
      "Classifying: Delamination Delamination\n",
      "Top label: Resin buildup with confidence score: 0.21785829961299896\n"
     ]
    },
    {
     "name": "stderr",
     "output_type": "stream",
     "text": [
      "\r",
      "Processing on GPU 0:  49%|█████████████████████████████████████████████████████▍                                                      | 473/957 [01:45<01:46,  4.53it/s]"
     ]
    },
    {
     "name": "stdout",
     "output_type": "stream",
     "text": [
      "Classifying: Honeycomb geometry Core slip\n",
      "Top label: Resin buildup with confidence score: 0.28864264488220215\n"
     ]
    },
    {
     "name": "stderr",
     "output_type": "stream",
     "text": [
      "\r",
      "Processing on GPU 1:  50%|█████████████████████████████████████████████████████▋                                                      | 475/955 [01:46<01:47,  4.47it/s]"
     ]
    },
    {
     "name": "stdout",
     "output_type": "stream",
     "text": [
      "Classifying: Core Damage, Torn Nodal Joints Core crack\n",
      "Top label: Core deformation with confidence score: 0.4119720757007599\n"
     ]
    },
    {
     "name": "stderr",
     "output_type": "stream",
     "text": [
      "\r",
      "Processing on GPU 0:  50%|█████████████████████████████████████████████████████▍                                                      | 474/957 [01:46<01:45,  4.57it/s]"
     ]
    },
    {
     "name": "stdout",
     "output_type": "stream",
     "text": [
      "Classifying: Material Missing or Incorrect positioned No splice\n",
      "Top label: Core deformation with confidence score: 0.5574743747711182\n"
     ]
    },
    {
     "name": "stderr",
     "output_type": "stream",
     "text": [
      "\r",
      "Processing on GPU 1:  50%|█████████████████████████████████████████████████████▊                                                      | 476/955 [01:46<01:47,  4.45it/s]"
     ]
    },
    {
     "name": "stdout",
     "output_type": "stream",
     "text": [
      "Classifying: Core Damage, Torn Nodal Joints Core crack\n",
      "Top label: Splice gap with confidence score: 0.3693150281906128\n"
     ]
    },
    {
     "name": "stderr",
     "output_type": "stream",
     "text": [
      "\r",
      "Processing on GPU 0:  50%|█████████████████████████████████████████████████████▌                                                      | 475/957 [01:46<01:46,  4.53it/s]"
     ]
    },
    {
     "name": "stdout",
     "output_type": "stream",
     "text": [
      "\n",
      "Classifying: Honeycomb geometry Torn Nodal JointsTop label: Core deformation with confidence score: 0.5574743747711182\n"
     ]
    },
    {
     "name": "stderr",
     "output_type": "stream",
     "text": [
      "\r",
      "Processing on GPU 1:  50%|█████████████████████████████████████████████████████▉                                                      | 477/955 [01:46<01:47,  4.46it/s]"
     ]
    },
    {
     "name": "stdout",
     "output_type": "stream",
     "text": [
      "Classifying: Bridging bridging\n",
      "Top label: Separation noodle joint with confidence score: 0.7279921770095825\n"
     ]
    },
    {
     "name": "stderr",
     "output_type": "stream",
     "text": [
      "\r",
      "Processing on GPU 0:  50%|█████████████████████████████████████████████████████▋                                                      | 476/957 [01:46<01:45,  4.55it/s]"
     ]
    },
    {
     "name": "stdout",
     "output_type": "stream",
     "text": [
      "Classifying: Impact core crush\n",
      "Top label: Splice gap with confidence score: 0.2870880961418152\n"
     ]
    },
    {
     "name": "stderr",
     "output_type": "stream",
     "text": [
      "\r",
      "Processing on GPU 1:  50%|██████████████████████████████████████████████████████                                                      | 478/955 [01:46<01:47,  4.44it/s]"
     ]
    },
    {
     "name": "stdout",
     "output_type": "stream",
     "text": [
      "Classifying: Delamination DELAMINATION after repair\n",
      "Top label: Core deformation with confidence score: 0.3857656717300415\n"
     ]
    },
    {
     "name": "stderr",
     "output_type": "stream",
     "text": [
      "\r",
      "Processing on GPU 0:  50%|█████████████████████████████████████████████████████▊                                                      | 477/957 [01:46<01:45,  4.56it/s]"
     ]
    },
    {
     "name": "stdout",
     "output_type": "stream",
     "text": [
      "Classifying: Delamination Composite Manufacturing Delamination\n",
      "Top label: Resin buildup with confidence score: 0.28464528918266296\n"
     ]
    },
    {
     "name": "stderr",
     "output_type": "stream",
     "text": [
      "\r",
      "Processing on GPU 1:  50%|██████████████████████████████████████████████████████▏                                                     | 479/955 [01:46<01:46,  4.47it/s]"
     ]
    },
    {
     "name": "stdout",
     "output_type": "stream",
     "text": [
      "Classifying: Tool Out Of Tolerance (Dimension) gap out of tolerance\n",
      "Top label: Resin buildup with confidence score: 0.21785829961299896\n"
     ]
    },
    {
     "name": "stderr",
     "output_type": "stream",
     "text": [
      "\r",
      "Processing on GPU 0:  50%|█████████████████████████████████████████████████████▉                                                      | 478/957 [01:47<01:45,  4.53it/s]"
     ]
    },
    {
     "name": "stdout",
     "output_type": "stream",
     "text": [
      "Classifying: Honeycomb geometry Torn Nodal Joints\n",
      "Top label: Separation noodle joint with confidence score: 0.24986585974693298\n"
     ]
    },
    {
     "name": "stderr",
     "output_type": "stream",
     "text": [
      "\r",
      "Processing on GPU 1:  50%|██████████████████████████████████████████████████████▎                                                     | 480/955 [01:47<01:46,  4.48it/s]"
     ]
    },
    {
     "name": "stdout",
     "output_type": "stream",
     "text": [
      "Classifying: Core Crush Core dent,\n",
      "Top label: Separation noodle joint with confidence score: 0.7279921770095825\n"
     ]
    },
    {
     "name": "stderr",
     "output_type": "stream",
     "text": [
      "\r",
      "Processing on GPU 0:  50%|██████████████████████████████████████████████████████                                                      | 479/957 [01:47<01:45,  4.53it/s]"
     ]
    },
    {
     "name": "stdout",
     "output_type": "stream",
     "text": [
      "Classifying: Hole incorrectly positioned Mislocated hole\n",
      "Top label: Core crash with confidence score: 0.3309307098388672\n"
     ]
    },
    {
     "name": "stderr",
     "output_type": "stream",
     "text": [
      "\r",
      "Processing on GPU 1:  50%|██████████████████████████████████████████████████████▍                                                     | 481/955 [01:47<01:45,  4.49it/s]"
     ]
    },
    {
     "name": "stdout",
     "output_type": "stream",
     "text": [
      "Classifying: Delamination Delamination\n",
      "Top label: Foreign Object Damage with confidence score: 0.36900585889816284\n"
     ]
    },
    {
     "name": "stderr",
     "output_type": "stream",
     "text": [
      "\r",
      "Processing on GPU 0:  50%|██████████████████████████████████████████████████████▏                                                     | 480/957 [01:47<01:45,  4.53it/s]"
     ]
    },
    {
     "name": "stdout",
     "output_type": "stream",
     "text": [
      "Classifying: Honeycomb geometry Core slip\n",
      "Top label: Resin buildup with confidence score: 0.28864264488220215\n"
     ]
    },
    {
     "name": "stderr",
     "output_type": "stream",
     "text": [
      "\r",
      "Processing on GPU 1:  50%|██████████████████████████████████████████████████████▌                                                     | 482/955 [01:47<01:45,  4.48it/s]"
     ]
    },
    {
     "name": "stdout",
     "output_type": "stream",
     "text": [
      "Classifying: Imprint on Surface Dent Surface Depression\n",
      "Top label: Core deformation with confidence score: 0.4119720757007599\n"
     ]
    },
    {
     "name": "stderr",
     "output_type": "stream",
     "text": [
      "\r",
      "Processing on GPU 0:  50%|██████████████████████████████████████████████████████▎                                                     | 481/957 [01:47<01:45,  4.53it/s]"
     ]
    },
    {
     "name": "stdout",
     "output_type": "stream",
     "text": [
      "Classifying: Expired Material Mat. Expired due to CCA clocking delay\n",
      "Top label: Splice gap with confidence score: 0.1898801177740097\n"
     ]
    },
    {
     "name": "stderr",
     "output_type": "stream",
     "text": [
      "\r",
      "Processing on GPU 1:  51%|██████████████████████████████████████████████████████▌                                                     | 483/955 [01:47<01:45,  4.49it/s]"
     ]
    },
    {
     "name": "stdout",
     "output_type": "stream",
     "text": [
      "Classifying: Shelf Life Expired Shelf life expired before curing\n",
      "Top label: Core split with confidence score: 0.1824481338262558\n"
     ]
    },
    {
     "name": "stderr",
     "output_type": "stream",
     "text": [
      "\r",
      "Processing on GPU 0:  50%|██████████████████████████████████████████████████████▍                                                     | 482/957 [01:47<01:44,  4.53it/s]"
     ]
    },
    {
     "name": "stdout",
     "output_type": "stream",
     "text": [
      "Classifying: Disbonding within part Disbond\n",
      "Top label: Separation noodle joint with confidence score: 0.15353600680828094\n"
     ]
    },
    {
     "name": "stderr",
     "output_type": "stream",
     "text": [
      "\r",
      "Processing on GPU 1:  51%|██████████████████████████████████████████████████████▋                                                     | 484/955 [01:48<01:44,  4.49it/s]"
     ]
    },
    {
     "name": "stdout",
     "output_type": "stream",
     "text": [
      "Classifying: Shelf Life Expired Shelf life expired before curing\n",
      "Top label: Core displacement with confidence score: 0.21432512998580933\n"
     ]
    },
    {
     "name": "stderr",
     "output_type": "stream",
     "text": [
      "\r",
      "Processing on GPU 0:  50%|██████████████████████████████████████████████████████▌                                                     | 483/957 [01:48<01:43,  4.58it/s]"
     ]
    },
    {
     "name": "stdout",
     "output_type": "stream",
     "text": [
      "Classifying: Lack of resin Resin Starved Areas\n",
      "Top label: Separation noodle joint with confidence score: 0.15353600680828094\n"
     ]
    },
    {
     "name": "stderr",
     "output_type": "stream",
     "text": [
      "\r",
      "Processing on GPU 1:  51%|██████████████████████████████████████████████████████▊                                                     | 485/955 [01:48<01:45,  4.44it/s]"
     ]
    },
    {
     "name": "stdout",
     "output_type": "stream",
     "text": [
      "Classifying: Imprint on Surface Dent Core Dent\n",
      "Top label: Resin buildup with confidence score: 0.16584794223308563\n"
     ]
    },
    {
     "name": "stderr",
     "output_type": "stream",
     "text": [
      "\r",
      "Processing on GPU 0:  51%|██████████████████████████████████████████████████████▌                                                     | 484/957 [01:48<01:43,  4.56it/s]"
     ]
    },
    {
     "name": "stdout",
     "output_type": "stream",
     "text": [
      "Classifying: Honeycomb geometry Honeycomb geometry\n",
      "Top label: Core deformation with confidence score: 0.4703635573387146\n"
     ]
    },
    {
     "name": "stderr",
     "output_type": "stream",
     "text": [
      "\r",
      "Processing on GPU 1:  51%|██████████████████████████████████████████████████████▉                                                     | 486/955 [01:48<01:43,  4.51it/s]"
     ]
    },
    {
     "name": "stdout",
     "output_type": "stream",
     "text": [
      "Classifying: Imprint on Surface Dent Surface Depression\n",
      "Top label: Resin buildup with confidence score: 0.2549569606781006\n"
     ]
    },
    {
     "name": "stderr",
     "output_type": "stream",
     "text": [
      "\r",
      "Processing on GPU 0:  51%|██████████████████████████████████████████████████████▋                                                     | 485/957 [01:48<01:44,  4.50it/s]"
     ]
    },
    {
     "name": "stdout",
     "output_type": "stream",
     "text": [
      "Classifying: Volume Porosity Volumetric porosity above size limit\n",
      "Top label: Splice gap with confidence score: 0.1898801177740097\n"
     ]
    },
    {
     "name": "stderr",
     "output_type": "stream",
     "text": [
      "\r",
      "Processing on GPU 1:  51%|███████████████████████████████████████████████████████                                                     | 487/955 [01:48<01:43,  4.51it/s]"
     ]
    },
    {
     "name": "stdout",
     "output_type": "stream",
     "text": [
      "Classifying: Imprint on Surface Dent Surface Depression\n",
      "Top label: Splice gap with confidence score: 0.17096780240535736\n"
     ]
    },
    {
     "name": "stderr",
     "output_type": "stream",
     "text": [
      "\r",
      "Processing on GPU 0:  51%|██████████████████████████████████████████████████████▊                                                     | 486/957 [01:48<01:44,  4.50it/s]"
     ]
    },
    {
     "name": "stdout",
     "output_type": "stream",
     "text": [
      "Classifying: Material Missing or Incorrect positioned Inadequate splice adhesive\n",
      "Top label: Splice gap with confidence score: 0.1898801177740097\n"
     ]
    },
    {
     "name": "stderr",
     "output_type": "stream",
     "text": [
      "\r",
      "Processing on GPU 1:  51%|███████████████████████████████████████████████████████▏                                                    | 488/955 [01:48<01:44,  4.49it/s]"
     ]
    },
    {
     "name": "stdout",
     "output_type": "stream",
     "text": [
      "Classifying: Delamination Delamination\n",
      "Top label: Splice gap with confidence score: 0.46541526913642883\n"
     ]
    },
    {
     "name": "stderr",
     "output_type": "stream",
     "text": [
      "\r",
      "Processing on GPU 0:  51%|██████████████████████████████████████████████████████▉                                                     | 487/957 [01:49<01:44,  4.51it/s]"
     ]
    },
    {
     "name": "stdout",
     "output_type": "stream",
     "text": [
      "Classifying: Contaminated material Contaminated material\n",
      "Top label: Resin buildup with confidence score: 0.28864264488220215\n"
     ]
    },
    {
     "name": "stderr",
     "output_type": "stream",
     "text": [
      "\r",
      "Processing on GPU 1:  51%|███████████████████████████████████████████████████████▎                                                    | 489/955 [01:49<01:45,  4.43it/s]"
     ]
    },
    {
     "name": "stdout",
     "output_type": "stream",
     "text": [
      "Classifying: Disbond Disbond\n",
      "Top label: Foreign Object Damage with confidence score: 0.22838647663593292\n"
     ]
    },
    {
     "name": "stderr",
     "output_type": "stream",
     "text": [
      "\r",
      "Processing on GPU 0:  51%|███████████████████████████████████████████████████████                                                     | 488/957 [01:49<01:42,  4.59it/s]"
     ]
    },
    {
     "name": "stdout",
     "output_type": "stream",
     "text": [
      "Classifying: Process Qualification Cure cycle not asper procedure(FAI Part)\n",
      "Top label: Core split with confidence score: 0.2206205129623413\n"
     ]
    },
    {
     "name": "stderr",
     "output_type": "stream",
     "text": [
      "\r",
      "Processing on GPU 1:  51%|███████████████████████████████████████████████████████▍                                                    | 490/955 [01:49<01:47,  4.34it/s]"
     ]
    },
    {
     "name": "stdout",
     "output_type": "stream",
     "text": [
      "Classifying: Dwell Too Long dwell too long\n",
      "Top label: Core split with confidence score: 0.17242716252803802\n"
     ]
    },
    {
     "name": "stderr",
     "output_type": "stream",
     "text": [
      "\r",
      "Processing on GPU 0:  51%|███████████████████████████████████████████████████████▏                                                    | 489/957 [01:49<01:42,  4.59it/s]"
     ]
    },
    {
     "name": "stdout",
     "output_type": "stream",
     "text": [
      "Classifying: Honeycomb geometry Core Sag\n",
      "Top label: Resin buildup with confidence score: 0.21556356549263\n"
     ]
    },
    {
     "name": "stderr",
     "output_type": "stream",
     "text": [
      "\r",
      "Processing on GPU 1:  51%|███████████████████████████████████████████████████████▌                                                    | 491/955 [01:49<01:45,  4.40it/s]"
     ]
    },
    {
     "name": "stdout",
     "output_type": "stream",
     "text": [
      "Classifying: Core Damage, Torn Nodal Joints Core crack\n",
      "Top label: Core deformation with confidence score: 0.5280296802520752\n"
     ]
    },
    {
     "name": "stderr",
     "output_type": "stream",
     "text": [
      "\r",
      "Processing on GPU 0:  51%|███████████████████████████████████████████████████████▎                                                    | 490/957 [01:49<01:42,  4.55it/s]"
     ]
    },
    {
     "name": "stdout",
     "output_type": "stream",
     "text": [
      "Classifying: Expired Material Material Expire before cure\n",
      "Top label: Core deformation with confidence score: 0.5574743747711182\n"
     ]
    },
    {
     "name": "stderr",
     "output_type": "stream",
     "text": [
      "\r",
      "Processing on GPU 1:  52%|███████████████████████████████████████████████████████▋                                                    | 492/955 [01:49<01:44,  4.43it/s]"
     ]
    },
    {
     "name": "stdout",
     "output_type": "stream",
     "text": [
      "Classifying: Core Damage, Torn Nodal Joints Core crack\n",
      "Top label: Resin buildup with confidence score: 0.18307960033416748\n"
     ]
    },
    {
     "name": "stderr",
     "output_type": "stream",
     "text": [
      "\r",
      "Processing on GPU 0:  51%|███████████████████████████████████████████████████████▍                                                    | 491/957 [01:49<01:42,  4.56it/s]"
     ]
    },
    {
     "name": "stdout",
     "output_type": "stream",
     "text": [
      "Classifying: Volume Porosity NDT Initial Failure\n",
      "Top label: Core deformation with confidence score: 0.5574743747711182\n"
     ]
    },
    {
     "name": "stderr",
     "output_type": "stream",
     "text": [
      "\r",
      "Processing on GPU 1:  52%|███████████████████████████████████████████████████████▊                                                    | 493/955 [01:50<01:43,  4.45it/s]"
     ]
    },
    {
     "name": "stdout",
     "output_type": "stream",
     "text": [
      "Classifying: Delamination Surface Delamination\n",
      "Top label: Foreign Object Damage with confidence score: 0.1713951677083969\n"
     ]
    },
    {
     "name": "stderr",
     "output_type": "stream",
     "text": [
      "\r",
      "Processing on GPU 0:  51%|███████████████████████████████████████████████████████▌                                                    | 492/957 [01:50<01:42,  4.55it/s]"
     ]
    },
    {
     "name": "stdout",
     "output_type": "stream",
     "text": [
      "Classifying: Contaminated material Contaminated material\n",
      "Top label: Resin buildup with confidence score: 0.20944052934646606\n"
     ]
    },
    {
     "name": "stderr",
     "output_type": "stream",
     "text": [
      "\r",
      "Processing on GPU 1:  52%|███████████████████████████████████████████████████████▊                                                    | 494/955 [01:50<01:43,  4.46it/s]"
     ]
    },
    {
     "name": "stdout",
     "output_type": "stream",
     "text": [
      "Classifying: Delamination Delamination\n",
      "Top label: Foreign Object Damage with confidence score: 0.22838647663593292\n"
     ]
    },
    {
     "name": "stderr",
     "output_type": "stream",
     "text": [
      "\r",
      "Processing on GPU 0:  52%|███████████████████████████████████████████████████████▋                                                    | 493/957 [01:50<01:42,  4.51it/s]"
     ]
    },
    {
     "name": "stdout",
     "output_type": "stream",
     "text": [
      "Classifying: Delamination Composite Manufacturing NDT Initial Failure\n",
      "Top label: Resin buildup with confidence score: 0.28864264488220215\n"
     ]
    },
    {
     "name": "stderr",
     "output_type": "stream",
     "text": [
      "\r",
      "Processing on GPU 1:  52%|███████████████████████████████████████████████████████▉                                                    | 495/955 [01:50<01:42,  4.50it/s]"
     ]
    },
    {
     "name": "stdout",
     "output_type": "stream",
     "text": [
      "Classifying: Porosity Volumetric Porosity\n",
      "Top label: Resin buildup with confidence score: 0.3112137019634247\n"
     ]
    },
    {
     "name": "stderr",
     "output_type": "stream",
     "text": [
      "\r",
      "Processing on GPU 0:  52%|███████████████████████████████████████████████████████▋                                                    | 494/957 [01:50<01:43,  4.47it/s]"
     ]
    },
    {
     "name": "stdout",
     "output_type": "stream",
     "text": [
      "Classifying: Volume Porosity NDT Initial Failure\n",
      "Top label: Core displacement with confidence score: 0.1835264265537262\n"
     ]
    },
    {
     "name": "stderr",
     "output_type": "stream",
     "text": [
      "\r",
      "Processing on GPU 1:  52%|████████████████████████████████████████████████████████                                                    | 496/955 [01:50<01:41,  4.52it/s]"
     ]
    },
    {
     "name": "stdout",
     "output_type": "stream",
     "text": [
      "Classifying: Splice Defect no splice line\n",
      "Top label: Foreign Object Damage with confidence score: 0.1713951677083969\n"
     ]
    },
    {
     "name": "stderr",
     "output_type": "stream",
     "text": [
      "\r",
      "Processing on GPU 0:  52%|███████████████████████████████████████████████████████▊                                                    | 495/957 [01:50<01:43,  4.48it/s]"
     ]
    },
    {
     "name": "stdout",
     "output_type": "stream",
     "text": [
      "Classifying: Material Missing or Incorrect positioned SEPARATION OF NODAL JOINTS\n",
      "Top label: Splice gap with confidence score: 0.8266147375106812\n"
     ]
    },
    {
     "name": "stderr",
     "output_type": "stream",
     "text": [
      "\r",
      "Processing on GPU 1:  52%|████████████████████████████████████████████████████████▏                                                   | 497/955 [01:50<01:41,  4.52it/s]"
     ]
    },
    {
     "name": "stdout",
     "output_type": "stream",
     "text": [
      "Classifying: Core Damage, Torn Nodal Joints Core crack\n",
      "Top label: Separation noodle joint with confidence score: 0.7795178294181824\n"
     ]
    },
    {
     "name": "stderr",
     "output_type": "stream",
     "text": [
      "\r",
      "Processing on GPU 0:  52%|███████████████████████████████████████████████████████▉                                                    | 496/957 [01:51<01:43,  4.47it/s]"
     ]
    },
    {
     "name": "stdout",
     "output_type": "stream",
     "text": [
      "Classifying: Volume Porosity VOLUMETRIC POROSITY ABOVE ACC LIMIT\n",
      "Top label: Core deformation with confidence score: 0.5574743747711182\n"
     ]
    },
    {
     "name": "stderr",
     "output_type": "stream",
     "text": [
      "\r",
      "Processing on GPU 1:  52%|████████████████████████████████████████████████████████▎                                                   | 498/955 [01:51<01:41,  4.48it/s]"
     ]
    },
    {
     "name": "stdout",
     "output_type": "stream",
     "text": [
      "Classifying: Porosity volumetric porosity\n",
      "Top label: Splice gap with confidence score: 0.18931837379932404\n"
     ]
    },
    {
     "name": "stderr",
     "output_type": "stream",
     "text": [
      "\r",
      "Processing on GPU 0:  52%|████████████████████████████████████████████████████████                                                    | 497/957 [01:51<01:42,  4.49it/s]"
     ]
    },
    {
     "name": "stdout",
     "output_type": "stream",
     "text": [
      "Classifying: Volume Porosity Volume Porosity\n",
      "Top label: Core displacement with confidence score: 0.18443597853183746\n"
     ]
    },
    {
     "name": "stderr",
     "output_type": "stream",
     "text": [
      "\r",
      "Processing on GPU 1:  52%|████████████████████████████████████████████████████████▍                                                   | 499/955 [01:51<01:41,  4.51it/s]"
     ]
    },
    {
     "name": "stdout",
     "output_type": "stream",
     "text": [
      "Classifying: Disbond Disbond\n",
      "Top label: Resin buildup with confidence score: 0.196485236287117\n"
     ]
    },
    {
     "name": "stderr",
     "output_type": "stream",
     "text": [
      "\r",
      "Processing on GPU 0:  52%|████████████████████████████████████████████████████████▏                                                   | 498/957 [01:51<01:42,  4.47it/s]"
     ]
    },
    {
     "name": "stdout",
     "output_type": "stream",
     "text": [
      "Classifying: Curing Vacuum Vacuum Leak\n",
      "Top label: Core split with confidence score: 0.2206205129623413\n"
     ]
    },
    {
     "name": "stderr",
     "output_type": "stream",
     "text": [
      "\r",
      "Processing on GPU 1:  52%|████████████████████████████████████████████████████████▌                                                   | 500/955 [01:51<01:41,  4.50it/s]"
     ]
    },
    {
     "name": "stdout",
     "output_type": "stream",
     "text": [
      "Classifying: Trim Incorrect Trim line not according to drawing\n",
      "Top label: Core displacement with confidence score: 0.18658626079559326\n"
     ]
    },
    {
     "name": "stderr",
     "output_type": "stream",
     "text": [
      "\r",
      "Processing on GPU 0:  52%|████████████████████████████████████████████████████████▎                                                   | 499/957 [01:51<01:42,  4.48it/s]"
     ]
    },
    {
     "name": "stdout",
     "output_type": "stream",
     "text": [
      "Classifying: Honeycomb geometry Unidentified defect\n",
      "Top label: Core deformation with confidence score: 0.17626063525676727\n"
     ]
    },
    {
     "name": "stderr",
     "output_type": "stream",
     "text": [
      "\r",
      "Processing on GPU 1:  52%|████████████████████████████████████████████████████████▋                                                   | 501/955 [01:51<01:40,  4.50it/s]"
     ]
    },
    {
     "name": "stdout",
     "output_type": "stream",
     "text": [
      "Classifying: Contour Deviation Loft line not according to drawing\n",
      "Top label: Foreign Object Damage with confidence score: 0.2807817757129669\n"
     ]
    },
    {
     "name": "stderr",
     "output_type": "stream",
     "text": [
      "\r",
      "Processing on GPU 0:  52%|████████████████████████████████████████████████████████▍                                                   | 500/957 [01:51<01:42,  4.47it/s]"
     ]
    },
    {
     "name": "stdout",
     "output_type": "stream",
     "text": [
      "Classifying: Volume Porosity VOLUMETRIC POROSITY ABOVE ACC LIMIT\n",
      "Top label: Separation noodle joint with confidence score: 0.19562257826328278\n"
     ]
    },
    {
     "name": "stderr",
     "output_type": "stream",
     "text": [
      "\r",
      "Processing on GPU 1:  53%|████████████████████████████████████████████████████████▊                                                   | 502/955 [01:52<01:40,  4.50it/s]"
     ]
    },
    {
     "name": "stdout",
     "output_type": "stream",
     "text": [
      "Classifying: Wrinkle Wrinkle\n",
      "Top label: Splice gap with confidence score: 0.18931837379932404\n"
     ]
    },
    {
     "name": "stderr",
     "output_type": "stream",
     "text": [
      "\r",
      "Processing on GPU 0:  52%|████████████████████████████████████████████████████████▌                                                   | 501/957 [01:52<01:41,  4.50it/s]"
     ]
    },
    {
     "name": "stdout",
     "output_type": "stream",
     "text": [
      "Classifying: Honeycomb geometry core sagging\n",
      "Top label: Core split with confidence score: 0.19982367753982544\n"
     ]
    },
    {
     "name": "stderr",
     "output_type": "stream",
     "text": [
      "\r",
      "Processing on GPU 1:  53%|████████████████████████████████████████████████████████▉                                                   | 503/955 [01:52<01:40,  4.51it/s]"
     ]
    },
    {
     "name": "stdout",
     "output_type": "stream",
     "text": [
      "Classifying: Foreign Objects in Parts FOD\n",
      "Top label: Core deformation with confidence score: 0.5423392653465271\n"
     ]
    },
    {
     "name": "stderr",
     "output_type": "stream",
     "text": [
      "\r",
      "Processing on GPU 0:  52%|████████████████████████████████████████████████████████▋                                                   | 502/957 [01:52<01:40,  4.52it/s]"
     ]
    },
    {
     "name": "stdout",
     "output_type": "stream",
     "text": [
      "Classifying: Honeycomb geometry Unidentified defect\n",
      "Top label: Foreign Object Damage with confidence score: 0.8216971158981323\n"
     ]
    },
    {
     "name": "stderr",
     "output_type": "stream",
     "text": [
      "\r",
      "Processing on GPU 1:  53%|████████████████████████████████████████████████████████▉                                                   | 504/955 [01:52<01:40,  4.49it/s]"
     ]
    },
    {
     "name": "stdout",
     "output_type": "stream",
     "text": [
      "Classifying: Delamination NDT Initial Failure\n",
      "Top label: Foreign Object Damage with confidence score: 0.2807817757129669\n"
     ]
    },
    {
     "name": "stderr",
     "output_type": "stream",
     "text": [
      "\r",
      "Processing on GPU 0:  53%|████████████████████████████████████████████████████████▊                                                   | 503/957 [01:52<01:40,  4.52it/s]"
     ]
    },
    {
     "name": "stdout",
     "output_type": "stream",
     "text": [
      "Classifying: Volume Porosity Volume Porosity\n",
      "Top label: Separation noodle joint with confidence score: 0.23277020454406738\n"
     ]
    },
    {
     "name": "stderr",
     "output_type": "stream",
     "text": [
      "\r",
      "Processing on GPU 1:  53%|█████████████████████████████████████████████████████████                                                   | 505/955 [01:52<01:39,  4.51it/s]"
     ]
    },
    {
     "name": "stdout",
     "output_type": "stream",
     "text": [
      "Classifying: Gap Between Parts Gap between part and bracket assy\n",
      "Top label: Resin buildup with confidence score: 0.196485236287117\n"
     ]
    },
    {
     "name": "stderr",
     "output_type": "stream",
     "text": [
      "\r",
      "Processing on GPU 0:  53%|████████████████████████████████████████████████████████▉                                                   | 504/957 [01:52<01:40,  4.51it/s]"
     ]
    },
    {
     "name": "stdout",
     "output_type": "stream",
     "text": [
      "Classifying: Delamination Composite Manufacturing Delamination\n",
      "Top label: Splice gap with confidence score: 0.2438056319952011\n"
     ]
    },
    {
     "name": "stderr",
     "output_type": "stream",
     "text": [
      "\r",
      "Processing on GPU 1:  53%|█████████████████████████████████████████████████████████▏                                                  | 506/955 [01:52<01:39,  4.50it/s]"
     ]
    },
    {
     "name": "stdout",
     "output_type": "stream",
     "text": [
      "Classifying: Part Damaged Impact\n",
      "Top label: Resin buildup with confidence score: 0.21785829961299896\n"
     ]
    },
    {
     "name": "stderr",
     "output_type": "stream",
     "text": [
      "\r",
      "Processing on GPU 0:  53%|████████████████████████████████████████████████████████▉                                                   | 505/957 [01:52<01:40,  4.51it/s]"
     ]
    },
    {
     "name": "stdout",
     "output_type": "stream",
     "text": [
      "Classifying: Curing Vacuum No trace of vacuum leak could be found\n",
      "Top label: Foreign Object Damage with confidence score: 0.2504497468471527\n"
     ]
    },
    {
     "name": "stderr",
     "output_type": "stream",
     "text": [
      "\r",
      "Processing on GPU 1:  53%|█████████████████████████████████████████████████████████▎                                                  | 507/955 [01:53<01:39,  4.51it/s]"
     ]
    },
    {
     "name": "stdout",
     "output_type": "stream",
     "text": [
      "Classifying: Disbond Disbond\n",
      "Top label: Splice gap with confidence score: 0.17398197948932648\n"
     ]
    },
    {
     "name": "stderr",
     "output_type": "stream",
     "text": [
      "\r",
      "Processing on GPU 0:  53%|█████████████████████████████████████████████████████████                                                   | 506/957 [01:53<01:40,  4.50it/s]"
     ]
    },
    {
     "name": "stdout",
     "output_type": "stream",
     "text": [
      "Classifying: Material Characteristics  Pinholes on adhesive\n",
      "Top label: Core split with confidence score: 0.2206205129623413\n"
     ]
    },
    {
     "name": "stderr",
     "output_type": "stream",
     "text": [
      "\r",
      "Processing on GPU 1:  53%|█████████████████████████████████████████████████████████▍                                                  | 508/955 [01:53<01:40,  4.45it/s]"
     ]
    },
    {
     "name": "stdout",
     "output_type": "stream",
     "text": [
      "Classifying: Bag Leak Vacuum leak during cycle\n",
      "Top label: Resin buildup with confidence score: 0.17771568894386292\n"
     ]
    },
    {
     "name": "stderr",
     "output_type": "stream",
     "text": [
      "\r",
      "Processing on GPU 0:  53%|█████████████████████████████████████████████████████████▏                                                  | 507/957 [01:53<01:38,  4.55it/s]"
     ]
    },
    {
     "name": "stdout",
     "output_type": "stream",
     "text": [
      "Classifying: Expired Material Mat. Shop life expired before final bag,\n",
      "Top label: Splice gap with confidence score: 0.16813203692436218\n"
     ]
    },
    {
     "name": "stderr",
     "output_type": "stream",
     "text": [
      "\r",
      "Processing on GPU 1:  53%|█████████████████████████████████████████████████████████▌                                                  | 509/955 [01:53<01:39,  4.47it/s]"
     ]
    },
    {
     "name": "stdout",
     "output_type": "stream",
     "text": [
      "Classifying: Dwell Too Long Long Dwell\n",
      "Top label: Foreign Object Damage with confidence score: 0.19441133737564087\n"
     ]
    },
    {
     "name": "stderr",
     "output_type": "stream",
     "text": [
      "\r",
      "Processing on GPU 0:  53%|█████████████████████████████████████████████████████████▎                                                  | 508/957 [01:53<01:38,  4.55it/s]"
     ]
    },
    {
     "name": "stdout",
     "output_type": "stream",
     "text": [
      "Classifying: Curing Vacuum No trace of vacuum leak could be found\n",
      "Top label: Resin buildup with confidence score: 0.26652583479881287\n"
     ]
    },
    {
     "name": "stderr",
     "output_type": "stream",
     "text": [
      "\r",
      "Processing on GPU 1:  53%|█████████████████████████████████████████████████████████▋                                                  | 510/955 [01:53<01:39,  4.49it/s]"
     ]
    },
    {
     "name": "stdout",
     "output_type": "stream",
     "text": [
      "Classifying: Wrinkle Wrinkle\n",
      "Top label: Splice gap with confidence score: 0.17398197948932648\n"
     ]
    },
    {
     "name": "stderr",
     "output_type": "stream",
     "text": [
      "\r",
      "Processing on GPU 0:  53%|█████████████████████████████████████████████████████████▍                                                  | 509/957 [01:53<01:38,  4.53it/s]"
     ]
    },
    {
     "name": "stdout",
     "output_type": "stream",
     "text": [
      "Classifying: Surface defects depression\n",
      "Top label: Core split with confidence score: 0.19982367753982544\n"
     ]
    },
    {
     "name": "stderr",
     "output_type": "stream",
     "text": [
      "\r",
      "Processing on GPU 1:  54%|█████████████████████████████████████████████████████████▊                                                  | 511/955 [01:54<01:39,  4.48it/s]"
     ]
    },
    {
     "name": "stdout",
     "output_type": "stream",
     "text": [
      "Classifying: Core Step Core Step\n",
      "Top label: Core displacement with confidence score: 0.20106063783168793\n"
     ]
    },
    {
     "name": "stderr",
     "output_type": "stream",
     "text": [
      "\r",
      "Processing on GPU 0:  53%|█████████████████████████████████████████████████████████▌                                                  | 510/957 [01:54<01:39,  4.51it/s]"
     ]
    },
    {
     "name": "stdout",
     "output_type": "stream",
     "text": [
      "Classifying: Honeycomb geometry  core reworked\n",
      "Top label: Core split with confidence score: 0.5320346355438232\n"
     ]
    },
    {
     "name": "stderr",
     "output_type": "stream",
     "text": [
      "\r",
      "Processing on GPU 1:  54%|█████████████████████████████████████████████████████████▉                                                  | 512/955 [01:54<01:38,  4.49it/s]"
     ]
    },
    {
     "name": "stdout",
     "output_type": "stream",
     "text": [
      "Classifying: Disbond NDT Initial Failure\n",
      "Top label: Core deformation with confidence score: 0.5134556889533997\n"
     ]
    },
    {
     "name": "stderr",
     "output_type": "stream",
     "text": [
      "\r",
      "Processing on GPU 0:  53%|█████████████████████████████████████████████████████████▋                                                  | 511/957 [01:54<01:38,  4.52it/s]"
     ]
    },
    {
     "name": "stdout",
     "output_type": "stream",
     "text": [
      "Classifying: Flute in laminate Core Splice Defect\n",
      "Top label: Core deformation with confidence score: 0.19701813161373138\n"
     ]
    },
    {
     "name": "stderr",
     "output_type": "stream",
     "text": [
      "\r",
      "Processing on GPU 1:  54%|██████████████████████████████████████████████████████████                                                  | 513/955 [01:54<01:38,  4.51it/s]"
     ]
    },
    {
     "name": "stdout",
     "output_type": "stream",
     "text": [
      "Classifying: Impact Damage Disbond\n",
      "Top label: Core split with confidence score: 0.30368736386299133\n"
     ]
    },
    {
     "name": "stderr",
     "output_type": "stream",
     "text": [
      "\r",
      "Processing on GPU 0:  54%|█████████████████████████████████████████████████████████▊                                                  | 512/957 [01:54<01:39,  4.47it/s]"
     ]
    },
    {
     "name": "stdout",
     "output_type": "stream",
     "text": [
      "Classifying: Honeycomb geometry Honeycomb geometry\n",
      "Top label: Separation noodle joint with confidence score: 0.20901598036289215\n"
     ]
    },
    {
     "name": "stderr",
     "output_type": "stream",
     "text": [
      "\r",
      "Processing on GPU 1:  54%|██████████████████████████████████████████████████████████▏                                                 | 514/955 [01:54<01:38,  4.49it/s]"
     ]
    },
    {
     "name": "stdout",
     "output_type": "stream",
     "text": [
      "Classifying: Imprint on Surface Dent core dent more than 4\n",
      "Top label: Resin buildup with confidence score: 0.2549569606781006\n"
     ]
    },
    {
     "name": "stderr",
     "output_type": "stream",
     "text": [
      "\r",
      "Processing on GPU 0:  54%|█████████████████████████████████████████████████████████▉                                                  | 513/957 [01:54<01:39,  4.48it/s]"
     ]
    },
    {
     "name": "stdout",
     "output_type": "stream",
     "text": [
      "Classifying: Delamination Composite Manufacturing Delamination Composite Manufacturing\n",
      "Top label: Core deformation with confidence score: 0.5675167441368103\n"
     ]
    },
    {
     "name": "stderr",
     "output_type": "stream",
     "text": [
      "\r",
      "Processing on GPU 1:  54%|██████████████████████████████████████████████████████████▏                                                 | 515/955 [01:54<01:37,  4.52it/s]"
     ]
    },
    {
     "name": "stdout",
     "output_type": "stream",
     "text": [
      "Classifying: Dimensional Deviation edge of core OOT\n",
      "Top label: Resin buildup with confidence score: 0.4829311668872833\n"
     ]
    },
    {
     "name": "stderr",
     "output_type": "stream",
     "text": [
      "\r",
      "Processing on GPU 0:  54%|██████████████████████████████████████████████████████████                                                  | 514/957 [01:55<01:39,  4.45it/s]"
     ]
    },
    {
     "name": "stdout",
     "output_type": "stream",
     "text": [
      "Classifying: Thickness deviation/ size Thickness is too low\n",
      "Top label: Core deformation with confidence score: 0.3160536289215088\n"
     ]
    },
    {
     "name": "stderr",
     "output_type": "stream",
     "text": [
      "\r",
      "Processing on GPU 1:  54%|██████████████████████████████████████████████████████████▎                                                 | 516/955 [01:55<01:37,  4.52it/s]"
     ]
    },
    {
     "name": "stdout",
     "output_type": "stream",
     "text": [
      "Classifying: Edge Flaking g2- Flaking during machining\n",
      "Top label: Core displacement with confidence score: 0.1790064424276352\n"
     ]
    },
    {
     "name": "stderr",
     "output_type": "stream",
     "text": [
      "\r",
      "Processing on GPU 0:  54%|██████████████████████████████████████████████████████████                                                  | 515/957 [01:55<01:38,  4.47it/s]"
     ]
    },
    {
     "name": "stdout",
     "output_type": "stream",
     "text": [
      "Classifying: Delamination Delamination and disbond in chamfer area\n",
      "Top label: Splice gap with confidence score: 0.16636809706687927\n"
     ]
    },
    {
     "name": "stderr",
     "output_type": "stream",
     "text": [
      "\r",
      "Processing on GPU 1:  54%|██████████████████████████████████████████████████████████▍                                                 | 517/955 [01:55<01:36,  4.52it/s]"
     ]
    },
    {
     "name": "stdout",
     "output_type": "stream",
     "text": [
      "Classifying: Disbond Disbond\n",
      "Top label: Splice gap with confidence score: 0.25186675786972046\n"
     ]
    },
    {
     "name": "stderr",
     "output_type": "stream",
     "text": [
      "\r",
      "Processing on GPU 0:  54%|██████████████████████████████████████████████████████████▏                                                 | 516/957 [01:55<01:38,  4.49it/s]"
     ]
    },
    {
     "name": "stdout",
     "output_type": "stream",
     "text": [
      "Classifying: Disbonding within part Disbonding within part\n",
      "Top label: Core split with confidence score: 0.2206205129623413\n"
     ]
    },
    {
     "name": "stderr",
     "output_type": "stream",
     "text": [
      "\r",
      "Processing on GPU 1:  54%|██████████████████████████████████████████████████████████▌                                                 | 518/955 [01:55<01:37,  4.50it/s]"
     ]
    },
    {
     "name": "stdout",
     "output_type": "stream",
     "text": [
      "Classifying: Disbond NDT  First Failure\n",
      "Top label: Core split with confidence score: 0.18174977600574493\n"
     ]
    },
    {
     "name": "stderr",
     "output_type": "stream",
     "text": [
      "\r",
      "Processing on GPU 0:  54%|██████████████████████████████████████████████████████████▎                                                 | 517/957 [01:55<01:37,  4.52it/s]"
     ]
    },
    {
     "name": "stdout",
     "output_type": "stream",
     "text": [
      "Classifying: Disbonding within part nan\n",
      "Top label: Separation noodle joint with confidence score: 0.22985298931598663\n"
     ]
    },
    {
     "name": "stderr",
     "output_type": "stream",
     "text": [
      "\r",
      "Processing on GPU 1:  54%|██████████████████████████████████████████████████████████▋                                                 | 519/955 [01:55<01:36,  4.51it/s]"
     ]
    },
    {
     "name": "stdout",
     "output_type": "stream",
     "text": [
      "Classifying: Core Damage, Torn Nodal Joints Torn nodal joints\n",
      "Top label: Separation noodle joint with confidence score: 0.3019968569278717\n"
     ]
    },
    {
     "name": "stderr",
     "output_type": "stream",
     "text": [
      "\r",
      "Processing on GPU 0:  54%|██████████████████████████████████████████████████████████▍                                                 | 518/957 [01:55<01:37,  4.52it/s]"
     ]
    },
    {
     "name": "stdout",
     "output_type": "stream",
     "text": [
      "Classifying: Core fill incorrect (Sandwich) core defect\n",
      "Top label: Core deformation with confidence score: 0.7040461897850037\n"
     ]
    },
    {
     "name": "stderr",
     "output_type": "stream",
     "text": [
      "\r",
      "Processing on GPU 1:  54%|██████████████████████████████████████████████████████████▊                                                 | 520/955 [01:56<01:36,  4.52it/s]"
     ]
    },
    {
     "name": "stdout",
     "output_type": "stream",
     "text": [
      "Classifying: Disbond Disbond\n",
      "Top label: Core deformation with confidence score: 0.7102081775665283\n"
     ]
    },
    {
     "name": "stderr",
     "output_type": "stream",
     "text": [
      "\r",
      "Processing on GPU 0:  54%|██████████████████████████████████████████████████████████▌                                                 | 519/957 [01:56<01:37,  4.49it/s]"
     ]
    },
    {
     "name": "stdout",
     "output_type": "stream",
     "text": [
      "Classifying: Delamination Composite Manufacturing NDT Initial Failure\n",
      "Top label: Core split with confidence score: 0.2206205129623413\n"
     ]
    },
    {
     "name": "stderr",
     "output_type": "stream",
     "text": [
      "\r",
      "Processing on GPU 1:  55%|██████████████████████████████████████████████████████████▉                                                 | 521/955 [01:56<01:36,  4.52it/s]"
     ]
    },
    {
     "name": "stdout",
     "output_type": "stream",
     "text": [
      "Classifying: Delamination Delamination\n",
      "Top label: Resin buildup with confidence score: 0.3112137019634247\n"
     ]
    },
    {
     "name": "stderr",
     "output_type": "stream",
     "text": [
      "\r",
      "Processing on GPU 0:  54%|██████████████████████████████████████████████████████████▋                                                 | 520/957 [01:56<01:37,  4.48it/s]"
     ]
    },
    {
     "name": "stdout",
     "output_type": "stream",
     "text": [
      "Classifying: Delamination Composite Manufacturing NDT Initial Failure\n",
      "Top label: Resin buildup with confidence score: 0.28864264488220215\n"
     ]
    },
    {
     "name": "stderr",
     "output_type": "stream",
     "text": [
      "\r",
      "Processing on GPU 1:  55%|███████████████████████████████████████████████████████████                                                 | 522/955 [01:56<01:35,  4.53it/s]"
     ]
    },
    {
     "name": "stdout",
     "output_type": "stream",
     "text": [
      "Classifying: Imprint on Surface Dent Core Dent\n",
      "Top label: Resin buildup with confidence score: 0.3112137019634247\n"
     ]
    },
    {
     "name": "stderr",
     "output_type": "stream",
     "text": [
      "\r",
      "Processing on GPU 0:  54%|██████████████████████████████████████████████████████████▊                                                 | 521/957 [01:56<01:37,  4.47it/s]"
     ]
    },
    {
     "name": "stdout",
     "output_type": "stream",
     "text": [
      "Classifying: Delamination Composite Manufacturing NDT Initial Failure\n",
      "Top label: Core deformation with confidence score: 0.4703635573387146\n"
     ]
    },
    {
     "name": "stderr",
     "output_type": "stream",
     "text": [
      "\r",
      "Processing on GPU 1:  55%|███████████████████████████████████████████████████████████▏                                                | 523/955 [01:56<01:35,  4.53it/s]"
     ]
    },
    {
     "name": "stdout",
     "output_type": "stream",
     "text": [
      "Classifying: Delamination Synskin Delamination\n",
      "Top label: Resin buildup with confidence score: 0.3112137019634247\n"
     ]
    },
    {
     "name": "stderr",
     "output_type": "stream",
     "text": [
      "\r",
      "Processing on GPU 0:  55%|██████████████████████████████████████████████████████████▉                                                 | 522/957 [01:56<01:37,  4.47it/s]"
     ]
    },
    {
     "name": "stdout",
     "output_type": "stream",
     "text": [
      "Classifying: Delamination Composite Manufacturing NDT Initial Failure\n",
      "Top label: Separation noodle joint with confidence score: 0.43258166313171387\n"
     ]
    },
    {
     "name": "stderr",
     "output_type": "stream",
     "text": [
      "\r",
      "Processing on GPU 1:  55%|███████████████████████████████████████████████████████████▎                                                | 524/955 [01:56<01:34,  4.56it/s]"
     ]
    },
    {
     "name": "stdout",
     "output_type": "stream",
     "text": [
      "Classifying: Delamination NDT Initial Failure\n",
      "Top label: Resin buildup with confidence score: 0.3112137019634247\n"
     ]
    },
    {
     "name": "stderr",
     "output_type": "stream",
     "text": [
      "\r",
      "Processing on GPU 0:  55%|███████████████████████████████████████████████████████████                                                 | 523/957 [01:57<01:37,  4.47it/s]"
     ]
    },
    {
     "name": "stdout",
     "output_type": "stream",
     "text": [
      "Classifying: Delamination Composite Manufacturing NDT Initial Failure\n",
      "Top label: Separation noodle joint with confidence score: 0.23277020454406738\n"
     ]
    },
    {
     "name": "stderr",
     "output_type": "stream",
     "text": [
      "\r",
      "Processing on GPU 1:  55%|███████████████████████████████████████████████████████████▎                                                | 525/955 [01:57<01:34,  4.54it/s]"
     ]
    },
    {
     "name": "stdout",
     "output_type": "stream",
     "text": [
      "Classifying: Delamination NDT Initial Failure\n",
      "Top label: Resin buildup with confidence score: 0.3112137019634247\n"
     ]
    },
    {
     "name": "stderr",
     "output_type": "stream",
     "text": [
      "\r",
      "Processing on GPU 0:  55%|███████████████████████████████████████████████████████████▏                                                | 524/957 [01:57<01:36,  4.48it/s]"
     ]
    },
    {
     "name": "stdout",
     "output_type": "stream",
     "text": [
      "Classifying: Honeycomb geometry NDT Second Failure\n",
      "Top label: Separation noodle joint with confidence score: 0.23277020454406738\n"
     ]
    },
    {
     "name": "stderr",
     "output_type": "stream",
     "text": [
      "\r",
      "Processing on GPU 1:  55%|███████████████████████████████████████████████████████████▍                                                | 526/955 [01:57<01:34,  4.53it/s]"
     ]
    },
    {
     "name": "stdout",
     "output_type": "stream",
     "text": [
      "Classifying: Delamination NDT Initial Failure\n",
      "Top label: Foreign Object Damage with confidence score: 0.21749457716941833\n"
     ]
    },
    {
     "name": "stderr",
     "output_type": "stream",
     "text": [
      "\r",
      "Processing on GPU 0:  55%|███████████████████████████████████████████████████████████▏                                                | 525/957 [01:57<01:35,  4.51it/s]"
     ]
    },
    {
     "name": "stdout",
     "output_type": "stream",
     "text": [
      "Classifying: Lack of resin Resin starved areas\n",
      "Top label: Separation noodle joint with confidence score: 0.23277020454406738\n"
     ]
    },
    {
     "name": "stderr",
     "output_type": "stream",
     "text": [
      "\r",
      "Processing on GPU 1:  55%|███████████████████████████████████████████████████████████▌                                                | 527/955 [01:57<01:34,  4.51it/s]"
     ]
    },
    {
     "name": "stdout",
     "output_type": "stream",
     "text": [
      "Classifying: Porosity nan\n",
      "Top label: Splice gap with confidence score: 0.17740529775619507\n"
     ]
    },
    {
     "name": "stderr",
     "output_type": "stream",
     "text": [
      "\r",
      "Processing on GPU 0:  55%|███████████████████████████████████████████████████████████▎                                                | 526/957 [01:57<01:35,  4.50it/s]"
     ]
    },
    {
     "name": "stdout",
     "output_type": "stream",
     "text": [
      "Classifying: Honeycomb geometry HC Cells deformation & nodes separation\n",
      "Top label: Separation noodle joint with confidence score: 0.3819141089916229\n"
     ]
    },
    {
     "name": "stderr",
     "output_type": "stream",
     "text": [
      "\r",
      "Processing on GPU 1:  55%|███████████████████████████████████████████████████████████▋                                                | 528/955 [01:57<01:34,  4.52it/s]"
     ]
    },
    {
     "name": "stdout",
     "output_type": "stream",
     "text": [
      "Classifying: Delamination nan\n",
      "Top label: Core split with confidence score: 0.2020585685968399\n"
     ]
    },
    {
     "name": "stderr",
     "output_type": "stream",
     "text": [
      "\r",
      "Processing on GPU 0:  55%|███████████████████████████████████████████████████████████▍                                                | 527/957 [01:57<01:35,  4.52it/s]"
     ]
    },
    {
     "name": "stdout",
     "output_type": "stream",
     "text": [
      "Classifying: Curing Vacuum vacuum leak\n",
      "Top label: Separation noodle joint with confidence score: 0.30506935715675354\n"
     ]
    },
    {
     "name": "stderr",
     "output_type": "stream",
     "text": [
      "\r",
      "Processing on GPU 1:  55%|███████████████████████████████████████████████████████████▊                                                | 529/955 [01:58<01:34,  4.49it/s]"
     ]
    },
    {
     "name": "stdout",
     "output_type": "stream",
     "text": [
      "Classifying: Delamination nan\n",
      "Top label: Splice gap with confidence score: 0.1877499371767044\n"
     ]
    },
    {
     "name": "stderr",
     "output_type": "stream",
     "text": [
      "\r",
      "Processing on GPU 0:  55%|███████████████████████████████████████████████████████████▌                                                | 528/957 [01:58<01:34,  4.52it/s]"
     ]
    },
    {
     "name": "stdout",
     "output_type": "stream",
     "text": [
      "Classifying: Material tearing out Honeycomb positioning defect\n",
      "Top label: Separation noodle joint with confidence score: 0.30506935715675354\n"
     ]
    },
    {
     "name": "stderr",
     "output_type": "stream",
     "text": [
      "\r",
      "Processing on GPU 1:  55%|███████████████████████████████████████████████████████████▉                                                | 530/955 [01:58<01:34,  4.49it/s]"
     ]
    },
    {
     "name": "stdout",
     "output_type": "stream",
     "text": [
      "Classifying: Delamination NDT Initial Failure\n",
      "Top label: Foreign Object Damage with confidence score: 0.1859961599111557\n"
     ]
    },
    {
     "name": "stderr",
     "output_type": "stream",
     "text": [
      "\r",
      "Processing on GPU 0:  55%|███████████████████████████████████████████████████████████▋                                                | 529/957 [01:58<01:34,  4.52it/s]"
     ]
    },
    {
     "name": "stdout",
     "output_type": "stream",
     "text": [
      "Classifying: Material tearing out HC nodes separation\n",
      "Top label: Separation noodle joint with confidence score: 0.23277020454406738\n"
     ]
    },
    {
     "name": "stderr",
     "output_type": "stream",
     "text": [
      "\r",
      "Processing on GPU 1:  56%|████████████████████████████████████████████████████████████                                                | 531/955 [01:58<01:34,  4.50it/s]"
     ]
    },
    {
     "name": "stdout",
     "output_type": "stream",
     "text": [
      "Classifying: Delamination NDT Initial Failure\n",
      "Top label: Splice gap with confidence score: 0.2267579734325409\n"
     ]
    },
    {
     "name": "stderr",
     "output_type": "stream",
     "text": [
      "\r",
      "Processing on GPU 0:  55%|███████████████████████████████████████████████████████████▊                                                | 530/957 [01:58<01:34,  4.51it/s]"
     ]
    },
    {
     "name": "stdout",
     "output_type": "stream",
     "text": [
      "Classifying: Expired Material Mat. Expired due to CCA clocking delay\n",
      "Top label: Separation noodle joint with confidence score: 0.23277020454406738\n"
     ]
    },
    {
     "name": "stderr",
     "output_type": "stream",
     "text": [
      "\r",
      "Processing on GPU 1:  56%|████████████████████████████████████████████████████████████▏                                               | 532/955 [01:58<01:33,  4.51it/s]"
     ]
    },
    {
     "name": "stdout",
     "output_type": "stream",
     "text": [
      "Classifying: Core Damage, Torn Nodal Joints Torn Nodal Joints\n",
      "Top label: Core split with confidence score: 0.1824481338262558\n"
     ]
    },
    {
     "name": "stderr",
     "output_type": "stream",
     "text": [
      "\r",
      "Processing on GPU 0:  55%|███████████████████████████████████████████████████████████▉                                                | 531/957 [01:58<01:34,  4.52it/s]"
     ]
    },
    {
     "name": "stdout",
     "output_type": "stream",
     "text": [
      "Classifying: Expired Material Mat. Expired due to CCA clocking delay\n",
      "Top label: Core deformation with confidence score: 0.6885278820991516\n"
     ]
    },
    {
     "name": "stderr",
     "output_type": "stream",
     "text": [
      "\r",
      "Processing on GPU 1:  56%|████████████████████████████████████████████████████████████▎                                               | 533/955 [01:58<01:34,  4.49it/s]"
     ]
    },
    {
     "name": "stdout",
     "output_type": "stream",
     "text": [
      "Classifying: Porosity Volumeric porosity\n",
      "Top label: Core split with confidence score: 0.1824481338262558\n"
     ]
    },
    {
     "name": "stderr",
     "output_type": "stream",
     "text": [
      "\r",
      "Processing on GPU 0:  56%|████████████████████████████████████████████████████████████                                                | 532/957 [01:58<01:33,  4.53it/s]"
     ]
    },
    {
     "name": "stdout",
     "output_type": "stream",
     "text": [
      "Classifying: Traceability not recorded Autoclave batch reporting typo error\n",
      "Top label: Core displacement with confidence score: 0.18263058364391327\n"
     ]
    },
    {
     "name": "stderr",
     "output_type": "stream",
     "text": [
      "\r",
      "Processing on GPU 1:  56%|████████████████████████████████████████████████████████████▍                                               | 534/955 [01:59<01:33,  4.50it/s]"
     ]
    },
    {
     "name": "stdout",
     "output_type": "stream",
     "text": [
      "Classifying: Porosity volumetric porosity\n",
      "Top label: Splice gap with confidence score: 0.15775130689144135\n"
     ]
    },
    {
     "name": "stderr",
     "output_type": "stream",
     "text": [
      "\r",
      "Processing on GPU 0:  56%|████████████████████████████████████████████████████████████▏                                               | 533/957 [01:59<01:34,  4.50it/s]"
     ]
    },
    {
     "name": "stdout",
     "output_type": "stream",
     "text": [
      "Classifying: Honeycomb geometry CORE SAG\n",
      "Top label: Core displacement with confidence score: 0.18443597853183746\n"
     ]
    },
    {
     "name": "stderr",
     "output_type": "stream",
     "text": [
      "\r",
      "Processing on GPU 1:  56%|████████████████████████████████████████████████████████████▌                                               | 535/955 [01:59<01:33,  4.50it/s]"
     ]
    },
    {
     "name": "stdout",
     "output_type": "stream",
     "text": [
      "Classifying: Chips / F.O.D. Damage FOD\n",
      "Top label: Core deformation with confidence score: 0.4482910931110382\n"
     ]
    },
    {
     "name": "stderr",
     "output_type": "stream",
     "text": [
      "\r",
      "Processing on GPU 0:  56%|████████████████████████████████████████████████████████████▎                                               | 534/957 [01:59<01:33,  4.51it/s]"
     ]
    },
    {
     "name": "stdout",
     "output_type": "stream",
     "text": [
      "Classifying: Honeycomb geometry NDT Initial Failure\n",
      "Top label: Foreign Object Damage with confidence score: 0.8262008428573608\n"
     ]
    },
    {
     "name": "stderr",
     "output_type": "stream",
     "text": [
      "\r",
      "Processing on GPU 1:  56%|████████████████████████████████████████████████████████████▌                                               | 536/955 [01:59<01:33,  4.46it/s]"
     ]
    },
    {
     "name": "stdout",
     "output_type": "stream",
     "text": [
      "Classifying: Shelf Life Expired Shelf life expired before curing\n",
      "Top label: Foreign Object Damage with confidence score: 0.216615229845047\n"
     ]
    },
    {
     "name": "stderr",
     "output_type": "stream",
     "text": [
      "\r",
      "Processing on GPU 0:  56%|████████████████████████████████████████████████████████████▍                                               | 535/957 [01:59<01:33,  4.53it/s]"
     ]
    },
    {
     "name": "stdout",
     "output_type": "stream",
     "text": [
      "Classifying: Honeycomb geometry nan\n",
      "Top label: Separation noodle joint with confidence score: 0.15353600680828094\n"
     ]
    },
    {
     "name": "stderr",
     "output_type": "stream",
     "text": [
      "\r",
      "Processing on GPU 1:  56%|████████████████████████████████████████████████████████████▋                                               | 537/955 [01:59<01:33,  4.46it/s]"
     ]
    },
    {
     "name": "stdout",
     "output_type": "stream",
     "text": [
      "Classifying: Autoclave Cure Not Per Procedure Cure not  per procedure\n",
      "Top label: Foreign Object Damage with confidence score: 0.16466893255710602\n"
     ]
    },
    {
     "name": "stderr",
     "output_type": "stream",
     "text": [
      "\r",
      "Processing on GPU 0:  56%|████████████████████████████████████████████████████████████▍                                               | 536/957 [01:59<01:32,  4.54it/s]"
     ]
    },
    {
     "name": "stdout",
     "output_type": "stream",
     "text": [
      "Classifying: Disbonding within part NDT Initial Failure\n",
      "Top label: Core split with confidence score: 0.2097143679857254\n"
     ]
    },
    {
     "name": "stderr",
     "output_type": "stream",
     "text": [
      "\r",
      "Processing on GPU 1:  56%|████████████████████████████████████████████████████████████▊                                               | 538/955 [02:00<01:33,  4.48it/s]"
     ]
    },
    {
     "name": "stdout",
     "output_type": "stream",
     "text": [
      "Classifying: Shelf Life Expired Shelf life expired before curing\n",
      "Top label: Splice gap with confidence score: 0.18522146344184875\n"
     ]
    },
    {
     "name": "stderr",
     "output_type": "stream",
     "text": [
      "\r",
      "Processing on GPU 0:  56%|████████████████████████████████████████████████████████████▌                                               | 537/957 [02:00<01:33,  4.50it/s]"
     ]
    },
    {
     "name": "stdout",
     "output_type": "stream",
     "text": [
      "Classifying: Volume Porosity Volume Porosity\n",
      "Top label: Separation noodle joint with confidence score: 0.15353600680828094\n"
     ]
    },
    {
     "name": "stderr",
     "output_type": "stream",
     "text": [
      "\r",
      "Processing on GPU 1:  56%|████████████████████████████████████████████████████████████▉                                               | 539/955 [02:00<01:32,  4.48it/s]"
     ]
    },
    {
     "name": "stdout",
     "output_type": "stream",
     "text": [
      "Classifying: Autoclave Cure Not Per Procedure cure cycle modified\n",
      "Top label: Resin buildup with confidence score: 0.196485236287117\n"
     ]
    },
    {
     "name": "stderr",
     "output_type": "stream",
     "text": [
      "\r",
      "Processing on GPU 0:  56%|████████████████████████████████████████████████████████████▋                                               | 538/957 [02:00<01:33,  4.49it/s]"
     ]
    },
    {
     "name": "stdout",
     "output_type": "stream",
     "text": [
      "Classifying: Honeycomb geometry Honeycomb geometry\n",
      "Top label: Core split with confidence score: 0.22007012367248535\n"
     ]
    },
    {
     "name": "stderr",
     "output_type": "stream",
     "text": [
      "\r",
      "Processing on GPU 1:  57%|█████████████████████████████████████████████████████████████                                               | 540/955 [02:00<01:32,  4.49it/s]"
     ]
    },
    {
     "name": "stdout",
     "output_type": "stream",
     "text": [
      "Classifying: Delamination Delamination\n",
      "Top label: Resin buildup with confidence score: 0.2549569606781006\n"
     ]
    },
    {
     "name": "stderr",
     "output_type": "stream",
     "text": [
      "\r",
      "Processing on GPU 0:  56%|████████████████████████████████████████████████████████████▊                                               | 539/957 [02:00<01:32,  4.50it/s]"
     ]
    },
    {
     "name": "stdout",
     "output_type": "stream",
     "text": [
      "Classifying: Expired Material Expired Material\n",
      "Top label: Resin buildup with confidence score: 0.28864264488220215\n"
     ]
    },
    {
     "name": "stderr",
     "output_type": "stream",
     "text": [
      "\r",
      "Processing on GPU 1:  57%|█████████████████████████████████████████████████████████████▏                                              | 541/955 [02:00<01:31,  4.52it/s]"
     ]
    },
    {
     "name": "stdout",
     "output_type": "stream",
     "text": [
      "Classifying: Imprint on Surface Dent Core Dent\n",
      "Top label: Splice gap with confidence score: 0.17805516719818115\n"
     ]
    },
    {
     "name": "stderr",
     "output_type": "stream",
     "text": [
      "\r",
      "Processing on GPU 0:  56%|████████████████████████████████████████████████████████████▉                                               | 540/957 [02:00<01:33,  4.47it/s]"
     ]
    },
    {
     "name": "stdout",
     "output_type": "stream",
     "text": [
      "Classifying: Volume Porosity Volumetric porosity\n",
      "Top label: Core deformation with confidence score: 0.4703635573387146\n"
     ]
    },
    {
     "name": "stderr",
     "output_type": "stream",
     "text": [
      "\r",
      "Processing on GPU 1:  57%|█████████████████████████████████████████████████████████████▎                                              | 542/955 [02:00<01:31,  4.50it/s]"
     ]
    },
    {
     "name": "stdout",
     "output_type": "stream",
     "text": [
      "Classifying: Porosity NDT Initial Failure\n",
      "Top label: Resin buildup with confidence score: 0.17078925669193268\n"
     ]
    },
    {
     "name": "stderr",
     "output_type": "stream",
     "text": [
      "\r",
      "Processing on GPU 0:  57%|█████████████████████████████████████████████████████████████                                               | 541/957 [02:00<01:32,  4.50it/s]"
     ]
    },
    {
     "name": "stdout",
     "output_type": "stream",
     "text": [
      "Classifying: Honeycomb geometry unidentified defect\n",
      "Top label: Separation noodle joint with confidence score: 0.3033478558063507\n"
     ]
    },
    {
     "name": "stderr",
     "output_type": "stream",
     "text": [
      "\r",
      "Processing on GPU 1:  57%|█████████████████████████████████████████████████████████████▍                                              | 543/955 [02:01<01:31,  4.50it/s]"
     ]
    },
    {
     "name": "stdout",
     "output_type": "stream",
     "text": [
      "Classifying: Disbond NDT Initial Failure\n",
      "Top label: Foreign Object Damage with confidence score: 0.19643515348434448\n"
     ]
    },
    {
     "name": "stderr",
     "output_type": "stream",
     "text": [
      "\r",
      "Processing on GPU 0:  57%|█████████████████████████████████████████████████████████████▏                                              | 542/957 [02:01<01:32,  4.50it/s]"
     ]
    },
    {
     "name": "stdout",
     "output_type": "stream",
     "text": [
      "Classifying: Disbonding within part Disbonding within part\n",
      "Top label: Core deformation with confidence score: 0.19701813161373138\n"
     ]
    },
    {
     "name": "stderr",
     "output_type": "stream",
     "text": [
      "\r",
      "Processing on GPU 1:  57%|█████████████████████████████████████████████████████████████▌                                              | 544/955 [02:01<01:30,  4.55it/s]"
     ]
    },
    {
     "name": "stdout",
     "output_type": "stream",
     "text": [
      "Classifying: Porosity porosity\n",
      "Top label: Core split with confidence score: 0.18174977600574493\n"
     ]
    },
    {
     "name": "stderr",
     "output_type": "stream",
     "text": [
      "\r",
      "Processing on GPU 0:  57%|█████████████████████████████████████████████████████████████▎                                              | 543/957 [02:01<01:33,  4.45it/s]"
     ]
    },
    {
     "name": "stdout",
     "output_type": "stream",
     "text": [
      "Classifying: Surface defects Depression\n",
      "Top label: Core deformation with confidence score: 0.22224535048007965\n"
     ]
    },
    {
     "name": "stderr",
     "output_type": "stream",
     "text": [
      "\r",
      "Processing on GPU 1:  57%|█████████████████████████████████████████████████████████████▋                                              | 545/955 [02:01<01:30,  4.52it/s]"
     ]
    },
    {
     "name": "stdout",
     "output_type": "stream",
     "text": [
      "Classifying: Imprint on Surface Dent core dent more than 4\n",
      "Top label: Core crash with confidence score: 0.1724521368741989\n"
     ]
    },
    {
     "name": "stderr",
     "output_type": "stream",
     "text": [
      "\r",
      "Processing on GPU 0:  57%|█████████████████████████████████████████████████████████████▍                                              | 544/957 [02:01<01:32,  4.44it/s]"
     ]
    },
    {
     "name": "stdout",
     "output_type": "stream",
     "text": [
      "Classifying: Overlapping Fibers wrinkles Short overlap noticed\n",
      "Top label: Core deformation with confidence score: 0.5675167441368103\n"
     ]
    },
    {
     "name": "stderr",
     "output_type": "stream",
     "text": [
      "\r",
      "Processing on GPU 1:  57%|█████████████████████████████████████████████████████████████▋                                              | 546/955 [02:01<01:30,  4.53it/s]"
     ]
    },
    {
     "name": "stdout",
     "output_type": "stream",
     "text": [
      "Classifying: Gaps, Overlaps In Layup Overlap out of tolerance\n",
      "Top label: Splice gap with confidence score: 0.22924219071865082\n"
     ]
    },
    {
     "name": "stderr",
     "output_type": "stream",
     "text": [
      "\r",
      "Processing on GPU 0:  57%|█████████████████████████████████████████████████████████████▌                                              | 545/957 [02:01<01:32,  4.46it/s]"
     ]
    },
    {
     "name": "stdout",
     "output_type": "stream",
     "text": [
      "Classifying: Disbonding within part Disbonding within part\n",
      "Top label: Splice gap with confidence score: 0.2720322906970978\n"
     ]
    },
    {
     "name": "stderr",
     "output_type": "stream",
     "text": [
      "\r",
      "Processing on GPU 1:  57%|█████████████████████████████████████████████████████████████▊                                              | 547/955 [02:02<01:30,  4.51it/s]"
     ]
    },
    {
     "name": "stdout",
     "output_type": "stream",
     "text": [
      "Classifying: Gaps, Overlaps In Layup Overlap out of tolerance\n",
      "Top label: Core split with confidence score: 0.18174977600574493\n"
     ]
    },
    {
     "name": "stderr",
     "output_type": "stream",
     "text": [
      "\r",
      "Processing on GPU 0:  57%|█████████████████████████████████████████████████████████████▌                                              | 546/957 [02:02<01:31,  4.49it/s]"
     ]
    },
    {
     "name": "stdout",
     "output_type": "stream",
     "text": [
      "Classifying: Disbonding within part NDT Initial Failure\n",
      "Top label: Splice gap with confidence score: 0.2720322906970978\n"
     ]
    },
    {
     "name": "stderr",
     "output_type": "stream",
     "text": [
      "\r",
      "Processing on GPU 1:  57%|█████████████████████████████████████████████████████████████▉                                              | 548/955 [02:02<01:29,  4.55it/s]"
     ]
    },
    {
     "name": "stdout",
     "output_type": "stream",
     "text": [
      "Classifying: Core Damage, Torn Nodal Joints torn nodal joints\n",
      "Top label: Splice gap with confidence score: 0.18522146344184875\n"
     ]
    },
    {
     "name": "stderr",
     "output_type": "stream",
     "text": [
      "\r",
      "Processing on GPU 0:  57%|█████████████████████████████████████████████████████████████▋                                              | 547/957 [02:02<01:32,  4.42it/s]"
     ]
    },
    {
     "name": "stdout",
     "output_type": "stream",
     "text": [
      "Classifying: Delamination Composite Manufacturing NDT Initial Failure\n",
      "Top label: Core deformation with confidence score: 0.6960847973823547\n"
     ]
    },
    {
     "name": "stderr",
     "output_type": "stream",
     "text": [
      "\r",
      "Processing on GPU 1:  57%|██████████████████████████████████████████████████████████████                                              | 549/955 [02:02<01:29,  4.53it/s]"
     ]
    },
    {
     "name": "stdout",
     "output_type": "stream",
     "text": [
      "Classifying: Disbond Disbond\n",
      "Top label: Resin buildup with confidence score: 0.3112137019634247\n"
     ]
    },
    {
     "name": "stderr",
     "output_type": "stream",
     "text": [
      "\r",
      "Processing on GPU 0:  57%|█████████████████████████████████████████████████████████████▊                                              | 548/957 [02:02<01:31,  4.46it/s]"
     ]
    },
    {
     "name": "stdout",
     "output_type": "stream",
     "text": [
      "Classifying: Wrinkles Wrinkles\n",
      "Top label: Core split with confidence score: 0.2206205129623413\n"
     ]
    },
    {
     "name": "stderr",
     "output_type": "stream",
     "text": [
      "\r",
      "Processing on GPU 1:  58%|██████████████████████████████████████████████████████████████▏                                             | 550/955 [02:02<01:29,  4.50it/s]"
     ]
    },
    {
     "name": "stdout",
     "output_type": "stream",
     "text": [
      "Classifying: Delamination NDT Initial Failure\n",
      "Top label: Resin buildup with confidence score: 0.1902356743812561\n"
     ]
    },
    {
     "name": "stderr",
     "output_type": "stream",
     "text": [
      "\r",
      "Processing on GPU 0:  57%|█████████████████████████████████████████████████████████████▉                                              | 549/957 [02:02<01:31,  4.48it/s]"
     ]
    },
    {
     "name": "stdout",
     "output_type": "stream",
     "text": [
      "Classifying: Honeycomb geometry EOC OOT\n",
      "Top label: Separation noodle joint with confidence score: 0.23277020454406738\n"
     ]
    },
    {
     "name": "stderr",
     "output_type": "stream",
     "text": [
      "\r",
      "Processing on GPU 1:  58%|██████████████████████████████████████████████████████████████▎                                             | 551/955 [02:02<01:29,  4.49it/s]"
     ]
    },
    {
     "name": "stdout",
     "output_type": "stream",
     "text": [
      "Classifying: Delamination nan\n",
      "Top label: Foreign Object Damage with confidence score: 0.8656831979751587\n"
     ]
    },
    {
     "name": "stderr",
     "output_type": "stream",
     "text": [
      "\r",
      "Processing on GPU 0:  57%|██████████████████████████████████████████████████████████████                                              | 550/957 [02:03<01:30,  4.51it/s]"
     ]
    },
    {
     "name": "stdout",
     "output_type": "stream",
     "text": [
      "Classifying: Material separation / Incorrect bonding FOD\n",
      "Top label: Separation noodle joint with confidence score: 0.30506935715675354\n"
     ]
    },
    {
     "name": "stderr",
     "output_type": "stream",
     "text": [
      "\r",
      "Processing on GPU 1:  58%|██████████████████████████████████████████████████████████████▍                                             | 552/955 [02:03<01:28,  4.53it/s]"
     ]
    },
    {
     "name": "stdout",
     "output_type": "stream",
     "text": [
      "Classifying: Delamination nan\n",
      "Top label: Foreign Object Damage with confidence score: 0.7810314893722534\n"
     ]
    },
    {
     "name": "stderr",
     "output_type": "stream",
     "text": [
      "\r",
      "Processing on GPU 0:  58%|██████████████████████████████████████████████████████████████▏                                             | 551/957 [02:03<01:30,  4.46it/s]"
     ]
    },
    {
     "name": "stdout",
     "output_type": "stream",
     "text": [
      "Classifying: Delamination Composite Manufacturing Delamination\n",
      "Top label: Separation noodle joint with confidence score: 0.30506935715675354\n"
     ]
    },
    {
     "name": "stderr",
     "output_type": "stream",
     "text": [
      "\r",
      "Processing on GPU 1:  58%|██████████████████████████████████████████████████████████████▌                                             | 553/955 [02:03<01:28,  4.53it/s]"
     ]
    },
    {
     "name": "stdout",
     "output_type": "stream",
     "text": [
      "Classifying: Delamination NDT Initial Failure\n",
      "Top label: Resin buildup with confidence score: 0.21785829961299896\n"
     ]
    },
    {
     "name": "stderr",
     "output_type": "stream",
     "text": [
      "\r",
      "Processing on GPU 0:  58%|██████████████████████████████████████████████████████████████▎                                             | 552/957 [02:03<01:30,  4.47it/s]"
     ]
    },
    {
     "name": "stdout",
     "output_type": "stream",
     "text": [
      "Classifying: Honeycomb geometry Honeycomb geometry\n",
      "Top label: Separation noodle joint with confidence score: 0.23277020454406738\n"
     ]
    },
    {
     "name": "stderr",
     "output_type": "stream",
     "text": [
      "\r",
      "Processing on GPU 1:  58%|██████████████████████████████████████████████████████████████▋                                             | 554/955 [02:03<01:28,  4.51it/s]"
     ]
    },
    {
     "name": "stdout",
     "output_type": "stream",
     "text": [
      "Classifying: Core Damage, Torn Nodal Joints nan\n",
      "Top label: Resin buildup with confidence score: 0.2549569606781006\n"
     ]
    },
    {
     "name": "stderr",
     "output_type": "stream",
     "text": [
      "\r",
      "Processing on GPU 0:  58%|██████████████████████████████████████████████████████████████▍                                             | 553/957 [02:03<01:29,  4.49it/s]"
     ]
    },
    {
     "name": "stdout",
     "output_type": "stream",
     "text": [
      "Classifying: Volume Porosity Volume Porosity\n",
      "Top label: Core deformation with confidence score: 0.6487520933151245\n"
     ]
    },
    {
     "name": "stderr",
     "output_type": "stream",
     "text": [
      "\r",
      "Processing on GPU 1:  58%|██████████████████████████████████████████████████████████████▊                                             | 555/955 [02:03<01:28,  4.51it/s]"
     ]
    },
    {
     "name": "stdout",
     "output_type": "stream",
     "text": [
      "Classifying: Dwell Too Long Dwell too long\n",
      "Top label: Resin buildup with confidence score: 0.196485236287117\n"
     ]
    },
    {
     "name": "stderr",
     "output_type": "stream",
     "text": [
      "\r",
      "Processing on GPU 0:  58%|██████████████████████████████████████████████████████████████▌                                             | 554/957 [02:03<01:29,  4.50it/s]"
     ]
    },
    {
     "name": "stdout",
     "output_type": "stream",
     "text": [
      "Classifying: Honeycomb geometry  Unidentified defect\n",
      "Top label: Core deformation with confidence score: 0.17797939479351044\n"
     ]
    },
    {
     "name": "stderr",
     "output_type": "stream",
     "text": [
      "\r",
      "Processing on GPU 1:  58%|██████████████████████████████████████████████████████████████▉                                             | 556/955 [02:04<01:27,  4.54it/s]"
     ]
    },
    {
     "name": "stdout",
     "output_type": "stream",
     "text": [
      "Classifying: Edge Thickness thickness OOT\n",
      "Top label: Foreign Object Damage with confidence score: 0.2620850205421448\n"
     ]
    },
    {
     "name": "stderr",
     "output_type": "stream",
     "text": [
      "\r",
      "Processing on GPU 0:  58%|██████████████████████████████████████████████████████████████▋                                             | 555/957 [02:04<01:29,  4.50it/s]"
     ]
    },
    {
     "name": "stdout",
     "output_type": "stream",
     "text": [
      "Classifying: Delamination Composite Manufacturing NDT Initial Failure\n",
      "Top label: Foreign Object Damage with confidence score: 0.6636252403259277\n"
     ]
    },
    {
     "name": "stderr",
     "output_type": "stream",
     "text": [
      "\r",
      "Processing on GPU 1:  58%|██████████████████████████████████████████████████████████████▉                                             | 557/955 [02:04<01:27,  4.57it/s]"
     ]
    },
    {
     "name": "stdout",
     "output_type": "stream",
     "text": [
      "Classifying: Impact Damage Part damaged on Edge\n",
      "Top label: Resin buildup with confidence score: 0.3112137019634247\n"
     ]
    },
    {
     "name": "stderr",
     "output_type": "stream",
     "text": [
      "\r",
      "Processing on GPU 0:  58%|██████████████████████████████████████████████████████████████▋                                             | 556/957 [02:04<01:30,  4.43it/s]"
     ]
    },
    {
     "name": "stdout",
     "output_type": "stream",
     "text": [
      "Classifying: Expired Material Expired Material\n",
      "Top label: Separation noodle joint with confidence score: 0.17280252277851105\n"
     ]
    },
    {
     "name": "stderr",
     "output_type": "stream",
     "text": [
      "\r",
      "Processing on GPU 1:  58%|███████████████████████████████████████████████████████████████                                             | 558/955 [02:04<01:26,  4.57it/s]"
     ]
    },
    {
     "name": "stdout",
     "output_type": "stream",
     "text": [
      "Classifying: Core Sag core sag\n",
      "Top label: Splice gap with confidence score: 0.17805516719818115\n"
     ]
    },
    {
     "name": "stderr",
     "output_type": "stream",
     "text": [
      "\r",
      "Processing on GPU 0:  58%|██████████████████████████████████████████████████████████████▊                                             | 557/957 [02:04<01:30,  4.42it/s]"
     ]
    },
    {
     "name": "stdout",
     "output_type": "stream",
     "text": [
      "Classifying: foil-/ foreign-inclusion detected  foil-/ foreign-inclusion detected\n",
      "Top label: Core split with confidence score: 0.34315168857574463\n"
     ]
    },
    {
     "name": "stderr",
     "output_type": "stream",
     "text": [
      "\r",
      "Processing on GPU 1:  59%|███████████████████████████████████████████████████████████████▏                                            | 559/955 [02:04<01:26,  4.56it/s]"
     ]
    },
    {
     "name": "stdout",
     "output_type": "stream",
     "text": [
      "Classifying: Delamination NDT Initial Failure\n",
      "Top label: Core split with confidence score: 0.2593185305595398\n"
     ]
    },
    {
     "name": "stderr",
     "output_type": "stream",
     "text": [
      "\r",
      "Processing on GPU 0:  58%|██████████████████████████████████████████████████████████████▉                                             | 558/957 [02:04<01:29,  4.46it/s]"
     ]
    },
    {
     "name": "stdout",
     "output_type": "stream",
     "text": [
      "Classifying: Expired Material Expired Material\n",
      "Top label: Separation noodle joint with confidence score: 0.23277020454406738\n"
     ]
    },
    {
     "name": "stderr",
     "output_type": "stream",
     "text": [
      "\r",
      "Processing on GPU 1:  59%|███████████████████████████████████████████████████████████████▎                                            | 560/955 [02:04<01:26,  4.56it/s]"
     ]
    },
    {
     "name": "stdout",
     "output_type": "stream",
     "text": [
      "Classifying: Faulty Milling of Contour Thickness Under size observed at the Fai\n",
      "Top label: Splice gap with confidence score: 0.17805516719818115\n"
     ]
    },
    {
     "name": "stderr",
     "output_type": "stream",
     "text": [
      "\r",
      "Processing on GPU 0:  58%|███████████████████████████████████████████████████████████████                                             | 559/957 [02:05<01:29,  4.44it/s]"
     ]
    },
    {
     "name": "stdout",
     "output_type": "stream",
     "text": [
      "Classifying: Geometry /Volume CA incorrect QG3-Loft line fail\n",
      "Top label: Core displacement with confidence score: 0.2008601576089859\n"
     ]
    },
    {
     "name": "stderr",
     "output_type": "stream",
     "text": [
      "\r",
      "Processing on GPU 1:  59%|███████████████████████████████████████████████████████████████▍                                            | 561/955 [02:05<01:26,  4.55it/s]"
     ]
    },
    {
     "name": "stdout",
     "output_type": "stream",
     "text": [
      "Classifying: Delamination Delamination\n",
      "Top label: Core displacement with confidence score: 0.20024167001247406\n"
     ]
    },
    {
     "name": "stderr",
     "output_type": "stream",
     "text": [
      "\r",
      "Processing on GPU 0:  59%|███████████████████████████████████████████████████████████████▏                                            | 560/957 [02:05<01:29,  4.42it/s]"
     ]
    },
    {
     "name": "stdout",
     "output_type": "stream",
     "text": [
      "Classifying: Honeycomb geometry Unidentified defect\n",
      "Top label: Resin buildup with confidence score: 0.28864264488220215\n"
     ]
    },
    {
     "name": "stderr",
     "output_type": "stream",
     "text": [
      "\r",
      "Processing on GPU 1:  59%|███████████████████████████████████████████████████████████████▌                                            | 562/955 [02:05<01:26,  4.53it/s]"
     ]
    },
    {
     "name": "stdout",
     "output_type": "stream",
     "text": [
      "Classifying: Tool Discrepancies Not Assignable Core crack\n",
      "Top label: Foreign Object Damage with confidence score: 0.2807817757129669\n"
     ]
    },
    {
     "name": "stderr",
     "output_type": "stream",
     "text": [
      "\r",
      "Processing on GPU 0:  59%|███████████████████████████████████████████████████████████████▎                                            | 561/957 [02:05<01:29,  4.43it/s]"
     ]
    },
    {
     "name": "stdout",
     "output_type": "stream",
     "text": [
      "Classifying: Delamination Composite Manufacturing Delamination Composite Manufacturing\n",
      "Top label: Core deformation with confidence score: 0.4085357189178467\n"
     ]
    },
    {
     "name": "stderr",
     "output_type": "stream",
     "text": [
      "\r",
      "Processing on GPU 1:  59%|███████████████████████████████████████████████████████████████▋                                            | 563/955 [02:05<01:26,  4.51it/s]"
     ]
    },
    {
     "name": "stdout",
     "output_type": "stream",
     "text": [
      "Classifying: Delamination Delamination\n",
      "Top label: Resin buildup with confidence score: 0.4829311668872833\n"
     ]
    },
    {
     "name": "stderr",
     "output_type": "stream",
     "text": [
      "\r",
      "Processing on GPU 0:  59%|███████████████████████████████████████████████████████████████▍                                            | 562/957 [02:05<01:29,  4.44it/s]"
     ]
    },
    {
     "name": "stdout",
     "output_type": "stream",
     "text": [
      "Classifying: Honeycomb geometry Core Defect\n",
      "Top label: Resin buildup with confidence score: 0.28864264488220215\n"
     ]
    },
    {
     "name": "stderr",
     "output_type": "stream",
     "text": [
      "\r",
      "Processing on GPU 1:  59%|███████████████████████████████████████████████████████████████▊                                            | 564/955 [02:05<01:25,  4.55it/s]"
     ]
    },
    {
     "name": "stdout",
     "output_type": "stream",
     "text": [
      "Classifying: Delamination Delamination\n",
      "Top label: Core deformation with confidence score: 0.48792463541030884\n"
     ]
    },
    {
     "name": "stderr",
     "output_type": "stream",
     "text": [
      "\r",
      "Processing on GPU 0:  59%|███████████████████████████████████████████████████████████████▌                                            | 563/957 [02:05<01:29,  4.40it/s]"
     ]
    },
    {
     "name": "stdout",
     "output_type": "stream",
     "text": [
      "Classifying: Volume Porosity Volumetric porosity\n",
      "Top label: Resin buildup with confidence score: 0.28864264488220215\n"
     ]
    },
    {
     "name": "stderr",
     "output_type": "stream",
     "text": [
      "\r",
      "Processing on GPU 1:  59%|███████████████████████████████████████████████████████████████▉                                            | 565/955 [02:06<01:25,  4.55it/s]"
     ]
    },
    {
     "name": "stdout",
     "output_type": "stream",
     "text": [
      "Classifying: Delamination Delamination\n",
      "Top label: Resin buildup with confidence score: 0.17078925669193268\n"
     ]
    },
    {
     "name": "stderr",
     "output_type": "stream",
     "text": [
      "\r",
      "Processing on GPU 0:  59%|███████████████████████████████████████████████████████████████▋                                            | 564/957 [02:06<01:28,  4.45it/s]"
     ]
    },
    {
     "name": "stdout",
     "output_type": "stream",
     "text": [
      "Classifying: Honeycomb geometry Core Defect\n",
      "Top label: Resin buildup with confidence score: 0.28864264488220215\n"
     ]
    },
    {
     "name": "stderr",
     "output_type": "stream",
     "text": [
      "\r",
      "Processing on GPU 1:  59%|████████████████████████████████████████████████████████████████                                            | 566/955 [02:06<01:26,  4.51it/s]"
     ]
    },
    {
     "name": "stdout",
     "output_type": "stream",
     "text": [
      "Classifying: Core Step Core Step\n",
      "Top label: Core deformation with confidence score: 0.48792463541030884\n"
     ]
    },
    {
     "name": "stderr",
     "output_type": "stream",
     "text": [
      "\r",
      "Processing on GPU 0:  59%|███████████████████████████████████████████████████████████████▊                                            | 565/957 [02:06<01:28,  4.45it/s]"
     ]
    },
    {
     "name": "stdout",
     "output_type": "stream",
     "text": [
      "Classifying: Expired Material Expired Material\n",
      "Top label: Core split with confidence score: 0.5320346355438232\n"
     ]
    },
    {
     "name": "stderr",
     "output_type": "stream",
     "text": [
      "\r",
      "Processing on GPU 1:  59%|████████████████████████████████████████████████████████████████                                            | 567/955 [02:06<01:25,  4.51it/s]"
     ]
    },
    {
     "name": "stdout",
     "output_type": "stream",
     "text": [
      "Classifying: Core Damage, Torn Nodal Joints Core defect\n",
      "Top label: Splice gap with confidence score: 0.17805516719818115\n"
     ]
    },
    {
     "name": "stderr",
     "output_type": "stream",
     "text": [
      "\r",
      "Processing on GPU 0:  59%|███████████████████████████████████████████████████████████████▊                                            | 566/957 [02:06<01:27,  4.46it/s]"
     ]
    },
    {
     "name": "stdout",
     "output_type": "stream",
     "text": [
      "Classifying: Expired Material Expired Material\n",
      "Top label: Core deformation with confidence score: 0.6720932126045227\n"
     ]
    },
    {
     "name": "stderr",
     "output_type": "stream",
     "text": [
      "\r",
      "Processing on GPU 1:  59%|████████████████████████████████████████████████████████████████▏                                           | 568/955 [02:06<01:25,  4.51it/s]"
     ]
    },
    {
     "name": "stdout",
     "output_type": "stream",
     "text": [
      "Classifying: Delamination Delamination\n",
      "Top label: Splice gap with confidence score: 0.17805516719818115\n"
     ]
    },
    {
     "name": "stderr",
     "output_type": "stream",
     "text": [
      "\r",
      "Processing on GPU 0:  59%|███████████████████████████████████████████████████████████████▉                                            | 567/957 [02:06<01:27,  4.46it/s]"
     ]
    },
    {
     "name": "stdout",
     "output_type": "stream",
     "text": [
      "Classifying: Curing Vacuum No trace of vacuum leak could be found\n",
      "Top label: Resin buildup with confidence score: 0.28864264488220215\n"
     ]
    },
    {
     "name": "stderr",
     "output_type": "stream",
     "text": [
      "\r",
      "Processing on GPU 1:  60%|████████████████████████████████████████████████████████████████▎                                           | 569/955 [02:06<01:25,  4.52it/s]"
     ]
    },
    {
     "name": "stdout",
     "output_type": "stream",
     "text": [
      "Classifying: Foreign Objects in Parts FOD\n",
      "Top label: Splice gap with confidence score: 0.17398197948932648\n"
     ]
    },
    {
     "name": "stderr",
     "output_type": "stream",
     "text": [
      "\r",
      "Processing on GPU 0:  59%|████████████████████████████████████████████████████████████████                                            | 568/957 [02:07<01:27,  4.44it/s]"
     ]
    },
    {
     "name": "stdout",
     "output_type": "stream",
     "text": [
      "Classifying: Disbonding within part Disbonding within part\n",
      "Top label: Foreign Object Damage with confidence score: 0.8216971158981323\n"
     ]
    },
    {
     "name": "stderr",
     "output_type": "stream",
     "text": [
      "\r",
      "Processing on GPU 1:  60%|████████████████████████████████████████████████████████████████▍                                           | 570/955 [02:07<01:24,  4.53it/s]"
     ]
    },
    {
     "name": "stdout",
     "output_type": "stream",
     "text": [
      "Classifying: Disbond Disbond located on Toolside\n",
      "Top label: Core split with confidence score: 0.18174977600574493\n"
     ]
    },
    {
     "name": "stderr",
     "output_type": "stream",
     "text": [
      "\r",
      "Processing on GPU 0:  59%|████████████████████████████████████████████████████████████████▏                                           | 569/957 [02:07<01:27,  4.45it/s]"
     ]
    },
    {
     "name": "stdout",
     "output_type": "stream",
     "text": [
      "Classifying: Volume Porosity Volume Porosity\n",
      "Top label: Separation noodle joint with confidence score: 0.25411155819892883\n"
     ]
    },
    {
     "name": "stderr",
     "output_type": "stream",
     "text": [
      "\r",
      "Processing on GPU 1:  60%|████████████████████████████████████████████████████████████████▌                                           | 571/955 [02:07<01:24,  4.53it/s]"
     ]
    },
    {
     "name": "stdout",
     "output_type": "stream",
     "text": [
      "Classifying: Disbond Disbond\n",
      "Top label: Resin buildup with confidence score: 0.196485236287117\n"
     ]
    },
    {
     "name": "stderr",
     "output_type": "stream",
     "text": [
      "\r",
      "Processing on GPU 0:  60%|████████████████████████████████████████████████████████████████▎                                           | 570/957 [02:07<01:26,  4.47it/s]"
     ]
    },
    {
     "name": "stdout",
     "output_type": "stream",
     "text": [
      "Classifying: Delamination Composite Manufacturing Delamination Composite Manufacturing\n",
      "Top label: Core split with confidence score: 0.2206205129623413\n"
     ]
    },
    {
     "name": "stderr",
     "output_type": "stream",
     "text": [
      "\r",
      "Processing on GPU 1:  60%|████████████████████████████████████████████████████████████████▋                                           | 572/955 [02:07<01:25,  4.50it/s]"
     ]
    },
    {
     "name": "stdout",
     "output_type": "stream",
     "text": [
      "Classifying: Dents Over Splice Lines Dent over splice line\n",
      "Top label: Resin buildup with confidence score: 0.4829311668872833\n"
     ]
    },
    {
     "name": "stderr",
     "output_type": "stream",
     "text": [
      "\r",
      "Processing on GPU 0:  60%|████████████████████████████████████████████████████████████████▍                                           | 571/957 [02:07<01:26,  4.49it/s]"
     ]
    },
    {
     "name": "stdout",
     "output_type": "stream",
     "text": [
      "Classifying: Expired Material Material Expire due to SAP clockin delay\n",
      "Top label: Splice gap with confidence score: 0.3017521798610687\n"
     ]
    },
    {
     "name": "stderr",
     "output_type": "stream",
     "text": [
      "\r",
      "Processing on GPU 1:  60%|████████████████████████████████████████████████████████████████▊                                           | 573/955 [02:07<01:24,  4.52it/s]"
     ]
    },
    {
     "name": "stdout",
     "output_type": "stream",
     "text": [
      "Classifying: Disbond Disbond\n",
      "Top label: Splice gap with confidence score: 0.16960112750530243\n"
     ]
    },
    {
     "name": "stderr",
     "output_type": "stream",
     "text": [
      "\r",
      "Processing on GPU 0:  60%|████████████████████████████████████████████████████████████████▌                                           | 572/957 [02:07<01:25,  4.48it/s]"
     ]
    },
    {
     "name": "stdout",
     "output_type": "stream",
     "text": [
      "Classifying: Honeycomb geometry Disbonding within part\n",
      "Top label: Core split with confidence score: 0.2206205129623413\n"
     ]
    },
    {
     "name": "stderr",
     "output_type": "stream",
     "text": [
      "\r",
      "Processing on GPU 1:  60%|████████████████████████████████████████████████████████████████▉                                           | 574/955 [02:08<01:24,  4.53it/s]"
     ]
    },
    {
     "name": "stdout",
     "output_type": "stream",
     "text": [
      "Classifying: Dents Over Splice Lines Dent over splice line\n",
      "Top label: Splice gap with confidence score: 0.18367376923561096\n"
     ]
    },
    {
     "name": "stderr",
     "output_type": "stream",
     "text": [
      "\r",
      "Processing on GPU 0:  60%|████████████████████████████████████████████████████████████████▋                                           | 573/957 [02:08<01:25,  4.47it/s]"
     ]
    },
    {
     "name": "stdout",
     "output_type": "stream",
     "text": [
      "Classifying: Honeycomb geometry Honeycomb geometry\n",
      "Top label: Splice gap with confidence score: 0.3017521798610687\n"
     ]
    },
    {
     "name": "stderr",
     "output_type": "stream",
     "text": [
      "\r",
      "Processing on GPU 1:  60%|█████████████████████████████████████████████████████████████████                                           | 575/955 [02:08<01:23,  4.56it/s]"
     ]
    },
    {
     "name": "stdout",
     "output_type": "stream",
     "text": [
      "Classifying: Impact Damage Impact damage\n",
      "Top label: Resin buildup with confidence score: 0.2549569606781006\n"
     ]
    },
    {
     "name": "stderr",
     "output_type": "stream",
     "text": [
      "\r",
      "Processing on GPU 0:  60%|████████████████████████████████████████████████████████████████▊                                           | 574/957 [02:08<01:26,  4.42it/s]"
     ]
    },
    {
     "name": "stdout",
     "output_type": "stream",
     "text": [
      "Classifying: Delamination Composite Manufacturing Delamination Composite Manufacturing\n",
      "Top label: Foreign Object Damage with confidence score: 0.2352115958929062\n"
     ]
    },
    {
     "name": "stderr",
     "output_type": "stream",
     "text": [
      "\r",
      "Processing on GPU 1:  60%|█████████████████████████████████████████████████████████████████▏                                          | 576/955 [02:08<01:23,  4.56it/s]"
     ]
    },
    {
     "name": "stdout",
     "output_type": "stream",
     "text": [
      "Classifying: Missing  See LT\n",
      "Top label: Resin buildup with confidence score: 0.4829311668872833\n"
     ]
    },
    {
     "name": "stderr",
     "output_type": "stream",
     "text": [
      "\r",
      "Processing on GPU 0:  60%|████████████████████████████████████████████████████████████████▉                                           | 575/957 [02:08<01:26,  4.43it/s]"
     ]
    },
    {
     "name": "stdout",
     "output_type": "stream",
     "text": [
      "Classifying: Honeycomb geometry  Honeycomb geometry\n",
      "Top label: Splice gap with confidence score: 0.2285194844007492\n"
     ]
    },
    {
     "name": "stderr",
     "output_type": "stream",
     "text": [
      "\r",
      "Processing on GPU 1:  60%|█████████████████████████████████████████████████████████████████▎                                          | 577/955 [02:08<01:22,  4.56it/s]"
     ]
    },
    {
     "name": "stdout",
     "output_type": "stream",
     "text": [
      "Classifying: Disbond Disbond\n",
      "Top label: Resin buildup with confidence score: 0.20131634175777435\n"
     ]
    },
    {
     "name": "stderr",
     "output_type": "stream",
     "text": [
      "\r",
      "Processing on GPU 0:  60%|█████████████████████████████████████████████████████████████████                                           | 576/957 [02:08<01:25,  4.46it/s]"
     ]
    },
    {
     "name": "stdout",
     "output_type": "stream",
     "text": [
      "Classifying: Expired Material Material Expire due to SAP clockin delay\n",
      "Top label: Core split with confidence score: 0.2206205129623413\n"
     ]
    },
    {
     "name": "stderr",
     "output_type": "stream",
     "text": [
      "\r",
      "Processing on GPU 1:  61%|█████████████████████████████████████████████████████████████████▎                                          | 578/955 [02:08<01:22,  4.55it/s]"
     ]
    },
    {
     "name": "stdout",
     "output_type": "stream",
     "text": [
      "Classifying: Splice Defect Splice defect\n",
      "Top label: Splice gap with confidence score: 0.16960112750530243\n"
     ]
    },
    {
     "name": "stderr",
     "output_type": "stream",
     "text": [
      "\r",
      "Processing on GPU 0:  60%|█████████████████████████████████████████████████████████████████                                           | 577/957 [02:09<01:24,  4.48it/s]"
     ]
    },
    {
     "name": "stdout",
     "output_type": "stream",
     "text": [
      "Classifying: Expired Material Expired Material\n",
      "Top label: Splice gap with confidence score: 0.49574118852615356\n"
     ]
    },
    {
     "name": "stderr",
     "output_type": "stream",
     "text": [
      "\r",
      "Processing on GPU 1:  61%|█████████████████████████████████████████████████████████████████▍                                          | 579/955 [02:09<01:22,  4.57it/s]"
     ]
    },
    {
     "name": "stdout",
     "output_type": "stream",
     "text": [
      "Classifying: Core Step Core step\n",
      "Top label: Splice gap with confidence score: 0.17805516719818115\n"
     ]
    },
    {
     "name": "stderr",
     "output_type": "stream",
     "text": [
      "\r",
      "Processing on GPU 0:  60%|█████████████████████████████████████████████████████████████████▏                                          | 578/957 [02:09<01:24,  4.48it/s]"
     ]
    },
    {
     "name": "stdout",
     "output_type": "stream",
     "text": [
      "Classifying: Shape Deep groves on CHF outer surface\n",
      "Top label: Core split with confidence score: 0.43675461411476135\n"
     ]
    },
    {
     "name": "stderr",
     "output_type": "stream",
     "text": [
      "\r",
      "Processing on GPU 1:  61%|█████████████████████████████████████████████████████████████████▌                                          | 580/955 [02:09<01:22,  4.52it/s]"
     ]
    },
    {
     "name": "stdout",
     "output_type": "stream",
     "text": [
      "Classifying: Dents Over Splice Lines Dent over splice line\n",
      "Top label: Core deformation with confidence score: 0.1848202496767044\n"
     ]
    },
    {
     "name": "stderr",
     "output_type": "stream",
     "text": [
      "\r",
      "Processing on GPU 0:  61%|█████████████████████████████████████████████████████████████████▎                                          | 579/957 [02:09<01:24,  4.49it/s]"
     ]
    },
    {
     "name": "stdout",
     "output_type": "stream",
     "text": [
      "Classifying: Surface defects Dent found in tool surface\n",
      "Top label: Splice gap with confidence score: 0.3017521798610687\n"
     ]
    },
    {
     "name": "stderr",
     "output_type": "stream",
     "text": [
      "\r",
      "Processing on GPU 1:  61%|█████████████████████████████████████████████████████████████████▋                                          | 581/955 [02:09<01:22,  4.52it/s]"
     ]
    },
    {
     "name": "stdout",
     "output_type": "stream",
     "text": [
      "Classifying: Part Damaged Impact\n",
      "Top label: Splice gap with confidence score: 0.2646784782409668\n"
     ]
    },
    {
     "name": "stderr",
     "output_type": "stream",
     "text": [
      "\r",
      "Processing on GPU 0:  61%|█████████████████████████████████████████████████████████████████▍                                          | 580/957 [02:09<01:23,  4.50it/s]"
     ]
    },
    {
     "name": "stdout",
     "output_type": "stream",
     "text": [
      "Classifying: Disbonding within part Disbonding\n",
      "Top label: Foreign Object Damage with confidence score: 0.2504497468471527\n"
     ]
    },
    {
     "name": "stderr",
     "output_type": "stream",
     "text": [
      "\r",
      "Processing on GPU 1:  61%|█████████████████████████████████████████████████████████████████▊                                          | 582/955 [02:09<01:22,  4.52it/s]"
     ]
    },
    {
     "name": "stdout",
     "output_type": "stream",
     "text": [
      "Classifying: Core Damage, Torn Nodal Joints Core defect\n",
      "Top label: Splice gap with confidence score: 0.2045622020959854\n"
     ]
    },
    {
     "name": "stderr",
     "output_type": "stream",
     "text": [
      "\r",
      "Processing on GPU 0:  61%|█████████████████████████████████████████████████████████████████▌                                          | 581/957 [02:09<01:23,  4.51it/s]"
     ]
    },
    {
     "name": "stdout",
     "output_type": "stream",
     "text": [
      "Classifying: Bonding Disbond observed from toolside\n",
      "Top label: Core deformation with confidence score: 0.6720932126045227\n"
     ]
    },
    {
     "name": "stderr",
     "output_type": "stream",
     "text": [
      "\r",
      "Processing on GPU 1:  61%|█████████████████████████████████████████████████████████████████▉                                          | 583/955 [02:10<01:22,  4.52it/s]"
     ]
    },
    {
     "name": "stdout",
     "output_type": "stream",
     "text": [
      "Classifying: Porosity Volumetric  Porosity\n",
      "Top label: Core deformation with confidence score: 0.20641307532787323\n"
     ]
    },
    {
     "name": "stderr",
     "output_type": "stream",
     "text": [
      "\r",
      "Processing on GPU 0:  61%|█████████████████████████████████████████████████████████████████▋                                          | 582/957 [02:10<01:23,  4.51it/s]"
     ]
    },
    {
     "name": "stdout",
     "output_type": "stream",
     "text": [
      "Classifying: Volume Porosity Volumetric porosity above size limit\n",
      "Top label: Core displacement with confidence score: 0.19264408946037292\n"
     ]
    },
    {
     "name": "stderr",
     "output_type": "stream",
     "text": [
      "\r",
      "Processing on GPU 1:  61%|██████████████████████████████████████████████████████████████████                                          | 584/955 [02:10<01:22,  4.51it/s]"
     ]
    },
    {
     "name": "stdout",
     "output_type": "stream",
     "text": [
      "Classifying: Delamination Delamination\n",
      "Top label: Splice gap with confidence score: 0.17096780240535736\n"
     ]
    },
    {
     "name": "stderr",
     "output_type": "stream",
     "text": [
      "\r",
      "Processing on GPU 0:  61%|█████████████████████████████████████████████████████████████████▊                                          | 583/957 [02:10<01:23,  4.50it/s]"
     ]
    },
    {
     "name": "stdout",
     "output_type": "stream",
     "text": [
      "Classifying: Disbonding within part NDT Initial Failure\n",
      "Top label: Resin buildup with confidence score: 0.28864264488220215\n"
     ]
    },
    {
     "name": "stderr",
     "output_type": "stream",
     "text": [
      "\r",
      "Processing on GPU 1:  61%|██████████████████████████████████████████████████████████████████▏                                         | 585/955 [02:10<01:22,  4.48it/s]"
     ]
    },
    {
     "name": "stdout",
     "output_type": "stream",
     "text": [
      "Classifying: Porosity Layer Porosity\n",
      "Top label: Splice gap with confidence score: 0.18522146344184875\n"
     ]
    },
    {
     "name": "stderr",
     "output_type": "stream",
     "text": [
      "\r",
      "Processing on GPU 0:  61%|█████████████████████████████████████████████████████████████████▉                                          | 584/957 [02:10<01:22,  4.50it/s]"
     ]
    },
    {
     "name": "stdout",
     "output_type": "stream",
     "text": [
      "Classifying: Disbonding within part NDT 2nd failure\n",
      "Top label: Core deformation with confidence score: 0.16270776093006134\n"
     ]
    },
    {
     "name": "stderr",
     "output_type": "stream",
     "text": [
      "\r",
      "Processing on GPU 1:  61%|██████████████████████████████████████████████████████████████████▎                                         | 586/955 [02:10<01:22,  4.45it/s]"
     ]
    },
    {
     "name": "stdout",
     "output_type": "stream",
     "text": [
      "Classifying: Over Sanded Over Sanded\n",
      "Top label: Splice gap with confidence score: 0.177519753575325\n"
     ]
    },
    {
     "name": "stderr",
     "output_type": "stream",
     "text": [
      "\r",
      "Processing on GPU 0:  61%|██████████████████████████████████████████████████████████████████                                          | 585/957 [02:10<01:21,  4.54it/s]"
     ]
    },
    {
     "name": "stdout",
     "output_type": "stream",
     "text": [
      "Classifying: Volume Porosity Volumetric porosity  above size limits.\n",
      "Top label: Core split with confidence score: 0.32629087567329407\n"
     ]
    },
    {
     "name": "stderr",
     "output_type": "stream",
     "text": [
      "\r",
      "Processing on GPU 1:  61%|██████████████████████████████████████████████████████████████████▍                                         | 587/955 [02:10<01:22,  4.45it/s]"
     ]
    },
    {
     "name": "stdout",
     "output_type": "stream",
     "text": [
      "Classifying: Shelf Life Expired Shelf life expired before cure\n",
      "Top label: Resin buildup with confidence score: 0.15752919018268585\n"
     ]
    },
    {
     "name": "stderr",
     "output_type": "stream",
     "text": [
      "\r",
      "Processing on GPU 0:  61%|██████████████████████████████████████████████████████████████████▏                                         | 586/957 [02:11<01:21,  4.53it/s]"
     ]
    },
    {
     "name": "stdout",
     "output_type": "stream",
     "text": [
      "Classifying: Mechanical Trimming / Contour milling Part has been trimed excess atthe cutout\n",
      "Top label: Splice gap with confidence score: 0.1399684101343155\n"
     ]
    },
    {
     "name": "stderr",
     "output_type": "stream",
     "text": [
      "\r",
      "Processing on GPU 1:  62%|██████████████████████████████████████████████████████████████████▍                                         | 588/955 [02:11<01:22,  4.46it/s]"
     ]
    },
    {
     "name": "stdout",
     "output_type": "stream",
     "text": [
      "Classifying: Splice Defect Core Splice Defect\n",
      "Top label: Splice gap with confidence score: 0.2107267677783966\n"
     ]
    },
    {
     "name": "stderr",
     "output_type": "stream",
     "text": [
      "\r",
      "Processing on GPU 0:  61%|██████████████████████████████████████████████████████████████████▏                                         | 587/957 [02:11<01:20,  4.60it/s]"
     ]
    },
    {
     "name": "stdout",
     "output_type": "stream",
     "text": [
      "Classifying: Deviations from framework DEVIATION FROM FRAME WORK\n",
      "Top label: Core split with confidence score: 0.45720699429512024\n"
     ]
    },
    {
     "name": "stderr",
     "output_type": "stream",
     "text": [
      "\r",
      "Processing on GPU 1:  62%|██████████████████████████████████████████████████████████████████▌                                         | 589/955 [02:11<01:23,  4.36it/s]"
     ]
    },
    {
     "name": "stdout",
     "output_type": "stream",
     "text": [
      "Classifying: Ply Damage Synskin defect by cnc\n",
      "Top label: Core displacement with confidence score: 0.23231031000614166\n"
     ]
    },
    {
     "name": "stderr",
     "output_type": "stream",
     "text": [
      "\r",
      "Processing on GPU 0:  61%|██████████████████████████████████████████████████████████████████▎                                         | 588/957 [02:11<01:20,  4.60it/s]"
     ]
    },
    {
     "name": "stdout",
     "output_type": "stream",
     "text": [
      "Classifying: Disbonding within part Disbond observed from toolside\n",
      "Top label: Separation noodle joint with confidence score: 0.2774431109428406\n"
     ]
    },
    {
     "name": "stderr",
     "output_type": "stream",
     "text": [
      "\r",
      "Processing on GPU 1:  62%|██████████████████████████████████████████████████████████████████▋                                         | 590/955 [02:11<01:22,  4.40it/s]"
     ]
    },
    {
     "name": "stdout",
     "output_type": "stream",
     "text": [
      "Classifying: Trim Incorrect machining error\n",
      "Top label: Core displacement with confidence score: 0.17845968902111053\n"
     ]
    },
    {
     "name": "stderr",
     "output_type": "stream",
     "text": [
      "\r",
      "Processing on GPU 0:  62%|██████████████████████████████████████████████████████████████████▍                                         | 589/957 [02:11<01:20,  4.58it/s]"
     ]
    },
    {
     "name": "stdout",
     "output_type": "stream",
     "text": [
      "Classifying: Honeycomb geometry Honeycomb geometry\n",
      "Top label: Foreign Object Damage with confidence score: 0.18958432972431183\n"
     ]
    },
    {
     "name": "stderr",
     "output_type": "stream",
     "text": [
      "\r",
      "Processing on GPU 1:  62%|██████████████████████████████████████████████████████████████████▊                                         | 591/955 [02:11<01:22,  4.41it/s]"
     ]
    },
    {
     "name": "stdout",
     "output_type": "stream",
     "text": [
      "Classifying: Core Damage, Torn Nodal Joints Core defect\n",
      "Top label: Resin buildup with confidence score: 0.2549569606781006\n"
     ]
    },
    {
     "name": "stderr",
     "output_type": "stream",
     "text": [
      "\r",
      "Processing on GPU 0:  62%|██████████████████████████████████████████████████████████████████▌                                         | 590/957 [02:11<01:20,  4.56it/s]"
     ]
    },
    {
     "name": "stdout",
     "output_type": "stream",
     "text": [
      "Classifying: Mechanical Trimming / Contour milling Part has been trimed excess atthe cutout\n",
      "Top label: Core deformation with confidence score: 0.6720932126045227\n"
     ]
    },
    {
     "name": "stderr",
     "output_type": "stream",
     "text": [
      "\r",
      "Processing on GPU 1:  62%|██████████████████████████████████████████████████████████████████▉                                         | 592/955 [02:12<01:21,  4.43it/s]"
     ]
    },
    {
     "name": "stdout",
     "output_type": "stream",
     "text": [
      "Classifying: Delamination Delamination\n",
      "Top label: Splice gap with confidence score: 0.2107267677783966\n"
     ]
    },
    {
     "name": "stderr",
     "output_type": "stream",
     "text": [
      "\r",
      "Processing on GPU 0:  62%|██████████████████████████████████████████████████████████████████▋                                         | 591/957 [02:12<01:20,  4.55it/s]"
     ]
    },
    {
     "name": "stdout",
     "output_type": "stream",
     "text": [
      "Classifying: Deviations from framework DEVIATION FROM FRAME WORK\n",
      "Top label: Resin buildup with confidence score: 0.28864264488220215\n"
     ]
    },
    {
     "name": "stderr",
     "output_type": "stream",
     "text": [
      "\r",
      "Processing on GPU 1:  62%|███████████████████████████████████████████████████████████████████                                         | 593/955 [02:12<01:21,  4.45it/s]"
     ]
    },
    {
     "name": "stdout",
     "output_type": "stream",
     "text": [
      "Classifying: Delamination Delamination\n",
      "Top label: Core displacement with confidence score: 0.23231031000614166\n"
     ]
    },
    {
     "name": "stderr",
     "output_type": "stream",
     "text": [
      "\r",
      "Processing on GPU 0:  62%|██████████████████████████████████████████████████████████████████▊                                         | 592/957 [02:12<01:19,  4.60it/s]"
     ]
    },
    {
     "name": "stdout",
     "output_type": "stream",
     "text": [
      "Classifying: Disbonding within part NDT Initial Failure\n",
      "Top label: Resin buildup with confidence score: 0.28864264488220215\n"
     ]
    },
    {
     "name": "stderr",
     "output_type": "stream",
     "text": [
      "\r",
      "Processing on GPU 1:  62%|███████████████████████████████████████████████████████████████████▏                                        | 594/955 [02:12<01:22,  4.40it/s]"
     ]
    },
    {
     "name": "stdout",
     "output_type": "stream",
     "text": [
      "Classifying: Core Damage, Torn Nodal Joints Core defect\n",
      "Top label: Splice gap with confidence score: 0.18522146344184875\n"
     ]
    },
    {
     "name": "stderr",
     "output_type": "stream",
     "text": [
      "\r",
      "Processing on GPU 0:  62%|██████████████████████████████████████████████████████████████████▉                                         | 593/957 [02:12<01:20,  4.54it/s]"
     ]
    },
    {
     "name": "stdout",
     "output_type": "stream",
     "text": [
      "Classifying: Disbonding within part NDT Initial Failure\n",
      "Top label: Core deformation with confidence score: 0.6720932126045227\n"
     ]
    },
    {
     "name": "stderr",
     "output_type": "stream",
     "text": [
      "\r",
      "Processing on GPU 1:  62%|███████████████████████████████████████████████████████████████████▎                                        | 595/955 [02:12<01:21,  4.43it/s]"
     ]
    },
    {
     "name": "stdout",
     "output_type": "stream",
     "text": [
      "Classifying: Delamination Delamination\n",
      "Top label: Splice gap with confidence score: 0.18522146344184875\n"
     ]
    },
    {
     "name": "stderr",
     "output_type": "stream",
     "text": [
      "\r",
      "Processing on GPU 0:  62%|███████████████████████████████████████████████████████████████████                                         | 594/957 [02:12<01:20,  4.53it/s]"
     ]
    },
    {
     "name": "stdout",
     "output_type": "stream",
     "text": [
      "Classifying: Bonding disbond observed on tool side\n",
      "Top label: Resin buildup with confidence score: 0.28864264488220215\n"
     ]
    },
    {
     "name": "stderr",
     "output_type": "stream",
     "text": [
      "\r",
      "Processing on GPU 1:  62%|███████████████████████████████████████████████████████████████████▍                                        | 596/955 [02:12<01:21,  4.41it/s]"
     ]
    },
    {
     "name": "stdout",
     "output_type": "stream",
     "text": [
      "Classifying: Delamination Delamination\n",
      "Top label: Core split with confidence score: 0.23506486415863037\n"
     ]
    },
    {
     "name": "stderr",
     "output_type": "stream",
     "text": [
      "\r",
      "Processing on GPU 0:  62%|███████████████████████████████████████████████████████████████████▏                                        | 595/957 [02:13<01:19,  4.54it/s]"
     ]
    },
    {
     "name": "stdout",
     "output_type": "stream",
     "text": [
      "Classifying: Honeycomb geometry Honeycomb geometry\n",
      "Top label: Resin buildup with confidence score: 0.28864264488220215\n"
     ]
    },
    {
     "name": "stderr",
     "output_type": "stream",
     "text": [
      "\r",
      "Processing on GPU 1:  63%|███████████████████████████████████████████████████████████████████▌                                        | 597/955 [02:13<01:20,  4.44it/s]"
     ]
    },
    {
     "name": "stdout",
     "output_type": "stream",
     "text": [
      "Classifying: Core Step Core Step\n",
      "Top label: Resin buildup with confidence score: 0.2549569606781006\n"
     ]
    },
    {
     "name": "stderr",
     "output_type": "stream",
     "text": [
      "\r",
      "Processing on GPU 0:  62%|███████████████████████████████████████████████████████████████████▎                                        | 596/957 [02:13<01:19,  4.54it/s]"
     ]
    },
    {
     "name": "stdout",
     "output_type": "stream",
     "text": [
      "Classifying: Disbonding within part Disbonding within part\n",
      "Top label: Core split with confidence score: 0.5320346355438232\n"
     ]
    },
    {
     "name": "stderr",
     "output_type": "stream",
     "text": [
      "\r",
      "Processing on GPU 1:  63%|███████████████████████████████████████████████████████████████████▋                                        | 598/955 [02:13<01:20,  4.43it/s]"
     ]
    },
    {
     "name": "stdout",
     "output_type": "stream",
     "text": [
      "Classifying: Dents Over Splice Lines Dent over splice line\n",
      "Top label: Core split with confidence score: 0.18174977600574493\n"
     ]
    },
    {
     "name": "stderr",
     "output_type": "stream",
     "text": [
      "\r",
      "Processing on GPU 0:  62%|███████████████████████████████████████████████████████████████████▎                                        | 597/957 [02:13<01:19,  4.55it/s]"
     ]
    },
    {
     "name": "stdout",
     "output_type": "stream",
     "text": [
      "Classifying: Disbonding within part  Disbond.\n",
      "Top label: Splice gap with confidence score: 0.3017521798610687\n"
     ]
    },
    {
     "name": "stderr",
     "output_type": "stream",
     "text": [
      "\r",
      "Processing on GPU 1:  63%|███████████████████████████████████████████████████████████████████▋                                        | 599/955 [02:13<01:20,  4.44it/s]"
     ]
    },
    {
     "name": "stdout",
     "output_type": "stream",
     "text": [
      "Classifying: Core Damage, Torn Nodal Joints Core defect\n",
      "Top label: Core displacement with confidence score: 0.22279766201972961\n"
     ]
    },
    {
     "name": "stderr",
     "output_type": "stream",
     "text": [
      "\r",
      "Processing on GPU 0:  62%|███████████████████████████████████████████████████████████████████▍                                        | 598/957 [02:13<01:19,  4.54it/s]"
     ]
    },
    {
     "name": "stdout",
     "output_type": "stream",
     "text": [
      "Classifying: Volume Porosity Volumetric Porosity\n",
      "Top label: Core deformation with confidence score: 0.6720932126045227\n"
     ]
    },
    {
     "name": "stderr",
     "output_type": "stream",
     "text": [
      "\r",
      "Processing on GPU 1:  63%|███████████████████████████████████████████████████████████████████▊                                        | 600/955 [02:13<01:19,  4.46it/s]"
     ]
    },
    {
     "name": "stdout",
     "output_type": "stream",
     "text": [
      "Classifying: Core Damage, Torn Nodal Joints Core defect\n",
      "Top label: Core split with confidence score: 0.20410870015621185\n"
     ]
    },
    {
     "name": "stderr",
     "output_type": "stream",
     "text": [
      "\r",
      "Processing on GPU 0:  63%|███████████████████████████████████████████████████████████████████▌                                        | 599/957 [02:13<01:19,  4.52it/s]"
     ]
    },
    {
     "name": "stdout",
     "output_type": "stream",
     "text": [
      "Classifying: Surface defects  surface depression\n",
      "Top label: Core deformation with confidence score: 0.6720932126045227\n"
     ]
    },
    {
     "name": "stderr",
     "output_type": "stream",
     "text": [
      "\r",
      "Processing on GPU 1:  63%|███████████████████████████████████████████████████████████████████▉                                        | 601/955 [02:14<01:18,  4.50it/s]"
     ]
    },
    {
     "name": "stdout",
     "output_type": "stream",
     "text": [
      "Classifying: Tool Discrepancies Not Assignable Core defect\n",
      "Top label: Core displacement with confidence score: 0.17993243038654327\n"
     ]
    },
    {
     "name": "stderr",
     "output_type": "stream",
     "text": [
      "\r",
      "Processing on GPU 0:  63%|███████████████████████████████████████████████████████████████████▋                                        | 600/957 [02:14<01:19,  4.50it/s]"
     ]
    },
    {
     "name": "stdout",
     "output_type": "stream",
     "text": [
      "Classifying: Surface defects Core crush\n",
      "Top label: Core deformation with confidence score: 0.6416205167770386\n"
     ]
    },
    {
     "name": "stderr",
     "output_type": "stream",
     "text": [
      "\r",
      "Processing on GPU 1:  63%|████████████████████████████████████████████████████████████████████                                        | 602/955 [02:14<01:18,  4.52it/s]"
     ]
    },
    {
     "name": "stdout",
     "output_type": "stream",
     "text": [
      "Classifying: Core Step Core Step\n",
      "Top label: Core deformation with confidence score: 0.39644086360931396\n"
     ]
    },
    {
     "name": "stderr",
     "output_type": "stream",
     "text": [
      "\r",
      "Processing on GPU 0:  63%|███████████████████████████████████████████████████████████████████▊                                        | 601/957 [02:14<01:19,  4.48it/s]"
     ]
    },
    {
     "name": "stdout",
     "output_type": "stream",
     "text": [
      "Classifying: Material tearing out honeycomb cells tear out\n",
      "Top label: Core split with confidence score: 0.5320346355438232\n"
     ]
    },
    {
     "name": "stderr",
     "output_type": "stream",
     "text": [
      "\r",
      "Processing on GPU 1:  63%|████████████████████████████████████████████████████████████████████▏                                       | 603/955 [02:14<01:17,  4.52it/s]"
     ]
    },
    {
     "name": "stdout",
     "output_type": "stream",
     "text": [
      "Classifying: Imprint on Surface Dent Core Dent\n",
      "Top label: Separation noodle joint with confidence score: 0.17566336691379547\n"
     ]
    },
    {
     "name": "stderr",
     "output_type": "stream",
     "text": [
      "\r",
      "Processing on GPU 0:  63%|███████████████████████████████████████████████████████████████████▉                                        | 602/957 [02:14<01:19,  4.48it/s]"
     ]
    },
    {
     "name": "stdout",
     "output_type": "stream",
     "text": [
      "Classifying: Disbonding within part Disbonding within part\n",
      "Top label: Core deformation with confidence score: 0.4703635573387146\n"
     ]
    },
    {
     "name": "stderr",
     "output_type": "stream",
     "text": [
      "\r",
      "Processing on GPU 1:  63%|████████████████████████████████████████████████████████████████████▎                                       | 604/955 [02:14<01:17,  4.50it/s]"
     ]
    },
    {
     "name": "stdout",
     "output_type": "stream",
     "text": [
      "Classifying: Dents Over Splice Lines Dent over splice line\n",
      "Top label: Core split with confidence score: 0.18174977600574493\n"
     ]
    },
    {
     "name": "stderr",
     "output_type": "stream",
     "text": [
      "\r",
      "Processing on GPU 0:  63%|████████████████████████████████████████████████████████████████████                                        | 603/957 [02:14<01:18,  4.51it/s]"
     ]
    },
    {
     "name": "stdout",
     "output_type": "stream",
     "text": [
      "Classifying: Disbonding within part disbond observed on tool side\n",
      "Top label: Splice gap with confidence score: 0.3017521798610687\n"
     ]
    },
    {
     "name": "stderr",
     "output_type": "stream",
     "text": [
      "\r",
      "Processing on GPU 1:  63%|████████████████████████████████████████████████████████████████████▍                                       | 605/955 [02:14<01:18,  4.48it/s]"
     ]
    },
    {
     "name": "stdout",
     "output_type": "stream",
     "text": [
      "Classifying: Gaps, Overlaps In Layup Overlap out of tolerance\n",
      "Top label: Separation noodle joint with confidence score: 0.19406192004680634\n"
     ]
    },
    {
     "name": "stderr",
     "output_type": "stream",
     "text": [
      "\r",
      "Processing on GPU 0:  63%|████████████████████████████████████████████████████████████████████▏                                       | 604/957 [02:15<01:18,  4.52it/s]"
     ]
    },
    {
     "name": "stdout",
     "output_type": "stream",
     "text": [
      "Classifying: Deviations from framework Core defect\n",
      "Top label: Splice gap with confidence score: 0.2720322906970978\n"
     ]
    },
    {
     "name": "stderr",
     "output_type": "stream",
     "text": [
      "\r",
      "Processing on GPU 1:  63%|████████████████████████████████████████████████████████████████████▌                                       | 606/955 [02:15<01:17,  4.48it/s]"
     ]
    },
    {
     "name": "stdout",
     "output_type": "stream",
     "text": [
      "Classifying: Porosity VOLUMETRIC POROSITY BEYOND ACC. LIMIT\n",
      "Top label: Core deformation with confidence score: 0.4912101626396179\n"
     ]
    },
    {
     "name": "stderr",
     "output_type": "stream",
     "text": [
      "\r",
      "Processing on GPU 0:  63%|████████████████████████████████████████████████████████████████████▎                                       | 605/957 [02:15<01:17,  4.52it/s]"
     ]
    },
    {
     "name": "stdout",
     "output_type": "stream",
     "text": [
      "Classifying: Volume Porosity Volumetic Porosity Above Size Limits\n",
      "Top label: Core displacement with confidence score: 0.20531266927719116\n"
     ]
    },
    {
     "name": "stderr",
     "output_type": "stream",
     "text": [
      "\r",
      "Processing on GPU 1:  64%|████████████████████████████████████████████████████████████████████▋                                       | 607/955 [02:15<01:17,  4.48it/s]"
     ]
    },
    {
     "name": "stdout",
     "output_type": "stream",
     "text": [
      "Classifying: Splice Defect on Bridge betw Core & Core SPLICE DEFECT\n",
      "Top label: Resin buildup with confidence score: 0.1778402328491211\n"
     ]
    },
    {
     "name": "stderr",
     "output_type": "stream",
     "text": [
      "\r",
      "Processing on GPU 0:  63%|████████████████████████████████████████████████████████████████████▍                                       | 606/957 [02:15<01:17,  4.52it/s]"
     ]
    },
    {
     "name": "stdout",
     "output_type": "stream",
     "text": [
      "Classifying: Honeycomb geometry Honeycomb geometry\n",
      "Top label: Core split with confidence score: 0.4006693363189697\n"
     ]
    },
    {
     "name": "stderr",
     "output_type": "stream",
     "text": [
      "\r",
      "Processing on GPU 1:  64%|████████████████████████████████████████████████████████████████████▊                                       | 608/955 [02:15<01:17,  4.47it/s]"
     ]
    },
    {
     "name": "stdout",
     "output_type": "stream",
     "text": [
      "Classifying: Bag Leak Vacuum leak during cycle.\n",
      "Top label: Resin buildup with confidence score: 0.2549569606781006\n"
     ]
    },
    {
     "name": "stderr",
     "output_type": "stream",
     "text": [
      "\r",
      "Processing on GPU 0:  63%|████████████████████████████████████████████████████████████████████▌                                       | 607/957 [02:15<01:17,  4.51it/s]"
     ]
    },
    {
     "name": "stdout",
     "output_type": "stream",
     "text": [
      "Classifying: Honeycomb geometry Honeycomb geometry\n",
      "Top label: Splice gap with confidence score: 0.1738288253545761\n"
     ]
    },
    {
     "name": "stderr",
     "output_type": "stream",
     "text": [
      "\r",
      "Processing on GPU 1:  64%|████████████████████████████████████████████████████████████████████▊                                       | 609/955 [02:15<01:16,  4.50it/s]"
     ]
    },
    {
     "name": "stdout",
     "output_type": "stream",
     "text": [
      "Classifying: Porosity volumetric porosity above accept limit\n",
      "Top label: Resin buildup with confidence score: 0.2549569606781006\n"
     ]
    },
    {
     "name": "stderr",
     "output_type": "stream",
     "text": [
      "\r",
      "Processing on GPU 0:  64%|████████████████████████████████████████████████████████████████████▌                                       | 608/957 [02:15<01:17,  4.48it/s]"
     ]
    },
    {
     "name": "stdout",
     "output_type": "stream",
     "text": [
      "Classifying: Traceability not recorded no SAP transaction for Mat freezing\n",
      "Top label: Core displacement with confidence score: 0.1743021011352539\n"
     ]
    },
    {
     "name": "stderr",
     "output_type": "stream",
     "text": [
      "\r",
      "Processing on GPU 1:  64%|████████████████████████████████████████████████████████████████████▉                                       | 610/955 [02:16<01:16,  4.51it/s]"
     ]
    },
    {
     "name": "stdout",
     "output_type": "stream",
     "text": [
      "Classifying: Trim Defect Trim contour not according to drawing\n",
      "Top label: Separation noodle joint with confidence score: 0.17194144427776337\n"
     ]
    },
    {
     "name": "stderr",
     "output_type": "stream",
     "text": [
      "\r",
      "Processing on GPU 0:  64%|████████████████████████████████████████████████████████████████████▋                                       | 609/957 [02:16<01:17,  4.48it/s]"
     ]
    },
    {
     "name": "stdout",
     "output_type": "stream",
     "text": [
      "Classifying: Honeycomb geometry DEVIATION FROM FRAME WORK\n",
      "Top label: Core deformation with confidence score: 0.18486818671226501\n"
     ]
    },
    {
     "name": "stderr",
     "output_type": "stream",
     "text": [
      "\r",
      "Processing on GPU 1:  64%|█████████████████████████████████████████████████████████████████████                                       | 611/955 [02:16<01:16,  4.50it/s]"
     ]
    },
    {
     "name": "stdout",
     "output_type": "stream",
     "text": [
      "Classifying: Dwell Too Long Long Dwell\n",
      "Top label: Foreign Object Damage with confidence score: 0.2368953675031662\n"
     ]
    },
    {
     "name": "stderr",
     "output_type": "stream",
     "text": [
      "\r",
      "Processing on GPU 0:  64%|████████████████████████████████████████████████████████████████████▊                                       | 610/957 [02:16<01:17,  4.49it/s]"
     ]
    },
    {
     "name": "stdout",
     "output_type": "stream",
     "text": [
      "Classifying: Honeycomb geometry DEVIATION FROM FRAME WORK\n",
      "Top label: Resin buildup with confidence score: 0.26652583479881287\n"
     ]
    },
    {
     "name": "stderr",
     "output_type": "stream",
     "text": [
      "\r",
      "Processing on GPU 1:  64%|█████████████████████████████████████████████████████████████████████▏                                      | 612/955 [02:16<01:15,  4.53it/s]"
     ]
    },
    {
     "name": "stdout",
     "output_type": "stream",
     "text": [
      "Classifying: Operation Not Per Drawing Additional Splice line\n",
      "Top label: Foreign Object Damage with confidence score: 0.2368953675031662\n"
     ]
    },
    {
     "name": "stderr",
     "output_type": "stream",
     "text": [
      "\r",
      "Processing on GPU 0:  64%|████████████████████████████████████████████████████████████████████▉                                       | 611/957 [02:16<01:17,  4.47it/s]"
     ]
    },
    {
     "name": "stdout",
     "output_type": "stream",
     "text": [
      "Classifying: Honeycomb geometry Deviation from framework\n",
      "Top label: Splice gap with confidence score: 0.24020984768867493\n"
     ]
    },
    {
     "name": "stderr",
     "output_type": "stream",
     "text": [
      "\r",
      "Processing on GPU 1:  64%|█████████████████████████████████████████████████████████████████████▎                                      | 613/955 [02:16<01:15,  4.53it/s]"
     ]
    },
    {
     "name": "stdout",
     "output_type": "stream",
     "text": [
      "Classifying: Porosity POROSITY\n",
      "Top label: Splice gap with confidence score: 0.18137256801128387\n"
     ]
    },
    {
     "name": "stderr",
     "output_type": "stream",
     "text": [
      "\r",
      "Processing on GPU 0:  64%|█████████████████████████████████████████████████████████████████████                                       | 612/957 [02:16<01:16,  4.48it/s]"
     ]
    },
    {
     "name": "stdout",
     "output_type": "stream",
     "text": [
      "Classifying: Curing Vacuum Vacuum leak\n",
      "Top label: Foreign Object Damage with confidence score: 0.2735648453235626\n"
     ]
    },
    {
     "name": "stderr",
     "output_type": "stream",
     "text": [
      "\r",
      "Processing on GPU 1:  64%|█████████████████████████████████████████████████████████████████████▍                                      | 614/955 [02:16<01:15,  4.54it/s]"
     ]
    },
    {
     "name": "stdout",
     "output_type": "stream",
     "text": [
      "Classifying: Dimensional Deviation Dimension out of Tolerance\n",
      "Top label: Core displacement with confidence score: 0.1715996265411377\n"
     ]
    },
    {
     "name": "stderr",
     "output_type": "stream",
     "text": [
      "\r",
      "Processing on GPU 0:  64%|█████████████████████████████████████████████████████████████████████▏                                      | 613/957 [02:17<01:17,  4.47it/s]"
     ]
    },
    {
     "name": "stdout",
     "output_type": "stream",
     "text": [
      "Classifying: Honeycomb geometry Honeycomb geometry\n",
      "Top label: Splice gap with confidence score: 0.2545115351676941\n"
     ]
    },
    {
     "name": "stderr",
     "output_type": "stream",
     "text": [
      "\r",
      "Processing on GPU 1:  64%|█████████████████████████████████████████████████████████████████████▌                                      | 615/955 [02:17<01:14,  4.54it/s]"
     ]
    },
    {
     "name": "stdout",
     "output_type": "stream",
     "text": [
      "Classifying: Disbond Disbond\n",
      "Top label: Resin buildup with confidence score: 0.2549569606781006\n"
     ]
    },
    {
     "name": "stderr",
     "output_type": "stream",
     "text": [
      "\r",
      "Processing on GPU 0:  64%|█████████████████████████████████████████████████████████████████████▎                                      | 614/957 [02:17<01:16,  4.47it/s]"
     ]
    },
    {
     "name": "stdout",
     "output_type": "stream",
     "text": [
      "Classifying: Volume Porosity VOLUMETRIC POROSITY ABOVE ACC LIMIT\n",
      "Top label: Core split with confidence score: 0.2206205129623413\n"
     ]
    },
    {
     "name": "stderr",
     "output_type": "stream",
     "text": [
      "\r",
      "Processing on GPU 1:  65%|█████████████████████████████████████████████████████████████████████▋                                      | 616/955 [02:17<01:14,  4.53it/s]"
     ]
    },
    {
     "name": "stdout",
     "output_type": "stream",
     "text": [
      "Classifying: Wrinkle Wrinkles\n",
      "Top label: Splice gap with confidence score: 0.18931837379932404\n"
     ]
    },
    {
     "name": "stderr",
     "output_type": "stream",
     "text": [
      "\r",
      "Processing on GPU 0:  64%|█████████████████████████████████████████████████████████████████████▍                                      | 615/957 [02:17<01:16,  4.49it/s]"
     ]
    },
    {
     "name": "stdout",
     "output_type": "stream",
     "text": [
      "Classifying: Honeycomb geometry DEVIATION FROM FRAME WORK\n",
      "Top label: Resin buildup with confidence score: 0.2258836030960083\n"
     ]
    },
    {
     "name": "stderr",
     "output_type": "stream",
     "text": [
      "\r",
      "Processing on GPU 1:  65%|█████████████████████████████████████████████████████████████████████▊                                      | 617/955 [02:17<01:15,  4.50it/s]"
     ]
    },
    {
     "name": "stdout",
     "output_type": "stream",
     "text": [
      "Classifying: Disbond Disbond\n",
      "Top label: Foreign Object Damage with confidence score: 0.2368953675031662\n"
     ]
    },
    {
     "name": "stderr",
     "output_type": "stream",
     "text": [
      "\r",
      "Processing on GPU 0:  64%|█████████████████████████████████████████████████████████████████████▌                                      | 616/957 [02:17<01:15,  4.49it/s]"
     ]
    },
    {
     "name": "stdout",
     "output_type": "stream",
     "text": [
      "Classifying: Shape Missing core cells on chamfer edge\n",
      "Top label: Core split with confidence score: 0.2206205129623413\n"
     ]
    },
    {
     "name": "stderr",
     "output_type": "stream",
     "text": [
      "\r",
      "Processing on GPU 1:  65%|█████████████████████████████████████████████████████████████████████▉                                      | 618/955 [02:17<01:14,  4.53it/s]"
     ]
    },
    {
     "name": "stdout",
     "output_type": "stream",
     "text": [
      "Classifying: Dents Over Splice Lines Dent over splice line\n",
      "Top label: Core deformation with confidence score: 0.4104468822479248\n"
     ]
    },
    {
     "name": "stderr",
     "output_type": "stream",
     "text": [
      "\r",
      "Processing on GPU 0:  64%|█████████████████████████████████████████████████████████████████████▋                                      | 617/957 [02:17<01:15,  4.50it/s]"
     ]
    },
    {
     "name": "stdout",
     "output_type": "stream",
     "text": [
      "Classifying: Expired Material Material Expire due to SAP clockin delay\n",
      "Top label: Splice gap with confidence score: 0.3017521798610687\n"
     ]
    },
    {
     "name": "stderr",
     "output_type": "stream",
     "text": [
      "\r",
      "Processing on GPU 1:  65%|██████████████████████████████████████████████████████████████████████                                      | 619/955 [02:18<01:14,  4.51it/s]"
     ]
    },
    {
     "name": "stdout",
     "output_type": "stream",
     "text": [
      "Classifying: Disbond Disbond\n",
      "Top label: Splice gap with confidence score: 0.16960112750530243\n"
     ]
    },
    {
     "name": "stderr",
     "output_type": "stream",
     "text": [
      "\r",
      "Processing on GPU 0:  65%|█████████████████████████████████████████████████████████████████████▋                                      | 618/957 [02:18<01:16,  4.45it/s]"
     ]
    },
    {
     "name": "stdout",
     "output_type": "stream",
     "text": [
      "Classifying: Hole missing Improper Reference Locating\n",
      "Top label: Core split with confidence score: 0.2206205129623413\n"
     ]
    },
    {
     "name": "stderr",
     "output_type": "stream",
     "text": [
      "\r",
      "Processing on GPU 1:  65%|██████████████████████████████████████████████████████████████████████                                      | 620/955 [02:18<01:14,  4.52it/s]"
     ]
    },
    {
     "name": "stdout",
     "output_type": "stream",
     "text": [
      "Classifying: Dents Over Splice Lines Dent over splice line\n",
      "Top label: Splice gap with confidence score: 0.23511533439159393\n"
     ]
    },
    {
     "name": "stderr",
     "output_type": "stream",
     "text": [
      "\r",
      "Processing on GPU 0:  65%|█████████████████████████████████████████████████████████████████████▊                                      | 619/957 [02:18<01:15,  4.45it/s]"
     ]
    },
    {
     "name": "stdout",
     "output_type": "stream",
     "text": [
      "Classifying: Disbonding within part disbond\n",
      "Top label: Splice gap with confidence score: 0.3017521798610687\n"
     ]
    },
    {
     "name": "stderr",
     "output_type": "stream",
     "text": [
      "\r",
      "Processing on GPU 1:  65%|██████████████████████████████████████████████████████████████████████▏                                     | 621/955 [02:18<01:13,  4.55it/s]"
     ]
    },
    {
     "name": "stdout",
     "output_type": "stream",
     "text": [
      "Classifying: Core Crush Surface depression\n",
      "Top label: Core displacement with confidence score: 0.1883959025144577\n"
     ]
    },
    {
     "name": "stderr",
     "output_type": "stream",
     "text": [
      "\r",
      "Processing on GPU 0:  65%|█████████████████████████████████████████████████████████████████████▉                                      | 620/957 [02:18<01:15,  4.45it/s]"
     ]
    },
    {
     "name": "stdout",
     "output_type": "stream",
     "text": [
      "Classifying: Depression  surface depression\n",
      "Top label: Core crash with confidence score: 0.405925452709198\n"
     ]
    },
    {
     "name": "stderr",
     "output_type": "stream",
     "text": [
      "\r",
      "Processing on GPU 1:  65%|██████████████████████████████████████████████████████████████████████▎                                     | 622/955 [02:18<01:13,  4.52it/s]"
     ]
    },
    {
     "name": "stdout",
     "output_type": "stream",
     "text": [
      "Classifying: Bag Leak Vacuum leak during cycle\n",
      "Top label: Core crash with confidence score: 0.19245724380016327\n"
     ]
    },
    {
     "name": "stderr",
     "output_type": "stream",
     "text": [
      "\r",
      "Processing on GPU 0:  65%|██████████████████████████████████████████████████████████████████████                                      | 621/957 [02:18<01:14,  4.49it/s]"
     ]
    },
    {
     "name": "stdout",
     "output_type": "stream",
     "text": [
      "Classifying: Expired Material Expired Material due to manual freezing\n",
      "Top label: Splice gap with confidence score: 0.16813203692436218\n"
     ]
    },
    {
     "name": "stderr",
     "output_type": "stream",
     "text": [
      "\r",
      "Processing on GPU 1:  65%|██████████████████████████████████████████████████████████████████████▍                                     | 623/955 [02:18<01:13,  4.50it/s]"
     ]
    },
    {
     "name": "stdout",
     "output_type": "stream",
     "text": [
      "Classifying: Dwell Too Long Dwell too long\n",
      "Top label: Resin buildup with confidence score: 0.18610753118991852\n"
     ]
    },
    {
     "name": "stderr",
     "output_type": "stream",
     "text": [
      "\r",
      "Processing on GPU 0:  65%|██████████████████████████████████████████████████████████████████████▏                                     | 622/957 [02:19<01:14,  4.48it/s]"
     ]
    },
    {
     "name": "stdout",
     "output_type": "stream",
     "text": [
      "Classifying: Crack Deviation from framework\n",
      "Top label: Core deformation with confidence score: 0.17797939479351044\n"
     ]
    },
    {
     "name": "stderr",
     "output_type": "stream",
     "text": [
      "\r",
      "Processing on GPU 1:  65%|██████████████████████████████████████████████████████████████████████▌                                     | 624/955 [02:19<01:13,  4.52it/s]"
     ]
    },
    {
     "name": "stdout",
     "output_type": "stream",
     "text": [
      "Classifying: Dents Over Splice Lines Dent over splice line\n",
      "Top label: Core displacement with confidence score: 0.31685706973075867\n"
     ]
    },
    {
     "name": "stderr",
     "output_type": "stream",
     "text": [
      "\r",
      "Processing on GPU 0:  65%|██████████████████████████████████████████████████████████████████████▎                                     | 623/957 [02:19<01:14,  4.47it/s]"
     ]
    },
    {
     "name": "stdout",
     "output_type": "stream",
     "text": [
      "Classifying: Flute in laminate nan\n",
      "Top label: Splice gap with confidence score: 0.3017521798610687\n"
     ]
    },
    {
     "name": "stderr",
     "output_type": "stream",
     "text": [
      "\r",
      "Processing on GPU 1:  65%|██████████████████████████████████████████████████████████████████████▋                                     | 625/955 [02:19<01:12,  4.52it/s]"
     ]
    },
    {
     "name": "stdout",
     "output_type": "stream",
     "text": [
      "Classifying: Disbond Disbonding above the acceptance limit\n",
      "Top label: Foreign Object Damage with confidence score: 0.2657910883426666\n"
     ]
    },
    {
     "name": "stderr",
     "output_type": "stream",
     "text": [
      "\r",
      "Processing on GPU 0:  65%|██████████████████████████████████████████████████████████████████████▍                                     | 624/957 [02:19<01:14,  4.48it/s]"
     ]
    },
    {
     "name": "stdout",
     "output_type": "stream",
     "text": [
      "Classifying: Disbonding within part  Disbond\n",
      "Top label: Core displacement with confidence score: 0.18465979397296906\n"
     ]
    },
    {
     "name": "stderr",
     "output_type": "stream",
     "text": [
      "\r",
      "Processing on GPU 1:  66%|██████████████████████████████████████████████████████████████████████▊                                     | 626/955 [02:19<01:12,  4.52it/s]"
     ]
    },
    {
     "name": "stdout",
     "output_type": "stream",
     "text": [
      "Classifying: Wrinkle Wrinkle\n",
      "Top label: Core displacement with confidence score: 0.24747128784656525\n"
     ]
    },
    {
     "name": "stderr",
     "output_type": "stream",
     "text": [
      "\r",
      "Processing on GPU 0:  65%|██████████████████████████████████████████████████████████████████████▌                                     | 625/957 [02:19<01:14,  4.47it/s]"
     ]
    },
    {
     "name": "stdout",
     "output_type": "stream",
     "text": [
      "Classifying: Adhesion missing Core Splice Defect\n",
      "Top label: Core split with confidence score: 0.19982367753982544\n"
     ]
    },
    {
     "name": "stderr",
     "output_type": "stream",
     "text": [
      "\r",
      "Processing on GPU 1:  66%|██████████████████████████████████████████████████████████████████████▉                                     | 627/955 [02:19<01:12,  4.51it/s]"
     ]
    },
    {
     "name": "stdout",
     "output_type": "stream",
     "text": [
      "Classifying: Dents Over Splice Lines Dent over splice line\n",
      "Top label: Core split with confidence score: 0.3969540596008301\n"
     ]
    },
    {
     "name": "stderr",
     "output_type": "stream",
     "text": [
      "\r",
      "Processing on GPU 0:  65%|██████████████████████████████████████████████████████████████████████▋                                     | 626/957 [02:19<01:13,  4.50it/s]"
     ]
    },
    {
     "name": "stdout",
     "output_type": "stream",
     "text": [
      "Classifying: Volume Porosity Volumetric porosity located above size\n",
      "Top label: Splice gap with confidence score: 0.3017521798610687\n"
     ]
    },
    {
     "name": "stderr",
     "output_type": "stream",
     "text": [
      "\r",
      "Processing on GPU 1:  66%|███████████████████████████████████████████████████████████████████████                                     | 628/955 [02:20<01:12,  4.51it/s]"
     ]
    },
    {
     "name": "stdout",
     "output_type": "stream",
     "text": [
      "Classifying: Faulty Milling of Contour Machining Error\n",
      "Top label: Core displacement with confidence score: 0.18808002769947052\n"
     ]
    },
    {
     "name": "stderr",
     "output_type": "stream",
     "text": [
      "\r",
      "Processing on GPU 0:  66%|██████████████████████████████████████████████████████████████████████▊                                     | 627/957 [02:20<01:13,  4.49it/s]"
     ]
    },
    {
     "name": "stdout",
     "output_type": "stream",
     "text": [
      "Classifying: Depression depression\n",
      "Top label: Foreign Object Damage with confidence score: 0.2394670844078064\n"
     ]
    },
    {
     "name": "stderr",
     "output_type": "stream",
     "text": [
      "\r",
      "Processing on GPU 1:  66%|███████████████████████████████████████████████████████████████████████▏                                    | 629/955 [02:20<01:12,  4.51it/s]"
     ]
    },
    {
     "name": "stdout",
     "output_type": "stream",
     "text": [
      "Classifying: Splice Defect on Bridge betw Core & Core splice defect\n",
      "Top label: Core split with confidence score: 0.2316887080669403\n"
     ]
    },
    {
     "name": "stderr",
     "output_type": "stream",
     "text": [
      "\r",
      "Processing on GPU 0:  66%|██████████████████████████████████████████████████████████████████████▊                                     | 628/957 [02:20<01:13,  4.47it/s]"
     ]
    },
    {
     "name": "stdout",
     "output_type": "stream",
     "text": [
      "Classifying: Curing Vacuum vacuum leak due to split line\n",
      "Top label: Core split with confidence score: 0.4522106647491455\n"
     ]
    },
    {
     "name": "stderr",
     "output_type": "stream",
     "text": [
      "\r",
      "Processing on GPU 1:  66%|███████████████████████████████████████████████████████████████████████▏                                    | 630/955 [02:20<01:11,  4.54it/s]"
     ]
    },
    {
     "name": "stdout",
     "output_type": "stream",
     "text": [
      "Classifying: Disbond Disbonding above the acceptance limit\n",
      "Top label: Splice gap with confidence score: 0.6089038848876953\n"
     ]
    },
    {
     "name": "stderr",
     "output_type": "stream",
     "text": [
      "\r",
      "Processing on GPU 0:  66%|██████████████████████████████████████████████████████████████████████▉                                     | 629/957 [02:20<01:13,  4.47it/s]"
     ]
    },
    {
     "name": "stdout",
     "output_type": "stream",
     "text": [
      "Classifying: Honeycomb geometry centre core spliced into 3pieces\n",
      "Top label: Core displacement with confidence score: 0.18465979397296906\n"
     ]
    },
    {
     "name": "stderr",
     "output_type": "stream",
     "text": [
      "\r",
      "Processing on GPU 1:  66%|███████████████████████████████████████████████████████████████████████▎                                    | 631/955 [02:20<01:11,  4.54it/s]"
     ]
    },
    {
     "name": "stdout",
     "output_type": "stream",
     "text": [
      "Classifying: Disbond disbond above acceptable limit\n",
      "Top label: Core split with confidence score: 0.5910136699676514\n"
     ]
    },
    {
     "name": "stderr",
     "output_type": "stream",
     "text": [
      "\r",
      "Processing on GPU 0:  66%|███████████████████████████████████████████████████████████████████████                                     | 630/957 [02:20<01:13,  4.42it/s]"
     ]
    },
    {
     "name": "stdout",
     "output_type": "stream",
     "text": [
      "Classifying: Volume Porosity Volumetric porosity\n",
      "Top label: Splice gap with confidence score: 0.22567829489707947\n"
     ]
    },
    {
     "name": "stderr",
     "output_type": "stream",
     "text": [
      "\r",
      "Processing on GPU 1:  66%|███████████████████████████████████████████████████████████████████████▍                                    | 632/955 [02:20<01:10,  4.56it/s]"
     ]
    },
    {
     "name": "stdout",
     "output_type": "stream",
     "text": [
      "Classifying: Porosity VOLUMETRIC POROSITY BEYOND ACC. LIMIT\n",
      "Top label: Resin buildup with confidence score: 0.17078925669193268\n"
     ]
    },
    {
     "name": "stderr",
     "output_type": "stream",
     "text": [
      "\r",
      "Processing on GPU 0:  66%|███████████████████████████████████████████████████████████████████████▏                                    | 631/957 [02:21<01:13,  4.44it/s]"
     ]
    },
    {
     "name": "stdout",
     "output_type": "stream",
     "text": [
      "Classifying: Surface defects surface defect observed on upper skin\n",
      "Top label: Core displacement with confidence score: 0.20531266927719116\n"
     ]
    },
    {
     "name": "stderr",
     "output_type": "stream",
     "text": [
      "\r",
      "Processing on GPU 1:  66%|███████████████████████████████████████████████████████████████████████▌                                    | 633/955 [02:21<01:10,  4.55it/s]"
     ]
    },
    {
     "name": "stdout",
     "output_type": "stream",
     "text": [
      "Classifying: Shelf Life Expired Shelf life expired before cure\n",
      "Top label: Splice gap with confidence score: 0.166795015335083\n"
     ]
    },
    {
     "name": "stderr",
     "output_type": "stream",
     "text": [
      "\r",
      "Processing on GPU 0:  66%|███████████████████████████████████████████████████████████████████████▎                                    | 632/957 [02:21<01:14,  4.39it/s]"
     ]
    },
    {
     "name": "stdout",
     "output_type": "stream",
     "text": [
      "Classifying: Volume Porosity Volumetric porosity\n",
      "Top label: Splice gap with confidence score: 0.1399684101343155\n"
     ]
    },
    {
     "name": "stderr",
     "output_type": "stream",
     "text": [
      "\r",
      "Processing on GPU 1:  66%|███████████████████████████████████████████████████████████████████████▋                                    | 634/955 [02:21<01:10,  4.54it/s]"
     ]
    },
    {
     "name": "stdout",
     "output_type": "stream",
     "text": [
      "Classifying: Shelf Life Expired Shelf life expired before cure\n",
      "Top label: Resin buildup with confidence score: 0.17078925669193268\n"
     ]
    },
    {
     "name": "stderr",
     "output_type": "stream",
     "text": [
      "\r",
      "Processing on GPU 0:  66%|███████████████████████████████████████████████████████████████████████▍                                    | 633/957 [02:21<01:12,  4.45it/s]"
     ]
    },
    {
     "name": "stdout",
     "output_type": "stream",
     "text": [
      "Classifying: Deviations from framework Deviations from framework\n",
      "Top label: Splice gap with confidence score: 0.1399684101343155\n"
     ]
    },
    {
     "name": "stderr",
     "output_type": "stream",
     "text": [
      "\r",
      "Processing on GPU 1:  66%|███████████████████████████████████████████████████████████████████████▊                                    | 635/955 [02:21<01:10,  4.55it/s]"
     ]
    },
    {
     "name": "stdout",
     "output_type": "stream",
     "text": [
      "Classifying: Dents Over Splice Lines Dent over splice line\n",
      "Top label: Core deformation with confidence score: 0.21503786742687225\n"
     ]
    },
    {
     "name": "stderr",
     "output_type": "stream",
     "text": [
      "\r",
      "Processing on GPU 0:  66%|███████████████████████████████████████████████████████████████████████▌                                    | 634/957 [02:21<01:12,  4.46it/s]"
     ]
    },
    {
     "name": "stdout",
     "output_type": "stream",
     "text": [
      "Classifying: Volume Porosity Volumetric Porosity\n",
      "Top label: Splice gap with confidence score: 0.3017521798610687\n"
     ]
    },
    {
     "name": "stderr",
     "output_type": "stream",
     "text": [
      "\r",
      "Processing on GPU 1:  67%|███████████████████████████████████████████████████████████████████████▉                                    | 636/955 [02:21<01:10,  4.51it/s]"
     ]
    },
    {
     "name": "stdout",
     "output_type": "stream",
     "text": [
      "Classifying: Imprint on Surface Dent Core Dent\n",
      "Top label: Core split with confidence score: 0.20410870015621185\n"
     ]
    },
    {
     "name": "stderr",
     "output_type": "stream",
     "text": [
      "\r",
      "Processing on GPU 0:  66%|███████████████████████████████████████████████████████████████████████▋                                    | 635/957 [02:21<01:12,  4.45it/s]"
     ]
    },
    {
     "name": "stdout",
     "output_type": "stream",
     "text": [
      "Classifying: Deviations from framework High attenuation due to core defect\n",
      "Top label: Core deformation with confidence score: 0.4703635573387146\n"
     ]
    },
    {
     "name": "stderr",
     "output_type": "stream",
     "text": [
      "\r",
      "Processing on GPU 1:  67%|████████████████████████████████████████████████████████████████████████                                    | 637/955 [02:22<01:10,  4.50it/s]"
     ]
    },
    {
     "name": "stdout",
     "output_type": "stream",
     "text": [
      "Classifying: Porosity NDT Initial Failure\n",
      "Top label: Core deformation with confidence score: 0.6148009300231934\n"
     ]
    },
    {
     "name": "stderr",
     "output_type": "stream",
     "text": [
      "\r",
      "Processing on GPU 0:  66%|███████████████████████████████████████████████████████████████████████▊                                    | 636/957 [02:22<01:11,  4.48it/s]"
     ]
    },
    {
     "name": "stdout",
     "output_type": "stream",
     "text": [
      "Classifying: Deviations from framework Deviations from framework\n",
      "Top label: Separation noodle joint with confidence score: 0.3033478558063507\n"
     ]
    },
    {
     "name": "stderr",
     "output_type": "stream",
     "text": [
      "\r",
      "Processing on GPU 1:  67%|████████████████████████████████████████████████████████████████████████▏                                   | 638/955 [02:22<01:10,  4.51it/s]"
     ]
    },
    {
     "name": "stdout",
     "output_type": "stream",
     "text": [
      "Classifying: Dimensional Deviation Dimension out of Tolerance\n",
      "Top label: Core deformation with confidence score: 0.21503786742687225\n"
     ]
    },
    {
     "name": "stderr",
     "output_type": "stream",
     "text": [
      "\r",
      "Processing on GPU 0:  67%|███████████████████████████████████████████████████████████████████████▉                                    | 637/957 [02:22<01:12,  4.44it/s]"
     ]
    },
    {
     "name": "stdout",
     "output_type": "stream",
     "text": [
      "Classifying: Curing Vacuum vacuum leak through Thermo couple\n",
      "Top label: Splice gap with confidence score: 0.2545115351676941\n"
     ]
    },
    {
     "name": "stderr",
     "output_type": "stream",
     "text": [
      "\r",
      "Processing on GPU 1:  67%|████████████████████████████████████████████████████████████████████████▎                                   | 639/955 [02:22<01:09,  4.53it/s]"
     ]
    },
    {
     "name": "stdout",
     "output_type": "stream",
     "text": [
      "Classifying: Imprint on Surface Dent Core Dent\n",
      "Top label: Splice gap with confidence score: 0.19224853813648224\n"
     ]
    },
    {
     "name": "stderr",
     "output_type": "stream",
     "text": [
      "\r",
      "Processing on GPU 0:  67%|████████████████████████████████████████████████████████████████████████                                    | 638/957 [02:22<01:11,  4.46it/s]"
     ]
    },
    {
     "name": "stdout",
     "output_type": "stream",
     "text": [
      "Classifying: Delamination Composite Manufacturing NDT Initial Failure\n",
      "Top label: Core deformation with confidence score: 0.4703635573387146\n"
     ]
    },
    {
     "name": "stderr",
     "output_type": "stream",
     "text": [
      "\r",
      "Processing on GPU 1:  67%|████████████████████████████████████████████████████████████████████████▍                                   | 640/955 [02:22<01:09,  4.53it/s]"
     ]
    },
    {
     "name": "stdout",
     "output_type": "stream",
     "text": [
      "Classifying: Porosity Volumetric porosity BEYOND ACC. LIMIT\n",
      "Top label: Resin buildup with confidence score: 0.3112137019634247\n"
     ]
    },
    {
     "name": "stderr",
     "output_type": "stream",
     "text": [
      "\r",
      "Processing on GPU 0:  67%|████████████████████████████████████████████████████████████████████████                                    | 639/957 [02:22<01:11,  4.47it/s]"
     ]
    },
    {
     "name": "stdout",
     "output_type": "stream",
     "text": [
      "Classifying: Delamination Composite Manufacturing NDT Initial Failure\n",
      "Top label: Core displacement with confidence score: 0.21274925768375397\n"
     ]
    },
    {
     "name": "stderr",
     "output_type": "stream",
     "text": [
      "\r",
      "Processing on GPU 1:  67%|████████████████████████████████████████████████████████████████████████▍                                   | 641/955 [02:22<01:09,  4.53it/s]"
     ]
    },
    {
     "name": "stdout",
     "output_type": "stream",
     "text": [
      "Classifying: Wrinkle Wrinkle\n",
      "Top label: Resin buildup with confidence score: 0.3112137019634247\n"
     ]
    },
    {
     "name": "stderr",
     "output_type": "stream",
     "text": [
      "\r",
      "Processing on GPU 0:  67%|████████████████████████████████████████████████████████████████████████▏                                   | 640/957 [02:23<01:10,  4.48it/s]"
     ]
    },
    {
     "name": "stdout",
     "output_type": "stream",
     "text": [
      "Classifying: Honeycomb geometry Core deformation\n",
      "Top label: Core split with confidence score: 0.19982367753982544\n"
     ]
    },
    {
     "name": "stderr",
     "output_type": "stream",
     "text": [
      "\r",
      "Processing on GPU 1:  67%|████████████████████████████████████████████████████████████████████████▌                                   | 642/955 [02:23<01:09,  4.53it/s]"
     ]
    },
    {
     "name": "stdout",
     "output_type": "stream",
     "text": [
      "Classifying: Porosity NDT Initial Failure\n",
      "Top label: Core deformation with confidence score: 0.6190372109413147\n"
     ]
    },
    {
     "name": "stderr",
     "output_type": "stream",
     "text": [
      "\r",
      "Processing on GPU 0:  67%|████████████████████████████████████████████████████████████████████████▎                                   | 641/957 [02:23<01:10,  4.47it/s]"
     ]
    },
    {
     "name": "stdout",
     "output_type": "stream",
     "text": [
      "Classifying: Delamination Composite Manufacturing Delamination Composite Manufacturing\n",
      "Top label: Separation noodle joint with confidence score: 0.3033478558063507\n"
     ]
    },
    {
     "name": "stderr",
     "output_type": "stream",
     "text": [
      "\r",
      "Processing on GPU 1:  67%|████████████████████████████████████████████████████████████████████████▋                                   | 643/955 [02:23<01:08,  4.55it/s]"
     ]
    },
    {
     "name": "stdout",
     "output_type": "stream",
     "text": [
      "Classifying: Bag Leak Vacuum leak during cycle.\n",
      "Top label: Resin buildup with confidence score: 0.4829311668872833\n"
     ]
    },
    {
     "name": "stderr",
     "output_type": "stream",
     "text": [
      "\r",
      "Processing on GPU 0:  67%|████████████████████████████████████████████████████████████████████████▍                                   | 642/957 [02:23<01:10,  4.46it/s]"
     ]
    },
    {
     "name": "stdout",
     "output_type": "stream",
     "text": [
      "Classifying: Surface defects Surface Defect\n",
      "Top label: Splice gap with confidence score: 0.1738288253545761\n"
     ]
    },
    {
     "name": "stderr",
     "output_type": "stream",
     "text": [
      "\r",
      "Processing on GPU 1:  67%|████████████████████████████████████████████████████████████████████████▊                                   | 644/955 [02:23<01:08,  4.56it/s]"
     ]
    },
    {
     "name": "stdout",
     "output_type": "stream",
     "text": [
      "Classifying: Porosity Porosity on Bronze mesh area\n",
      "Top label: Core displacement with confidence score: 0.1773044914007187\n"
     ]
    },
    {
     "name": "stderr",
     "output_type": "stream",
     "text": [
      "\r",
      "Processing on GPU 0:  67%|████████████████████████████████████████████████████████████████████████▌                                   | 643/957 [02:23<01:10,  4.46it/s]"
     ]
    },
    {
     "name": "stdout",
     "output_type": "stream",
     "text": [
      "Classifying: Single delamination NDT Initial Failure\n",
      "Top label: Separation noodle joint with confidence score: 0.1552511602640152\n"
     ]
    },
    {
     "name": "stderr",
     "output_type": "stream",
     "text": [
      "\r",
      "Processing on GPU 1:  68%|████████████████████████████████████████████████████████████████████████▉                                   | 645/955 [02:23<01:08,  4.55it/s]"
     ]
    },
    {
     "name": "stdout",
     "output_type": "stream",
     "text": [
      "Classifying: Dents Over Splice Lines Dent over splice lines\n",
      "Top label: Separation noodle joint with confidence score: 0.25209373235702515\n"
     ]
    },
    {
     "name": "stderr",
     "output_type": "stream",
     "text": [
      "\r",
      "Processing on GPU 0:  67%|████████████████████████████████████████████████████████████████████████▋                                   | 644/957 [02:23<01:10,  4.46it/s]"
     ]
    },
    {
     "name": "stdout",
     "output_type": "stream",
     "text": [
      "Top label: Splice gap with confidence score: 0.3592250943183899\n"
     ]
    },
    {
     "name": "stderr",
     "output_type": "stream",
     "text": [
      "\r",
      "Processing on GPU 1:  68%|█████████████████████████████████████████████████████████████████████████                                   | 646/955 [02:24<01:07,  4.55it/s]"
     ]
    },
    {
     "name": "stdout",
     "output_type": "stream",
     "text": [
      "Classifying: Single delamination NDT Initial FailureClassifying: Gaps, Overlaps In Layup Overlap out of tolerance\n",
      "\n",
      "Top label: Separation noodle joint with confidence score: 0.25209373235702515\n"
     ]
    },
    {
     "name": "stderr",
     "output_type": "stream",
     "text": [
      "\r",
      "Processing on GPU 0:  67%|████████████████████████████████████████████████████████████████████████▊                                   | 645/957 [02:24<01:10,  4.45it/s]"
     ]
    },
    {
     "name": "stdout",
     "output_type": "stream",
     "text": [
      "Top label: Splice gap with confidence score: 0.2720322906970978Classifying: Disbonding within part NDT Initial Failure\n"
     ]
    },
    {
     "name": "stderr",
     "output_type": "stream",
     "text": [
      "\r",
      "Processing on GPU 1:  68%|█████████████████████████████████████████████████████████████████████████▏                                  | 647/955 [02:24<01:08,  4.52it/s]"
     ]
    },
    {
     "name": "stdout",
     "output_type": "stream",
     "text": [
      "\n",
      "Classifying: Dents Over Splice Lines Dent over splice line\n",
      "Top label: Splice gap with confidence score: 0.18522146344184875\n"
     ]
    },
    {
     "name": "stderr",
     "output_type": "stream",
     "text": [
      "\r",
      "Processing on GPU 0:  68%|████████████████████████████████████████████████████████████████████████▉                                   | 646/957 [02:24<01:09,  4.46it/s]"
     ]
    },
    {
     "name": "stdout",
     "output_type": "stream",
     "text": [
      "Top label: Splice gap with confidence score: 0.3017521798610687Classifying: Disbonding within part NDT Second Failure\n",
      "\n"
     ]
    },
    {
     "name": "stderr",
     "output_type": "stream",
     "text": [
      "\r",
      "Processing on GPU 1:  68%|█████████████████████████████████████████████████████████████████████████▎                                  | 648/955 [02:24<01:08,  4.50it/s]"
     ]
    },
    {
     "name": "stdout",
     "output_type": "stream",
     "text": [
      "Classifying: Core Step Core Step\n",
      "Top label: Splice gap with confidence score: 0.23374302685260773Top label: Core split with confidence score: 0.5320346355438232\n",
      "\n"
     ]
    },
    {
     "name": "stderr",
     "output_type": "stream",
     "text": [
      "Processing on GPU 0:  68%|█████████████████████████████████████████████████████████████████████████                                   | 647/957 [02:24<01:09,  4.45it/s]"
     ]
    },
    {
     "name": "stdout",
     "output_type": "stream",
     "text": [
      "Classifying: Impact Damage impact damageClassifying: Surface defects surface defect\n",
      "\n",
      "Top label: Foreign Object Damage with confidence score: 0.20763811469078064\n",
      "Top label: Separation noodle joint with confidence score: 0.1427227258682251\n"
     ]
    },
    {
     "name": "stderr",
     "output_type": "stream",
     "text": [
      "\r",
      "Processing on GPU 1:  68%|█████████████████████████████████████████████████████████████████████████▌                                  | 650/955 [02:24<01:07,  4.49it/s]"
     ]
    },
    {
     "name": "stdout",
     "output_type": "stream",
     "text": [
      "Classifying: Bridging Bridging observed in the Wet lamination"
     ]
    },
    {
     "name": "stderr",
     "output_type": "stream",
     "text": [
      "\r",
      "Processing on GPU 0:  68%|█████████████████████████████████████████████████████████████████████████▏                                  | 648/957 [02:24<01:09,  4.45it/s]"
     ]
    },
    {
     "name": "stdout",
     "output_type": "stream",
     "text": [
      "\n",
      "Classifying: Surface defects NDT Initial Failure\n",
      "Top label: Resin buildup with confidence score: 0.36565664410591125\n",
      "Top label: Foreign Object Damage with confidence score: 0.20190690457820892"
     ]
    },
    {
     "name": "stderr",
     "output_type": "stream",
     "text": [
      "\r",
      "Processing on GPU 1:  68%|█████████████████████████████████████████████████████████████████████████▌                                  | 651/955 [02:25<01:07,  4.48it/s]"
     ]
    },
    {
     "name": "stdout",
     "output_type": "stream",
     "text": [
      "Classifying: Resin Starvation lack of resin\n",
      "\n"
     ]
    },
    {
     "name": "stderr",
     "output_type": "stream",
     "text": [
      "\r",
      "Processing on GPU 0:  68%|█████████████████████████████████████████████████████████████████████████▏                                  | 649/957 [02:25<01:09,  4.45it/s]"
     ]
    },
    {
     "name": "stdout",
     "output_type": "stream",
     "text": [
      "Classifying: Surface defects See LT\n",
      "Top label: Core displacement with confidence score: 0.21282707154750824\n"
     ]
    },
    {
     "name": "stderr",
     "output_type": "stream",
     "text": [
      "\r",
      "Processing on GPU 1:  68%|█████████████████████████████████████████████████████████████████████████▋                                  | 652/955 [02:25<01:07,  4.51it/s]"
     ]
    },
    {
     "name": "stdout",
     "output_type": "stream",
     "text": [
      "Classifying: Breakout(Review Spec Alowces,Some Reworb Delamination of flaking out of Tol\n",
      "Top label: Core split with confidence score: 0.15962018072605133\n"
     ]
    },
    {
     "name": "stderr",
     "output_type": "stream",
     "text": [
      "\r",
      "Processing on GPU 0:  68%|█████████████████████████████████████████████████████████████████████████▎                                  | 650/957 [02:25<01:09,  4.41it/s]"
     ]
    },
    {
     "name": "stdout",
     "output_type": "stream",
     "text": [
      "Classifying: Single delamination NDT Initial Failure\n",
      "Top label: Separation noodle joint with confidence score: 0.15692098438739777\n"
     ]
    },
    {
     "name": "stderr",
     "output_type": "stream",
     "text": [
      "\r",
      "Processing on GPU 1:  68%|█████████████████████████████████████████████████████████████████████████▊                                  | 653/955 [02:25<01:06,  4.51it/s]"
     ]
    },
    {
     "name": "stdout",
     "output_type": "stream",
     "text": [
      "Classifying: Wrinkle Wrinkle\n",
      "Top label: Separation noodle joint with confidence score: 0.25209373235702515\n"
     ]
    },
    {
     "name": "stderr",
     "output_type": "stream",
     "text": [
      "\r",
      "Processing on GPU 0:  68%|█████████████████████████████████████████████████████████████████████████▍                                  | 651/957 [02:25<01:08,  4.46it/s]"
     ]
    },
    {
     "name": "stdout",
     "output_type": "stream",
     "text": [
      "Classifying: Material separation / Incorrect bonding core defect\n",
      "Top label: Core split with confidence score: 0.19982367753982544\n"
     ]
    },
    {
     "name": "stderr",
     "output_type": "stream",
     "text": [
      "\r",
      "Processing on GPU 1:  68%|█████████████████████████████████████████████████████████████████████████▉                                  | 654/955 [02:25<01:06,  4.53it/s]"
     ]
    },
    {
     "name": "stdout",
     "output_type": "stream",
     "text": [
      "Classifying: Delamination Delamination\n",
      "Top label: Core deformation with confidence score: 0.5385012626647949\n"
     ]
    },
    {
     "name": "stderr",
     "output_type": "stream",
     "text": [
      "\r",
      "Processing on GPU 0:  68%|█████████████████████████████████████████████████████████████████████████▌                                  | 652/957 [02:25<01:08,  4.42it/s]"
     ]
    },
    {
     "name": "stdout",
     "output_type": "stream",
     "text": [
      "Classifying: Wrinkles surface wrinkles\n",
      "Top label: Resin buildup with confidence score: 0.28864264488220215\n"
     ]
    },
    {
     "name": "stderr",
     "output_type": "stream",
     "text": [
      "\r",
      "Processing on GPU 1:  69%|██████████████████████████████████████████████████████████████████████████                                  | 655/955 [02:26<01:06,  4.51it/s]"
     ]
    },
    {
     "name": "stdout",
     "output_type": "stream",
     "text": [
      "Classifying: Dents Over Splice Lines Dent over splice line\n",
      "Top label: Core deformation with confidence score: 0.1804879605770111\n"
     ]
    },
    {
     "name": "stderr",
     "output_type": "stream",
     "text": [
      "\r",
      "Processing on GPU 0:  68%|█████████████████████████████████████████████████████████████████████████▋                                  | 653/957 [02:26<01:08,  4.46it/s]"
     ]
    },
    {
     "name": "stdout",
     "output_type": "stream",
     "text": [
      "Classifying: Wrinkles Wrinkles\n",
      "Top label: Splice gap with confidence score: 0.3017521798610687\n"
     ]
    },
    {
     "name": "stderr",
     "output_type": "stream",
     "text": [
      "\r",
      "Processing on GPU 1:  69%|██████████████████████████████████████████████████████████████████████████▏                                 | 656/955 [02:26<01:06,  4.51it/s]"
     ]
    },
    {
     "name": "stdout",
     "output_type": "stream",
     "text": [
      "Classifying: Disbond Disbond\n",
      "Top label: Resin buildup with confidence score: 0.1902356743812561\n"
     ]
    },
    {
     "name": "stderr",
     "output_type": "stream",
     "text": [
      "\r",
      "Processing on GPU 0:  68%|█████████████████████████████████████████████████████████████████████████▊                                  | 654/957 [02:26<01:07,  4.46it/s]"
     ]
    },
    {
     "name": "stdout",
     "output_type": "stream",
     "text": [
      "Classifying: Crack Core crack\n",
      "Top label: Core split with confidence score: 0.2206205129623413\n"
     ]
    },
    {
     "name": "stderr",
     "output_type": "stream",
     "text": [
      "\r",
      "Processing on GPU 1:  69%|██████████████████████████████████████████████████████████████████████████▎                                 | 657/955 [02:26<01:05,  4.53it/s]"
     ]
    },
    {
     "name": "stdout",
     "output_type": "stream",
     "text": [
      "Classifying: Disbond Disbond\n",
      "Top label: Core deformation with confidence score: 0.5146721005439758\n"
     ]
    },
    {
     "name": "stderr",
     "output_type": "stream",
     "text": [
      "\r",
      "Processing on GPU 0:  68%|█████████████████████████████████████████████████████████████████████████▉                                  | 655/957 [02:26<01:07,  4.47it/s]"
     ]
    },
    {
     "name": "stdout",
     "output_type": "stream",
     "text": [
      "Classifying: Curing Vacuum vacuum leak due to hole in bag\n",
      "Top label: Core split with confidence score: 0.2206205129623413\n"
     ]
    },
    {
     "name": "stderr",
     "output_type": "stream",
     "text": [
      "\r",
      "Processing on GPU 1:  69%|██████████████████████████████████████████████████████████████████████████▍                                 | 658/955 [02:26<01:05,  4.54it/s]"
     ]
    },
    {
     "name": "stdout",
     "output_type": "stream",
     "text": [
      "Classifying: Delamination NDT Initial Failure\n",
      "Top label: Foreign Object Damage with confidence score: 0.19470417499542236\n"
     ]
    },
    {
     "name": "stderr",
     "output_type": "stream",
     "text": [
      "\r",
      "Processing on GPU 0:  69%|██████████████████████████████████████████████████████████████████████████                                  | 656/957 [02:26<01:07,  4.47it/s]"
     ]
    },
    {
     "name": "stdout",
     "output_type": "stream",
     "text": [
      "Classifying: Gap/Clearance between parts G3 Gap between U Frame and carbon\n",
      "Top label: Separation noodle joint with confidence score: 0.23277020454406738\n"
     ]
    },
    {
     "name": "stderr",
     "output_type": "stream",
     "text": [
      "\r",
      "Processing on GPU 1:  69%|██████████████████████████████████████████████████████████████████████████▌                                 | 659/955 [02:26<01:05,  4.51it/s]"
     ]
    },
    {
     "name": "stdout",
     "output_type": "stream",
     "text": [
      "Classifying: Porosity NDT Initial Failure\n",
      "Top label: Core split with confidence score: 0.2187640219926834\n"
     ]
    },
    {
     "name": "stderr",
     "output_type": "stream",
     "text": [
      "\r",
      "Processing on GPU 0:  69%|██████████████████████████████████████████████████████████████████████████▏                                 | 657/957 [02:26<01:07,  4.45it/s]"
     ]
    },
    {
     "name": "stdout",
     "output_type": "stream",
     "text": [
      "Classifying: Delamination Composite Manufacturing NDT Initial Failure\n",
      "Top label: Separation noodle joint with confidence score: 0.3033478558063507\n"
     ]
    },
    {
     "name": "stderr",
     "output_type": "stream",
     "text": [
      "\r",
      "Processing on GPU 1:  69%|██████████████████████████████████████████████████████████████████████████▋                                 | 660/955 [02:27<01:05,  4.50it/s]"
     ]
    },
    {
     "name": "stdout",
     "output_type": "stream",
     "text": [
      "Classifying: Delamination NDT Initial Failure\n",
      "Top label: Resin buildup with confidence score: 0.3112137019634247\n"
     ]
    },
    {
     "name": "stderr",
     "output_type": "stream",
     "text": [
      "\r",
      "Processing on GPU 0:  69%|██████████████████████████████████████████████████████████████████████████▎                                 | 658/957 [02:27<01:06,  4.48it/s]"
     ]
    },
    {
     "name": "stdout",
     "output_type": "stream",
     "text": [
      "Classifying: Single delamination NDT Initial Failure\n",
      "Top label: Separation noodle joint with confidence score: 0.23277020454406738\n"
     ]
    },
    {
     "name": "stderr",
     "output_type": "stream",
     "text": [
      "\r",
      "Processing on GPU 1:  69%|██████████████████████████████████████████████████████████████████████████▊                                 | 661/955 [02:27<01:05,  4.50it/s]"
     ]
    },
    {
     "name": "stdout",
     "output_type": "stream",
     "text": [
      "Classifying: Delamination NDT Initial Failure\n",
      "Top label: Separation noodle joint with confidence score: 0.25209373235702515\n"
     ]
    },
    {
     "name": "stderr",
     "output_type": "stream",
     "text": [
      "\r",
      "Processing on GPU 0:  69%|██████████████████████████████████████████████████████████████████████████▎                                 | 659/957 [02:27<01:06,  4.51it/s]"
     ]
    },
    {
     "name": "stdout",
     "output_type": "stream",
     "text": [
      "Classifying: Disbonding within part Disbonding within part\n",
      "Top label: Separation noodle joint with confidence score: 0.23277020454406738\n"
     ]
    },
    {
     "name": "stderr",
     "output_type": "stream",
     "text": [
      "\r",
      "Processing on GPU 1:  69%|██████████████████████████████████████████████████████████████████████████▊                                 | 662/955 [02:27<01:05,  4.46it/s]"
     ]
    },
    {
     "name": "stdout",
     "output_type": "stream",
     "text": [
      "Classifying: Delamination NDT Initial Failure\n",
      "Top label: Core split with confidence score: 0.18174977600574493\n"
     ]
    },
    {
     "name": "stderr",
     "output_type": "stream",
     "text": [
      "\r",
      "Processing on GPU 0:  69%|██████████████████████████████████████████████████████████████████████████▍                                 | 660/957 [02:27<01:05,  4.53it/s]"
     ]
    },
    {
     "name": "stdout",
     "output_type": "stream",
     "text": [
      "Classifying: Depression Core crush\n",
      "Top label: Separation noodle joint with confidence score: 0.23277020454406738\n"
     ]
    },
    {
     "name": "stderr",
     "output_type": "stream",
     "text": [
      "\r",
      "Processing on GPU 1:  69%|██████████████████████████████████████████████████████████████████████████▉                                 | 663/955 [02:27<01:05,  4.47it/s]"
     ]
    },
    {
     "name": "stdout",
     "output_type": "stream",
     "text": [
      "Classifying: Inclusion (Foreign Material) Surface dent\n",
      "Top label: Core deformation with confidence score: 0.35833290219306946\n"
     ]
    },
    {
     "name": "stderr",
     "output_type": "stream",
     "text": [
      "\r",
      "Processing on GPU 0:  69%|██████████████████████████████████████████████████████████████████████████▌                                 | 661/957 [02:27<01:05,  4.52it/s]"
     ]
    },
    {
     "name": "stdout",
     "output_type": "stream",
     "text": [
      "Classifying: Curing  Thermocouple Thermocouple over shoot\n",
      "Top label: Foreign Object Damage with confidence score: 0.9126908779144287\n"
     ]
    },
    {
     "name": "stderr",
     "output_type": "stream",
     "text": [
      "\r",
      "Processing on GPU 1:  70%|███████████████████████████████████████████████████████████████████████████                                 | 664/955 [02:28<01:05,  4.47it/s]"
     ]
    },
    {
     "name": "stdout",
     "output_type": "stream",
     "text": [
      "Classifying: Porosity Volumetric  Porosity\n",
      "Top label: Core displacement with confidence score: 0.1729193776845932\n"
     ]
    },
    {
     "name": "stderr",
     "output_type": "stream",
     "text": [
      "\r",
      "Processing on GPU 0:  69%|██████████████████████████████████████████████████████████████████████████▋                                 | 662/957 [02:28<01:05,  4.54it/s]"
     ]
    },
    {
     "name": "stdout",
     "output_type": "stream",
     "text": [
      "Classifying: Depression Depression mark\n",
      "Top label: Core displacement with confidence score: 0.19264408946037292\n"
     ]
    },
    {
     "name": "stderr",
     "output_type": "stream",
     "text": [
      "\r",
      "Processing on GPU 1:  70%|███████████████████████████████████████████████████████████████████████████▏                                | 665/955 [02:28<01:05,  4.46it/s]"
     ]
    },
    {
     "name": "stdout",
     "output_type": "stream",
     "text": [
      "Classifying: Imprint on Surface Dent Core Dent\n",
      "Top label: Core split with confidence score: 0.18594683706760406\n"
     ]
    },
    {
     "name": "stderr",
     "output_type": "stream",
     "text": [
      "\r",
      "Processing on GPU 0:  69%|██████████████████████████████████████████████████████████████████████████▊                                 | 663/957 [02:28<01:04,  4.53it/s]"
     ]
    },
    {
     "name": "stdout",
     "output_type": "stream",
     "text": [
      "Classifying: Single delamination NDT Initial Failure\n",
      "Top label: Core deformation with confidence score: 0.4703635573387146\n"
     ]
    },
    {
     "name": "stderr",
     "output_type": "stream",
     "text": [
      "\r",
      "Processing on GPU 1:  70%|███████████████████████████████████████████████████████████████████████████▎                                | 666/955 [02:28<01:04,  4.47it/s]"
     ]
    },
    {
     "name": "stdout",
     "output_type": "stream",
     "text": [
      "Classifying: Disbond DisbondTop label: Separation noodle joint with confidence score: 0.25209373235702515\n",
      "\n"
     ]
    },
    {
     "name": "stderr",
     "output_type": "stream",
     "text": [
      "\r",
      "Processing on GPU 0:  69%|██████████████████████████████████████████████████████████████████████████▉                                 | 664/957 [02:28<01:04,  4.53it/s]"
     ]
    },
    {
     "name": "stdout",
     "output_type": "stream",
     "text": [
      "Classifying: Crack Core crack\n",
      "Top label: Core split with confidence score: 0.2206205129623413\n"
     ]
    },
    {
     "name": "stderr",
     "output_type": "stream",
     "text": [
      "\r",
      "Processing on GPU 1:  70%|███████████████████████████████████████████████████████████████████████████▍                                | 667/955 [02:28<01:04,  4.48it/s]"
     ]
    },
    {
     "name": "stdout",
     "output_type": "stream",
     "text": [
      "Classifying: Core Step Core Step\n",
      "Top label: Core deformation with confidence score: 0.5146721005439758\n"
     ]
    },
    {
     "name": "stderr",
     "output_type": "stream",
     "text": [
      "\r",
      "Processing on GPU 0:  69%|███████████████████████████████████████████████████████████████████████████                                 | 665/957 [02:28<01:04,  4.51it/s]"
     ]
    },
    {
     "name": "stdout",
     "output_type": "stream",
     "text": [
      "Classifying: Volume Porosity Volumetric Porosity\n",
      "Top label: Core split with confidence score: 0.5320346355438232\n"
     ]
    },
    {
     "name": "stderr",
     "output_type": "stream",
     "text": [
      "\r",
      "Processing on GPU 1:  70%|███████████████████████████████████████████████████████████████████████████▌                                | 668/955 [02:28<01:03,  4.49it/s]"
     ]
    },
    {
     "name": "stdout",
     "output_type": "stream",
     "text": [
      "Classifying: Disbond DisbondTop label: Core split with confidence score: 0.20410870015621185\n",
      "\n"
     ]
    },
    {
     "name": "stderr",
     "output_type": "stream",
     "text": [
      "\r",
      "Processing on GPU 0:  70%|███████████████████████████████████████████████████████████████████████████▏                                | 666/957 [02:28<01:04,  4.52it/s]"
     ]
    },
    {
     "name": "stdout",
     "output_type": "stream",
     "text": [
      "Classifying: Disbonding within part disbond\n",
      "Top label: Core split with confidence score: 0.2206205129623413\n"
     ]
    },
    {
     "name": "stderr",
     "output_type": "stream",
     "text": [
      "\r",
      "Processing on GPU 1:  70%|███████████████████████████████████████████████████████████████████████████▋                                | 669/955 [02:29<01:03,  4.49it/s]"
     ]
    },
    {
     "name": "stdout",
     "output_type": "stream",
     "text": [
      "Classifying: Geometric Dimensioning Defects G3-PArt not according to drawing\n",
      "Top label: Core displacement with confidence score: 0.1883959025144577\n"
     ]
    },
    {
     "name": "stderr",
     "output_type": "stream",
     "text": [
      "\r",
      "Processing on GPU 0:  70%|███████████████████████████████████████████████████████████████████████████▎                                | 667/957 [02:29<01:04,  4.49it/s]"
     ]
    },
    {
     "name": "stdout",
     "output_type": "stream",
     "text": [
      "Classifying: Curing  Thermocouple Thermocouple over shoot\n",
      "Top label: Core split with confidence score: 0.21591833233833313\n"
     ]
    },
    {
     "name": "stderr",
     "output_type": "stream",
     "text": [
      "\r",
      "Processing on GPU 1:  70%|███████████████████████████████████████████████████████████████████████████▊                                | 670/955 [02:29<01:03,  4.51it/s]"
     ]
    },
    {
     "name": "stdout",
     "output_type": "stream",
     "text": [
      "Classifying: Porosity volumetric porosityTop label: Core displacement with confidence score: 0.1729193776845932\n",
      "\n"
     ]
    },
    {
     "name": "stderr",
     "output_type": "stream",
     "text": [
      "\r",
      "Processing on GPU 0:  70%|███████████████████████████████████████████████████████████████████████████▍                                | 668/957 [02:29<01:04,  4.50it/s]"
     ]
    },
    {
     "name": "stdout",
     "output_type": "stream",
     "text": [
      "Classifying: Curing  Thermocouple Thermocouple over shoot\n",
      "Top label: Core displacement with confidence score: 0.18443597853183746\n"
     ]
    },
    {
     "name": "stderr",
     "output_type": "stream",
     "text": [
      "\r",
      "Processing on GPU 1:  70%|███████████████████████████████████████████████████████████████████████████▉                                | 671/955 [02:29<01:03,  4.49it/s]"
     ]
    },
    {
     "name": "stdout",
     "output_type": "stream",
     "text": [
      "Classifying: Shelf Life Expired Shelf life expired before cure\n",
      "Top label: Core displacement with confidence score: 0.1729193776845932\n"
     ]
    },
    {
     "name": "stderr",
     "output_type": "stream",
     "text": [
      "\r",
      "Processing on GPU 0:  70%|███████████████████████████████████████████████████████████████████████████▍                                | 669/957 [02:29<01:04,  4.49it/s]"
     ]
    },
    {
     "name": "stdout",
     "output_type": "stream",
     "text": [
      "Classifying: Expired Material Material expired\n",
      "Top label: Splice gap with confidence score: 0.1399684101343155\n"
     ]
    },
    {
     "name": "stderr",
     "output_type": "stream",
     "text": [
      "\r",
      "Processing on GPU 1:  70%|███████████████████████████████████████████████████████████████████████████▉                                | 672/955 [02:29<01:02,  4.51it/s]"
     ]
    },
    {
     "name": "stdout",
     "output_type": "stream",
     "text": [
      "Classifying: Operation Not Per Drawing Additional Splice line\n",
      "Top label: Core split with confidence score: 0.14926661550998688\n"
     ]
    },
    {
     "name": "stderr",
     "output_type": "stream",
     "text": [
      "\r",
      "Processing on GPU 0:  70%|███████████████████████████████████████████████████████████████████████████▌                                | 670/957 [02:29<01:04,  4.48it/s]"
     ]
    },
    {
     "name": "stdout",
     "output_type": "stream",
     "text": [
      "Classifying: Surface defects waviness in FRP-laminate(Surfacedefects)\n",
      "Top label: Splice gap with confidence score: 0.24020984768867493\n"
     ]
    },
    {
     "name": "stderr",
     "output_type": "stream",
     "text": [
      "\r",
      "Processing on GPU 1:  70%|████████████████████████████████████████████████████████████████████████████                                | 673/955 [02:30<01:02,  4.52it/s]"
     ]
    },
    {
     "name": "stdout",
     "output_type": "stream",
     "text": [
      "Classifying: Gaps, Overlaps In Layup Overlap under size\n",
      "Top label: Foreign Object Damage with confidence score: 0.2058306485414505\n"
     ]
    },
    {
     "name": "stderr",
     "output_type": "stream",
     "text": [
      "\r",
      "Processing on GPU 0:  70%|███████████████████████████████████████████████████████████████████████████▋                                | 671/957 [02:30<01:03,  4.48it/s]"
     ]
    },
    {
     "name": "stdout",
     "output_type": "stream",
     "text": [
      "Classifying: Single delamination NDT Initial Failure\n",
      "Top label: Splice gap with confidence score: 0.2595416307449341\n"
     ]
    },
    {
     "name": "stderr",
     "output_type": "stream",
     "text": [
      "\r",
      "Processing on GPU 1:  71%|████████████████████████████████████████████████████████████████████████████▏                               | 674/955 [02:30<01:02,  4.51it/s]"
     ]
    },
    {
     "name": "stdout",
     "output_type": "stream",
     "text": [
      "Classifying: Porosity Volumetric Porosity\n",
      "Top label: Separation noodle joint with confidence score: 0.25209373235702515\n"
     ]
    },
    {
     "name": "stderr",
     "output_type": "stream",
     "text": [
      "\r",
      "Processing on GPU 0:  70%|███████████████████████████████████████████████████████████████████████████▊                                | 672/957 [02:30<01:03,  4.49it/s]"
     ]
    },
    {
     "name": "stdout",
     "output_type": "stream",
     "text": [
      "Classifying: Volume Porosity Volumetric porosity above size limit\n",
      "Top label: Core displacement with confidence score: 0.1835264265537262\n"
     ]
    },
    {
     "name": "stderr",
     "output_type": "stream",
     "text": [
      "\r",
      "Processing on GPU 1:  71%|████████████████████████████████████████████████████████████████████████████▎                               | 675/955 [02:30<01:02,  4.49it/s]"
     ]
    },
    {
     "name": "stdout",
     "output_type": "stream",
     "text": [
      "Classifying: Core Sag core Sag\n",
      "Top label: Splice gap with confidence score: 0.17096780240535736\n"
     ]
    },
    {
     "name": "stderr",
     "output_type": "stream",
     "text": [
      "\r",
      "Processing on GPU 0:  70%|███████████████████████████████████████████████████████████████████████████▉                                | 673/957 [02:30<01:02,  4.51it/s]"
     ]
    },
    {
     "name": "stdout",
     "output_type": "stream",
     "text": [
      "Classifying: Disbonding within part Disbonding within part\n",
      "Top label: Core split with confidence score: 0.7121198177337646\n"
     ]
    },
    {
     "name": "stderr",
     "output_type": "stream",
     "text": [
      "\r",
      "Processing on GPU 1:  71%|████████████████████████████████████████████████████████████████████████████▍                               | 676/955 [02:30<01:02,  4.49it/s]"
     ]
    },
    {
     "name": "stdout",
     "output_type": "stream",
     "text": [
      "Classifying: Trim Incorrect short trim\n",
      "Top label: Core split with confidence score: 0.18174977600574493\n"
     ]
    },
    {
     "name": "stderr",
     "output_type": "stream",
     "text": [
      "\r",
      "Processing on GPU 0:  70%|████████████████████████████████████████████████████████████████████████████                                | 674/957 [02:30<01:02,  4.51it/s]"
     ]
    },
    {
     "name": "stdout",
     "output_type": "stream",
     "text": [
      "Classifying: Honeycomb geometry Unidentified Defect\n",
      "Top label: Splice gap with confidence score: 0.32675912976264954\n"
     ]
    },
    {
     "name": "stderr",
     "output_type": "stream",
     "text": [
      "\r",
      "Processing on GPU 1:  71%|████████████████████████████████████████████████████████████████████████████▌                               | 677/955 [02:30<01:01,  4.50it/s]"
     ]
    },
    {
     "name": "stdout",
     "output_type": "stream",
     "text": [
      "Classifying: Waviness Depression\n",
      "Top label: Foreign Object Damage with confidence score: 0.26415643095970154\n"
     ]
    },
    {
     "name": "stderr",
     "output_type": "stream",
     "text": [
      "\r",
      "Processing on GPU 0:  71%|████████████████████████████████████████████████████████████████████████████▏                               | 675/957 [02:30<01:02,  4.52it/s]"
     ]
    },
    {
     "name": "stdout",
     "output_type": "stream",
     "text": [
      "Classifying: Single delamination NDT Initial Failure\n",
      "Top label: Core displacement with confidence score: 0.24560968577861786\n"
     ]
    },
    {
     "name": "stderr",
     "output_type": "stream",
     "text": [
      "\r",
      "Processing on GPU 1:  71%|████████████████████████████████████████████████████████████████████████████▋                               | 678/955 [02:31<01:01,  4.49it/s]"
     ]
    },
    {
     "name": "stdout",
     "output_type": "stream",
     "text": [
      "Classifying: Waviness Depression\n",
      "Top label: Separation noodle joint with confidence score: 0.25209373235702515\n"
     ]
    },
    {
     "name": "stderr",
     "output_type": "stream",
     "text": [
      "\r",
      "Processing on GPU 0:  71%|████████████████████████████████████████████████████████████████████████████▎                               | 676/957 [02:31<01:02,  4.52it/s]"
     ]
    },
    {
     "name": "stdout",
     "output_type": "stream",
     "text": [
      "Classifying: Delamination NDT Initial Failure\n",
      "Top label: Core displacement with confidence score: 0.24560968577861786\n",
      "Top label: Separation noodle joint with confidence score: 0.23277020454406738"
     ]
    },
    {
     "name": "stderr",
     "output_type": "stream",
     "text": [
      "\r",
      "Processing on GPU 1:  71%|████████████████████████████████████████████████████████████████████████████▊                               | 679/955 [02:31<01:01,  4.48it/s]"
     ]
    },
    {
     "name": "stdout",
     "output_type": "stream",
     "text": [
      "\n",
      "Classifying: Dimensional Deviation Dimension out of Tolerance"
     ]
    },
    {
     "name": "stderr",
     "output_type": "stream",
     "text": [
      "\r",
      "Processing on GPU 0:  71%|████████████████████████████████████████████████████████████████████████████▍                               | 677/957 [02:31<01:01,  4.52it/s]"
     ]
    },
    {
     "name": "stdout",
     "output_type": "stream",
     "text": [
      "\n",
      "Classifying: Disbonding within part NDT 2nd Failure\n",
      "Top label: Splice gap with confidence score: 0.2545115351676941\n",
      "Top label: Splice gap with confidence score: 0.20357464253902435"
     ]
    },
    {
     "name": "stderr",
     "output_type": "stream",
     "text": [
      "\r",
      "Processing on GPU 1:  71%|████████████████████████████████████████████████████████████████████████████▉                               | 680/955 [02:31<01:01,  4.48it/s]"
     ]
    },
    {
     "name": "stdout",
     "output_type": "stream",
     "text": [
      "\n",
      "Classifying: Dents Over Splice Lines Dent over splice line"
     ]
    },
    {
     "name": "stderr",
     "output_type": "stream",
     "text": [
      "\r",
      "Processing on GPU 0:  71%|████████████████████████████████████████████████████████████████████████████▌                               | 678/957 [02:31<01:01,  4.51it/s]"
     ]
    },
    {
     "name": "stdout",
     "output_type": "stream",
     "text": [
      "\n",
      "Classifying: Delamination Composite Manufacturing NDT Initial Failure\n",
      "Top label: Splice gap with confidence score: 0.3017521798610687\n"
     ]
    },
    {
     "name": "stderr",
     "output_type": "stream",
     "text": [
      "\r",
      "Processing on GPU 1:  71%|█████████████████████████████████████████████████████████████████████████████                               | 681/955 [02:31<01:00,  4.50it/s]"
     ]
    },
    {
     "name": "stdout",
     "output_type": "stream",
     "text": [
      "Top label: Resin buildup with confidence score: 0.3112137019634247Classifying: Disbond Disbond\n",
      "\n"
     ]
    },
    {
     "name": "stderr",
     "output_type": "stream",
     "text": [
      "\r",
      "Processing on GPU 0:  71%|████████████████████████████████████████████████████████████████████████████▋                               | 679/957 [02:31<01:01,  4.49it/s]"
     ]
    },
    {
     "name": "stdout",
     "output_type": "stream",
     "text": [
      "Classifying: Single delamination NDT Initial Failure\n",
      "Top label: Separation noodle joint with confidence score: 0.25209373235702515Top label: Core split with confidence score: 0.2206205129623413\n",
      "\n"
     ]
    },
    {
     "name": "stderr",
     "output_type": "stream",
     "text": [
      "Processing on GPU 1:  71%|█████████████████████████████████████████████████████████████████████████████▏                              | 682/955 [02:32<01:01,  4.47it/s]"
     ]
    },
    {
     "name": "stdout",
     "output_type": "stream",
     "text": [
      "Classifying: Volume Porosity NDT second failureClassifying: Disbond Disbond\n",
      "\n",
      "Top label: Foreign Object Damage with confidence score: 0.2104690968990326\n",
      "Top label: Core split with confidence score: 0.2206205129623413"
     ]
    },
    {
     "name": "stderr",
     "output_type": "stream",
     "text": [
      "\r",
      "Processing on GPU 0:  71%|████████████████████████████████████████████████████████████████████████████▊                               | 681/957 [02:32<01:01,  4.49it/s]"
     ]
    },
    {
     "name": "stdout",
     "output_type": "stream",
     "text": [
      "\n",
      "Classifying: Disbonding within part NDT Third Failure"
     ]
    },
    {
     "name": "stderr",
     "output_type": "stream",
     "text": [
      "\r",
      "Processing on GPU 1:  72%|█████████████████████████████████████████████████████████████████████████████▏                              | 683/955 [02:32<01:01,  4.46it/s]"
     ]
    },
    {
     "name": "stdout",
     "output_type": "stream",
     "text": [
      "Classifying: Delamination Delamination\n",
      "\n",
      "Top label: Resin buildup with confidence score: 0.28864264488220215Top label: Splice gap with confidence score: 0.20859499275684357\n",
      "\n"
     ]
    },
    {
     "name": "stderr",
     "output_type": "stream",
     "text": [
      "Processing on GPU 0:  71%|████████████████████████████████████████████████████████████████████████████▉                               | 682/957 [02:32<01:01,  4.47it/s]"
     ]
    },
    {
     "name": "stdout",
     "output_type": "stream",
     "text": [
      "Classifying: Wrinkle WrinkleClassifying: Volume Porosity Volumetric Porosity\n",
      "\n",
      "Top label: Core split with confidence score: 0.19982367753982544\n"
     ]
    },
    {
     "name": "stderr",
     "output_type": "stream",
     "text": [
      "\r",
      "Processing on GPU 1:  72%|█████████████████████████████████████████████████████████████████████████████▍                              | 685/955 [02:32<01:00,  4.47it/s]"
     ]
    },
    {
     "name": "stdout",
     "output_type": "stream",
     "text": [
      "Classifying: Imprint on Surface Dent Core DentTop label: Core split with confidence score: 0.20410870015621185\n",
      "\n"
     ]
    },
    {
     "name": "stderr",
     "output_type": "stream",
     "text": [
      "\r",
      "Processing on GPU 0:  71%|█████████████████████████████████████████████████████████████████████████████                               | 683/957 [02:32<01:01,  4.46it/s]"
     ]
    },
    {
     "name": "stdout",
     "output_type": "stream",
     "text": [
      "Classifying: Honeycomb geometry Deformed Core\n",
      "Top label: Core deformation with confidence score: 0.4703635573387146\n"
     ]
    },
    {
     "name": "stderr",
     "output_type": "stream",
     "text": [
      "\r",
      "Processing on GPU 1:  72%|█████████████████████████████████████████████████████████████████████████████▌                              | 686/955 [02:32<00:59,  4.51it/s]"
     ]
    },
    {
     "name": "stdout",
     "output_type": "stream",
     "text": [
      "Classifying: Imprint on Surface Dent Core Dent\n",
      "Top label: Core deformation with confidence score: 0.6248374581336975\n"
     ]
    },
    {
     "name": "stderr",
     "output_type": "stream",
     "text": [
      "\r",
      "Processing on GPU 0:  71%|█████████████████████████████████████████████████████████████████████████████▏                              | 684/957 [02:32<01:01,  4.43it/s]"
     ]
    },
    {
     "name": "stdout",
     "output_type": "stream",
     "text": [
      "Classifying: Hole incorrectly positioned Unwanted Hole\n",
      "Top label: Core deformation with confidence score: 0.4703635573387146\n"
     ]
    },
    {
     "name": "stderr",
     "output_type": "stream",
     "text": [
      "\r",
      "Processing on GPU 1:  72%|█████████████████████████████████████████████████████████████████████████████▋                              | 687/955 [02:33<00:58,  4.55it/s]"
     ]
    },
    {
     "name": "stdout",
     "output_type": "stream",
     "text": [
      "Classifying: Imprint on Surface Dent Core dents,toolside\n",
      "Top label: Foreign Object Damage with confidence score: 0.39944469928741455\n"
     ]
    },
    {
     "name": "stderr",
     "output_type": "stream",
     "text": [
      "\r",
      "Processing on GPU 0:  72%|█████████████████████████████████████████████████████████████████████████████▎                              | 685/957 [02:33<01:01,  4.42it/s]"
     ]
    },
    {
     "name": "stdout",
     "output_type": "stream",
     "text": [
      "Classifying: Depression Core crush\n",
      "Top label: Core deformation with confidence score: 0.7715247273445129\n"
     ]
    },
    {
     "name": "stderr",
     "output_type": "stream",
     "text": [
      "\r",
      "Processing on GPU 1:  72%|█████████████████████████████████████████████████████████████████████████████▊                              | 688/955 [02:33<00:58,  4.53it/s]"
     ]
    },
    {
     "name": "stdout",
     "output_type": "stream",
     "text": [
      "Classifying: Delamination Delamination\n",
      "Top label: Core deformation with confidence score: 0.35833290219306946\n"
     ]
    },
    {
     "name": "stderr",
     "output_type": "stream",
     "text": [
      "\r",
      "Processing on GPU 0:  72%|█████████████████████████████████████████████████████████████████████████████▍                              | 686/957 [02:33<01:01,  4.40it/s]"
     ]
    },
    {
     "name": "stdout",
     "output_type": "stream",
     "text": [
      "Classifying: Traceability not recorded no SAP transaction for Mat freezing\n",
      "Top label: Resin buildup with confidence score: 0.28864264488220215\n"
     ]
    },
    {
     "name": "stderr",
     "output_type": "stream",
     "text": [
      "\r",
      "Processing on GPU 1:  72%|█████████████████████████████████████████████████████████████████████████████▉                              | 689/955 [02:33<00:58,  4.54it/s]"
     ]
    },
    {
     "name": "stdout",
     "output_type": "stream",
     "text": [
      "Classifying: Disbond Disbond\n",
      "Top label: Separation noodle joint with confidence score: 0.17194144427776337\n"
     ]
    },
    {
     "name": "stderr",
     "output_type": "stream",
     "text": [
      "\r",
      "Processing on GPU 0:  72%|█████████████████████████████████████████████████████████████████████████████▌                              | 687/957 [02:33<01:00,  4.43it/s]"
     ]
    },
    {
     "name": "stdout",
     "output_type": "stream",
     "text": [
      "Classifying: Impact QG3-Impact damage on top cover\n",
      "Top label: Core split with confidence score: 0.2206205129623413\n"
     ]
    },
    {
     "name": "stderr",
     "output_type": "stream",
     "text": [
      "\r",
      "Processing on GPU 1:  72%|██████████████████████████████████████████████████████████████████████████████                              | 690/955 [02:33<00:58,  4.53it/s]"
     ]
    },
    {
     "name": "stdout",
     "output_type": "stream",
     "text": [
      "Classifying: Shelf Life Expired Shelf life expired before curing\n",
      "Top label: Foreign Object Damage with confidence score: 0.1524783819913864\n"
     ]
    },
    {
     "name": "stderr",
     "output_type": "stream",
     "text": [
      "\r",
      "Processing on GPU 0:  72%|█████████████████████████████████████████████████████████████████████████████▋                              | 688/957 [02:33<01:00,  4.47it/s]"
     ]
    },
    {
     "name": "stdout",
     "output_type": "stream",
     "text": [
      "Classifying: Dimensions out of Tolerance Flange OOT\n",
      "Top label: Separation noodle joint with confidence score: 0.15353600680828094\n"
     ]
    },
    {
     "name": "stderr",
     "output_type": "stream",
     "text": [
      "\r",
      "Processing on GPU 1:  72%|██████████████████████████████████████████████████████████████████████████████▏                             | 691/955 [02:34<00:58,  4.51it/s]"
     ]
    },
    {
     "name": "stdout",
     "output_type": "stream",
     "text": [
      "Classifying: Shelf Life Expired Shelf life expired before curing\n",
      "Top label: Foreign Object Damage with confidence score: 0.3062465786933899\n"
     ]
    },
    {
     "name": "stderr",
     "output_type": "stream",
     "text": [
      "\r",
      "Processing on GPU 0:  72%|█████████████████████████████████████████████████████████████████████████████▊                              | 689/957 [02:34<00:59,  4.47it/s]"
     ]
    },
    {
     "name": "stdout",
     "output_type": "stream",
     "text": [
      "Classifying: Unwanted hole Unwanted Hole\n",
      "Top label: Separation noodle joint with confidence score: 0.15353600680828094\n"
     ]
    },
    {
     "name": "stderr",
     "output_type": "stream",
     "text": [
      "\r",
      "Processing on GPU 1:  72%|██████████████████████████████████████████████████████████████████████████████▎                             | 692/955 [02:34<00:58,  4.51it/s]"
     ]
    },
    {
     "name": "stdout",
     "output_type": "stream",
     "text": [
      "Classifying: Inclusion (Foreign Material) FOD on skin\n",
      "Top label: Foreign Object Damage with confidence score: 0.2659395933151245\n"
     ]
    },
    {
     "name": "stderr",
     "output_type": "stream",
     "text": [
      "\r",
      "Processing on GPU 0:  72%|█████████████████████████████████████████████████████████████████████████████▊                              | 690/957 [02:34<00:59,  4.48it/s]"
     ]
    },
    {
     "name": "stdout",
     "output_type": "stream",
     "text": [
      "Classifying: Unwanted hole unwanted hole\n",
      "Top label: Foreign Object Damage with confidence score: 0.9168923497200012\n"
     ]
    },
    {
     "name": "stderr",
     "output_type": "stream",
     "text": [
      "\r",
      "Processing on GPU 1:  73%|██████████████████████████████████████████████████████████████████████████████▎                             | 693/955 [02:34<00:58,  4.51it/s]"
     ]
    },
    {
     "name": "stdout",
     "output_type": "stream",
     "text": [
      "Classifying: Foreign Objects in Parts FOD LOCATED\n",
      "Top label: Foreign Object Damage with confidence score: 0.3033614456653595\n"
     ]
    },
    {
     "name": "stderr",
     "output_type": "stream",
     "text": [
      "\r",
      "Processing on GPU 0:  72%|█████████████████████████████████████████████████████████████████████████████▉                              | 691/957 [02:34<00:59,  4.46it/s]"
     ]
    },
    {
     "name": "stdout",
     "output_type": "stream",
     "text": [
      "Classifying: Curing Vacuum vacuum leak\n",
      "Top label: Foreign Object Damage with confidence score: 0.6780513525009155\n"
     ]
    },
    {
     "name": "stderr",
     "output_type": "stream",
     "text": [
      "\r",
      "Processing on GPU 1:  73%|██████████████████████████████████████████████████████████████████████████████▍                             | 694/955 [02:34<00:57,  4.50it/s]"
     ]
    },
    {
     "name": "stdout",
     "output_type": "stream",
     "text": [
      "Classifying: Imprint on Surface Dent Core Dent\n",
      "Top label: Splice gap with confidence score: 0.1877499371767044\n"
     ]
    },
    {
     "name": "stderr",
     "output_type": "stream",
     "text": [
      "\r",
      "Processing on GPU 0:  72%|██████████████████████████████████████████████████████████████████████████████                              | 692/957 [02:34<00:59,  4.47it/s]"
     ]
    },
    {
     "name": "stdout",
     "output_type": "stream",
     "text": [
      "Classifying: Curing  Thermocouple Thermocouple over shoot\n",
      "Top label: Core deformation with confidence score: 0.4703635573387146\n"
     ]
    },
    {
     "name": "stderr",
     "output_type": "stream",
     "text": [
      "\r",
      "Processing on GPU 1:  73%|██████████████████████████████████████████████████████████████████████████████▌                             | 695/955 [02:34<00:57,  4.52it/s]"
     ]
    },
    {
     "name": "stdout",
     "output_type": "stream",
     "text": [
      "Classifying: Thermocouple Issue FOD Thermocouple\n",
      "Top label: Core displacement with confidence score: 0.1729193776845932\n"
     ]
    },
    {
     "name": "stderr",
     "output_type": "stream",
     "text": [
      "\r",
      "Processing on GPU 0:  72%|██████████████████████████████████████████████████████████████████████████████▏                             | 693/957 [02:34<00:59,  4.47it/s]"
     ]
    },
    {
     "name": "stdout",
     "output_type": "stream",
     "text": [
      "Classifying: Wrinkles Wrinkles\n",
      "Top label: Foreign Object Damage with confidence score: 0.8939136266708374\n"
     ]
    },
    {
     "name": "stderr",
     "output_type": "stream",
     "text": [
      "\r",
      "Processing on GPU 1:  73%|██████████████████████████████████████████████████████████████████████████████▋                             | 696/955 [02:35<00:57,  4.52it/s]"
     ]
    },
    {
     "name": "stdout",
     "output_type": "stream",
     "text": [
      "Classifying: Core Damage, Torn Nodal Joints Core defect\n",
      "Top label: Resin buildup with confidence score: 0.1902356743812561\n"
     ]
    },
    {
     "name": "stderr",
     "output_type": "stream",
     "text": [
      "\r",
      "Processing on GPU 0:  73%|██████████████████████████████████████████████████████████████████████████████▎                             | 694/957 [02:35<00:58,  4.48it/s]"
     ]
    },
    {
     "name": "stdout",
     "output_type": "stream",
     "text": [
      "Classifying: Honeycomb geometry Core Sag\n",
      "Top label: Core deformation with confidence score: 0.6720932126045227\n"
     ]
    },
    {
     "name": "stderr",
     "output_type": "stream",
     "text": [
      "\r",
      "Processing on GPU 1:  73%|██████████████████████████████████████████████████████████████████████████████▊                             | 697/955 [02:35<00:57,  4.50it/s]"
     ]
    },
    {
     "name": "stdout",
     "output_type": "stream",
     "text": [
      "Classifying: Porosity volumetric porosity\n",
      "Top label: Core deformation with confidence score: 0.5280296802520752\n"
     ]
    },
    {
     "name": "stderr",
     "output_type": "stream",
     "text": [
      "\r",
      "Processing on GPU 0:  73%|██████████████████████████████████████████████████████████████████████████████▍                             | 695/957 [02:35<00:58,  4.48it/s]"
     ]
    },
    {
     "name": "stdout",
     "output_type": "stream",
     "text": [
      "Classifying: Material Missing or Incorrect positioned Material Missing or Incorrect positioned\n",
      "Top label: Core displacement with confidence score: 0.18443597853183746\n"
     ]
    },
    {
     "name": "stderr",
     "output_type": "stream",
     "text": [
      "\r",
      "Processing on GPU 1:  73%|██████████████████████████████████████████████████████████████████████████████▉                             | 698/955 [02:35<00:57,  4.51it/s]"
     ]
    },
    {
     "name": "stdout",
     "output_type": "stream",
     "text": [
      "Classifying: Porosity Volumetric porosity\n",
      "Top label: Splice gap with confidence score: 0.17671868205070496\n"
     ]
    },
    {
     "name": "stderr",
     "output_type": "stream",
     "text": [
      "\r",
      "Processing on GPU 0:  73%|██████████████████████████████████████████████████████████████████████████████▌                             | 696/957 [02:35<00:58,  4.48it/s]"
     ]
    },
    {
     "name": "stdout",
     "output_type": "stream",
     "text": [
      "Classifying: Depression Surface Depression\n",
      "Top label: Core displacement with confidence score: 0.1716960072517395\n"
     ]
    },
    {
     "name": "stderr",
     "output_type": "stream",
     "text": [
      "\r",
      "Processing on GPU 1:  73%|███████████████████████████████████████████████████████████████████████████████                             | 699/955 [02:35<00:56,  4.51it/s]"
     ]
    },
    {
     "name": "stdout",
     "output_type": "stream",
     "text": [
      "Classifying: Shelf Life Expired material expired\n",
      "Top label: Core split with confidence score: 0.23510460555553436\n"
     ]
    },
    {
     "name": "stderr",
     "output_type": "stream",
     "text": [
      "\r",
      "Processing on GPU 0:  73%|██████████████████████████████████████████████████████████████████████████████▋                             | 697/957 [02:35<00:57,  4.49it/s]"
     ]
    },
    {
     "name": "stdout",
     "output_type": "stream",
     "text": [
      "Classifying: Disbonding within part Disbonding\n",
      "Top label: Core split with confidence score: 0.20094437897205353\n"
     ]
    },
    {
     "name": "stderr",
     "output_type": "stream",
     "text": [
      "\r",
      "Processing on GPU 1:  73%|███████████████████████████████████████████████████████████████████████████████▏                            | 700/955 [02:36<00:56,  4.51it/s]"
     ]
    },
    {
     "name": "stdout",
     "output_type": "stream",
     "text": [
      "Classifying: Dents Over Splice Lines Dent over splice line\n",
      "Top label: Splice gap with confidence score: 0.2045622020959854\n"
     ]
    },
    {
     "name": "stderr",
     "output_type": "stream",
     "text": [
      "\r",
      "Processing on GPU 0:  73%|██████████████████████████████████████████████████████████████████████████████▊                             | 698/957 [02:36<00:57,  4.50it/s]"
     ]
    },
    {
     "name": "stdout",
     "output_type": "stream",
     "text": [
      "Classifying: Traceability not recorded edge sealing operation in SAP missing\n",
      "Top label: Splice gap with confidence score: 0.3017521798610687\n"
     ]
    },
    {
     "name": "stderr",
     "output_type": "stream",
     "text": [
      "\r",
      "Processing on GPU 1:  73%|███████████████████████████████████████████████████████████████████████████████▎                            | 701/955 [02:36<00:56,  4.51it/s]"
     ]
    },
    {
     "name": "stdout",
     "output_type": "stream",
     "text": [
      "Classifying: Imprint on Surface Dent Core Dent\n",
      "Top label: Separation noodle joint with confidence score: 0.2275099754333496\n"
     ]
    },
    {
     "name": "stderr",
     "output_type": "stream",
     "text": [
      "\r",
      "Processing on GPU 0:  73%|██████████████████████████████████████████████████████████████████████████████▉                             | 699/957 [02:36<00:57,  4.50it/s]"
     ]
    },
    {
     "name": "stdout",
     "output_type": "stream",
     "text": [
      "Classifying: Disbonding within part Disbonding within part\n",
      "Top label: Core deformation with confidence score: 0.4703635573387146\n"
     ]
    },
    {
     "name": "stderr",
     "output_type": "stream",
     "text": [
      "\r",
      "Processing on GPU 1:  74%|███████████████████████████████████████████████████████████████████████████████▍                            | 702/955 [02:36<00:55,  4.53it/s]"
     ]
    },
    {
     "name": "stdout",
     "output_type": "stream",
     "text": [
      "Classifying: Drill hole out of spec Dimension out of Tolerance\n",
      "Top label: Core split with confidence score: 0.18174977600574493\n"
     ]
    },
    {
     "name": "stderr",
     "output_type": "stream",
     "text": [
      "\r",
      "Processing on GPU 0:  73%|██████████████████████████████████████████████████████████████████████████████▉                             | 700/957 [02:36<00:57,  4.45it/s]"
     ]
    },
    {
     "name": "stdout",
     "output_type": "stream",
     "text": [
      "Classifying: Hole incorrectly positioned nan\n",
      "Top label: Splice gap with confidence score: 0.3335663080215454\n"
     ]
    },
    {
     "name": "stderr",
     "output_type": "stream",
     "text": [
      "\r",
      "Processing on GPU 1:  74%|███████████████████████████████████████████████████████████████████████████████▌                            | 703/955 [02:36<00:55,  4.54it/s]"
     ]
    },
    {
     "name": "stdout",
     "output_type": "stream",
     "text": [
      "Classifying: Imprint on Surface Dent Core Dent\n",
      "Top label: Foreign Object Damage with confidence score: 0.23074288666248322\n"
     ]
    },
    {
     "name": "stderr",
     "output_type": "stream",
     "text": [
      "\r",
      "Processing on GPU 0:  73%|███████████████████████████████████████████████████████████████████████████████                             | 701/957 [02:36<00:57,  4.47it/s]"
     ]
    },
    {
     "name": "stdout",
     "output_type": "stream",
     "text": [
      "Classifying: Crack Deviation from framework\n",
      "Top label: Core deformation with confidence score: 0.4703635573387146\n"
     ]
    },
    {
     "name": "stderr",
     "output_type": "stream",
     "text": [
      "\r",
      "Processing on GPU 1:  74%|███████████████████████████████████████████████████████████████████████████████▌                            | 704/955 [02:36<00:55,  4.51it/s]"
     ]
    },
    {
     "name": "stdout",
     "output_type": "stream",
     "text": [
      "Classifying: Bag Leak Vacuum leak during cycle.\n",
      "Top label: Core displacement with confidence score: 0.31685706973075867\n"
     ]
    },
    {
     "name": "stderr",
     "output_type": "stream",
     "text": [
      "\r",
      "Processing on GPU 0:  73%|███████████████████████████████████████████████████████████████████████████████▏                            | 702/957 [02:36<00:56,  4.49it/s]"
     ]
    },
    {
     "name": "stdout",
     "output_type": "stream",
     "text": [
      "Classifying: Crack Deviation from framework\n",
      "Top label: Splice gap with confidence score: 0.1738288253545761\n"
     ]
    },
    {
     "name": "stderr",
     "output_type": "stream",
     "text": [
      "\r",
      "Processing on GPU 1:  74%|███████████████████████████████████████████████████████████████████████████████▋                            | 705/955 [02:37<00:55,  4.49it/s]"
     ]
    },
    {
     "name": "stdout",
     "output_type": "stream",
     "text": [
      "Classifying: Delamination Delamination\n",
      "Top label: Core displacement with confidence score: 0.31685706973075867\n"
     ]
    },
    {
     "name": "stderr",
     "output_type": "stream",
     "text": [
      "\r",
      "Processing on GPU 0:  73%|███████████████████████████████████████████████████████████████████████████████▎                            | 703/957 [02:37<00:56,  4.47it/s]"
     ]
    },
    {
     "name": "stdout",
     "output_type": "stream",
     "text": [
      "Classifying: Expired Material part cured within 5days after expiration\n",
      "Top label: Resin buildup with confidence score: 0.28864264488220215\n"
     ]
    },
    {
     "name": "stderr",
     "output_type": "stream",
     "text": [
      "\r",
      "Processing on GPU 1:  74%|███████████████████████████████████████████████████████████████████████████████▊                            | 706/955 [02:37<00:55,  4.50it/s]"
     ]
    },
    {
     "name": "stdout",
     "output_type": "stream",
     "text": [
      "Classifying: Imprint on Surface Dent Core Dent\n",
      "Top label: Core deformation with confidence score: 0.15081341564655304\n"
     ]
    },
    {
     "name": "stderr",
     "output_type": "stream",
     "text": [
      "\r",
      "Processing on GPU 0:  74%|███████████████████████████████████████████████████████████████████████████████▍                            | 704/957 [02:37<00:56,  4.48it/s]"
     ]
    },
    {
     "name": "stdout",
     "output_type": "stream",
     "text": [
      "Classifying: Traceability not recorded material expired due to system SAP error\n",
      "Top label: Core deformation with confidence score: 0.4703635573387146\n"
     ]
    },
    {
     "name": "stderr",
     "output_type": "stream",
     "text": [
      "\r",
      "Processing on GPU 1:  74%|███████████████████████████████████████████████████████████████████████████████▉                            | 707/955 [02:37<00:54,  4.52it/s]"
     ]
    },
    {
     "name": "stdout",
     "output_type": "stream",
     "text": [
      "Classifying: Core Damage, Torn Nodal Joints Core Crack\n",
      "Top label: Splice gap with confidence score: 0.20622268319129944\n"
     ]
    },
    {
     "name": "stderr",
     "output_type": "stream",
     "text": [
      "\r",
      "Processing on GPU 0:  74%|███████████████████████████████████████████████████████████████████████████████▌                            | 705/957 [02:37<00:56,  4.44it/s]"
     ]
    },
    {
     "name": "stdout",
     "output_type": "stream",
     "text": [
      "Classifying: Retrieving For tracebility\n",
      "Top label: Core deformation with confidence score: 0.5510677695274353\n"
     ]
    },
    {
     "name": "stderr",
     "output_type": "stream",
     "text": [
      "\r",
      "Processing on GPU 1:  74%|████████████████████████████████████████████████████████████████████████████████                            | 708/955 [02:37<00:54,  4.51it/s]"
     ]
    },
    {
     "name": "stdout",
     "output_type": "stream",
     "text": [
      "Classifying: Porosity Porosity\n",
      "Top label: Resin buildup with confidence score: 0.25942522287368774\n"
     ]
    },
    {
     "name": "stderr",
     "output_type": "stream",
     "text": [
      "\r",
      "Processing on GPU 0:  74%|███████████████████████████████████████████████████████████████████████████████▋                            | 706/957 [02:37<00:55,  4.48it/s]"
     ]
    },
    {
     "name": "stdout",
     "output_type": "stream",
     "text": [
      "Classifying: Completeness Pre released Concession\n",
      "Top label: Foreign Object Damage with confidence score: 0.25687840580940247\n"
     ]
    },
    {
     "name": "stderr",
     "output_type": "stream",
     "text": [
      "\r",
      "Processing on GPU 1:  74%|████████████████████████████████████████████████████████████████████████████████▏                           | 709/955 [02:38<00:54,  4.51it/s]"
     ]
    },
    {
     "name": "stdout",
     "output_type": "stream",
     "text": [
      "Classifying: Imprint on Surface Dent Core Dent\n",
      "Top label: Core split with confidence score: 0.26068776845932007\n"
     ]
    },
    {
     "name": "stderr",
     "output_type": "stream",
     "text": [
      "\r",
      "Processing on GPU 0:  74%|███████████████████████████████████████████████████████████████████████████████▊                            | 707/957 [02:38<00:55,  4.47it/s]"
     ]
    },
    {
     "name": "stdout",
     "output_type": "stream",
     "text": [
      "Classifying: Material Missing or Incorrect positioned splice defect\n",
      "Top label: Core deformation with confidence score: 0.4703635573387146\n"
     ]
    },
    {
     "name": "stderr",
     "output_type": "stream",
     "text": [
      "\r",
      "Processing on GPU 1:  74%|████████████████████████████████████████████████████████████████████████████████▎                           | 710/955 [02:38<00:54,  4.53it/s]"
     ]
    },
    {
     "name": "stdout",
     "output_type": "stream",
     "text": [
      "Classifying: Porosity Volumetric porosity\n",
      "Top label: Splice gap with confidence score: 0.6790766716003418\n"
     ]
    },
    {
     "name": "stderr",
     "output_type": "stream",
     "text": [
      "\r",
      "Processing on GPU 0:  74%|███████████████████████████████████████████████████████████████████████████████▉                            | 708/957 [02:38<00:55,  4.46it/s]"
     ]
    },
    {
     "name": "stdout",
     "output_type": "stream",
     "text": [
      "Classifying: Material Missing or Incorrect positioned Core splice defect - Tool side\n",
      "Top label: Core displacement with confidence score: 0.1716960072517395\n"
     ]
    },
    {
     "name": "stderr",
     "output_type": "stream",
     "text": [
      "\r",
      "Processing on GPU 1:  74%|████████████████████████████████████████████████████████████████████████████████▍                           | 711/955 [02:38<00:53,  4.55it/s]"
     ]
    },
    {
     "name": "stdout",
     "output_type": "stream",
     "text": [
      "Classifying: Missing not continuous drilling until bag side\n",
      "Top label: Core deformation with confidence score: 0.41915586590766907\n"
     ]
    },
    {
     "name": "stderr",
     "output_type": "stream",
     "text": [
      "\r",
      "Processing on GPU 0:  74%|████████████████████████████████████████████████████████████████████████████████                            | 709/957 [02:38<00:55,  4.45it/s]"
     ]
    },
    {
     "name": "stdout",
     "output_type": "stream",
     "text": [
      "Classifying: Completeness Pre released Concession\n",
      "Top label: Separation noodle joint with confidence score: 0.20565642416477203\n"
     ]
    },
    {
     "name": "stderr",
     "output_type": "stream",
     "text": [
      "\r",
      "Processing on GPU 1:  75%|████████████████████████████████████████████████████████████████████████████████▌                           | 712/955 [02:38<00:53,  4.53it/s]"
     ]
    },
    {
     "name": "stdout",
     "output_type": "stream",
     "text": [
      "Classifying: Disbond Disbond\n",
      "Top label: Core split with confidence score: 0.26068776845932007\n"
     ]
    },
    {
     "name": "stderr",
     "output_type": "stream",
     "text": [
      "\r",
      "Processing on GPU 0:  74%|████████████████████████████████████████████████████████████████████████████████▏                           | 710/957 [02:38<00:55,  4.47it/s]"
     ]
    },
    {
     "name": "stdout",
     "output_type": "stream",
     "text": [
      "Classifying: Disbonding within part Disbond\n",
      "Top label: Core split with confidence score: 0.2206205129623413\n"
     ]
    },
    {
     "name": "stderr",
     "output_type": "stream",
     "text": [
      "\r",
      "Processing on GPU 1:  75%|████████████████████████████████████████████████████████████████████████████████▋                           | 713/955 [02:38<00:53,  4.52it/s]"
     ]
    },
    {
     "name": "stdout",
     "output_type": "stream",
     "text": [
      "Classifying: Imprint on Surface Dent Wrinkle\n",
      "Top label: Core displacement with confidence score: 0.21432512998580933\n"
     ]
    },
    {
     "name": "stderr",
     "output_type": "stream",
     "text": [
      "\r",
      "Processing on GPU 0:  74%|████████████████████████████████████████████████████████████████████████████████▏                           | 711/957 [02:38<00:55,  4.45it/s]"
     ]
    },
    {
     "name": "stdout",
     "output_type": "stream",
     "text": [
      "Classifying: Delamination Composite Manufacturing Delamination composite manufacturing\n",
      "Top label: Foreign Object Damage with confidence score: 0.17586758732795715\n"
     ]
    },
    {
     "name": "stderr",
     "output_type": "stream",
     "text": [
      "\r",
      "Processing on GPU 1:  75%|████████████████████████████████████████████████████████████████████████████████▋                           | 714/955 [02:39<00:53,  4.55it/s]"
     ]
    },
    {
     "name": "stdout",
     "output_type": "stream",
     "text": [
      "Classifying: Impact Damage Impact damage in the part\n",
      "Top label: Resin buildup with confidence score: 0.3890678286552429\n"
     ]
    },
    {
     "name": "stderr",
     "output_type": "stream",
     "text": [
      "\r",
      "Processing on GPU 0:  74%|████████████████████████████████████████████████████████████████████████████████▎                           | 712/957 [02:39<00:54,  4.46it/s]"
     ]
    },
    {
     "name": "stdout",
     "output_type": "stream",
     "text": [
      "Classifying: Expired Material material shelf life expired\n",
      "Top label: Separation noodle joint with confidence score: 0.1473739594221115\n"
     ]
    },
    {
     "name": "stderr",
     "output_type": "stream",
     "text": [
      "\r",
      "Processing on GPU 1:  75%|████████████████████████████████████████████████████████████████████████████████▊                           | 715/955 [02:39<00:52,  4.54it/s]"
     ]
    },
    {
     "name": "stdout",
     "output_type": "stream",
     "text": [
      "Classifying: Disbond Disbond located on Toolside\n",
      "Top label: Core split with confidence score: 0.16036558151245117\n"
     ]
    },
    {
     "name": "stderr",
     "output_type": "stream",
     "text": [
      "\r",
      "Processing on GPU 0:  75%|████████████████████████████████████████████████████████████████████████████████▍                           | 713/957 [02:39<00:54,  4.48it/s]"
     ]
    },
    {
     "name": "stdout",
     "output_type": "stream",
     "text": [
      "Classifying: Expired Material material shelf life expired\n",
      "Top label: Separation noodle joint with confidence score: 0.25411155819892883\n"
     ]
    },
    {
     "name": "stderr",
     "output_type": "stream",
     "text": [
      "\r",
      "Processing on GPU 1:  75%|████████████████████████████████████████████████████████████████████████████████▉                           | 716/955 [02:39<00:52,  4.52it/s]"
     ]
    },
    {
     "name": "stdout",
     "output_type": "stream",
     "text": [
      "Classifying: Breakout(Review Spec Alowces,Some Reworb Delamination of flaking out of Tol\n",
      "Top label: Core split with confidence score: 0.16036558151245117\n"
     ]
    },
    {
     "name": "stderr",
     "output_type": "stream",
     "text": [
      "\r",
      "Processing on GPU 0:  75%|████████████████████████████████████████████████████████████████████████████████▌                           | 714/957 [02:39<00:54,  4.50it/s]"
     ]
    },
    {
     "name": "stdout",
     "output_type": "stream",
     "text": [
      "Classifying: Specimen results out of tolerance PCS fwt failed\n",
      "Top label: Separation noodle joint with confidence score: 0.15692098438739777\n"
     ]
    },
    {
     "name": "stderr",
     "output_type": "stream",
     "text": [
      "\r",
      "Processing on GPU 1:  75%|█████████████████████████████████████████████████████████████████████████████████                           | 717/955 [02:39<00:52,  4.54it/s]"
     ]
    },
    {
     "name": "stdout",
     "output_type": "stream",
     "text": [
      "Classifying: Core Damage, Torn Nodal Joints Core Crack\n",
      "Top label: Foreign Object Damage with confidence score: 0.23541311919689178\n"
     ]
    },
    {
     "name": "stderr",
     "output_type": "stream",
     "text": [
      "\r",
      "Processing on GPU 0:  75%|████████████████████████████████████████████████████████████████████████████████▋                           | 715/957 [02:39<00:53,  4.48it/s]"
     ]
    },
    {
     "name": "stdout",
     "output_type": "stream",
     "text": [
      "Classifying: Honeycomb geometry Core step\n",
      "Top label: Core deformation with confidence score: 0.5510677695274353\n"
     ]
    },
    {
     "name": "stderr",
     "output_type": "stream",
     "text": [
      "\r",
      "Processing on GPU 1:  75%|█████████████████████████████████████████████████████████████████████████████████▏                          | 718/955 [02:40<00:52,  4.55it/s]"
     ]
    },
    {
     "name": "stdout",
     "output_type": "stream",
     "text": [
      "Classifying: Delamination delamination above size limit\n",
      "Top label: Core deformation with confidence score: 0.6000270843505859\n"
     ]
    },
    {
     "name": "stderr",
     "output_type": "stream",
     "text": [
      "\r",
      "Processing on GPU 0:  75%|████████████████████████████████████████████████████████████████████████████████▊                           | 716/957 [02:40<00:54,  4.46it/s]"
     ]
    },
    {
     "name": "stdout",
     "output_type": "stream",
     "text": [
      "Classifying: Curing  Thermocouple Thermocouple over shoot\n",
      "Top label: Resin buildup with confidence score: 0.300128698348999\n"
     ]
    },
    {
     "name": "stderr",
     "output_type": "stream",
     "text": [
      "\r",
      "Processing on GPU 1:  75%|█████████████████████████████████████████████████████████████████████████████████▎                          | 719/955 [02:40<00:52,  4.53it/s]"
     ]
    },
    {
     "name": "stdout",
     "output_type": "stream",
     "text": [
      "Classifying: Core Damage, Torn Nodal Joints Core Crack\n",
      "Top label: Core displacement with confidence score: 0.1729193776845932\n"
     ]
    },
    {
     "name": "stderr",
     "output_type": "stream",
     "text": [
      "\r",
      "Processing on GPU 0:  75%|████████████████████████████████████████████████████████████████████████████████▉                           | 717/957 [02:40<00:53,  4.48it/s]"
     ]
    },
    {
     "name": "stdout",
     "output_type": "stream",
     "text": [
      "Classifying: Wrinkles Huge wrinkles on Bag side\n",
      "Top label: Core deformation with confidence score: 0.5510677695274353\n"
     ]
    },
    {
     "name": "stderr",
     "output_type": "stream",
     "text": [
      "\r",
      "Processing on GPU 1:  75%|█████████████████████████████████████████████████████████████████████████████████▍                          | 720/955 [02:40<00:51,  4.52it/s]"
     ]
    },
    {
     "name": "stdout",
     "output_type": "stream",
     "text": [
      "Classifying: Wrinkle Wrinkle\n",
      "Top label: Core split with confidence score: 0.20743200182914734\n"
     ]
    },
    {
     "name": "stderr",
     "output_type": "stream",
     "text": [
      "\r",
      "Processing on GPU 0:  75%|█████████████████████████████████████████████████████████████████████████████████                           | 718/957 [02:40<00:53,  4.50it/s]"
     ]
    },
    {
     "name": "stdout",
     "output_type": "stream",
     "text": [
      "Classifying: Volume Porosity Volumetric porosity\n",
      "Top label: Core split with confidence score: 0.19982367753982544\n"
     ]
    },
    {
     "name": "stderr",
     "output_type": "stream",
     "text": [
      "\r",
      "Processing on GPU 1:  75%|█████████████████████████████████████████████████████████████████████████████████▌                          | 721/955 [02:40<00:52,  4.49it/s]"
     ]
    },
    {
     "name": "stdout",
     "output_type": "stream",
     "text": [
      "Classifying: Porosity Porsosity above acceptable limits\n",
      "Top label: Resin buildup with confidence score: 0.17078925669193268\n"
     ]
    },
    {
     "name": "stderr",
     "output_type": "stream",
     "text": [
      "\r",
      "Processing on GPU 0:  75%|█████████████████████████████████████████████████████████████████████████████████▏                          | 719/957 [02:40<00:52,  4.49it/s]"
     ]
    },
    {
     "name": "stdout",
     "output_type": "stream",
     "text": [
      "Classifying: Material separation / Incorrect bonding SEPARATION TORN NODAL JOINT\n",
      "Top label: Core displacement with confidence score: 0.16876423358917236\n"
     ]
    },
    {
     "name": "stderr",
     "output_type": "stream",
     "text": [
      "\r",
      "Processing on GPU 1:  76%|█████████████████████████████████████████████████████████████████████████████████▋                          | 722/955 [02:40<00:51,  4.51it/s]"
     ]
    },
    {
     "name": "stdout",
     "output_type": "stream",
     "text": [
      "Classifying: Imprint on Surface Dent core dent\n",
      "Top label: Separation noodle joint with confidence score: 0.9186738133430481\n"
     ]
    },
    {
     "name": "stderr",
     "output_type": "stream",
     "text": [
      "\r",
      "Processing on GPU 0:  75%|█████████████████████████████████████████████████████████████████████████████████▎                          | 720/957 [02:40<00:52,  4.50it/s]"
     ]
    },
    {
     "name": "stdout",
     "output_type": "stream",
     "text": [
      "Classifying: Completeness Pre-release\n",
      "Top label: Core deformation with confidence score: 0.6221156716346741\n"
     ]
    },
    {
     "name": "stderr",
     "output_type": "stream",
     "text": [
      "\r",
      "Processing on GPU 1:  76%|█████████████████████████████████████████████████████████████████████████████████▊                          | 723/955 [02:41<00:51,  4.49it/s]"
     ]
    },
    {
     "name": "stdout",
     "output_type": "stream",
     "text": [
      "Classifying: Resin Starvation nan\n",
      "Top label: Resin buildup with confidence score: 0.30890342593193054\n"
     ]
    },
    {
     "name": "stderr",
     "output_type": "stream",
     "text": [
      "\r",
      "Processing on GPU 0:  75%|█████████████████████████████████████████████████████████████████████████████████▎                          | 721/957 [02:41<00:52,  4.50it/s]"
     ]
    },
    {
     "name": "stdout",
     "output_type": "stream",
     "text": [
      "Classifying: Wrinkles WRINKLE\n",
      "Top label: Core displacement with confidence score: 0.19450265169143677\n"
     ]
    },
    {
     "name": "stderr",
     "output_type": "stream",
     "text": [
      "\r",
      "Processing on GPU 1:  76%|█████████████████████████████████████████████████████████████████████████████████▉                          | 724/955 [02:41<00:51,  4.50it/s]"
     ]
    },
    {
     "name": "stdout",
     "output_type": "stream",
     "text": [
      "Classifying: Operation Not Per Drawing plies placed on wrong  sequences,\n",
      "Top label: Core deformation with confidence score: 0.1831793636083603\n"
     ]
    },
    {
     "name": "stderr",
     "output_type": "stream",
     "text": [
      "\r",
      "Processing on GPU 0:  75%|█████████████████████████████████████████████████████████████████████████████████▍                          | 722/957 [02:41<00:52,  4.50it/s]"
     ]
    },
    {
     "name": "stdout",
     "output_type": "stream",
     "text": [
      "Classifying: Disbonding within part Disbonding within part\n",
      "Top label: Separation noodle joint with confidence score: 0.23888368904590607\n"
     ]
    },
    {
     "name": "stderr",
     "output_type": "stream",
     "text": [
      "\r",
      "Processing on GPU 1:  76%|█████████████████████████████████████████████████████████████████████████████████▉                          | 725/955 [02:41<00:51,  4.48it/s]"
     ]
    },
    {
     "name": "stdout",
     "output_type": "stream",
     "text": [
      "Classifying: Dimensional Deviation Dimension out of Tolerance\n",
      "Top label: Core split with confidence score: 0.18174977600574493\n"
     ]
    },
    {
     "name": "stderr",
     "output_type": "stream",
     "text": [
      "\r",
      "Processing on GPU 0:  76%|█████████████████████████████████████████████████████████████████████████████████▌                          | 723/957 [02:41<00:51,  4.54it/s]"
     ]
    },
    {
     "name": "stdout",
     "output_type": "stream",
     "text": [
      "Classifying: foil-/ foreign-inclusion detected FOD\n",
      "Top label: Splice gap with confidence score: 0.2545115351676941\n"
     ]
    },
    {
     "name": "stderr",
     "output_type": "stream",
     "text": [
      "\r",
      "Processing on GPU 1:  76%|██████████████████████████████████████████████████████████████████████████████████                          | 726/955 [02:41<00:51,  4.47it/s]"
     ]
    },
    {
     "name": "stdout",
     "output_type": "stream",
     "text": [
      "Classifying: Dents Over Splice Lines Dent over splice line\n",
      "Top label: Foreign Object Damage with confidence score: 0.7643585205078125\n"
     ]
    },
    {
     "name": "stderr",
     "output_type": "stream",
     "text": [
      "\r",
      "Processing on GPU 0:  76%|█████████████████████████████████████████████████████████████████████████████████▋                          | 724/957 [02:41<00:51,  4.53it/s]"
     ]
    },
    {
     "name": "stdout",
     "output_type": "stream",
     "text": [
      "Classifying: Disbonding within part DISBOND\n",
      "Top label: Splice gap with confidence score: 0.3017521798610687\n"
     ]
    },
    {
     "name": "stderr",
     "output_type": "stream",
     "text": [
      "\r",
      "Processing on GPU 1:  76%|██████████████████████████████████████████████████████████████████████████████████▏                         | 727/955 [02:42<00:50,  4.48it/s]"
     ]
    },
    {
     "name": "stdout",
     "output_type": "stream",
     "text": [
      "Classifying: Core Damage, Torn Nodal Joints Core Crack\n",
      "Top label: Core displacement with confidence score: 0.20056602358818054\n"
     ]
    },
    {
     "name": "stderr",
     "output_type": "stream",
     "text": [
      "\r",
      "Processing on GPU 0:  76%|█████████████████████████████████████████████████████████████████████████████████▊                          | 725/957 [02:42<00:51,  4.53it/s]"
     ]
    },
    {
     "name": "stdout",
     "output_type": "stream",
     "text": [
      "Classifying: Volume Porosity Volume porosity\n",
      "Top label: Core deformation with confidence score: 0.5510677695274353\n"
     ]
    },
    {
     "name": "stderr",
     "output_type": "stream",
     "text": [
      "\r",
      "Processing on GPU 1:  76%|██████████████████████████████████████████████████████████████████████████████████▎                         | 728/955 [02:42<00:50,  4.48it/s]"
     ]
    },
    {
     "name": "stdout",
     "output_type": "stream",
     "text": [
      "Classifying: Core Step Core Step\n",
      "Top label: Resin buildup with confidence score: 0.20628081262111664\n"
     ]
    },
    {
     "name": "stderr",
     "output_type": "stream",
     "text": [
      "\r",
      "Processing on GPU 0:  76%|█████████████████████████████████████████████████████████████████████████████████▉                          | 726/957 [02:42<00:51,  4.51it/s]"
     ]
    },
    {
     "name": "stdout",
     "output_type": "stream",
     "text": [
      "Classifying: Disbonding within part disbond\n",
      "Top label: Core split with confidence score: 0.5320346355438232\n"
     ]
    },
    {
     "name": "stderr",
     "output_type": "stream",
     "text": [
      "\r",
      "Processing on GPU 1:  76%|██████████████████████████████████████████████████████████████████████████████████▍                         | 729/955 [02:42<00:50,  4.49it/s]"
     ]
    },
    {
     "name": "stdout",
     "output_type": "stream",
     "text": [
      "Classifying: Porosity Porosity\n",
      "Top label: Core displacement with confidence score: 0.1883959025144577\n"
     ]
    },
    {
     "name": "stderr",
     "output_type": "stream",
     "text": [
      "\r",
      "Processing on GPU 0:  76%|██████████████████████████████████████████████████████████████████████████████████                          | 727/957 [02:42<00:50,  4.54it/s]"
     ]
    },
    {
     "name": "stdout",
     "output_type": "stream",
     "text": [
      "Classifying: Drilling Hole through at Hosting Points\n",
      "Top label: Foreign Object Damage with confidence score: 0.25687840580940247\n"
     ]
    },
    {
     "name": "stderr",
     "output_type": "stream",
     "text": [
      "\r",
      "Processing on GPU 1:  76%|██████████████████████████████████████████████████████████████████████████████████▌                         | 730/955 [02:42<00:50,  4.47it/s]"
     ]
    },
    {
     "name": "stdout",
     "output_type": "stream",
     "text": [
      "Classifying: Core Damage, Torn Nodal Joints Core Crack\n",
      "Top label: Splice gap with confidence score: 0.23791365325450897\n"
     ]
    },
    {
     "name": "stderr",
     "output_type": "stream",
     "text": [
      "\r",
      "Processing on GPU 0:  76%|██████████████████████████████████████████████████████████████████████████████████▏                         | 728/957 [02:42<00:50,  4.54it/s]"
     ]
    },
    {
     "name": "stdout",
     "output_type": "stream",
     "text": [
      "Classifying: Delamination Composite Manufacturing nan\n",
      "Top label: Core deformation with confidence score: 0.5510677695274353\n"
     ]
    },
    {
     "name": "stderr",
     "output_type": "stream",
     "text": [
      "\r",
      "Processing on GPU 1:  77%|██████████████████████████████████████████████████████████████████████████████████▋                         | 731/955 [02:42<00:50,  4.46it/s]"
     ]
    },
    {
     "name": "stdout",
     "output_type": "stream",
     "text": [
      "Classifying: Delamination delamination above size limit\n",
      "Top label: Resin buildup with confidence score: 0.4230847954750061\n"
     ]
    },
    {
     "name": "stderr",
     "output_type": "stream",
     "text": [
      "\r",
      "Processing on GPU 0:  76%|██████████████████████████████████████████████████████████████████████████████████▎                         | 729/957 [02:42<00:50,  4.52it/s]"
     ]
    },
    {
     "name": "stdout",
     "output_type": "stream",
     "text": [
      "Classifying: Curing Vacuum Vacuum leak during cycle\n",
      "Top label: Resin buildup with confidence score: 0.300128698348999\n"
     ]
    },
    {
     "name": "stderr",
     "output_type": "stream",
     "text": [
      "\r",
      "Processing on GPU 1:  77%|██████████████████████████████████████████████████████████████████████████████████▊                         | 732/955 [02:43<00:50,  4.46it/s]"
     ]
    },
    {
     "name": "stdout",
     "output_type": "stream",
     "text": [
      "Classifying: Core Damage, Torn Nodal Joints Core Crack\n",
      "Top label: Core displacement with confidence score: 0.19069309532642365\n"
     ]
    },
    {
     "name": "stderr",
     "output_type": "stream",
     "text": [
      "\r",
      "Processing on GPU 0:  76%|██████████████████████████████████████████████████████████████████████████████████▍                         | 730/957 [02:43<00:50,  4.53it/s]"
     ]
    },
    {
     "name": "stdout",
     "output_type": "stream",
     "text": [
      "Classifying: Curing  Thermocouple Thermocouple over shoot\n",
      "Top label: Core deformation with confidence score: 0.5510677695274353\n"
     ]
    },
    {
     "name": "stderr",
     "output_type": "stream",
     "text": [
      "\r",
      "Processing on GPU 1:  77%|██████████████████████████████████████████████████████████████████████████████████▉                         | 733/955 [02:43<00:48,  4.53it/s]"
     ]
    },
    {
     "name": "stdout",
     "output_type": "stream",
     "text": [
      "Classifying: Porosity Porosity\n",
      "Top label: Core displacement with confidence score: 0.1729193776845932\n"
     ]
    },
    {
     "name": "stderr",
     "output_type": "stream",
     "text": [
      "\r",
      "Processing on GPU 0:  76%|██████████████████████████████████████████████████████████████████████████████████▍                         | 731/957 [02:43<00:50,  4.44it/s]"
     ]
    },
    {
     "name": "stdout",
     "output_type": "stream",
     "text": [
      "Classifying: Depression Core crush\n",
      "Top label: Foreign Object Damage with confidence score: 0.25687840580940247\n"
     ]
    },
    {
     "name": "stderr",
     "output_type": "stream",
     "text": [
      "\r",
      "Processing on GPU 1:  77%|███████████████████████████████████████████████████████████████████████████████████                         | 734/955 [02:43<00:48,  4.52it/s]"
     ]
    },
    {
     "name": "stdout",
     "output_type": "stream",
     "text": [
      "Classifying: Imprint on Surface Dent Core Dent\n",
      "Top label: Core deformation with confidence score: 0.35833290219306946\n"
     ]
    },
    {
     "name": "stderr",
     "output_type": "stream",
     "text": [
      "\r",
      "Processing on GPU 0:  76%|██████████████████████████████████████████████████████████████████████████████████▌                         | 732/957 [02:43<00:50,  4.46it/s]"
     ]
    },
    {
     "name": "stdout",
     "output_type": "stream",
     "text": [
      "Classifying: Wrinkles Wrinkles\n",
      "Top label: Core deformation with confidence score: 0.4703635573387146\n"
     ]
    },
    {
     "name": "stderr",
     "output_type": "stream",
     "text": [
      "\r",
      "Processing on GPU 1:  77%|███████████████████████████████████████████████████████████████████████████████████                         | 735/955 [02:43<00:48,  4.54it/s]"
     ]
    },
    {
     "name": "stdout",
     "output_type": "stream",
     "text": [
      "Classifying: Porosity Volumetric porosit\n",
      "Top label: Resin buildup with confidence score: 0.1902356743812561\n"
     ]
    },
    {
     "name": "stderr",
     "output_type": "stream",
     "text": [
      "\r",
      "Processing on GPU 0:  77%|██████████████████████████████████████████████████████████████████████████████████▋                         | 733/957 [02:43<00:50,  4.43it/s]"
     ]
    },
    {
     "name": "stdout",
     "output_type": "stream",
     "text": [
      "Classifying: Depression Depression\n",
      "Top label: Resin buildup with confidence score: 0.2874208092689514\n"
     ]
    },
    {
     "name": "stderr",
     "output_type": "stream",
     "text": [
      "\r",
      "Processing on GPU 1:  77%|███████████████████████████████████████████████████████████████████████████████████▏                        | 736/955 [02:44<00:48,  4.54it/s]"
     ]
    },
    {
     "name": "stdout",
     "output_type": "stream",
     "text": [
      "Classifying: Disbond Disbond\n",
      "Top label: Core split with confidence score: 0.22650505602359772\n"
     ]
    },
    {
     "name": "stderr",
     "output_type": "stream",
     "text": [
      "\r",
      "Processing on GPU 0:  77%|██████████████████████████████████████████████████████████████████████████████████▊                         | 734/957 [02:44<00:50,  4.44it/s]"
     ]
    },
    {
     "name": "stdout",
     "output_type": "stream",
     "text": [
      "Classifying: Honeycomb geometry Core Step\n",
      "Top label: Core split with confidence score: 0.2206205129623413\n"
     ]
    },
    {
     "name": "stderr",
     "output_type": "stream",
     "text": [
      "\r",
      "Processing on GPU 1:  77%|███████████████████████████████████████████████████████████████████████████████████▎                        | 737/955 [02:44<00:47,  4.55it/s]"
     ]
    },
    {
     "name": "stdout",
     "output_type": "stream",
     "text": [
      "Classifying: Over Sanded Surface defects\n",
      "Top label: Core deformation with confidence score: 0.5281099677085876\n"
     ]
    },
    {
     "name": "stderr",
     "output_type": "stream",
     "text": [
      "\r",
      "Processing on GPU 0:  77%|██████████████████████████████████████████████████████████████████████████████████▉                         | 735/957 [02:44<00:49,  4.47it/s]"
     ]
    },
    {
     "name": "stdout",
     "output_type": "stream",
     "text": [
      "Classifying: Completeness Pre released concession\n",
      "Top label: Core displacement with confidence score: 0.18475189805030823\n"
     ]
    },
    {
     "name": "stderr",
     "output_type": "stream",
     "text": [
      "\r",
      "Processing on GPU 1:  77%|███████████████████████████████████████████████████████████████████████████████████▍                        | 738/955 [02:44<00:47,  4.53it/s]"
     ]
    },
    {
     "name": "stdout",
     "output_type": "stream",
     "text": [
      "Classifying: Bag Leak Vacuum leak during cycle.\n",
      "Top label: Core displacement with confidence score: 0.2014738917350769\n"
     ]
    },
    {
     "name": "stderr",
     "output_type": "stream",
     "text": [
      "\r",
      "Processing on GPU 0:  77%|███████████████████████████████████████████████████████████████████████████████████                         | 736/957 [02:44<00:49,  4.44it/s]"
     ]
    },
    {
     "name": "stdout",
     "output_type": "stream",
     "text": [
      "Classifying: Mechanical Trimming / Contour milling LOFT OF THE PART FAILED\n",
      "Top label: Splice gap with confidence score: 0.1738288253545761\n"
     ]
    },
    {
     "name": "stderr",
     "output_type": "stream",
     "text": [
      "\r",
      "Processing on GPU 1:  77%|███████████████████████████████████████████████████████████████████████████████████▌                        | 739/955 [02:44<00:47,  4.53it/s]"
     ]
    },
    {
     "name": "stdout",
     "output_type": "stream",
     "text": [
      "Classifying: Core Damage, Torn Nodal Joints Crack in core cells\n",
      "Top label: Splice gap with confidence score: 0.20204585790634155\n"
     ]
    },
    {
     "name": "stderr",
     "output_type": "stream",
     "text": [
      "\r",
      "Processing on GPU 0:  77%|███████████████████████████████████████████████████████████████████████████████████▏                        | 737/957 [02:44<00:49,  4.45it/s]"
     ]
    },
    {
     "name": "stdout",
     "output_type": "stream",
     "text": [
      "Classifying: Mechanical Trimming / Contour milling LOFT OF THE PART FAILED\n",
      "Top label: Core deformation with confidence score: 0.616499125957489\n"
     ]
    },
    {
     "name": "stderr",
     "output_type": "stream",
     "text": [
      "\r",
      "Processing on GPU 1:  77%|███████████████████████████████████████████████████████████████████████████████████▋                        | 740/955 [02:44<00:47,  4.54it/s]"
     ]
    },
    {
     "name": "stdout",
     "output_type": "stream",
     "text": [
      "Classifying: Delamination Delamination\n",
      "Top label: Splice gap with confidence score: 0.20204585790634155\n"
     ]
    },
    {
     "name": "stderr",
     "output_type": "stream",
     "text": [
      "\r",
      "Processing on GPU 0:  77%|███████████████████████████████████████████████████████████████████████████████████▎                        | 738/957 [02:44<00:49,  4.46it/s]"
     ]
    },
    {
     "name": "stdout",
     "output_type": "stream",
     "text": [
      "Classifying: Ply position plies & core  shifted\n",
      "Top label: Resin buildup with confidence score: 0.28864264488220215\n"
     ]
    },
    {
     "name": "stderr",
     "output_type": "stream",
     "text": [
      "\r",
      "Processing on GPU 1:  78%|███████████████████████████████████████████████████████████████████████████████████▊                        | 741/955 [02:45<00:47,  4.51it/s]"
     ]
    },
    {
     "name": "stdout",
     "output_type": "stream",
     "text": [
      "Classifying: Wrinkle Wrinkle\n",
      "Top label: Core deformation with confidence score: 0.39198797941207886\n"
     ]
    },
    {
     "name": "stderr",
     "output_type": "stream",
     "text": [
      "\r",
      "Processing on GPU 0:  77%|███████████████████████████████████████████████████████████████████████████████████▍                        | 739/957 [02:45<00:48,  4.49it/s]"
     ]
    },
    {
     "name": "stdout",
     "output_type": "stream",
     "text": [
      "Classifying: Dimensions out of Tolerance EOC OOT\n",
      "Top label: Core split with confidence score: 0.19982367753982544\n"
     ]
    },
    {
     "name": "stderr",
     "output_type": "stream",
     "text": [
      "\r",
      "Processing on GPU 1:  78%|███████████████████████████████████████████████████████████████████████████████████▉                        | 742/955 [02:45<00:47,  4.51it/s]"
     ]
    },
    {
     "name": "stdout",
     "output_type": "stream",
     "text": [
      "Classifying: Disbond NDT Initial Failure\n",
      "Top label: Foreign Object Damage with confidence score: 0.31814685463905334\n"
     ]
    },
    {
     "name": "stderr",
     "output_type": "stream",
     "text": [
      "\r",
      "Processing on GPU 0:  77%|███████████████████████████████████████████████████████████████████████████████████▌                        | 740/957 [02:45<00:48,  4.47it/s]"
     ]
    },
    {
     "name": "stdout",
     "output_type": "stream",
     "text": [
      "Classifying: Honeycomb geometry core step\n",
      "Top label: Core deformation with confidence score: 0.19701813161373138\n"
     ]
    },
    {
     "name": "stderr",
     "output_type": "stream",
     "text": [
      "\r",
      "Processing on GPU 1:  78%|████████████████████████████████████████████████████████████████████████████████████                        | 743/955 [02:45<00:46,  4.57it/s]"
     ]
    },
    {
     "name": "stdout",
     "output_type": "stream",
     "text": [
      "Classifying: Dents Over Splice Lines core deprresion\n",
      "Top label: Core deformation with confidence score: 0.6214060187339783\n"
     ]
    },
    {
     "name": "stderr",
     "output_type": "stream",
     "text": [
      "\r",
      "Processing on GPU 0:  77%|███████████████████████████████████████████████████████████████████████████████████▌                        | 741/957 [02:45<00:48,  4.42it/s]"
     ]
    },
    {
     "name": "stdout",
     "output_type": "stream",
     "text": [
      "Classifying: Volume Porosity porosity\n",
      "Top label: Core deformation with confidence score: 0.42636752128601074\n"
     ]
    },
    {
     "name": "stderr",
     "output_type": "stream",
     "text": [
      "\r",
      "Processing on GPU 1:  78%|████████████████████████████████████████████████████████████████████████████████████▏                       | 744/955 [02:45<00:46,  4.55it/s]"
     ]
    },
    {
     "name": "stdout",
     "output_type": "stream",
     "text": [
      "Classifying: Operation Not Per Drawing Reinforcing piles are not per drawing\n",
      "Top label: Resin buildup with confidence score: 0.24928952753543854\n"
     ]
    },
    {
     "name": "stderr",
     "output_type": "stream",
     "text": [
      "\r",
      "Processing on GPU 0:  78%|███████████████████████████████████████████████████████████████████████████████████▋                        | 742/957 [02:45<00:48,  4.41it/s]"
     ]
    },
    {
     "name": "stdout",
     "output_type": "stream",
     "text": [
      "Classifying: Contaminated material Unidentified Defect\n",
      "Top label: Resin buildup with confidence score: 0.7473604083061218\n"
     ]
    },
    {
     "name": "stderr",
     "output_type": "stream",
     "text": [
      "\r",
      "Processing on GPU 1:  78%|████████████████████████████████████████████████████████████████████████████████████▎                       | 745/955 [02:45<00:46,  4.56it/s]"
     ]
    },
    {
     "name": "stdout",
     "output_type": "stream",
     "text": [
      "Classifying: Lay-Up Error No release film\n",
      "Top label: Foreign Object Damage with confidence score: 0.48981282114982605\n"
     ]
    },
    {
     "name": "stderr",
     "output_type": "stream",
     "text": [
      "\r",
      "Processing on GPU 0:  78%|███████████████████████████████████████████████████████████████████████████████████▊                        | 743/957 [02:46<00:48,  4.42it/s]"
     ]
    },
    {
     "name": "stdout",
     "output_type": "stream",
     "text": [
      "Classifying: Honeycomb geometry  core step\n",
      "Top label: Foreign Object Damage with confidence score: 0.15839162468910217\n"
     ]
    },
    {
     "name": "stderr",
     "output_type": "stream",
     "text": [
      "\r",
      "Processing on GPU 1:  78%|████████████████████████████████████████████████████████████████████████████████████▎                       | 746/955 [02:46<00:45,  4.57it/s]"
     ]
    },
    {
     "name": "stdout",
     "output_type": "stream",
     "text": [
      "Classifying: Porosity VOLUMETRIC POROSITY BEYOND ACC. LIMIT\n",
      "Top label: Core deformation with confidence score: 0.5973105430603027\n"
     ]
    },
    {
     "name": "stderr",
     "output_type": "stream",
     "text": [
      "\r",
      "Processing on GPU 0:  78%|███████████████████████████████████████████████████████████████████████████████████▉                        | 744/957 [02:46<00:47,  4.46it/s]"
     ]
    },
    {
     "name": "stdout",
     "output_type": "stream",
     "text": [
      "Classifying: Dimensions out of Tolerance EOC OOT\n",
      "Top label: Core displacement with confidence score: 0.20531266927719116\n"
     ]
    },
    {
     "name": "stderr",
     "output_type": "stream",
     "text": [
      "\r",
      "Processing on GPU 1:  78%|████████████████████████████████████████████████████████████████████████████████████▍                       | 747/955 [02:46<00:45,  4.56it/s]"
     ]
    },
    {
     "name": "stdout",
     "output_type": "stream",
     "text": [
      "Classifying: Core Damage, Torn Nodal Joints Crack in core cells\n",
      "Top label: Foreign Object Damage with confidence score: 0.31814685463905334\n"
     ]
    },
    {
     "name": "stderr",
     "output_type": "stream",
     "text": [
      "\r",
      "Processing on GPU 0:  78%|████████████████████████████████████████████████████████████████████████████████████                        | 745/957 [02:46<00:47,  4.44it/s]"
     ]
    },
    {
     "name": "stdout",
     "output_type": "stream",
     "text": [
      "Classifying: Delamination Composite Manufacturing Delamination\n",
      "Top label: Core deformation with confidence score: 0.616499125957489\n"
     ]
    },
    {
     "name": "stderr",
     "output_type": "stream",
     "text": [
      "\r",
      "Processing on GPU 1:  78%|████████████████████████████████████████████████████████████████████████████████████▌                       | 748/955 [02:46<00:45,  4.56it/s]"
     ]
    },
    {
     "name": "stdout",
     "output_type": "stream",
     "text": [
      "Classifying: Porosity Volumetric Porosity above limits\n",
      "Top label: Resin buildup with confidence score: 0.21785829961299896\n"
     ]
    },
    {
     "name": "stderr",
     "output_type": "stream",
     "text": [
      "\r",
      "Processing on GPU 0:  78%|████████████████████████████████████████████████████████████████████████████████████▏                       | 746/957 [02:46<00:47,  4.46it/s]"
     ]
    },
    {
     "name": "stdout",
     "output_type": "stream",
     "text": [
      "Classifying: Disbonding within part Disbonding within part\n",
      "Top label: Core displacement with confidence score: 0.18238063156604767\n"
     ]
    },
    {
     "name": "stderr",
     "output_type": "stream",
     "text": [
      "\r",
      "Processing on GPU 1:  78%|████████████████████████████████████████████████████████████████████████████████████▋                       | 749/955 [02:46<00:45,  4.52it/s]"
     ]
    },
    {
     "name": "stdout",
     "output_type": "stream",
     "text": [
      "Classifying: Delamination Delamination On Monolotic Area\n",
      "Top label: Core split with confidence score: 0.18174977600574493\n"
     ]
    },
    {
     "name": "stderr",
     "output_type": "stream",
     "text": [
      "\r",
      "Processing on GPU 0:  78%|████████████████████████████████████████████████████████████████████████████████████▎                       | 747/957 [02:46<00:46,  4.47it/s]"
     ]
    },
    {
     "name": "stdout",
     "output_type": "stream",
     "text": [
      "Classifying: Material Missing or Incorrect positioned Core Splice Defect (Material Missing)\n",
      "Top label: Resin buildup with confidence score: 0.3077840507030487\n"
     ]
    },
    {
     "name": "stderr",
     "output_type": "stream",
     "text": [
      "\r",
      "Processing on GPU 1:  79%|████████████████████████████████████████████████████████████████████████████████████▊                       | 750/955 [02:47<00:45,  4.52it/s]"
     ]
    },
    {
     "name": "stdout",
     "output_type": "stream",
     "text": [
      "Classifying: Disbond Disbond\n",
      "Top label: Core split with confidence score: 0.3939942717552185\n"
     ]
    },
    {
     "name": "stderr",
     "output_type": "stream",
     "text": [
      "\r",
      "Processing on GPU 0:  78%|████████████████████████████████████████████████████████████████████████████████████▍                       | 748/957 [02:47<00:46,  4.48it/s]"
     ]
    },
    {
     "name": "stdout",
     "output_type": "stream",
     "text": [
      "Classifying: Completeness Pre released concession\n",
      "Top label: Core split with confidence score: 0.2206205129623413\n"
     ]
    },
    {
     "name": "stderr",
     "output_type": "stream",
     "text": [
      "\r",
      "Processing on GPU 1:  79%|████████████████████████████████████████████████████████████████████████████████████▉                       | 751/955 [02:47<00:44,  4.56it/s]"
     ]
    },
    {
     "name": "stdout",
     "output_type": "stream",
     "text": [
      "Classifying: Porosity Volumetric porosity\n",
      "Top label: Core displacement with confidence score: 0.2014738917350769\n"
     ]
    },
    {
     "name": "stderr",
     "output_type": "stream",
     "text": [
      "\r",
      "Processing on GPU 0:  78%|████████████████████████████████████████████████████████████████████████████████████▌                       | 749/957 [02:47<00:46,  4.45it/s]"
     ]
    },
    {
     "name": "stdout",
     "output_type": "stream",
     "text": [
      "Classifying: Curing Vacuum Vacuum leak due to hole in the bag\n",
      "Top label: Core displacement with confidence score: 0.1716960072517395\n"
     ]
    },
    {
     "name": "stderr",
     "output_type": "stream",
     "text": [
      "\r",
      "Processing on GPU 1:  79%|█████████████████████████████████████████████████████████████████████████████████████                       | 752/955 [02:47<00:44,  4.54it/s]"
     ]
    },
    {
     "name": "stdout",
     "output_type": "stream",
     "text": [
      "Classifying: Delamination NDT Initial Failure\n",
      "Top label: Foreign Object Damage with confidence score: 0.1959678828716278\n"
     ]
    },
    {
     "name": "stderr",
     "output_type": "stream",
     "text": [
      "\r",
      "Processing on GPU 0:  78%|████████████████████████████████████████████████████████████████████████████████████▋                       | 750/957 [02:47<00:46,  4.47it/s]"
     ]
    },
    {
     "name": "stdout",
     "output_type": "stream",
     "text": [
      "Classifying: Wrinkles Wrinkles\n",
      "Top label: Separation noodle joint with confidence score: 0.23277020454406738\n"
     ]
    },
    {
     "name": "stderr",
     "output_type": "stream",
     "text": [
      "\r",
      "Processing on GPU 1:  79%|█████████████████████████████████████████████████████████████████████████████████████▏                      | 753/955 [02:47<00:44,  4.52it/s]"
     ]
    },
    {
     "name": "stdout",
     "output_type": "stream",
     "text": [
      "Classifying: Delamination nan\n",
      "Top label: Resin buildup with confidence score: 0.1902356743812561\n"
     ]
    },
    {
     "name": "stderr",
     "output_type": "stream",
     "text": [
      "\r",
      "Processing on GPU 0:  78%|████████████████████████████████████████████████████████████████████████████████████▊                       | 751/957 [02:47<00:46,  4.47it/s]"
     ]
    },
    {
     "name": "stdout",
     "output_type": "stream",
     "text": [
      "Classifying: Disbonding within part Disbonding within part\n",
      "Top label: Separation noodle joint with confidence score: 0.30506935715675354\n"
     ]
    },
    {
     "name": "stderr",
     "output_type": "stream",
     "text": [
      "\r",
      "Processing on GPU 1:  79%|█████████████████████████████████████████████████████████████████████████████████████▎                      | 754/955 [02:47<00:44,  4.52it/s]"
     ]
    },
    {
     "name": "stdout",
     "output_type": "stream",
     "text": [
      "Classifying: Delamination nan\n",
      "Top label: Core split with confidence score: 0.18174977600574493\n"
     ]
    },
    {
     "name": "stderr",
     "output_type": "stream",
     "text": [
      "\r",
      "Processing on GPU 0:  79%|████████████████████████████████████████████████████████████████████████████████████▊                       | 752/957 [02:48<00:45,  4.47it/s]"
     ]
    },
    {
     "name": "stdout",
     "output_type": "stream",
     "text": [
      "Classifying: Flute in laminate Core splice defect\n",
      "Top label: Separation noodle joint with confidence score: 0.30506935715675354\n"
     ]
    },
    {
     "name": "stderr",
     "output_type": "stream",
     "text": [
      "\r",
      "Processing on GPU 1:  79%|█████████████████████████████████████████████████████████████████████████████████████▍                      | 755/955 [02:48<00:43,  4.56it/s]"
     ]
    },
    {
     "name": "stdout",
     "output_type": "stream",
     "text": [
      "Classifying: Delamination nan\n",
      "Top label: Core deformation with confidence score: 0.4541029632091522\n"
     ]
    },
    {
     "name": "stderr",
     "output_type": "stream",
     "text": [
      "\r",
      "Processing on GPU 0:  79%|████████████████████████████████████████████████████████████████████████████████████▉                       | 753/957 [02:48<00:46,  4.39it/s]"
     ]
    },
    {
     "name": "stdout",
     "output_type": "stream",
     "text": [
      "Classifying: Adhesion missing Core Splice Defect\n",
      "Top label: Separation noodle joint with confidence score: 0.30506935715675354\n"
     ]
    },
    {
     "name": "stderr",
     "output_type": "stream",
     "text": [
      "\r",
      "Processing on GPU 1:  79%|█████████████████████████████████████████████████████████████████████████████████████▍                      | 756/955 [02:48<00:43,  4.55it/s]"
     ]
    },
    {
     "name": "stdout",
     "output_type": "stream",
     "text": [
      "Classifying: Delamination nan\n",
      "Top label: Core split with confidence score: 0.3969540596008301\n"
     ]
    },
    {
     "name": "stderr",
     "output_type": "stream",
     "text": [
      "\r",
      "Processing on GPU 0:  79%|█████████████████████████████████████████████████████████████████████████████████████                       | 754/957 [02:48<00:46,  4.39it/s]"
     ]
    },
    {
     "name": "stdout",
     "output_type": "stream",
     "text": [
      "Classifying: Disbonding within part Deviation from frame work\n",
      "Top label: Separation noodle joint with confidence score: 0.30506935715675354\n"
     ]
    },
    {
     "name": "stderr",
     "output_type": "stream",
     "text": [
      "\r",
      "Processing on GPU 1:  79%|█████████████████████████████████████████████████████████████████████████████████████▌                      | 757/955 [02:48<00:43,  4.55it/s]"
     ]
    },
    {
     "name": "stdout",
     "output_type": "stream",
     "text": [
      "Classifying: Delamination nan\n",
      "Top label: Splice gap with confidence score: 0.29593491554260254\n"
     ]
    },
    {
     "name": "stderr",
     "output_type": "stream",
     "text": [
      "\r",
      "Processing on GPU 0:  79%|█████████████████████████████████████████████████████████████████████████████████████▏                      | 755/957 [02:48<00:45,  4.42it/s]"
     ]
    },
    {
     "name": "stdout",
     "output_type": "stream",
     "text": [
      "Classifying: Adhesion missing Core Splice Defect\n",
      "Top label: Separation noodle joint with confidence score: 0.30506935715675354\n"
     ]
    },
    {
     "name": "stderr",
     "output_type": "stream",
     "text": [
      "\r",
      "Processing on GPU 1:  79%|█████████████████████████████████████████████████████████████████████████████████████▋                      | 758/955 [02:48<00:43,  4.52it/s]"
     ]
    },
    {
     "name": "stdout",
     "output_type": "stream",
     "text": [
      "Classifying: Delamination nan\n",
      "Top label: Core split with confidence score: 0.3969540596008301\n"
     ]
    },
    {
     "name": "stderr",
     "output_type": "stream",
     "text": [
      "\r",
      "Processing on GPU 0:  79%|█████████████████████████████████████████████████████████████████████████████████████▎                      | 756/957 [02:49<00:45,  4.41it/s]"
     ]
    },
    {
     "name": "stdout",
     "output_type": "stream",
     "text": [
      "Classifying: Honeycomb geometry Core Step\n",
      "Top label: Separation noodle joint with confidence score: 0.30506935715675354\n"
     ]
    },
    {
     "name": "stderr",
     "output_type": "stream",
     "text": [
      "\r",
      "Processing on GPU 1:  79%|█████████████████████████████████████████████████████████████████████████████████████▊                      | 759/955 [02:49<00:43,  4.55it/s]"
     ]
    },
    {
     "name": "stdout",
     "output_type": "stream",
     "text": [
      "Classifying: Delamination nan\n",
      "Top label: Core deformation with confidence score: 0.5281099677085876\n"
     ]
    },
    {
     "name": "stderr",
     "output_type": "stream",
     "text": [
      "\r",
      "Processing on GPU 0:  79%|█████████████████████████████████████████████████████████████████████████████████████▍                      | 757/957 [02:49<00:45,  4.43it/s]"
     ]
    },
    {
     "name": "stdout",
     "output_type": "stream",
     "text": [
      "Classifying: Delamination Composite Manufacturing Delamination\n",
      "Top label: Separation noodle joint with confidence score: 0.30506935715675354\n"
     ]
    },
    {
     "name": "stderr",
     "output_type": "stream",
     "text": [
      "\r",
      "Processing on GPU 1:  80%|█████████████████████████████████████████████████████████████████████████████████████▉                      | 760/955 [02:49<00:42,  4.54it/s]"
     ]
    },
    {
     "name": "stdout",
     "output_type": "stream",
     "text": [
      "Classifying: Delamination NDT Initial Failure\n",
      "Top label: Resin buildup with confidence score: 0.21785829961299896\n"
     ]
    },
    {
     "name": "stderr",
     "output_type": "stream",
     "text": [
      "\r",
      "Processing on GPU 0:  79%|█████████████████████████████████████████████████████████████████████████████████████▌                      | 758/957 [02:49<00:44,  4.44it/s]"
     ]
    },
    {
     "name": "stdout",
     "output_type": "stream",
     "text": [
      "Top label: Separation noodle joint with confidence score: 0.23277020454406738Classifying: Delamination Composite Manufacturing Delamination\n",
      "\n"
     ]
    },
    {
     "name": "stderr",
     "output_type": "stream",
     "text": [
      "\r",
      "Processing on GPU 1:  80%|██████████████████████████████████████████████████████████████████████████████████████                      | 761/955 [02:49<00:42,  4.53it/s]"
     ]
    },
    {
     "name": "stdout",
     "output_type": "stream",
     "text": [
      "Classifying: Mislocated (Or Extra Hole) see long text\n",
      "Top label: Resin buildup with confidence score: 0.21785829961299896\n",
      "Top label: Foreign Object Damage with confidence score: 0.2903117537498474"
     ]
    },
    {
     "name": "stderr",
     "output_type": "stream",
     "text": [
      "\r",
      "Processing on GPU 0:  79%|█████████████████████████████████████████████████████████████████████████████████████▋                      | 759/957 [02:49<00:44,  4.43it/s]"
     ]
    },
    {
     "name": "stdout",
     "output_type": "stream",
     "text": [
      "\n",
      "Classifying: Disbonding within part Disbond"
     ]
    },
    {
     "name": "stderr",
     "output_type": "stream",
     "text": [
      "\r",
      "Processing on GPU 1:  80%|██████████████████████████████████████████████████████████████████████████████████████▏                     | 762/955 [02:49<00:42,  4.52it/s]"
     ]
    },
    {
     "name": "stdout",
     "output_type": "stream",
     "text": [
      "\n",
      "Classifying: Dimensional Deviation Dimension out of Tolerance\n",
      "Top label: Core displacement with confidence score: 0.21432512998580933\n",
      "Top label: Splice gap with confidence score: 0.2545115351676941\n"
     ]
    },
    {
     "name": "stderr",
     "output_type": "stream",
     "text": [
      "\r",
      "Processing on GPU 0:  79%|█████████████████████████████████████████████████████████████████████████████████████▊                      | 760/957 [02:49<00:44,  4.45it/s]"
     ]
    },
    {
     "name": "stdout",
     "output_type": "stream",
     "text": [
      "Classifying: Depression See LT"
     ]
    },
    {
     "name": "stderr",
     "output_type": "stream",
     "text": [
      "\r",
      "Processing on GPU 1:  80%|██████████████████████████████████████████████████████████████████████████████████████▎                     | 763/955 [02:49<00:42,  4.52it/s]"
     ]
    },
    {
     "name": "stdout",
     "output_type": "stream",
     "text": [
      "\n",
      "Classifying: Core Step Core Step\n",
      "Top label: Core displacement with confidence score: 0.23866820335388184Top label: Core split with confidence score: 0.5320346355438232\n",
      "\n"
     ]
    },
    {
     "name": "stderr",
     "output_type": "stream",
     "text": [
      "Processing on GPU 0:  80%|█████████████████████████████████████████████████████████████████████████████████████▉                      | 761/957 [02:50<00:44,  4.45it/s]"
     ]
    },
    {
     "name": "stdout",
     "output_type": "stream",
     "text": [
      "Classifying: Dents Over Splice Lines Dent over splice lineClassifying: Honeycomb geometry  core step\n",
      "\n",
      "Top label: Splice gap with confidence score: 0.3017521798610687Top label: Core deformation with confidence score: 0.5973105430603027\n",
      "\n"
     ]
    },
    {
     "name": "stderr",
     "output_type": "stream",
     "text": [
      "Processing on GPU 0:  80%|█████████████████████████████████████████████████████████████████████████████████████▉                      | 762/957 [02:50<00:43,  4.45it/s]"
     ]
    },
    {
     "name": "stdout",
     "output_type": "stream",
     "text": [
      "Classifying: Disbond DisbondClassifying: Dimensions out of Tolerance EOC OOT\n",
      "\n",
      "Top label: Core split with confidence score: 0.2206205129623413\n"
     ]
    },
    {
     "name": "stderr",
     "output_type": "stream",
     "text": [
      "\r",
      "Processing on GPU 1:  80%|██████████████████████████████████████████████████████████████████████████████████████▋                     | 766/955 [02:50<00:42,  4.49it/s]"
     ]
    },
    {
     "name": "stdout",
     "output_type": "stream",
     "text": [
      "Top label: Foreign Object Damage with confidence score: 0.31814685463905334Classifying: Dents Over Splice Lines Dent over splice line\n",
      "\n"
     ]
    },
    {
     "name": "stderr",
     "output_type": "stream",
     "text": [
      "\r",
      "Processing on GPU 0:  80%|██████████████████████████████████████████████████████████████████████████████████████                      | 763/957 [02:50<00:43,  4.44it/s]"
     ]
    },
    {
     "name": "stdout",
     "output_type": "stream",
     "text": [
      "Classifying: Material Characteristics Material characteristics\n",
      "Top label: Splice gap with confidence score: 0.3017521798610687\n",
      "Top label: Core deformation with confidence score: 0.1797669529914856\n"
     ]
    },
    {
     "name": "stderr",
     "output_type": "stream",
     "text": [
      "Processing on GPU 0:  80%|██████████████████████████████████████████████████████████████████████████████████████▏                     | 764/957 [02:50<00:43,  4.45it/s]"
     ]
    },
    {
     "name": "stdout",
     "output_type": "stream",
     "text": [
      "Classifying: Imprint on Surface Dent Core DentClassifying: Completeness  Pre-Released\n",
      "\n",
      "Top label: Resin buildup with confidence score: 0.2352503538131714\n",
      "Top label: Core deformation with confidence score: 0.4703635573387146"
     ]
    },
    {
     "name": "stderr",
     "output_type": "stream",
     "text": [
      "\r",
      "Processing on GPU 0:  80%|██████████████████████████████████████████████████████████████████████████████████████▎                     | 765/957 [02:51<00:43,  4.46it/s]"
     ]
    },
    {
     "name": "stdout",
     "output_type": "stream",
     "text": [
      "\n",
      "Classifying: Inclusion Unidentified Defect"
     ]
    },
    {
     "name": "stderr",
     "output_type": "stream",
     "text": [
      "\r",
      "Processing on GPU 1:  80%|██████████████████████████████████████████████████████████████████████████████████████▊                     | 768/955 [02:51<00:41,  4.46it/s]"
     ]
    },
    {
     "name": "stdout",
     "output_type": "stream",
     "text": [
      "\n",
      "Classifying: Porosity volumetric porosity\n",
      "Top label: Core displacement with confidence score: 0.2426517903804779\n",
      "Top label: Core displacement with confidence score: 0.18443597853183746"
     ]
    },
    {
     "name": "stderr",
     "output_type": "stream",
     "text": [
      "\r",
      "Processing on GPU 0:  80%|██████████████████████████████████████████████████████████████████████████████████████▍                     | 766/957 [02:51<00:42,  4.47it/s]"
     ]
    },
    {
     "name": "stdout",
     "output_type": "stream",
     "text": [
      "\n",
      "Classifying: Wrinkles Wrinkles"
     ]
    },
    {
     "name": "stderr",
     "output_type": "stream",
     "text": [
      "\r",
      "Processing on GPU 1:  81%|██████████████████████████████████████████████████████████████████████████████████████▉                     | 769/955 [02:51<00:41,  4.46it/s]"
     ]
    },
    {
     "name": "stdout",
     "output_type": "stream",
     "text": [
      "\n",
      "Classifying: Delamination NDT Initial Failure\n",
      "Top label: Resin buildup with confidence score: 0.1902356743812561\n",
      "Top label: Separation noodle joint with confidence score: 0.23277020454406738\n"
     ]
    },
    {
     "name": "stderr",
     "output_type": "stream",
     "text": [
      "Processing on GPU 0:  80%|██████████████████████████████████████████████████████████████████████████████████████▌                     | 767/957 [02:51<00:42,  4.45it/s]"
     ]
    },
    {
     "name": "stdout",
     "output_type": "stream",
     "text": [
      "Classifying: Delamination nanClassifying: Surface defects DOSL\n",
      "\n",
      "Top label: Separation noodle joint with confidence score: 0.30506935715675354\n",
      "Top label: Foreign Object Damage with confidence score: 0.5027784705162048\n"
     ]
    },
    {
     "name": "stderr",
     "output_type": "stream",
     "text": [
      "Processing on GPU 0:  80%|██████████████████████████████████████████████████████████████████████████████████████▋                     | 768/957 [02:51<00:42,  4.44it/s]"
     ]
    },
    {
     "name": "stdout",
     "output_type": "stream",
     "text": [
      "Classifying: Delamination nanClassifying: Disbonding within part Disbonding within part\n",
      "\n",
      "Top label: Core split with confidence score: 0.18174977600574493Top label: Separation noodle joint with confidence score: 0.30506935715675354\n",
      "\n"
     ]
    },
    {
     "name": "stderr",
     "output_type": "stream",
     "text": [
      "Processing on GPU 1:  81%|███████████████████████████████████████████████████████████████████████████████████████▎                    | 772/955 [02:51<00:41,  4.46it/s]"
     ]
    },
    {
     "name": "stdout",
     "output_type": "stream",
     "text": [
      "Classifying: Material separation / Incorrect bonding SPLICE DEFECTClassifying: Delamination NDT Initial Failure\n",
      "\n",
      "Top label: Splice gap with confidence score: 0.8528479337692261\n"
     ]
    },
    {
     "name": "stderr",
     "output_type": "stream",
     "text": [
      "\r",
      "Processing on GPU 0:  80%|██████████████████████████████████████████████████████████████████████████████████████▉                     | 770/957 [02:52<00:41,  4.46it/s]"
     ]
    },
    {
     "name": "stdout",
     "output_type": "stream",
     "text": [
      "Top label: Separation noodle joint with confidence score: 0.23277020454406738Classifying: Expired Material Material expired\n",
      "\n"
     ]
    },
    {
     "name": "stderr",
     "output_type": "stream",
     "text": [
      "\r",
      "Processing on GPU 1:  81%|███████████████████████████████████████████████████████████████████████████████████████▍                    | 773/955 [02:52<00:40,  4.44it/s]"
     ]
    },
    {
     "name": "stdout",
     "output_type": "stream",
     "text": [
      "Classifying: Disbond NDT Initial Failure\n",
      "Top label: Core split with confidence score: 0.14926661550998688Top label: Core deformation with confidence score: 0.19701813161373138\n",
      "\n"
     ]
    },
    {
     "name": "stderr",
     "output_type": "stream",
     "text": [
      "Processing on GPU 1:  81%|███████████████████████████████████████████████████████████████████████████████████████▌                    | 774/955 [02:52<00:40,  4.45it/s]"
     ]
    },
    {
     "name": "stdout",
     "output_type": "stream",
     "text": [
      "Classifying: Curing Pressure Pressure dropClassifying: Porosity NDT Second Failure\n",
      "\n",
      "Top label: Core displacement with confidence score: 0.18245327472686768\n"
     ]
    },
    {
     "name": "stderr",
     "output_type": "stream",
     "text": [
      "\r",
      "Processing on GPU 0:  81%|███████████████████████████████████████████████████████████████████████████████████████                     | 772/957 [02:52<00:41,  4.47it/s]"
     ]
    },
    {
     "name": "stdout",
     "output_type": "stream",
     "text": [
      "Classifying: Impact Impact Damage\n",
      "Top label: Separation noodle joint with confidence score: 0.2786901593208313\n"
     ]
    },
    {
     "name": "stderr",
     "output_type": "stream",
     "text": [
      "\r",
      "Processing on GPU 1:  81%|███████████████████████████████████████████████████████████████████████████████████████▋                    | 775/955 [02:52<00:40,  4.45it/s]"
     ]
    },
    {
     "name": "stdout",
     "output_type": "stream",
     "text": [
      "Classifying: Delamination NDT Initial Failure\n",
      "Top label: Foreign Object Damage with confidence score: 0.256069540977478\n",
      "Top label: Separation noodle joint with confidence score: 0.23277020454406738"
     ]
    },
    {
     "name": "stderr",
     "output_type": "stream",
     "text": [
      "\r",
      "Processing on GPU 0:  81%|███████████████████████████████████████████████████████████████████████████████████████▏                    | 773/957 [02:52<00:41,  4.47it/s]"
     ]
    },
    {
     "name": "stdout",
     "output_type": "stream",
     "text": [
      "\n",
      "Classifying: Flute in laminate DOSL"
     ]
    },
    {
     "name": "stderr",
     "output_type": "stream",
     "text": [
      "\r",
      "Processing on GPU 1:  81%|███████████████████████████████████████████████████████████████████████████████████████▊                    | 776/955 [02:52<00:40,  4.47it/s]"
     ]
    },
    {
     "name": "stdout",
     "output_type": "stream",
     "text": [
      "\n",
      "Classifying: Delamination nan\n",
      "Top label: Foreign Object Damage with confidence score: 0.7741293907165527Top label: Separation noodle joint with confidence score: 0.30506935715675354\n",
      "\n"
     ]
    },
    {
     "name": "stderr",
     "output_type": "stream",
     "text": [
      "Processing on GPU 1:  81%|███████████████████████████████████████████████████████████████████████████████████████▊                    | 777/955 [02:53<00:39,  4.48it/s]"
     ]
    },
    {
     "name": "stdout",
     "output_type": "stream",
     "text": [
      "Classifying: Inclusion Unidentified defectClassifying: Delamination nan\n",
      "\n",
      "Top label: Separation noodle joint with confidence score: 0.30506935715675354Top label: Foreign Object Damage with confidence score: 0.23366332054138184\n",
      "\n"
     ]
    },
    {
     "name": "stderr",
     "output_type": "stream",
     "text": [
      "Processing on GPU 1:  81%|███████████████████████████████████████████████████████████████████████████████████████▉                    | 778/955 [02:53<00:39,  4.47it/s]"
     ]
    },
    {
     "name": "stdout",
     "output_type": "stream",
     "text": [
      "Classifying: Volume Porosity porosity\n",
      "Classifying: Delamination NDT Initial Failure\n",
      "Top label: Separation noodle joint with confidence score: 0.23277020454406738Top label: Resin buildup with confidence score: 0.24928952753543854\n",
      "\n"
     ]
    },
    {
     "name": "stderr",
     "output_type": "stream",
     "text": [
      "\r",
      "Processing on GPU 1:  82%|████████████████████████████████████████████████████████████████████████████████████████                    | 779/955 [02:53<00:39,  4.47it/s]"
     ]
    },
    {
     "name": "stdout",
     "output_type": "stream",
     "text": [
      "Classifying: Impact Damage Disbond"
     ]
    },
    {
     "name": "stderr",
     "output_type": "stream",
     "text": [
      "\r",
      "Processing on GPU 0:  81%|███████████████████████████████████████████████████████████████████████████████████████▌                    | 776/957 [02:53<00:40,  4.46it/s]"
     ]
    },
    {
     "name": "stdout",
     "output_type": "stream",
     "text": [
      "Classifying: Depression Depressions (SDR)\n",
      "\n",
      "Top label: Core split with confidence score: 0.2501389682292938Top label: Separation noodle joint with confidence score: 0.20901598036289215\n",
      "\n"
     ]
    },
    {
     "name": "stderr",
     "output_type": "stream",
     "text": [
      "\r",
      "Processing on GPU 0:  81%|███████████████████████████████████████████████████████████████████████████████████████▋                    | 777/957 [02:53<00:40,  4.47it/s]"
     ]
    },
    {
     "name": "stdout",
     "output_type": "stream",
     "text": [
      "Classifying: Crack Core crack"
     ]
    },
    {
     "name": "stderr",
     "output_type": "stream",
     "text": [
      "\r",
      "Processing on GPU 1:  82%|████████████████████████████████████████████████████████████████████████████████████████▏                   | 780/955 [02:53<00:39,  4.47it/s]"
     ]
    },
    {
     "name": "stdout",
     "output_type": "stream",
     "text": [
      "\n",
      "Classifying: Imprint on Surface Dent Core Dent\n",
      "Top label: Core deformation with confidence score: 0.4703635573387146\n",
      "Top label: Core deformation with confidence score: 0.5146721005439758\n"
     ]
    },
    {
     "name": "stderr",
     "output_type": "stream",
     "text": [
      "Processing on GPU 0:  81%|███████████████████████████████████████████████████████████████████████████████████████▊                    | 778/957 [02:53<00:40,  4.46it/s]"
     ]
    },
    {
     "name": "stdout",
     "output_type": "stream",
     "text": [
      "Classifying: Delamination NDT Initial FailureClassifying: Disbonding within part Disbonding within part\n",
      "\n",
      "Top label: Separation noodle joint with confidence score: 0.23277020454406738\n"
     ]
    },
    {
     "name": "stderr",
     "output_type": "stream",
     "text": [
      "\r",
      "Processing on GPU 1:  82%|████████████████████████████████████████████████████████████████████████████████████████▍                   | 782/955 [02:54<00:38,  4.47it/s]"
     ]
    },
    {
     "name": "stdout",
     "output_type": "stream",
     "text": [
      "Top label: Core split with confidence score: 0.18174977600574493Classifying: Delamination nan\n",
      "\n"
     ]
    },
    {
     "name": "stderr",
     "output_type": "stream",
     "text": [
      "\r",
      "Processing on GPU 0:  81%|███████████████████████████████████████████████████████████████████████████████████████▉                    | 779/957 [02:54<00:39,  4.45it/s]"
     ]
    },
    {
     "name": "stdout",
     "output_type": "stream",
     "text": [
      "Classifying: Disbonding within part Disbonding within part\n",
      "Top label: Separation noodle joint with confidence score: 0.30506935715675354\n",
      "Top label: Core split with confidence score: 0.18174977600574493"
     ]
    },
    {
     "name": "stderr",
     "output_type": "stream",
     "text": [
      "\r",
      "Processing on GPU 1:  82%|████████████████████████████████████████████████████████████████████████████████████████▌                   | 783/955 [02:54<00:38,  4.45it/s]"
     ]
    },
    {
     "name": "stdout",
     "output_type": "stream",
     "text": [
      "\n"
     ]
    },
    {
     "name": "stderr",
     "output_type": "stream",
     "text": [
      "\r",
      "Processing on GPU 0:  82%|████████████████████████████████████████████████████████████████████████████████████████                    | 780/957 [02:54<00:39,  4.45it/s]"
     ]
    },
    {
     "name": "stdout",
     "output_type": "stream",
     "text": [
      "Classifying: Delamination nanClassifying: foil-/ foreign-inclusion detected FOD\n",
      "\n",
      "Top label: Separation noodle joint with confidence score: 0.30506935715675354Top label: Foreign Object Damage with confidence score: 0.7643585205078125\n",
      "\n"
     ]
    },
    {
     "name": "stderr",
     "output_type": "stream",
     "text": [
      "Processing on GPU 0:  82%|████████████████████████████████████████████████████████████████████████████████████████▏                   | 781/957 [02:54<00:39,  4.46it/s]"
     ]
    },
    {
     "name": "stdout",
     "output_type": "stream",
     "text": [
      "Classifying: Single delamination NDT Initial FailureClassifying: Delamination NDT Initial Failure\n",
      "\n",
      "Top label: Separation noodle joint with confidence score: 0.23277020454406738Top label: Separation noodle joint with confidence score: 0.25209373235702515\n",
      "\n"
     ]
    },
    {
     "name": "stderr",
     "output_type": "stream",
     "text": [
      "Processing on GPU 0:  82%|████████████████████████████████████████████████████████████████████████████████████████▎                   | 782/957 [02:54<00:39,  4.46it/s]"
     ]
    },
    {
     "name": "stdout",
     "output_type": "stream",
     "text": [
      "Classifying: Delamination NDT Initial FailureClassifying: Wrinkles Wrinkle in lower skin\n",
      "\n",
      "Top label: Separation noodle joint with confidence score: 0.23277020454406738Top label: Resin buildup with confidence score: 0.1747998744249344\n",
      "\n"
     ]
    },
    {
     "name": "stderr",
     "output_type": "stream",
     "text": [
      "Processing on GPU 0:  82%|████████████████████████████████████████████████████████████████████████████████████████▎                   | 783/957 [02:55<00:39,  4.46it/s]"
     ]
    },
    {
     "name": "stdout",
     "output_type": "stream",
     "text": [
      "Classifying: Delamination NDT Initial FailureClassifying: Core fill incorrect (Sandwich) NDT Initial Failure\n",
      "\n",
      "Top label: Separation noodle joint with confidence score: 0.23277020454406738\n"
     ]
    },
    {
     "name": "stderr",
     "output_type": "stream",
     "text": [
      "\r",
      "Processing on GPU 1:  82%|█████████████████████████████████████████████████████████████████████████████████████████                   | 787/955 [02:55<00:37,  4.47it/s]"
     ]
    },
    {
     "name": "stdout",
     "output_type": "stream",
     "text": [
      "Top label: Core deformation with confidence score: 0.39977455139160156Classifying: Delamination NDT Initial Failure\n",
      "\n"
     ]
    },
    {
     "name": "stderr",
     "output_type": "stream",
     "text": [
      "\r",
      "Processing on GPU 0:  82%|████████████████████████████████████████████████████████████████████████████████████████▍                   | 784/957 [02:55<00:38,  4.45it/s]"
     ]
    },
    {
     "name": "stdout",
     "output_type": "stream",
     "text": [
      "Classifying: Crack G3-Impact damage\n",
      "Top label: Separation noodle joint with confidence score: 0.23277020454406738\n"
     ]
    },
    {
     "name": "stderr",
     "output_type": "stream",
     "text": [
      "\r",
      "Processing on GPU 1:  83%|█████████████████████████████████████████████████████████████████████████████████████████                   | 788/955 [02:55<00:37,  4.51it/s]"
     ]
    },
    {
     "name": "stdout",
     "output_type": "stream",
     "text": [
      "Classifying: Delamination nan\n",
      "Top label: Core deformation with confidence score: 0.19185875356197357\n"
     ]
    },
    {
     "name": "stderr",
     "output_type": "stream",
     "text": [
      "\r",
      "Processing on GPU 0:  82%|████████████████████████████████████████████████████████████████████████████████████████▌                   | 785/957 [02:55<00:39,  4.38it/s]"
     ]
    },
    {
     "name": "stdout",
     "output_type": "stream",
     "text": [
      "Classifying: Inclusion Unidentified defect\n",
      "Top label: Separation noodle joint with confidence score: 0.30506935715675354\n"
     ]
    },
    {
     "name": "stderr",
     "output_type": "stream",
     "text": [
      "\r",
      "Processing on GPU 1:  83%|█████████████████████████████████████████████████████████████████████████████████████████▏                  | 789/955 [02:55<00:36,  4.51it/s]"
     ]
    },
    {
     "name": "stdout",
     "output_type": "stream",
     "text": [
      "Classifying: Delamination nan\n",
      "Top label: Foreign Object Damage with confidence score: 0.23366332054138184\n"
     ]
    },
    {
     "name": "stderr",
     "output_type": "stream",
     "text": [
      "\r",
      "Processing on GPU 0:  82%|████████████████████████████████████████████████████████████████████████████████████████▋                   | 786/957 [02:55<00:38,  4.42it/s]"
     ]
    },
    {
     "name": "stdout",
     "output_type": "stream",
     "text": [
      "Classifying: Impact Impact\n",
      "Top label: Separation noodle joint with confidence score: 0.30506935715675354\n"
     ]
    },
    {
     "name": "stderr",
     "output_type": "stream",
     "text": [
      "\r",
      "Processing on GPU 1:  83%|█████████████████████████████████████████████████████████████████████████████████████████▎                  | 790/955 [02:56<00:36,  4.50it/s]"
     ]
    },
    {
     "name": "stdout",
     "output_type": "stream",
     "text": [
      "Classifying: Delamination nan\n",
      "Top label: Foreign Object Damage with confidence score: 0.34820932149887085\n"
     ]
    },
    {
     "name": "stderr",
     "output_type": "stream",
     "text": [
      "\r",
      "Processing on GPU 0:  82%|████████████████████████████████████████████████████████████████████████████████████████▊                   | 787/957 [02:55<00:38,  4.44it/s]"
     ]
    },
    {
     "name": "stdout",
     "output_type": "stream",
     "text": [
      "Classifying: Surface defects DOSL\n",
      "Top label: Separation noodle joint with confidence score: 0.30506935715675354\n"
     ]
    },
    {
     "name": "stderr",
     "output_type": "stream",
     "text": [
      "\r",
      "Processing on GPU 1:  83%|█████████████████████████████████████████████████████████████████████████████████████████▍                  | 791/955 [02:56<00:36,  4.50it/s]"
     ]
    },
    {
     "name": "stdout",
     "output_type": "stream",
     "text": [
      "Classifying: Delamination nan\n",
      "Top label: Foreign Object Damage with confidence score: 0.5027784705162048\n"
     ]
    },
    {
     "name": "stderr",
     "output_type": "stream",
     "text": [
      "\r",
      "Processing on GPU 0:  82%|████████████████████████████████████████████████████████████████████████████████████████▉                   | 788/957 [02:56<00:37,  4.45it/s]"
     ]
    },
    {
     "name": "stdout",
     "output_type": "stream",
     "text": [
      "Classifying: Inclusion Unidentified defect\n",
      "Top label: Separation noodle joint with confidence score: 0.30506935715675354\n"
     ]
    },
    {
     "name": "stderr",
     "output_type": "stream",
     "text": [
      "\r",
      "Processing on GPU 1:  83%|█████████████████████████████████████████████████████████████████████████████████████████▌                  | 792/955 [02:56<00:36,  4.52it/s]"
     ]
    },
    {
     "name": "stdout",
     "output_type": "stream",
     "text": [
      "Classifying: Delamination nan\n",
      "Top label: Foreign Object Damage with confidence score: 0.23366332054138184\n"
     ]
    },
    {
     "name": "stderr",
     "output_type": "stream",
     "text": [
      "\r",
      "Processing on GPU 0:  82%|█████████████████████████████████████████████████████████████████████████████████████████                   | 789/957 [02:56<00:38,  4.42it/s]"
     ]
    },
    {
     "name": "stdout",
     "output_type": "stream",
     "text": [
      "Classifying: Dimensions out of Tolerance EOC OOT\n",
      "Top label: Separation noodle joint with confidence score: 0.30506935715675354\n"
     ]
    },
    {
     "name": "stderr",
     "output_type": "stream",
     "text": [
      "\r",
      "Processing on GPU 1:  83%|█████████████████████████████████████████████████████████████████████████████████████████▋                  | 793/955 [02:56<00:35,  4.51it/s]"
     ]
    },
    {
     "name": "stdout",
     "output_type": "stream",
     "text": [
      "Classifying: Delamination nan\n",
      "Top label: Foreign Object Damage with confidence score: 0.31814685463905334\n"
     ]
    },
    {
     "name": "stderr",
     "output_type": "stream",
     "text": [
      "\r",
      "Processing on GPU 0:  83%|█████████████████████████████████████████████████████████████████████████████████████████▏                  | 790/957 [02:56<00:37,  4.44it/s]"
     ]
    },
    {
     "name": "stdout",
     "output_type": "stream",
     "text": [
      "Classifying: Depression Depression along the splice line\n",
      "Top label: Separation noodle joint with confidence score: 0.30506935715675354\n"
     ]
    },
    {
     "name": "stderr",
     "output_type": "stream",
     "text": [
      "\r",
      "Processing on GPU 1:  83%|█████████████████████████████████████████████████████████████████████████████████████████▊                  | 794/955 [02:56<00:35,  4.51it/s]"
     ]
    },
    {
     "name": "stdout",
     "output_type": "stream",
     "text": [
      "Classifying: Delamination nan\n",
      "Top label: Splice gap with confidence score: 0.33937594294548035\n"
     ]
    },
    {
     "name": "stderr",
     "output_type": "stream",
     "text": [
      "\r",
      "Processing on GPU 0:  83%|█████████████████████████████████████████████████████████████████████████████████████████▎                  | 791/957 [02:56<00:37,  4.44it/s]"
     ]
    },
    {
     "name": "stdout",
     "output_type": "stream",
     "text": [
      "Classifying: Delamination Composite Manufacturing Delamination\n",
      "Top label: Separation noodle joint with confidence score: 0.30506935715675354\n"
     ]
    },
    {
     "name": "stderr",
     "output_type": "stream",
     "text": [
      "\r",
      "Processing on GPU 1:  83%|█████████████████████████████████████████████████████████████████████████████████████████▉                  | 795/955 [02:57<00:35,  4.48it/s]"
     ]
    },
    {
     "name": "stdout",
     "output_type": "stream",
     "text": [
      "Classifying: Delamination NDT Initial Failure\n",
      "Top label: Resin buildup with confidence score: 0.21785829961299896\n"
     ]
    },
    {
     "name": "stderr",
     "output_type": "stream",
     "text": [
      "\r",
      "Processing on GPU 0:  83%|█████████████████████████████████████████████████████████████████████████████████████████▍                  | 792/957 [02:57<00:37,  4.45it/s]"
     ]
    },
    {
     "name": "stdout",
     "output_type": "stream",
     "text": [
      "Classifying: Volume Porosity Volume Porosity\n",
      "Top label: Separation noodle joint with confidence score: 0.23277020454406738\n"
     ]
    },
    {
     "name": "stderr",
     "output_type": "stream",
     "text": [
      "\r",
      "Processing on GPU 1:  83%|██████████████████████████████████████████████████████████████████████████████████████████                  | 796/955 [02:57<00:35,  4.47it/s]"
     ]
    },
    {
     "name": "stdout",
     "output_type": "stream",
     "text": [
      "Classifying: Disbond Disbond\n",
      "Top label: Resin buildup with confidence score: 0.196485236287117\n"
     ]
    },
    {
     "name": "stderr",
     "output_type": "stream",
     "text": [
      "\r",
      "Processing on GPU 0:  83%|█████████████████████████████████████████████████████████████████████████████████████████▍                  | 793/957 [02:57<00:36,  4.48it/s]"
     ]
    },
    {
     "name": "stdout",
     "output_type": "stream",
     "text": [
      "Classifying: Disbonding within part Disbonding within part\n",
      "Top label: Core split with confidence score: 0.2206205129623413\n"
     ]
    },
    {
     "name": "stderr",
     "output_type": "stream",
     "text": [
      "\r",
      "Processing on GPU 1:  83%|██████████████████████████████████████████████████████████████████████████████████████████▏                 | 797/955 [02:57<00:34,  4.52it/s]"
     ]
    },
    {
     "name": "stdout",
     "output_type": "stream",
     "text": [
      "Classifying: Imprint on Surface Dent Surface defects\n",
      "Top label: Core split with confidence score: 0.18174977600574493\n"
     ]
    },
    {
     "name": "stderr",
     "output_type": "stream",
     "text": [
      "\r",
      "Processing on GPU 0:  83%|█████████████████████████████████████████████████████████████████████████████████████████▌                  | 794/957 [02:57<00:36,  4.43it/s]"
     ]
    },
    {
     "name": "stdout",
     "output_type": "stream",
     "text": [
      "Classifying: Surface defects pressure mark\n",
      "Top label: Splice gap with confidence score: 0.17318715155124664\n"
     ]
    },
    {
     "name": "stderr",
     "output_type": "stream",
     "text": [
      "\r",
      "Processing on GPU 1:  84%|██████████████████████████████████████████████████████████████████████████████████████████▏                 | 798/955 [02:57<00:34,  4.52it/s]"
     ]
    },
    {
     "name": "stdout",
     "output_type": "stream",
     "text": [
      "Classifying: Autoclave Cure Not Per Procedure Power failure during cycle\n",
      "Top label: Core displacement with confidence score: 0.1687190979719162\n"
     ]
    },
    {
     "name": "stderr",
     "output_type": "stream",
     "text": [
      "\r",
      "Processing on GPU 0:  83%|█████████████████████████████████████████████████████████████████████████████████████████▋                  | 795/957 [02:57<00:36,  4.45it/s]"
     ]
    },
    {
     "name": "stdout",
     "output_type": "stream",
     "text": [
      "Classifying: Core fill incorrect (Sandwich) torn nodal joints\n",
      "Top label: Core displacement with confidence score: 0.18278750777244568\n"
     ]
    },
    {
     "name": "stderr",
     "output_type": "stream",
     "text": [
      "\r",
      "Processing on GPU 1:  84%|██████████████████████████████████████████████████████████████████████████████████████████▎                 | 799/955 [02:57<00:34,  4.53it/s]"
     ]
    },
    {
     "name": "stdout",
     "output_type": "stream",
     "text": [
      "Classifying: Trim Defect Loft & Hole Position OOT\n",
      "Top label: Core deformation with confidence score: 0.5334404110908508\n"
     ]
    },
    {
     "name": "stderr",
     "output_type": "stream",
     "text": [
      "\r",
      "Processing on GPU 0:  83%|█████████████████████████████████████████████████████████████████████████████████████████▊                  | 796/957 [02:58<00:36,  4.46it/s]"
     ]
    },
    {
     "name": "stdout",
     "output_type": "stream",
     "text": [
      "Classifying: Wrinkles Wrinkles\n",
      "Top label: Foreign Object Damage with confidence score: 0.4806639552116394\n"
     ]
    },
    {
     "name": "stderr",
     "output_type": "stream",
     "text": [
      "\r",
      "Processing on GPU 1:  84%|██████████████████████████████████████████████████████████████████████████████████████████▍                 | 800/955 [02:58<00:34,  4.51it/s]"
     ]
    },
    {
     "name": "stdout",
     "output_type": "stream",
     "text": [
      "Classifying: Disbond disbond\n",
      "Top label: Resin buildup with confidence score: 0.1902356743812561\n"
     ]
    },
    {
     "name": "stderr",
     "output_type": "stream",
     "text": [
      "\r",
      "Processing on GPU 0:  83%|█████████████████████████████████████████████████████████████████████████████████████████▉                  | 797/957 [02:58<00:35,  4.47it/s]"
     ]
    },
    {
     "name": "stdout",
     "output_type": "stream",
     "text": [
      "Classifying: Delamination Composite Manufacturing Delamination\n",
      "Top label: Separation noodle joint with confidence score: 0.234422504901886\n"
     ]
    },
    {
     "name": "stderr",
     "output_type": "stream",
     "text": [
      "\r",
      "Processing on GPU 1:  84%|██████████████████████████████████████████████████████████████████████████████████████████▌                 | 801/955 [02:58<00:34,  4.50it/s]"
     ]
    },
    {
     "name": "stdout",
     "output_type": "stream",
     "text": [
      "Classifying: Autoclave Cure Not Per Procedure Wrong Cure Cycle\n",
      "Top label: Resin buildup with confidence score: 0.21785829961299896\n"
     ]
    },
    {
     "name": "stderr",
     "output_type": "stream",
     "text": [
      "\r",
      "Processing on GPU 0:  83%|██████████████████████████████████████████████████████████████████████████████████████████                  | 798/957 [02:58<00:35,  4.49it/s]"
     ]
    },
    {
     "name": "stdout",
     "output_type": "stream",
     "text": [
      "Classifying: Dimensions out of Tolerance EDGE of core OOT\n",
      "Top label: Core split with confidence score: 0.20295384526252747\n"
     ]
    },
    {
     "name": "stderr",
     "output_type": "stream",
     "text": [
      "\r",
      "Processing on GPU 1:  84%|██████████████████████████████████████████████████████████████████████████████████████████▋                 | 802/955 [02:58<00:33,  4.50it/s]"
     ]
    },
    {
     "name": "stdout",
     "output_type": "stream",
     "text": [
      "Classifying: Tool Out Of Tolerance (Dimension) lay-up tool pre-released\n",
      "Top label: Core deformation with confidence score: 0.3303914964199066\n"
     ]
    },
    {
     "name": "stderr",
     "output_type": "stream",
     "text": [
      "\r",
      "Processing on GPU 0:  83%|██████████████████████████████████████████████████████████████████████████████████████████▏                 | 799/957 [02:58<00:35,  4.50it/s]"
     ]
    },
    {
     "name": "stdout",
     "output_type": "stream",
     "text": [
      "Classifying: Wrinkles Wrinkles\n",
      "Top label: Splice gap with confidence score: 0.17391061782836914\n"
     ]
    },
    {
     "name": "stderr",
     "output_type": "stream",
     "text": [
      "\r",
      "Processing on GPU 1:  84%|██████████████████████████████████████████████████████████████████████████████████████████▊                 | 803/955 [02:58<00:33,  4.50it/s]"
     ]
    },
    {
     "name": "stdout",
     "output_type": "stream",
     "text": [
      "Classifying: Bag Leak vacuum leak during the cycle\n",
      "Top label: Resin buildup with confidence score: 0.1902356743812561\n"
     ]
    },
    {
     "name": "stderr",
     "output_type": "stream",
     "text": [
      "\r",
      "Processing on GPU 0:  84%|██████████████████████████████████████████████████████████████████████████████████████████▎                 | 800/957 [02:58<00:34,  4.51it/s]"
     ]
    },
    {
     "name": "stdout",
     "output_type": "stream",
     "text": [
      "Classifying: Expired Material Material expired due to AC delay\n",
      "Top label: Splice gap with confidence score: 0.15130175650119781\n"
     ]
    },
    {
     "name": "stderr",
     "output_type": "stream",
     "text": [
      "\r",
      "Processing on GPU 1:  84%|██████████████████████████████████████████████████████████████████████████████████████████▉                 | 804/955 [02:59<00:33,  4.51it/s]"
     ]
    },
    {
     "name": "stdout",
     "output_type": "stream",
     "text": [
      "Classifying: Disbond Disbond\n",
      "Top label: Splice gap with confidence score: 0.1512477695941925\n"
     ]
    },
    {
     "name": "stderr",
     "output_type": "stream",
     "text": [
      "\r",
      "Processing on GPU 0:  84%|██████████████████████████████████████████████████████████████████████████████████████████▍                 | 801/957 [02:59<00:34,  4.49it/s]"
     ]
    },
    {
     "name": "stdout",
     "output_type": "stream",
     "text": [
      "Classifying: Honeycomb geometry Core Step\n",
      "Top label: Core split with confidence score: 0.2206205129623413\n"
     ]
    },
    {
     "name": "stderr",
     "output_type": "stream",
     "text": [
      "\r",
      "Processing on GPU 1:  84%|███████████████████████████████████████████████████████████████████████████████████████████                 | 805/955 [02:59<00:33,  4.50it/s]"
     ]
    },
    {
     "name": "stdout",
     "output_type": "stream",
     "text": [
      "Classifying: Imprint on Surface Dent Core Dent\n",
      "Top label: Core deformation with confidence score: 0.5281099677085876\n"
     ]
    },
    {
     "name": "stderr",
     "output_type": "stream",
     "text": [
      "\r",
      "Processing on GPU 0:  84%|██████████████████████████████████████████████████████████████████████████████████████████▌                 | 802/957 [02:59<00:34,  4.52it/s]"
     ]
    },
    {
     "name": "stdout",
     "output_type": "stream",
     "text": [
      "Classifying: Honeycomb geometry Core Step\n",
      "Top label: Core deformation with confidence score: 0.4703635573387146\n"
     ]
    },
    {
     "name": "stderr",
     "output_type": "stream",
     "text": [
      "\r",
      "Processing on GPU 1:  84%|███████████████████████████████████████████████████████████████████████████████████████████▏                | 806/955 [02:59<00:33,  4.50it/s]"
     ]
    },
    {
     "name": "stdout",
     "output_type": "stream",
     "text": [
      "Classifying: Operation Not Per Drawing plies placed on wrong  sequences,\n",
      "Top label: Core deformation with confidence score: 0.5281099677085876\n"
     ]
    },
    {
     "name": "stderr",
     "output_type": "stream",
     "text": [
      "\r",
      "Processing on GPU 0:  84%|██████████████████████████████████████████████████████████████████████████████████████████▌                 | 803/957 [02:59<00:34,  4.47it/s]"
     ]
    },
    {
     "name": "stdout",
     "output_type": "stream",
     "text": [
      "Classifying: Dimensions out of Tolerance EDGE of core OOT\n",
      "Top label: Separation noodle joint with confidence score: 0.23888368904590607\n"
     ]
    },
    {
     "name": "stderr",
     "output_type": "stream",
     "text": [
      "\r",
      "Processing on GPU 1:  85%|███████████████████████████████████████████████████████████████████████████████████████████▎                | 807/955 [02:59<00:32,  4.51it/s]"
     ]
    },
    {
     "name": "stdout",
     "output_type": "stream",
     "text": [
      "Classifying: Porosity VOLUMETRIC POROSITY BEYOND ACC. LIMIT\n",
      "Top label: Core deformation with confidence score: 0.3303914964199066\n"
     ]
    },
    {
     "name": "stderr",
     "output_type": "stream",
     "text": [
      "\r",
      "Processing on GPU 0:  84%|██████████████████████████████████████████████████████████████████████████████████████████▋                 | 804/957 [02:59<00:34,  4.48it/s]"
     ]
    },
    {
     "name": "stdout",
     "output_type": "stream",
     "text": [
      "Classifying: Thickness deviation/ size Thickness OOT\n",
      "Top label: Core displacement with confidence score: 0.20531266927719116\n"
     ]
    },
    {
     "name": "stderr",
     "output_type": "stream",
     "text": [
      "\r",
      "Processing on GPU 1:  85%|███████████████████████████████████████████████████████████████████████████████████████████▍                | 808/955 [02:59<00:32,  4.53it/s]"
     ]
    },
    {
     "name": "stdout",
     "output_type": "stream",
     "text": [
      "Classifying: Disbond Core crack & porosity\n",
      "Top label: Foreign Object Damage with confidence score: 0.2592109143733978\n"
     ]
    },
    {
     "name": "stderr",
     "output_type": "stream",
     "text": [
      "\r",
      "Processing on GPU 0:  84%|██████████████████████████████████████████████████████████████████████████████████████████▊                 | 805/957 [03:00<00:34,  4.46it/s]"
     ]
    },
    {
     "name": "stdout",
     "output_type": "stream",
     "text": [
      "Classifying: Surface defects Surface Waviness\n",
      "Top label: Core displacement with confidence score: 0.37829098105430603\n"
     ]
    },
    {
     "name": "stderr",
     "output_type": "stream",
     "text": [
      "\r",
      "Processing on GPU 1:  85%|███████████████████████████████████████████████████████████████████████████████████████████▍                | 809/955 [03:00<00:32,  4.51it/s]"
     ]
    },
    {
     "name": "stdout",
     "output_type": "stream",
     "text": [
      "Classifying: Over Sanded Surface defects\n",
      "Top label: Core displacement with confidence score: 0.1718265861272812\n"
     ]
    },
    {
     "name": "stderr",
     "output_type": "stream",
     "text": [
      "\r",
      "Processing on GPU 0:  84%|██████████████████████████████████████████████████████████████████████████████████████████▉                 | 806/957 [03:00<00:33,  4.48it/s]"
     ]
    },
    {
     "name": "stdout",
     "output_type": "stream",
     "text": [
      "Classifying: Wrinkles Wrinkles\n",
      "Top label: Core displacement with confidence score: 0.18475189805030823\n"
     ]
    },
    {
     "name": "stderr",
     "output_type": "stream",
     "text": [
      "\r",
      "Processing on GPU 1:  85%|███████████████████████████████████████████████████████████████████████████████████████████▌                | 810/955 [03:00<00:32,  4.49it/s]"
     ]
    },
    {
     "name": "stdout",
     "output_type": "stream",
     "text": [
      "Classifying: Disbond Disbond\n",
      "Top label: Resin buildup with confidence score: 0.1902356743812561\n"
     ]
    },
    {
     "name": "stderr",
     "output_type": "stream",
     "text": [
      "\r",
      "Processing on GPU 0:  84%|███████████████████████████████████████████████████████████████████████████████████████████                 | 807/957 [03:00<00:33,  4.51it/s]"
     ]
    },
    {
     "name": "stdout",
     "output_type": "stream",
     "text": [
      "Classifying: Single delamination NDT Initial Failure\n",
      "Top label: Core split with confidence score: 0.2206205129623413\n"
     ]
    },
    {
     "name": "stderr",
     "output_type": "stream",
     "text": [
      "\r",
      "Processing on GPU 1:  85%|███████████████████████████████████████████████████████████████████████████████████████████▋                | 811/955 [03:00<00:32,  4.47it/s]"
     ]
    },
    {
     "name": "stdout",
     "output_type": "stream",
     "text": [
      "Classifying: Part Damaged Impact\n",
      "Top label: Separation noodle joint with confidence score: 0.25209373235702515\n"
     ]
    },
    {
     "name": "stderr",
     "output_type": "stream",
     "text": [
      "\r",
      "Processing on GPU 0:  84%|███████████████████████████████████████████████████████████████████████████████████████████▏                | 808/957 [03:00<00:33,  4.51it/s]"
     ]
    },
    {
     "name": "stdout",
     "output_type": "stream",
     "text": [
      "Classifying: Expired Material Mat. Expired due CCA Mat. booking delay\n",
      "Top label: Foreign Object Damage with confidence score: 0.2504497468471527\n"
     ]
    },
    {
     "name": "stderr",
     "output_type": "stream",
     "text": [
      "\r",
      "Processing on GPU 1:  85%|███████████████████████████████████████████████████████████████████████████████████████████▊                | 812/955 [03:00<00:31,  4.48it/s]"
     ]
    },
    {
     "name": "stdout",
     "output_type": "stream",
     "text": [
      "Classifying: Porosity VOLUMETRIC POROSITY BEYOND ACC. LIMIT\n",
      "Top label: Core displacement with confidence score: 0.28910356760025024\n"
     ]
    },
    {
     "name": "stderr",
     "output_type": "stream",
     "text": [
      "\r",
      "Processing on GPU 0:  85%|███████████████████████████████████████████████████████████████████████████████████████████▎                | 809/957 [03:00<00:32,  4.51it/s]"
     ]
    },
    {
     "name": "stdout",
     "output_type": "stream",
     "text": [
      "Classifying: foil-/ foreign-inclusion detected FOD\n",
      "Top label: Core displacement with confidence score: 0.20531266927719116\n"
     ]
    },
    {
     "name": "stderr",
     "output_type": "stream",
     "text": [
      "\r",
      "Processing on GPU 1:  85%|███████████████████████████████████████████████████████████████████████████████████████████▉                | 813/955 [03:01<00:31,  4.48it/s]"
     ]
    },
    {
     "name": "stdout",
     "output_type": "stream",
     "text": [
      "Classifying: Delamination NDT Initial Failure\n",
      "Top label: Foreign Object Damage with confidence score: 0.7643585205078125\n"
     ]
    },
    {
     "name": "stderr",
     "output_type": "stream",
     "text": [
      "\r",
      "Processing on GPU 0:  85%|███████████████████████████████████████████████████████████████████████████████████████████▍                | 810/957 [03:01<00:32,  4.52it/s]"
     ]
    },
    {
     "name": "stdout",
     "output_type": "stream",
     "text": [
      "Classifying: Curing Vacuum Vacuum leak during cycle\n",
      "Top label: Separation noodle joint with confidence score: 0.23277020454406738\n"
     ]
    },
    {
     "name": "stderr",
     "output_type": "stream",
     "text": [
      "\r",
      "Processing on GPU 1:  85%|████████████████████████████████████████████████████████████████████████████████████████████                | 814/955 [03:01<00:31,  4.46it/s]"
     ]
    },
    {
     "name": "stdout",
     "output_type": "stream",
     "text": [
      "Classifying: Delamination nan\n",
      "Top label: Core displacement with confidence score: 0.19069309532642365\n"
     ]
    },
    {
     "name": "stderr",
     "output_type": "stream",
     "text": [
      "\r",
      "Processing on GPU 0:  85%|███████████████████████████████████████████████████████████████████████████████████████████▌                | 811/957 [03:01<00:32,  4.52it/s]"
     ]
    },
    {
     "name": "stdout",
     "output_type": "stream",
     "text": [
      "Classifying: Delamination Composite Manufacturing Delamination above size limit.\n",
      "Top label: Separation noodle joint with confidence score: 0.30506935715675354\n"
     ]
    },
    {
     "name": "stderr",
     "output_type": "stream",
     "text": [
      "\r",
      "Processing on GPU 1:  85%|████████████████████████████████████████████████████████████████████████████████████████████▏               | 815/955 [03:01<00:31,  4.46it/s]"
     ]
    },
    {
     "name": "stdout",
     "output_type": "stream",
     "text": [
      "Classifying: Delamination nan\n",
      "Top label: Resin buildup with confidence score: 0.20536752045154572\n"
     ]
    },
    {
     "name": "stderr",
     "output_type": "stream",
     "text": [
      "\r",
      "Processing on GPU 0:  85%|███████████████████████████████████████████████████████████████████████████████████████████▋                | 812/957 [03:01<00:31,  4.53it/s]"
     ]
    },
    {
     "name": "stdout",
     "output_type": "stream",
     "text": [
      "Classifying: Single delamination NDT Initial Failure\n",
      "Top label: Separation noodle joint with confidence score: 0.30506935715675354\n"
     ]
    },
    {
     "name": "stderr",
     "output_type": "stream",
     "text": [
      "\r",
      "Processing on GPU 1:  85%|████████████████████████████████████████████████████████████████████████████████████████████▎               | 816/955 [03:01<00:31,  4.45it/s]"
     ]
    },
    {
     "name": "stdout",
     "output_type": "stream",
     "text": [
      "Classifying: Delamination nan\n",
      "Top label: Separation noodle joint with confidence score: 0.25209373235702515\n"
     ]
    },
    {
     "name": "stderr",
     "output_type": "stream",
     "text": [
      "\r",
      "Processing on GPU 0:  85%|███████████████████████████████████████████████████████████████████████████████████████████▋                | 813/957 [03:01<00:31,  4.53it/s]"
     ]
    },
    {
     "name": "stdout",
     "output_type": "stream",
     "text": [
      "Classifying: Single delamination NDT Initial Failure\n",
      "Top label: Separation noodle joint with confidence score: 0.30506935715675354\n"
     ]
    },
    {
     "name": "stderr",
     "output_type": "stream",
     "text": [
      "\r",
      "Processing on GPU 1:  86%|████████████████████████████████████████████████████████████████████████████████████████████▍               | 817/955 [03:02<00:31,  4.43it/s]"
     ]
    },
    {
     "name": "stdout",
     "output_type": "stream",
     "text": [
      "Classifying: Delamination nan\n",
      "Top label: Separation noodle joint with confidence score: 0.25209373235702515\n"
     ]
    },
    {
     "name": "stderr",
     "output_type": "stream",
     "text": [
      "\r",
      "Processing on GPU 0:  85%|███████████████████████████████████████████████████████████████████████████████████████████▊                | 814/957 [03:01<00:31,  4.54it/s]"
     ]
    },
    {
     "name": "stdout",
     "output_type": "stream",
     "text": [
      "Classifying: Single delamination NDT Initial Failure\n",
      "Top label: Separation noodle joint with confidence score: 0.30506935715675354\n"
     ]
    },
    {
     "name": "stderr",
     "output_type": "stream",
     "text": [
      "\r",
      "Processing on GPU 1:  86%|████████████████████████████████████████████████████████████████████████████████████████████▌               | 818/955 [03:02<00:30,  4.46it/s]"
     ]
    },
    {
     "name": "stdout",
     "output_type": "stream",
     "text": [
      "Classifying: Delamination nan\n",
      "Top label: Separation noodle joint with confidence score: 0.25209373235702515\n"
     ]
    },
    {
     "name": "stderr",
     "output_type": "stream",
     "text": [
      "\r",
      "Processing on GPU 0:  85%|███████████████████████████████████████████████████████████████████████████████████████████▉                | 815/957 [03:02<00:31,  4.51it/s]"
     ]
    },
    {
     "name": "stdout",
     "output_type": "stream",
     "text": [
      "Classifying: foil-/ foreign-inclusion detected FOD\n",
      "Top label: Separation noodle joint with confidence score: 0.30506935715675354\n"
     ]
    },
    {
     "name": "stderr",
     "output_type": "stream",
     "text": [
      "\r",
      "Processing on GPU 1:  86%|████████████████████████████████████████████████████████████████████████████████████████████▌               | 819/955 [03:02<00:30,  4.45it/s]"
     ]
    },
    {
     "name": "stdout",
     "output_type": "stream",
     "text": [
      "Classifying: Delamination nan\n",
      "Top label: Foreign Object Damage with confidence score: 0.7643585205078125\n"
     ]
    },
    {
     "name": "stderr",
     "output_type": "stream",
     "text": [
      "\r",
      "Processing on GPU 0:  85%|████████████████████████████████████████████████████████████████████████████████████████████                | 816/957 [03:02<00:31,  4.52it/s]"
     ]
    },
    {
     "name": "stdout",
     "output_type": "stream",
     "text": [
      "Classifying: Depression Depressions along the splice line\n",
      "Top label: Separation noodle joint with confidence score: 0.30506935715675354\n"
     ]
    },
    {
     "name": "stderr",
     "output_type": "stream",
     "text": [
      "\r",
      "Processing on GPU 1:  86%|████████████████████████████████████████████████████████████████████████████████████████████▋               | 820/955 [03:02<00:30,  4.44it/s]"
     ]
    },
    {
     "name": "stdout",
     "output_type": "stream",
     "text": [
      "Classifying: Delamination NDT Initial Failure\n",
      "Top label: Splice gap with confidence score: 0.36343616247177124\n"
     ]
    },
    {
     "name": "stderr",
     "output_type": "stream",
     "text": [
      "\r",
      "Processing on GPU 0:  85%|████████████████████████████████████████████████████████████████████████████████████████████▏               | 817/957 [03:02<00:31,  4.51it/s]"
     ]
    },
    {
     "name": "stdout",
     "output_type": "stream",
     "text": [
      "Classifying: Expired Material Material expired due to clockin delay\n",
      "Top label: Separation noodle joint with confidence score: 0.23277020454406738\n"
     ]
    },
    {
     "name": "stderr",
     "output_type": "stream",
     "text": [
      "\r",
      "Processing on GPU 1:  86%|████████████████████████████████████████████████████████████████████████████████████████████▊               | 821/955 [03:02<00:30,  4.46it/s]"
     ]
    },
    {
     "name": "stdout",
     "output_type": "stream",
     "text": [
      "Classifying: Delamination NDT Initial Failure\n",
      "Top label: Splice gap with confidence score: 0.16157421469688416\n"
     ]
    },
    {
     "name": "stderr",
     "output_type": "stream",
     "text": [
      "\r",
      "Processing on GPU 0:  85%|████████████████████████████████████████████████████████████████████████████████████████████▎               | 818/957 [03:02<00:30,  4.52it/s]"
     ]
    },
    {
     "name": "stdout",
     "output_type": "stream",
     "text": [
      "Classifying: Completeness Pre-released see LT\n",
      "Top label: Separation noodle joint with confidence score: 0.23277020454406738\n"
     ]
    },
    {
     "name": "stderr",
     "output_type": "stream",
     "text": [
      "\r",
      "Processing on GPU 1:  86%|████████████████████████████████████████████████████████████████████████████████████████████▉               | 822/955 [03:03<00:29,  4.46it/s]"
     ]
    },
    {
     "name": "stdout",
     "output_type": "stream",
     "text": [
      "Classifying: Delamination NDT Initial Failure\n",
      "Top label: Resin buildup with confidence score: 0.19221940636634827\n"
     ]
    },
    {
     "name": "stderr",
     "output_type": "stream",
     "text": [
      "\r",
      "Processing on GPU 0:  86%|████████████████████████████████████████████████████████████████████████████████████████████▍               | 819/957 [03:03<00:30,  4.52it/s]"
     ]
    },
    {
     "name": "stdout",
     "output_type": "stream",
     "text": [
      "Classifying: Depression Core dent,\n",
      "Top label: Separation noodle joint with confidence score: 0.23277020454406738\n"
     ]
    },
    {
     "name": "stderr",
     "output_type": "stream",
     "text": [
      "\r",
      "Processing on GPU 1:  86%|█████████████████████████████████████████████████████████████████████████████████████████████               | 823/955 [03:03<00:29,  4.47it/s]"
     ]
    },
    {
     "name": "stdout",
     "output_type": "stream",
     "text": [
      "Classifying: Delamination NDT Initial Failure\n",
      "Top label: Core deformation with confidence score: 0.3793518841266632\n"
     ]
    },
    {
     "name": "stderr",
     "output_type": "stream",
     "text": [
      "\r",
      "Processing on GPU 0:  86%|████████████████████████████████████████████████████████████████████████████████████████████▌               | 820/957 [03:03<00:30,  4.52it/s]"
     ]
    },
    {
     "name": "stdout",
     "output_type": "stream",
     "text": [
      "Classifying: Inclusion Unidentified Defect\n",
      "Top label: Separation noodle joint with confidence score: 0.23277020454406738\n"
     ]
    },
    {
     "name": "stderr",
     "output_type": "stream",
     "text": [
      "\r",
      "Processing on GPU 1:  86%|█████████████████████████████████████████████████████████████████████████████████████████████▏              | 824/955 [03:03<00:29,  4.48it/s]"
     ]
    },
    {
     "name": "stdout",
     "output_type": "stream",
     "text": [
      "Classifying: Delamination NDT Initial Failure\n",
      "Top label: Core displacement with confidence score: 0.2426517903804779\n"
     ]
    },
    {
     "name": "stderr",
     "output_type": "stream",
     "text": [
      "\r",
      "Processing on GPU 0:  86%|████████████████████████████████████████████████████████████████████████████████████████████▋               | 821/957 [03:03<00:30,  4.51it/s]"
     ]
    },
    {
     "name": "stdout",
     "output_type": "stream",
     "text": [
      "Classifying: Inclusion  Unidentified defect\n",
      "Top label: Separation noodle joint with confidence score: 0.23277020454406738\n"
     ]
    },
    {
     "name": "stderr",
     "output_type": "stream",
     "text": [
      "\r",
      "Processing on GPU 1:  86%|█████████████████████████████████████████████████████████████████████████████████████████████▎              | 825/955 [03:03<00:28,  4.49it/s]"
     ]
    },
    {
     "name": "stdout",
     "output_type": "stream",
     "text": [
      "Classifying: Core / Shaft Damaged seelong text\n",
      "Top label: Foreign Object Damage with confidence score: 0.23197464644908905\n"
     ]
    },
    {
     "name": "stderr",
     "output_type": "stream",
     "text": [
      "\r",
      "Processing on GPU 0:  86%|████████████████████████████████████████████████████████████████████████████████████████████▊               | 822/957 [03:03<00:29,  4.50it/s]"
     ]
    },
    {
     "name": "stdout",
     "output_type": "stream",
     "text": [
      "Classifying: Delamination Composite Manufacturing \"FOD\"\n",
      "Top label: Core deformation with confidence score: 0.4113815724849701\n"
     ]
    },
    {
     "name": "stderr",
     "output_type": "stream",
     "text": [
      "\r",
      "Processing on GPU 1:  86%|█████████████████████████████████████████████████████████████████████████████████████████████▍              | 826/955 [03:04<00:28,  4.51it/s]"
     ]
    },
    {
     "name": "stdout",
     "output_type": "stream",
     "text": [
      "Classifying: Porosity VOLUMETRIC POROSITY BEYOND ACC. LIMIT\n",
      "Top label: Foreign Object Damage with confidence score: 0.6306448578834534\n"
     ]
    },
    {
     "name": "stderr",
     "output_type": "stream",
     "text": [
      "\r",
      "Processing on GPU 0:  86%|████████████████████████████████████████████████████████████████████████████████████████████▉               | 823/957 [03:03<00:29,  4.51it/s]"
     ]
    },
    {
     "name": "stdout",
     "output_type": "stream",
     "text": [
      "Classifying: Traceability not recorded no SAP transaction for Mat freezing\n",
      "Top label: Core displacement with confidence score: 0.20531266927719116\n"
     ]
    },
    {
     "name": "stderr",
     "output_type": "stream",
     "text": [
      "\r",
      "Processing on GPU 1:  87%|█████████████████████████████████████████████████████████████████████████████████████████████▌              | 827/955 [03:04<00:28,  4.50it/s]"
     ]
    },
    {
     "name": "stdout",
     "output_type": "stream",
     "text": [
      "Top label: Separation noodle joint with confidence score: 0.17194144427776337Classifying: Traveler Missing splice adhesive booking on trave\n",
      "\n"
     ]
    },
    {
     "name": "stderr",
     "output_type": "stream",
     "text": [
      "\r",
      "Processing on GPU 0:  86%|████████████████████████████████████████████████████████████████████████████████████████████▉               | 824/957 [03:04<00:29,  4.53it/s]"
     ]
    },
    {
     "name": "stdout",
     "output_type": "stream",
     "text": [
      "Classifying: Completeness pre release\n",
      "Top label: Splice gap with confidence score: 0.5022311210632324\n",
      "Top label: Resin buildup with confidence score: 0.3319235146045685"
     ]
    },
    {
     "name": "stderr",
     "output_type": "stream",
     "text": [
      "\r",
      "Processing on GPU 1:  87%|█████████████████████████████████████████████████████████████████████████████████████████████▋              | 828/955 [03:04<00:28,  4.46it/s]"
     ]
    },
    {
     "name": "stdout",
     "output_type": "stream",
     "text": [
      "Classifying: Porosity volumetric porosity\n"
     ]
    },
    {
     "name": "stderr",
     "output_type": "stream",
     "text": [
      "\r",
      "Processing on GPU 0:  86%|█████████████████████████████████████████████████████████████████████████████████████████████               | 825/957 [03:04<00:29,  4.51it/s]"
     ]
    },
    {
     "name": "stdout",
     "output_type": "stream",
     "text": [
      "\n",
      "Classifying: Wrinkles Wrinkles\n",
      "Top label: Core displacement with confidence score: 0.18443597853183746\n"
     ]
    },
    {
     "name": "stderr",
     "output_type": "stream",
     "text": [
      "\r",
      "Processing on GPU 1:  87%|█████████████████████████████████████████████████████████████████████████████████████████████▊              | 829/955 [03:04<00:28,  4.47it/s]"
     ]
    },
    {
     "name": "stdout",
     "output_type": "stream",
     "text": [
      "Classifying: Demoulding Damage Damaged during demouldingTop label: Resin buildup with confidence score: 0.1902356743812561\n",
      "\n"
     ]
    },
    {
     "name": "stderr",
     "output_type": "stream",
     "text": [
      "\r",
      "Processing on GPU 0:  86%|█████████████████████████████████████████████████████████████████████████████████████████████▏              | 826/957 [03:04<00:29,  4.50it/s]"
     ]
    },
    {
     "name": "stdout",
     "output_type": "stream",
     "text": [
      "Classifying: Depression Depression\n",
      "Top label: Separation noodle joint with confidence score: 0.18492582440376282\n"
     ]
    },
    {
     "name": "stderr",
     "output_type": "stream",
     "text": [
      "\r",
      "Processing on GPU 1:  87%|█████████████████████████████████████████████████████████████████████████████████████████████▊              | 830/955 [03:04<00:27,  4.52it/s]"
     ]
    },
    {
     "name": "stdout",
     "output_type": "stream",
     "text": [
      "Classifying: Foreign Object Damage FOD\n",
      "Top label: Core split with confidence score: 0.22650505602359772\n"
     ]
    },
    {
     "name": "stderr",
     "output_type": "stream",
     "text": [
      "\r",
      "Processing on GPU 0:  86%|█████████████████████████████████████████████████████████████████████████████████████████████▎              | 827/957 [03:04<00:29,  4.43it/s]"
     ]
    },
    {
     "name": "stdout",
     "output_type": "stream",
     "text": [
      "Classifying: Disbonding within part Disbond\n",
      "Top label: Foreign Object Damage with confidence score: 0.9434307217597961\n"
     ]
    },
    {
     "name": "stderr",
     "output_type": "stream",
     "text": [
      "\r",
      "Processing on GPU 1:  87%|█████████████████████████████████████████████████████████████████████████████████████████████▉              | 831/955 [03:05<00:27,  4.51it/s]"
     ]
    },
    {
     "name": "stdout",
     "output_type": "stream",
     "text": [
      "Classifying: Dimensional Deviation Dimension out of Tolerance\n",
      "Top label: Core displacement with confidence score: 0.21432512998580933\n"
     ]
    },
    {
     "name": "stderr",
     "output_type": "stream",
     "text": [
      "\r",
      "Processing on GPU 0:  87%|█████████████████████████████████████████████████████████████████████████████████████████████▍              | 828/957 [03:05<00:28,  4.45it/s]"
     ]
    },
    {
     "name": "stdout",
     "output_type": "stream",
     "text": [
      "Classifying: Single delamination NDT Initial Failure\n",
      "Top label: Splice gap with confidence score: 0.2545115351676941\n"
     ]
    },
    {
     "name": "stderr",
     "output_type": "stream",
     "text": [
      "\r",
      "Processing on GPU 1:  87%|██████████████████████████████████████████████████████████████████████████████████████████████              | 832/955 [03:05<00:27,  4.53it/s]"
     ]
    },
    {
     "name": "stdout",
     "output_type": "stream",
     "text": [
      "Classifying: Misalignment Holes misalignment\n",
      "Top label: Separation noodle joint with confidence score: 0.25209373235702515\n"
     ]
    },
    {
     "name": "stderr",
     "output_type": "stream",
     "text": [
      "\r",
      "Processing on GPU 0:  87%|█████████████████████████████████████████████████████████████████████████████████████████████▌              | 829/957 [03:05<00:28,  4.45it/s]"
     ]
    },
    {
     "name": "stdout",
     "output_type": "stream",
     "text": [
      "Classifying: Single delamination NDT Initial Failure\n",
      "Top label: Separation noodle joint with confidence score: 0.18513940274715424\n"
     ]
    },
    {
     "name": "stderr",
     "output_type": "stream",
     "text": [
      "\r",
      "Processing on GPU 1:  87%|██████████████████████████████████████████████████████████████████████████████████████████████▏             | 833/955 [03:05<00:27,  4.52it/s]"
     ]
    },
    {
     "name": "stdout",
     "output_type": "stream",
     "text": [
      "Classifying: Delamination ndt initial defect\n",
      "Top label: Separation noodle joint with confidence score: 0.25209373235702515\n"
     ]
    },
    {
     "name": "stderr",
     "output_type": "stream",
     "text": [
      "\r",
      "Processing on GPU 0:  87%|█████████████████████████████████████████████████████████████████████████████████████████████▋              | 830/957 [03:05<00:28,  4.46it/s]"
     ]
    },
    {
     "name": "stdout",
     "output_type": "stream",
     "text": [
      "Classifying: Single delamination NDT Initial Failure\n",
      "Top label: Core displacement with confidence score: 0.19740702211856842\n"
     ]
    },
    {
     "name": "stderr",
     "output_type": "stream",
     "text": [
      "\r",
      "Processing on GPU 1:  87%|██████████████████████████████████████████████████████████████████████████████████████████████▎             | 834/955 [03:05<00:26,  4.53it/s]"
     ]
    },
    {
     "name": "stdout",
     "output_type": "stream",
     "text": [
      "Classifying: Delamination ndt initial repair\n",
      "Top label: Separation noodle joint with confidence score: 0.25209373235702515\n"
     ]
    },
    {
     "name": "stderr",
     "output_type": "stream",
     "text": [
      "\r",
      "Processing on GPU 0:  87%|█████████████████████████████████████████████████████████████████████████████████████████████▊              | 831/957 [03:05<00:28,  4.47it/s]"
     ]
    },
    {
     "name": "stdout",
     "output_type": "stream",
     "text": [
      "Classifying: Impact Impact Damage\n",
      "Top label: Core displacement with confidence score: 0.18344774842262268\n"
     ]
    },
    {
     "name": "stderr",
     "output_type": "stream",
     "text": [
      "\r",
      "Processing on GPU 1:  87%|██████████████████████████████████████████████████████████████████████████████████████████████▍             | 835/955 [03:06<00:26,  4.53it/s]"
     ]
    },
    {
     "name": "stdout",
     "output_type": "stream",
     "text": [
      "Classifying: Delamination ndt initial repair\n",
      "Top label: Foreign Object Damage with confidence score: 0.256069540977478\n"
     ]
    },
    {
     "name": "stderr",
     "output_type": "stream",
     "text": [
      "\r",
      "Processing on GPU 0:  87%|█████████████████████████████████████████████████████████████████████████████████████████████▉              | 832/957 [03:06<00:28,  4.43it/s]"
     ]
    },
    {
     "name": "stdout",
     "output_type": "stream",
     "text": [
      "Classifying: Delamination Composite Manufacturing NDT Second Failure\n",
      "Top label: Core displacement with confidence score: 0.18344774842262268\n"
     ]
    },
    {
     "name": "stderr",
     "output_type": "stream",
     "text": [
      "\r",
      "Processing on GPU 1:  88%|██████████████████████████████████████████████████████████████████████████████████████████████▌             | 836/955 [03:06<00:26,  4.53it/s]"
     ]
    },
    {
     "name": "stdout",
     "output_type": "stream",
     "text": [
      "Classifying: Delamination nan\n",
      "Top label: Resin buildup with confidence score: 0.22035008668899536\n"
     ]
    },
    {
     "name": "stderr",
     "output_type": "stream",
     "text": [
      "\r",
      "Processing on GPU 0:  87%|██████████████████████████████████████████████████████████████████████████████████████████████              | 833/957 [03:06<00:27,  4.46it/s]"
     ]
    },
    {
     "name": "stdout",
     "output_type": "stream",
     "text": [
      "Classifying: Disbonding within part NDT Second Failure\n",
      "Top label: Separation noodle joint with confidence score: 0.30506935715675354\n"
     ]
    },
    {
     "name": "stderr",
     "output_type": "stream",
     "text": [
      "\r",
      "Processing on GPU 1:  88%|██████████████████████████████████████████████████████████████████████████████████████████████▋             | 837/955 [03:06<00:26,  4.52it/s]"
     ]
    },
    {
     "name": "stdout",
     "output_type": "stream",
     "text": [
      "Classifying: Delamination nan\n",
      "Top label: Splice gap with confidence score: 0.23374302685260773\n"
     ]
    },
    {
     "name": "stderr",
     "output_type": "stream",
     "text": [
      "\r",
      "Processing on GPU 0:  87%|██████████████████████████████████████████████████████████████████████████████████████████████              | 834/957 [03:06<00:27,  4.45it/s]"
     ]
    },
    {
     "name": "stdout",
     "output_type": "stream",
     "text": [
      "Classifying: Inclusion FOD\n",
      "Top label: Separation noodle joint with confidence score: 0.30506935715675354\n"
     ]
    },
    {
     "name": "stderr",
     "output_type": "stream",
     "text": [
      "\r",
      "Processing on GPU 1:  88%|██████████████████████████████████████████████████████████████████████████████████████████████▊             | 838/955 [03:06<00:25,  4.50it/s]"
     ]
    },
    {
     "name": "stdout",
     "output_type": "stream",
     "text": [
      "Classifying: Delamination ndt initial repair\n",
      "Top label: Foreign Object Damage with confidence score: 0.4396928548812866\n"
     ]
    },
    {
     "name": "stderr",
     "output_type": "stream",
     "text": [
      "\r",
      "Processing on GPU 0:  87%|██████████████████████████████████████████████████████████████████████████████████████████████▏             | 835/957 [03:06<00:27,  4.48it/s]"
     ]
    },
    {
     "name": "stdout",
     "output_type": "stream",
     "text": [
      "Classifying: Material separation / Incorrect bonding Core splice Seperation\n",
      "Top label: Core displacement with confidence score: 0.18344774842262268\n"
     ]
    },
    {
     "name": "stderr",
     "output_type": "stream",
     "text": [
      "\r",
      "Processing on GPU 1:  88%|██████████████████████████████████████████████████████████████████████████████████████████████▉             | 839/955 [03:06<00:25,  4.49it/s]"
     ]
    },
    {
     "name": "stdout",
     "output_type": "stream",
     "text": [
      "Classifying: Delamination NDT Initial Failure\n",
      "Top label: Core split with confidence score: 0.7282885313034058\n"
     ]
    },
    {
     "name": "stderr",
     "output_type": "stream",
     "text": [
      "\r",
      "Processing on GPU 0:  87%|██████████████████████████████████████████████████████████████████████████████████████████████▎             | 836/957 [03:06<00:27,  4.48it/s]"
     ]
    },
    {
     "name": "stdout",
     "output_type": "stream",
     "text": [
      "Classifying: Disbonding within part Disbonding within part\n",
      "Top label: Separation noodle joint with confidence score: 0.23277020454406738\n"
     ]
    },
    {
     "name": "stderr",
     "output_type": "stream",
     "text": [
      "\r",
      "Processing on GPU 1:  88%|██████████████████████████████████████████████████████████████████████████████████████████████▉             | 840/955 [03:07<00:25,  4.48it/s]"
     ]
    },
    {
     "name": "stdout",
     "output_type": "stream",
     "text": [
      "Classifying: Waviness Depression\n",
      "Top label: Core split with confidence score: 0.18174977600574493\n"
     ]
    },
    {
     "name": "stderr",
     "output_type": "stream",
     "text": [
      "\r",
      "Processing on GPU 0:  87%|██████████████████████████████████████████████████████████████████████████████████████████████▍             | 837/957 [03:07<00:27,  4.44it/s]"
     ]
    },
    {
     "name": "stdout",
     "output_type": "stream",
     "text": [
      "Classifying: Core fill incorrect (Sandwich) Potting insuficient\n",
      "Top label: Core displacement with confidence score: 0.24560968577861786\n"
     ]
    },
    {
     "name": "stderr",
     "output_type": "stream",
     "text": [
      "\r",
      "Processing on GPU 1:  88%|███████████████████████████████████████████████████████████████████████████████████████████████             | 841/955 [03:07<00:25,  4.50it/s]"
     ]
    },
    {
     "name": "stdout",
     "output_type": "stream",
     "text": [
      "Classifying: Imprint on Surface Dent Core dent\n",
      "Top label: Core deformation with confidence score: 0.33804601430892944\n"
     ]
    },
    {
     "name": "stderr",
     "output_type": "stream",
     "text": [
      "\r",
      "Processing on GPU 0:  88%|██████████████████████████████████████████████████████████████████████████████████████████████▌             | 838/957 [03:07<00:26,  4.42it/s]"
     ]
    },
    {
     "name": "stdout",
     "output_type": "stream",
     "text": [
      "Classifying: Impact Impact Damage\n",
      "Top label: Core deformation with confidence score: 0.6786959767341614\n"
     ]
    },
    {
     "name": "stderr",
     "output_type": "stream",
     "text": [
      "\r",
      "Processing on GPU 1:  88%|███████████████████████████████████████████████████████████████████████████████████████████████▏            | 842/955 [03:07<00:25,  4.48it/s]"
     ]
    },
    {
     "name": "stdout",
     "output_type": "stream",
     "text": [
      "Classifying: Disbond Disbond\n",
      "Top label: Foreign Object Damage with confidence score: 0.256069540977478\n"
     ]
    },
    {
     "name": "stderr",
     "output_type": "stream",
     "text": [
      "\r",
      "Processing on GPU 0:  88%|██████████████████████████████████████████████████████████████████████████████████████████████▋             | 839/957 [03:07<00:26,  4.45it/s]"
     ]
    },
    {
     "name": "stdout",
     "output_type": "stream",
     "text": [
      "Classifying: Wrinkles Wrinkles\n",
      "Top label: Core split with confidence score: 0.2206205129623413\n"
     ]
    },
    {
     "name": "stderr",
     "output_type": "stream",
     "text": [
      "\r",
      "Processing on GPU 1:  88%|███████████████████████████████████████████████████████████████████████████████████████████████▎            | 843/955 [03:07<00:24,  4.49it/s]"
     ]
    },
    {
     "name": "stdout",
     "output_type": "stream",
     "text": [
      "Classifying: Core Damage, Torn Nodal Joints Torn Nodal Joints\n",
      "Top label: Resin buildup with confidence score: 0.1902356743812561\n"
     ]
    },
    {
     "name": "stderr",
     "output_type": "stream",
     "text": [
      "\r",
      "Processing on GPU 0:  88%|██████████████████████████████████████████████████████████████████████████████████████████████▊             | 840/957 [03:07<00:26,  4.47it/s]"
     ]
    },
    {
     "name": "stdout",
     "output_type": "stream",
     "text": [
      "Classifying: Single delamination NDT Initial Failure\n",
      "Top label: Core deformation with confidence score: 0.6885278820991516\n"
     ]
    },
    {
     "name": "stderr",
     "output_type": "stream",
     "text": [
      "\r",
      "Processing on GPU 1:  88%|███████████████████████████████████████████████████████████████████████████████████████████████▍            | 844/955 [03:08<00:24,  4.50it/s]"
     ]
    },
    {
     "name": "stdout",
     "output_type": "stream",
     "text": [
      "Classifying: Dents Over Splice Lines Dent over splice lines\n",
      "Top label: Separation noodle joint with confidence score: 0.25209373235702515\n"
     ]
    },
    {
     "name": "stderr",
     "output_type": "stream",
     "text": [
      "\r",
      "Processing on GPU 0:  88%|██████████████████████████████████████████████████████████████████████████████████████████████▉             | 841/957 [03:08<00:26,  4.46it/s]"
     ]
    },
    {
     "name": "stdout",
     "output_type": "stream",
     "text": [
      "Classifying: Volume Porosity porosity\n",
      "Top label: Splice gap with confidence score: 0.3592250943183899\n"
     ]
    },
    {
     "name": "stderr",
     "output_type": "stream",
     "text": [
      "\r",
      "Processing on GPU 1:  88%|███████████████████████████████████████████████████████████████████████████████████████████████▌            | 845/955 [03:08<00:24,  4.49it/s]"
     ]
    },
    {
     "name": "stdout",
     "output_type": "stream",
     "text": [
      "Classifying: Rejectable Ultrasonic Inspection Indicat DISBOND BEYOND ACC. LIMIT\n",
      "Top label: Resin buildup with confidence score: 0.24928952753543854\n"
     ]
    },
    {
     "name": "stderr",
     "output_type": "stream",
     "text": [
      "\r",
      "Processing on GPU 0:  88%|███████████████████████████████████████████████████████████████████████████████████████████████             | 842/957 [03:08<00:25,  4.48it/s]"
     ]
    },
    {
     "name": "stdout",
     "output_type": "stream",
     "text": [
      "Classifying: Inclusion nan\n",
      "Top label: Splice gap with confidence score: 0.2851400673389435\n"
     ]
    },
    {
     "name": "stderr",
     "output_type": "stream",
     "text": [
      "\r",
      "Processing on GPU 1:  89%|███████████████████████████████████████████████████████████████████████████████████████████████▋            | 846/955 [03:08<00:24,  4.51it/s]"
     ]
    },
    {
     "name": "stdout",
     "output_type": "stream",
     "text": [
      "Classifying: Imprint on Surface Dent Core Dent\n",
      "Top label: Core split with confidence score: 0.20411178469657898\n"
     ]
    },
    {
     "name": "stderr",
     "output_type": "stream",
     "text": [
      "\r",
      "Processing on GPU 0:  88%|███████████████████████████████████████████████████████████████████████████████████████████████▏            | 843/957 [03:08<00:25,  4.45it/s]"
     ]
    },
    {
     "name": "stdout",
     "output_type": "stream",
     "text": [
      "Classifying: Composite ply Rejectable Ultrasonic Inspection Indicat\n",
      "Top label: Core deformation with confidence score: 0.4703635573387146\n"
     ]
    },
    {
     "name": "stderr",
     "output_type": "stream",
     "text": [
      "\r",
      "Processing on GPU 1:  89%|███████████████████████████████████████████████████████████████████████████████████████████████▊            | 847/955 [03:08<00:23,  4.51it/s]"
     ]
    },
    {
     "name": "stdout",
     "output_type": "stream",
     "text": [
      "Classifying: Potting inadaquate Potting Inadequate\n",
      "Top label: Foreign Object Damage with confidence score: 0.1910516619682312\n"
     ]
    },
    {
     "name": "stderr",
     "output_type": "stream",
     "text": [
      "\r",
      "Processing on GPU 0:  88%|███████████████████████████████████████████████████████████████████████████████████████████████▏            | 844/957 [03:08<00:25,  4.47it/s]"
     ]
    },
    {
     "name": "stdout",
     "output_type": "stream",
     "text": [
      "Classifying: Disbonding within part Disbonding within part\n",
      "Top label: Core split with confidence score: 0.27321338653564453\n"
     ]
    },
    {
     "name": "stderr",
     "output_type": "stream",
     "text": [
      "\r",
      "Processing on GPU 1:  89%|███████████████████████████████████████████████████████████████████████████████████████████████▉            | 848/955 [03:08<00:23,  4.50it/s]"
     ]
    },
    {
     "name": "stdout",
     "output_type": "stream",
     "text": [
      "Classifying: Porosity NDT Initial Failure\n",
      "Top label: Core split with confidence score: 0.18174977600574493\n"
     ]
    },
    {
     "name": "stderr",
     "output_type": "stream",
     "text": [
      "\r",
      "Processing on GPU 0:  88%|███████████████████████████████████████████████████████████████████████████████████████████████▎            | 845/957 [03:08<00:25,  4.47it/s]"
     ]
    },
    {
     "name": "stdout",
     "output_type": "stream",
     "text": [
      "Classifying: Expired Material Mat. expired within 5 days before AC\n",
      "Top label: Separation noodle joint with confidence score: 0.3033478558063507\n"
     ]
    },
    {
     "name": "stderr",
     "output_type": "stream",
     "text": [
      "\r",
      "Processing on GPU 1:  89%|████████████████████████████████████████████████████████████████████████████████████████████████            | 849/955 [03:09<00:23,  4.51it/s]"
     ]
    },
    {
     "name": "stdout",
     "output_type": "stream",
     "text": [
      "Classifying: Delamination nan\n",
      "Top label: Core split with confidence score: 0.15682920813560486\n"
     ]
    },
    {
     "name": "stderr",
     "output_type": "stream",
     "text": [
      "\r",
      "Processing on GPU 0:  88%|███████████████████████████████████████████████████████████████████████████████████████████████▍            | 846/957 [03:09<00:24,  4.47it/s]"
     ]
    },
    {
     "name": "stdout",
     "output_type": "stream",
     "text": [
      "Classifying: Adhesion missing Core Splice Defect\n",
      "Top label: Separation noodle joint with confidence score: 0.30506935715675354\n"
     ]
    },
    {
     "name": "stderr",
     "output_type": "stream",
     "text": [
      "\r",
      "Processing on GPU 1:  89%|████████████████████████████████████████████████████████████████████████████████████████████████▏           | 850/955 [03:09<00:23,  4.51it/s]"
     ]
    },
    {
     "name": "stdout",
     "output_type": "stream",
     "text": [
      "Classifying: Delamination nan\n",
      "Top label: Core split with confidence score: 0.3969540596008301\n"
     ]
    },
    {
     "name": "stderr",
     "output_type": "stream",
     "text": [
      "\r",
      "Processing on GPU 0:  89%|███████████████████████████████████████████████████████████████████████████████████████████████▌            | 847/957 [03:09<00:24,  4.49it/s]"
     ]
    },
    {
     "name": "stdout",
     "output_type": "stream",
     "text": [
      "Classifying: Dimensions out of Tolerance Dimension of the part not to the drawing\n",
      "Top label: Separation noodle joint with confidence score: 0.30506935715675354\n"
     ]
    },
    {
     "name": "stderr",
     "output_type": "stream",
     "text": [
      "\r",
      "Processing on GPU 1:  89%|████████████████████████████████████████████████████████████████████████████████████████████████▏           | 851/955 [03:09<00:23,  4.50it/s]"
     ]
    },
    {
     "name": "stdout",
     "output_type": "stream",
     "text": [
      "Classifying: Delamination nan\n",
      "Top label: Splice gap with confidence score: 0.2541709244251251\n"
     ]
    },
    {
     "name": "stderr",
     "output_type": "stream",
     "text": [
      "\r",
      "Processing on GPU 0:  89%|███████████████████████████████████████████████████████████████████████████████████████████████▋            | 848/957 [03:09<00:24,  4.49it/s]"
     ]
    },
    {
     "name": "stdout",
     "output_type": "stream",
     "text": [
      "Classifying: Thickness deviation/ size  Thickness OTT\n",
      "Top label: Separation noodle joint with confidence score: 0.30506935715675354\n"
     ]
    },
    {
     "name": "stderr",
     "output_type": "stream",
     "text": [
      "\r",
      "Processing on GPU 1:  89%|████████████████████████████████████████████████████████████████████████████████████████████████▎           | 852/955 [03:09<00:22,  4.50it/s]"
     ]
    },
    {
     "name": "stdout",
     "output_type": "stream",
     "text": [
      "Classifying: Delamination nan\n",
      "Top label: Foreign Object Damage with confidence score: 0.36252260208129883\n"
     ]
    },
    {
     "name": "stderr",
     "output_type": "stream",
     "text": [
      "\r",
      "Processing on GPU 0:  89%|███████████████████████████████████████████████████████████████████████████████████████████████▊            | 849/957 [03:09<00:24,  4.50it/s]"
     ]
    },
    {
     "name": "stdout",
     "output_type": "stream",
     "text": [
      "Classifying: Dimensions out of Tolerance EOC OTT\n",
      "Top label: Separation noodle joint with confidence score: 0.30506935715675354\n"
     ]
    },
    {
     "name": "stderr",
     "output_type": "stream",
     "text": [
      "\r",
      "Processing on GPU 1:  89%|████████████████████████████████████████████████████████████████████████████████████████████████▍           | 853/955 [03:10<00:22,  4.52it/s]"
     ]
    },
    {
     "name": "stdout",
     "output_type": "stream",
     "text": [
      "Classifying: Delamination NDT Initial Failure\n",
      "Top label: Foreign Object Damage with confidence score: 0.2313748449087143\n"
     ]
    },
    {
     "name": "stderr",
     "output_type": "stream",
     "text": [
      "\r",
      "Processing on GPU 0:  89%|███████████████████████████████████████████████████████████████████████████████████████████████▉            | 850/957 [03:10<00:23,  4.46it/s]"
     ]
    },
    {
     "name": "stdout",
     "output_type": "stream",
     "text": [
      "Classifying: Depression surface depression\n",
      "Top label: Separation noodle joint with confidence score: 0.23277020454406738\n"
     ]
    },
    {
     "name": "stderr",
     "output_type": "stream",
     "text": [
      "\r",
      "Processing on GPU 1:  89%|████████████████████████████████████████████████████████████████████████████████████████████████▌           | 854/955 [03:10<00:22,  4.52it/s]"
     ]
    },
    {
     "name": "stdout",
     "output_type": "stream",
     "text": [
      "Classifying: Dents Over Splice Lines Dents Over Splice Lines\n",
      "Top label: Core crash with confidence score: 0.20049549639225006\n"
     ]
    },
    {
     "name": "stderr",
     "output_type": "stream",
     "text": [
      "\r",
      "Processing on GPU 0:  89%|████████████████████████████████████████████████████████████████████████████████████████████████            | 851/957 [03:10<00:23,  4.46it/s]"
     ]
    },
    {
     "name": "stdout",
     "output_type": "stream",
     "text": [
      "Classifying: Honeycomb geometry core sag\n",
      "Top label: Splice gap with confidence score: 0.40782609581947327\n"
     ]
    },
    {
     "name": "stderr",
     "output_type": "stream",
     "text": [
      "\r",
      "Processing on GPU 1:  90%|████████████████████████████████████████████████████████████████████████████████████████████████▋           | 855/955 [03:10<00:22,  4.48it/s]"
     ]
    },
    {
     "name": "stdout",
     "output_type": "stream",
     "text": [
      "Classifying: Surface Appearance not acceptable Core Dent\n",
      "Top label: Core displacement with confidence score: 0.3283674120903015\n"
     ]
    },
    {
     "name": "stderr",
     "output_type": "stream",
     "text": [
      "\r",
      "Processing on GPU 0:  89%|████████████████████████████████████████████████████████████████████████████████████████████████▏           | 852/957 [03:10<00:23,  4.51it/s]"
     ]
    },
    {
     "name": "stdout",
     "output_type": "stream",
     "text": [
      "Classifying: Ply orientation Bronzemesh orientation\n",
      "Top label: Core deformation with confidence score: 0.6851826310157776\n"
     ]
    },
    {
     "name": "stderr",
     "output_type": "stream",
     "text": [
      "\r",
      "Processing on GPU 1:  90%|████████████████████████████████████████████████████████████████████████████████████████████████▊           | 856/955 [03:10<00:22,  4.49it/s]"
     ]
    },
    {
     "name": "stdout",
     "output_type": "stream",
     "text": [
      "Classifying: Dimensional Deviation Dimension out of Tolerance\n",
      "Top label: Foreign Object Damage with confidence score: 0.2566763460636139\n"
     ]
    },
    {
     "name": "stderr",
     "output_type": "stream",
     "text": [
      "\r",
      "Processing on GPU 0:  89%|████████████████████████████████████████████████████████████████████████████████████████████████▎           | 853/957 [03:10<00:23,  4.51it/s]"
     ]
    },
    {
     "name": "stdout",
     "output_type": "stream",
     "text": [
      "Classifying: Depression Surface Depressions\n",
      "Top label: Splice gap with confidence score: 0.2545115351676941\n"
     ]
    },
    {
     "name": "stderr",
     "output_type": "stream",
     "text": [
      "\r",
      "Processing on GPU 1:  90%|████████████████████████████████████████████████████████████████████████████████████████████████▉           | 857/955 [03:10<00:21,  4.47it/s]"
     ]
    },
    {
     "name": "stdout",
     "output_type": "stream",
     "text": [
      "Classifying: Chips / F.O.D. Damage metal piece observed on visual insepctio\n",
      "Top label: Core split with confidence score: 0.19202324748039246\n"
     ]
    },
    {
     "name": "stderr",
     "output_type": "stream",
     "text": [
      "\r",
      "Processing on GPU 0:  89%|████████████████████████████████████████████████████████████████████████████████████████████████▍           | 854/957 [03:10<00:22,  4.51it/s]"
     ]
    },
    {
     "name": "stdout",
     "output_type": "stream",
     "text": [
      "Classifying: Inclusion  Unidentified defect\n",
      "Top label: Foreign Object Damage with confidence score: 0.8812756538391113\n"
     ]
    },
    {
     "name": "stderr",
     "output_type": "stream",
     "text": [
      "\r",
      "Processing on GPU 1:  90%|█████████████████████████████████████████████████████████████████████████████████████████████████           | 858/955 [03:11<00:21,  4.46it/s]"
     ]
    },
    {
     "name": "stdout",
     "output_type": "stream",
     "text": [
      "Classifying: Porosity VOLUMETRIC POROSITY BEYOND ACC. LIMIT\n",
      "Top label: Foreign Object Damage with confidence score: 0.23197464644908905\n"
     ]
    },
    {
     "name": "stderr",
     "output_type": "stream",
     "text": [
      "\r",
      "Processing on GPU 0:  89%|████████████████████████████████████████████████████████████████████████████████████████████████▍           | 855/957 [03:11<00:22,  4.49it/s]"
     ]
    },
    {
     "name": "stdout",
     "output_type": "stream",
     "text": [
      "Classifying: Curing Pressure Pressure drop\n",
      "Top label: Core displacement with confidence score: 0.20531266927719116\n"
     ]
    },
    {
     "name": "stderr",
     "output_type": "stream",
     "text": [
      "\r",
      "Processing on GPU 1:  90%|█████████████████████████████████████████████████████████████████████████████████████████████████▏          | 859/955 [03:11<00:21,  4.45it/s]"
     ]
    },
    {
     "name": "stdout",
     "output_type": "stream",
     "text": [
      "Classifying: Autoclave Automatically Stopped autoclave automatically stopped\n",
      "Top label: Core displacement with confidence score: 0.18245327472686768\n"
     ]
    },
    {
     "name": "stderr",
     "output_type": "stream",
     "text": [
      "\r",
      "Processing on GPU 0:  89%|████████████████████████████████████████████████████████████████████████████████████████████████▌           | 856/957 [03:11<00:22,  4.57it/s]"
     ]
    },
    {
     "name": "stdout",
     "output_type": "stream",
     "text": [
      "Classifying: Curing Temperature/Measurement temperature drop\n",
      "Top label: Resin buildup with confidence score: 0.1577049195766449\n"
     ]
    },
    {
     "name": "stderr",
     "output_type": "stream",
     "text": [
      "\r",
      "Processing on GPU 1:  90%|█████████████████████████████████████████████████████████████████████████████████████████████████▎          | 860/955 [03:11<00:21,  4.38it/s]"
     ]
    },
    {
     "name": "stdout",
     "output_type": "stream",
     "text": [
      "Classifying: Disbond NDT Initial Failure\n",
      "Top label: Core displacement with confidence score: 0.1976749449968338\n"
     ]
    },
    {
     "name": "stderr",
     "output_type": "stream",
     "text": [
      "\r",
      "Processing on GPU 0:  90%|████████████████████████████████████████████████████████████████████████████████████████████████▋           | 857/957 [03:11<00:21,  4.57it/s]"
     ]
    },
    {
     "name": "stdout",
     "output_type": "stream",
     "text": [
      "Classifying: Curing Pressure Pressure drop\n",
      "Top label: Core deformation with confidence score: 0.19701813161373138\n"
     ]
    },
    {
     "name": "stderr",
     "output_type": "stream",
     "text": [
      "\r",
      "Processing on GPU 1:  90%|█████████████████████████████████████████████████████████████████████████████████████████████████▎          | 861/955 [03:11<00:21,  4.43it/s]"
     ]
    },
    {
     "name": "stdout",
     "output_type": "stream",
     "text": [
      "Classifying: Core Damage, Torn Nodal Joints Core defect\n",
      "Top label: Core displacement with confidence score: 0.18245327472686768\n"
     ]
    },
    {
     "name": "stderr",
     "output_type": "stream",
     "text": [
      "\r",
      "Processing on GPU 0:  90%|████████████████████████████████████████████████████████████████████████████████████████████████▊           | 858/957 [03:11<00:21,  4.54it/s]"
     ]
    },
    {
     "name": "stdout",
     "output_type": "stream",
     "text": [
      "Classifying: Curing Temperature/Measurement temperature drop\n",
      "Top label: Core deformation with confidence score: 0.6720932126045227\n"
     ]
    },
    {
     "name": "stderr",
     "output_type": "stream",
     "text": [
      "\r",
      "Processing on GPU 1:  90%|█████████████████████████████████████████████████████████████████████████████████████████████████▍          | 862/955 [03:12<00:21,  4.41it/s]"
     ]
    },
    {
     "name": "stdout",
     "output_type": "stream",
     "text": [
      "Classifying: Tool Discrepancies Not Assignable Attenuation out of tolerance\n",
      "Top label: Core displacement with confidence score: 0.1976749449968338\n"
     ]
    },
    {
     "name": "stderr",
     "output_type": "stream",
     "text": [
      "\r",
      "Processing on GPU 0:  90%|████████████████████████████████████████████████████████████████████████████████████████████████▉           | 859/957 [03:12<00:21,  4.55it/s]"
     ]
    },
    {
     "name": "stdout",
     "output_type": "stream",
     "text": [
      "Classifying: Surface defects See LT\n",
      "Top label: Core displacement with confidence score: 0.2064240574836731\n"
     ]
    },
    {
     "name": "stderr",
     "output_type": "stream",
     "text": [
      "\r",
      "Processing on GPU 1:  90%|█████████████████████████████████████████████████████████████████████████████████████████████████▌          | 863/955 [03:12<00:20,  4.44it/s]"
     ]
    },
    {
     "name": "stdout",
     "output_type": "stream",
     "text": [
      "Classifying: Dents Over Splice Lines Dent over splice line\n",
      "Top label: Core split with confidence score: 0.15962018072605133\n"
     ]
    },
    {
     "name": "stderr",
     "output_type": "stream",
     "text": [
      "\r",
      "Processing on GPU 0:  90%|█████████████████████████████████████████████████████████████████████████████████████████████████           | 860/957 [03:12<00:21,  4.54it/s]"
     ]
    },
    {
     "name": "stdout",
     "output_type": "stream",
     "text": [
      "Classifying: Disbonding within part Disbonding within part\n",
      "Top label: Splice gap with confidence score: 0.3017521798610687\n"
     ]
    },
    {
     "name": "stderr",
     "output_type": "stream",
     "text": [
      "\r",
      "Processing on GPU 1:  90%|█████████████████████████████████████████████████████████████████████████████████████████████████▋          | 864/955 [03:12<00:20,  4.46it/s]"
     ]
    },
    {
     "name": "stdout",
     "output_type": "stream",
     "text": [
      "Classifying: Delamination Delamination\n",
      "Top label: Core split with confidence score: 0.18174977600574493\n"
     ]
    },
    {
     "name": "stderr",
     "output_type": "stream",
     "text": [
      "\r",
      "Processing on GPU 0:  90%|█████████████████████████████████████████████████████████████████████████████████████████████████▏          | 861/957 [03:12<00:21,  4.53it/s]"
     ]
    },
    {
     "name": "stdout",
     "output_type": "stream",
     "text": [
      "Classifying: Shape geometry deviating core don't match with laser projection\n",
      "Top label: Resin buildup with confidence score: 0.28864264488220215\n"
     ]
    },
    {
     "name": "stderr",
     "output_type": "stream",
     "text": [
      "\r",
      "Processing on GPU 1:  91%|█████████████████████████████████████████████████████████████████████████████████████████████████▊          | 865/955 [03:12<00:20,  4.44it/s]"
     ]
    },
    {
     "name": "stdout",
     "output_type": "stream",
     "text": [
      "Classifying: Disbond Disbond\n",
      "Top label: Core deformation with confidence score: 0.4863770306110382\n"
     ]
    },
    {
     "name": "stderr",
     "output_type": "stream",
     "text": [
      "\r",
      "Processing on GPU 0:  90%|█████████████████████████████████████████████████████████████████████████████████████████████████▎          | 862/957 [03:12<00:20,  4.54it/s]"
     ]
    },
    {
     "name": "stdout",
     "output_type": "stream",
     "text": [
      "Classifying: Expired Material Material Expired due to AC schedule\n",
      "Top label: Core split with confidence score: 0.2206205129623413\n"
     ]
    },
    {
     "name": "stderr",
     "output_type": "stream",
     "text": [
      "\r",
      "Processing on GPU 1:  91%|█████████████████████████████████████████████████████████████████████████████████████████████████▉          | 866/955 [03:12<00:19,  4.46it/s]"
     ]
    },
    {
     "name": "stdout",
     "output_type": "stream",
     "text": [
      "Classifying: Resin Starvation Lack of resin\n",
      "Top label: Core displacement with confidence score: 0.16147950291633606\n"
     ]
    },
    {
     "name": "stderr",
     "output_type": "stream",
     "text": [
      "\r",
      "Processing on GPU 0:  90%|█████████████████████████████████████████████████████████████████████████████████████████████████▍          | 863/957 [03:12<00:20,  4.53it/s]"
     ]
    },
    {
     "name": "stdout",
     "output_type": "stream",
     "text": [
      "Classifying: Honeycomb geometry Core Sag\n",
      "Top label: Core deformation with confidence score: 0.5280296802520752Top label: Splice gap with confidence score: 0.18654128909111023\n",
      "\n"
     ]
    },
    {
     "name": "stderr",
     "output_type": "stream",
     "text": [
      "Processing on GPU 1:  91%|██████████████████████████████████████████████████████████████████████████████████████████████████          | 867/955 [03:13<00:19,  4.45it/s]"
     ]
    },
    {
     "name": "stdout",
     "output_type": "stream",
     "text": [
      "Classifying: Delamination Composite Manufacturing NDT Initial FailureClassifying: Core Damage, Torn Nodal Joints torn nadal joints\n",
      "\n",
      "Top label: Resin buildup with confidence score: 0.3112137019634247Top label: Core deformation with confidence score: 0.6946016550064087\n",
      "\n"
     ]
    },
    {
     "name": "stderr",
     "output_type": "stream",
     "text": [
      "Processing on GPU 1:  91%|██████████████████████████████████████████████████████████████████████████████████████████████████▏         | 868/955 [03:13<00:19,  4.46it/s]"
     ]
    },
    {
     "name": "stdout",
     "output_type": "stream",
     "text": [
      "Classifying: Delamination Composite Manufacturing DelaminationClassifying: Porosity VOLUMETRIC POROSITY BEYOND ACC. LIMIT\n",
      "\n",
      "Top label: Resin buildup with confidence score: 0.21785829961299896\n",
      "Top label: Core displacement with confidence score: 0.20531266927719116"
     ]
    },
    {
     "name": "stderr",
     "output_type": "stream",
     "text": [
      "\r",
      "Processing on GPU 0:  90%|█████████████████████████████████████████████████████████████████████████████████████████████████▋          | 866/957 [03:13<00:20,  4.50it/s]"
     ]
    },
    {
     "name": "stdout",
     "output_type": "stream",
     "text": [
      "\n"
     ]
    },
    {
     "name": "stderr",
     "output_type": "stream",
     "text": [
      "\r",
      "Processing on GPU 1:  91%|██████████████████████████████████████████████████████████████████████████████████████████████████▎         | 869/955 [03:13<00:19,  4.45it/s]"
     ]
    },
    {
     "name": "stdout",
     "output_type": "stream",
     "text": [
      "Classifying: Disbonding within part Disbonding within partClassifying: Autoclave Hose Failure vacuum leak during cure\n",
      "\n",
      "Top label: Core split with confidence score: 0.18174977600574493\n",
      "Top label: Foreign Object Damage with confidence score: 0.16999387741088867"
     ]
    },
    {
     "name": "stderr",
     "output_type": "stream",
     "text": [
      "\r",
      "Processing on GPU 0:  91%|█████████████████████████████████████████████████████████████████████████████████████████████████▊          | 867/957 [03:13<00:20,  4.49it/s]"
     ]
    },
    {
     "name": "stdout",
     "output_type": "stream",
     "text": [
      "\n",
      "Classifying: Wrinkles Wrinkles\n"
     ]
    },
    {
     "name": "stderr",
     "output_type": "stream",
     "text": [
      "\r",
      "Processing on GPU 1:  91%|██████████████████████████████████████████████████████████████████████████████████████████████████▍         | 870/955 [03:13<00:19,  4.45it/s]"
     ]
    },
    {
     "name": "stdout",
     "output_type": "stream",
     "text": [
      "Classifying: Tool Out Of Tolerance (Dimension) CNC probing out of tolerance\n",
      "Top label: Resin buildup with confidence score: 0.1902356743812561\n"
     ]
    },
    {
     "name": "stderr",
     "output_type": "stream",
     "text": [
      "\r",
      "Processing on GPU 0:  91%|█████████████████████████████████████████████████████████████████████████████████████████████████▉          | 868/957 [03:14<00:19,  4.50it/s]"
     ]
    },
    {
     "name": "stdout",
     "output_type": "stream",
     "text": [
      "Classifying: Surface defects Dents Over Splice Lines\n",
      "Top label: Core displacement with confidence score: 0.1880737543106079\n"
     ]
    },
    {
     "name": "stderr",
     "output_type": "stream",
     "text": [
      "\r",
      "Processing on GPU 1:  91%|██████████████████████████████████████████████████████████████████████████████████████████████████▌         | 871/955 [03:14<00:18,  4.44it/s]"
     ]
    },
    {
     "name": "stdout",
     "output_type": "stream",
     "text": [
      "Classifying: Disbond NDT Initial Failure\n",
      "Top label: Splice gap with confidence score: 0.572715163230896\n"
     ]
    },
    {
     "name": "stderr",
     "output_type": "stream",
     "text": [
      "\r",
      "Processing on GPU 0:  91%|██████████████████████████████████████████████████████████████████████████████████████████████████          | 869/957 [03:14<00:19,  4.50it/s]"
     ]
    },
    {
     "name": "stdout",
     "output_type": "stream",
     "text": [
      "Classifying: Honeycomb geometry nan\n",
      "Top label: Core deformation with confidence score: 0.19701813161373138\n"
     ]
    },
    {
     "name": "stderr",
     "output_type": "stream",
     "text": [
      "\r",
      "Processing on GPU 1:  91%|██████████████████████████████████████████████████████████████████████████████████████████████████▌         | 872/955 [03:14<00:18,  4.45it/s]"
     ]
    },
    {
     "name": "stdout",
     "output_type": "stream",
     "text": [
      "Classifying: Disbond NDT  Second failure\n",
      "Top label: Foreign Object Damage with confidence score: 0.16466893255710602Top label: Separation noodle joint with confidence score: 0.25766193866729736\n",
      "\n"
     ]
    },
    {
     "name": "stderr",
     "output_type": "stream",
     "text": [
      "Processing on GPU 1:  91%|██████████████████████████████████████████████████████████████████████████████████████████████████▋         | 873/955 [03:14<00:18,  4.49it/s]"
     ]
    },
    {
     "name": "stdout",
     "output_type": "stream",
     "text": [
      "Classifying: Expired Material Material ExpiredClassifying: Delamination CORE DEFECTS(Disbond) & Delamination\n",
      "\n",
      "Top label: Core deformation with confidence score: 0.15113741159439087Top label: Core deformation with confidence score: 0.4547182321548462\n",
      "\n"
     ]
    },
    {
     "name": "stderr",
     "output_type": "stream",
     "text": [
      "Processing on GPU 0:  91%|██████████████████████████████████████████████████████████████████████████████████████████████████▎         | 871/957 [03:14<00:19,  4.46it/s]"
     ]
    },
    {
     "name": "stdout",
     "output_type": "stream",
     "text": [
      "Classifying: Defect Detected On Incoming Inspection dents on the partClassifying: Material Missing or Incorrect positioned Core Splice Defect (Material Missing)\n",
      "\n",
      "Top label: Separation noodle joint with confidence score: 0.25629839301109314\n"
     ]
    },
    {
     "name": "stderr",
     "output_type": "stream",
     "text": [
      "\r",
      "Processing on GPU 1:  92%|██████████████████████████████████████████████████████████████████████████████████████████████████▉         | 875/955 [03:14<00:17,  4.48it/s]"
     ]
    },
    {
     "name": "stdout",
     "output_type": "stream",
     "text": [
      "Top label: Core split with confidence score: 0.3939942717552185Classifying: Core Damage, Torn Nodal Joints torn nodal joints\n",
      "\n"
     ]
    },
    {
     "name": "stderr",
     "output_type": "stream",
     "text": [
      "\r",
      "Processing on GPU 0:  91%|██████████████████████████████████████████████████████████████████████████████████████████████████▍         | 872/957 [03:14<00:19,  4.45it/s]"
     ]
    },
    {
     "name": "stdout",
     "output_type": "stream",
     "text": [
      "Classifying: Adhesion missing Core Splice Defect\n",
      "Top label: Core deformation with confidence score: 0.6960847973823547\n"
     ]
    },
    {
     "name": "stderr",
     "output_type": "stream",
     "text": [
      "\r",
      "Processing on GPU 1:  92%|███████████████████████████████████████████████████████████████████████████████████████████████████         | 876/955 [03:15<00:17,  4.48it/s]"
     ]
    },
    {
     "name": "stdout",
     "output_type": "stream",
     "text": [
      "Top label: Core split with confidence score: 0.3969540596008301Classifying: Rejectable Ultrasonic Inspection Indicat Attenuation out of tolerance\n",
      "\n"
     ]
    },
    {
     "name": "stderr",
     "output_type": "stream",
     "text": [
      "\r",
      "Processing on GPU 0:  91%|██████████████████████████████████████████████████████████████████████████████████████████████████▌         | 873/957 [03:15<00:18,  4.45it/s]"
     ]
    },
    {
     "name": "stdout",
     "output_type": "stream",
     "text": [
      "Classifying: Curing Vacuum Vacuum leak during cycle\n",
      "Top label: Core split with confidence score: 0.24638956785202026\n",
      "Top label: Core displacement with confidence score: 0.19069309532642365\n"
     ]
    },
    {
     "name": "stderr",
     "output_type": "stream",
     "text": [
      "Processing on GPU 0:  91%|██████████████████████████████████████████████████████████████████████████████████████████████████▋         | 874/957 [03:15<00:18,  4.47it/s]"
     ]
    },
    {
     "name": "stdout",
     "output_type": "stream",
     "text": [
      "Classifying: Cert / Test Report Missing / Incomplete ILSS AND DRUM Peel RESULT NOT COMPLETEDClassifying: Wrinkles Wrinkles\n",
      "\n",
      "Top label: Resin buildup with confidence score: 0.1902356743812561Top label: Splice gap with confidence score: 0.31636640429496765\n",
      "\n"
     ]
    },
    {
     "name": "stderr",
     "output_type": "stream",
     "text": [
      "Processing on GPU 0:  91%|██████████████████████████████████████████████████████████████████████████████████████████████████▋         | 875/957 [03:15<00:18,  4.47it/s]"
     ]
    },
    {
     "name": "stdout",
     "output_type": "stream",
     "text": [
      "Classifying: Imprint on Surface Dent Core DentClassifying: Depression Depressions along splice line\n",
      "\n",
      "Top label: Splice gap with confidence score: 0.24844005703926086Top label: Core deformation with confidence score: 0.4703635573387146\n",
      "\n"
     ]
    },
    {
     "name": "stderr",
     "output_type": "stream",
     "text": [
      "\r",
      "Processing on GPU 0:  92%|██████████████████████████████████████████████████████████████████████████████████████████████████▊         | 876/957 [03:15<00:18,  4.46it/s]"
     ]
    },
    {
     "name": "stdout",
     "output_type": "stream",
     "text": [
      "Classifying: Curing Vacuum Vacuum leak during cycle"
     ]
    },
    {
     "name": "stderr",
     "output_type": "stream",
     "text": [
      "\r",
      "Processing on GPU 1:  92%|███████████████████████████████████████████████████████████████████████████████████████████████████▍        | 879/955 [03:15<00:17,  4.45it/s]"
     ]
    },
    {
     "name": "stdout",
     "output_type": "stream",
     "text": [
      "\n",
      "Classifying: Core Step Core Step\n",
      "Top label: Core displacement with confidence score: 0.19069309532642365\n",
      "Top label: Core split with confidence score: 0.5320346355438232\n"
     ]
    },
    {
     "name": "stderr",
     "output_type": "stream",
     "text": [
      "\r",
      "Processing on GPU 0:  92%|██████████████████████████████████████████████████████████████████████████████████████████████████▉         | 877/957 [03:16<00:17,  4.46it/s]"
     ]
    },
    {
     "name": "stdout",
     "output_type": "stream",
     "text": [
      "Classifying: Impact impact damage"
     ]
    },
    {
     "name": "stderr",
     "output_type": "stream",
     "text": [
      "\r",
      "Processing on GPU 1:  92%|███████████████████████████████████████████████████████████████████████████████████████████████████▌        | 880/955 [03:16<00:16,  4.45it/s]"
     ]
    },
    {
     "name": "stdout",
     "output_type": "stream",
     "text": [
      "\n",
      "Classifying: Dents Over Splice Lines Dent over splice line\n",
      "Top label: Foreign Object Damage with confidence score: 0.1884203851222992\n"
     ]
    },
    {
     "name": "stderr",
     "output_type": "stream",
     "text": [
      "\r",
      "Processing on GPU 0:  92%|███████████████████████████████████████████████████████████████████████████████████████████████████         | 878/957 [03:16<00:17,  4.46it/s]"
     ]
    },
    {
     "name": "stdout",
     "output_type": "stream",
     "text": [
      "Classifying: Not sufficient flatness Top Cover Plies were cut during Lay UpTop label: Splice gap with confidence score: 0.3017521798610687\n",
      "\n"
     ]
    },
    {
     "name": "stderr",
     "output_type": "stream",
     "text": [
      "\r",
      "Processing on GPU 1:  92%|███████████████████████████████████████████████████████████████████████████████████████████████████▋        | 881/955 [03:16<00:16,  4.42it/s]"
     ]
    },
    {
     "name": "stdout",
     "output_type": "stream",
     "text": [
      "Classifying: Foreign Objects in Parts Foreign Objects in Part\n",
      "Top label: Core displacement with confidence score: 0.23090970516204834\n"
     ]
    },
    {
     "name": "stderr",
     "output_type": "stream",
     "text": [
      "\r",
      "Processing on GPU 0:  92%|███████████████████████████████████████████████████████████████████████████████████████████████████▏        | 879/957 [03:16<00:17,  4.46it/s]"
     ]
    },
    {
     "name": "stdout",
     "output_type": "stream",
     "text": [
      "Top label: Foreign Object Damage with confidence score: 0.5173937082290649Classifying: Not sufficient flatness Top Cover Plies were cut during Lay Up\n",
      "\n"
     ]
    },
    {
     "name": "stderr",
     "output_type": "stream",
     "text": [
      "\r",
      "Processing on GPU 1:  92%|███████████████████████████████████████████████████████████████████████████████████████████████████▋        | 882/955 [03:16<00:16,  4.45it/s]"
     ]
    },
    {
     "name": "stdout",
     "output_type": "stream",
     "text": [
      "Classifying: Foreign Objects in Parts FOD found After repair also\n",
      "Top label: Core displacement with confidence score: 0.23090970516204834\n"
     ]
    },
    {
     "name": "stderr",
     "output_type": "stream",
     "text": [
      "\r",
      "Processing on GPU 0:  92%|███████████████████████████████████████████████████████████████████████████████████████████████████▎        | 880/957 [03:16<00:17,  4.46it/s]"
     ]
    },
    {
     "name": "stdout",
     "output_type": "stream",
     "text": [
      "Classifying: Trimming glass issueTop label: Foreign Object Damage with confidence score: 0.8921687006950378\n",
      "\n"
     ]
    },
    {
     "name": "stderr",
     "output_type": "stream",
     "text": [
      "\r",
      "Processing on GPU 1:  92%|███████████████████████████████████████████████████████████████████████████████████████████████████▊        | 883/955 [03:16<00:16,  4.46it/s]"
     ]
    },
    {
     "name": "stdout",
     "output_type": "stream",
     "text": [
      "Classifying: Hole in Bag Vacuum leak during cycle.\n",
      "Top label: Foreign Object Damage with confidence score: 0.21789556741714478\n",
      "Top label: Foreign Object Damage with confidence score: 0.3416535556316376"
     ]
    },
    {
     "name": "stderr",
     "output_type": "stream",
     "text": [
      "\r",
      "Processing on GPU 1:  93%|███████████████████████████████████████████████████████████████████████████████████████████████████▉        | 884/955 [03:16<00:15,  4.48it/s]"
     ]
    },
    {
     "name": "stdout",
     "output_type": "stream",
     "text": [
      "\n",
      "Classifying: Lay-Up Error Blocked vaccum port\n"
     ]
    },
    {
     "name": "stderr",
     "output_type": "stream",
     "text": [
      "\r",
      "Processing on GPU 0:  92%|███████████████████████████████████████████████████████████████████████████████████████████████████▍        | 881/957 [03:16<00:17,  4.45it/s]"
     ]
    },
    {
     "name": "stdout",
     "output_type": "stream",
     "text": [
      "Classifying: Delamination G3 Delamination iin Upper panel\n",
      "Top label: Foreign Object Damage with confidence score: 0.37261027097702026\n"
     ]
    },
    {
     "name": "stderr",
     "output_type": "stream",
     "text": [
      "\r",
      "Processing on GPU 1:  93%|████████████████████████████████████████████████████████████████████████████████████████████████████        | 885/955 [03:17<00:15,  4.48it/s]"
     ]
    },
    {
     "name": "stdout",
     "output_type": "stream",
     "text": [
      "Top label: Core split with confidence score: 0.18435555696487427Classifying: Porosity Layer Porosity\n",
      "\n"
     ]
    },
    {
     "name": "stderr",
     "output_type": "stream",
     "text": [
      "\r",
      "Processing on GPU 0:  92%|███████████████████████████████████████████████████████████████████████████████████████████████████▌        | 882/957 [03:17<00:16,  4.46it/s]"
     ]
    },
    {
     "name": "stdout",
     "output_type": "stream",
     "text": [
      "Classifying: Countersink G3 Deep countersink\n",
      "Top label: Core deformation with confidence score: 0.16270776093006134\n"
     ]
    },
    {
     "name": "stderr",
     "output_type": "stream",
     "text": [
      "\r",
      "Processing on GPU 1:  93%|████████████████████████████████████████████████████████████████████████████████████████████████████▏       | 886/955 [03:17<00:15,  4.52it/s]"
     ]
    },
    {
     "name": "stdout",
     "output_type": "stream",
     "text": [
      "Classifying: Disbond Disbond\n",
      "Top label: Core displacement with confidence score: 0.23816439509391785\n"
     ]
    },
    {
     "name": "stderr",
     "output_type": "stream",
     "text": [
      "\r",
      "Processing on GPU 0:  92%|███████████████████████████████████████████████████████████████████████████████████████████████████▋        | 883/957 [03:17<00:16,  4.41it/s]"
     ]
    },
    {
     "name": "stdout",
     "output_type": "stream",
     "text": [
      "Classifying: Flushness Out Of Tolerance G3 Hoist fitting Mismatch\n",
      "Top label: Core split with confidence score: 0.2206205129623413\n"
     ]
    },
    {
     "name": "stderr",
     "output_type": "stream",
     "text": [
      "\r",
      "Processing on GPU 1:  93%|████████████████████████████████████████████████████████████████████████████████████████████████████▎       | 887/955 [03:17<00:15,  4.52it/s]"
     ]
    },
    {
     "name": "stdout",
     "output_type": "stream",
     "text": [
      "Classifying: Imprint on Surface Dent Core Dent\n",
      "Top label: Core split with confidence score: 0.17662829160690308\n"
     ]
    },
    {
     "name": "stderr",
     "output_type": "stream",
     "text": [
      "\r",
      "Processing on GPU 0:  92%|███████████████████████████████████████████████████████████████████████████████████████████████████▊        | 884/957 [03:17<00:16,  4.44it/s]"
     ]
    },
    {
     "name": "stdout",
     "output_type": "stream",
     "text": [
      "Classifying: Wrinkle WRINKLE\n",
      "Top label: Core deformation with confidence score: 0.4703635573387146\n"
     ]
    },
    {
     "name": "stderr",
     "output_type": "stream",
     "text": [
      "\r",
      "Processing on GPU 1:  93%|████████████████████████████████████████████████████████████████████████████████████████████████████▍       | 888/955 [03:17<00:14,  4.51it/s]"
     ]
    },
    {
     "name": "stdout",
     "output_type": "stream",
     "text": [
      "Classifying: Porosity Layer Porosity\n",
      "Top label: Separation noodle joint with confidence score: 0.18516074120998383\n"
     ]
    },
    {
     "name": "stderr",
     "output_type": "stream",
     "text": [
      "\r",
      "Processing on GPU 0:  92%|███████████████████████████████████████████████████████████████████████████████████████████████████▊        | 885/957 [03:17<00:16,  4.48it/s]"
     ]
    },
    {
     "name": "stdout",
     "output_type": "stream",
     "text": [
      "Classifying: Imprint on Surface Dent Core Dent\n",
      "Top label: Core deformation with confidence score: 0.16270776093006134\n"
     ]
    },
    {
     "name": "stderr",
     "output_type": "stream",
     "text": [
      "\r",
      "Processing on GPU 1:  93%|████████████████████████████████████████████████████████████████████████████████████████████████████▌       | 889/955 [03:18<00:14,  4.50it/s]"
     ]
    },
    {
     "name": "stdout",
     "output_type": "stream",
     "text": [
      "Classifying: Core Damage, Torn Nodal Joints Core defect\n",
      "Top label: Core deformation with confidence score: 0.4703635573387146\n"
     ]
    },
    {
     "name": "stderr",
     "output_type": "stream",
     "text": [
      "\r",
      "Processing on GPU 0:  93%|███████████████████████████████████████████████████████████████████████████████████████████████████▉        | 886/957 [03:18<00:15,  4.47it/s]"
     ]
    },
    {
     "name": "stdout",
     "output_type": "stream",
     "text": [
      "Classifying: Ply Wrinkle WRINKLE\n",
      "Top label: Core deformation with confidence score: 0.6720932126045227\n"
     ]
    },
    {
     "name": "stderr",
     "output_type": "stream",
     "text": [
      "\r",
      "Processing on GPU 1:  93%|████████████████████████████████████████████████████████████████████████████████████████████████████▋       | 890/955 [03:18<00:14,  4.51it/s]"
     ]
    },
    {
     "name": "stdout",
     "output_type": "stream",
     "text": [
      "Classifying: Dents Over Splice Lines Dent over splice line\n",
      "Top label: Foreign Object Damage with confidence score: 0.23176859319210052\n"
     ]
    },
    {
     "name": "stderr",
     "output_type": "stream",
     "text": [
      "\r",
      "Processing on GPU 0:  93%|████████████████████████████████████████████████████████████████████████████████████████████████████        | 887/957 [03:18<00:15,  4.51it/s]"
     ]
    },
    {
     "name": "stdout",
     "output_type": "stream",
     "text": [
      "Classifying: Imprint on Surface Dent Surface defect\n",
      "Top label: Splice gap with confidence score: 0.3017521798610687Top label: Splice gap with confidence score: 0.2084568440914154\n",
      "\n"
     ]
    },
    {
     "name": "stderr",
     "output_type": "stream",
     "text": [
      "Processing on GPU 0:  93%|████████████████████████████████████████████████████████████████████████████████████████████████████▏       | 888/957 [03:18<00:15,  4.52it/s]"
     ]
    },
    {
     "name": "stdout",
     "output_type": "stream",
     "text": [
      "Classifying: Core Damage, Torn Nodal Joints Core crackClassifying: Disbond Disbond\n",
      "\n",
      "Top label: Core deformation with confidence score: 0.5574743747711182Top label: Core split with confidence score: 0.2206205129623413\n",
      "\n"
     ]
    },
    {
     "name": "stderr",
     "output_type": "stream",
     "text": [
      "Processing on GPU 0:  93%|████████████████████████████████████████████████████████████████████████████████████████████████████▎       | 889/957 [03:18<00:15,  4.51it/s]"
     ]
    },
    {
     "name": "stdout",
     "output_type": "stream",
     "text": [
      "Classifying: Rejectable Ultrasonic Inspection Indicat Unidentified DefectClassifying: Delamination Delamination\n",
      "\n",
      "Top label: Core deformation with confidence score: 0.16520659625530243\n"
     ]
    },
    {
     "name": "stderr",
     "output_type": "stream",
     "text": [
      "\r",
      "Processing on GPU 0:  93%|████████████████████████████████████████████████████████████████████████████████████████████████████▍       | 890/957 [03:18<00:14,  4.50it/s]"
     ]
    },
    {
     "name": "stdout",
     "output_type": "stream",
     "text": [
      "Top label: Resin buildup with confidence score: 0.28864264488220215Classifying: Delamination Delamination\n",
      "\n"
     ]
    },
    {
     "name": "stderr",
     "output_type": "stream",
     "text": [
      "\r",
      "Processing on GPU 1:  94%|████████████████████████████████████████████████████████████████████████████████████████████████████▉       | 893/955 [03:18<00:13,  4.44it/s]"
     ]
    },
    {
     "name": "stdout",
     "output_type": "stream",
     "text": [
      "Classifying: Porosity Volumetric  Porosity\n",
      "Top label: Resin buildup with confidence score: 0.28864264488220215\n"
     ]
    },
    {
     "name": "stderr",
     "output_type": "stream",
     "text": [
      "\r",
      "Processing on GPU 0:  93%|████████████████████████████████████████████████████████████████████████████████████████████████████▌       | 891/957 [03:19<00:14,  4.49it/s]"
     ]
    },
    {
     "name": "stdout",
     "output_type": "stream",
     "text": [
      "Classifying: Wrinkle WRINKLE\n",
      "Top label: Core displacement with confidence score: 0.19264408946037292\n"
     ]
    },
    {
     "name": "stderr",
     "output_type": "stream",
     "text": [
      "\r",
      "Processing on GPU 1:  94%|█████████████████████████████████████████████████████████████████████████████████████████████████████       | 894/955 [03:19<00:13,  4.44it/s]"
     ]
    },
    {
     "name": "stdout",
     "output_type": "stream",
     "text": [
      "Classifying: Delamination Delamination\n",
      "Top label: Resin buildup with confidence score: 0.28864264488220215Top label: Separation noodle joint with confidence score: 0.18516074120998383\n",
      "\n"
     ]
    },
    {
     "name": "stderr",
     "output_type": "stream",
     "text": [
      "Processing on GPU 0:  93%|████████████████████████████████████████████████████████████████████████████████████████████████████▋       | 892/957 [03:19<00:14,  4.46it/s]"
     ]
    },
    {
     "name": "stdout",
     "output_type": "stream",
     "text": [
      "Classifying: Disbond DisbondClassifying: Disbond Disbonding within part\n",
      "\n",
      "Top label: Core split with confidence score: 0.2206205129623413Top label: Core displacement with confidence score: 0.228065624833107\n",
      "\n"
     ]
    },
    {
     "name": "stderr",
     "output_type": "stream",
     "text": [
      "Processing on GPU 0:  93%|████████████████████████████████████████████████████████████████████████████████████████████████████▊       | 893/957 [03:19<00:14,  4.47it/s]"
     ]
    },
    {
     "name": "stdout",
     "output_type": "stream",
     "text": [
      "Classifying: Splice Defect on Bridge betw Core & Core Material SeparationClassifying: Resin Starvation Lack of resin\n",
      "\n",
      "Top label: Splice gap with confidence score: 0.18654128909111023\n"
     ]
    },
    {
     "name": "stderr",
     "output_type": "stream",
     "text": [
      "\r",
      "Processing on GPU 1:  94%|█████████████████████████████████████████████████████████████████████████████████████████████████████▍      | 897/955 [03:19<00:12,  4.48it/s]"
     ]
    },
    {
     "name": "stdout",
     "output_type": "stream",
     "text": [
      "Top label: Splice gap with confidence score: 0.41784730553627014Classifying: Disbond Disbond\n",
      "\n"
     ]
    },
    {
     "name": "stderr",
     "output_type": "stream",
     "text": [
      "\r",
      "Processing on GPU 0:  93%|████████████████████████████████████████████████████████████████████████████████████████████████████▉       | 894/957 [03:19<00:14,  4.47it/s]"
     ]
    },
    {
     "name": "stdout",
     "output_type": "stream",
     "text": [
      "Classifying: Imprint on Surface Dent Depression\n",
      "Top label: Core split with confidence score: 0.2206205129623413\n",
      "Top label: Core deformation with confidence score: 0.15729643404483795"
     ]
    },
    {
     "name": "stderr",
     "output_type": "stream",
     "text": [
      "\r",
      "Processing on GPU 1:  94%|█████████████████████████████████████████████████████████████████████████████████████████████████████▌      | 898/955 [03:20<00:12,  4.48it/s]"
     ]
    },
    {
     "name": "stdout",
     "output_type": "stream",
     "text": [
      "\n",
      "Classifying: Autoclave Hose Failure nan"
     ]
    },
    {
     "name": "stderr",
     "output_type": "stream",
     "text": [
      "\r",
      "Processing on GPU 0:  94%|█████████████████████████████████████████████████████████████████████████████████████████████████████       | 895/957 [03:20<00:13,  4.48it/s]"
     ]
    },
    {
     "name": "stdout",
     "output_type": "stream",
     "text": [
      "\n",
      "Classifying: Autoclave Cure Not Per Procedure Cure cycle not as per procedure\n",
      "Top label: Foreign Object Damage with confidence score: 0.2214643955230713\n",
      "Top label: Core split with confidence score: 0.2257322520017624\n"
     ]
    },
    {
     "name": "stderr",
     "output_type": "stream",
     "text": [
      "Processing on GPU 0:  94%|█████████████████████████████████████████████████████████████████████████████████████████████████████       | 896/957 [03:20<00:13,  4.47it/s]"
     ]
    },
    {
     "name": "stdout",
     "output_type": "stream",
     "text": [
      "Classifying: Hole in Bag vaccum leak during repair\n",
      "Classifying: Volume Porosity porosity\n",
      "Top label: Foreign Object Damage with confidence score: 0.3691962957382202\n"
     ]
    },
    {
     "name": "stderr",
     "output_type": "stream",
     "text": [
      "\r",
      "Processing on GPU 1:  94%|█████████████████████████████████████████████████████████████████████████████████████████████████████▊      | 900/955 [03:20<00:12,  4.48it/s]"
     ]
    },
    {
     "name": "stdout",
     "output_type": "stream",
     "text": [
      "Top label: Resin buildup with confidence score: 0.24928952753543854Classifying: Disbond Disbond\n",
      "\n"
     ]
    },
    {
     "name": "stderr",
     "output_type": "stream",
     "text": [
      "\r",
      "Processing on GPU 0:  94%|█████████████████████████████████████████████████████████████████████████████████████████████████████▏      | 897/957 [03:20<00:13,  4.47it/s]"
     ]
    },
    {
     "name": "stdout",
     "output_type": "stream",
     "text": [
      "Classifying: Ply Wrinkle Wrinkles\n",
      "Top label: Core split with confidence score: 0.2206205129623413Top label: Resin buildup with confidence score: 0.17187096178531647\n",
      "\n"
     ]
    },
    {
     "name": "stderr",
     "output_type": "stream",
     "text": [
      "Processing on GPU 1:  94%|█████████████████████████████████████████████████████████████████████████████████████████████████████▉      | 901/955 [03:20<00:12,  4.47it/s]"
     ]
    },
    {
     "name": "stdout",
     "output_type": "stream",
     "text": [
      "Classifying: Delamination Delaminations along splice lineClassifying: Disbond Disbond\n",
      "\n",
      "Top label: Splice gap with confidence score: 0.3180660605430603\n",
      "Top label: Core split with confidence score: 0.2206205129623413"
     ]
    },
    {
     "name": "stderr",
     "output_type": "stream",
     "text": [
      "\r",
      "Processing on GPU 0:  94%|█████████████████████████████████████████████████████████████████████████████████████████████████████▍      | 899/957 [03:20<00:12,  4.48it/s]"
     ]
    },
    {
     "name": "stdout",
     "output_type": "stream",
     "text": [
      "\n",
      "Classifying: Mechanical Works Defects traceability possible"
     ]
    },
    {
     "name": "stderr",
     "output_type": "stream",
     "text": [
      "\r",
      "Processing on GPU 1:  94%|██████████████████████████████████████████████████████████████████████████████████████████████████████      | 902/955 [03:20<00:11,  4.46it/s]"
     ]
    },
    {
     "name": "stdout",
     "output_type": "stream",
     "text": [
      "\n",
      "Classifying: Imprint on Surface Dent Core dent in chamfer area\n",
      "Top label: Core displacement with confidence score: 0.174016073346138\n",
      "Top label: Core deformation with confidence score: 0.6178101301193237\n"
     ]
    },
    {
     "name": "stderr",
     "output_type": "stream",
     "text": [
      "\r",
      "Processing on GPU 0:  94%|█████████████████████████████████████████████████████████████████████████████████████████████████████▌      | 900/957 [03:21<00:12,  4.48it/s]"
     ]
    },
    {
     "name": "stdout",
     "output_type": "stream",
     "text": [
      "Classifying: Mechanical Works Defects traceability possible ."
     ]
    },
    {
     "name": "stderr",
     "output_type": "stream",
     "text": [
      "\r",
      "Processing on GPU 1:  95%|██████████████████████████████████████████████████████████████████████████████████████████████████████      | 903/955 [03:21<00:11,  4.47it/s]"
     ]
    },
    {
     "name": "stdout",
     "output_type": "stream",
     "text": [
      "\n",
      "Classifying: Delamination NDT Initial Failure\n",
      "Top label: Core deformation with confidence score: 0.17365263402462006\n"
     ]
    },
    {
     "name": "stderr",
     "output_type": "stream",
     "text": [
      "\r",
      "Processing on GPU 0:  94%|█████████████████████████████████████████████████████████████████████████████████████████████████████▋      | 901/957 [03:21<00:12,  4.48it/s]"
     ]
    },
    {
     "name": "stdout",
     "output_type": "stream",
     "text": [
      "Top label: Separation noodle joint with confidence score: 0.23277020454406738Classifying: Splice Defect Core Splice Defect\n",
      "\n"
     ]
    },
    {
     "name": "stderr",
     "output_type": "stream",
     "text": [
      "\r",
      "Processing on GPU 1:  95%|██████████████████████████████████████████████████████████████████████████████████████████████████████▏     | 904/955 [03:21<00:11,  4.46it/s]"
     ]
    },
    {
     "name": "stdout",
     "output_type": "stream",
     "text": [
      "Classifying: Delamination nan\n",
      "Top label: Core split with confidence score: 0.45720699429512024\n"
     ]
    },
    {
     "name": "stderr",
     "output_type": "stream",
     "text": [
      "\r",
      "Processing on GPU 0:  94%|█████████████████████████████████████████████████████████████████████████████████████████████████████▊      | 902/957 [03:21<00:12,  4.50it/s]"
     ]
    },
    {
     "name": "stdout",
     "output_type": "stream",
     "text": [
      "Classifying: Disbond NDT Initial Failure\n",
      "Top label: Separation noodle joint with confidence score: 0.30506935715675354\n"
     ]
    },
    {
     "name": "stderr",
     "output_type": "stream",
     "text": [
      "\r",
      "Processing on GPU 1:  95%|██████████████████████████████████████████████████████████████████████████████████████████████████████▎     | 905/955 [03:21<00:11,  4.43it/s]"
     ]
    },
    {
     "name": "stdout",
     "output_type": "stream",
     "text": [
      "Classifying: Delamination nan\n",
      "Top label: Core deformation with confidence score: 0.19701813161373138\n"
     ]
    },
    {
     "name": "stderr",
     "output_type": "stream",
     "text": [
      "\r",
      "Processing on GPU 0:  94%|█████████████████████████████████████████████████████████████████████████████████████████████████████▉      | 903/957 [03:21<00:12,  4.49it/s]"
     ]
    },
    {
     "name": "stdout",
     "output_type": "stream",
     "text": [
      "Classifying: Core Crush core dents\n",
      "Top label: Separation noodle joint with confidence score: 0.30506935715675354\n"
     ]
    },
    {
     "name": "stderr",
     "output_type": "stream",
     "text": [
      "\r",
      "Processing on GPU 1:  95%|██████████████████████████████████████████████████████████████████████████████████████████████████████▍     | 906/955 [03:21<00:11,  4.44it/s]"
     ]
    },
    {
     "name": "stdout",
     "output_type": "stream",
     "text": [
      "Classifying: Delamination nan\n",
      "Top label: Core crash with confidence score: 0.32666274905204773\n"
     ]
    },
    {
     "name": "stderr",
     "output_type": "stream",
     "text": [
      "\r",
      "Processing on GPU 0:  94%|██████████████████████████████████████████████████████████████████████████████████████████████████████      | 904/957 [03:22<00:11,  4.50it/s]"
     ]
    },
    {
     "name": "stdout",
     "output_type": "stream",
     "text": [
      "Classifying: Imprint on Surface Dent imprint on surface dent observed on lowe\n",
      "Top label: Separation noodle joint with confidence score: 0.30506935715675354\n"
     ]
    },
    {
     "name": "stderr",
     "output_type": "stream",
     "text": [
      "\r",
      "Processing on GPU 1:  95%|██████████████████████████████████████████████████████████████████████████████████████████████████████▌     | 907/955 [03:22<00:10,  4.43it/s]"
     ]
    },
    {
     "name": "stdout",
     "output_type": "stream",
     "text": [
      "Classifying: Delamination NDT Initial Failure\n",
      "Top label: Foreign Object Damage with confidence score: 0.17652606964111328\n"
     ]
    },
    {
     "name": "stderr",
     "output_type": "stream",
     "text": [
      "\r",
      "Processing on GPU 0:  95%|██████████████████████████████████████████████████████████████████████████████████████████████████████▏     | 905/957 [03:22<00:11,  4.52it/s]"
     ]
    },
    {
     "name": "stdout",
     "output_type": "stream",
     "text": [
      "Classifying: Disbonding within part NDT Initial Failure\n",
      "Top label: Separation noodle joint with confidence score: 0.23277020454406738\n"
     ]
    },
    {
     "name": "stderr",
     "output_type": "stream",
     "text": [
      "\r",
      "Processing on GPU 1:  95%|██████████████████████████████████████████████████████████████████████████████████████████████████████▋     | 908/955 [03:22<00:10,  4.44it/s]"
     ]
    },
    {
     "name": "stdout",
     "output_type": "stream",
     "text": [
      "Classifying: Wrinkle see long text\n",
      "Top label: Splice gap with confidence score: 0.18522146344184875\n"
     ]
    },
    {
     "name": "stderr",
     "output_type": "stream",
     "text": [
      "\r",
      "Processing on GPU 0:  95%|██████████████████████████████████████████████████████████████████████████████████████████████████████▏     | 906/957 [03:22<00:11,  4.52it/s]"
     ]
    },
    {
     "name": "stdout",
     "output_type": "stream",
     "text": [
      "Classifying: Mechanical Trimming / Contour milling Over trim observed  on Lower skin a\n",
      "Top label: Splice gap with confidence score: 0.296188086271286\n"
     ]
    },
    {
     "name": "stderr",
     "output_type": "stream",
     "text": [
      "\r",
      "Processing on GPU 1:  95%|██████████████████████████████████████████████████████████████████████████████████████████████████████▊     | 909/955 [03:22<00:10,  4.43it/s]"
     ]
    },
    {
     "name": "stdout",
     "output_type": "stream",
     "text": [
      "Classifying: Surface Delamination see long text\n",
      "Top label: Splice gap with confidence score: 0.17757874727249146\n"
     ]
    },
    {
     "name": "stderr",
     "output_type": "stream",
     "text": [
      "\r",
      "Processing on GPU 0:  95%|██████████████████████████████████████████████████████████████████████████████████████████████████████▎     | 907/957 [03:22<00:11,  4.51it/s]"
     ]
    },
    {
     "name": "stdout",
     "output_type": "stream",
     "text": [
      "Classifying: Delamination NDT 2nd Failure\n",
      "Top label: Splice gap with confidence score: 0.29118311405181885\n"
     ]
    },
    {
     "name": "stderr",
     "output_type": "stream",
     "text": [
      "\r",
      "Processing on GPU 1:  95%|██████████████████████████████████████████████████████████████████████████████████████████████████████▉     | 910/955 [03:22<00:10,  4.45it/s]"
     ]
    },
    {
     "name": "stdout",
     "output_type": "stream",
     "text": [
      "Classifying: Porosity volumetric porosity\n",
      "Top label: Foreign Object Damage with confidence score: 0.2537040114402771\n"
     ]
    },
    {
     "name": "stderr",
     "output_type": "stream",
     "text": [
      "\r",
      "Processing on GPU 0:  95%|██████████████████████████████████████████████████████████████████████████████████████████████████████▍     | 908/957 [03:22<00:10,  4.52it/s]"
     ]
    },
    {
     "name": "stdout",
     "output_type": "stream",
     "text": [
      "Classifying: Wrinkle Wrinkles observed on wet lamination surf\n",
      "Top label: Core displacement with confidence score: 0.18443597853183746\n"
     ]
    },
    {
     "name": "stderr",
     "output_type": "stream",
     "text": [
      "\r",
      "Processing on GPU 1:  95%|███████████████████████████████████████████████████████████████████████████████████████████████████████     | 911/955 [03:23<00:09,  4.44it/s]"
     ]
    },
    {
     "name": "stdout",
     "output_type": "stream",
     "text": [
      "Classifying: Autoclave Cure Not Per Procedure Cure cycle not per procedure\n",
      "Top label: Separation noodle joint with confidence score: 0.17036280035972595\n"
     ]
    },
    {
     "name": "stderr",
     "output_type": "stream",
     "text": [
      "\r",
      "Processing on GPU 0:  95%|██████████████████████████████████████████████████████████████████████████████████████████████████████▌     | 909/957 [03:23<00:10,  4.51it/s]"
     ]
    },
    {
     "name": "stdout",
     "output_type": "stream",
     "text": [
      "Classifying: Delamination in Bond Assy on Upper Skin NDT Initial Failure\n",
      "Top label: Core split with confidence score: 0.2753007411956787\n"
     ]
    },
    {
     "name": "stderr",
     "output_type": "stream",
     "text": [
      "\r",
      "Processing on GPU 1:  95%|███████████████████████████████████████████████████████████████████████████████████████████████████████▏    | 912/955 [03:23<00:09,  4.46it/s]"
     ]
    },
    {
     "name": "stdout",
     "output_type": "stream",
     "text": [
      "Classifying: Autoclave Cure Not Per Procedure Cure cycle not per procedure\n",
      "Top label: Resin buildup with confidence score: 0.24411317706108093\n"
     ]
    },
    {
     "name": "stderr",
     "output_type": "stream",
     "text": [
      "\r",
      "Processing on GPU 0:  95%|██████████████████████████████████████████████████████████████████████████████████████████████████████▋     | 910/957 [03:23<00:10,  4.51it/s]"
     ]
    },
    {
     "name": "stdout",
     "output_type": "stream",
     "text": [
      "Classifying: Delamination in Bond Assy on Upper Skin NDT Initial Failure\n",
      "Top label: Core split with confidence score: 0.2753007411956787\n"
     ]
    },
    {
     "name": "stderr",
     "output_type": "stream",
     "text": [
      "\r",
      "Processing on GPU 1:  96%|███████████████████████████████████████████████████████████████████████████████████████████████████████▎    | 913/955 [03:23<00:09,  4.47it/s]"
     ]
    },
    {
     "name": "stdout",
     "output_type": "stream",
     "text": [
      "Classifying: Porosity Volumetric Porosity\n",
      "Top label: Resin buildup with confidence score: 0.24411317706108093\n"
     ]
    },
    {
     "name": "stderr",
     "output_type": "stream",
     "text": [
      "\r",
      "Processing on GPU 0:  95%|██████████████████████████████████████████████████████████████████████████████████████████████████████▊     | 911/957 [03:23<00:10,  4.53it/s]"
     ]
    },
    {
     "name": "stdout",
     "output_type": "stream",
     "text": [
      "Classifying: Delamination in Bond Assy on Upper Skin NDT Initial Failure\n",
      "Top label: Core displacement with confidence score: 0.1835264265537262\n"
     ]
    },
    {
     "name": "stderr",
     "output_type": "stream",
     "text": [
      "\r",
      "Processing on GPU 1:  96%|███████████████████████████████████████████████████████████████████████████████████████████████████████▎    | 914/955 [03:23<00:09,  4.48it/s]"
     ]
    },
    {
     "name": "stdout",
     "output_type": "stream",
     "text": [
      "Classifying: Shelf Life Expired Shelf life expired before cure\n",
      "Top label: Resin buildup with confidence score: 0.24411317706108093\n"
     ]
    },
    {
     "name": "stderr",
     "output_type": "stream",
     "text": [
      "\r",
      "Processing on GPU 0:  95%|██████████████████████████████████████████████████████████████████████████████████████████████████████▉     | 912/957 [03:23<00:09,  4.50it/s]"
     ]
    },
    {
     "name": "stdout",
     "output_type": "stream",
     "text": [
      "Classifying: Delamination in Bond Assy on Upper Skin NDT Initial Failure\n",
      "Top label: Splice gap with confidence score: 0.1399684101343155\n"
     ]
    },
    {
     "name": "stderr",
     "output_type": "stream",
     "text": [
      "\r",
      "Processing on GPU 1:  96%|███████████████████████████████████████████████████████████████████████████████████████████████████████▍    | 915/955 [03:23<00:08,  4.49it/s]"
     ]
    },
    {
     "name": "stdout",
     "output_type": "stream",
     "text": [
      "Classifying: Porosity VOLUMETRIC POROSITY BEYOND ACC. LIMIT\n",
      "Top label: Resin buildup with confidence score: 0.24411317706108093\n"
     ]
    },
    {
     "name": "stderr",
     "output_type": "stream",
     "text": [
      "\r",
      "Processing on GPU 0:  95%|███████████████████████████████████████████████████████████████████████████████████████████████████████     | 913/957 [03:24<00:09,  4.50it/s]"
     ]
    },
    {
     "name": "stdout",
     "output_type": "stream",
     "text": [
      "Classifying: Delamination in Bond Assy on Upper Skin NDT Initial Failure\n",
      "Top label: Core displacement with confidence score: 0.20531266927719116\n"
     ]
    },
    {
     "name": "stderr",
     "output_type": "stream",
     "text": [
      "\r",
      "Processing on GPU 1:  96%|███████████████████████████████████████████████████████████████████████████████████████████████████████▌    | 916/955 [03:24<00:08,  4.48it/s]"
     ]
    },
    {
     "name": "stdout",
     "output_type": "stream",
     "text": [
      "Classifying: Autoclave Cure Not Per Procedure Cure cycle not per procedure\n",
      "Top label: Resin buildup with confidence score: 0.24411317706108093\n"
     ]
    },
    {
     "name": "stderr",
     "output_type": "stream",
     "text": [
      "\r",
      "Processing on GPU 0:  96%|███████████████████████████████████████████████████████████████████████████████████████████████████████▏    | 914/957 [03:24<00:09,  4.52it/s]"
     ]
    },
    {
     "name": "stdout",
     "output_type": "stream",
     "text": [
      "Classifying: Delamination Surface Delaminations\n",
      "Top label: Core split with confidence score: 0.2753007411956787\n"
     ]
    },
    {
     "name": "stderr",
     "output_type": "stream",
     "text": [
      "\r",
      "Processing on GPU 1:  96%|███████████████████████████████████████████████████████████████████████████████████████████████████████▋    | 917/955 [03:24<00:08,  4.47it/s]"
     ]
    },
    {
     "name": "stdout",
     "output_type": "stream",
     "text": [
      "Classifying: Autoclave Hose Failure nan\n",
      "Top label: Resin buildup with confidence score: 0.3021017014980316\n"
     ]
    },
    {
     "name": "stderr",
     "output_type": "stream",
     "text": [
      "\r",
      "Processing on GPU 0:  96%|███████████████████████████████████████████████████████████████████████████████████████████████████████▎    | 915/957 [03:24<00:09,  4.52it/s]"
     ]
    },
    {
     "name": "stdout",
     "output_type": "stream",
     "text": [
      "Classifying: Material Expired Material expired before curing\n",
      "Top label: Foreign Object Damage with confidence score: 0.2214643955230713\n"
     ]
    },
    {
     "name": "stderr",
     "output_type": "stream",
     "text": [
      "\r",
      "Processing on GPU 1:  96%|███████████████████████████████████████████████████████████████████████████████████████████████████████▊    | 918/955 [03:24<00:08,  4.47it/s]"
     ]
    },
    {
     "name": "stdout",
     "output_type": "stream",
     "text": [
      "Classifying: Imprint on Surface Dent Volumetric Porosity\n",
      "Top label: Splice gap with confidence score: 0.14933939278125763\n"
     ]
    },
    {
     "name": "stderr",
     "output_type": "stream",
     "text": [
      "\r",
      "Processing on GPU 0:  96%|███████████████████████████████████████████████████████████████████████████████████████████████████████▎    | 916/957 [03:24<00:09,  4.52it/s]"
     ]
    },
    {
     "name": "stdout",
     "output_type": "stream",
     "text": [
      "Classifying: Delamination Surface Delaminations\n",
      "Top label: Resin buildup with confidence score: 0.2817661762237549\n"
     ]
    },
    {
     "name": "stderr",
     "output_type": "stream",
     "text": [
      "\r",
      "Processing on GPU 1:  96%|███████████████████████████████████████████████████████████████████████████████████████████████████████▉    | 919/955 [03:24<00:08,  4.48it/s]"
     ]
    },
    {
     "name": "stdout",
     "output_type": "stream",
     "text": [
      "Classifying: Disbond Disbond\n",
      "Top label: Resin buildup with confidence score: 0.3021017014980316\n"
     ]
    },
    {
     "name": "stderr",
     "output_type": "stream",
     "text": [
      "\r",
      "Processing on GPU 0:  96%|███████████████████████████████████████████████████████████████████████████████████████████████████████▍    | 917/957 [03:24<00:08,  4.54it/s]"
     ]
    },
    {
     "name": "stdout",
     "output_type": "stream",
     "text": [
      "Classifying: Autoclave Cure Not Per Procedure Cure cycle not as per procedure\n",
      "Top label: Core split with confidence score: 0.2206205129623413\n"
     ]
    },
    {
     "name": "stderr",
     "output_type": "stream",
     "text": [
      "\r",
      "Processing on GPU 1:  96%|████████████████████████████████████████████████████████████████████████████████████████████████████████    | 920/955 [03:25<00:07,  4.47it/s]"
     ]
    },
    {
     "name": "stdout",
     "output_type": "stream",
     "text": [
      "Classifying: Autoclave Cure Not Per Procedure Cure cycle not per procedure\n",
      "Top label: Core split with confidence score: 0.2257322520017624\n"
     ]
    },
    {
     "name": "stderr",
     "output_type": "stream",
     "text": [
      "\r",
      "Processing on GPU 0:  96%|███████████████████████████████████████████████████████████████████████████████████████████████████████▌    | 918/957 [03:25<00:08,  4.54it/s]"
     ]
    },
    {
     "name": "stdout",
     "output_type": "stream",
     "text": [
      "Classifying: Material Expired Material expired before curing\n",
      "Top label: Core split with confidence score: 0.2753007411956787\n"
     ]
    },
    {
     "name": "stderr",
     "output_type": "stream",
     "text": [
      "\r",
      "Processing on GPU 1:  96%|████████████████████████████████████████████████████████████████████████████████████████████████████████▏   | 921/955 [03:25<00:07,  4.45it/s]"
     ]
    },
    {
     "name": "stdout",
     "output_type": "stream",
     "text": [
      "Classifying: Porosity Volumetric Porosity\n",
      "Top label: Splice gap with confidence score: 0.14933939278125763\n"
     ]
    },
    {
     "name": "stderr",
     "output_type": "stream",
     "text": [
      "\r",
      "Processing on GPU 0:  96%|███████████████████████████████████████████████████████████████████████████████████████████████████████▋    | 919/957 [03:25<00:08,  4.54it/s]"
     ]
    },
    {
     "name": "stdout",
     "output_type": "stream",
     "text": [
      "Classifying: Wrinkle Wrinkle\n",
      "Top label: Core displacement with confidence score: 0.1835264265537262\n"
     ]
    },
    {
     "name": "stderr",
     "output_type": "stream",
     "text": [
      "\r",
      "Processing on GPU 1:  97%|████████████████████████████████████████████████████████████████████████████████████████████████████████▎   | 922/955 [03:25<00:07,  4.47it/s]"
     ]
    },
    {
     "name": "stdout",
     "output_type": "stream",
     "text": [
      "Classifying: Porosity Volumetric Porosity above limits\n",
      "Top label: Core split with confidence score: 0.19982367753982544\n"
     ]
    },
    {
     "name": "stderr",
     "output_type": "stream",
     "text": [
      "\r",
      "Processing on GPU 0:  96%|███████████████████████████████████████████████████████████████████████████████████████████████████████▊    | 920/957 [03:25<00:08,  4.54it/s]"
     ]
    },
    {
     "name": "stdout",
     "output_type": "stream",
     "text": [
      "Classifying: Splice Defect on Bridge betw Core & Core Material separation\n",
      "Top label: Core displacement with confidence score: 0.18238063156604767\n"
     ]
    },
    {
     "name": "stderr",
     "output_type": "stream",
     "text": [
      "\r",
      "Processing on GPU 1:  97%|████████████████████████████████████████████████████████████████████████████████████████████████████████▍   | 923/955 [03:25<00:07,  4.47it/s]"
     ]
    },
    {
     "name": "stdout",
     "output_type": "stream",
     "text": [
      "Classifying: Delamination Delamination Above limits\n",
      "Top label: Splice gap with confidence score: 0.38730230927467346\n"
     ]
    },
    {
     "name": "stderr",
     "output_type": "stream",
     "text": [
      "\r",
      "Processing on GPU 0:  96%|███████████████████████████████████████████████████████████████████████████████████████████████████████▉    | 921/957 [03:25<00:07,  4.51it/s]"
     ]
    },
    {
     "name": "stdout",
     "output_type": "stream",
     "text": [
      "Classifying: Rejectable Ultrasonic Inspection Indicat Unidentified Defect\n",
      "Top label: Resin buildup with confidence score: 0.19368940591812134\n"
     ]
    },
    {
     "name": "stderr",
     "output_type": "stream",
     "text": [
      "\r",
      "Processing on GPU 1:  97%|████████████████████████████████████████████████████████████████████████████████████████████████████████▍   | 924/955 [03:25<00:06,  4.48it/s]"
     ]
    },
    {
     "name": "stdout",
     "output_type": "stream",
     "text": [
      "Classifying: Autoclave Cure Not Per Procedure Cure cycle not per procedure\n",
      "Top label: Core deformation with confidence score: 0.16520659625530243\n"
     ]
    },
    {
     "name": "stderr",
     "output_type": "stream",
     "text": [
      "\r",
      "Processing on GPU 0:  96%|████████████████████████████████████████████████████████████████████████████████████████████████████████    | 922/957 [03:26<00:07,  4.51it/s]"
     ]
    },
    {
     "name": "stdout",
     "output_type": "stream",
     "text": [
      "Classifying: Imprint on Surface Dent  Surface defect\n",
      "Top label: Core split with confidence score: 0.2753007411956787\n"
     ]
    },
    {
     "name": "stderr",
     "output_type": "stream",
     "text": [
      "\r",
      "Processing on GPU 1:  97%|████████████████████████████████████████████████████████████████████████████████████████████████████████▌   | 925/955 [03:26<00:06,  4.49it/s]"
     ]
    },
    {
     "name": "stdout",
     "output_type": "stream",
     "text": [
      "Classifying: Contour Deviation Loft line nt according to drawing\n",
      "Top label: Splice gap with confidence score: 0.23722372949123383\n"
     ]
    },
    {
     "name": "stderr",
     "output_type": "stream",
     "text": [
      "\r",
      "Processing on GPU 0:  96%|████████████████████████████████████████████████████████████████████████████████████████████████████████▏   | 923/957 [03:26<00:07,  4.51it/s]"
     ]
    },
    {
     "name": "stdout",
     "output_type": "stream",
     "text": [
      "Classifying: Delamination in Bond Assy on Upper Skin NDT Initial Failure\n",
      "Top label: Core displacement with confidence score: 0.1885598599910736\n"
     ]
    },
    {
     "name": "stderr",
     "output_type": "stream",
     "text": [
      "\r",
      "Processing on GPU 1:  97%|████████████████████████████████████████████████████████████████████████████████████████████████████████▋   | 926/955 [03:26<00:06,  4.50it/s]"
     ]
    },
    {
     "name": "stdout",
     "output_type": "stream",
     "text": [
      "Classifying: Chips / F.O.D. Damage F.O.D\n",
      "Top label: Resin buildup with confidence score: 0.24411317706108093\n"
     ]
    },
    {
     "name": "stderr",
     "output_type": "stream",
     "text": [
      "\r",
      "Processing on GPU 0:  97%|████████████████████████████████████████████████████████████████████████████████████████████████████████▎   | 924/957 [03:26<00:07,  4.50it/s]"
     ]
    },
    {
     "name": "stdout",
     "output_type": "stream",
     "text": [
      "Classifying: Disbond NDT Initial Failure\n",
      "Top label: Foreign Object Damage with confidence score: 0.8074832558631897\n"
     ]
    },
    {
     "name": "stderr",
     "output_type": "stream",
     "text": [
      "\r",
      "Processing on GPU 1:  97%|████████████████████████████████████████████████████████████████████████████████████████████████████████▊   | 927/955 [03:26<00:06,  4.49it/s]"
     ]
    },
    {
     "name": "stdout",
     "output_type": "stream",
     "text": [
      "Classifying: Defect Detected On Incoming Inspection Leak test failed\n",
      "Top label: Core deformation with confidence score: 0.19701813161373138\n"
     ]
    },
    {
     "name": "stderr",
     "output_type": "stream",
     "text": [
      "\r",
      "Processing on GPU 0:  97%|████████████████████████████████████████████████████████████████████████████████████████████████████████▍   | 925/957 [03:26<00:07,  4.50it/s]"
     ]
    },
    {
     "name": "stdout",
     "output_type": "stream",
     "text": [
      "Classifying: Imprint on Surface Dent Surface Depression\n",
      "Top label: Separation noodle joint with confidence score: 0.15951433777809143\n"
     ]
    },
    {
     "name": "stderr",
     "output_type": "stream",
     "text": [
      "\r",
      "Processing on GPU 1:  97%|████████████████████████████████████████████████████████████████████████████████████████████████████████▉   | 928/955 [03:26<00:06,  4.49it/s]"
     ]
    },
    {
     "name": "stdout",
     "output_type": "stream",
     "text": [
      "Classifying: Porosity volumetric porosity above acc. limit\n",
      "Top label: Splice gap with confidence score: 0.1898801177740097\n"
     ]
    },
    {
     "name": "stderr",
     "output_type": "stream",
     "text": [
      "\r",
      "Processing on GPU 0:  97%|████████████████████████████████████████████████████████████████████████████████████████████████████████▌   | 926/957 [03:26<00:06,  4.52it/s]"
     ]
    },
    {
     "name": "stdout",
     "output_type": "stream",
     "text": [
      "Classifying: Delamination Surface Delaminations\n",
      "Top label: Core displacement with confidence score: 0.1849631518125534\n"
     ]
    },
    {
     "name": "stderr",
     "output_type": "stream",
     "text": [
      "\r",
      "Processing on GPU 1:  97%|█████████████████████████████████████████████████████████████████████████████████████████████████████████   | 929/955 [03:27<00:05,  4.47it/s]"
     ]
    },
    {
     "name": "stdout",
     "output_type": "stream",
     "text": [
      "Classifying: Temperature Overshoot Temperature Overshoot\n",
      "Top label: Resin buildup with confidence score: 0.3021017014980316\n"
     ]
    },
    {
     "name": "stderr",
     "output_type": "stream",
     "text": [
      "\r",
      "Processing on GPU 0:  97%|████████████████████████████████████████████████████████████████████████████████████████████████████████▌   | 927/957 [03:27<00:06,  4.50it/s]"
     ]
    },
    {
     "name": "stdout",
     "output_type": "stream",
     "text": [
      "Classifying: Delamination betw UpperSkin & above Core NDT Initial Failure\n",
      "Top label: Splice gap with confidence score: 0.2722156345844269\n"
     ]
    },
    {
     "name": "stderr",
     "output_type": "stream",
     "text": [
      "\r",
      "Processing on GPU 1:  97%|█████████████████████████████████████████████████████████████████████████████████████████████████████████▏  | 930/955 [03:27<00:05,  4.48it/s]"
     ]
    },
    {
     "name": "stdout",
     "output_type": "stream",
     "text": [
      "Classifying: Hole in Bag vacuum leak during cure\n",
      "Top label: Core deformation with confidence score: 0.3889273703098297\n"
     ]
    },
    {
     "name": "stderr",
     "output_type": "stream",
     "text": [
      "\r",
      "Processing on GPU 0:  97%|████████████████████████████████████████████████████████████████████████████████████████████████████████▋   | 928/957 [03:27<00:06,  4.52it/s]"
     ]
    },
    {
     "name": "stdout",
     "output_type": "stream",
     "text": [
      "Classifying: Imprint on Surface Dent Surface defect\n",
      "Top label: Foreign Object Damage with confidence score: 0.23659950494766235\n"
     ]
    },
    {
     "name": "stderr",
     "output_type": "stream",
     "text": [
      "\r",
      "Processing on GPU 1:  97%|█████████████████████████████████████████████████████████████████████████████████████████████████████████▎  | 931/955 [03:27<00:05,  4.45it/s]"
     ]
    },
    {
     "name": "stdout",
     "output_type": "stream",
     "text": [
      "Classifying: Autoclave Cure Not Per Procedure cure not per procedure\n",
      "Top label: Splice gap with confidence score: 0.2084568440914154\n"
     ]
    },
    {
     "name": "stderr",
     "output_type": "stream",
     "text": [
      "\r",
      "Processing on GPU 0:  97%|████████████████████████████████████████████████████████████████████████████████████████████████████████▊   | 929/957 [03:27<00:06,  4.52it/s]"
     ]
    },
    {
     "name": "stdout",
     "output_type": "stream",
     "text": [
      "Classifying: Ply Wrinkle  Wrinkle\n",
      "Top label: Core split with confidence score: 0.19594360888004303\n"
     ]
    },
    {
     "name": "stderr",
     "output_type": "stream",
     "text": [
      "\r",
      "Processing on GPU 1:  98%|█████████████████████████████████████████████████████████████████████████████████████████████████████████▍  | 932/955 [03:27<00:05,  4.48it/s]"
     ]
    },
    {
     "name": "stdout",
     "output_type": "stream",
     "text": [
      "Classifying: Shelf Life Expired nan\n",
      "Top label: Separation noodle joint with confidence score: 0.2211095243692398\n"
     ]
    },
    {
     "name": "stderr",
     "output_type": "stream",
     "text": [
      "\r",
      "Processing on GPU 0:  97%|████████████████████████████████████████████████████████████████████████████████████████████████████████▉   | 930/957 [03:27<00:05,  4.51it/s]"
     ]
    },
    {
     "name": "stdout",
     "output_type": "stream",
     "text": [
      "Classifying: Porosity Volumetric Porosity Above Size Limit.\n",
      "Top label: Foreign Object Damage with confidence score: 0.17790913581848145\n"
     ]
    },
    {
     "name": "stderr",
     "output_type": "stream",
     "text": [
      "\r",
      "Processing on GPU 1:  98%|█████████████████████████████████████████████████████████████████████████████████████████████████████████▌  | 933/955 [03:27<00:04,  4.45it/s]"
     ]
    },
    {
     "name": "stdout",
     "output_type": "stream",
     "text": [
      "Classifying: Bag Leak nan\n",
      "Top label: Resin buildup with confidence score: 0.17322269082069397\n"
     ]
    },
    {
     "name": "stderr",
     "output_type": "stream",
     "text": [
      "\r",
      "Processing on GPU 0:  97%|█████████████████████████████████████████████████████████████████████████████████████████████████████████   | 931/957 [03:28<00:05,  4.51it/s]"
     ]
    },
    {
     "name": "stdout",
     "output_type": "stream",
     "text": [
      "Classifying: Disbond Disbond\n",
      "Top label: Separation noodle joint with confidence score: 0.2515363097190857\n"
     ]
    },
    {
     "name": "stderr",
     "output_type": "stream",
     "text": [
      "\r",
      "Processing on GPU 1:  98%|█████████████████████████████████████████████████████████████████████████████████████████████████████████▋  | 934/955 [03:28<00:04,  4.46it/s]"
     ]
    },
    {
     "name": "stdout",
     "output_type": "stream",
     "text": [
      "Classifying: Porosity VOLUMETRIC POROSITY BEYOND ACC. LIMIT\n",
      "Top label: Core split with confidence score: 0.2206205129623413\n"
     ]
    },
    {
     "name": "stderr",
     "output_type": "stream",
     "text": [
      "\r",
      "Processing on GPU 0:  97%|█████████████████████████████████████████████████████████████████████████████████████████████████████████▏  | 932/957 [03:28<00:05,  4.51it/s]"
     ]
    },
    {
     "name": "stdout",
     "output_type": "stream",
     "text": [
      "Classifying: Bag Leak Bag leak\n",
      "Top label: Core displacement with confidence score: 0.20531266927719116\n"
     ]
    },
    {
     "name": "stderr",
     "output_type": "stream",
     "text": [
      "\r",
      "Processing on GPU 1:  98%|█████████████████████████████████████████████████████████████████████████████████████████████████████████▋  | 935/955 [03:28<00:04,  4.44it/s]"
     ]
    },
    {
     "name": "stdout",
     "output_type": "stream",
     "text": [
      "Classifying: Disbond Disbond\n",
      "Top label: Foreign Object Damage with confidence score: 0.31500399112701416\n"
     ]
    },
    {
     "name": "stderr",
     "output_type": "stream",
     "text": [
      "\r",
      "Processing on GPU 0:  97%|█████████████████████████████████████████████████████████████████████████████████████████████████████████▎  | 933/957 [03:28<00:05,  4.52it/s]"
     ]
    },
    {
     "name": "stdout",
     "output_type": "stream",
     "text": [
      "Classifying: Delamination between FS & Core UpperSkin nan\n",
      "Top label: Core split with confidence score: 0.2206205129623413\n"
     ]
    },
    {
     "name": "stderr",
     "output_type": "stream",
     "text": [
      "\r",
      "Processing on GPU 1:  98%|█████████████████████████████████████████████████████████████████████████████████████████████████████████▊  | 936/955 [03:28<00:04,  4.46it/s]"
     ]
    },
    {
     "name": "stdout",
     "output_type": "stream",
     "text": [
      "Classifying: Disbond Disbond after repair\n",
      "Top label: Foreign Object Damage with confidence score: 0.21922826766967773\n"
     ]
    },
    {
     "name": "stderr",
     "output_type": "stream",
     "text": [
      "\r",
      "Processing on GPU 0:  98%|█████████████████████████████████████████████████████████████████████████████████████████████████████████▍  | 934/957 [03:28<00:05,  4.52it/s]"
     ]
    },
    {
     "name": "stdout",
     "output_type": "stream",
     "text": [
      "Classifying: Delamination in Bond Assy on Upper Skin nan\n",
      "Top label: Resin buildup with confidence score: 0.20213624835014343\n"
     ]
    },
    {
     "name": "stderr",
     "output_type": "stream",
     "text": [
      "\r",
      "Processing on GPU 1:  98%|█████████████████████████████████████████████████████████████████████████████████████████████████████████▉  | 937/955 [03:28<00:04,  4.47it/s]"
     ]
    },
    {
     "name": "stdout",
     "output_type": "stream",
     "text": [
      "Classifying: Autoclave Cure Not Per Procedure cure not per procedure\n",
      "Top label: Resin buildup with confidence score: 0.2769956588745117\n"
     ]
    },
    {
     "name": "stderr",
     "output_type": "stream",
     "text": [
      "\r",
      "Processing on GPU 0:  98%|█████████████████████████████████████████████████████████████████████████████████████████████████████████▌  | 935/957 [03:28<00:04,  4.52it/s]"
     ]
    },
    {
     "name": "stdout",
     "output_type": "stream",
     "text": [
      "Classifying: Delamination on LowerSkin betw FS & Core nan\n",
      "Top label: Core split with confidence score: 0.19594360888004303\n"
     ]
    },
    {
     "name": "stderr",
     "output_type": "stream",
     "text": [
      "\r",
      "Processing on GPU 1:  98%|██████████████████████████████████████████████████████████████████████████████████████████████████████████  | 938/955 [03:29<00:03,  4.46it/s]"
     ]
    },
    {
     "name": "stdout",
     "output_type": "stream",
     "text": [
      "Classifying: Rejectable Ultrasonic Inspection Indicat DISBOND\n",
      "Top label: Foreign Object Damage with confidence score: 0.25532257556915283\n"
     ]
    },
    {
     "name": "stderr",
     "output_type": "stream",
     "text": [
      "\r",
      "Processing on GPU 0:  98%|█████████████████████████████████████████████████████████████████████████████████████████████████████████▋  | 936/957 [03:29<00:04,  4.53it/s]"
     ]
    },
    {
     "name": "stdout",
     "output_type": "stream",
     "text": [
      "Classifying: Wrinkles nan\n",
      "Top label: Splice gap with confidence score: 0.2637687623500824\n"
     ]
    },
    {
     "name": "stderr",
     "output_type": "stream",
     "text": [
      "\r",
      "Processing on GPU 1:  98%|██████████████████████████████████████████████████████████████████████████████████████████████████████████▏ | 939/955 [03:29<00:03,  4.47it/s]"
     ]
    },
    {
     "name": "stdout",
     "output_type": "stream",
     "text": [
      "Classifying: Gap Out Of Tolerance core gap\n",
      "Top label: Separation noodle joint with confidence score: 0.3228897452354431\n"
     ]
    },
    {
     "name": "stderr",
     "output_type": "stream",
     "text": [
      "\r",
      "Processing on GPU 0:  98%|█████████████████████████████████████████████████████████████████████████████████████████████████████████▋  | 937/957 [03:29<00:04,  4.53it/s]"
     ]
    },
    {
     "name": "stdout",
     "output_type": "stream",
     "text": [
      "Classifying: Delamination Surface Delaminations\n",
      "Top label: Core split with confidence score: 0.5461804270744324\n"
     ]
    },
    {
     "name": "stderr",
     "output_type": "stream",
     "text": [
      "\r",
      "Processing on GPU 1:  98%|██████████████████████████████████████████████████████████████████████████████████████████████████████████▎ | 940/955 [03:29<00:03,  4.45it/s]"
     ]
    },
    {
     "name": "stdout",
     "output_type": "stream",
     "text": [
      "Classifying: Porosity VOLUMETRIC POROSITY BEYOND ACC. LIMIT\n",
      "Top label: Resin buildup with confidence score: 0.3021017014980316\n"
     ]
    },
    {
     "name": "stderr",
     "output_type": "stream",
     "text": [
      "\r",
      "Processing on GPU 0:  98%|█████████████████████████████████████████████████████████████████████████████████████████████████████████▊  | 938/957 [03:29<00:04,  4.53it/s]"
     ]
    },
    {
     "name": "stdout",
     "output_type": "stream",
     "text": [
      "Classifying: Mislocated (Or Extra Hole) Hole shifted in CNC machining\n",
      "Top label: Core displacement with confidence score: 0.20531266927719116\n"
     ]
    },
    {
     "name": "stderr",
     "output_type": "stream",
     "text": [
      "\r",
      "Processing on GPU 1:  99%|██████████████████████████████████████████████████████████████████████████████████████████████████████████▍ | 941/955 [03:29<00:03,  4.47it/s]"
     ]
    },
    {
     "name": "stdout",
     "output_type": "stream",
     "text": [
      "Classifying: Operation Not Per Drawing re Id confirmation\n",
      "Top label: Foreign Object Damage with confidence score: 0.18988828361034393\n"
     ]
    },
    {
     "name": "stderr",
     "output_type": "stream",
     "text": [
      "\r",
      "Processing on GPU 0:  98%|█████████████████████████████████████████████████████████████████████████████████████████████████████████▉  | 939/957 [03:29<00:03,  4.51it/s]"
     ]
    },
    {
     "name": "stdout",
     "output_type": "stream",
     "text": [
      "Classifying: Material Expired Material Expired\n",
      "Top label: Resin buildup with confidence score: 0.2437073290348053\n"
     ]
    },
    {
     "name": "stderr",
     "output_type": "stream",
     "text": [
      "\r",
      "Processing on GPU 1:  99%|██████████████████████████████████████████████████████████████████████████████████████████████████████████▌ | 942/955 [03:29<00:02,  4.44it/s]"
     ]
    },
    {
     "name": "stdout",
     "output_type": "stream",
     "text": [
      "Classifying: Disbond nan\n",
      "Top label: Core deformation with confidence score: 0.15185348689556122\n"
     ]
    },
    {
     "name": "stderr",
     "output_type": "stream",
     "text": [
      "\r",
      "Processing on GPU 0:  98%|██████████████████████████████████████████████████████████████████████████████████████████████████████████  | 940/957 [03:30<00:03,  4.54it/s]"
     ]
    },
    {
     "name": "stdout",
     "output_type": "stream",
     "text": [
      "Classifying: Bag Leak Vacuum leak during cycle\n",
      "Top label: Separation noodle joint with confidence score: 0.42728883028030396\n"
     ]
    },
    {
     "name": "stderr",
     "output_type": "stream",
     "text": [
      "\r",
      "Processing on GPU 1:  99%|██████████████████████████████████████████████████████████████████████████████████████████████████████████▋ | 943/955 [03:30<00:02,  4.45it/s]"
     ]
    },
    {
     "name": "stdout",
     "output_type": "stream",
     "text": [
      "Classifying: Porosity Porosity\n",
      "Top label: Splice gap with confidence score: 0.16813203692436218\n"
     ]
    },
    {
     "name": "stderr",
     "output_type": "stream",
     "text": [
      "\r",
      "Processing on GPU 0:  98%|██████████████████████████████████████████████████████████████████████████████████████████████████████████▏ | 941/957 [03:30<00:03,  4.54it/s]"
     ]
    },
    {
     "name": "stdout",
     "output_type": "stream",
     "text": [
      "Classifying: Imprint on Surface Dent surface depression\n",
      "Top label: Foreign Object Damage with confidence score: 0.25687840580940247\n"
     ]
    },
    {
     "name": "stderr",
     "output_type": "stream",
     "text": [
      "\r",
      "Processing on GPU 1:  99%|██████████████████████████████████████████████████████████████████████████████████████████████████████████▊ | 944/955 [03:30<00:02,  4.45it/s]"
     ]
    },
    {
     "name": "stdout",
     "output_type": "stream",
     "text": [
      "Classifying: Operation Not Per Drawing Re identification required\n",
      "Top label: Core displacement with confidence score: 0.1684311181306839\n"
     ]
    },
    {
     "name": "stderr",
     "output_type": "stream",
     "text": [
      "\r",
      "Processing on GPU 0:  98%|██████████████████████████████████████████████████████████████████████████████████████████████████████████▎ | 942/957 [03:30<00:03,  4.55it/s]"
     ]
    },
    {
     "name": "stdout",
     "output_type": "stream",
     "text": [
      "Classifying: Ply Wrinkle Wrinkle\n",
      "Top label: Core split with confidence score: 0.1979767084121704\n"
     ]
    },
    {
     "name": "stderr",
     "output_type": "stream",
     "text": [
      "\r",
      "Processing on GPU 1:  99%|██████████████████████████████████████████████████████████████████████████████████████████████████████████▊ | 945/955 [03:30<00:02,  4.43it/s]"
     ]
    },
    {
     "name": "stdout",
     "output_type": "stream",
     "text": [
      "Classifying: Porosity Volumetric Porosity above limits\n",
      "Top label: Foreign Object Damage with confidence score: 0.24570398032665253\n"
     ]
    },
    {
     "name": "stderr",
     "output_type": "stream",
     "text": [
      "\r",
      "Processing on GPU 0:  99%|██████████████████████████████████████████████████████████████████████████████████████████████████████████▍ | 943/957 [03:30<00:03,  4.55it/s]"
     ]
    },
    {
     "name": "stdout",
     "output_type": "stream",
     "text": [
      "Classifying: Splice Defect on Bridge betw Core & Core Material Separation\n",
      "Top label: Core displacement with confidence score: 0.18238063156604767\n"
     ]
    },
    {
     "name": "stderr",
     "output_type": "stream",
     "text": [
      "\r",
      "Processing on GPU 1:  99%|██████████████████████████████████████████████████████████████████████████████████████████████████████████▉ | 946/955 [03:30<00:02,  4.44it/s]"
     ]
    },
    {
     "name": "stdout",
     "output_type": "stream",
     "text": [
      "Classifying: Adjustment Out Of Tolerance (Torque Val) Hinge line load issue observed\n",
      "Top label: Splice gap with confidence score: 0.41784730553627014\n"
     ]
    },
    {
     "name": "stderr",
     "output_type": "stream",
     "text": [
      "\r",
      "Processing on GPU 0:  99%|██████████████████████████████████████████████████████████████████████████████████████████████████████████▌ | 944/957 [03:30<00:02,  4.54it/s]"
     ]
    },
    {
     "name": "stdout",
     "output_type": "stream",
     "text": [
      "Classifying: Disbond Disbond\n",
      "Top label: Core displacement with confidence score: 0.18486115336418152\n"
     ]
    },
    {
     "name": "stderr",
     "output_type": "stream",
     "text": [
      "\r",
      "Processing on GPU 1:  99%|███████████████████████████████████████████████████████████████████████████████████████████████████████████ | 947/955 [03:31<00:01,  4.47it/s]"
     ]
    },
    {
     "name": "stdout",
     "output_type": "stream",
     "text": [
      "Classifying: Delamination Delamination above acceptable size limit\n",
      "Top label: Core split with confidence score: 0.2206205129623413\n"
     ]
    },
    {
     "name": "stderr",
     "output_type": "stream",
     "text": [
      "\r",
      "Processing on GPU 0:  99%|██████████████████████████████████████████████████████████████████████████████████████████████████████████▋ | 945/957 [03:31<00:02,  4.52it/s]"
     ]
    },
    {
     "name": "stdout",
     "output_type": "stream",
     "text": [
      "Classifying: Imprint on Surface Dent Surface Depression\n",
      "Top label: Resin buildup with confidence score: 0.2572997212409973\n"
     ]
    },
    {
     "name": "stderr",
     "output_type": "stream",
     "text": [
      "\r",
      "Processing on GPU 1:  99%|███████████████████████████████████████████████████████████████████████████████████████████████████████████▏| 948/955 [03:31<00:01,  4.48it/s]"
     ]
    },
    {
     "name": "stdout",
     "output_type": "stream",
     "text": [
      "Classifying: Rejectable Ultrasonic Inspection Indicat Higher Attenuation in C-Scan\n",
      "Top label: Splice gap with confidence score: 0.1898801177740097\n"
     ]
    },
    {
     "name": "stderr",
     "output_type": "stream",
     "text": [
      "\r",
      "Processing on GPU 0:  99%|██████████████████████████████████████████████████████████████████████████████████████████████████████████▊ | 946/957 [03:31<00:02,  4.52it/s]"
     ]
    },
    {
     "name": "stdout",
     "output_type": "stream",
     "text": [
      "Classifying: Delamination Surface Delamination\n",
      "Top label: Core split with confidence score: 0.2647191882133484\n"
     ]
    },
    {
     "name": "stderr",
     "output_type": "stream",
     "text": [
      "\r",
      "Processing on GPU 1:  99%|███████████████████████████████████████████████████████████████████████████████████████████████████████████▎| 949/955 [03:31<00:01,  4.49it/s]"
     ]
    },
    {
     "name": "stdout",
     "output_type": "stream",
     "text": [
      "Classifying: Other Procedural / Paper Discrepancies Need repair instruction for paint remova\n",
      "Top label: Resin buildup with confidence score: 0.20944052934646606\n"
     ]
    },
    {
     "name": "stderr",
     "output_type": "stream",
     "text": [
      "\r",
      "Processing on GPU 0:  99%|██████████████████████████████████████████████████████████████████████████████████████████████████████████▊ | 947/957 [03:31<00:02,  4.52it/s]"
     ]
    },
    {
     "name": "stdout",
     "output_type": "stream",
     "text": [
      "Classifying: Ply Wrinkle Wrinkle\n",
      "Top label: Resin buildup with confidence score: 0.3608554005622864\n"
     ]
    },
    {
     "name": "stderr",
     "output_type": "stream",
     "text": [
      "\r",
      "Processing on GPU 1:  99%|███████████████████████████████████████████████████████████████████████████████████████████████████████████▍| 950/955 [03:31<00:01,  4.48it/s]"
     ]
    },
    {
     "name": "stdout",
     "output_type": "stream",
     "text": [
      "Classifying: Resin Starvation Delamination due to resin stravation\n",
      "Top label: Foreign Object Damage with confidence score: 0.24570398032665253\n"
     ]
    },
    {
     "name": "stderr",
     "output_type": "stream",
     "text": [
      "\r",
      "Processing on GPU 0:  99%|██████████████████████████████████████████████████████████████████████████████████████████████████████████▉ | 948/957 [03:31<00:01,  4.52it/s]"
     ]
    },
    {
     "name": "stdout",
     "output_type": "stream",
     "text": [
      "Classifying: Porosity Porosity\n",
      "Top label: Resin buildup with confidence score: 0.5428189635276794\n"
     ]
    },
    {
     "name": "stderr",
     "output_type": "stream",
     "text": [
      "\r",
      "Processing on GPU 1: 100%|███████████████████████████████████████████████████████████████████████████████████████████████████████████▌| 951/955 [03:31<00:00,  4.50it/s]"
     ]
    },
    {
     "name": "stdout",
     "output_type": "stream",
     "text": [
      "Classifying: Wrinkle Wrinkle\n",
      "Top label: Foreign Object Damage with confidence score: 0.25687840580940247\n"
     ]
    },
    {
     "name": "stderr",
     "output_type": "stream",
     "text": [
      "\r",
      "Processing on GPU 0:  99%|███████████████████████████████████████████████████████████████████████████████████████████████████████████ | 949/957 [03:32<00:01,  4.50it/s]"
     ]
    },
    {
     "name": "stdout",
     "output_type": "stream",
     "text": [
      "Classifying: Splice Defect Core Splice Defect\n",
      "Top label: Core split with confidence score: 0.19982367753982544\n"
     ]
    },
    {
     "name": "stderr",
     "output_type": "stream",
     "text": [
      "\r",
      "Processing on GPU 1: 100%|███████████████████████████████████████████████████████████████████████████████████████████████████████████▋| 952/955 [03:32<00:00,  4.50it/s]"
     ]
    },
    {
     "name": "stdout",
     "output_type": "stream",
     "text": [
      "Classifying: Lay-Up Error Dent Over Core Splice Line\n",
      "Top label: Core split with confidence score: 0.45720699429512024\n"
     ]
    },
    {
     "name": "stderr",
     "output_type": "stream",
     "text": [
      "\r",
      "Processing on GPU 0:  99%|███████████████████████████████████████████████████████████████████████████████████████████████████████████▏| 950/957 [03:32<00:01,  4.56it/s]"
     ]
    },
    {
     "name": "stdout",
     "output_type": "stream",
     "text": [
      "Classifying: Wrinkle Wrinkle\n",
      "Top label: Core split with confidence score: 0.47245851159095764\n"
     ]
    },
    {
     "name": "stderr",
     "output_type": "stream",
     "text": [
      "\r",
      "Processing on GPU 1: 100%|███████████████████████████████████████████████████████████████████████████████████████████████████████████▊| 953/955 [03:32<00:00,  4.43it/s]"
     ]
    },
    {
     "name": "stdout",
     "output_type": "stream",
     "text": [
      "Classifying: Surface Appearance not acceptable Core Dent on chamfer area\n",
      "Top label: Core split with confidence score: 0.19982367753982544\n"
     ]
    },
    {
     "name": "stderr",
     "output_type": "stream",
     "text": [
      "\r",
      "Processing on GPU 0:  99%|███████████████████████████████████████████████████████████████████████████████████████████████████████████▎| 951/957 [03:32<00:01,  4.55it/s]"
     ]
    },
    {
     "name": "stdout",
     "output_type": "stream",
     "text": [
      "Classifying: Flange Length Flange Edge fail\n",
      "Top label: Core deformation with confidence score: 0.5158548355102539\n"
     ]
    },
    {
     "name": "stderr",
     "output_type": "stream",
     "text": [
      "\r",
      "Processing on GPU 1: 100%|███████████████████████████████████████████████████████████████████████████████████████████████████████████▉| 954/955 [03:32<00:00,  4.42it/s]"
     ]
    },
    {
     "name": "stdout",
     "output_type": "stream",
     "text": [
      "Classifying: Delamination SUNSKIN DELAMINATION\n",
      "Top label: Splice gap with confidence score: 0.2606125473976135\n"
     ]
    },
    {
     "name": "stderr",
     "output_type": "stream",
     "text": [
      "\r",
      "Processing on GPU 0:  99%|███████████████████████████████████████████████████████████████████████████████████████████████████████████▍| 952/957 [03:32<00:01,  4.53it/s]"
     ]
    },
    {
     "name": "stdout",
     "output_type": "stream",
     "text": [
      "Classifying: Delamination Delamination\n",
      "Top label: Foreign Object Damage with confidence score: 0.29343268275260925\n"
     ]
    },
    {
     "name": "stderr",
     "output_type": "stream",
     "text": [
      "Processing on GPU 1: 100%|████████████████████████████████████████████████████████████████████████████████████████████████████████████| 955/955 [03:32<00:00,  4.49it/s]\n"
     ]
    },
    {
     "name": "stdout",
     "output_type": "stream",
     "text": [
      "Top label: Resin buildup with confidence score: 0.28864264488220215\n"
     ]
    },
    {
     "name": "stderr",
     "output_type": "stream",
     "text": [
      "\r",
      "Processing on GPU 0: 100%|███████████████████████████████████████████████████████████████████████████████████████████████████████████▌| 953/957 [03:32<00:00,  4.66it/s]"
     ]
    },
    {
     "name": "stdout",
     "output_type": "stream",
     "text": [
      "Classifying: Crack, Sandwich Area Core Crack\n",
      "Top label: Core deformation with confidence score: 0.47148987650871277\n"
     ]
    },
    {
     "name": "stderr",
     "output_type": "stream",
     "text": [
      "\r",
      "Processing on GPU 0: 100%|███████████████████████████████████████████████████████████████████████████████████████████████████████████▋| 954/957 [03:33<00:00,  5.33it/s]"
     ]
    },
    {
     "name": "stdout",
     "output_type": "stream",
     "text": [
      "Classifying: Crack, Sandwich Area Core Crack\n",
      "Top label: Core deformation with confidence score: 0.47148987650871277\n"
     ]
    },
    {
     "name": "stderr",
     "output_type": "stream",
     "text": [
      "\r",
      "Processing on GPU 0: 100%|███████████████████████████████████████████████████████████████████████████████████████████████████████████▊| 955/957 [03:33<00:00,  5.95it/s]"
     ]
    },
    {
     "name": "stdout",
     "output_type": "stream",
     "text": [
      "Classifying: Material Expired Material Expired\n",
      "Top label: Core deformation with confidence score: 0.15185348689556122\n"
     ]
    },
    {
     "name": "stderr",
     "output_type": "stream",
     "text": [
      "\r",
      "Processing on GPU 0: 100%|███████████████████████████████████████████████████████████████████████████████████████████████████████████▉| 956/957 [03:33<00:00,  6.49it/s]"
     ]
    },
    {
     "name": "stdout",
     "output_type": "stream",
     "text": [
      "Classifying: Drill Error (False Start;Not Perpendclr) Misdrill at edge fitting wedge\n",
      "Top label: Splice gap with confidence score: 0.3240349292755127\n"
     ]
    },
    {
     "name": "stderr",
     "output_type": "stream",
     "text": [
      "Processing on GPU 0: 100%|████████████████████████████████████████████████████████████████████████████████████████████████████████████| 957/957 [03:33<00:00,  4.49it/s]\n"
     ]
    },
    {
     "name": "stdout",
     "output_type": "stream",
     "text": [
      "Classification results saved to classified_output_2.csv\n"
     ]
    }
   ],
   "source": [
    "if __name__ == '__main__':\n",
    "    # Load the Excel file and select the relevant column\n",
    "    file_path = 'filtered_big_file.csv'  # Specify your file path\n",
    "    df = pd.read_csv(file_path)\n",
    "    df['ct'] = df['Problem code text'].astype(str) + ' ' + df['Item text'].astype(str)\n",
    "    activities_column = df['ct']  # Specify the column name for classification\n",
    "\n",
    "    # Handle missing or invalid values\n",
    "    activities_column = activities_column.fillna(\"Unknown\").astype(str)\n",
    "\n",
    "    # Automatically detect available GPUs\n",
    "    available_gpus = [0, 1]  # List your available GPU indices\n",
    "    print(f\"Available GPUs: {available_gpus}\")\n",
    "\n",
    "    # Split the data into chunks to distribute across GPUs\n",
    "    num_chunks = len(activities_column) // len(available_gpus) + 1\n",
    "    activity_chunks = [activities_column[i:i + num_chunks] for i in range(0, len(activities_column), num_chunks)]\n",
    "\n",
    "    # Prepare the arguments for the parallel processing\n",
    "    args = [(gpu, chunk.tolist()) for gpu, chunk in zip(available_gpus, activity_chunks)]\n",
    "\n",
    "    # Perform classification in parallel\n",
    "    print(\"Starting parallel processing...\")\n",
    "    with Pool(processes=len(available_gpus)) as pool:\n",
    "        results = pool.map(classify_with_gpu, args)\n",
    "\n",
    "    # Flatten the results\n",
    "    flat_results = [item for sublist in results for item in sublist]\n",
    "\n",
    "    # Save results into a DataFrame\n",
    "    results_df = pd.DataFrame(flat_results)\n",
    "\n",
    "    # Merge the classification results with the original DataFrame\n",
    "    df = pd.merge(df, results_df, left_on='ct', right_on='Defict', how='left')\n",
    "\n",
    "    # Save the new DataFrame with classifications to a new CSV\n",
    "    output_file = 'classified_output_2.csv'\n",
    "    df.to_csv(output_file, index=False)\n",
    "    print(f\"Classification results saved to {output_file}\")\n"
   ]
  },
  {
   "cell_type": "code",
   "execution_count": 22,
   "id": "c6b90fd5",
   "metadata": {},
   "outputs": [],
   "source": []
  },
  {
   "cell_type": "code",
   "execution_count": 3,
   "id": "b73bc24a",
   "metadata": {},
   "outputs": [
    {
     "data": {
      "text/plain": [
       "0        Dimensions out of Tolerance Lug hole position ...\n",
       "1        foil-/ foreign-inclusion detected FOD located ...\n",
       "2        Delamination Composite Manufacturing Delaminat...\n",
       "3        Delamination Composite Manufacturing Delaminat...\n",
       "4        Delamination Composite Manufacturing Delaminat...\n",
       "                               ...                        \n",
       "20023                                      Wrinkle Wrinkle\n",
       "20024                                      Wrinkle Wrinkle\n",
       "20025              Lay-Up Error Dent Over Core Splice Line\n",
       "20026    Surface Appearance not acceptable Core Dent on...\n",
       "20027                    Delamination SUNSKIN DELAMINATION\n",
       "Name: Defict, Length: 20028, dtype: object"
      ]
     },
     "execution_count": 3,
     "metadata": {},
     "output_type": "execute_result"
    }
   ],
   "source": [
    "df=pd.read_csv('classified_output.csv')\n",
    "df['Defict']"
   ]
  },
  {
   "cell_type": "code",
   "execution_count": 7,
   "id": "1c668fd2",
   "metadata": {},
   "outputs": [
    {
     "name": "stdout",
     "output_type": "stream",
     "text": [
      "True\n",
      "8\n",
      "NVIDIA A100-SXM4-40GB\n"
     ]
    }
   ],
   "source": [
    "import torch\n",
    "print(torch.cuda.is_available())  # Should return True\n",
    "print(torch.cuda.device_count())  # Number of GPUs\n",
    "print(torch.cuda.get_device_name(0))  # Name of the first GPU\n"
   ]
  },
  {
   "cell_type": "code",
   "execution_count": 3,
   "id": "23f7f71c",
   "metadata": {},
   "outputs": [
    {
     "name": "stdout",
     "output_type": "stream",
     "text": [
      "Filtered results saved to filtered_classified_output.csv\n"
     ]
    }
   ],
   "source": [
    "import pandas as pd\n",
    "\n",
    "# Load the output CSV file\n",
    "file_path = 'classified_output.csv'  # The CSV file from your previous step\n",
    "df = pd.read_csv(file_path)\n",
    "\n",
    "# Ensure Confidence_Score is numeric\n",
    "df['Confidence_Score'] = pd.to_numeric(df['Confidence_Score'], errors='coerce')\n",
    "\n",
    "# Filter rows where Confidence_Score is above 75%\n",
    "filtered_df = df[df['Confidence_Score'] > 0.75]\n",
    "\n",
    "# Save the filtered results to a new CSV file\n",
    "output_file = 'filtered_classified_output.csv'\n",
    "filtered_df.to_csv(output_file, index=False)\n",
    "\n",
    "print(f\"Filtered results saved to {output_file}\")\n"
   ]
  },
  {
   "cell_type": "code",
   "execution_count": 4,
   "id": "f67d92e8",
   "metadata": {},
   "outputs": [
    {
     "name": "stdout",
     "output_type": "stream",
     "text": [
      "Number of duplicated rows based on 'Notification': 0\n"
     ]
    }
   ],
   "source": [
    "import pandas as pd\n",
    "\n",
    "# Load the filtered CSV file (or the file you'd like to check for duplicates)\n",
    "file_path = 'filtered_classified_output.csv'  # Change this to your file path\n",
    "df = pd.read_csv(file_path)\n",
    "\n",
    "# Count duplicates based on 'Notification' column\n",
    "duplicates_count = df[df.duplicated(subset=['Notification'], keep=False)].shape[0]\n",
    "\n",
    "# Print the number of duplicated rows\n",
    "print(f\"Number of duplicated rows based on 'Notification': {duplicates_count}\")\n"
   ]
  },
  {
   "cell_type": "code",
   "execution_count": 5,
   "id": "6f0633fb",
   "metadata": {},
   "outputs": [
    {
     "name": "stdout",
     "output_type": "stream",
     "text": [
      "Total number of rows: 55\n",
      "Number of duplicated rows based on 'Notification': 55\n"
     ]
    }
   ],
   "source": [
    "import pandas as pd\n",
    "\n",
    "# Load the filtered CSV file (or the file you'd like to check for duplicates)\n",
    "file_path = 'filtered_classified_output.csv'  # Change this to your file path\n",
    "df = pd.read_csv(file_path)\n",
    "\n",
    "# Count the total number of rows\n",
    "total_rows = df.shape[0]\n",
    "\n",
    "# Count duplicates based on the 'Notification' column\n",
    "duplicates_count = df[df.duplicated(subset=['Notification'], keep=False)].shape[0]\n",
    "\n",
    "# Print the results\n",
    "print(f\"Total number of rows: {total_rows}\")\n",
    "print(f\"Number of duplicated rows based on 'Notification': {total_rows-duplicates_count}\")\n"
   ]
  },
  {
   "cell_type": "code",
   "execution_count": 6,
   "id": "cdbf2f6a",
   "metadata": {},
   "outputs": [
    {
     "data": {
      "text/plain": [
       "Predicted_Rubric\n",
       "Foreign Object Damage      40\n",
       "Core deformation            6\n",
       "Splice gap                  5\n",
       "Separation noodle joint     3\n",
       "Core split                  1\n",
       "Name: count, dtype: int64"
      ]
     },
     "execution_count": 6,
     "metadata": {},
     "output_type": "execute_result"
    }
   ],
   "source": [
    "df['Predicted_Rubric'].value_counts()"
   ]
  },
  {
   "cell_type": "code",
   "execution_count": 1,
   "id": "02d411b3",
   "metadata": {},
   "outputs": [
    {
     "name": "stdout",
     "output_type": "stream",
     "text": [
      "Starting classification...\n"
     ]
    },
    {
     "data": {
      "application/vnd.jupyter.widget-view+json": {
       "model_id": "c67928dbc3fc48b8a9b52387938181bc",
       "version_major": 2,
       "version_minor": 0
      },
      "text/plain": [
       "Processing on GPU 0:   0%|          | 0/852 [00:00<?, ?it/s]"
      ]
     },
     "metadata": {},
     "output_type": "display_data"
    },
    {
     "name": "stderr",
     "output_type": "stream",
     "text": [
      "You seem to be using the pipelines sequentially on GPU. In order to maximize efficiency please use a dataset\n"
     ]
    },
    {
     "name": "stdout",
     "output_type": "stream",
     "text": [
      "After merge:   Notification type  Product hierarchy  Production order Notification date  \\\n",
      "0                Q6              153.0           1881392        2024-11-05   \n",
      "1                Q3              104.0           1882070        2024-10-29   \n",
      "2                Q3              152.0           1880313        2024-09-27   \n",
      "3                Q6              104.0           1882070        2024-09-27   \n",
      "4                Q6              604.0           1796072        2024-09-06   \n",
      "\n",
      "   Plant for material  Notification Material  \\\n",
      "0              1000.0        635141   700769   \n",
      "1              1000.0     200044770   700467   \n",
      "2              1000.0     200044677   700579   \n",
      "3              1000.0        634795   700467   \n",
      "4              1000.0        634628   702196   \n",
      "\n",
      "                       Material Description  Asset value Created on  ...  \\\n",
      "0  F576.13730.001.01 OT-AILERON UPPER B-ASS     15667.36 2024-11-05  ...   \n",
      "1  26G577-72505-012, BOND ASSY SPOILER 5 LH     11881.39 2024-10-29  ...   \n",
      "2       V5757371620100 MOVABLE SHELL ST3 RH     17418.31 2024-09-27  ...   \n",
      "3  26G577-72505-012, BOND ASSY SPOILER 5 LH     11881.39 2024-09-27  ...   \n",
      "4     5532424186 FLOORPANEL(22-25) BONDASSY      1059.22 2024-09-06  ...   \n",
      "\n",
      "  Activity code Activity text DefectiveQty (internal) DefectiveQty (external)  \\\n",
      "0           NaN           NaN                       0                       0   \n",
      "1           NaN           NaN                       0                       0   \n",
      "2           NaN           NaN                       0                       0   \n",
      "3           NaN           NaN                       0                       0   \n",
      "4           NaN           NaN                       0                       0   \n",
      "\n",
      "  Changed by Changed on                                                 ct  \\\n",
      "0   C8001233 2024-11-05  Dimensions out of Tolerance Lug hole position ...   \n",
      "1   STR00191 2024-11-15  foil-/ foreign-inclusion detected FOD located ...   \n",
      "2   STR01441 2024-10-25  Delamination Composite Manufacturing Delaminat...   \n",
      "3   STR00908 2024-10-29  foil-/ foreign-inclusion detected FOD Found Ab...   \n",
      "4   C8001195 2024-09-12  Surface defects  Depression and counter bore d...   \n",
      "\n",
      "                                              Defict         Predicted_Rubric  \\\n",
      "0  Dimensions out of Tolerance Lug hole position ...  Separation noodle joint   \n",
      "1  foil-/ foreign-inclusion detected FOD located ...    Foreign Object Damage   \n",
      "2  Delamination Composite Manufacturing Delaminat...            Resin buildup   \n",
      "3  foil-/ foreign-inclusion detected FOD Found Ab...    Foreign Object Damage   \n",
      "4  Surface defects  Depression and counter bore d...        Core displacement   \n",
      "\n",
      "  Confidence_Score  \n",
      "0         0.181971  \n",
      "1         0.816415  \n",
      "2         0.197664  \n",
      "3         0.777037  \n",
      "4         0.206364  \n",
      "\n",
      "[5 rows x 32 columns]\n",
      "Classification results saved to classified_output.csv\n"
     ]
    }
   ],
   "source": [
    "import pandas as pd\n",
    "from tqdm.notebook import tqdm\n",
    "from transformers import pipeline\n",
    "\n",
    "# Define categories for the classification task\n",
    "categories = [\n",
    "    \"Resin buildup\", \n",
    "    \"Foreign Object Damage\", \n",
    "    \"Core split\", \n",
    "    \"Core crash\", \n",
    "    \"Core deformation\", \n",
    "    \"Core displacement\", \n",
    "    \"Splice gap\", \n",
    "    \"Separation noodle joint\"\n",
    "]  # Customize with your actual categories\n",
    "\n",
    "def classify_activities(activities, gpu=0):\n",
    "    # Initialize the classifier using the specified GPU\n",
    "    classifier = pipeline(\"zero-shot-classification\", model=\"facebook/bart-large-mnli\", device=gpu)\n",
    "    \n",
    "    results = []\n",
    "    for activity in tqdm(activities, desc=f\"Processing on GPU {gpu}\"):\n",
    "        result = classifier(activity, candidate_labels=categories)\n",
    "        \n",
    "        # Get the index of the highest confidence score\n",
    "        max_score_index = result['scores'].index(max(result['scores']))\n",
    "        results.append({\n",
    "            'Defict': activity,\n",
    "            'Predicted_Rubric': result['labels'][max_score_index],\n",
    "            'Confidence_Score': result['scores'][max_score_index]\n",
    "        })\n",
    "    \n",
    "    return results\n",
    "\n",
    "def main():\n",
    "    # Load the Excel file and select the relevant column\n",
    "    file_path = 'filtered_big_file.xlsx'  # Specify your file path\n",
    "    df = pd.read_excel(file_path)\n",
    "    \n",
    "    # Join the two columns with a space in between and remove duplicates before classification\n",
    "    df['ct'] = df['Problem code text'].astype(str) + ' ' + df['Item text'].astype(str)\n",
    "    activities_column = df['ct'].drop_duplicates()  # Drop duplicates based on 'ct' column\n",
    "    \n",
    "    # Handle missing or invalid values\n",
    "    activities_column = activities_column.fillna(\"Unknown\").astype(str)\n",
    "\n",
    "    # Perform classification sequentially\n",
    "    print(\"Starting classification...\")\n",
    "    results = classify_activities(activities_column.tolist(), gpu=0)\n",
    "\n",
    "    # Save results into a DataFrame\n",
    "    results_df = pd.DataFrame(results)\n",
    "\n",
    "    # Merge the classification results with the original DataFrame\n",
    "    df = pd.merge(df, results_df, left_on='ct', right_on='Defict', how='left')\n",
    "\n",
    "    # Debugging: Check what the DataFrame looks like\n",
    "    print(f\"After merge: {df.head()}\")\n",
    "\n",
    "    # Save the final DataFrame with classifications to a new CSV\n",
    "    output_file = 'classified_output.csv'\n",
    "    df.to_csv(output_file, index=False)\n",
    "    print(f\"Classification results saved to {output_file}\")\n",
    "\n",
    "if __name__ == '__main__':\n",
    "    main()\n"
   ]
  },
  {
   "cell_type": "code",
   "execution_count": 22,
   "id": "9933b93a",
   "metadata": {},
   "outputs": [
    {
     "name": "stdout",
     "output_type": "stream",
     "text": [
      "CSV file updated successfully!\n"
     ]
    }
   ],
   "source": [
    "import pandas as pd\n",
    "\n",
    "# Load the CSV file into a DataFrame\n",
    "csv_file_path = 'filtered_classified_output.csv'  # Replace with your file path\n",
    "data = pd.read_csv(csv_file_path)\n",
    "\n",
    "# Check if the required columns exist in the DataFrame\n",
    "if 'Defict' in data.columns:\n",
    "    # Iterate over the rows to check if 'sag' is in any row\n",
    "    for index, row in data.iterrows():\n",
    "        if row.astype(str).str.lower().str.contains('sag').any() or row.astype(str).str.lower().str.contains('geometry').any():\n",
    "            # Update the corresponding 'Predicted_rubric' value to 'Core displacement'\n",
    "            data.at[index, 'Predicted_Rubric'] = 'Core displacement'\n",
    "\n",
    "    # Save the modified DataFrame back to a CSV file\n",
    "    data.to_csv('filtered_classified_output.csv', index=False)\n",
    "    print(\"CSV file updated successfully!\")\n",
    "else:\n",
    "    print(\"The column 'Predicted_rubric' does not exist in the file.\")\n"
   ]
  },
  {
   "cell_type": "code",
   "execution_count": 2,
   "id": "e00435bb",
   "metadata": {},
   "outputs": [
    {
     "name": "stdout",
     "output_type": "stream",
     "text": [
      "Dataset organization complete. Files saved in: dataset_final\n"
     ]
    }
   ],
   "source": [
    "import os\n",
    "import shutil\n",
    "import pandas as pd\n",
    "\n",
    "def organize_dataset(dataframe, source_directory, output_directory):\n",
    "    \"\"\"\n",
    "    Organizes images into folders based on predicted categories.\n",
    "    \n",
    "    Args:\n",
    "    dataframe (pd.DataFrame): The input DataFrame with `Production order` and `Predicted_Rubric` columns.\n",
    "    source_directory (str): Path to the source directory containing production order folders.\n",
    "    output_directory (str): Path to the output directory where category folders will be created.\n",
    "    \"\"\"\n",
    "    # Step 1: Drop duplicates based on 'Production order'\n",
    "    unique_df = dataframe.drop_duplicates(subset=['Production order'])\n",
    "\n",
    "    # Step 2: Create the output directory structure\n",
    "    if not os.path.exists(output_directory):\n",
    "        os.makedirs(output_directory)\n",
    "    for category in unique_df['Predicted_Rubric'].unique():\n",
    "        category_path = os.path.join(output_directory, category)\n",
    "        os.makedirs(category_path, exist_ok=True)\n",
    "\n",
    "    # Step 3: Copy images to the corresponding category folder\n",
    "    for _, row in unique_df.iterrows():\n",
    "        production_order = row['Production order']\n",
    "        predicted_category = row['Predicted_Rubric']\n",
    "\n",
    "        # Path to the source folder for the production order\n",
    "        source_folder = os.path.join(source_directory, str(production_order))\n",
    "\n",
    "        # Check if the source folder exists\n",
    "        if not os.path.exists(source_folder):\n",
    "            print(f\"Source folder not found for Production Order: {production_order}\")\n",
    "            continue\n",
    "\n",
    "        # Destination folder for the predicted category\n",
    "        destination_folder = os.path.join(output_directory, predicted_category)\n",
    "\n",
    "        # Copy all images from the source folder to the destination folder\n",
    "        for file_name in os.listdir(source_folder):\n",
    "            source_file = os.path.join(source_folder, file_name)\n",
    "            destination_file = os.path.join(destination_folder, file_name)\n",
    "\n",
    "            # Check if it's a file (skip directories)\n",
    "            # Check if it's a file (skip directories)\n",
    "            if os.path.isfile(source_file):\n",
    "                # Add the Production order as a prefix to the image name\n",
    "                prefixed_name = f\"{production_order}_{file_name}\"\n",
    "                destination_file = os.path.join(destination_folder, prefixed_name)\n",
    "\n",
    "                shutil.copy(source_file, destination_file)\n",
    "\n",
    "    print(f\"Dataset organization complete. Files saved in: {output_directory}\")\n",
    "\n",
    "\n",
    "def main():\n",
    "    # Load the DataFrame\n",
    "    dataframe_file = 'filtered_classified_output.csv'  # Path to your DataFrame file\n",
    "    df = pd.read_csv(dataframe_file)\n",
    "\n",
    "    # Define directories\n",
    "    source_directory = 'data/data_2'  # Path to the directory containing production order folders\n",
    "    output_directory = 'dataset_final'  # Output directory for organized dataset\n",
    "\n",
    "    # Organize the dataset\n",
    "    organize_dataset(df, source_directory, output_directory)\n",
    "\n",
    "\n",
    "if __name__ == '__main__':\n",
    "    main()\n"
   ]
  },
  {
   "cell_type": "code",
   "execution_count": 1,
   "id": "0e695d06",
   "metadata": {},
   "outputs": [
    {
     "name": "stdout",
     "output_type": "stream",
     "text": [
      "Folder: dataset_final, Number of files: 0\n",
      "Folder: dataset_final/Foreign Object Damage, Number of files: 403\n",
      "Folder: dataset_final/Core deformation, Number of files: 1026\n",
      "Folder: dataset_final/Core displacement, Number of files: 1002\n",
      "Folder: dataset_final/Resin buildup, Number of files: 107\n",
      "Folder: dataset_final/Splice gap, Number of files: 430\n",
      "Folder: dataset_final/Core split, Number of files: 220\n",
      "Folder: dataset_final/.ipynb_checkpoints, Number of files: 0\n"
     ]
    }
   ],
   "source": [
    "import os\n",
    "\n",
    "def count_files_in_folders(directory):\n",
    "    \"\"\"\n",
    "    Counts the number of files in each folder in the given directory.\n",
    "\n",
    "    :param directory: The path to the directory to analyze.\n",
    "    :return: A dictionary where keys are folder paths and values are file counts.\n",
    "    \"\"\"\n",
    "    folder_file_count = {}\n",
    "\n",
    "    # Walk through the directory tree\n",
    "    for root, dirs, files in os.walk(directory):\n",
    "        folder_file_count[root] = len(files)\n",
    "\n",
    "    return folder_file_count\n",
    "\n",
    "if __name__ == \"__main__\":\n",
    "    # Example: Replace 'your_directory_path' with the target directory\n",
    "    directory_path = 'dataset_final'\n",
    "\n",
    "    if os.path.exists(directory_path) and os.path.isdir(directory_path):\n",
    "        result = count_files_in_folders(directory_path)\n",
    "        for folder, count in result.items():\n",
    "            print(f\"Folder: {folder}, Number of files: {count}\")\n",
    "    else:\n",
    "        print(\"The provided path is not a valid directory.\")"
   ]
  },
  {
   "cell_type": "code",
   "execution_count": null,
   "id": "268d1e27",
   "metadata": {},
   "outputs": [],
   "source": []
  }
 ],
 "metadata": {
  "kernelspec": {
   "display_name": "Python 3 (ipykernel)",
   "language": "python",
   "name": "python3"
  },
  "language_info": {
   "codemirror_mode": {
    "name": "ipython",
    "version": 3
   },
   "file_extension": ".py",
   "mimetype": "text/x-python",
   "name": "python",
   "nbconvert_exporter": "python",
   "pygments_lexer": "ipython3",
   "version": "3.11.5"
  }
 },
 "nbformat": 4,
 "nbformat_minor": 5
}
