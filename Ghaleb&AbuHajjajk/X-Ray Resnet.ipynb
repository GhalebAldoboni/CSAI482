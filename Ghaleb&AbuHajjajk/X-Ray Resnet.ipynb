{
 "cells": [
  {
   "cell_type": "code",
   "execution_count": 1,
   "id": "7d15fc3f",
   "metadata": {},
   "outputs": [],
   "source": [
    "import os\n",
    "import torch\n",
    "from torch import nn, optim\n",
    "from torch.utils.data import Dataset, DataLoader, random_split\n",
    "from torchvision import transforms, models\n",
    "from PIL import Image\n",
    "import torch.cuda.amp as amp\n",
    "from tqdm.notebook import tqdm\n",
    "import numpy as np\n",
    "import json\n",
    "\n",
    "\n",
    "class LocalImageDataset(Dataset):\n",
    "    def __init__(self, root_dir, transform=None):\n",
    "        self.root_dir = root_dir\n",
    "        self.transform = transform\n",
    "        \n",
    "        # Get class names and create label mapping\n",
    "        self.classes = sorted([d for d in os.listdir(root_dir) if os.path.isdir(os.path.join(root_dir, d))])\n",
    "        self.class_to_idx = {cls_name: idx for idx, cls_name in enumerate(self.classes)}\n",
    "        \n",
    "        # Collect all image paths and their labels\n",
    "        self.images = []\n",
    "        self.labels = []\n",
    "        \n",
    "        for cls_name in self.classes:\n",
    "            class_dir = os.path.join(root_dir, cls_name)\n",
    "            for img_name in os.listdir(class_dir):\n",
    "                if img_name.lower().endswith(('.png', '.jpg', '.jpeg', '.bmp', '.gif')):\n",
    "                    self.images.append(os.path.join(class_dir, img_name))\n",
    "                    self.labels.append(self.class_to_idx[cls_name])\n",
    "    \n",
    "    def __len__(self):\n",
    "        return len(self.images)\n",
    "    \n",
    "    def __getitem__(self, idx):\n",
    "        img_path = self.images[idx]\n",
    "        image = Image.open(img_path).convert('RGB')\n",
    "        label = self.labels[idx]\n",
    "        \n",
    "        if self.transform:\n",
    "            image = self.transform(image)\n",
    "        \n",
    "        return image, label\n",
    "\n",
    "def train_test_split(dataset, test_size=0.2, shuffle=True):\n",
    "    \"\"\"\n",
    "    Split dataset into train and test sets\n",
    "    \n",
    "    Args:\n",
    "    - dataset: The full dataset\n",
    "    - test_size: Proportion of dataset to include in test split (0.0 to 1.0)\n",
    "    - shuffle: Whether to shuffle before splitting\n",
    "    \n",
    "    Returns:\n",
    "    - train_dataset, test_dataset\n",
    "    \"\"\"\n",
    "    test_size = int(len(dataset) * test_size)\n",
    "    train_size = len(dataset) - test_size\n",
    "    \n",
    "    return random_split(dataset, [train_size, test_size])\n",
    "\n",
    "\n",
    "def evaluate_model(model, test_dataloader, device, output_file=\"evaluation_results_resnet_no defect.json\"):\n",
    "    \"\"\"\n",
    "    Evaluate the model on test dataset and save the results to a JSON file.\n",
    "    \n",
    "    Args:\n",
    "    - model: Trained PyTorch model\n",
    "    - test_dataloader: DataLoader for test dataset\n",
    "    - device: torch.device to run the evaluation on\n",
    "    - output_file: Path to save the output JSON file\n",
    "    \n",
    "    Returns:\n",
    "    - Dictionary of evaluation metrics\n",
    "    \"\"\"\n",
    "    model.eval()\n",
    "    correct = 0\n",
    "    total = 0\n",
    "    class_correct = [0] * len(test_dataloader.dataset.dataset.classes)\n",
    "    class_total = [0] * len(test_dataloader.dataset.dataset.classes)\n",
    "    \n",
    "    confusion_matrix = np.zeros((len(test_dataloader.dataset.dataset.classes), \n",
    "                                  len(test_dataloader.dataset.dataset.classes)), \n",
    "                                 dtype=int)\n",
    "    \n",
    "    with torch.no_grad():\n",
    "        for inputs, labels in tqdm(test_dataloader, desc=\"Evaluation\", position=0):\n",
    "            inputs, labels = inputs.to(device), labels.to(device)\n",
    "            \n",
    "            outputs = model(inputs)\n",
    "            _, predicted = torch.max(outputs.data, 1)\n",
    "            \n",
    "            total += labels.size(0)\n",
    "            correct += (predicted == labels).sum().item()\n",
    "            \n",
    "            # Per-class accuracy\n",
    "            for i in range(len(labels)):\n",
    "                label = labels[i]\n",
    "                pred = predicted[i]\n",
    "                class_correct[label] += (pred == label).item()\n",
    "                class_total[label] += 1\n",
    "                \n",
    "                # Confusion matrix\n",
    "                confusion_matrix[label][pred] += 1\n",
    "    \n",
    "    # Calculate metrics\n",
    "    overall_accuracy = 100 * correct / total\n",
    "    \n",
    "    # Per-class accuracy\n",
    "    class_accuracies = [100 * class_correct[i] / class_total[i] if class_total[i] > 0 else 0 \n",
    "                        for i in range(len(class_total))]\n",
    "    \n",
    "    # Prepare the results dictionary\n",
    "    results = {\n",
    "        'overall_accuracy': overall_accuracy,\n",
    "        'class_accuracies': class_accuracies,\n",
    "        'confusion_matrix': confusion_matrix.tolist(),  # Convert numpy array to list for JSON serialization\n",
    "        'class_names': test_dataloader.dataset.dataset.classes\n",
    "    }\n",
    "    \n",
    "    try:\n",
    "        with open(output_file, 'r') as f:\n",
    "            data = json.load(f)\n",
    "    except (FileNotFoundError, json.JSONDecodeError):\n",
    "        data = []\n",
    "\n",
    "    # Append the new epoch data to the list\n",
    "    data.append(results)\n",
    "\n",
    "    # Write the updated data back to the file\n",
    "    with open(output_file, 'w') as f:\n",
    "        json.dump(data, f, indent=4)\n",
    "    return results\n",
    "\n",
    "def fine_tune_model(\n",
    "    dataset_path, \n",
    "    batch_size=8, \n",
    "    num_epochs=10, \n",
    "    learning_rate=0.0001,\n",
    "    test_size=0.2\n",
    "):\n",
    "    # Define transformations\n",
    "    transform = transforms.Compose([\n",
    "        transforms.Resize((224, 224)),  \n",
    "        #transforms.RandomHorizontalFlip(),\n",
    "        transforms.RandomRotation(10),\n",
    "        transforms.ToTensor(),\n",
    "        transforms.Normalize(mean=[0.485, 0.456, 0.406], std=[0.229, 0.224, 0.225])\n",
    "    ])\n",
    "    # Create full dataset\n",
    "    full_dataset = LocalImageDataset(dataset_path, transform=transform)\n",
    "    \n",
    "    # Split dataset\n",
    "    train_dataset, test_dataset = train_test_split(full_dataset, test_size=test_size)\n",
    "    \n",
    "    # Create DataLoaders\n",
    "    train_dataloader = DataLoader(\n",
    "        train_dataset, \n",
    "        batch_size=batch_size, \n",
    "        shuffle=True, \n",
    "        num_workers=4,\n",
    "        pin_memory=True\n",
    "    )\n",
    "    \n",
    "    test_dataloader = DataLoader(\n",
    "        test_dataset, \n",
    "        batch_size=batch_size, \n",
    "        shuffle=False, \n",
    "        num_workers=4,\n",
    "        pin_memory=True\n",
    "    )\n",
    "    \n",
    "    # Get number of classes\n",
    "    num_classes = len(full_dataset.classes)\n",
    "    print(f\"Number of classes detected: {num_classes}\")\n",
    "    print(\"Classes:\", full_dataset.classes)\n",
    "    print(f\"Total images: {len(full_dataset)}\")\n",
    "    print(f\"Training images: {len(train_dataset)}\")\n",
    "    print(f\"Test images: {len(test_dataset)}\")\n",
    "    \n",
    "    # Load pre-trained model\n",
    "    model = models.resnet50(pretrained=True)\n",
    "    # Modify input layer and final classification layer\n",
    "    model.conv1 = nn.Conv2d(3, 64, kernel_size=(7, 7), stride=(2, 2), padding=(3, 3), bias=False)\n",
    "    model.fc = nn.Linear(model.fc.in_features, num_classes)\n",
    "    model = torch.nn.DataParallel(model)\n",
    "\n",
    "    # Move to GPU\n",
    "    device = torch.device('cuda' if torch.cuda.is_available() else 'cpu')\n",
    "    model = model.to(device)\n",
    "    \n",
    "    # Loss and optimizer\n",
    "    criterion = nn.CrossEntropyLoss()\n",
    "    optimizer = optim.AdamW(model.parameters(), lr=learning_rate)\n",
    "    \n",
    "    # Mixed precision training\n",
    "    scaler = amp.GradScaler()\n",
    "    \n",
    "    # Training loop\n",
    "    for epoch in tqdm(range(num_epochs), desc=\"Epochs\", position=0):\n",
    "        model.train()\n",
    "        total_loss = 0\n",
    "        correct_predictions = 0\n",
    "        total_samples = 0\n",
    "        \n",
    "        # Progress bar for batches\n",
    "        batch_progress = tqdm(train_dataloader, desc=f\"Epoch {epoch+1}\", position=1, leave=False)\n",
    "        \n",
    "        for inputs, labels in batch_progress:\n",
    "            # Move to GPU\n",
    "            inputs = inputs.to(device)\n",
    "            labels = labels.to(device)\n",
    "            \n",
    "            # Zero gradients\n",
    "            optimizer.zero_grad()\n",
    "            \n",
    "            # Mixed precision forward pass\n",
    "            with amp.autocast(enabled=True):\n",
    "                outputs = model(inputs)\n",
    "                loss = criterion(outputs, labels)\n",
    "            \n",
    "            # Backward pass\n",
    "            scaler.scale(loss).backward()\n",
    "            scaler.step(optimizer)\n",
    "            scaler.update()\n",
    "            \n",
    "            # Metrics\n",
    "            total_loss += loss.item()\n",
    "            _, predicted = torch.max(outputs, 1)\n",
    "            correct_predictions += (predicted == labels).sum().item()\n",
    "            total_samples += labels.size(0)\n",
    "            \n",
    "            # Update batch progress bar\n",
    "            batch_progress.set_postfix({\n",
    "                'Loss': f\"{loss.item():.4f}\",\n",
    "                'Accuracy': f\"{correct_predictions / total_samples * 100:.2f}%\"\n",
    "            })\n",
    "        \n",
    "        # Print epoch statistics\n",
    "        epoch_loss = total_loss / len(train_dataloader)\n",
    "        epoch_accuracy = correct_predictions / total_samples * 100\n",
    "\n",
    "        # Prepare the data to append\n",
    "        epoch_data = {\n",
    "            \"epoch\": epoch + 1,\n",
    "            \"loss\": epoch_loss,\n",
    "            \"accuracy\": epoch_accuracy\n",
    "        }\n",
    "\n",
    "        # Append to the JSON file\n",
    "        json_file = 'train_eval_no defct.json'\n",
    "\n",
    "        # Load existing data from the file, if it exists, or initialize as an empty list\n",
    "        try:\n",
    "            with open(json_file, 'r') as f:\n",
    "                data = json.load(f)\n",
    "        except (FileNotFoundError, json.JSONDecodeError):\n",
    "            data = []\n",
    "\n",
    "        # Append the new epoch data to the list\n",
    "        data.append(epoch_data)\n",
    "\n",
    "        # Write the updated data back to the file\n",
    "        with open(json_file, 'w') as f:\n",
    "            json.dump(data, f, indent=4)\n",
    "\n",
    "        # Print to console (optional, as you want to append to JSON, not print)\n",
    "        print(f\"Epoch {epoch+1}/{num_epochs} - Loss: {epoch_loss:.4f}, Accuracy: {epoch_accuracy:.2f}%\")\n",
    "    # Evaluate the model\n",
    "        eval_results = evaluate_model(model, test_dataloader, device)\n",
    "    \n",
    "    # Print evaluation results\n",
    "        print(\"\\nEvaluation Results:\")\n",
    "        print(f\"Overall Accuracy: {eval_results}%\")\n",
    "    \n",
    "    print(\"\\nClass-wise Accuracies:\")\n",
    "    for cls, acc in zip(eval_results['class_names'], eval_results['class_accuracies']):\n",
    "        print(f\"{cls}: {acc:.2f}%\")\n",
    "    \n",
    "    # Save the model with evaluation results\n",
    "    save_path = 'fine_tuned_model_NoDefect.pth'\n",
    "    torch.save({\n",
    "        'model_state_dict': model.state_dict(),\n",
    "        'class_to_idx': full_dataset.class_to_idx,\n",
    "        'classes': full_dataset.classes,\n",
    "        'evaluation_results': eval_results\n",
    "    }, save_path)\n",
    "    print(f\"\\nModel saved to {save_path}\")\n",
    "    \n",
    "    return model, eval_results\n",
    "\n"
   ]
  },
  {
   "cell_type": "code",
   "execution_count": 2,
   "id": "8cd74e1a",
   "metadata": {},
   "outputs": [
    {
     "name": "stdout",
     "output_type": "stream",
     "text": [
      "Number of classes detected: 8\n",
      "Classes: ['.ipynb_checkpoints', 'Core deformation', 'Core displacement', 'Core split', 'Foreign Object Damage', 'No defect', 'Resin buildup', 'Splice gap']\n",
      "Total images: 3350\n",
      "Training images: 2680\n",
      "Test images: 670\n"
     ]
    },
    {
     "name": "stderr",
     "output_type": "stream",
     "text": [
      "/opt/conda/lib/python3.11/site-packages/torchvision/models/_utils.py:208: UserWarning: The parameter 'pretrained' is deprecated since 0.13 and may be removed in the future, please use 'weights' instead.\n",
      "  warnings.warn(\n",
      "/opt/conda/lib/python3.11/site-packages/torchvision/models/_utils.py:223: UserWarning: Arguments other than a weight enum or `None` for 'weights' are deprecated since 0.13 and may be removed in the future. The current behavior is equivalent to passing `weights=ResNet50_Weights.IMAGENET1K_V1`. You can also use `weights=ResNet50_Weights.DEFAULT` to get the most up-to-date weights.\n",
      "  warnings.warn(msg)\n",
      "/tmp/ipykernel_1829/3341243111.py:198: FutureWarning: `torch.cuda.amp.GradScaler(args...)` is deprecated. Please use `torch.amp.GradScaler('cuda', args...)` instead.\n",
      "  scaler = amp.GradScaler()\n"
     ]
    },
    {
     "data": {
      "application/vnd.jupyter.widget-view+json": {
       "model_id": "a15afdbab2c344bfb99442c99ac86bad",
       "version_major": 2,
       "version_minor": 0
      },
      "text/plain": [
       "Epochs:   0%|          | 0/100 [00:00<?, ?it/s]"
      ]
     },
     "metadata": {},
     "output_type": "display_data"
    },
    {
     "data": {
      "application/vnd.jupyter.widget-view+json": {
       "model_id": "",
       "version_major": 2,
       "version_minor": 0
      },
      "text/plain": [
       "Epoch 1:   0%|          | 0/168 [00:00<?, ?it/s]"
      ]
     },
     "metadata": {},
     "output_type": "display_data"
    },
    {
     "name": "stderr",
     "output_type": "stream",
     "text": [
      "/tmp/ipykernel_1829/3341243111.py:219: FutureWarning: `torch.cuda.amp.autocast(args...)` is deprecated. Please use `torch.amp.autocast('cuda', args...)` instead.\n",
      "  with amp.autocast(enabled=True):\n"
     ]
    },
    {
     "name": "stdout",
     "output_type": "stream",
     "text": [
      "Epoch 1/100 - Loss: 1.5635, Accuracy: 43.10%\n"
     ]
    },
    {
     "data": {
      "application/vnd.jupyter.widget-view+json": {
       "model_id": "5d6496085a3b461ab7c471393507ac5c",
       "version_major": 2,
       "version_minor": 0
      },
      "text/plain": [
       "Evaluation:   0%|          | 0/42 [00:00<?, ?it/s]"
      ]
     },
     "metadata": {},
     "output_type": "display_data"
    },
    {
     "name": "stdout",
     "output_type": "stream",
     "text": [
      "\n",
      "Evaluation Results:\n",
      "Overall Accuracy: {'overall_accuracy': 48.95522388059702, 'class_accuracies': [0, 56.39810426540284, 56.92307692307692, 6.666666666666667, 67.0886075949367, 0.0, 0.0, 49.411764705882355], 'confusion_matrix': [[0, 0, 0, 0, 0, 0, 0, 0], [0, 119, 16, 3, 59, 0, 0, 14], [0, 21, 111, 0, 53, 0, 0, 10], [0, 18, 4, 3, 17, 0, 0, 3], [0, 18, 7, 0, 53, 0, 0, 1], [0, 11, 5, 0, 14, 0, 0, 2], [0, 6, 5, 0, 7, 0, 0, 5], [0, 28, 4, 1, 10, 0, 0, 42]], 'class_names': ['.ipynb_checkpoints', 'Core deformation', 'Core displacement', 'Core split', 'Foreign Object Damage', 'No defect', 'Resin buildup', 'Splice gap']}%\n"
     ]
    },
    {
     "data": {
      "application/vnd.jupyter.widget-view+json": {
       "model_id": "",
       "version_major": 2,
       "version_minor": 0
      },
      "text/plain": [
       "Epoch 2:   0%|          | 0/168 [00:00<?, ?it/s]"
      ]
     },
     "metadata": {},
     "output_type": "display_data"
    },
    {
     "name": "stdout",
     "output_type": "stream",
     "text": [
      "Epoch 2/100 - Loss: 1.4033, Accuracy: 50.45%\n"
     ]
    },
    {
     "data": {
      "application/vnd.jupyter.widget-view+json": {
       "model_id": "593dbef8dfb34e4f9693047b45f26e4a",
       "version_major": 2,
       "version_minor": 0
      },
      "text/plain": [
       "Evaluation:   0%|          | 0/42 [00:00<?, ?it/s]"
      ]
     },
     "metadata": {},
     "output_type": "display_data"
    },
    {
     "name": "stdout",
     "output_type": "stream",
     "text": [
      "\n",
      "Evaluation Results:\n",
      "Overall Accuracy: {'overall_accuracy': 52.08955223880597, 'class_accuracies': [0, 38.86255924170616, 59.48717948717949, 22.22222222222222, 68.35443037974683, 43.75, 0.0, 85.88235294117646], 'confusion_matrix': [[0, 0, 0, 0, 0, 0, 0, 0], [0, 82, 6, 3, 70, 7, 0, 43], [0, 18, 116, 1, 44, 3, 1, 12], [0, 8, 4, 10, 6, 1, 1, 15], [0, 12, 7, 1, 54, 0, 0, 5], [0, 8, 3, 0, 5, 14, 0, 2], [0, 3, 2, 0, 9, 2, 0, 7], [0, 6, 0, 0, 6, 0, 0, 73]], 'class_names': ['.ipynb_checkpoints', 'Core deformation', 'Core displacement', 'Core split', 'Foreign Object Damage', 'No defect', 'Resin buildup', 'Splice gap']}%\n"
     ]
    },
    {
     "data": {
      "application/vnd.jupyter.widget-view+json": {
       "model_id": "",
       "version_major": 2,
       "version_minor": 0
      },
      "text/plain": [
       "Epoch 3:   0%|          | 0/168 [00:00<?, ?it/s]"
      ]
     },
     "metadata": {},
     "output_type": "display_data"
    },
    {
     "name": "stdout",
     "output_type": "stream",
     "text": [
      "Epoch 3/100 - Loss: 1.3156, Accuracy: 53.81%\n"
     ]
    },
    {
     "data": {
      "application/vnd.jupyter.widget-view+json": {
       "model_id": "68337ac8761e4e2eb700324036d65dd4",
       "version_major": 2,
       "version_minor": 0
      },
      "text/plain": [
       "Evaluation:   0%|          | 0/42 [00:00<?, ?it/s]"
      ]
     },
     "metadata": {},
     "output_type": "display_data"
    },
    {
     "name": "stdout",
     "output_type": "stream",
     "text": [
      "\n",
      "Evaluation Results:\n",
      "Overall Accuracy: {'overall_accuracy': 57.61194029850746, 'class_accuracies': [0, 66.35071090047393, 56.41025641025641, 28.88888888888889, 59.49367088607595, 37.5, 4.3478260869565215, 74.11764705882354], 'confusion_matrix': [[0, 0, 0, 0, 0, 0, 0, 0], [0, 140, 8, 8, 24, 7, 2, 22], [0, 37, 110, 2, 27, 9, 2, 8], [0, 12, 1, 13, 12, 2, 0, 5], [0, 20, 3, 0, 47, 4, 0, 5], [0, 8, 2, 0, 4, 12, 0, 6], [0, 9, 3, 0, 6, 1, 1, 3], [0, 16, 0, 0, 2, 3, 1, 63]], 'class_names': ['.ipynb_checkpoints', 'Core deformation', 'Core displacement', 'Core split', 'Foreign Object Damage', 'No defect', 'Resin buildup', 'Splice gap']}%\n"
     ]
    },
    {
     "data": {
      "application/vnd.jupyter.widget-view+json": {
       "model_id": "",
       "version_major": 2,
       "version_minor": 0
      },
      "text/plain": [
       "Epoch 4:   0%|          | 0/168 [00:00<?, ?it/s]"
      ]
     },
     "metadata": {},
     "output_type": "display_data"
    },
    {
     "name": "stdout",
     "output_type": "stream",
     "text": [
      "Epoch 4/100 - Loss: 1.2083, Accuracy: 58.28%\n"
     ]
    },
    {
     "data": {
      "application/vnd.jupyter.widget-view+json": {
       "model_id": "aa679548d21a422795505abfbf185969",
       "version_major": 2,
       "version_minor": 0
      },
      "text/plain": [
       "Evaluation:   0%|          | 0/42 [00:00<?, ?it/s]"
      ]
     },
     "metadata": {},
     "output_type": "display_data"
    },
    {
     "name": "stdout",
     "output_type": "stream",
     "text": [
      "\n",
      "Evaluation Results:\n",
      "Overall Accuracy: {'overall_accuracy': 54.62686567164179, 'class_accuracies': [0, 56.39810426540284, 68.71794871794872, 33.333333333333336, 46.835443037974684, 40.625, 13.043478260869565, 52.94117647058823], 'confusion_matrix': [[0, 0, 0, 0, 0, 0, 0, 0], [0, 119, 15, 4, 57, 0, 4, 12], [0, 49, 134, 1, 5, 1, 2, 3], [0, 22, 2, 15, 4, 0, 0, 2], [0, 23, 10, 1, 37, 1, 4, 3], [0, 12, 3, 0, 1, 13, 2, 1], [0, 11, 3, 0, 4, 0, 3, 2], [0, 27, 1, 1, 10, 0, 1, 45]], 'class_names': ['.ipynb_checkpoints', 'Core deformation', 'Core displacement', 'Core split', 'Foreign Object Damage', 'No defect', 'Resin buildup', 'Splice gap']}%\n"
     ]
    },
    {
     "data": {
      "application/vnd.jupyter.widget-view+json": {
       "model_id": "",
       "version_major": 2,
       "version_minor": 0
      },
      "text/plain": [
       "Epoch 5:   0%|          | 0/168 [00:00<?, ?it/s]"
      ]
     },
     "metadata": {},
     "output_type": "display_data"
    },
    {
     "name": "stdout",
     "output_type": "stream",
     "text": [
      "Epoch 5/100 - Loss: 1.0910, Accuracy: 63.54%\n"
     ]
    },
    {
     "data": {
      "application/vnd.jupyter.widget-view+json": {
       "model_id": "04cb20383a25469ca99bb0cd9e0f7690",
       "version_major": 2,
       "version_minor": 0
      },
      "text/plain": [
       "Evaluation:   0%|          | 0/42 [00:00<?, ?it/s]"
      ]
     },
     "metadata": {},
     "output_type": "display_data"
    },
    {
     "name": "stdout",
     "output_type": "stream",
     "text": [
      "\n",
      "Evaluation Results:\n",
      "Overall Accuracy: {'overall_accuracy': 58.95522388059702, 'class_accuracies': [0, 58.29383886255924, 72.82051282051282, 40.0, 45.56962025316456, 40.625, 43.47826086956522, 62.35294117647059], 'confusion_matrix': [[0, 0, 0, 0, 0, 0, 0, 0], [0, 123, 16, 11, 19, 2, 15, 25], [0, 19, 142, 2, 13, 1, 7, 11], [0, 7, 3, 18, 0, 1, 7, 9], [0, 12, 14, 3, 36, 1, 10, 3], [0, 6, 3, 0, 4, 13, 2, 4], [0, 2, 4, 0, 3, 1, 10, 3], [0, 18, 1, 3, 2, 1, 7, 53]], 'class_names': ['.ipynb_checkpoints', 'Core deformation', 'Core displacement', 'Core split', 'Foreign Object Damage', 'No defect', 'Resin buildup', 'Splice gap']}%\n"
     ]
    },
    {
     "data": {
      "application/vnd.jupyter.widget-view+json": {
       "model_id": "",
       "version_major": 2,
       "version_minor": 0
      },
      "text/plain": [
       "Epoch 6:   0%|          | 0/168 [00:00<?, ?it/s]"
      ]
     },
     "metadata": {},
     "output_type": "display_data"
    },
    {
     "name": "stdout",
     "output_type": "stream",
     "text": [
      "Epoch 6/100 - Loss: 1.0164, Accuracy: 66.90%\n"
     ]
    },
    {
     "data": {
      "application/vnd.jupyter.widget-view+json": {
       "model_id": "1607bf78018545efae6d1c65dd586c8b",
       "version_major": 2,
       "version_minor": 0
      },
      "text/plain": [
       "Evaluation:   0%|          | 0/42 [00:00<?, ?it/s]"
      ]
     },
     "metadata": {},
     "output_type": "display_data"
    },
    {
     "name": "stdout",
     "output_type": "stream",
     "text": [
      "\n",
      "Evaluation Results:\n",
      "Overall Accuracy: {'overall_accuracy': 51.791044776119406, 'class_accuracies': [0, 26.066350710900473, 70.76923076923077, 55.55555555555556, 77.21518987341773, 12.5, 8.695652173913043, 72.94117647058823], 'confusion_matrix': [[0, 0, 0, 0, 0, 0, 0, 0], [0, 55, 12, 6, 73, 1, 2, 62], [0, 2, 138, 2, 39, 2, 1, 11], [0, 3, 2, 25, 12, 0, 0, 3], [0, 4, 6, 0, 61, 0, 0, 8], [0, 4, 4, 1, 5, 4, 1, 13], [0, 0, 2, 0, 15, 0, 2, 4], [0, 3, 1, 3, 15, 0, 1, 62]], 'class_names': ['.ipynb_checkpoints', 'Core deformation', 'Core displacement', 'Core split', 'Foreign Object Damage', 'No defect', 'Resin buildup', 'Splice gap']}%\n"
     ]
    },
    {
     "data": {
      "application/vnd.jupyter.widget-view+json": {
       "model_id": "",
       "version_major": 2,
       "version_minor": 0
      },
      "text/plain": [
       "Epoch 7:   0%|          | 0/168 [00:00<?, ?it/s]"
      ]
     },
     "metadata": {},
     "output_type": "display_data"
    },
    {
     "name": "stdout",
     "output_type": "stream",
     "text": [
      "Epoch 7/100 - Loss: 0.9006, Accuracy: 71.08%\n"
     ]
    },
    {
     "data": {
      "application/vnd.jupyter.widget-view+json": {
       "model_id": "84a5cf8b321f430a83784657d9385c60",
       "version_major": 2,
       "version_minor": 0
      },
      "text/plain": [
       "Evaluation:   0%|          | 0/42 [00:00<?, ?it/s]"
      ]
     },
     "metadata": {},
     "output_type": "display_data"
    },
    {
     "name": "stdout",
     "output_type": "stream",
     "text": [
      "\n",
      "Evaluation Results:\n",
      "Overall Accuracy: {'overall_accuracy': 60.298507462686565, 'class_accuracies': [0, 47.867298578199055, 64.1025641025641, 68.88888888888889, 59.49367088607595, 43.75, 43.47826086956522, 89.41176470588235], 'confusion_matrix': [[0, 0, 0, 0, 0, 0, 0, 0], [0, 101, 11, 16, 16, 16, 13, 38], [0, 10, 125, 6, 12, 7, 19, 16], [0, 3, 1, 31, 2, 0, 4, 4], [0, 4, 7, 1, 47, 3, 11, 6], [0, 5, 5, 0, 1, 14, 3, 4], [0, 1, 2, 0, 1, 2, 10, 7], [0, 4, 0, 1, 2, 1, 1, 76]], 'class_names': ['.ipynb_checkpoints', 'Core deformation', 'Core displacement', 'Core split', 'Foreign Object Damage', 'No defect', 'Resin buildup', 'Splice gap']}%\n"
     ]
    },
    {
     "data": {
      "application/vnd.jupyter.widget-view+json": {
       "model_id": "",
       "version_major": 2,
       "version_minor": 0
      },
      "text/plain": [
       "Epoch 8:   0%|          | 0/168 [00:00<?, ?it/s]"
      ]
     },
     "metadata": {},
     "output_type": "display_data"
    },
    {
     "name": "stdout",
     "output_type": "stream",
     "text": [
      "Epoch 8/100 - Loss: 0.8483, Accuracy: 73.54%\n"
     ]
    },
    {
     "data": {
      "application/vnd.jupyter.widget-view+json": {
       "model_id": "4412c8fd6d984d369a4697f94c218dd2",
       "version_major": 2,
       "version_minor": 0
      },
      "text/plain": [
       "Evaluation:   0%|          | 0/42 [00:00<?, ?it/s]"
      ]
     },
     "metadata": {},
     "output_type": "display_data"
    },
    {
     "name": "stdout",
     "output_type": "stream",
     "text": [
      "\n",
      "Evaluation Results:\n",
      "Overall Accuracy: {'overall_accuracy': 66.71641791044776, 'class_accuracies': [0, 46.91943127962085, 88.2051282051282, 68.88888888888889, 74.68354430379746, 34.375, 34.78260869565217, 78.82352941176471], 'confusion_matrix': [[0, 0, 0, 0, 0, 0, 0, 0], [0, 99, 31, 17, 43, 1, 9, 11], [0, 10, 172, 3, 9, 0, 1, 0], [0, 1, 5, 31, 2, 0, 1, 5], [0, 4, 13, 0, 59, 1, 0, 2], [0, 5, 10, 0, 2, 11, 1, 3], [0, 1, 5, 0, 6, 0, 8, 3], [0, 6, 8, 2, 2, 0, 0, 67]], 'class_names': ['.ipynb_checkpoints', 'Core deformation', 'Core displacement', 'Core split', 'Foreign Object Damage', 'No defect', 'Resin buildup', 'Splice gap']}%\n"
     ]
    },
    {
     "data": {
      "application/vnd.jupyter.widget-view+json": {
       "model_id": "",
       "version_major": 2,
       "version_minor": 0
      },
      "text/plain": [
       "Epoch 9:   0%|          | 0/168 [00:00<?, ?it/s]"
      ]
     },
     "metadata": {},
     "output_type": "display_data"
    },
    {
     "name": "stdout",
     "output_type": "stream",
     "text": [
      "Epoch 9/100 - Loss: 0.6920, Accuracy: 78.92%\n"
     ]
    },
    {
     "data": {
      "application/vnd.jupyter.widget-view+json": {
       "model_id": "c3872d6b2072414eb5d42874da90e06f",
       "version_major": 2,
       "version_minor": 0
      },
      "text/plain": [
       "Evaluation:   0%|          | 0/42 [00:00<?, ?it/s]"
      ]
     },
     "metadata": {},
     "output_type": "display_data"
    },
    {
     "name": "stdout",
     "output_type": "stream",
     "text": [
      "\n",
      "Evaluation Results:\n",
      "Overall Accuracy: {'overall_accuracy': 65.07462686567165, 'class_accuracies': [0, 36.018957345971565, 80.0, 82.22222222222223, 87.34177215189874, 43.75, 43.47826086956522, 87.05882352941177], 'confusion_matrix': [[0, 0, 0, 0, 0, 0, 0, 0], [0, 76, 11, 16, 72, 12, 6, 18], [0, 9, 156, 1, 13, 6, 8, 2], [0, 1, 0, 37, 4, 0, 1, 2], [0, 1, 5, 0, 69, 3, 0, 1], [0, 3, 5, 1, 6, 14, 1, 2], [0, 2, 1, 0, 8, 1, 10, 1], [0, 2, 0, 1, 5, 1, 2, 74]], 'class_names': ['.ipynb_checkpoints', 'Core deformation', 'Core displacement', 'Core split', 'Foreign Object Damage', 'No defect', 'Resin buildup', 'Splice gap']}%\n"
     ]
    },
    {
     "data": {
      "application/vnd.jupyter.widget-view+json": {
       "model_id": "",
       "version_major": 2,
       "version_minor": 0
      },
      "text/plain": [
       "Epoch 10:   0%|          | 0/168 [00:00<?, ?it/s]"
      ]
     },
     "metadata": {},
     "output_type": "display_data"
    },
    {
     "name": "stdout",
     "output_type": "stream",
     "text": [
      "Epoch 10/100 - Loss: 0.6165, Accuracy: 82.65%\n"
     ]
    },
    {
     "data": {
      "application/vnd.jupyter.widget-view+json": {
       "model_id": "7a79d2cd9e454887a3a2b060ccb83939",
       "version_major": 2,
       "version_minor": 0
      },
      "text/plain": [
       "Evaluation:   0%|          | 0/42 [00:00<?, ?it/s]"
      ]
     },
     "metadata": {},
     "output_type": "display_data"
    },
    {
     "name": "stdout",
     "output_type": "stream",
     "text": [
      "\n",
      "Evaluation Results:\n",
      "Overall Accuracy: {'overall_accuracy': 70.29850746268657, 'class_accuracies': [0, 64.92890995260663, 75.8974358974359, 82.22222222222223, 60.75949367088607, 43.75, 39.130434782608695, 91.76470588235294], 'confusion_matrix': [[0, 0, 0, 0, 0, 0, 0, 0], [0, 137, 18, 15, 5, 12, 4, 20], [0, 13, 148, 9, 3, 10, 3, 9], [0, 1, 1, 37, 2, 1, 0, 3], [0, 5, 12, 4, 48, 2, 5, 3], [0, 6, 5, 3, 0, 14, 0, 4], [0, 2, 2, 1, 4, 0, 9, 5], [0, 3, 0, 0, 3, 1, 0, 78]], 'class_names': ['.ipynb_checkpoints', 'Core deformation', 'Core displacement', 'Core split', 'Foreign Object Damage', 'No defect', 'Resin buildup', 'Splice gap']}%\n"
     ]
    },
    {
     "data": {
      "application/vnd.jupyter.widget-view+json": {
       "model_id": "",
       "version_major": 2,
       "version_minor": 0
      },
      "text/plain": [
       "Epoch 11:   0%|          | 0/168 [00:00<?, ?it/s]"
      ]
     },
     "metadata": {},
     "output_type": "display_data"
    },
    {
     "name": "stdout",
     "output_type": "stream",
     "text": [
      "Epoch 11/100 - Loss: 0.5826, Accuracy: 82.61%\n"
     ]
    },
    {
     "data": {
      "application/vnd.jupyter.widget-view+json": {
       "model_id": "5f2481139bc64b0892eefd657e67bd6a",
       "version_major": 2,
       "version_minor": 0
      },
      "text/plain": [
       "Evaluation:   0%|          | 0/42 [00:00<?, ?it/s]"
      ]
     },
     "metadata": {},
     "output_type": "display_data"
    },
    {
     "name": "stdout",
     "output_type": "stream",
     "text": [
      "\n",
      "Evaluation Results:\n",
      "Overall Accuracy: {'overall_accuracy': 67.31343283582089, 'class_accuracies': [0, 46.44549763033175, 80.0, 86.66666666666667, 82.27848101265823, 43.75, 47.82608695652174, 80.0], 'confusion_matrix': [[0, 0, 0, 0, 0, 0, 0, 0], [0, 98, 21, 28, 42, 9, 5, 8], [0, 7, 156, 5, 21, 2, 2, 2], [0, 0, 2, 39, 2, 0, 1, 1], [0, 2, 8, 0, 65, 1, 1, 2], [0, 6, 2, 2, 6, 14, 0, 2], [0, 1, 3, 1, 5, 1, 11, 1], [0, 5, 1, 3, 5, 3, 0, 68]], 'class_names': ['.ipynb_checkpoints', 'Core deformation', 'Core displacement', 'Core split', 'Foreign Object Damage', 'No defect', 'Resin buildup', 'Splice gap']}%\n"
     ]
    },
    {
     "data": {
      "application/vnd.jupyter.widget-view+json": {
       "model_id": "",
       "version_major": 2,
       "version_minor": 0
      },
      "text/plain": [
       "Epoch 12:   0%|          | 0/168 [00:00<?, ?it/s]"
      ]
     },
     "metadata": {},
     "output_type": "display_data"
    },
    {
     "name": "stdout",
     "output_type": "stream",
     "text": [
      "Epoch 12/100 - Loss: 0.4786, Accuracy: 87.69%\n"
     ]
    },
    {
     "data": {
      "application/vnd.jupyter.widget-view+json": {
       "model_id": "5f91491940ca441aa0aeb214cb5602f6",
       "version_major": 2,
       "version_minor": 0
      },
      "text/plain": [
       "Evaluation:   0%|          | 0/42 [00:00<?, ?it/s]"
      ]
     },
     "metadata": {},
     "output_type": "display_data"
    },
    {
     "name": "stdout",
     "output_type": "stream",
     "text": [
      "\n",
      "Evaluation Results:\n",
      "Overall Accuracy: {'overall_accuracy': 69.40298507462687, 'class_accuracies': [0, 63.03317535545024, 67.6923076923077, 86.66666666666667, 81.0126582278481, 43.75, 47.82608695652174, 84.70588235294117], 'confusion_matrix': [[0, 0, 0, 0, 0, 0, 0, 0], [0, 133, 4, 30, 24, 4, 4, 12], [0, 4, 132, 12, 18, 20, 4, 5], [0, 2, 1, 39, 1, 1, 1, 0], [0, 5, 2, 4, 64, 3, 0, 1], [0, 7, 3, 0, 5, 14, 1, 2], [0, 2, 1, 2, 4, 0, 11, 3], [0, 3, 0, 6, 3, 1, 0, 72]], 'class_names': ['.ipynb_checkpoints', 'Core deformation', 'Core displacement', 'Core split', 'Foreign Object Damage', 'No defect', 'Resin buildup', 'Splice gap']}%\n"
     ]
    },
    {
     "data": {
      "application/vnd.jupyter.widget-view+json": {
       "model_id": "",
       "version_major": 2,
       "version_minor": 0
      },
      "text/plain": [
       "Epoch 13:   0%|          | 0/168 [00:00<?, ?it/s]"
      ]
     },
     "metadata": {},
     "output_type": "display_data"
    },
    {
     "name": "stdout",
     "output_type": "stream",
     "text": [
      "Epoch 13/100 - Loss: 0.4078, Accuracy: 89.89%\n"
     ]
    },
    {
     "data": {
      "application/vnd.jupyter.widget-view+json": {
       "model_id": "e00f88a9b08a42c78df54daed976ac3a",
       "version_major": 2,
       "version_minor": 0
      },
      "text/plain": [
       "Evaluation:   0%|          | 0/42 [00:00<?, ?it/s]"
      ]
     },
     "metadata": {},
     "output_type": "display_data"
    },
    {
     "name": "stdout",
     "output_type": "stream",
     "text": [
      "\n",
      "Evaluation Results:\n",
      "Overall Accuracy: {'overall_accuracy': 67.31343283582089, 'class_accuracies': [0, 61.611374407582936, 71.7948717948718, 84.44444444444444, 78.48101265822785, 43.75, 56.52173913043478, 63.529411764705884], 'confusion_matrix': [[0, 0, 0, 0, 0, 0, 0, 0], [0, 130, 6, 21, 43, 3, 5, 3], [0, 6, 140, 3, 23, 7, 16, 0], [0, 3, 1, 38, 1, 1, 1, 0], [0, 2, 2, 3, 62, 3, 6, 1], [0, 5, 4, 2, 4, 14, 1, 2], [0, 2, 1, 1, 6, 0, 13, 0], [0, 6, 1, 12, 8, 0, 4, 54]], 'class_names': ['.ipynb_checkpoints', 'Core deformation', 'Core displacement', 'Core split', 'Foreign Object Damage', 'No defect', 'Resin buildup', 'Splice gap']}%\n"
     ]
    },
    {
     "data": {
      "application/vnd.jupyter.widget-view+json": {
       "model_id": "",
       "version_major": 2,
       "version_minor": 0
      },
      "text/plain": [
       "Epoch 14:   0%|          | 0/168 [00:00<?, ?it/s]"
      ]
     },
     "metadata": {},
     "output_type": "display_data"
    },
    {
     "name": "stdout",
     "output_type": "stream",
     "text": [
      "Epoch 14/100 - Loss: 0.3614, Accuracy: 90.75%\n"
     ]
    },
    {
     "data": {
      "application/vnd.jupyter.widget-view+json": {
       "model_id": "c51a82260b2c4850a48aaaf6d3b33d6c",
       "version_major": 2,
       "version_minor": 0
      },
      "text/plain": [
       "Evaluation:   0%|          | 0/42 [00:00<?, ?it/s]"
      ]
     },
     "metadata": {},
     "output_type": "display_data"
    },
    {
     "name": "stdout",
     "output_type": "stream",
     "text": [
      "\n",
      "Evaluation Results:\n",
      "Overall Accuracy: {'overall_accuracy': 73.58208955223881, 'class_accuracies': [0, 58.29383886255924, 84.1025641025641, 80.0, 78.48101265822785, 46.875, 69.56521739130434, 90.58823529411765], 'confusion_matrix': [[0, 0, 0, 0, 0, 0, 0, 0], [0, 123, 12, 7, 26, 10, 13, 20], [0, 7, 164, 0, 10, 9, 2, 3], [0, 2, 3, 36, 1, 0, 1, 2], [0, 3, 6, 0, 62, 3, 1, 4], [0, 7, 7, 0, 0, 15, 1, 2], [0, 1, 3, 0, 3, 0, 16, 0], [0, 1, 1, 0, 2, 2, 2, 77]], 'class_names': ['.ipynb_checkpoints', 'Core deformation', 'Core displacement', 'Core split', 'Foreign Object Damage', 'No defect', 'Resin buildup', 'Splice gap']}%\n"
     ]
    },
    {
     "data": {
      "application/vnd.jupyter.widget-view+json": {
       "model_id": "",
       "version_major": 2,
       "version_minor": 0
      },
      "text/plain": [
       "Epoch 15:   0%|          | 0/168 [00:00<?, ?it/s]"
      ]
     },
     "metadata": {},
     "output_type": "display_data"
    },
    {
     "name": "stdout",
     "output_type": "stream",
     "text": [
      "Epoch 15/100 - Loss: 0.3310, Accuracy: 91.79%\n"
     ]
    },
    {
     "data": {
      "application/vnd.jupyter.widget-view+json": {
       "model_id": "4ca5fb5837734f5f9ed59e5f9b221c0b",
       "version_major": 2,
       "version_minor": 0
      },
      "text/plain": [
       "Evaluation:   0%|          | 0/42 [00:00<?, ?it/s]"
      ]
     },
     "metadata": {},
     "output_type": "display_data"
    },
    {
     "name": "stdout",
     "output_type": "stream",
     "text": [
      "\n",
      "Evaluation Results:\n",
      "Overall Accuracy: {'overall_accuracy': 70.74626865671642, 'class_accuracies': [0, 58.76777251184834, 78.46153846153847, 86.66666666666667, 69.62025316455696, 40.625, 60.869565217391305, 89.41176470588235], 'confusion_matrix': [[0, 0, 0, 0, 0, 0, 0, 0], [0, 124, 14, 46, 9, 4, 5, 9], [0, 5, 153, 8, 8, 13, 5, 3], [0, 1, 1, 39, 1, 0, 1, 2], [0, 3, 6, 6, 55, 5, 2, 2], [0, 6, 6, 3, 1, 13, 0, 3], [0, 0, 2, 1, 3, 1, 14, 2], [0, 1, 0, 3, 2, 3, 0, 76]], 'class_names': ['.ipynb_checkpoints', 'Core deformation', 'Core displacement', 'Core split', 'Foreign Object Damage', 'No defect', 'Resin buildup', 'Splice gap']}%\n"
     ]
    },
    {
     "data": {
      "application/vnd.jupyter.widget-view+json": {
       "model_id": "",
       "version_major": 2,
       "version_minor": 0
      },
      "text/plain": [
       "Epoch 16:   0%|          | 0/168 [00:00<?, ?it/s]"
      ]
     },
     "metadata": {},
     "output_type": "display_data"
    },
    {
     "name": "stdout",
     "output_type": "stream",
     "text": [
      "Epoch 16/100 - Loss: 0.2904, Accuracy: 92.43%\n"
     ]
    },
    {
     "data": {
      "application/vnd.jupyter.widget-view+json": {
       "model_id": "8536be34dac64b429e9d66e1be5bdae1",
       "version_major": 2,
       "version_minor": 0
      },
      "text/plain": [
       "Evaluation:   0%|          | 0/42 [00:00<?, ?it/s]"
      ]
     },
     "metadata": {},
     "output_type": "display_data"
    },
    {
     "name": "stdout",
     "output_type": "stream",
     "text": [
      "\n",
      "Evaluation Results:\n",
      "Overall Accuracy: {'overall_accuracy': 75.5223880597015, 'class_accuracies': [0, 72.98578199052133, 82.56410256410257, 91.11111111111111, 82.27848101265823, 43.75, 65.21739130434783, 65.88235294117646], 'confusion_matrix': [[0, 0, 0, 0, 0, 0, 0, 0], [0, 154, 6, 17, 22, 4, 6, 2], [0, 7, 161, 4, 16, 5, 2, 0], [0, 1, 1, 41, 0, 2, 0, 0], [0, 2, 3, 2, 65, 2, 5, 0], [0, 7, 6, 1, 2, 14, 1, 1], [0, 1, 1, 1, 4, 0, 15, 1], [0, 4, 4, 7, 5, 8, 1, 56]], 'class_names': ['.ipynb_checkpoints', 'Core deformation', 'Core displacement', 'Core split', 'Foreign Object Damage', 'No defect', 'Resin buildup', 'Splice gap']}%\n"
     ]
    },
    {
     "data": {
      "application/vnd.jupyter.widget-view+json": {
       "model_id": "",
       "version_major": 2,
       "version_minor": 0
      },
      "text/plain": [
       "Epoch 17:   0%|          | 0/168 [00:00<?, ?it/s]"
      ]
     },
     "metadata": {},
     "output_type": "display_data"
    },
    {
     "name": "stdout",
     "output_type": "stream",
     "text": [
      "Epoch 17/100 - Loss: 0.2591, Accuracy: 93.17%\n"
     ]
    },
    {
     "data": {
      "application/vnd.jupyter.widget-view+json": {
       "model_id": "6d17ddbbec184f83a6ffc3533b474a08",
       "version_major": 2,
       "version_minor": 0
      },
      "text/plain": [
       "Evaluation:   0%|          | 0/42 [00:00<?, ?it/s]"
      ]
     },
     "metadata": {},
     "output_type": "display_data"
    },
    {
     "name": "stdout",
     "output_type": "stream",
     "text": [
      "\n",
      "Evaluation Results:\n",
      "Overall Accuracy: {'overall_accuracy': 76.26865671641791, 'class_accuracies': [0, 67.77251184834124, 83.58974358974359, 80.0, 86.07594936708861, 43.75, 52.17391304347826, 88.23529411764706], 'confusion_matrix': [[0, 0, 0, 0, 0, 0, 0, 0], [0, 143, 9, 9, 25, 10, 3, 12], [0, 8, 163, 2, 17, 3, 1, 1], [0, 2, 2, 36, 2, 0, 0, 3], [0, 1, 4, 1, 68, 4, 0, 1], [0, 7, 7, 1, 0, 14, 0, 3], [0, 0, 2, 1, 6, 0, 12, 2], [0, 2, 1, 2, 3, 0, 2, 75]], 'class_names': ['.ipynb_checkpoints', 'Core deformation', 'Core displacement', 'Core split', 'Foreign Object Damage', 'No defect', 'Resin buildup', 'Splice gap']}%\n"
     ]
    },
    {
     "data": {
      "application/vnd.jupyter.widget-view+json": {
       "model_id": "",
       "version_major": 2,
       "version_minor": 0
      },
      "text/plain": [
       "Epoch 18:   0%|          | 0/168 [00:00<?, ?it/s]"
      ]
     },
     "metadata": {},
     "output_type": "display_data"
    },
    {
     "name": "stdout",
     "output_type": "stream",
     "text": [
      "Epoch 18/100 - Loss: 0.2292, Accuracy: 94.07%\n"
     ]
    },
    {
     "data": {
      "application/vnd.jupyter.widget-view+json": {
       "model_id": "9dc124828459406d87abcc5429bedfdd",
       "version_major": 2,
       "version_minor": 0
      },
      "text/plain": [
       "Evaluation:   0%|          | 0/42 [00:00<?, ?it/s]"
      ]
     },
     "metadata": {},
     "output_type": "display_data"
    },
    {
     "name": "stdout",
     "output_type": "stream",
     "text": [
      "\n",
      "Evaluation Results:\n",
      "Overall Accuracy: {'overall_accuracy': 69.55223880597015, 'class_accuracies': [0, 75.35545023696683, 55.38461538461539, 77.77777777777777, 88.60759493670886, 34.375, 82.6086956521739, 75.29411764705883], 'confusion_matrix': [[0, 0, 0, 0, 0, 0, 0, 0], [0, 159, 5, 3, 22, 4, 11, 7], [0, 7, 108, 1, 31, 38, 9, 1], [0, 5, 0, 35, 1, 0, 1, 3], [0, 2, 0, 0, 70, 5, 1, 1], [0, 7, 3, 0, 6, 11, 3, 2], [0, 0, 0, 0, 3, 1, 19, 0], [0, 7, 0, 0, 3, 6, 5, 64]], 'class_names': ['.ipynb_checkpoints', 'Core deformation', 'Core displacement', 'Core split', 'Foreign Object Damage', 'No defect', 'Resin buildup', 'Splice gap']}%\n"
     ]
    },
    {
     "data": {
      "application/vnd.jupyter.widget-view+json": {
       "model_id": "",
       "version_major": 2,
       "version_minor": 0
      },
      "text/plain": [
       "Epoch 19:   0%|          | 0/168 [00:00<?, ?it/s]"
      ]
     },
     "metadata": {},
     "output_type": "display_data"
    },
    {
     "name": "stdout",
     "output_type": "stream",
     "text": [
      "Epoch 19/100 - Loss: 0.2034, Accuracy: 94.96%\n"
     ]
    },
    {
     "data": {
      "application/vnd.jupyter.widget-view+json": {
       "model_id": "81f0c2b4b179472ea1346a5d864dfaa9",
       "version_major": 2,
       "version_minor": 0
      },
      "text/plain": [
       "Evaluation:   0%|          | 0/42 [00:00<?, ?it/s]"
      ]
     },
     "metadata": {},
     "output_type": "display_data"
    },
    {
     "name": "stdout",
     "output_type": "stream",
     "text": [
      "\n",
      "Evaluation Results:\n",
      "Overall Accuracy: {'overall_accuracy': 79.55223880597015, 'class_accuracies': [0, 80.56872037914692, 84.61538461538461, 82.22222222222223, 75.9493670886076, 43.75, 65.21739130434783, 84.70588235294117], 'confusion_matrix': [[0, 0, 0, 0, 0, 0, 0, 0], [0, 170, 4, 10, 13, 3, 2, 9], [0, 12, 165, 1, 9, 6, 1, 1], [0, 4, 1, 37, 1, 1, 0, 1], [0, 7, 5, 1, 60, 3, 2, 1], [0, 7, 6, 0, 2, 14, 0, 3], [0, 0, 2, 2, 3, 0, 15, 1], [0, 6, 1, 0, 1, 5, 0, 72]], 'class_names': ['.ipynb_checkpoints', 'Core deformation', 'Core displacement', 'Core split', 'Foreign Object Damage', 'No defect', 'Resin buildup', 'Splice gap']}%\n"
     ]
    },
    {
     "data": {
      "application/vnd.jupyter.widget-view+json": {
       "model_id": "",
       "version_major": 2,
       "version_minor": 0
      },
      "text/plain": [
       "Epoch 20:   0%|          | 0/168 [00:00<?, ?it/s]"
      ]
     },
     "metadata": {},
     "output_type": "display_data"
    },
    {
     "name": "stdout",
     "output_type": "stream",
     "text": [
      "Epoch 20/100 - Loss: 0.2063, Accuracy: 94.48%\n"
     ]
    },
    {
     "data": {
      "application/vnd.jupyter.widget-view+json": {
       "model_id": "d602b507ab0b4b2490a24d5870653978",
       "version_major": 2,
       "version_minor": 0
      },
      "text/plain": [
       "Evaluation:   0%|          | 0/42 [00:00<?, ?it/s]"
      ]
     },
     "metadata": {},
     "output_type": "display_data"
    },
    {
     "name": "stdout",
     "output_type": "stream",
     "text": [
      "\n",
      "Evaluation Results:\n",
      "Overall Accuracy: {'overall_accuracy': 69.1044776119403, 'class_accuracies': [0, 52.60663507109005, 83.07692307692308, 93.33333333333333, 75.9493670886076, 37.5, 69.56521739130434, 70.58823529411765], 'confusion_matrix': [[0, 0, 0, 0, 0, 0, 0, 0], [0, 111, 21, 17, 30, 11, 15, 6], [0, 4, 162, 0, 14, 9, 5, 1], [0, 0, 1, 42, 0, 1, 1, 0], [0, 2, 5, 7, 60, 4, 0, 1], [0, 4, 8, 1, 2, 12, 3, 2], [0, 0, 1, 2, 2, 1, 16, 1], [0, 2, 7, 3, 6, 5, 2, 60]], 'class_names': ['.ipynb_checkpoints', 'Core deformation', 'Core displacement', 'Core split', 'Foreign Object Damage', 'No defect', 'Resin buildup', 'Splice gap']}%\n"
     ]
    },
    {
     "data": {
      "application/vnd.jupyter.widget-view+json": {
       "model_id": "",
       "version_major": 2,
       "version_minor": 0
      },
      "text/plain": [
       "Epoch 21:   0%|          | 0/168 [00:00<?, ?it/s]"
      ]
     },
     "metadata": {},
     "output_type": "display_data"
    },
    {
     "name": "stdout",
     "output_type": "stream",
     "text": [
      "Epoch 21/100 - Loss: 0.1993, Accuracy: 94.66%\n"
     ]
    },
    {
     "data": {
      "application/vnd.jupyter.widget-view+json": {
       "model_id": "e1f71a2364584496b39521779686d60e",
       "version_major": 2,
       "version_minor": 0
      },
      "text/plain": [
       "Evaluation:   0%|          | 0/42 [00:00<?, ?it/s]"
      ]
     },
     "metadata": {},
     "output_type": "display_data"
    },
    {
     "name": "stdout",
     "output_type": "stream",
     "text": [
      "\n",
      "Evaluation Results:\n",
      "Overall Accuracy: {'overall_accuracy': 72.68656716417911, 'class_accuracies': [0, 69.66824644549763, 73.33333333333333, 82.22222222222223, 86.07594936708861, 43.75, 56.52173913043478, 76.47058823529412], 'confusion_matrix': [[0, 0, 0, 0, 0, 0, 0, 0], [0, 147, 2, 21, 28, 2, 4, 7], [0, 11, 143, 2, 34, 2, 2, 1], [0, 1, 2, 37, 0, 0, 2, 3], [0, 2, 3, 1, 68, 2, 2, 1], [0, 8, 3, 0, 4, 14, 2, 1], [0, 1, 1, 1, 6, 0, 13, 1], [0, 5, 3, 1, 6, 4, 1, 65]], 'class_names': ['.ipynb_checkpoints', 'Core deformation', 'Core displacement', 'Core split', 'Foreign Object Damage', 'No defect', 'Resin buildup', 'Splice gap']}%\n"
     ]
    },
    {
     "data": {
      "application/vnd.jupyter.widget-view+json": {
       "model_id": "099fad90e1b24f2d9a728bfb961bb8e0",
       "version_major": 2,
       "version_minor": 0
      },
      "text/plain": [
       "Epoch 22:   0%|          | 0/168 [00:00<?, ?it/s]"
      ]
     },
     "metadata": {},
     "output_type": "display_data"
    },
    {
     "ename": "KeyboardInterrupt",
     "evalue": "",
     "output_type": "error",
     "traceback": [
      "\u001b[0;31m---------------------------------------------------------------------------\u001b[0m",
      "\u001b[0;31mKeyboardInterrupt\u001b[0m                         Traceback (most recent call last)",
      "Cell \u001b[0;32mIn[2], line 1\u001b[0m\n\u001b[0;32m----> 1\u001b[0m model, eval_results\u001b[38;5;241m=\u001b[39m fine_tune_model(\u001b[38;5;124m'\u001b[39m\u001b[38;5;124mdataset_final\u001b[39m\u001b[38;5;124m'\u001b[39m, num_epochs\u001b[38;5;241m=\u001b[39m\u001b[38;5;241m100\u001b[39m,batch_size\u001b[38;5;241m=\u001b[39m\u001b[38;5;241m16\u001b[39m)\n",
      "Cell \u001b[0;32mIn[1], line 220\u001b[0m, in \u001b[0;36mfine_tune_model\u001b[0;34m(dataset_path, batch_size, num_epochs, learning_rate, test_size)\u001b[0m\n\u001b[1;32m    218\u001b[0m \u001b[38;5;66;03m# Mixed precision forward pass\u001b[39;00m\n\u001b[1;32m    219\u001b[0m \u001b[38;5;28;01mwith\u001b[39;00m amp\u001b[38;5;241m.\u001b[39mautocast(enabled\u001b[38;5;241m=\u001b[39m\u001b[38;5;28;01mTrue\u001b[39;00m):\n\u001b[0;32m--> 220\u001b[0m     outputs \u001b[38;5;241m=\u001b[39m model(inputs)\n\u001b[1;32m    221\u001b[0m     loss \u001b[38;5;241m=\u001b[39m criterion(outputs, labels)\n\u001b[1;32m    223\u001b[0m \u001b[38;5;66;03m# Backward pass\u001b[39;00m\n",
      "File \u001b[0;32m/opt/conda/lib/python3.11/site-packages/torch/nn/modules/module.py:1736\u001b[0m, in \u001b[0;36mModule._wrapped_call_impl\u001b[0;34m(self, *args, **kwargs)\u001b[0m\n\u001b[1;32m   1734\u001b[0m     \u001b[38;5;28;01mreturn\u001b[39;00m \u001b[38;5;28mself\u001b[39m\u001b[38;5;241m.\u001b[39m_compiled_call_impl(\u001b[38;5;241m*\u001b[39margs, \u001b[38;5;241m*\u001b[39m\u001b[38;5;241m*\u001b[39mkwargs)  \u001b[38;5;66;03m# type: ignore[misc]\u001b[39;00m\n\u001b[1;32m   1735\u001b[0m \u001b[38;5;28;01melse\u001b[39;00m:\n\u001b[0;32m-> 1736\u001b[0m     \u001b[38;5;28;01mreturn\u001b[39;00m \u001b[38;5;28mself\u001b[39m\u001b[38;5;241m.\u001b[39m_call_impl(\u001b[38;5;241m*\u001b[39margs, \u001b[38;5;241m*\u001b[39m\u001b[38;5;241m*\u001b[39mkwargs)\n",
      "File \u001b[0;32m/opt/conda/lib/python3.11/site-packages/torch/nn/modules/module.py:1747\u001b[0m, in \u001b[0;36mModule._call_impl\u001b[0;34m(self, *args, **kwargs)\u001b[0m\n\u001b[1;32m   1742\u001b[0m \u001b[38;5;66;03m# If we don't have any hooks, we want to skip the rest of the logic in\u001b[39;00m\n\u001b[1;32m   1743\u001b[0m \u001b[38;5;66;03m# this function, and just call forward.\u001b[39;00m\n\u001b[1;32m   1744\u001b[0m \u001b[38;5;28;01mif\u001b[39;00m \u001b[38;5;129;01mnot\u001b[39;00m (\u001b[38;5;28mself\u001b[39m\u001b[38;5;241m.\u001b[39m_backward_hooks \u001b[38;5;129;01mor\u001b[39;00m \u001b[38;5;28mself\u001b[39m\u001b[38;5;241m.\u001b[39m_backward_pre_hooks \u001b[38;5;129;01mor\u001b[39;00m \u001b[38;5;28mself\u001b[39m\u001b[38;5;241m.\u001b[39m_forward_hooks \u001b[38;5;129;01mor\u001b[39;00m \u001b[38;5;28mself\u001b[39m\u001b[38;5;241m.\u001b[39m_forward_pre_hooks\n\u001b[1;32m   1745\u001b[0m         \u001b[38;5;129;01mor\u001b[39;00m _global_backward_pre_hooks \u001b[38;5;129;01mor\u001b[39;00m _global_backward_hooks\n\u001b[1;32m   1746\u001b[0m         \u001b[38;5;129;01mor\u001b[39;00m _global_forward_hooks \u001b[38;5;129;01mor\u001b[39;00m _global_forward_pre_hooks):\n\u001b[0;32m-> 1747\u001b[0m     \u001b[38;5;28;01mreturn\u001b[39;00m forward_call(\u001b[38;5;241m*\u001b[39margs, \u001b[38;5;241m*\u001b[39m\u001b[38;5;241m*\u001b[39mkwargs)\n\u001b[1;32m   1749\u001b[0m result \u001b[38;5;241m=\u001b[39m \u001b[38;5;28;01mNone\u001b[39;00m\n\u001b[1;32m   1750\u001b[0m called_always_called_hooks \u001b[38;5;241m=\u001b[39m \u001b[38;5;28mset\u001b[39m()\n",
      "File \u001b[0;32m/opt/conda/lib/python3.11/site-packages/torch/nn/parallel/data_parallel.py:192\u001b[0m, in \u001b[0;36mDataParallel.forward\u001b[0;34m(self, *inputs, **kwargs)\u001b[0m\n\u001b[1;32m    190\u001b[0m \u001b[38;5;28;01mif\u001b[39;00m \u001b[38;5;28mlen\u001b[39m(\u001b[38;5;28mself\u001b[39m\u001b[38;5;241m.\u001b[39mdevice_ids) \u001b[38;5;241m==\u001b[39m \u001b[38;5;241m1\u001b[39m:\n\u001b[1;32m    191\u001b[0m     \u001b[38;5;28;01mreturn\u001b[39;00m \u001b[38;5;28mself\u001b[39m\u001b[38;5;241m.\u001b[39mmodule(\u001b[38;5;241m*\u001b[39minputs[\u001b[38;5;241m0\u001b[39m], \u001b[38;5;241m*\u001b[39m\u001b[38;5;241m*\u001b[39mmodule_kwargs[\u001b[38;5;241m0\u001b[39m])\n\u001b[0;32m--> 192\u001b[0m replicas \u001b[38;5;241m=\u001b[39m \u001b[38;5;28mself\u001b[39m\u001b[38;5;241m.\u001b[39mreplicate(\u001b[38;5;28mself\u001b[39m\u001b[38;5;241m.\u001b[39mmodule, \u001b[38;5;28mself\u001b[39m\u001b[38;5;241m.\u001b[39mdevice_ids[: \u001b[38;5;28mlen\u001b[39m(inputs)])\n\u001b[1;32m    193\u001b[0m outputs \u001b[38;5;241m=\u001b[39m \u001b[38;5;28mself\u001b[39m\u001b[38;5;241m.\u001b[39mparallel_apply(replicas, inputs, module_kwargs)\n\u001b[1;32m    194\u001b[0m \u001b[38;5;28;01mreturn\u001b[39;00m \u001b[38;5;28mself\u001b[39m\u001b[38;5;241m.\u001b[39mgather(outputs, \u001b[38;5;28mself\u001b[39m\u001b[38;5;241m.\u001b[39moutput_device)\n",
      "File \u001b[0;32m/opt/conda/lib/python3.11/site-packages/torch/nn/parallel/data_parallel.py:199\u001b[0m, in \u001b[0;36mDataParallel.replicate\u001b[0;34m(self, module, device_ids)\u001b[0m\n\u001b[1;32m    196\u001b[0m \u001b[38;5;28;01mdef\u001b[39;00m \u001b[38;5;21mreplicate\u001b[39m(\n\u001b[1;32m    197\u001b[0m     \u001b[38;5;28mself\u001b[39m, module: T, device_ids: Sequence[Union[\u001b[38;5;28mint\u001b[39m, torch\u001b[38;5;241m.\u001b[39mdevice]]\n\u001b[1;32m    198\u001b[0m ) \u001b[38;5;241m-\u001b[39m\u001b[38;5;241m>\u001b[39m List[T]:\n\u001b[0;32m--> 199\u001b[0m     \u001b[38;5;28;01mreturn\u001b[39;00m replicate(module, device_ids, \u001b[38;5;129;01mnot\u001b[39;00m torch\u001b[38;5;241m.\u001b[39mis_grad_enabled())\n",
      "File \u001b[0;32m/opt/conda/lib/python3.11/site-packages/torch/nn/parallel/replicate.py:160\u001b[0m, in \u001b[0;36mreplicate\u001b[0;34m(network, devices, detach)\u001b[0m\n\u001b[1;32m    158\u001b[0m module_indices[module] \u001b[38;5;241m=\u001b[39m i\n\u001b[1;32m    159\u001b[0m \u001b[38;5;28;01mfor\u001b[39;00m j \u001b[38;5;129;01min\u001b[39;00m \u001b[38;5;28mrange\u001b[39m(num_replicas):\n\u001b[0;32m--> 160\u001b[0m     replica \u001b[38;5;241m=\u001b[39m module\u001b[38;5;241m.\u001b[39m_replicate_for_data_parallel()\n\u001b[1;32m    161\u001b[0m     \u001b[38;5;66;03m# This is a temporary fix for DDP. DDP needs to access the\u001b[39;00m\n\u001b[1;32m    162\u001b[0m     \u001b[38;5;66;03m# replicated model parameters. It used to do so through\u001b[39;00m\n\u001b[1;32m    163\u001b[0m     \u001b[38;5;66;03m# `mode.parameters()`. The fix added in #33907 for DP stops the\u001b[39;00m\n\u001b[1;32m    164\u001b[0m     \u001b[38;5;66;03m# `parameters()` API from exposing the replicated parameters.\u001b[39;00m\n\u001b[1;32m    165\u001b[0m     \u001b[38;5;66;03m# Hence, we add a `_former_parameters` dict here to support DDP.\u001b[39;00m\n\u001b[1;32m    166\u001b[0m     replica\u001b[38;5;241m.\u001b[39m_former_parameters \u001b[38;5;241m=\u001b[39m OrderedDict()\n",
      "File \u001b[0;32m/opt/conda/lib/python3.11/site-packages/torch/nn/modules/module.py:2981\u001b[0m, in \u001b[0;36mModule._replicate_for_data_parallel\u001b[0;34m(self)\u001b[0m\n\u001b[1;32m   2979\u001b[0m replica\u001b[38;5;241m.\u001b[39m_buffers \u001b[38;5;241m=\u001b[39m replica\u001b[38;5;241m.\u001b[39m_buffers\u001b[38;5;241m.\u001b[39mcopy()\n\u001b[1;32m   2980\u001b[0m replica\u001b[38;5;241m.\u001b[39m_modules \u001b[38;5;241m=\u001b[39m replica\u001b[38;5;241m.\u001b[39m_modules\u001b[38;5;241m.\u001b[39mcopy()\n\u001b[0;32m-> 2981\u001b[0m replica\u001b[38;5;241m.\u001b[39m_is_replica \u001b[38;5;241m=\u001b[39m \u001b[38;5;28;01mTrue\u001b[39;00m  \u001b[38;5;66;03m# type: ignore[assignment]\u001b[39;00m\n\u001b[1;32m   2983\u001b[0m \u001b[38;5;28;01mreturn\u001b[39;00m replica\n",
      "File \u001b[0;32m/opt/conda/lib/python3.11/site-packages/torch/nn/modules/module.py:2032\u001b[0m, in \u001b[0;36mModule.__setattr__\u001b[0;34m(self, name, value)\u001b[0m\n\u001b[1;32m   2029\u001b[0m             \u001b[38;5;28mself\u001b[39m\u001b[38;5;241m.\u001b[39mregister_buffer(name, value)\n\u001b[1;32m   2030\u001b[0m     \u001b[38;5;66;03m# === HACK END ===\u001b[39;00m\n\u001b[1;32m   2031\u001b[0m \u001b[38;5;28;01melse\u001b[39;00m:\n\u001b[0;32m-> 2032\u001b[0m     \u001b[38;5;28msuper\u001b[39m()\u001b[38;5;241m.\u001b[39m\u001b[38;5;21m__setattr__\u001b[39m(name, value)\n",
      "\u001b[0;31mKeyboardInterrupt\u001b[0m: "
     ]
    }
   ],
   "source": [
    "model, eval_results= fine_tune_model('dataset_final', num_epochs=100,batch_size=16)\n"
   ]
  },
  {
   "cell_type": "code",
   "execution_count": null,
   "id": "fd701307",
   "metadata": {},
   "outputs": [],
   "source": []
  }
 ],
 "metadata": {
  "kernelspec": {
   "display_name": "Python 3 (ipykernel)",
   "language": "python",
   "name": "python3"
  },
  "language_info": {
   "codemirror_mode": {
    "name": "ipython",
    "version": 3
   },
   "file_extension": ".py",
   "mimetype": "text/x-python",
   "name": "python",
   "nbconvert_exporter": "python",
   "pygments_lexer": "ipython3",
   "version": "3.11.5"
  }
 },
 "nbformat": 4,
 "nbformat_minor": 5
}
